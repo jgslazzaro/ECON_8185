{
 "cells": [
  {
   "cell_type": "markdown",
   "metadata": {},
   "source": [
    "## Homework 1 - Joao Lazzaro"
   ]
  },
  {
   "cell_type": "markdown",
   "metadata": {},
   "source": [
    "Incomplete version of this homework."
   ]
  },
  {
   "cell_type": "markdown",
   "metadata": {},
   "source": [
    "## Question 1"
   ]
  },
  {
   "cell_type": "markdown",
   "metadata": {},
   "source": [
    "Dividing equations 1 - 4 by $z(s^t)^{-\\frac{1}{1-\\alpha}}$. Note that $\\theta(s^t)(1-n(s^t)) = v(s^t)n(s^t)$. we get:"
   ]
  },
  {
   "cell_type": "markdown",
   "metadata": {},
   "source": [
    "1) $$ 1 = \\beta \\sum_{s^{t+1}|s^t} \\pi(s_{t+1}|s^t)  \\frac{\\tilde{c}(s^t)}{\\tilde{c}(s^{t+1})} e^{-\\frac{s_{t+1}}{1-\\alpha}}\\left[ \\alpha  \\left(\\frac{\\tilde{k}(s^{t+1})}{n(s^{t+1})-\\theta(s^{t+1})(1-n(s^{t+1}))}\\right)^{\\alpha-1} +1-\\delta \\right]   $$"
   ]
  },
  {
   "cell_type": "markdown",
   "metadata": {},
   "source": [
    "2)$$ (1-\\alpha) \\left( \\frac{\\tilde{k}(s^{t+1})}{n(s^{t+1})-\\theta(s^{t+1})(1-n(s^{t+1}))} \\right)^\\alpha = \\beta \\mu (\\theta(s^t)) \\sum_{s^{t+1}|s^t} \\pi(s_{t+1}|s^t) \\frac{\\tilde{c}(s^t)}{\\tilde{c}(s^{t+1})} \\left( (1-\\alpha) \\left( \\frac{\\tilde{k}(s^{t+1})}{n(s^{t+1})-\\theta(s^{t+1})(1-n(s^{t+1}))} \\right)^\\alpha \\left(1+ \\frac{1-x}{\\mu(\\theta(s^{t+1}))}\\right) - \\tilde{w}(s^{t+1})\\right)$$"
   ]
  },
  {
   "cell_type": "markdown",
   "metadata": {},
   "source": [
    "3) $$(1-\\tau)\\tilde{w}(s^{t+1}) = (1-\\phi) \\gamma \\tilde{c}(s^{t+1}) + \\phi(1-\\tau)(1-\\alpha)   \\left( \\frac{\\tilde{k}(s^{t+1})}{n(s^{t+1})-\\theta(s^{t+1})(1-n(s^{t+1}))} \\right)^\\alpha \\left(1+\\theta(s^{t+1})\\right) $$"
   ]
  },
  {
   "cell_type": "markdown",
   "metadata": {},
   "source": [
    "4) $$ \\tilde{k}(s^{t+1}) = e^{ - \\frac{{s}_{t+1}}{1-\\alpha}} \\left( \\tilde{k}(s^t)^\\alpha \\left(n(s^t) - \\theta(s^t) (1-n(s^t))\\right) ^{1-\\alpha} +(1-\\delta) \\tilde{k} (s^t) - \\tilde{c}(s^t) \\right)$$\n",
    "\n",
    "$$ n(s^{t+1}) =(1-x) n(s^t) +f(\\theta(s^t))(1-n(s^t)) $$"
   ]
  },
  {
   "cell_type": "markdown",
   "metadata": {},
   "source": [
    "Eliminate $\\tilde{w}(s^{t+1})$ between 2) and 3) above:"
   ]
  },
  {
   "cell_type": "markdown",
   "metadata": {},
   "source": [
    "5) $$ (1-\\alpha)  \\left( \\frac{\\tilde{k}(s^{t+1})}{n(s^{t+1})-\\theta(s^{t+1})(1-n(s^{t+1}))} \\right)^\\alpha = \\beta \\mu (\\theta(s^t)) \\sum_{s^{t+1}|s^t} \\pi(s_{t+1}|s^t) \\frac{\\tilde{c}(s^t)}{\\tilde{c}(s^{t+1})}\\left( - \\frac{(1-\\phi) \\gamma \\tilde{c}(s^{t+1}}{1-\\tau} + (1-\\alpha)   \\left( \\frac{\\tilde{k}(s^{t+1})}{n(s^{t+1})-\\theta(s^{t+1})(1-n(s^{t+1}))} \\right)^\\alpha \\left( \\frac{1-x}{\\mu(\\theta(s^{t+1}))} +1-\\phi -\\phi\\theta(s^{t+1})\\right)\\right) $$"
   ]
  },
  {
   "cell_type": "markdown",
   "metadata": {},
   "source": [
    "For notational simplicity, denote: $\\tilde{c}(k,n,s_t):=C$ and $\\tilde{\\theta}(k,n,s):=\\Theta$. Note, that $s_{t+1}$, $n(s^{t+1})$ and $\\tilde{k}(s^{t+1})$ also depend on $(k,n,s_t)$. Substituting 4) into 5) and 1), we get a system with two nonlinear functional equations that define $C$ and $\\Theta$. "
   ]
  },
  {
   "cell_type": "markdown",
   "metadata": {},
   "source": [
    "## Question 2"
   ]
  },
  {
   "cell_type": "markdown",
   "metadata": {},
   "source": [
    "Let's first define some parameters:"
   ]
  },
  {
   "cell_type": "code",
   "execution_count": 16,
   "metadata": {},
   "outputs": [
    {
     "data": {
      "text/plain": [
       "μ (generic function with 1 method)"
      ]
     },
     "execution_count": 16,
     "metadata": {},
     "output_type": "execute_result"
    }
   ],
   "source": [
    "#Parameters\n",
    "β = 0.996              #Discount Rate\n",
    "sbar = 0.0012          #Mean productivity growth\n",
    "τ = 0.4                #Tax Rate\n",
    "x = 0.034              #Employment exit Probability\n",
    "f(θ) = 2.32.*θ.^(1/2)  #Matching Function\n",
    "φ = 0.5                #Worker's bargaining power\n",
    "γ = 0.471              #Disutility of Work\n",
    "α = 0.33               #Capital Share\n",
    "δ = 0.0028             #Depreciation\n",
    "ρ = 0.4                #Autocorrelation of productivity\n",
    "ζ = 0.005              #Standard Deviation of productivity\n",
    "μ(θ) = f(θ)/θ          #Hiring rate per Vacancy\n"
   ]
  },
  {
   "cell_type": "code",
   "execution_count": 24,
   "metadata": {},
   "outputs": [],
   "source": [
    "using ForwardDiff\n",
    "using NLsolve\n",
    "using Plots\n",
    "using LinearAlgebra"
   ]
  },
  {
   "cell_type": "markdown",
   "metadata": {},
   "source": [
    "First we need to find the non stochastic Steady State values when $s =\\bar{s}$ :"
   ]
  },
  {
   "cell_type": "code",
   "execution_count": 25,
   "metadata": {},
   "outputs": [
    {
     "data": {
      "text/plain": [
       "4-element Array{Float64,1}:\n",
       "   0.07739526792809631\n",
       "   4.695685605432835  \n",
       " 218.23975824614226   \n",
       "   0.9499576197305419 "
      ]
     },
     "execution_count": 25,
     "metadata": {},
     "output_type": "execute_result"
    }
   ],
   "source": [
    "function SS!(eq, U)\n",
    "    Θ = U[1]\n",
    "    C = U[2]\n",
    "    k = U[3]\n",
    "    n = U[4]\n",
    "    #Capital law of Motion\n",
    "    eq[1] = k*exp(sbar/(1-α)) - ((k)^α * (n-Θ*(1-n))^(1-α) + (1-δ)*k - C)\n",
    "    #Employment law of motion\n",
    "    eq[2] = n - ((1-x)*n+f(Θ)*(1-n))\n",
    "    #Equation 5\n",
    "    eq[3] = (1-α)*(k/(n-Θ*(1-n)))^α +\n",
    "    - β *μ(Θ)*((-(1-φ)*γ*C/(1-τ))+ (1-α)*(k/(n-Θ*(1-n)))^α *((1-x)/μ(Θ) +1-φ-φ*Θ) )\n",
    "    #Equation 1\n",
    "    eq[4] = 1 - exp(-sbar/(1-α))*(β * (α*(k/(n-Θ*(1-n)))^(α-1)+1-δ))\n",
    "end\n",
    "\n",
    "#Newton, nonlinear Solver\n",
    "SS = nlsolve(SS!, [0.07,4.7,218,0.95],ftol = :1.0e-9, method = :trust_region , autoscale = true)\n",
    "Θss,Css,kss,nss = SS.zero\n"
   ]
  },
  {
   "cell_type": "markdown",
   "metadata": {},
   "source": [
    "I got steady state values similar to Shimer's findings, as you may see above. From now on, we drop the tilde, and all variables, except $n$ should be interpreted as tilde variables. Now we proceed by guessing the functional form of of the log linear approximation of $\\theta(s,n,k)$ and $C(s,n,k)$:\n",
    "$$log \\theta = log \\bar{\\theta} +\\theta_s s+\\theta_n(log n - log\\bar{n})+\\theta_k(log k- log\\bar{k})$$\n",
    "$$log c = log \\bar{c} +c_s s+c_n(log n - log\\bar{n})+c_k(log k- log\\bar{k})$$"
   ]
  },
  {
   "cell_type": "code",
   "execution_count": 26,
   "metadata": {},
   "outputs": [
    {
     "data": {
      "text/plain": [
       "Sdeterministic (generic function with 1 method)"
      ]
     },
     "execution_count": 26,
     "metadata": {},
     "output_type": "execute_result"
    }
   ],
   "source": [
    "#Consumption function:\n",
    "\n",
    "function C(s,n,k,sbar,nss,kss,Css,Cn,Cs,Ck)\n",
    "    C=exp(log(Css)+Cs*(s-sbar)+ Cn*(log(n)-log(nss))+Ck*(log(k)-log(kss)))\n",
    "    return C\n",
    "end\n",
    "# Θ Function\n",
    "function Θ(s,n,k,sbar,nss,kss,Θss,Θn,Θs,Θk)\n",
    "    Θ=exp(log(Θss)+Θs*(s-sbar)+ Θn*(log(n)-log(nss))+Θk*(log(k)-log(kss)))\n",
    "    return Θ\n",
    "end\n",
    "function Sdeterministic(s,ρ,sbar)\n",
    "    s1 = (1-ρ)*sbar +ρ*s\n",
    "    return s1\n",
    "end"
   ]
  },
  {
   "cell_type": "markdown",
   "metadata": {},
   "source": [
    "\n",
    "Now Shimer tells me that to find the parameters above, we need to plug the functional guesses and then take derivatives of the two nonlinears equations above, with respect to $(s,n,k)$. Then, setting these derivatives equal $0$, we have 6 unknowns: $(c_s,c_k,c_n,\\theta_s,\\theta_k,\\theta_n)$ and also 6 equations. I don't understand why this method should work. I get similar coefficients as shimer except for $(\\theta_s,c_s)$, but they are close enough for now. I need to figure out what is wrong here."
   ]
  },
  {
   "cell_type": "code",
   "execution_count": 27,
   "metadata": {},
   "outputs": [
    {
     "data": {
      "text/plain": [
       "6-element Array{Float64,1}:\n",
       "  0.013670884853672313\n",
       "  0.3811303084453805  \n",
       "  0.6031821969754172  \n",
       " -0.48359572461319883 \n",
       "  1.5496616233492992  \n",
       " -2.783213443890464   "
      ]
     },
     "execution_count": 27,
     "metadata": {},
     "output_type": "execute_result"
    }
   ],
   "source": [
    "\n",
    "#SHimer's method to find a Log-Linear approximation. Let T(k,n,s)=0 be the equilibrium equations\n",
    "#Then, plugging:\n",
    "# ln(θ)-ln(θss) = θs(s-bars)+θk(ln(k)-ln(kss))+θn(ln(n)-ln(nss))\n",
    "# ln(c)-ln(css) = cs(s-bars)+ck(ln(k)-ln(kss))+cn(ln(n)-ln(nss))\n",
    "#Into T and setting its derivatives to zero, we should get a system of equations that\n",
    "#determines the coefficients.\n",
    "#vector is a vector with [s,n,k,sbar,nss,kss,Css,Θss,Cn,Cs,Ck,Θn,Θs,Θk]\n",
    "\n",
    "function shimerT1(vector::Vector)\n",
    "    s,n,k,sbar,nss,kss,Css,Θss,Cn,Cs,Ck,Θn,Θs,Θk = vector\n",
    "    c=C(s,n,k,sbar,nss,kss,Css,Cn,Cs,Ck)\n",
    "    θ=Θ(s,n,k,sbar,nss,kss,Θss,Θn,Θs,Θk)\n",
    "    s1 = Sdeterministic(s,ρ,sbar)\n",
    "    k1 = exp(-s1/(1-α)) * ((k)^α * (n-θ*(1-n))^(1-α) + (1-δ)*k - c)\n",
    "    n1 = (1-x)*n+f(θ)*(1-n)\n",
    "    c1=C(s1,n1,k1,sbar,nss,kss,Css,Cn,Cs,Ck)\n",
    "    θ1 = Θ(s1,n1,k1,sbar,nss,kss,Θss,Θn,Θs,Θk)\n",
    "\n",
    "    eq = β* c/c1 * exp(-s1/(1-α)) *(α  *(k1/(n1-θ1*(1-n1)))^(α-1)+1-δ) - 1\n",
    "\n",
    "    return eq\n",
    "end\n",
    "\n",
    "\n",
    "function shimerT2(vector::Vector)\n",
    "    s,n,k,sbar,nss,kss,Css,Θss,Cn,Cs,Ck,Θn,Θs,Θk = vector\n",
    "    c=C(s,n,k,sbar,nss,kss,Css,Cn,Cs,Ck)\n",
    "    θ=Θ(s,n,k,sbar,nss,kss,Θss,Θn,Θs,Θk)\n",
    "    s1 = Sdeterministic(s,ρ,sbar)\n",
    "    k1 = exp(-s1/(1-α)) * ((k)^α * (n-θ*(1-n))^(1-α) + (1-δ)*k - c)\n",
    "    n1 = (1-x)*n+f(θ)*(1-n)\n",
    "    c1=C(s1,n1,k1,sbar,nss,kss,Css,Cn,Cs,Ck)\n",
    "    θ1 = Θ(s1,n1,k1,sbar,nss,kss,Θss,Θn,Θs,Θk)\n",
    "\n",
    "\n",
    "    eq = -(1-α)*(k/(n-θ*(1-n)))^α + β* μ(θ) * (c/c1) *(-(1-φ)*γ*c1/(1-τ) + (1-α) *(k1/(n1-θ1*(1-n1)))^α *((1-x)/μ(θ1)+1-φ-φ*θ1))\n",
    "\n",
    "    return eq\n",
    "end\n",
    "\n",
    "#coefs is a vector of unknown coefficients\n",
    "function loglin!(T,coefs::Vector)\n",
    "    Cn,Cs,Ck,Θn,Θs,Θk = coefs\n",
    "\n",
    "    T[1:3]=ForwardDiff.gradient(shimerT1,[sbar,nss,kss,sbar,nss,kss,Css,Θss,Cn,Cs,Ck,Θn,Θs,Θk])[1:3]\n",
    "    T[4:6]=ForwardDiff.gradient(shimerT2,[sbar,nss,kss,sbar,nss,kss,Css,Θss,Cn,Cs,Ck,Θn,Θs,Θk])[1:3]\n",
    "end\n",
    "\n",
    "coefs = nlsolve(loglin!, [0.929703, 0.014, 0.776461, 0.754842, 7.38, 0.962334],ftol = :1.0e-9, method = :trust_region , autoscale = true)\n",
    "\n",
    "Cn,Cs,Ck,Θn,Θs,Θk = coefs.zero"
   ]
  },
  {
   "cell_type": "markdown",
   "metadata": {},
   "source": [
    "To find the log linearized equations for $n_{t+1}$ and $k_{t+1}$, I follow Judd's method. If we know a solution $f(x_{ss},y_{ss})=0$ then: $lnx-lnx_ss=-\\frac{y_{ss} f_y(x_{ss},y_{ss})}{x_{ss} f_x(x_{ss},y_{ss})}(\\ln y-\\ln y_{ss})$"
   ]
  },
  {
   "cell_type": "code",
   "execution_count": 28,
   "metadata": {},
   "outputs": [
    {
     "data": {
      "text/plain": [
       "3-element Array{Float64,1}:\n",
       "  0.01863102500766796\n",
       "  0.9912600663665346 \n",
       " -0.6060383041489869 "
      ]
     },
     "execution_count": 28,
     "metadata": {},
     "output_type": "execute_result"
    }
   ],
   "source": [
    "\n",
    "    function findK(vector::Vector)\n",
    "        k1,s,n,k,sbar,nss,kss,Css,Θss,Cn,Cs,Ck,Θn,Θs,Θk = vector\n",
    "        c=C(s,n,k,sbar,nss,kss,Css,Cn,Cs,Ck)\n",
    "        θ=Θ(s,n,k,sbar,nss,kss,Θss,Θn,Θs,Θk)\n",
    "        s1 = (1-ρ)*sbar +ρ*s\n",
    "        eq = k1 - exp(-s1/(1-α)) * ((k)^α * (n-θ*(1-n))^(1-α) + (1-δ)*k - c)\n",
    "        return eq\n",
    "    end\n",
    "\n",
    "T=ForwardDiff.gradient(findK,[kss,sbar,nss,kss,sbar,nss,kss,Css,Θss,Cn,Cs,Ck,Θn,Θs,Θk])[1:4]\n",
    "\n",
    "kn, kk,ks= [-nss*T[3]/(kss*T[1]), -kss*T[4]/(kss*T[1]),-exp(sbar)*T[2]/(kss*T[1])]\n"
   ]
  },
  {
   "cell_type": "code",
   "execution_count": 29,
   "metadata": {},
   "outputs": [
    {
     "data": {
      "text/plain": [
       "3-element Array{Float64,1}:\n",
       "  0.3123547562309458  \n",
       " -0.04731462854565038 \n",
       "  0.026375879669230336"
      ]
     },
     "execution_count": 29,
     "metadata": {},
     "output_type": "execute_result"
    }
   ],
   "source": [
    "\n",
    "function findn(vector::Vector)\n",
    "    n1,s,n,k,sbar,nss,kss,Css,Θss,Cn,Cs,Ck,Θn,Θs,Θk = vector\n",
    "    θ=Θ(s,n,k,sbar,nss,kss,Θss,Θn,Θs,Θk)\n",
    "\n",
    "    eq = n1 -( (1-x)*n+f(θ)*(1-n))\n",
    "    return eq\n",
    "end\n",
    "\n",
    "T=ForwardDiff.gradient(findn,[nss,sbar,nss,kss,sbar,nss,kss,Css,Θss,Cn,Cs,Ck,Θn,Θs,Θk])[1:4]\n",
    "nn,nk,ns= [-nss*T[3]/(nss*T[1]),-kss*T[4]/(nss*T[1]),-exp(sbar)*T[2]/(nss*T[1])]\n",
    "\n"
   ]
  },
  {
   "cell_type": "markdown",
   "metadata": {},
   "source": [
    "Once again, the coefficients are fairly close. Summarizing:\n",
    "\n",
    "$$\\ln c_{t+1} = \\ln 4.704 + 0.603 (\\ln s_t -\\ln\\bar{s}) + 0.014 (\\ln n_t-\\ln n_{ss})  + 0.381(\\ln k_t - \\ln k_{ss})$$\n",
    "\n",
    "$$\\ln \\theta_{t+1} = \\ln 0.078 + 1.55(\\ln s_t -\\ln \\bar{s}) - 0.484 (\\ln n_t-\\ln n_{ss})- 2.782(\\ln k_t - \\ln k_{ss})$$\n",
    "\n",
    "$$\\ln n_{t+1} = \\ln 0.95 + 0.026 (\\ln s_t -\\ln \\bar{s}) + 0.312 (\\ln n_t-\\ln n_{ss})  - 0.047(\\ln k_t - \\ln k_{ss})$$\n",
    "\n",
    "\n",
    "$$\\ln k_{t+1} = \\ln 218.2 -0.606 (\\ln s_t -\\ln\\bar{s}) + 0.019 (\\ln n_t-\\ln n_{ss})  +0.991(\\ln k_t - \\ln k_{ss})$$\n"
   ]
  },
  {
   "cell_type": "markdown",
   "metadata": {},
   "source": [
    "Let $A=\\begin{bmatrix}\n",
    "        \\rho       & 0 & 0  \\\\\n",
    "    ns       & nn & nk \\\\\n",
    "    ks       & kn & kk\n",
    "\\end{bmatrix}$ , $D= \\begin{bmatrix}\n",
    "        \\zeta \\\\\n",
    "        0 \\\\\n",
    "        0\n",
    "\\end{bmatrix}$ and $m= \\begin{bmatrix}\n",
    "        s-\\bar{s}\\\\\n",
    "        \\ln n-\\ln n_{ss}\\\\\n",
    "        \\ln k-\\ln k_{ss}\n",
    "        \\end{bmatrix}$. Then, $m_{t+1} = Am_t +Dv_{t+1}$"
   ]
  },
  {
   "cell_type": "code",
   "execution_count": 30,
   "metadata": {},
   "outputs": [
    {
     "data": {
      "text/plain": [
       "3-element Array{Float64,1}:\n",
       " 0.9899591302133607\n",
       " 0.3136556923841197\n",
       " 0.4               "
      ]
     },
     "execution_count": 30,
     "metadata": {},
     "output_type": "execute_result"
    }
   ],
   "source": [
    "using LinearAlgebra\n",
    "D= [ζ; 0; 0]\n",
    "A=[ρ 0 0;\n",
    "ns nn nk;\n",
    "ks kn kk]\n",
    "\n",
    "eigvals(A)\n",
    "\n"
   ]
  },
  {
   "cell_type": "markdown",
   "metadata": {},
   "source": [
    "Note that the system is stable!"
   ]
  },
  {
   "cell_type": "markdown",
   "metadata": {},
   "source": [
    " The unconditional variance and covariance of the state variables is given by: $\\Sigma = A\\Sigma A' +DD'$\n",
    " \n"
   ]
  },
  {
   "cell_type": "code",
   "execution_count": 31,
   "metadata": {},
   "outputs": [],
   "source": [
    "Σ = ones(3,3)\n",
    "d=10\n",
    "while d>10^(-15)\n",
    "    global sigma, d\n",
    "    Σ1 = A*Σ*A' + D*D'\n",
    "    d = maximum(abs.(Σ-Σ1))\n",
    "    Σ=Σ1\n",
    "end"
   ]
  },
  {
   "cell_type": "code",
   "execution_count": 32,
   "metadata": {},
   "outputs": [
    {
     "data": {
      "text/plain": [
       "3×3 Array{Float64,2}:\n",
       "  1.19048     0.0246892  -0.477892\n",
       "  0.0246892   0.243179   -3.50646 \n",
       " -0.477892   -3.50646    50.6468  "
      ]
     },
     "execution_count": 32,
     "metadata": {},
     "output_type": "execute_result"
    }
   ],
   "source": [
    "Σ*ζ^(-2)"
   ]
  },
  {
   "cell_type": "code",
   "execution_count": 33,
   "metadata": {},
   "outputs": [
    {
     "data": {
      "text/plain": [
       "1.232829459689949e-5"
      ]
     },
     "execution_count": 33,
     "metadata": {},
     "output_type": "execute_result"
    }
   ],
   "source": [
    "Σ[2,2]^(1/2)*ζ"
   ]
  },
  {
   "cell_type": "markdown",
   "metadata": {},
   "source": [
    "## Question 3"
   ]
  },
  {
   "cell_type": "markdown",
   "metadata": {},
   "source": [
    "Let's find the IRFs. I'm still figuring it out how. Blanchard Kahn seems the way, but I don't know how to do it properly. Let $m_t=[s_t-\\bar{s},\\ln n_t-\\ln n_{ss},\\ln k_t-\\ln k_{ss}]$\n",
    "The idea is to find the eigenvalues of the matrix $A$ above. The Schur decomposition and gives $A=ZTZ'$. Since $A$ is fully stable $T$ has all the eigenvalues we will work here, otherwise we would need to check if they respect the BK conditions. \n",
    "\n",
    "We should be able to get $m_{t+1}$ by doing:\n",
    "$$e_{t}=Z^{-1}m_t$$\n",
    "$$e_{t+1} = Te_t$$\n"
   ]
  },
  {
   "cell_type": "code",
   "execution_count": 34,
   "metadata": {},
   "outputs": [
    {
     "data": {
      "image/svg+xml": [
       "<?xml version=\"1.0\" encoding=\"utf-8\"?>\n",
       "<svg xmlns=\"http://www.w3.org/2000/svg\" xmlns:xlink=\"http://www.w3.org/1999/xlink\" width=\"600\" height=\"400\" viewBox=\"0 0 2400 1600\">\n",
       "<defs>\n",
       "  <clipPath id=\"clip4100\">\n",
       "    <rect x=\"0\" y=\"0\" width=\"2000\" height=\"2000\"/>\n",
       "  </clipPath>\n",
       "</defs>\n",
       "<defs>\n",
       "  <clipPath id=\"clip4101\">\n",
       "    <rect x=\"0\" y=\"0\" width=\"2400\" height=\"1600\"/>\n",
       "  </clipPath>\n",
       "</defs>\n",
       "<polygon clip-path=\"url(#clip4101)\" points=\"\n",
       "0,1600 2400,1600 2400,0 0,0 \n",
       "  \" fill=\"#ffffff\" fill-opacity=\"1\"/>\n",
       "<defs>\n",
       "  <clipPath id=\"clip4102\">\n",
       "    <rect x=\"480\" y=\"0\" width=\"1681\" height=\"1600\"/>\n",
       "  </clipPath>\n",
       "</defs>\n",
       "<polygon clip-path=\"url(#clip4101)\" points=\"\n",
       "161.394,1503.47 2321.26,1503.47 2321.26,47.2441 161.394,47.2441 \n",
       "  \" fill=\"#ffffff\" fill-opacity=\"1\"/>\n",
       "<defs>\n",
       "  <clipPath id=\"clip4103\">\n",
       "    <rect x=\"161\" y=\"47\" width=\"2161\" height=\"1457\"/>\n",
       "  </clipPath>\n",
       "</defs>\n",
       "<polyline clip-path=\"url(#clip4103)\" style=\"stroke:#000000; stroke-width:2; stroke-opacity:0.1; fill:none\" points=\"\n",
       "  205.4,1503.47 205.4,47.2441 \n",
       "  \"/>\n",
       "<polyline clip-path=\"url(#clip4103)\" style=\"stroke:#000000; stroke-width:2; stroke-opacity:0.1; fill:none\" points=\"\n",
       "  633.469,1503.47 633.469,47.2441 \n",
       "  \"/>\n",
       "<polyline clip-path=\"url(#clip4103)\" style=\"stroke:#000000; stroke-width:2; stroke-opacity:0.1; fill:none\" points=\"\n",
       "  1061.54,1503.47 1061.54,47.2441 \n",
       "  \"/>\n",
       "<polyline clip-path=\"url(#clip4103)\" style=\"stroke:#000000; stroke-width:2; stroke-opacity:0.1; fill:none\" points=\"\n",
       "  1489.61,1503.47 1489.61,47.2441 \n",
       "  \"/>\n",
       "<polyline clip-path=\"url(#clip4103)\" style=\"stroke:#000000; stroke-width:2; stroke-opacity:0.1; fill:none\" points=\"\n",
       "  1917.68,1503.47 1917.68,47.2441 \n",
       "  \"/>\n",
       "<polyline clip-path=\"url(#clip4103)\" style=\"stroke:#000000; stroke-width:2; stroke-opacity:0.1; fill:none\" points=\"\n",
       "  161.394,1462.26 2321.26,1462.26 \n",
       "  \"/>\n",
       "<polyline clip-path=\"url(#clip4103)\" style=\"stroke:#000000; stroke-width:2; stroke-opacity:0.1; fill:none\" points=\"\n",
       "  161.394,1210.44 2321.26,1210.44 \n",
       "  \"/>\n",
       "<polyline clip-path=\"url(#clip4103)\" style=\"stroke:#000000; stroke-width:2; stroke-opacity:0.1; fill:none\" points=\"\n",
       "  161.394,958.616 2321.26,958.616 \n",
       "  \"/>\n",
       "<polyline clip-path=\"url(#clip4103)\" style=\"stroke:#000000; stroke-width:2; stroke-opacity:0.1; fill:none\" points=\"\n",
       "  161.394,706.794 2321.26,706.794 \n",
       "  \"/>\n",
       "<polyline clip-path=\"url(#clip4103)\" style=\"stroke:#000000; stroke-width:2; stroke-opacity:0.1; fill:none\" points=\"\n",
       "  161.394,454.972 2321.26,454.972 \n",
       "  \"/>\n",
       "<polyline clip-path=\"url(#clip4103)\" style=\"stroke:#000000; stroke-width:2; stroke-opacity:0.1; fill:none\" points=\"\n",
       "  161.394,203.15 2321.26,203.15 \n",
       "  \"/>\n",
       "<polyline clip-path=\"url(#clip4101)\" style=\"stroke:#000000; stroke-width:4; stroke-opacity:1; fill:none\" points=\"\n",
       "  161.394,1503.47 2321.26,1503.47 \n",
       "  \"/>\n",
       "<polyline clip-path=\"url(#clip4101)\" style=\"stroke:#000000; stroke-width:4; stroke-opacity:1; fill:none\" points=\"\n",
       "  161.394,1503.47 161.394,47.2441 \n",
       "  \"/>\n",
       "<polyline clip-path=\"url(#clip4101)\" style=\"stroke:#000000; stroke-width:4; stroke-opacity:1; fill:none\" points=\"\n",
       "  205.4,1503.47 205.4,1481.63 \n",
       "  \"/>\n",
       "<polyline clip-path=\"url(#clip4101)\" style=\"stroke:#000000; stroke-width:4; stroke-opacity:1; fill:none\" points=\"\n",
       "  633.469,1503.47 633.469,1481.63 \n",
       "  \"/>\n",
       "<polyline clip-path=\"url(#clip4101)\" style=\"stroke:#000000; stroke-width:4; stroke-opacity:1; fill:none\" points=\"\n",
       "  1061.54,1503.47 1061.54,1481.63 \n",
       "  \"/>\n",
       "<polyline clip-path=\"url(#clip4101)\" style=\"stroke:#000000; stroke-width:4; stroke-opacity:1; fill:none\" points=\"\n",
       "  1489.61,1503.47 1489.61,1481.63 \n",
       "  \"/>\n",
       "<polyline clip-path=\"url(#clip4101)\" style=\"stroke:#000000; stroke-width:4; stroke-opacity:1; fill:none\" points=\"\n",
       "  1917.68,1503.47 1917.68,1481.63 \n",
       "  \"/>\n",
       "<polyline clip-path=\"url(#clip4101)\" style=\"stroke:#000000; stroke-width:4; stroke-opacity:1; fill:none\" points=\"\n",
       "  161.394,1462.26 193.792,1462.26 \n",
       "  \"/>\n",
       "<polyline clip-path=\"url(#clip4101)\" style=\"stroke:#000000; stroke-width:4; stroke-opacity:1; fill:none\" points=\"\n",
       "  161.394,1210.44 193.792,1210.44 \n",
       "  \"/>\n",
       "<polyline clip-path=\"url(#clip4101)\" style=\"stroke:#000000; stroke-width:4; stroke-opacity:1; fill:none\" points=\"\n",
       "  161.394,958.616 193.792,958.616 \n",
       "  \"/>\n",
       "<polyline clip-path=\"url(#clip4101)\" style=\"stroke:#000000; stroke-width:4; stroke-opacity:1; fill:none\" points=\"\n",
       "  161.394,706.794 193.792,706.794 \n",
       "  \"/>\n",
       "<polyline clip-path=\"url(#clip4101)\" style=\"stroke:#000000; stroke-width:4; stroke-opacity:1; fill:none\" points=\"\n",
       "  161.394,454.972 193.792,454.972 \n",
       "  \"/>\n",
       "<polyline clip-path=\"url(#clip4101)\" style=\"stroke:#000000; stroke-width:4; stroke-opacity:1; fill:none\" points=\"\n",
       "  161.394,203.15 193.792,203.15 \n",
       "  \"/>\n",
       "<g clip-path=\"url(#clip4101)\">\n",
       "<text style=\"fill:#000000; fill-opacity:1; font-family:Arial,Helvetica Neue,Helvetica,sans-serif; font-size:48px; text-anchor:middle;\" transform=\"rotate(0, 205.4, 1557.47)\" x=\"205.4\" y=\"1557.47\">0</text>\n",
       "</g>\n",
       "<g clip-path=\"url(#clip4101)\">\n",
       "<text style=\"fill:#000000; fill-opacity:1; font-family:Arial,Helvetica Neue,Helvetica,sans-serif; font-size:48px; text-anchor:middle;\" transform=\"rotate(0, 633.469, 1557.47)\" x=\"633.469\" y=\"1557.47\">25</text>\n",
       "</g>\n",
       "<g clip-path=\"url(#clip4101)\">\n",
       "<text style=\"fill:#000000; fill-opacity:1; font-family:Arial,Helvetica Neue,Helvetica,sans-serif; font-size:48px; text-anchor:middle;\" transform=\"rotate(0, 1061.54, 1557.47)\" x=\"1061.54\" y=\"1557.47\">50</text>\n",
       "</g>\n",
       "<g clip-path=\"url(#clip4101)\">\n",
       "<text style=\"fill:#000000; fill-opacity:1; font-family:Arial,Helvetica Neue,Helvetica,sans-serif; font-size:48px; text-anchor:middle;\" transform=\"rotate(0, 1489.61, 1557.47)\" x=\"1489.61\" y=\"1557.47\">75</text>\n",
       "</g>\n",
       "<g clip-path=\"url(#clip4101)\">\n",
       "<text style=\"fill:#000000; fill-opacity:1; font-family:Arial,Helvetica Neue,Helvetica,sans-serif; font-size:48px; text-anchor:middle;\" transform=\"rotate(0, 1917.68, 1557.47)\" x=\"1917.68\" y=\"1557.47\">100</text>\n",
       "</g>\n",
       "<g clip-path=\"url(#clip4101)\">\n",
       "<text style=\"fill:#000000; fill-opacity:1; font-family:Arial,Helvetica Neue,Helvetica,sans-serif; font-size:48px; text-anchor:end;\" transform=\"rotate(0, 137.394, 1479.76)\" x=\"137.394\" y=\"1479.76\">0.0</text>\n",
       "</g>\n",
       "<g clip-path=\"url(#clip4101)\">\n",
       "<text style=\"fill:#000000; fill-opacity:1; font-family:Arial,Helvetica Neue,Helvetica,sans-serif; font-size:48px; text-anchor:end;\" transform=\"rotate(0, 137.394, 1227.94)\" x=\"137.394\" y=\"1227.94\">0.1</text>\n",
       "</g>\n",
       "<g clip-path=\"url(#clip4101)\">\n",
       "<text style=\"fill:#000000; fill-opacity:1; font-family:Arial,Helvetica Neue,Helvetica,sans-serif; font-size:48px; text-anchor:end;\" transform=\"rotate(0, 137.394, 976.116)\" x=\"137.394\" y=\"976.116\">0.2</text>\n",
       "</g>\n",
       "<g clip-path=\"url(#clip4101)\">\n",
       "<text style=\"fill:#000000; fill-opacity:1; font-family:Arial,Helvetica Neue,Helvetica,sans-serif; font-size:48px; text-anchor:end;\" transform=\"rotate(0, 137.394, 724.294)\" x=\"137.394\" y=\"724.294\">0.3</text>\n",
       "</g>\n",
       "<g clip-path=\"url(#clip4101)\">\n",
       "<text style=\"fill:#000000; fill-opacity:1; font-family:Arial,Helvetica Neue,Helvetica,sans-serif; font-size:48px; text-anchor:end;\" transform=\"rotate(0, 137.394, 472.472)\" x=\"137.394\" y=\"472.472\">0.4</text>\n",
       "</g>\n",
       "<g clip-path=\"url(#clip4101)\">\n",
       "<text style=\"fill:#000000; fill-opacity:1; font-family:Arial,Helvetica Neue,Helvetica,sans-serif; font-size:48px; text-anchor:end;\" transform=\"rotate(0, 137.394, 220.65)\" x=\"137.394\" y=\"220.65\">0.5</text>\n",
       "</g>\n",
       "<polyline clip-path=\"url(#clip4103)\" style=\"stroke:#009af9; stroke-width:4; stroke-opacity:1; fill:none\" points=\"\n",
       "  222.522,88.4582 239.645,912.74 256.768,1242.45 273.891,1374.34 291.013,1427.09 308.136,1448.19 325.259,1456.63 342.382,1460.01 359.504,1461.36 376.627,1461.9 \n",
       "  393.75,1462.12 410.873,1462.2 427.996,1462.24 445.118,1462.25 462.241,1462.26 479.364,1462.26 496.487,1462.26 513.609,1462.26 530.732,1462.26 547.855,1462.26 \n",
       "  564.978,1462.26 582.1,1462.26 599.223,1462.26 616.346,1462.26 633.469,1462.26 650.591,1462.26 667.714,1462.26 684.837,1462.26 701.96,1462.26 719.083,1462.26 \n",
       "  736.205,1462.26 753.328,1462.26 770.451,1462.26 787.574,1462.26 804.696,1462.26 821.819,1462.26 838.942,1462.26 856.065,1462.26 873.187,1462.26 890.31,1462.26 \n",
       "  907.433,1462.26 924.556,1462.26 941.679,1462.26 958.801,1462.26 975.924,1462.26 993.047,1462.26 1010.17,1462.26 1027.29,1462.26 1044.42,1462.26 1061.54,1462.26 \n",
       "  1078.66,1462.26 1095.78,1462.26 1112.91,1462.26 1130.03,1462.26 1147.15,1462.26 1164.27,1462.26 1181.4,1462.26 1198.52,1462.26 1215.64,1462.26 1232.77,1462.26 \n",
       "  1249.89,1462.26 1267.01,1462.26 1284.13,1462.26 1301.26,1462.26 1318.38,1462.26 1335.5,1462.26 1352.62,1462.26 1369.75,1462.26 1386.87,1462.26 1403.99,1462.26 \n",
       "  1421.12,1462.26 1438.24,1462.26 1455.36,1462.26 1472.48,1462.26 1489.61,1462.26 1506.73,1462.26 1523.85,1462.26 1540.98,1462.26 1558.1,1462.26 1575.22,1462.26 \n",
       "  1592.34,1462.26 1609.47,1462.26 1626.59,1462.26 1643.71,1462.26 1660.83,1462.26 1677.96,1462.26 1695.08,1462.26 1712.2,1462.26 1729.33,1462.26 1746.45,1462.26 \n",
       "  1763.57,1462.26 1780.69,1462.26 1797.82,1462.26 1814.94,1462.26 1832.06,1462.26 1849.19,1462.26 1866.31,1462.26 1883.43,1462.26 1900.55,1462.26 1917.68,1462.26 \n",
       "  1934.8,1462.26 1951.92,1462.26 1969.04,1462.26 1986.17,1462.26 2003.29,1462.26 2020.41,1462.26 2037.54,1462.26 2054.66,1462.26 2071.78,1462.26 2088.9,1462.26 \n",
       "  2106.03,1462.26 2123.15,1462.26 2140.27,1462.26 2157.39,1462.26 2174.52,1462.26 2191.64,1462.26 2208.76,1462.26 2225.89,1462.26 2243.01,1462.26 2260.13,1462.26 \n",
       "  \n",
       "  \"/>\n",
       "<polygon clip-path=\"url(#clip4101)\" points=\"\n",
       "1958.43,251.724 2249.26,251.724 2249.26,130.764 1958.43,130.764 \n",
       "  \" fill=\"#ffffff\" fill-opacity=\"1\"/>\n",
       "<polyline clip-path=\"url(#clip4101)\" style=\"stroke:#000000; stroke-width:4; stroke-opacity:1; fill:none\" points=\"\n",
       "  1958.43,251.724 2249.26,251.724 2249.26,130.764 1958.43,130.764 1958.43,251.724 \n",
       "  \"/>\n",
       "<polyline clip-path=\"url(#clip4101)\" style=\"stroke:#009af9; stroke-width:4; stroke-opacity:1; fill:none\" points=\"\n",
       "  1982.43,191.244 2126.43,191.244 \n",
       "  \"/>\n",
       "<g clip-path=\"url(#clip4101)\">\n",
       "<text style=\"fill:#000000; fill-opacity:1; font-family:Arial,Helvetica Neue,Helvetica,sans-serif; font-size:48px; text-anchor:start;\" transform=\"rotate(0, 2150.43, 208.744)\" x=\"2150.43\" y=\"208.744\">y1</text>\n",
       "</g>\n",
       "</svg>\n"
      ]
     },
     "execution_count": 34,
     "metadata": {},
     "output_type": "execute_result"
    }
   ],
   "source": [
    "using Plots\n",
    "\n",
    "m(s,n,k)=[s-sbar,log(n)-log(nss),log(k)-log(kss)]\n",
    "chur=schur(A)\n",
    "\n",
    "T = chur.T\n",
    "Z=chur.Z\n",
    "\n",
    "E=zeros(3,120)\n",
    "M=ones(3,120).*m(sbar+ζ/(1-ρ^2)^(1/2),nss,kss)\n",
    "E[:,1]=inv(Z)*M[:,1]\n",
    "\n",
    "\n",
    "for t=2:120\n",
    "    E[:,t]=T*E[:,t-1]\n",
    "    M[:,t]=Z*E[:,t]\n",
    "end\n",
    "\n",
    "plot(M[1,:].*100)"
   ]
  },
  {
   "cell_type": "code",
   "execution_count": 35,
   "metadata": {},
   "outputs": [
    {
     "data": {
      "image/svg+xml": [
       "<?xml version=\"1.0\" encoding=\"utf-8\"?>\n",
       "<svg xmlns=\"http://www.w3.org/2000/svg\" xmlns:xlink=\"http://www.w3.org/1999/xlink\" width=\"600\" height=\"400\" viewBox=\"0 0 2400 1600\">\n",
       "<defs>\n",
       "  <clipPath id=\"clip4300\">\n",
       "    <rect x=\"0\" y=\"0\" width=\"2000\" height=\"2000\"/>\n",
       "  </clipPath>\n",
       "</defs>\n",
       "<defs>\n",
       "  <clipPath id=\"clip4301\">\n",
       "    <rect x=\"0\" y=\"0\" width=\"2400\" height=\"1600\"/>\n",
       "  </clipPath>\n",
       "</defs>\n",
       "<polygon clip-path=\"url(#clip4301)\" points=\"\n",
       "0,1600 2400,1600 2400,0 0,0 \n",
       "  \" fill=\"#ffffff\" fill-opacity=\"1\"/>\n",
       "<defs>\n",
       "  <clipPath id=\"clip4302\">\n",
       "    <rect x=\"480\" y=\"0\" width=\"1681\" height=\"1600\"/>\n",
       "  </clipPath>\n",
       "</defs>\n",
       "<polygon clip-path=\"url(#clip4301)\" points=\"\n",
       "188.156,1503.47 2321.26,1503.47 2321.26,47.2441 188.156,47.2441 \n",
       "  \" fill=\"#ffffff\" fill-opacity=\"1\"/>\n",
       "<defs>\n",
       "  <clipPath id=\"clip4303\">\n",
       "    <rect x=\"188\" y=\"47\" width=\"2134\" height=\"1457\"/>\n",
       "  </clipPath>\n",
       "</defs>\n",
       "<polyline clip-path=\"url(#clip4303)\" style=\"stroke:#000000; stroke-width:2; stroke-opacity:0.1; fill:none\" points=\"\n",
       "  231.617,1503.47 231.617,47.2441 \n",
       "  \"/>\n",
       "<polyline clip-path=\"url(#clip4303)\" style=\"stroke:#000000; stroke-width:2; stroke-opacity:0.1; fill:none\" points=\"\n",
       "  654.382,1503.47 654.382,47.2441 \n",
       "  \"/>\n",
       "<polyline clip-path=\"url(#clip4303)\" style=\"stroke:#000000; stroke-width:2; stroke-opacity:0.1; fill:none\" points=\"\n",
       "  1077.15,1503.47 1077.15,47.2441 \n",
       "  \"/>\n",
       "<polyline clip-path=\"url(#clip4303)\" style=\"stroke:#000000; stroke-width:2; stroke-opacity:0.1; fill:none\" points=\"\n",
       "  1499.91,1503.47 1499.91,47.2441 \n",
       "  \"/>\n",
       "<polyline clip-path=\"url(#clip4303)\" style=\"stroke:#000000; stroke-width:2; stroke-opacity:0.1; fill:none\" points=\"\n",
       "  1922.68,1503.47 1922.68,47.2441 \n",
       "  \"/>\n",
       "<polyline clip-path=\"url(#clip4303)\" style=\"stroke:#000000; stroke-width:2; stroke-opacity:0.1; fill:none\" points=\"\n",
       "  188.156,1462.26 2321.26,1462.26 \n",
       "  \"/>\n",
       "<polyline clip-path=\"url(#clip4303)\" style=\"stroke:#000000; stroke-width:2; stroke-opacity:0.1; fill:none\" points=\"\n",
       "  188.156,1084.65 2321.26,1084.65 \n",
       "  \"/>\n",
       "<polyline clip-path=\"url(#clip4303)\" style=\"stroke:#000000; stroke-width:2; stroke-opacity:0.1; fill:none\" points=\"\n",
       "  188.156,707.041 2321.26,707.041 \n",
       "  \"/>\n",
       "<polyline clip-path=\"url(#clip4303)\" style=\"stroke:#000000; stroke-width:2; stroke-opacity:0.1; fill:none\" points=\"\n",
       "  188.156,329.431 2321.26,329.431 \n",
       "  \"/>\n",
       "<polyline clip-path=\"url(#clip4301)\" style=\"stroke:#000000; stroke-width:4; stroke-opacity:1; fill:none\" points=\"\n",
       "  188.156,1503.47 2321.26,1503.47 \n",
       "  \"/>\n",
       "<polyline clip-path=\"url(#clip4301)\" style=\"stroke:#000000; stroke-width:4; stroke-opacity:1; fill:none\" points=\"\n",
       "  188.156,1503.47 188.156,47.2441 \n",
       "  \"/>\n",
       "<polyline clip-path=\"url(#clip4301)\" style=\"stroke:#000000; stroke-width:4; stroke-opacity:1; fill:none\" points=\"\n",
       "  231.617,1503.47 231.617,1481.63 \n",
       "  \"/>\n",
       "<polyline clip-path=\"url(#clip4301)\" style=\"stroke:#000000; stroke-width:4; stroke-opacity:1; fill:none\" points=\"\n",
       "  654.382,1503.47 654.382,1481.63 \n",
       "  \"/>\n",
       "<polyline clip-path=\"url(#clip4301)\" style=\"stroke:#000000; stroke-width:4; stroke-opacity:1; fill:none\" points=\"\n",
       "  1077.15,1503.47 1077.15,1481.63 \n",
       "  \"/>\n",
       "<polyline clip-path=\"url(#clip4301)\" style=\"stroke:#000000; stroke-width:4; stroke-opacity:1; fill:none\" points=\"\n",
       "  1499.91,1503.47 1499.91,1481.63 \n",
       "  \"/>\n",
       "<polyline clip-path=\"url(#clip4301)\" style=\"stroke:#000000; stroke-width:4; stroke-opacity:1; fill:none\" points=\"\n",
       "  1922.68,1503.47 1922.68,1481.63 \n",
       "  \"/>\n",
       "<polyline clip-path=\"url(#clip4301)\" style=\"stroke:#000000; stroke-width:4; stroke-opacity:1; fill:none\" points=\"\n",
       "  188.156,1462.26 220.153,1462.26 \n",
       "  \"/>\n",
       "<polyline clip-path=\"url(#clip4301)\" style=\"stroke:#000000; stroke-width:4; stroke-opacity:1; fill:none\" points=\"\n",
       "  188.156,1084.65 220.153,1084.65 \n",
       "  \"/>\n",
       "<polyline clip-path=\"url(#clip4301)\" style=\"stroke:#000000; stroke-width:4; stroke-opacity:1; fill:none\" points=\"\n",
       "  188.156,707.041 220.153,707.041 \n",
       "  \"/>\n",
       "<polyline clip-path=\"url(#clip4301)\" style=\"stroke:#000000; stroke-width:4; stroke-opacity:1; fill:none\" points=\"\n",
       "  188.156,329.431 220.153,329.431 \n",
       "  \"/>\n",
       "<g clip-path=\"url(#clip4301)\">\n",
       "<text style=\"fill:#000000; fill-opacity:1; font-family:Arial,Helvetica Neue,Helvetica,sans-serif; font-size:48px; text-anchor:middle;\" transform=\"rotate(0, 231.617, 1557.47)\" x=\"231.617\" y=\"1557.47\">0</text>\n",
       "</g>\n",
       "<g clip-path=\"url(#clip4301)\">\n",
       "<text style=\"fill:#000000; fill-opacity:1; font-family:Arial,Helvetica Neue,Helvetica,sans-serif; font-size:48px; text-anchor:middle;\" transform=\"rotate(0, 654.382, 1557.47)\" x=\"654.382\" y=\"1557.47\">25</text>\n",
       "</g>\n",
       "<g clip-path=\"url(#clip4301)\">\n",
       "<text style=\"fill:#000000; fill-opacity:1; font-family:Arial,Helvetica Neue,Helvetica,sans-serif; font-size:48px; text-anchor:middle;\" transform=\"rotate(0, 1077.15, 1557.47)\" x=\"1077.15\" y=\"1557.47\">50</text>\n",
       "</g>\n",
       "<g clip-path=\"url(#clip4301)\">\n",
       "<text style=\"fill:#000000; fill-opacity:1; font-family:Arial,Helvetica Neue,Helvetica,sans-serif; font-size:48px; text-anchor:middle;\" transform=\"rotate(0, 1499.91, 1557.47)\" x=\"1499.91\" y=\"1557.47\">75</text>\n",
       "</g>\n",
       "<g clip-path=\"url(#clip4301)\">\n",
       "<text style=\"fill:#000000; fill-opacity:1; font-family:Arial,Helvetica Neue,Helvetica,sans-serif; font-size:48px; text-anchor:middle;\" transform=\"rotate(0, 1922.68, 1557.47)\" x=\"1922.68\" y=\"1557.47\">100</text>\n",
       "</g>\n",
       "<g clip-path=\"url(#clip4301)\">\n",
       "<text style=\"fill:#000000; fill-opacity:1; font-family:Arial,Helvetica Neue,Helvetica,sans-serif; font-size:48px; text-anchor:end;\" transform=\"rotate(0, 164.156, 1479.76)\" x=\"164.156\" y=\"1479.76\">0.00</text>\n",
       "</g>\n",
       "<g clip-path=\"url(#clip4301)\">\n",
       "<text style=\"fill:#000000; fill-opacity:1; font-family:Arial,Helvetica Neue,Helvetica,sans-serif; font-size:48px; text-anchor:end;\" transform=\"rotate(0, 164.156, 1102.15)\" x=\"164.156\" y=\"1102.15\">0.01</text>\n",
       "</g>\n",
       "<g clip-path=\"url(#clip4301)\">\n",
       "<text style=\"fill:#000000; fill-opacity:1; font-family:Arial,Helvetica Neue,Helvetica,sans-serif; font-size:48px; text-anchor:end;\" transform=\"rotate(0, 164.156, 724.541)\" x=\"164.156\" y=\"724.541\">0.02</text>\n",
       "</g>\n",
       "<g clip-path=\"url(#clip4301)\">\n",
       "<text style=\"fill:#000000; fill-opacity:1; font-family:Arial,Helvetica Neue,Helvetica,sans-serif; font-size:48px; text-anchor:end;\" transform=\"rotate(0, 164.156, 346.931)\" x=\"164.156\" y=\"346.931\">0.03</text>\n",
       "</g>\n",
       "<polyline clip-path=\"url(#clip4303)\" style=\"stroke:#009af9; stroke-width:4; stroke-opacity:1; fill:none\" points=\"\n",
       "  248.527,1462.26 265.438,918.91 282.348,484.499 299.259,248.574 316.17,140.571 333.08,98.8995 349.991,88.4582 366.901,91.9245 383.812,101.341 400.723,113.202 \n",
       "  417.633,126.005 434.544,139.119 451.454,152.281 468.365,165.385 485.276,178.386 502.186,191.269 519.097,204.028 536.007,216.66 552.918,229.167 569.829,241.548 \n",
       "  586.739,253.805 603.65,265.939 620.56,277.951 637.471,289.842 654.382,301.614 671.292,313.268 688.203,324.805 705.114,336.226 722.024,347.532 738.935,358.725 \n",
       "  755.845,369.806 772.756,380.775 789.667,391.634 806.577,402.384 823.488,413.026 840.398,423.561 857.309,433.991 874.22,444.315 891.13,454.537 908.041,464.655 \n",
       "  924.951,474.672 941.862,484.588 958.773,494.405 975.683,504.123 992.594,513.743 1009.5,523.267 1026.41,532.696 1043.33,542.029 1060.24,551.269 1077.15,560.416 \n",
       "  1094.06,569.472 1110.97,578.436 1127.88,587.31 1144.79,596.096 1161.7,604.793 1178.61,613.402 1195.52,621.926 1212.43,630.363 1229.34,638.716 1246.25,646.985 \n",
       "  1263.16,655.172 1280.07,663.275 1296.98,671.298 1313.9,679.24 1330.81,687.102 1347.72,694.885 1364.63,702.59 1381.54,710.218 1398.45,717.769 1415.36,725.245 \n",
       "  1432.27,732.645 1449.18,739.971 1466.09,747.223 1483,754.403 1499.91,761.511 1516.82,768.547 1533.73,775.512 1550.64,782.408 1567.55,789.234 1584.46,795.992 \n",
       "  1601.38,802.682 1618.29,809.304 1635.2,815.861 1652.11,822.351 1669.02,828.776 1685.93,835.137 1702.84,841.434 1719.75,847.668 1736.66,853.839 1753.57,859.948 \n",
       "  1770.48,865.995 1787.39,871.982 1804.3,877.909 1821.21,883.777 1838.12,889.585 1855.03,895.335 1871.95,901.028 1888.86,906.663 1905.77,912.242 1922.68,917.764 \n",
       "  1939.59,923.232 1956.5,928.644 1973.41,934.002 1990.32,939.306 2007.23,944.557 2024.14,949.755 2041.05,954.901 2057.96,959.996 2074.87,965.039 2091.78,970.031 \n",
       "  2108.69,974.974 2125.6,979.867 2142.51,984.71 2159.43,989.505 2176.34,994.252 2193.25,998.951 2210.16,1003.6 2227.07,1008.21 2243.98,1012.77 2260.89,1017.28 \n",
       "  \n",
       "  \"/>\n",
       "<polygon clip-path=\"url(#clip4301)\" points=\"\n",
       "1958.43,251.724 2249.26,251.724 2249.26,130.764 1958.43,130.764 \n",
       "  \" fill=\"#ffffff\" fill-opacity=\"1\"/>\n",
       "<polyline clip-path=\"url(#clip4301)\" style=\"stroke:#000000; stroke-width:4; stroke-opacity:1; fill:none\" points=\"\n",
       "  1958.43,251.724 2249.26,251.724 2249.26,130.764 1958.43,130.764 1958.43,251.724 \n",
       "  \"/>\n",
       "<polyline clip-path=\"url(#clip4301)\" style=\"stroke:#009af9; stroke-width:4; stroke-opacity:1; fill:none\" points=\"\n",
       "  1982.43,191.244 2126.43,191.244 \n",
       "  \"/>\n",
       "<g clip-path=\"url(#clip4301)\">\n",
       "<text style=\"fill:#000000; fill-opacity:1; font-family:Arial,Helvetica Neue,Helvetica,sans-serif; font-size:48px; text-anchor:start;\" transform=\"rotate(0, 2150.43, 208.744)\" x=\"2150.43\" y=\"208.744\">y1</text>\n",
       "</g>\n",
       "</svg>\n"
      ]
     },
     "execution_count": 35,
     "metadata": {},
     "output_type": "execute_result"
    }
   ],
   "source": [
    "#labor\n",
    "plot(M[2,:].*100)"
   ]
  },
  {
   "cell_type": "code",
   "execution_count": 36,
   "metadata": {
    "scrolled": true
   },
   "outputs": [
    {
     "data": {
      "image/svg+xml": [
       "<?xml version=\"1.0\" encoding=\"utf-8\"?>\n",
       "<svg xmlns=\"http://www.w3.org/2000/svg\" xmlns:xlink=\"http://www.w3.org/1999/xlink\" width=\"600\" height=\"400\" viewBox=\"0 0 2400 1600\">\n",
       "<defs>\n",
       "  <clipPath id=\"clip4500\">\n",
       "    <rect x=\"0\" y=\"0\" width=\"2000\" height=\"2000\"/>\n",
       "  </clipPath>\n",
       "</defs>\n",
       "<defs>\n",
       "  <clipPath id=\"clip4501\">\n",
       "    <rect x=\"0\" y=\"0\" width=\"2400\" height=\"1600\"/>\n",
       "  </clipPath>\n",
       "</defs>\n",
       "<polygon clip-path=\"url(#clip4501)\" points=\"\n",
       "0,1600 2400,1600 2400,0 0,0 \n",
       "  \" fill=\"#ffffff\" fill-opacity=\"1\"/>\n",
       "<defs>\n",
       "  <clipPath id=\"clip4502\">\n",
       "    <rect x=\"480\" y=\"0\" width=\"1681\" height=\"1600\"/>\n",
       "  </clipPath>\n",
       "</defs>\n",
       "<polygon clip-path=\"url(#clip4501)\" points=\"\n",
       "189.504,1503.47 2321.26,1503.47 2321.26,47.2441 189.504,47.2441 \n",
       "  \" fill=\"#ffffff\" fill-opacity=\"1\"/>\n",
       "<defs>\n",
       "  <clipPath id=\"clip4503\">\n",
       "    <rect x=\"189\" y=\"47\" width=\"2133\" height=\"1457\"/>\n",
       "  </clipPath>\n",
       "</defs>\n",
       "<polyline clip-path=\"url(#clip4503)\" style=\"stroke:#000000; stroke-width:2; stroke-opacity:0.1; fill:none\" points=\"\n",
       "  232.937,1503.47 232.937,47.2441 \n",
       "  \"/>\n",
       "<polyline clip-path=\"url(#clip4503)\" style=\"stroke:#000000; stroke-width:2; stroke-opacity:0.1; fill:none\" points=\"\n",
       "  655.435,1503.47 655.435,47.2441 \n",
       "  \"/>\n",
       "<polyline clip-path=\"url(#clip4503)\" style=\"stroke:#000000; stroke-width:2; stroke-opacity:0.1; fill:none\" points=\"\n",
       "  1077.93,1503.47 1077.93,47.2441 \n",
       "  \"/>\n",
       "<polyline clip-path=\"url(#clip4503)\" style=\"stroke:#000000; stroke-width:2; stroke-opacity:0.1; fill:none\" points=\"\n",
       "  1500.43,1503.47 1500.43,47.2441 \n",
       "  \"/>\n",
       "<polyline clip-path=\"url(#clip4503)\" style=\"stroke:#000000; stroke-width:2; stroke-opacity:0.1; fill:none\" points=\"\n",
       "  1922.93,1503.47 1922.93,47.2441 \n",
       "  \"/>\n",
       "<polyline clip-path=\"url(#clip4503)\" style=\"stroke:#000000; stroke-width:2; stroke-opacity:0.1; fill:none\" points=\"\n",
       "  189.504,1390.74 2321.26,1390.74 \n",
       "  \"/>\n",
       "<polyline clip-path=\"url(#clip4503)\" style=\"stroke:#000000; stroke-width:2; stroke-opacity:0.1; fill:none\" points=\"\n",
       "  189.504,1130.28 2321.26,1130.28 \n",
       "  \"/>\n",
       "<polyline clip-path=\"url(#clip4503)\" style=\"stroke:#000000; stroke-width:2; stroke-opacity:0.1; fill:none\" points=\"\n",
       "  189.504,869.826 2321.26,869.826 \n",
       "  \"/>\n",
       "<polyline clip-path=\"url(#clip4503)\" style=\"stroke:#000000; stroke-width:2; stroke-opacity:0.1; fill:none\" points=\"\n",
       "  189.504,609.37 2321.26,609.37 \n",
       "  \"/>\n",
       "<polyline clip-path=\"url(#clip4503)\" style=\"stroke:#000000; stroke-width:2; stroke-opacity:0.1; fill:none\" points=\"\n",
       "  189.504,348.914 2321.26,348.914 \n",
       "  \"/>\n",
       "<polyline clip-path=\"url(#clip4503)\" style=\"stroke:#000000; stroke-width:2; stroke-opacity:0.1; fill:none\" points=\"\n",
       "  189.504,88.4582 2321.26,88.4582 \n",
       "  \"/>\n",
       "<polyline clip-path=\"url(#clip4501)\" style=\"stroke:#000000; stroke-width:4; stroke-opacity:1; fill:none\" points=\"\n",
       "  189.504,1503.47 2321.26,1503.47 \n",
       "  \"/>\n",
       "<polyline clip-path=\"url(#clip4501)\" style=\"stroke:#000000; stroke-width:4; stroke-opacity:1; fill:none\" points=\"\n",
       "  189.504,1503.47 189.504,47.2441 \n",
       "  \"/>\n",
       "<polyline clip-path=\"url(#clip4501)\" style=\"stroke:#000000; stroke-width:4; stroke-opacity:1; fill:none\" points=\"\n",
       "  232.937,1503.47 232.937,1481.63 \n",
       "  \"/>\n",
       "<polyline clip-path=\"url(#clip4501)\" style=\"stroke:#000000; stroke-width:4; stroke-opacity:1; fill:none\" points=\"\n",
       "  655.435,1503.47 655.435,1481.63 \n",
       "  \"/>\n",
       "<polyline clip-path=\"url(#clip4501)\" style=\"stroke:#000000; stroke-width:4; stroke-opacity:1; fill:none\" points=\"\n",
       "  1077.93,1503.47 1077.93,1481.63 \n",
       "  \"/>\n",
       "<polyline clip-path=\"url(#clip4501)\" style=\"stroke:#000000; stroke-width:4; stroke-opacity:1; fill:none\" points=\"\n",
       "  1500.43,1503.47 1500.43,1481.63 \n",
       "  \"/>\n",
       "<polyline clip-path=\"url(#clip4501)\" style=\"stroke:#000000; stroke-width:4; stroke-opacity:1; fill:none\" points=\"\n",
       "  1922.93,1503.47 1922.93,1481.63 \n",
       "  \"/>\n",
       "<polyline clip-path=\"url(#clip4501)\" style=\"stroke:#000000; stroke-width:4; stroke-opacity:1; fill:none\" points=\"\n",
       "  189.504,1390.74 221.48,1390.74 \n",
       "  \"/>\n",
       "<polyline clip-path=\"url(#clip4501)\" style=\"stroke:#000000; stroke-width:4; stroke-opacity:1; fill:none\" points=\"\n",
       "  189.504,1130.28 221.48,1130.28 \n",
       "  \"/>\n",
       "<polyline clip-path=\"url(#clip4501)\" style=\"stroke:#000000; stroke-width:4; stroke-opacity:1; fill:none\" points=\"\n",
       "  189.504,869.826 221.48,869.826 \n",
       "  \"/>\n",
       "<polyline clip-path=\"url(#clip4501)\" style=\"stroke:#000000; stroke-width:4; stroke-opacity:1; fill:none\" points=\"\n",
       "  189.504,609.37 221.48,609.37 \n",
       "  \"/>\n",
       "<polyline clip-path=\"url(#clip4501)\" style=\"stroke:#000000; stroke-width:4; stroke-opacity:1; fill:none\" points=\"\n",
       "  189.504,348.914 221.48,348.914 \n",
       "  \"/>\n",
       "<polyline clip-path=\"url(#clip4501)\" style=\"stroke:#000000; stroke-width:4; stroke-opacity:1; fill:none\" points=\"\n",
       "  189.504,88.4582 221.48,88.4582 \n",
       "  \"/>\n",
       "<g clip-path=\"url(#clip4501)\">\n",
       "<text style=\"fill:#000000; fill-opacity:1; font-family:Arial,Helvetica Neue,Helvetica,sans-serif; font-size:48px; text-anchor:middle;\" transform=\"rotate(0, 232.937, 1557.47)\" x=\"232.937\" y=\"1557.47\">0</text>\n",
       "</g>\n",
       "<g clip-path=\"url(#clip4501)\">\n",
       "<text style=\"fill:#000000; fill-opacity:1; font-family:Arial,Helvetica Neue,Helvetica,sans-serif; font-size:48px; text-anchor:middle;\" transform=\"rotate(0, 655.435, 1557.47)\" x=\"655.435\" y=\"1557.47\">25</text>\n",
       "</g>\n",
       "<g clip-path=\"url(#clip4501)\">\n",
       "<text style=\"fill:#000000; fill-opacity:1; font-family:Arial,Helvetica Neue,Helvetica,sans-serif; font-size:48px; text-anchor:middle;\" transform=\"rotate(0, 1077.93, 1557.47)\" x=\"1077.93\" y=\"1557.47\">50</text>\n",
       "</g>\n",
       "<g clip-path=\"url(#clip4501)\">\n",
       "<text style=\"fill:#000000; fill-opacity:1; font-family:Arial,Helvetica Neue,Helvetica,sans-serif; font-size:48px; text-anchor:middle;\" transform=\"rotate(0, 1500.43, 1557.47)\" x=\"1500.43\" y=\"1557.47\">75</text>\n",
       "</g>\n",
       "<g clip-path=\"url(#clip4501)\">\n",
       "<text style=\"fill:#000000; fill-opacity:1; font-family:Arial,Helvetica Neue,Helvetica,sans-serif; font-size:48px; text-anchor:middle;\" transform=\"rotate(0, 1922.93, 1557.47)\" x=\"1922.93\" y=\"1557.47\">100</text>\n",
       "</g>\n",
       "<g clip-path=\"url(#clip4501)\">\n",
       "<text style=\"fill:#000000; fill-opacity:1; font-family:Arial,Helvetica Neue,Helvetica,sans-serif; font-size:48px; text-anchor:end;\" transform=\"rotate(0, 165.504, 1408.24)\" x=\"165.504\" y=\"1408.24\">-0.5</text>\n",
       "</g>\n",
       "<g clip-path=\"url(#clip4501)\">\n",
       "<text style=\"fill:#000000; fill-opacity:1; font-family:Arial,Helvetica Neue,Helvetica,sans-serif; font-size:48px; text-anchor:end;\" transform=\"rotate(0, 165.504, 1147.78)\" x=\"165.504\" y=\"1147.78\">-0.4</text>\n",
       "</g>\n",
       "<g clip-path=\"url(#clip4501)\">\n",
       "<text style=\"fill:#000000; fill-opacity:1; font-family:Arial,Helvetica Neue,Helvetica,sans-serif; font-size:48px; text-anchor:end;\" transform=\"rotate(0, 165.504, 887.326)\" x=\"165.504\" y=\"887.326\">-0.3</text>\n",
       "</g>\n",
       "<g clip-path=\"url(#clip4501)\">\n",
       "<text style=\"fill:#000000; fill-opacity:1; font-family:Arial,Helvetica Neue,Helvetica,sans-serif; font-size:48px; text-anchor:end;\" transform=\"rotate(0, 165.504, 626.87)\" x=\"165.504\" y=\"626.87\">-0.2</text>\n",
       "</g>\n",
       "<g clip-path=\"url(#clip4501)\">\n",
       "<text style=\"fill:#000000; fill-opacity:1; font-family:Arial,Helvetica Neue,Helvetica,sans-serif; font-size:48px; text-anchor:end;\" transform=\"rotate(0, 165.504, 366.414)\" x=\"165.504\" y=\"366.414\">-0.1</text>\n",
       "</g>\n",
       "<g clip-path=\"url(#clip4501)\">\n",
       "<text style=\"fill:#000000; fill-opacity:1; font-family:Arial,Helvetica Neue,Helvetica,sans-serif; font-size:48px; text-anchor:end;\" transform=\"rotate(0, 165.504, 105.958)\" x=\"165.504\" y=\"105.958\">0.0</text>\n",
       "</g>\n",
       "<polyline clip-path=\"url(#clip4503)\" style=\"stroke:#009af9; stroke-width:4; stroke-opacity:1; fill:none\" points=\"\n",
       "  249.837,88.4582 266.737,949.58 283.637,1285.8 300.537,1411.86 317.437,1453.85 334.336,1462.26 351.236,1457.32 368.136,1447.12 385.036,1434.89 401.936,1421.94 \n",
       "  418.836,1408.78 435.736,1395.61 452.636,1382.52 469.536,1369.54 486.436,1356.69 503.336,1343.95 520.236,1331.35 537.135,1318.87 554.035,1306.52 570.935,1294.29 \n",
       "  587.835,1282.18 604.735,1270.19 621.635,1258.33 638.535,1246.58 655.435,1234.95 672.335,1223.44 689.235,1212.04 706.135,1200.76 723.035,1189.59 739.934,1178.54 \n",
       "  756.834,1167.59 773.734,1156.76 790.634,1146.03 807.534,1135.41 824.434,1124.9 841.334,1114.49 858.234,1104.19 875.134,1093.99 892.034,1083.89 908.934,1073.9 \n",
       "  925.834,1064 942.733,1054.21 959.633,1044.51 976.533,1034.91 993.433,1025.41 1010.33,1016 1027.23,1006.69 1044.13,997.468 1061.03,988.341 1077.93,979.305 \n",
       "  1094.83,970.36 1111.73,961.505 1128.63,952.739 1145.53,944.061 1162.43,935.47 1179.33,926.965 1196.23,918.546 1213.13,910.211 1230.03,901.96 1246.93,893.792 \n",
       "  1263.83,885.705 1280.73,877.7 1297.63,869.776 1314.53,861.931 1331.43,854.164 1348.33,846.476 1365.23,838.865 1382.13,831.33 1399.03,823.871 1415.93,816.487 \n",
       "  1432.83,809.177 1449.73,801.94 1466.63,794.776 1483.53,787.684 1500.43,780.663 1517.33,773.713 1534.23,766.832 1551.13,760.021 1568.03,753.278 1584.93,746.602 \n",
       "  1601.83,739.994 1618.73,733.452 1635.63,726.976 1652.53,720.565 1669.43,714.218 1686.33,707.934 1703.23,701.714 1720.13,695.557 1737.03,689.461 1753.93,683.426 \n",
       "  1770.83,677.452 1787.73,671.538 1804.63,665.684 1821.53,659.888 1838.43,654.15 1855.33,648.47 1872.23,642.847 1889.13,637.281 1906.03,631.77 1922.93,626.315 \n",
       "  1939.83,620.914 1956.73,615.568 1973.63,610.275 1990.53,605.036 2007.43,599.849 2024.33,594.714 2041.23,589.631 2058.13,584.598 2075.03,579.617 2091.93,574.685 \n",
       "  2108.83,569.803 2125.73,564.97 2142.63,560.185 2159.53,555.449 2176.43,550.76 2193.33,546.118 2210.23,541.523 2227.13,536.973 2244.03,532.47 2260.93,528.012 \n",
       "  \n",
       "  \"/>\n",
       "<polygon clip-path=\"url(#clip4501)\" points=\"\n",
       "1958.43,251.724 2249.26,251.724 2249.26,130.764 1958.43,130.764 \n",
       "  \" fill=\"#ffffff\" fill-opacity=\"1\"/>\n",
       "<polyline clip-path=\"url(#clip4501)\" style=\"stroke:#000000; stroke-width:4; stroke-opacity:1; fill:none\" points=\"\n",
       "  1958.43,251.724 2249.26,251.724 2249.26,130.764 1958.43,130.764 1958.43,251.724 \n",
       "  \"/>\n",
       "<polyline clip-path=\"url(#clip4501)\" style=\"stroke:#009af9; stroke-width:4; stroke-opacity:1; fill:none\" points=\"\n",
       "  1982.43,191.244 2126.43,191.244 \n",
       "  \"/>\n",
       "<g clip-path=\"url(#clip4501)\">\n",
       "<text style=\"fill:#000000; fill-opacity:1; font-family:Arial,Helvetica Neue,Helvetica,sans-serif; font-size:48px; text-anchor:start;\" transform=\"rotate(0, 2150.43, 208.744)\" x=\"2150.43\" y=\"208.744\">y1</text>\n",
       "</g>\n",
       "</svg>\n"
      ]
     },
     "execution_count": 36,
     "metadata": {},
     "output_type": "execute_result"
    }
   ],
   "source": [
    "#capital\n",
    "plot(M[3,:].*100)"
   ]
  }
 ],
 "metadata": {
  "kernelspec": {
   "display_name": "Julia 1.0.0",
   "language": "julia",
   "name": "julia-1.0"
  },
  "language_info": {
   "file_extension": ".jl",
   "mimetype": "application/julia",
   "name": "julia",
   "version": "1.0.0"
  }
 },
 "nbformat": 4,
 "nbformat_minor": 2
}
