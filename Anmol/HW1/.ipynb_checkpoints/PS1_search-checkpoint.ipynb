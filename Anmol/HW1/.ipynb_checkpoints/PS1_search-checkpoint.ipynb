{
 "cells": [
  {
   "cell_type": "markdown",
   "metadata": {},
   "source": [
    "# P Set 1: Babalievsky"
   ]
  },
  {
   "cell_type": "markdown",
   "metadata": {},
   "source": [
    "Here I include all the code and solutions to Professor Anmol Bhandari's first problem set for 8185 Section 4.\n",
    "\n",
    "The documentation for the nonlinear solver I used is [here](https://github.com/JuliaNLSolvers/NLsolve.jl), and the documentation for the calculus package I used is [here](https://github.com/JuliaMath/Calculus.jl).\n",
    "\n",
    "This problem set was written in Julia 1.0.1."
   ]
  },
  {
   "cell_type": "markdown",
   "metadata": {},
   "source": [
    "## Question 1"
   ]
  },
  {
   "cell_type": "markdown",
   "metadata": {},
   "source": [
    "To establish the existence of a balanced growth path, I closely follow the steps in Shimer.\n",
    "\n",
    "First, for convenience, I rewrite all the equations from the stochastic-trend model as they are given in Shimer's book:\n",
    "\n",
    "A.1 Euler: \n",
    "\n",
    "$$ 1=\\beta \\sum_{s^{t+1}|s^t} \\pi(s^{t+1}|s^t)\\frac{c(s^t)}{c(s^{t+1})}[\\alpha z(s^{t+1})(\\frac{k(s^{t+1})}{n(s^{t+1})(1-v(s^{t+1})})^{\\alpha-1}+1-\\delta]$$\n",
    "\n",
    "B.1 Recruiting/Producing Indifference Condition:\n",
    "\n",
    "$$ (1-\\alpha)(\\frac{k(s^t)}{n(s^t)-\\theta (s^t)(1-n(s^t))})^\\alpha= $$\n",
    "\n",
    "$$ \\beta\\mu(\\theta(s^t))\\sum_{s_{t+1}|s^t} \\pi(s_{t+1}|s_t)\\frac{c(s^t)}{c(s^{t+1})}[(1-\\alpha)z(s^{t+1})(\\frac{k(s^{t+1})}{n(s^{t+1})-\\theta (s^{t+1})(1-n(s^{t+1}))})^\\alpha (1+\\frac{1-x}{\\mu(\\theta(s^{t+1}))})-w(s^{t+1})] $$\n",
    "\n",
    "C.1 Nash Bargaining:\n",
    "\n",
    "$$ (1-\\tau)w(s^t)=\\phi[1+\\theta(s^t)](1-\\alpha)(1-\\tau)z(s^t)(\\frac{k(s^t)}{n(s^t)(1-v(s^t))})^\\alpha+(1-\\phi)\\gamma c(s^t)$$\n",
    "\n",
    "D.1 Resource Constraint and Law of Motion \n",
    "\n",
    "$$ k(s^{t+1})=(1-\\delta)k(s^t)+z(s^t)k(s^t)^\\alpha (n(s^t)(1-v(s^t)))^{1-\\alpha}-c(s^t)$$\n",
    "\n",
    "$$ n(s^{t+1})=(1-x)n(s^t)+f(\\theta(s^t))(1-n(s^t))$$\n",
    "\n",
    "E.1 Exogenous Processes\n",
    "\n",
    "$$ \\log z(s^{t+1})=\\log z(s^t)+s_{t+1}$$\n",
    "\n",
    "$$s_{t+1}=(1-\\rho)\\bar s+\\rho s_t+\\zeta \\nu_{t+1}$$\n",
    "\n",
    "\n",
    "The following equivalences will be useful to simplify terms.\n",
    "\n",
    "For $v$:\n",
    "\n",
    "* $n(s^t)(1-v(s^t))=n(s^t)-n(s^t)v(s^t)$\n",
    "* $v=\\theta*u/n=\\theta(1-n)/n$\n",
    "* $nv=\\theta(1-n)$\n",
    "* $n(s^t)(1-v(s^t))= n(s^t)-\\theta(s^t)(1-n(s^t))$\n",
    "\n",
    "For consumption:\n",
    "\n",
    "* $\\frac{c(s^t)}{c(s^{t+1})}=\\frac{\\tilde c(s^t)/z(s^t)^{-1/(1-\\alpha)}}{c(s^{t+1})/z(s^{t+1})^{-1/(1-\\alpha)}}=\\frac{\\tilde c(s^t)/z(s^t)^{-1/(1-\\alpha)}}{c(s^{t+1})/(z(s^{t})e^{s^{t+1}})^{-1/(1-\\alpha)}}=\\frac{\\tilde c(s^t)}{\\tilde c(s^{t+1})}(e^{-\\frac{s^{t+1}}{1-\\alpha}})$\n",
    "\n",
    "\n",
    "For capital:\n",
    "* $z(s^{t+1})(k(s^{t+1}))^{\\alpha-1}= (z(s^{t+1})^{\\frac{-1}{1-\\alpha}}k(s^{t+1}))^{\\alpha-1}=\\tilde k(s^{t+1})^{\\alpha-1} $\n",
    "\n",
    "For search:\n",
    "\n",
    "* $f(\\theta)=\\bar \\mu \\theta^{\\eta}$\n",
    "* $\\mu(\\theta)=f(\\theta)/\\theta=\\mu\\theta^{\\eta-1}$\n",
    "\n",
    "\n",
    "\n",
    "\n",
    "I redefine all the equations using the transformed variables and the above equivalences.\n",
    "\n",
    "\n",
    "A.2 Euler: \n",
    "\n",
    "$$ 1=\\beta \\sum_{s^{t+1}|s^t} \\pi(s_{t+1}|s_t)\\frac{\\tilde c(s^t)}{\\tilde c(s^{t+1})}e^{-\\frac{s^{t+1}}{1-\\alpha}}[\\alpha (\\frac{\\tilde k(s^{t+1})}{n(s^{t+1})-\\theta(s^{t+1})(1-n(s^{t+1}))})^{\\alpha-1}+1-\\delta]$$\n",
    "\n",
    "B.2 Recruiting/Producing Indifference Condition:\n",
    "\n",
    "$$ (1-\\alpha)(\\frac{\\tilde k(s^t)}{n(s^t)-\\theta (s^t)(1-n(s^t))})^\\alpha=$$\n",
    "\n",
    "$$ \\beta\\mu(\\theta(s^t))\\sum_{s_{t+1}|s^t} \\pi(s_{t+1}|s_t)\\frac{\\tilde c(s^t)}{\\tilde c(s^{t+1})}[(1-\\alpha)(\\frac{\\tilde k(s^{t+1})}{n(s^{t+1})-\\theta (s^{t+1})(1-n(s^{t+1}))})^\\alpha (1+\\frac{1-x}{\\mu\\theta(s^{t+1})^{\\eta-1}})-\\tilde w(s^{t+1})] $$\n",
    "\n",
    "C.2 Nash Bargaining:\n",
    "\n",
    "$$ (1-\\tau)\\tilde w(s^t)=\\phi[1+\\theta(s^t)](1-\\alpha)(1-\\tau)(\\frac{\\tilde k(s^t)}{n(s^t)-\\theta(s^t)(1-n(s^t))})^\\alpha+(1-\\phi)\\gamma \\tilde c(s^t)$$\n",
    "\n",
    "D.2 Resource Constraint and Law of Motion \n",
    "\n",
    "$$ \\tilde k(s^{t+1})e^{\\frac{s_{t+1}}{1-\\alpha}}=(1-\\delta)\\tilde k(s^t)-\\tilde c (s^t)+\\tilde k(s^t)^\\alpha(n(s^t)-\\theta(s^t)(1-n(s^t)))^{1-\\alpha}$$\n",
    "\n",
    "$$ n(s^{t+1})=(1-x)n(s^t)+\\bar \\mu \\theta(s^t)^{\\eta}(1-n(s^t))$$\n",
    "\n",
    "E.2 Exogenous Processes\n",
    "\n",
    "$$ \\log z(s^{t+1})=\\log z(s^t)+s_{t+1}$$\n",
    "\n",
    "$$s_{t+1}=(1-\\rho)\\bar s+\\rho s_t+\\zeta \\nu_{t+1}$$\n",
    "\n",
    "\n",
    "\n",
    "\n",
    "\n",
    "\n",
    "\n"
   ]
  },
  {
   "cell_type": "markdown",
   "metadata": {},
   "source": [
    "Next I modify A.2 and B.2 to exclude $\\tilde w$ and tomorrow's values $n(s^{t+1})$ and $\\tilde k(s^{t+1})$ so that I get just two big equations that implicitly define $\\theta$ and $c$.\n",
    "\n",
    "I use the following conditions:\n",
    "\n",
    "* $\\tilde k(s^{t+1})=[(1-\\delta)\\tilde k(s^t)-\\tilde c (s^t)+\\tilde k(s^t)^\\alpha(n(s^t)-\\theta(s^t)(1-n(s^t)))^{1-\\alpha}]/e^{\\frac{s_{t+1}}{1-\\alpha}}$\n",
    "\n",
    "* $n(s^{t+1})=(1-x)n(s^t)+\\bar \\mu \\theta(s^t)^{\\eta}(1-n(s^t))$\n",
    "\n",
    "* $\\tilde w(s^{t+1})=(\\phi[1+\\theta(s^{t+1})](1-\\alpha)(1-\\tau)(\\frac{\\tilde k(s^{t+1})}{n(s^{t+1})-\\theta(s^{t+1})(1-n(s^{t+1}))})^\\alpha+(1-\\phi)\\gamma \\tilde c(s^{t+1}))/(1-\\tau)$\n",
    "\n",
    "And then I combine the first equations into the last to get:\n",
    "\n",
    "* $\\tilde w(s^{t+1})=(\\phi[1+\\theta(s^{t+1})](1-\\alpha)(1-\\tau)(\\frac{(1-\\delta)\\tilde k(s^t)-\\tilde c (s^t)+\\tilde k(s^t)^\\alpha(n(s^t)-\\theta(s^t)(1-n(s^t)))^{1-\\alpha}/e^{\\frac{s_{t+1}}{1-\\alpha}}}{(1-x)n(s^t)+\\bar \\mu \\theta(s^t)^{\\eta}(1-n(s^t))-\\theta(s^{t+1})(1-(1-x)n(s^t)+\\bar \\mu \\theta(s^t)^{\\eta}(1-n(s^t)))})^\\alpha+(1-\\phi)\\gamma \\tilde c(s^{t+1}))/(1-\\tau)$\n"
   ]
  },
  {
   "cell_type": "markdown",
   "metadata": {},
   "source": [
    "I am ready to write out the extremely ugly equations characterizing $\\theta$ and $c$.\n",
    "\n",
    "A.2' Euler: \n",
    "\n",
    "$$ 1=\\beta \\sum_{s^{t+1}|s^t} \\pi(s_{t+1}|s_t)\\frac{\\tilde c(s^t)}{\\tilde c(s^{t+1})}e^{-\\frac{s^{t+1}}{1-\\alpha}}[\\alpha (\\frac{[(1-\\delta)\\tilde k(s^t)-\\tilde c (s^t)+\\tilde k(s^t)^\\alpha(n(s^t)-\\theta(s^t)(1-n(s^t)))^{1-\\alpha}]/e^{\\frac{s_{t+1}}{1-\\alpha}}}{(1-x)n(s^t)+\\bar \\mu \\theta(s^t)^{\\eta}(1-n(s^t))-\\theta(s^{t+1})(1-(1-x)n(s^t)+\\bar \\mu \\theta(s^t)^{\\eta}(1-n(s^t)))})^{\\alpha-1}+1-\\delta]$$\n",
    "\n",
    "\n",
    "B.2' Recruiting/Producing Indifference Condition:\n",
    "$$ (1-\\alpha)(\\frac{\\tilde k(s^t)}{n(s^t)-\\theta (s^t)(1-n(s^t))})^\\alpha=\n",
    "\\beta\\mu(\\theta(s^t))\\sum_{s_{t+1}|s^t} \\pi(s_{t+1}|s_t)\\frac{\\tilde c(s^t)}{\\tilde c(s^{t+1})}\n",
    "[-\\frac{(1-\\phi)\\gamma \\tilde c(s^{t+1})}{1-\\tau}+(1-\\alpha)(\\frac{(1-\\delta)\\tilde k(s^t)-\\tilde c (s^t)+\\tilde k(s^t)^\\alpha(n(s^t)-\\theta(s^t)(1-n(s^t)))^{1-\\alpha}/e^{\\frac{s_{t+1}}{1-\\alpha}})}{(1-x)n(s^t)+\\bar \\mu \\theta(s^t)^{\\eta}(1-n(s^t))-\\theta(s^{t+1})(1-(1-x)n(s^t)+\\bar \\mu \\theta(s^t)^{\\eta}(1-n(s^t)))})^\\alpha(\\frac{1-x}{\\mu\\theta(s^{t+1})^{\\eta-1}}+1-\\phi-\\phi\\theta(s^{t+1}))] $$\n"
   ]
  },
  {
   "cell_type": "markdown",
   "metadata": {},
   "source": [
    "## Question 2"
   ]
  },
  {
   "cell_type": "markdown",
   "metadata": {},
   "source": [
    "To get the non-stochastic steady state, we can drop all state and subscripts, and get rid of summations across probabilities.\n",
    "\n",
    "The system boils down to five equations in unknowns $\\theta$, $n$, $\\tilde c$, $\\tilde k$, and $\\tilde w$:\n",
    "\n",
    "1. $ 1=\\beta e^{-\\frac{s}{1-\\alpha}}[\\alpha (\\frac{\\tilde k}{n-\\theta(1-n)})^{\\alpha-1}+1-\\delta]$ \n",
    "\n",
    "2. $ (1-\\alpha)(\\frac{\\tilde k}{n-\\theta (1-n)})^\\alpha=\\beta\\mu\\theta^{\\eta-1}[(1-\\alpha)\\frac{\\tilde k}{n-\\theta (1-n)^\\alpha} (1+\\frac{1-x}{\\mu\\theta^{\\eta-1}})-\\tilde w] $\n",
    "\n",
    "3. $ (1-\\tau)\\tilde w=\\phi[1+\\theta](1-\\alpha)(1-\\tau)(\\frac{\\tilde k(s^t)}{n-\\theta(1-n)})^\\alpha+(1-\\phi)\\gamma \\tilde c(s^t)$\n",
    "\n",
    "4. $n=(1-x)n+\\bar \\mu \\theta^{\\eta}(1-n)$\n",
    "\n",
    "5. $\\tilde ke^{\\frac{s}{1-\\alpha}}=(1-\\delta)\\tilde k-\\tilde c+\\tilde k^\\alpha(n-\\theta(1-n))^{1-\\alpha}$\n",
    "\n",
    "I use an off-the-shelf nonlinear equation solver for this problem."
   ]
  },
  {
   "cell_type": "markdown",
   "metadata": {},
   "source": [
    "First, I store Shimer's parameters. The parameters in Table 3.2 actually do not correspond to the parameters used to generate the plots in Figure 3.2, so I use the slightly different stochastic parameters described on page 100."
   ]
  },
  {
   "cell_type": "code",
   "execution_count": 1,
   "metadata": {},
   "outputs": [
    {
     "data": {
      "text/plain": [
       "0.0028"
      ]
     },
     "execution_count": 1,
     "metadata": {},
     "output_type": "execute_result"
    }
   ],
   "source": [
    "β=0.996 # Discounting\n",
    "sbar=0.0012 # Productivity growth\n",
    "τ=0.4 # Marginal tax rate\n",
    "χ= 0.034 # Employment exit rate\n",
    "μ= 2.32 # Match efficiency\n",
    "η=0.5 # Match coefficient\n",
    "ϕ=0.5 # Worker bargaining\n",
    "σ=2.0 # Consumption-labor complementarity\n",
    "γ=0.471 # Disutility of work\n",
    "ρ=0.4 # autocorrelation of growth\n",
    "ζ=0.00325 #standard deviation of growth\n",
    "α=0.33 # capital share\n",
    "δ=0.0028 # depreciation"
   ]
  },
  {
   "cell_type": "markdown",
   "metadata": {},
   "source": [
    "Next, I load in a bunch of useful packages."
   ]
  },
  {
   "cell_type": "code",
   "execution_count": 2,
   "metadata": {
    "collapsed": true
   },
   "outputs": [],
   "source": [
    "using Pkg"
   ]
  },
  {
   "cell_type": "code",
   "execution_count": 3,
   "metadata": {},
   "outputs": [],
   "source": [
    "using NLsolve"
   ]
  },
  {
   "cell_type": "code",
   "execution_count": 4,
   "metadata": {},
   "outputs": [],
   "source": [
    "using Calculus"
   ]
  },
  {
   "cell_type": "code",
   "execution_count": 5,
   "metadata": {},
   "outputs": [],
   "source": [
    "using LinearAlgebra"
   ]
  },
  {
   "cell_type": "code",
   "execution_count": 6,
   "metadata": {},
   "outputs": [],
   "source": [
    "using ForwardDiff"
   ]
  },
  {
   "cell_type": "markdown",
   "metadata": {},
   "source": [
    "Next, I plug my equations into a nonlinear solver provided by NLSolve and get the steady state values of all my endogenous variables.\n",
    "\n",
    "\n",
    "\n",
    "\n",
    "Also, I do \"cheat\" a bit by plugging in as a guess values close to Shimer's actual calculated steady state values to make the computation quick and easy.\n",
    "\n",
    "The equations should be rewritten here:\n",
    "\n",
    "1. $ 1-\\beta e^{-\\frac{s}{1-\\alpha}}[\\alpha (\\frac{\\tilde k}{n-\\theta(1-n)})^{\\alpha-1}+1-\\delta]=0$ \n",
    "\n",
    "2. $ (1-\\alpha)(\\frac{\\tilde k}{n-\\theta (1-n)})^\\alpha-\\beta\\mu\\theta^{\\eta-1}[(1-\\alpha)(\\frac{\\tilde k}{n-\\theta (1-n)}^\\alpha (1+\\frac{1-x}{\\mu\\theta^{\\eta-1}})-\\tilde w]=0$\n",
    "\n",
    "3. $ (1-\\tau)\\tilde w-\\phi[1+\\theta](1-\\alpha)(1-\\tau)(\\frac{\\tilde k(s^t)}{n-\\theta(1-n)})^\\alpha+(1-\\phi)\\gamma \\tilde c(s^t)=0$\n",
    "\n",
    "4. $n-(1-x)n-\\bar \\mu \\theta^{\\eta}(1-n)=0$\n",
    "\n",
    "5. $\\tilde ke^{\\frac{s}{1-\\alpha}}-(1-\\delta)\\tilde k+\\tilde c-\\tilde k^\\alpha(n-\\theta(1-n))^{1-\\alpha}=0$\n",
    "\n",
    "The variables are as follows:\n",
    "\n",
    "* $x[1]$ is $\\tilde k$\n",
    "* $x[2]$ is $n$\n",
    "* $x[3]$ is $\\theta$\n",
    "* $x[4]$ is $\\tilde w$\n",
    "* $x[5]$ is $\\tilde c$"
   ]
  },
  {
   "cell_type": "code",
   "execution_count": 7,
   "metadata": {},
   "outputs": [
    {
     "data": {
      "text/plain": [
       "Results of Nonlinear Solver Algorithm\n",
       " * Algorithm: Trust-region with dogleg and autoscaling\n",
       " * Starting Point: [220.0, 0.95, 0.078, 1.6, 4.6]\n",
       " * Zero: [218.24, 0.949958, 0.0773953, 4.01681, 4.69569]\n",
       " * Inf-norm of residuals: 0.000000\n",
       " * Iterations: 3\n",
       " * Convergence: true\n",
       "   * |x - x'| < 0.0e+00: false\n",
       "   * |f(x)| < 1.0e-08: true\n",
       " * Function Calls (f): 4\n",
       " * Jacobian Calls (df/dx): 4"
      ]
     },
     "execution_count": 7,
     "metadata": {},
     "output_type": "execute_result"
    }
   ],
   "source": [
    "function f!(F,x)\n",
    "    F[1]=1-β*exp(-sbar/(1-α))*(α*((x[1])/(x[2]-x[3]*(1-x[2])))^(α-1)+1-δ)\n",
    "    F[2]=(1-α)*((x[1])/(x[2]-x[3]*(1-x[2])))^(α)-β*μ*x[3]^(η-1)*((1-α)*(x[1]/(x[2]-x[3]*(1-x[2])))^α*(1+(1-χ)/(μ*x[3]^(η-1)))-x[4])\n",
    "    F[3]=(1-τ)*x[4]-ϕ*(1+x[3])*(1-α)*(1-τ)*(x[1]/(x[2]-x[3]*(1-x[2])))^α-(1-ϕ)*γ*x[5]\n",
    "    F[4]=x[2]-(1-χ)*x[2]-μ*x[3]^η*(1-x[2])\n",
    "    F[5]=x[1]*exp(1)^(sbar/(1-α))-(1-δ)*x[1]+x[5]-x[1]^α*(x[2]-x[3]*(1-x[2]))^(1-α)\n",
    "end\n",
    "\n",
    "n=nlsolve(f!, [220.0;0.95;0.078; 1.6; 4.6], autodiff = :forward)"
   ]
  },
  {
   "cell_type": "markdown",
   "metadata": {},
   "source": [
    "Next I store the results for my steady state values. $n.zero$ returns a vector that sets all functions to zero&mdash;the first term is $\\tilde k$, the next is $n$, and so on. Note that my values are extremely close to those of Shimer."
   ]
  },
  {
   "cell_type": "code",
   "execution_count": 8,
   "metadata": {},
   "outputs": [
    {
     "data": {
      "text/plain": [
       "218.23975824539295"
      ]
     },
     "execution_count": 8,
     "metadata": {},
     "output_type": "execute_result"
    }
   ],
   "source": [
    "kss=n.zero[1]"
   ]
  },
  {
   "cell_type": "code",
   "execution_count": 9,
   "metadata": {},
   "outputs": [
    {
     "data": {
      "text/plain": [
       "0.9499576197260372"
      ]
     },
     "execution_count": 9,
     "metadata": {},
     "output_type": "execute_result"
    }
   ],
   "source": [
    "nss=n.zero[2]"
   ]
  },
  {
   "cell_type": "code",
   "execution_count": 10,
   "metadata": {},
   "outputs": [
    {
     "data": {
      "text/plain": [
       "0.0773952678991821"
      ]
     },
     "execution_count": 10,
     "metadata": {},
     "output_type": "execute_result"
    }
   ],
   "source": [
    "θss=n.zero[3]"
   ]
  },
  {
   "cell_type": "code",
   "execution_count": 11,
   "metadata": {},
   "outputs": [
    {
     "data": {
      "text/plain": [
       "4.0168144377654595"
      ]
     },
     "execution_count": 11,
     "metadata": {},
     "output_type": "execute_result"
    }
   ],
   "source": [
    "wss=n.zero[4]"
   ]
  },
  {
   "cell_type": "code",
   "execution_count": 12,
   "metadata": {},
   "outputs": [
    {
     "data": {
      "text/plain": [
       "4.6956856054165135"
      ]
     },
     "execution_count": 12,
     "metadata": {},
     "output_type": "execute_result"
    }
   ],
   "source": [
    "css=n.zero[5]"
   ]
  },
  {
   "cell_type": "markdown",
   "metadata": {},
   "source": [
    "After getting the steady state, it is time to use the modified equations A.2' and B.2' to log-linearize $\\theta$ and $c$. I need that both of these equations are zero at the steady state."
   ]
  },
  {
   "cell_type": "markdown",
   "metadata": {},
   "source": [
    "$$\\theta=\\theta_{ss}e^{\\theta_s(s-\\bar s)+\\theta_n(\\log n- \\log n_{ss})+\\theta_k(\\tilde  \\log k-\\log k_ss)}\\equiv\\Theta$$\n",
    "\n",
    "$$\\tilde c=\\tilde c_{ss}e^{c_s(s-\\bar s)+c_n(\\log n-\\log n_{ss})+c_k(\\tilde \\log k-\\log k_ss)}\\equiv C$$\n",
    "\n",
    "$$e^{-\\frac{s^{t+1}}{1-\\alpha}}=e^{-\\frac{\\bar s+\\rho(s-\\bar s)+\\zeta^2/2}{1-\\alpha}}\\equiv S$$\n",
    "\n",
    "\n",
    "Euler: $$ E(s,\\tilde k, n)=1-\\beta\\frac{C}{c_{ss}}S[\\alpha (\\frac{[(1-\\delta) K-C+ K^\\alpha(N-\\Theta (1-N))^{1-\\alpha}]/S}{(1-x)N+\\bar \\mu \\Theta^{\\eta}(1-N)-\\theta_{ss}(1-(1-x)N+\\bar \\mu \\Theta^{\\eta}(1-N))})^{\\alpha-1}+1-\\delta]=0$$\n",
    "\n",
    "Indifference:\n",
    "\n",
    "$$I(s,\\tilde k, n)= (1-\\alpha)(\\frac{K}{N-\\Theta(1-N)})^\\alpha-\n",
    "\\beta\\mu\\Theta^{\\eta-1}\\frac{C}{c_{ss}}\n",
    "[-\\frac{(1-\\phi)\\gamma c_{ss}}{1-\\tau}+(1-\\alpha)(\\frac{(1-\\delta)K- C+K^\\alpha(N-\\Theta(1-N))^{1-\\alpha}/S}{(1-x)N+\\bar \\mu \\Theta^{\\eta}(1-N)-\\theta_{ss}(1-(1-x)N+\\bar \\mu \\Theta^{\\eta}(1-N))})^\\alpha(\\frac{1-x}{\\mu\\theta_{ss}^{\\eta-1}}+1-\\phi-\\phi\\theta_{ss})] =0  $$"
   ]
  },
  {
   "cell_type": "markdown",
   "metadata": {},
   "source": [
    "Shimer's approach is to set the derivatives of these functions to zero and then to extract the six unknown coefficients from six equations (one derivative for each of the three states in each equation  set to zero.)\n",
    "\n",
    "First I creat my functions of $C$ and $\\Theta$:"
   ]
  },
  {
   "cell_type": "code",
   "execution_count": 436,
   "metadata": {},
   "outputs": [
    {
     "data": {
      "text/plain": [
       "nprime (generic function with 1 method)"
      ]
     },
     "execution_count": 436,
     "metadata": {},
     "output_type": "execute_result"
    }
   ],
   "source": [
    "Sn=exp(sbar/(1-α))\n",
    "\n",
    "Snt(s)=exp((((1-ρ)*sbar)+ρ*s)/(1-α))\n",
    "sprime(s)=(1-ρ)*sbar+ρ*s\n",
    "\n",
    "C(cs,cn,ck,s,n,k)=css*exp( cs*(s-sbar)+cn*(log(n)-log(nss))+ck*(log(k)-log(kss)) )\n",
    "θ(ts,tn,tk,s,n,k)=θss*exp( ts*(s-sbar)+tn*(log(n)-log(nss))+tk*(log(k)-log(kss)) )\n",
    "\n",
    "kprime(cs,cn,ck,s,n,k,ts,tn,tk)=(1/Snt(s))*((k^α)*(n-θ(ts,tn,tk,s,n,k))^(1-α)+(1-δ)*k-C(cs,cn,ck,s,n,k))\n",
    "nprime(cs,cn,ck,s,n,k,ts,tn,tk)=(1-χ)*n+μ*θ(ts,tn,tk,s,n,k)^(η)*(1-n)\n"
   ]
  },
  {
   "cell_type": "markdown",
   "metadata": {},
   "source": [
    "Next I write out those functions in terms of state variables and coefficients, along with a pair of helper functions to break up the long text."
   ]
  },
  {
   "cell_type": "code",
   "execution_count": 14,
   "metadata": {},
   "outputs": [
    {
     "data": {
      "text/plain": [
       "Ind (generic function with 1 method)"
      ]
     },
     "execution_count": 14,
     "metadata": {},
     "output_type": "execute_result"
    }
   ],
   "source": [
    "denom(cs,cn,ck,s,n,k,ts,tn,tk)=(1-δ)*k-C(cs,cn,ck,s,n,k)+k^α*(n-θ(ts,tn,tk,s,n,k)*(1-n))^(1-α) # should be called numer\n",
    "numer(cs,cn,ck,s,n,k,ts,tn,tk)=(1-χ)*n+μ*θ(ts,tn,tk,s,n,k)^η*(1-n)-θss*(1-(1-χ)*n+μ*θ(ts,tn,tk,s,n,k)^η*(1-n))\n",
    "\n",
    "\n",
    "function E(cs,cn,ck,s,n,k,ts,tn,tk)\n",
    "    1-β*(C(cs,cn,ck,s,n,k)/css)*Sn*\n",
    "    (α* ( denom(cs,cn,ck,s,n,k,ts,tn,tk) /( Sn* numer(cs,cn,ck,s,n,k,ts,tn,tk)) )^(α-1)        +1-δ)\n",
    "end\n",
    "                    \n",
    "function Ind(cs,cn,ck,s,n,k,ts,tn,tk)\n",
    "    (1-α) * (k/ (n-θ(ts,tn,tk,s,n,k)*(1-n)) ) ^α-\n",
    "    β*C(cs,cn,ck,s,n,k)/css*μ*θ(ts,tn,tk,s,n,k)^(η-1)*\n",
    "    (     -( (1-ϕ)*γ*css)/(1-τ)  + (1-α)* ( denom(cs,cn,ck,s,n,k,ts,tn,tk) /( Sn* numer(cs,cn,ck,s,n,k,ts,tn,tk)) )^(α)*((1-χ)/(μ*θss^(η-1))+1-ϕ-ϕ*θss ))   \n",
    "end\n"
   ]
  },
  {
   "cell_type": "markdown",
   "metadata": {},
   "source": [
    "Both of these functions should be right around zero if evaluated at the steady state."
   ]
  },
  {
   "cell_type": "code",
   "execution_count": 24,
   "metadata": {},
   "outputs": [
    {
     "data": {
      "text/plain": [
       "-0.033851508102832994"
      ]
     },
     "execution_count": 24,
     "metadata": {},
     "output_type": "execute_result"
    }
   ],
   "source": [
    "E(1,1,1,sbar,nss,kss,1,1,1)\n",
    "Ind(1,1,1,sbar,nss,kss,1,1,1)"
   ]
  },
  {
   "cell_type": "markdown",
   "metadata": {},
   "source": [
    "Next I take the derivatives of both functions with respect to the states, and write those derivatives as functions of the six unknown parameters."
   ]
  },
  {
   "cell_type": "code",
   "execution_count": 256,
   "metadata": {},
   "outputs": [
    {
     "data": {
      "text/plain": [
       "tk (generic function with 1 method)"
      ]
     },
     "execution_count": 256,
     "metadata": {},
     "output_type": "execute_result"
    }
   ],
   "source": [
    "\n",
    "g = Calculus.gradient(x -> E(x[1],x[2],x[3],x[4],x[5],x[6],x[7],x[8],x[9]))\n",
    "\n",
    "t = Calculus.gradient(x -> Ind(x[1],x[2],x[3],x[4],x[5],x[6],x[7],x[8],x[9]))\n",
    "\n",
    "gs(a,b,c,d,e,f)=g([a,b,c,sbar,nss,kss,d,e,f])[4]\n",
    "gn(a,b,c,d,e,f)=g([a,b,c,sbar,nss,kss,d,e,f])[5]\n",
    "gk(a,b,c,d,e,f)=g([a,b,c,sbar,nss,kss,d,e,f])[6]\n",
    "\n",
    "\n",
    "ts(a,b,c,d,e,f)=t([a,b,c,sbar,nss,kss,d,e,f])[4]\n",
    "tn(a,b,c,d,e,f)=t([a,b,c,sbar,nss,kss,d,e,f])[5]\n",
    "tk(a,b,c,d,e,f)=t([a,b,c,sbar,nss,kss,d,e,f])[6]\n",
    "#x=[1,1,1,sbar,nss,kss,1,1,1]\n",
    "#g(1,1,1,sbar,nss,kss,1,1,1)"
   ]
  },
  {
   "cell_type": "markdown",
   "metadata": {},
   "source": [
    "Next I plug my six equations (derivatives with respect to states evaluated at the steady state) and look for parameters that set those derivatives to zero."
   ]
  },
  {
   "cell_type": "code",
   "execution_count": 257,
   "metadata": {},
   "outputs": [
    {
     "data": {
      "text/plain": [
       "Results of Nonlinear Solver Algorithm\n",
       " * Algorithm: Trust-region with dogleg and autoscaling\n",
       " * Starting Point: [0.3, -0.014, 0.6, 1.6, -0.48, -2.9]\n",
       " * Zero: [-1.56198e-11, -0.0024062, 0.00552438, -2.35301e-10, -0.617462, 2.38613]\n",
       " * Inf-norm of residuals: 0.000000\n",
       " * Iterations: 2\n",
       " * Convergence: true\n",
       "   * |x - x'| < 0.0e+00: false\n",
       "   * |f(x)| < 1.0e-08: true\n",
       " * Function Calls (f): 3\n",
       " * Jacobian Calls (df/dx): 3"
      ]
     },
     "execution_count": 257,
     "metadata": {},
     "output_type": "execute_result"
    }
   ],
   "source": [
    "\n",
    "\n",
    "\n",
    "function f!(F,x)\n",
    "   F[1]=gs(x[1],x[2],x[3],x[4],x[5],x[6])\n",
    "   F[2]=gn(x[1],x[2],x[3],x[4],x[5],x[6])\n",
    "   F[3]=gk(x[1],x[2],x[3],x[4],x[5],x[6])\n",
    "   F[4]=ts(x[1],x[2],x[3],x[4],x[5],x[6])\n",
    "   F[5]=tn(x[1],x[2],x[3],x[4],x[5],x[6])\n",
    "   F[6]=tk(x[1],x[2],x[3],x[4],x[5],x[6])\n",
    "end\n",
    "\n",
    "n=nlsolve(f!, [0.3, -0.014,0.6, 1.6, -0.48, -2.9])\n",
    "\n",
    "\n"
   ]
  },
  {
   "cell_type": "code",
   "execution_count": 437,
   "metadata": {},
   "outputs": [
    {
     "data": {
      "text/plain": [
       "Results of Nonlinear Solver Algorithm\n",
       " * Algorithm: Trust-region with dogleg and autoscaling\n",
       " * Starting Point: [0.3, -0.014, 0.6, 1.6, -0.48, -2.9]\n",
       " * Zero: [-74.406, 0.0123874, 0.589957, 0.784821, -0.534561, 1.47351]\n",
       " * Inf-norm of residuals: 0.000000\n",
       " * Iterations: 6\n",
       " * Convergence: true\n",
       "   * |x - x'| < 0.0e+00: false\n",
       "   * |f(x)| < 1.0e-08: true\n",
       " * Function Calls (f): 7\n",
       " * Jacobian Calls (df/dx): 7"
      ]
     },
     "execution_count": 437,
     "metadata": {},
     "output_type": "execute_result"
    }
   ],
   "source": [
    "# Here I try something different.\n",
    "\n",
    "denomr(cs,cn,ck,s,n,k,ts,tn,tk)=(1-δ)*k-C(cs,cn,ck,s,n,k)+k^α*(n-θ(ts,tn,tk,s,n,k)*(1-n))^(1-α) # should be called numer\n",
    "numerr(cs,cn,ck,s,n,k,ts,tn,tk)=(1-χ)*n+μ*θ(ts,tn,tk,s,n,k)^η*(1-n)-θ(ts,tn,tk,sprime(s),nprime(cs,cn,ck,s,n,k,ts,tn,tk),kprime(cs,cn,ck,s,n,k,ts,tn,tk))*(1-(1-χ)*n+μ*θ(ts,tn,tk,s,n,k)^η*(1-n))\n",
    "\n",
    "\n",
    "function E2(cs,cn,ck,s,n,k,ts,tn,tk)\n",
    "    1-β*(C(cs,cn,ck,s,n,k)/C(cs,cn,ck,s,nprime(cs,cn,ck,s,n,k,ts,tn,tk),kprime(cs,cn,ck,s,n,k,ts,tn,tk)))*Snt(s)*\n",
    "    (α* ( denom(cs,cn,ck,s,n,k,ts,tn,tk) /( Snt(s)* numer(cs,cn,ck,s,n,k,ts,tn,tk)) )^(α-1)        +1-δ)\n",
    "end\n",
    "                    \n",
    "function Ind2(cs,cn,ck,s,n,k,ts,tn,tk)\n",
    "    (1-α) * (k/ (n-θ(ts,tn,tk,s,n,k)*(1-n)) ) ^α-\n",
    "    β*C(cs,cn,ck,s,n,k)/C(cs,cn,ck,s,nprime(cs,cn,ck,s,n,k,ts,tn,tk),kprime(cs,cn,ck,s,n,k,ts,tn,tk))*μ*θ(ts,tn,tk,s,n,k)^(η-1)*\n",
    "    (     -( (1-ϕ)*γ*css)/(1-τ)  + (1-α)* ( denom(cs,cn,ck,s,n,k,ts,tn,tk) /( Snt(s)* numer(cs,cn,ck,s,n,k,ts,tn,tk)) )^(α)*((1-χ)/(μ*θss^(η-1))+1-ϕ-ϕ*θ(ts,tn,tk,sprime(s),nprime(cs,cn,ck,s,n,k,ts,tn,tk),kprime(cs,cn,ck,s,n,k,ts,tn,tk))))   \n",
    "end\n",
    "\n",
    "g = Calculus.gradient(x -> E2(x[1],x[2],x[3],x[4],x[5],x[6],x[7],x[8],x[9]))\n",
    "\n",
    "t = Calculus.gradient(x -> Ind2(x[1],x[2],x[3],x[4],x[5],x[6],x[7],x[8],x[9]))\n",
    "\n",
    "gs(a,b,c,d,e,f)=g([a,b,c,sbar,nss,kss,d,e,f])[4]\n",
    "gn(a,b,c,d,e,f)=g([a,b,c,sbar,nss,kss,d,e,f])[5]\n",
    "gk(a,b,c,d,e,f)=g([a,b,c,sbar,nss,kss,d,e,f])[6]\n",
    "\n",
    "\n",
    "ts(a,b,c,d,e,f)=t([a,b,c,sbar,nss,kss,d,e,f])[4]\n",
    "tn(a,b,c,d,e,f)=t([a,b,c,sbar,nss,kss,d,e,f])[5]\n",
    "tk(a,b,c,d,e,f)=t([a,b,c,sbar,nss,kss,d,e,f])[6]\n",
    "\n",
    "\n",
    "function f!(F,x)\n",
    "   F[1]=gs(x[1],x[2],x[3],x[4],x[5],x[6])\n",
    "   F[2]=gn(x[1],x[2],x[3],x[4],x[5],x[6])\n",
    "   F[3]=gk(x[1],x[2],x[3],x[4],x[5],x[6])\n",
    "   F[4]=ts(x[1],x[2],x[3],x[4],x[5],x[6])\n",
    "   F[5]=tn(x[1],x[2],x[3],x[4],x[5],x[6])\n",
    "   F[6]=tk(x[1],x[2],x[3],x[4],x[5],x[6])\n",
    "end\n",
    "\n",
    "n=nlsolve(f!, [0.3, -0.014,0.6, 1.6, -0.48, -2.9])"
   ]
  },
  {
   "cell_type": "markdown",
   "metadata": {},
   "source": [
    "The first three digits of the zero are the coefficients on $s, n, k$ for $c$; the last three are the same coefficients for $\\theta$.\n",
    "\n",
    "I compare the following calculations directly from Shimer:\n",
    "\n",
    "$$\\log \\theta=\\log 0.078+1.548(s-0.0012)-0.480(\\log n-\\log 0.95)-2.779(\\log\\tilde k-\\log 218.2)$$\n",
    "\n",
    "$$\\log \\tilde c=\\log 4.696+0.381(s-0.0012)+0.014(\\log n-\\log 0.95)+0.603(\\log\\tilde k-\\log 218.2)$$\n",
    "\n",
    "\n",
    "\n",
    " ***ERROR*:** My numbers are wildly incorrect. Not only that, but my outcome is not even robust to my initial guess. Sorry!\n",
    "\n",
    "\n",
    "I use Shimer's numbers going forward to ensure that my mistakes do not compound. Next I derive policy rules using the following functions:"
   ]
  },
  {
   "cell_type": "code",
   "execution_count": 487,
   "metadata": {},
   "outputs": [
    {
     "data": {
      "text/plain": [
       "-2.779"
      ]
     },
     "execution_count": 487,
     "metadata": {},
     "output_type": "execute_result"
    }
   ],
   "source": [
    "thetafun(s,n,k)=0.078*exp( 1.548*(s-sbar)-0.480*(log(n)-log(nss))-2.779*(log(k)-log(kss)))\n",
    "θsc=1.548\n",
    "θnc=-0.480\n",
    "θkc=-2.779"
   ]
  },
  {
   "cell_type": "code",
   "execution_count": 506,
   "metadata": {},
   "outputs": [
    {
     "data": {
      "text/plain": [
       "0.603"
      ]
     },
     "execution_count": 506,
     "metadata": {},
     "output_type": "execute_result"
    }
   ],
   "source": [
    "cfun(s,n,k)=4.696*exp(0.381*(s-sbar)+0.014*(log(n)-log(nss))+0.603*(log(k)-log(kss)))\n",
    "Csc=0.381\n",
    "Cnc=0.014\n",
    "Ckc=0.603"
   ]
  },
  {
   "cell_type": "markdown",
   "metadata": {},
   "source": [
    "### Capital\n",
    "\n",
    "Shimer tells me I should get:\n",
    "\n",
    "$$\\log k'=\\log 218.2-0.605(s-0.0012)+0.019(\\log n-\\log 0.95)+0.991(\\log\\tilde k-\\log 218.2)$$\n",
    "\n",
    "I know that:\n",
    "\n",
    "$$\\tilde k'=(1/S)(\\tilde k^\\alpha (n-\\theta(1-n))^{1-\\alpha}+(1-\\delta )k -c)$$\n",
    "\n",
    "$$\\log(k')-\\log(k_{ss})=\\log((1/S)(\\tilde k^\\alpha (n-\\theta(s,n,k)(1-n))^{1-\\alpha}+(1-\\delta )k -c))-\\log((1/S)(\\tilde k_{ss}^\\alpha (n_{ss}-\\theta_{ss}(1-n_{ss}))^{1-\\alpha}+(1-\\delta )k_{ss} -c{ss}))$$\n",
    "\n"
   ]
  },
  {
   "cell_type": "code",
   "execution_count": 577,
   "metadata": {},
   "outputs": [
    {
     "data": {
      "text/plain": [
       "5-element Array{Float64,1}:\n",
       "  1.0040160642983482   \n",
       "  0.018890074648833303 \n",
       " -7.148360980214085e-5 \n",
       " -0.02147767664235528  \n",
       " -0.0032634963341547996"
      ]
     },
     "execution_count": 577,
     "metadata": {},
     "output_type": "execute_result"
    }
   ],
   "source": [
    "function kfun2(ks,ns, ts,cs,ss)\n",
    "    log((1/exp((   sbar*exp(1-ρ)*exp(ss) )/(1-α)))*(kss^α*exp(α*ks)*(nss*exp(ns)-θss*(exp(ts))*(1-nss*exp(ns)))^(1-α)+(1-δ)*kss*exp(ks)-css*exp(cs)))\n",
    "end\n",
    "g3 = Calculus.gradient(x -> kfun2(x[1],x[2],x[3],x[4],x[5]))\n",
    "kcoefs=g3([0,0,0,0,0])"
   ]
  },
  {
   "cell_type": "markdown",
   "metadata": {},
   "source": [
    "Let's get my coefficients and see if they are at least in the same ballpark as Shimer."
   ]
  },
  {
   "cell_type": "code",
   "execution_count": 578,
   "metadata": {},
   "outputs": [
    {
     "data": {
      "text/plain": [
       "0.9912636782346482"
      ]
     },
     "execution_count": 578,
     "metadata": {},
     "output_type": "execute_result"
    }
   ],
   "source": [
    "kck=kcoefs[1]+kcoefs[3]*θkc+kcoefs[4]*Ckc"
   ]
  },
  {
   "cell_type": "code",
   "execution_count": 583,
   "metadata": {},
   "outputs": [
    {
     "data": {
      "text/plain": [
       "-0.6115571477628658"
      ]
     },
     "execution_count": 583,
     "metadata": {},
     "output_type": "execute_result"
    }
   ],
   "source": [
    "kcs=-(1-ρ)+kcoefs[5]+kcoefs[3]*θsc+kcoefs[4]*Csc"
   ]
  },
  {
   "cell_type": "code",
   "execution_count": 580,
   "metadata": {},
   "outputs": [
    {
     "data": {
      "text/plain": [
       "0.018623699308545356"
      ]
     },
     "execution_count": 580,
     "metadata": {},
     "output_type": "execute_result"
    }
   ],
   "source": [
    "kcn=kcoefs[2]+kcoefs[3]*θnc+kcoefs[4]*Cnc"
   ]
  },
  {
   "cell_type": "markdown",
   "metadata": {},
   "source": [
    "Close. For future reference, I still stick with Shimer's numbers."
   ]
  },
  {
   "cell_type": "code",
   "execution_count": 75,
   "metadata": {},
   "outputs": [
    {
     "data": {
      "text/plain": [
       "kll (generic function with 1 method)"
      ]
     },
     "execution_count": 75,
     "metadata": {},
     "output_type": "execute_result"
    }
   ],
   "source": [
    "kll(s,n,k)=218.2*exp(-0.605*(s-sbar)+0.0019*(log(n)-log(nss))+0.991*(log(k)-log(kss)))"
   ]
  },
  {
   "cell_type": "markdown",
   "metadata": {},
   "source": [
    "### N"
   ]
  },
  {
   "cell_type": "markdown",
   "metadata": {},
   "source": [
    "$$n'=(1-x)n+\\mu\\theta^{\\eta}(1-n)$$ \n",
    "\n",
    "\n",
    "From Shimer I should get:\n",
    "\n",
    "$$\\log n'=\\log 0.95+0.026(s-0.0012)+0.312(\\log n-\\log 0.95)-0.047(\\log\\tilde k-\\log 218.2)$$"
   ]
  },
  {
   "cell_type": "code",
   "execution_count": 529,
   "metadata": {},
   "outputs": [
    {
     "data": {
      "text/plain": [
       "2-element Array{Float64,1}:\n",
       " 0.3205758836725516  \n",
       " 0.017000000006983974"
      ]
     },
     "execution_count": 529,
     "metadata": {},
     "output_type": "execute_result"
    }
   ],
   "source": [
    "function nf2(ns,ts)\n",
    "    log(((1-χ)*nss*exp(ns)+μ*θss^(η)*exp(η*ts)*(1-nss*exp(ns)))/nss)\n",
    "end\n",
    "\n",
    "\n",
    "g2 = Calculus.gradient(x -> nf2(x[1],x[2]))\n",
    "ncoefs=g2([0,0])"
   ]
  },
  {
   "cell_type": "code",
   "execution_count": 530,
   "metadata": {},
   "outputs": [
    {
     "data": {
      "text/plain": [
       "-0.04724300001940846"
      ]
     },
     "execution_count": 530,
     "metadata": {},
     "output_type": "execute_result"
    }
   ],
   "source": [
    "nck=ncoefs[2]*θkc # on k"
   ]
  },
  {
   "cell_type": "code",
   "execution_count": 525,
   "metadata": {},
   "outputs": [
    {
     "data": {
      "text/plain": [
       "0.02631600001081119"
      ]
     },
     "execution_count": 525,
     "metadata": {},
     "output_type": "execute_result"
    }
   ],
   "source": [
    "ncs=ncoefs[2]*θsc # on s"
   ]
  },
  {
   "cell_type": "code",
   "execution_count": 527,
   "metadata": {},
   "outputs": [
    {
     "data": {
      "text/plain": [
       "0.31241588366919926"
      ]
     },
     "execution_count": 527,
     "metadata": {},
     "output_type": "execute_result"
    }
   ],
   "source": [
    "ncn=ncoefs[2]*θnc+ncoefs[1] # on n"
   ]
  },
  {
   "cell_type": "markdown",
   "metadata": {},
   "source": [
    "These are close. As usual, I stick with the correct numbers from Shimer."
   ]
  },
  {
   "cell_type": "code",
   "execution_count": 531,
   "metadata": {},
   "outputs": [
    {
     "data": {
      "text/plain": [
       "nll (generic function with 1 method)"
      ]
     },
     "execution_count": 531,
     "metadata": {},
     "output_type": "execute_result"
    }
   ],
   "source": [
    "nll(s,n,k)=0.95*exp(0.026*(s-sbar)+0.312*(log(n)-log(nss))+0.047*(log(k)-log(kss)))"
   ]
  },
  {
   "cell_type": "markdown",
   "metadata": {},
   "source": [
    "### Output\n",
    "\n",
    "$$ y= e^s k^\\alpha (n-\\theta(1-n))^{1-\\alpha}$$\n"
   ]
  },
  {
   "cell_type": "code",
   "execution_count": 651,
   "metadata": {},
   "outputs": [
    {
     "data": {
      "text/plain": [
       "4-element Array{Float64,1}:\n",
       "  0.0012000000220587167\n",
       "  0.7248099301070203   \n",
       "  0.32999999997917134  \n",
       " -0.0027428193801665125"
      ]
     },
     "execution_count": 651,
     "metadata": {},
     "output_type": "execute_result"
    }
   ],
   "source": [
    "function yfun(s,n,k,t)\n",
    "    log(  exp(sbar*exp(s))*kss^α*exp(k)^α*(nss*exp(n)-θss*exp(t)*(1-nss*exp(n)))^(1-α) )\n",
    "end\n",
    "\n",
    "g2 = Calculus.gradient(x -> yfun(x[1],x[2],x[3],x[4]))\n",
    "\n",
    "\n",
    "ycoefs=g2([0,0,0,0])\n",
    "\n"
   ]
  },
  {
   "cell_type": "code",
   "execution_count": 652,
   "metadata": {},
   "outputs": [
    {
     "data": {
      "text/plain": [
       "5.704826041204391"
      ]
     },
     "execution_count": 652,
     "metadata": {},
     "output_type": "execute_result"
    }
   ],
   "source": [
    "ybar=exp(yfun(0,0,0,0))\n",
    "\n"
   ]
  },
  {
   "cell_type": "code",
   "execution_count": 653,
   "metadata": {},
   "outputs": [
    {
     "data": {
      "text/plain": [
       "0.3376222950366541"
      ]
     },
     "execution_count": 653,
     "metadata": {},
     "output_type": "execute_result"
    }
   ],
   "source": [
    "yck=ycoefs[3]+ycoefs[4]*θkc  # on k"
   ]
  },
  {
   "cell_type": "code",
   "execution_count": 654,
   "metadata": {},
   "outputs": [
    {
     "data": {
      "text/plain": [
       "-0.0030458843784390453"
      ]
     },
     "execution_count": 654,
     "metadata": {},
     "output_type": "execute_result"
    }
   ],
   "source": [
    "ycs=ycoefs[1]+ycoefs[4]*θsc"
   ]
  },
  {
   "cell_type": "code",
   "execution_count": 655,
   "metadata": {},
   "outputs": [
    {
     "data": {
      "text/plain": [
       "0.7261264834095003"
      ]
     },
     "execution_count": 655,
     "metadata": {},
     "output_type": "execute_result"
    }
   ],
   "source": [
    "ycn=ycoefs[2]+ycoefs[4]*θnc"
   ]
  },
  {
   "cell_type": "code",
   "execution_count": 656,
   "metadata": {},
   "outputs": [
    {
     "data": {
      "text/plain": [
       "yll (generic function with 1 method)"
      ]
     },
     "execution_count": 656,
     "metadata": {},
     "output_type": "execute_result"
    }
   ],
   "source": [
    "yll(s,n,k)=ybar*exp( ycs*(s-sbar)+ycn*(log(n)-log(nss))+  yck*(log(k)-log(kss)) )\n"
   ]
  },
  {
   "cell_type": "markdown",
   "metadata": {},
   "source": [
    "$$\\log y= \\log y_{ss} -0.003 (s-0.0012)+0.726(\\log n-\\log n_{ss})+0.34(\\log k-\\log k_{ss})$$"
   ]
  },
  {
   "cell_type": "markdown",
   "metadata": {},
   "source": [
    "### τ"
   ]
  },
  {
   "cell_type": "markdown",
   "metadata": {},
   "source": [
    "$$\\tau=1-\\frac{\\hat \\gamma}{1-\\alpha}(c/y)n$$\n",
    "\n",
    "First I get the incorrectly measured $\\gamma$ by plugging our steady state values of $c,n$, and $y$ in:\n",
    "\n",
    "$$\\frac{(1-\\tau)(1-\\alpha)}{cn/y}=\\gamma$$"
   ]
  },
  {
   "cell_type": "code",
   "execution_count": 657,
   "metadata": {},
   "outputs": [
    {
     "data": {
      "text/plain": [
       "0.3143307648595967"
      ]
     },
     "execution_count": 657,
     "metadata": {},
     "output_type": "execute_result"
    }
   ],
   "source": [
    " γhat=(1-τ)*(1-α)*(css*nss/yss)"
   ]
  },
  {
   "cell_type": "markdown",
   "metadata": {},
   "source": [
    "Next I log linearize:\n",
    "\n",
    "$$ \\log \\tau=-\\log \\hat\\gamma -\\log(1-\\alpha)-\\log c-\\log n+\\log y $$\n",
    "\n",
    "$$ \\log \\tau_{ss}=-\\log \\hat\\gamma-\\log(1-\\alpha)-\\log c_{ss}-\\log n_{ss}+\\log y_{ss} $$\n",
    "\n",
    "$$ \\log \\tau=\\log \\tau_{ss}-\\log c+\\log c_{ss}-\\log n+\\log n{ss}-\\log y_{ss}+\\log $$"
   ]
  },
  {
   "cell_type": "code",
   "execution_count": 658,
   "metadata": {},
   "outputs": [
    {
     "data": {
      "text/plain": [
       "taupol (generic function with 1 method)"
      ]
     },
     "execution_count": 658,
     "metadata": {},
     "output_type": "execute_result"
    }
   ],
   "source": [
    "function taufun(s,n,k)\n",
    "    0.4-log(cfun(s,n,k))+log(css)-nll(s,n,k)+log(nss)-log(yss)+log(yll(s,n,k)) \n",
    "end\n",
    "\n",
    "g2 = Calculus.gradient(x -> taufun(x[1],x[2],x[3]))\n",
    "g2([sbar,nss,kss])\n",
    "taus=g2([sbar,nss,kss])[1]\n",
    "taun=g2([sbar,nss,kss])[2]\n",
    "tauk=g2([sbar,nss,kss])[3]\n",
    "\n",
    "taupol(s,n,k)=log(0.4)+taus*(s-sbar)+taun*(n-nss)+tauk*(k-kss)"
   ]
  },
  {
   "cell_type": "markdown",
   "metadata": {},
   "source": [
    "## Question 3"
   ]
  },
  {
   "cell_type": "markdown",
   "metadata": {},
   "source": [
    "I plot the response to an increase in $s$ from 0.0012 to 0.0047 (a one SD increase), and I follow Shimer's steps on getting the rest of the impulse response.\n",
    "\n",
    "I store all my values in a matrix for use in drawing tables (hence the name.) I initialize TableMat with the shock to productivity. It will feed in to all the rest of the equations. \n",
    "\n",
    " ***ERROR*:**  Okay, none of my graphs look right. I'm sorry; I have no idea what is happening."
   ]
  },
  {
   "cell_type": "code",
   "execution_count": 659,
   "metadata": {},
   "outputs": [],
   "source": [
    "TableMat=zeros(120,8)\n",
    "TableMat[1,1]=0.0012\n",
    "using PyPlot"
   ]
  },
  {
   "cell_type": "markdown",
   "metadata": {},
   "source": [
    "I fill the entries as follows:\n",
    "* Column 1: Productivity Detrended\n",
    "* Column 2: Percent Deviation of Productivity \n",
    "* Column 3: $\\theta$\n",
    "* Column 4: $\\tilde k$\n",
    "* Column 5: $n$\n",
    "* Column 6: $\\tilde c$\n",
    "* Column 7: $\\tilde y$\n",
    "* Column 8: $\\tilde \\tau$"
   ]
  },
  {
   "cell_type": "markdown",
   "metadata": {},
   "source": [
    "\n",
    "### TFP\n",
    "\n"
   ]
  },
  {
   "cell_type": "code",
   "execution_count": 660,
   "metadata": {},
   "outputs": [
    {
     "data": {
      "image/png": "[encoded data removed]",
      "text/plain": [
       "Figure(PyObject <Figure size 640x480 with 1 Axes>)"
      ]
     },
     "metadata": {},
     "output_type": "display_data"
    },
    {
     "data": {
      "text/plain": [
       "1-element Array{PyCall.PyObject,1}:\n",
       " PyObject <matplotlib.lines.Line2D object at 0x14acf34e0>"
      ]
     },
     "execution_count": 660,
     "metadata": {},
     "output_type": "execute_result"
    }
   ],
   "source": [
    "\n",
    "for i in 2:120\n",
    "    TableMat[i,1]=ρ*(TableMat[i-1,1]-sbar)+0.0047\n",
    "end\n",
    "\n",
    "TableMat[1,2]=0\n",
    "\n",
    "for i in 2:120\n",
    "    TableMat[i,2]=((TableMat[i,1])-(TableMat[i-1,1]))/(TableMat[i-1,1])\n",
    "end\n",
    "TableMat\n",
    "plot(TableMat[:,2])"
   ]
  },
  {
   "cell_type": "markdown",
   "metadata": {},
   "source": [
    "### Setting up all other Variables"
   ]
  },
  {
   "cell_type": "code",
   "execution_count": 661,
   "metadata": {},
   "outputs": [
    {
     "data": {
      "text/plain": [
       "120×8 Array{Float64,2}:\n",
       " 0.0012      0.0          0.078      218.2    …  4.696    0.0       0.0     \n",
       " 0.0047      2.91667      0.0785009  218.161     4.70124  5.70427  -0.917588\n",
       " 0.0061      0.297872     0.0791717  217.66      4.69725  5.70018  -0.917415\n",
       " 0.00666     0.0918033    0.0799327  216.982     4.68941  5.69397  -0.916698\n",
       " 0.006884    0.0336336    0.0807327  216.238     4.6801   5.68677  -0.915794\n",
       " 0.0069736   0.0130157    0.0815496  215.474  …  4.67027  5.67915  -0.914829\n",
       " 0.00700944  0.00513938   0.0823741  214.708     4.6603   5.67139  -0.91385 \n",
       " 0.00702378  0.00204524   0.0832023  213.947     4.65034  5.66362  -0.912874\n",
       " 0.00702951  0.000816427  0.0840326  213.194     4.64046  5.65589  -0.911905\n",
       " 0.0070318   0.000326304  0.0848641  212.449     4.63066  5.64822  -0.910948\n",
       " 0.00703272  0.000130479  0.0856965  211.713  …  4.62097  5.64063  -0.910002\n",
       " 0.00703309  5.21849e-5   0.0865298  210.986     4.61137  5.63311  -0.909068\n",
       " 0.00703324  2.08729e-5   0.0873636  210.267     4.60189  5.62566  -0.908146\n",
       " ⋮                                            ⋱  ⋮                          \n",
       " 0.00703333  0.0          0.161767   168.9       4.03156  5.16738  -0.855624\n",
       " 0.00703333  0.0          0.162422   168.658     4.02807  5.1645   -0.85532 \n",
       " 0.00703333  0.0          0.163074   168.418  …  4.0246   5.16165  -0.855019\n",
       " 0.00703333  0.0          0.163722   168.18      4.02117  5.15882  -0.854721\n",
       " 0.00703333  0.0          0.164368   167.945     4.01777  5.15602  -0.854427\n",
       " 0.00703333  0.0          0.16501    167.712     4.01441  5.15325  -0.854135\n",
       " 0.00703333  0.0          0.165649   167.482     4.01108  5.1505   -0.853847\n",
       " 0.00703333  0.0          0.166285   167.254  …  4.00778  5.14778  -0.853562\n",
       " 0.00703333  0.0          0.166918   167.028     4.00451  5.14509  -0.853279\n",
       " 0.00703333  0.0          0.167547   166.805     4.00128  5.14242  -0.853   \n",
       " 0.00703333  0.0          0.168174   166.583     3.99807  5.13977  -0.852723\n",
       " 0.00703333  0.0          0.168797   166.365     3.9949   5.13715  -0.852449"
      ]
     },
     "execution_count": 661,
     "metadata": {},
     "output_type": "execute_result"
    }
   ],
   "source": [
    "TableMat[1,3]=thetafun(TableMat[1,1],nss,kss)# theta\n",
    "TableMat[1,6]=cfun(TableMat[1,1],nss,kss) # consumption\n",
    "TableMat[1,4]=kll(sbar,nss,kss) # 4 is k\n",
    "TableMat[1,5]=nll(sbar,nss,kss)\n",
    "for i in 2:120\n",
    "\n",
    "    TableMat[i,4]=kll(TableMat[i-1,1],TableMat[i-1,5],TableMat[i-1,4]) # Capital\n",
    "    TableMat[i,5]=nll(TableMat[i-1,1],TableMat[i-1,5],TableMat[i-1,4]) # employment\n",
    "    TableMat[i,6]=cfun(TableMat[i,1],TableMat[i,5],TableMat[i,4])\n",
    "    TableMat[i,3]=thetafun(TableMat[i,1],TableMat[i,5],TableMat[i,4])\n",
    "    TableMat[i,7]=yll(TableMat[i,1],TableMat[i,5],TableMat[i,4])\n",
    "    TableMat[i,8]=taupol(TableMat[i,1],TableMat[i,5],TableMat[i,4])\n",
    "end\n",
    "TableMat\n",
    "\n",
    "\n",
    "#kll(TableMat[1,1],TableMat[1,5],TableMat[1,4])"
   ]
  },
  {
   "cell_type": "markdown",
   "metadata": {},
   "source": [
    "### $\\theta$"
   ]
  },
  {
   "cell_type": "code",
   "execution_count": 662,
   "metadata": {},
   "outputs": [
    {
     "data": {
      "image/png": "[encoded data removed]",
      "text/plain": [
       "Figure(PyObject <Figure size 640x480 with 1 Axes>)"
      ]
     },
     "metadata": {},
     "output_type": "display_data"
    },
    {
     "data": {
      "text/plain": [
       "1-element Array{PyCall.PyObject,1}:\n",
       " PyObject <matplotlib.lines.Line2D object at 0x14af11da0>"
      ]
     },
     "execution_count": 662,
     "metadata": {},
     "output_type": "execute_result"
    }
   ],
   "source": [
    "plot(TableMat[:,3])"
   ]
  },
  {
   "cell_type": "markdown",
   "metadata": {},
   "source": [
    "### K\n"
   ]
  },
  {
   "cell_type": "code",
   "execution_count": 663,
   "metadata": {},
   "outputs": [
    {
     "data": {
      "image/png": "[encoded data removed]",
      "text/plain": [
       "Figure(PyObject <Figure size 640x480 with 1 Axes>)"
      ]
     },
     "metadata": {},
     "output_type": "display_data"
    },
    {
     "data": {
      "text/plain": [
       "1-element Array{PyCall.PyObject,1}:\n",
       " PyObject <matplotlib.lines.Line2D object at 0x14af6bcf8>"
      ]
     },
     "execution_count": 663,
     "metadata": {},
     "output_type": "execute_result"
    }
   ],
   "source": [
    "plot(TableMat[:,4])"
   ]
  },
  {
   "cell_type": "markdown",
   "metadata": {},
   "source": [
    "### N"
   ]
  },
  {
   "cell_type": "code",
   "execution_count": 664,
   "metadata": {},
   "outputs": [
    {
     "data": {
      "image/png": "[encoded data removed]",
      "text/plain": [
       "Figure(PyObject <Figure size 640x480 with 1 Axes>)"
      ]
     },
     "metadata": {},
     "output_type": "display_data"
    },
    {
     "data": {
      "text/plain": [
       "1-element Array{PyCall.PyObject,1}:\n",
       " PyObject <matplotlib.lines.Line2D object at 0x14b195160>"
      ]
     },
     "execution_count": 664,
     "metadata": {},
     "output_type": "execute_result"
    }
   ],
   "source": [
    "plot(TableMat[:,5])"
   ]
  },
  {
   "cell_type": "markdown",
   "metadata": {},
   "source": [
    "### C"
   ]
  },
  {
   "cell_type": "code",
   "execution_count": 665,
   "metadata": {},
   "outputs": [
    {
     "data": {
      "image/png": "[encoded data removed]",
      "text/plain": [
       "Figure(PyObject <Figure size 640x480 with 1 Axes>)"
      ]
     },
     "metadata": {},
     "output_type": "display_data"
    },
    {
     "data": {
      "text/plain": [
       "1-element Array{PyCall.PyObject,1}:\n",
       " PyObject <matplotlib.lines.Line2D object at 0x14b1eff28>"
      ]
     },
     "execution_count": 665,
     "metadata": {},
     "output_type": "execute_result"
    }
   ],
   "source": [
    "plot(TableMat[:,6])"
   ]
  },
  {
   "cell_type": "markdown",
   "metadata": {},
   "source": [
    "### Y"
   ]
  },
  {
   "cell_type": "code",
   "execution_count": 666,
   "metadata": {},
   "outputs": [
    {
     "data": {
      "image/png": "[encoded data removed]",
      "text/plain": [
       "Figure(PyObject <Figure size 640x480 with 1 Axes>)"
      ]
     },
     "metadata": {},
     "output_type": "display_data"
    },
    {
     "data": {
      "text/plain": [
       "1-element Array{PyCall.PyObject,1}:\n",
       " PyObject <matplotlib.lines.Line2D object at 0x14b41dd30>"
      ]
     },
     "execution_count": 666,
     "metadata": {},
     "output_type": "execute_result"
    }
   ],
   "source": [
    "plot(TableMat[:,7])"
   ]
  },
  {
   "cell_type": "markdown",
   "metadata": {},
   "source": [
    "### $\\tau$"
   ]
  },
  {
   "cell_type": "code",
   "execution_count": 667,
   "metadata": {},
   "outputs": [
    {
     "data": {
      "image/png": "[encoded data removed]",
      "text/plain": [
       "Figure(PyObject <Figure size 640x480 with 1 Axes>)"
      ]
     },
     "metadata": {},
     "output_type": "display_data"
    },
    {
     "data": {
      "text/plain": [
       "1-element Array{PyCall.PyObject,1}:\n",
       " PyObject <matplotlib.lines.Line2D object at 0x14b47cf60>"
      ]
     },
     "execution_count": 667,
     "metadata": {},
     "output_type": "execute_result"
    }
   ],
   "source": [
    "plot(TableMat[:,8])"
   ]
  },
  {
   "cell_type": "markdown",
   "metadata": {},
   "source": [
    "### Ergodic Moments\n",
    "\n",
    "\n",
    "I need:\n",
    "\n",
    "$$\\begin{bmatrix}\n",
    "s-\\bar s\\\\\n",
    "\\log n-\\log n_{ss}\\\\\n",
    "\\log k-\\log k_{ss}\n",
    "\\end{bmatrix}=$$"
   ]
  },
  {
   "cell_type": "markdown",
   "metadata": {},
   "source": [
    "$$\\begin{bmatrix}\n",
    "\\rho & 0 & 0\\\\\n",
    "0.026 & 0.312 & -0.047\\\\\n",
    "-0.605 & 0.019 & 0.991\n",
    "\\end{bmatrix}\\begin{bmatrix}\n",
    "s-\\bar s\\\\\n",
    "\\log n-\\log n_{ss}\\\\\n",
    "\\log k-\\log k_{ss}\n",
    "\\end{bmatrix}+\\begin{bmatrix}\n",
    "\\zeta\\\\\n",
    "0\\\\\n",
    "0\n",
    "\\end{bmatrix}[shock]\n",
    "$$"
   ]
  },
  {
   "cell_type": "code",
   "execution_count": 668,
   "metadata": {},
   "outputs": [
    {
     "data": {
      "text/plain": [
       "3-element Array{Float64,1}:\n",
       " 0.00325\n",
       " 0.0    \n",
       " 0.0    "
      ]
     },
     "execution_count": 668,
     "metadata": {},
     "output_type": "execute_result"
    }
   ],
   "source": [
    "A=[ρ 0 0;\n",
    "0.026 0.312 -0.047;\n",
    "-0.605 0.019 0.991]\n",
    "\n",
    "D=[ζ;0;0]"
   ]
  },
  {
   "cell_type": "markdown",
   "metadata": {},
   "source": [
    "We need $\\Sigma=A \\Sigma A' +D*D'$. From checking QuantEcon it seems an iterative approach will help."
   ]
  },
  {
   "cell_type": "code",
   "execution_count": 669,
   "metadata": {},
   "outputs": [
    {
     "data": {
      "text/plain": [
       "3×3 Array{Float64,2}:\n",
       "  1.25744e-5   2.57646e-7  -5.03818e-6\n",
       "  2.57646e-7   2.43337e-6  -3.53369e-5\n",
       " -5.03818e-6  -3.53369e-5   0.00051408"
      ]
     },
     "execution_count": 669,
     "metadata": {},
     "output_type": "execute_result"
    }
   ],
   "source": [
    "tol=0.0000001\n",
    "err=1\n",
    "\n",
    "\n",
    " Σ=D*D'\n",
    "function iter(Σ, A, D, tol, err)\n",
    "    i=1\n",
    "while err > tol \n",
    "        Σp = A *Σ * A' + D*D'\n",
    "        err = norm(Σ -  Σp)\n",
    "        Σ = Σp\n",
    "        i=i+1\n",
    "end\n",
    "    return Σ\n",
    "end\n",
    "iter(Σ, A, D, tol, err)"
   ]
  },
  {
   "cell_type": "markdown",
   "metadata": {},
   "source": [
    "That matrix is the correlation matrix for the exogenous processes."
   ]
  },
  {
   "cell_type": "markdown",
   "metadata": {},
   "source": [
    "## Question 4\n",
    "\n"
   ]
  },
  {
   "cell_type": "markdown",
   "metadata": {},
   "source": [
    "From Shimer I get:\n",
    "\n",
    "$$\\tau=1-\\frac{\\hat \\gamma}{1-\\alpha}(c/y)n$$\n",
    "\n",
    "Page 12 for derivation.\n",
    "\n",
    "I recapitulate the steps I already took in an earlier part of the question.\n",
    "\n",
    "$$\\log \\tau=\\log \\tau_{ss}-\\log c+\\log c_{ss}-\\log n+\\log n_{ss}-\\log y_{ss}+\\log y$$"
   ]
  },
  {
   "cell_type": "code",
   "execution_count": 670,
   "metadata": {},
   "outputs": [
    {
     "data": {
      "text/plain": [
       "taupol (generic function with 1 method)"
      ]
     },
     "execution_count": 670,
     "metadata": {},
     "output_type": "execute_result"
    }
   ],
   "source": [
    "function taufun(s,n,k)\n",
    "    0.4-log(cfun(s,n,k))+log(css)-nll(s,n,k)+log(nss)-log(yss)+log(yll(s,n,k)) \n",
    "end\n",
    "\n",
    "g2 = Calculus.gradient(x -> taufun(x[1],x[2],x[3]))\n",
    "g2([sbar,nss,kss])\n",
    "taus=g2([sbar,nss,kss])[1]\n",
    "taun=g2([sbar,nss,kss])[2]\n",
    "tauk=g2([sbar,nss,kss])[3]\n",
    "\n",
    "taupol(s,n,k)=log(0.4)+taus*(s-sbar)+taun*(n-nss)+tauk*(k-kss)"
   ]
  },
  {
   "cell_type": "code",
   "execution_count": 671,
   "metadata": {},
   "outputs": [
    {
     "data": {
      "text/plain": [
       "-0.4087458843875108"
      ]
     },
     "execution_count": 671,
     "metadata": {},
     "output_type": "execute_result"
    }
   ],
   "source": [
    "taus=g2([sbar,nss,kss])[1]"
   ]
  },
  {
   "cell_type": "code",
   "execution_count": 672,
   "metadata": {},
   "outputs": [
    {
     "data": {
      "text/plain": [
       "0.43762634751265805"
      ]
     },
     "execution_count": 672,
     "metadata": {},
     "output_type": "execute_result"
    }
   ],
   "source": [
    "taun=g2([sbar,nss,kss])[2]"
   ]
  },
  {
   "cell_type": "code",
   "execution_count": 673,
   "metadata": {},
   "outputs": [
    {
     "data": {
      "text/plain": [
       "-0.0014205830664470727"
      ]
     },
     "execution_count": 673,
     "metadata": {},
     "output_type": "execute_result"
    }
   ],
   "source": [
    "tauk=g2([sbar,nss,kss])[3]\n"
   ]
  },
  {
   "cell_type": "markdown",
   "metadata": {},
   "source": [
    "$$\\log \\tau=\\log 0.4 -0.4(s-0.0012)+0.4(n-0.95)-0.0014(k-218)$$ \n",
    "\n",
    "This looks a little screwy but I'm going to run with it."
   ]
  },
  {
   "cell_type": "markdown",
   "metadata": {},
   "source": [
    "## Question 5"
   ]
  },
  {
   "cell_type": "markdown",
   "metadata": {},
   "source": [
    "I combine the following equations\n",
    "\n",
    "$$\\log \\tau=\\log 0.4 -0.4(s-0.0012)+0.4(n-0.95)-0.0014(k-218)$$ \n",
    "\n",
    "\n",
    "$$\\log y= \\log y-0.003 (s-0.0012)+0.726(\\log n-\\log n_{ss})+0.34(\\log k-\\log k_{ss})$$\n",
    "\n",
    "$$\\log n'=\\log 0.95+0.026(s-0.0012)+0.312(\\log n-\\log 0.95)-0.047(\\log\\tilde k-\\log 218.2)$$\n",
    "\n"
   ]
  },
  {
   "cell_type": "markdown",
   "metadata": {},
   "source": [
    "$$\\begin{bmatrix}\n",
    "\\log \\tau-\\log 0.4\\\\\n",
    "\\log y-\\log 210\n",
    "\\end{bmatrix}=\n",
    "\\begin{bmatrix}\n",
    "0.4 & 0.4& -0.0014\\\\\n",
    "0.003 & 0.726 & 0.34\n",
    "\\end{bmatrix}\n",
    "\\begin{bmatrix}\n",
    "s-\\bar s\\\\\n",
    "\\log n-\\log n_{ss}\\\\\n",
    "\\log k-\\log k_{ss}\n",
    "\\end{bmatrix}+\\begin{bmatrix}\n",
    "\\zeta\\\\\n",
    "0\\\\\n",
    "0\n",
    "\\end{bmatrix}[shock]\n",
    "$$\n"
   ]
  },
  {
   "cell_type": "code",
   "execution_count": 674,
   "metadata": {},
   "outputs": [
    {
     "data": {
      "text/plain": [
       "2×2 Array{Float64,2}:\n",
       " 1.69e-6    1.2675e-8  \n",
       " 1.2675e-8  9.50625e-11"
      ]
     },
     "execution_count": 674,
     "metadata": {},
     "output_type": "execute_result"
    }
   ],
   "source": [
    "Ap=[0.4 0.4 -0.0014; 0.003 0.726 0.34]\n",
    "\n",
    "Ap*Σ*Ap'"
   ]
  },
  {
   "cell_type": "markdown",
   "metadata": {},
   "source": [
    "## Question 6"
   ]
  },
  {
   "cell_type": "markdown",
   "metadata": {},
   "source": [
    "I load in some data from FRED. Only labor force is monthly so I interpolate the rest. "
   ]
  },
  {
   "cell_type": "code",
   "execution_count": 675,
   "metadata": {},
   "outputs": [],
   "source": [
    "using CSV\n",
    "df1=CSV.read(\"CLF16OV.csv\") # labor force;"
   ]
  },
  {
   "cell_type": "code",
   "execution_count": 676,
   "metadata": {},
   "outputs": [],
   "source": [
    "df2=CSV.read(\"GDPC1.csv\") # gdp quarterly;\n"
   ]
  },
  {
   "cell_type": "code",
   "execution_count": 677,
   "metadata": {},
   "outputs": [],
   "source": [
    "df3=CSV.read(\"RKNANPUSA666NRUG (1).csv\") #k stock annual;"
   ]
  },
  {
   "cell_type": "code",
   "execution_count": 678,
   "metadata": {},
   "outputs": [
    {
     "data": {
      "text/plain": [
       "40×8 Array{Float64,2}:\n",
       " 1.0      5.73506  1.00137  0.0  0.0  0.0  0.0  0.0\n",
       " 1.00133  5.76521  1.00274  0.0  0.0  0.0  0.0  0.0\n",
       " 1.00117  5.79528  1.00411  0.0  0.0  0.0  0.0  0.0\n",
       " 1.0034   5.82112  1.00547  0.0  0.0  0.0  0.0  0.0\n",
       " 1.00085  5.81697  1.00682  0.0  0.0  0.0  0.0  0.0\n",
       " 1.00228  5.81281  1.00817  0.0  0.0  0.0  0.0  0.0\n",
       " 1.00008  5.80866  1.00952  0.0  0.0  0.0  0.0  0.0\n",
       " 1.00174  5.81899  1.01086  0.0  0.0  0.0  0.0  0.0\n",
       " 1.00176  5.83168  1.01219  0.0  0.0  0.0  0.0  0.0\n",
       " 1.0025   5.84437  1.01352  0.0  0.0  0.0  0.0  0.0\n",
       " 1.00489  5.85707  1.01485  0.0  0.0  0.0  0.0  0.0\n",
       " 1.0069   5.90772  1.01617  0.0  0.0  0.0  0.0  0.0\n",
       " 1.01078  5.9159   1.04415  0.0  0.0  0.0  0.0  0.0\n",
       " ⋮                                    ⋮            \n",
       " 1.01877  6.60526  1.08971  0.0  0.0  0.0  0.0  0.0\n",
       " 1.01786  6.60915  1.09073  0.0  0.0  0.0  0.0  0.0\n",
       " 1.01783  6.61303  1.09175  0.0  0.0  0.0  0.0  0.0\n",
       " 1.01927  6.68588  1.09276  0.0  0.0  0.0  0.0  0.0\n",
       " 1.02309  6.67626  1.09377  0.0  0.0  0.0  0.0  0.0\n",
       " 1.02142  6.66664  1.09478  0.0  0.0  0.0  0.0  0.0\n",
       " 1.0195   6.65702  1.09578  0.0  0.0  0.0  0.0  0.0\n",
       " 1.01967  6.46182  1.09678  0.0  0.0  0.0  0.0  0.0\n",
       " 1.0258   6.51893  1.1345   0.0  0.0  0.0  0.0  0.0\n",
       " 1.02694  6.2764   1.13569  0.0  0.0  0.0  0.0  0.0\n",
       " 1.02639  6.0596   1.13688  0.0  0.0  0.0  0.0  0.0\n",
       " 1.02957  5.80866  1.13806  0.0  0.0  0.0  0.0  0.0"
      ]
     },
     "execution_count": 678,
     "metadata": {},
     "output_type": "execute_result"
    }
   ],
   "source": [
    "data=zeros(40,8)\n",
    "\n",
    "for i in 1:40 # fill in LFP, the only monthly variable\n",
    "    data[i,1]=df1[i,2]/df1[1,2]\n",
    "end\n",
    "\n",
    "for i in 1:4 # fill in GDP, only quarterly, interpolate to monthy\n",
    "    data[i,2]=(df2[1,2]*(4-i)+df2[4,2]*(i))/(4*df2[1,2]*1.0012^i)*ybar\n",
    "end\n",
    "\n",
    "for i in 4:4:36 # fill in GDP, only quarterly, interpolate to monthy\n",
    "    for j in 1:4\n",
    "    data[i+(j-1),2]=(df2[i,2]*(4-j)+df2[i+1,2]*(j))/(4*df2[1,2]*1.0012^i)*ybar\n",
    "    end\n",
    "end\n",
    "\n",
    "for i in 1:4 # fill in GDP, only quarterly, interpolate to monthy\n",
    "    data[i+36,2]=(df2[36,2]*(4-i)+df2[i+1,2]*(i))/(4*df2[1,2]*1.0012^i)*ybar\n",
    "end\n",
    "\n",
    "\n",
    "\n",
    "\n",
    "\n",
    "for i in 1:12# fill in K stock, yearly\n",
    "        data[i,3]=(df3[1,2]*(12-i)+df3[2,2]*i)/(12*df3[1,2]*1.0012^i)\n",
    "end\n",
    "\n",
    "for i in 13:24# fill in K stock, yearly\n",
    "        data[i,3]=(df3[2,2]*(12-i)+df3[3,2]*i)/(12*df3[1,2]*1.0012^i)\n",
    "end\n",
    "\n",
    "for i in 25:36# fill in K stock, yearly\n",
    "        data[i,3]=(df3[3,2]*(12-i)+df3[4,2]*i)/(12*df3[1,2]*1.0012^i)\n",
    "end\n",
    "\n",
    "for i in 37:40# fill in K stock, yearly\n",
    "        data[i,3]=(df3[4,2]*(12-i)+df3[5,2]*i)/(12*df3[1,2]*1.0012^i)\n",
    "end\n",
    "\n",
    "data"
   ]
  },
  {
   "cell_type": "code",
   "execution_count": 679,
   "metadata": {},
   "outputs": [
    {
     "data": {
      "text/plain": [
       "40×8 Array{Float64,2}:\n",
       " 1.0      5.73506  1.00137  1.0       0.0  0.0  0.0  0.0\n",
       " 1.00133  5.76521  1.00274  1.00272   0.0  0.0  0.0  0.0\n",
       " 1.00117  5.79528  1.00411  1.0069    0.0  0.0  0.0  0.0\n",
       " 1.0034   5.82112  1.00547  1.00793   0.0  0.0  0.0  0.0\n",
       " 1.00085  5.81697  1.00682  1.00857   0.0  0.0  0.0  0.0\n",
       " 1.00228  5.81281  1.00817  1.00521   0.0  0.0  0.0  0.0\n",
       " 1.00008  5.80866  1.00952  1.00549   0.0  0.0  0.0  0.0\n",
       " 1.00174  5.81899  1.01086  1.00441   0.0  0.0  0.0  0.0\n",
       " 1.00176  5.83168  1.01219  1.00536   0.0  0.0  0.0  0.0\n",
       " 1.0025   5.84437  1.01352  1.00561   0.0  0.0  0.0  0.0\n",
       " 1.00489  5.85707  1.01485  1.00419   0.0  0.0  0.0  0.0\n",
       " 1.0069   5.90772  1.01617  1.00964   0.0  0.0  0.0  0.0\n",
       " 1.01078  5.9159   1.04415  1.00595   0.0  0.0  0.0  0.0\n",
       " ⋮                                         ⋮            \n",
       " 1.01877  6.60526  1.08971  1.09318   0.0  0.0  0.0  0.0\n",
       " 1.01786  6.60915  1.09073  1.09349   0.0  0.0  0.0  0.0\n",
       " 1.01783  6.61303  1.09175  1.09286   0.0  0.0  0.0  0.0\n",
       " 1.01927  6.68588  1.09276  1.10201   0.0  0.0  0.0  0.0\n",
       " 1.02309  6.67626  1.09377  1.095     0.0  0.0  0.0  0.0\n",
       " 1.02142  6.66664  1.09478  1.0939    0.0  0.0  0.0  0.0\n",
       " 1.0195   6.65702  1.09578  1.09307   0.0  0.0  0.0  0.0\n",
       " 1.01967  6.46182  1.09678  1.05956   0.0  0.0  0.0  0.0\n",
       " 1.0258   6.51893  1.1345   1.06127   0.0  0.0  0.0  0.0\n",
       " 1.02694  6.2764   1.13569  1.01943   0.0  0.0  0.0  0.0\n",
       " 1.02639  6.0596   1.13688  0.983558  0.0  0.0  0.0  0.0\n",
       " 1.02957  5.80866  1.13806  0.938791  0.0  0.0  0.0  0.0"
      ]
     },
     "execution_count": 679,
     "metadata": {},
     "output_type": "execute_result"
    }
   ],
   "source": [
    "\n",
    "for i in 1:40 # TFP\n",
    "    data[i,4]=(data[i,2]/((data[i,1]^0.7*data[i,1]^0.3)*1.0012^(i-1)))/   (data[1,2]/((data[1,1]^0.7*data[1,1]^0.3))   )\n",
    "end\n",
    "data\n",
    "#(data[1,2]/(data[1,1]^0.7*data[1,1]^0.3))"
   ]
  },
  {
   "cell_type": "markdown",
   "metadata": {},
   "source": [
    "The fourth column is detrended TFP, the second is detrended output. The function below tells me what TFP has to be to force Y in the model to equal Y in the data. I interpret this as the level of TFP, so I don't worry about last period's shock decaying or anything. \n",
    "\n",
    "$$Y_{data}=\\exp(\\log yss+\\theta_s(s_{new}-0.0012)+\\theta_n(\\log n-\\log 0.95)+\\theta_k(\\log k-\\log 218))$$\n",
    "$$\\log Y=\\log yss+\\theta_s(s_{new}-0.0012)+\\theta_n(\\log n-\\log 0.95)+\\theta_k(\\log k-\\log 218) $$\n",
    "\n",
    "$$(\\log Y-\\log y_{ss}-\\theta_n(\\log n-\\log 0.95)-\\theta_k(\\log k-\\log 218))/\\theta_s+0.0012=s_{new}$$"
   ]
  },
  {
   "cell_type": "code",
   "execution_count": 680,
   "metadata": {},
   "outputs": [
    {
     "data": {
      "text/plain": [
       "-1.734065906897073"
      ]
     },
     "execution_count": 680,
     "metadata": {},
     "output_type": "execute_result"
    }
   ],
   "source": [
    "snew2(ydat,n,k)=(log(ydat)-log(yll(sbar,n,k))-ycn*(log(n)-log(nss))-yck*(log(k)-log(kss)))/ycs+0.0012\n",
    "#nll(s,n,k)\n",
    "#kll(s,n,k)\n",
    "snew2(data[1,2],nss,kss)"
   ]
  },
  {
   "cell_type": "code",
   "execution_count": 683,
   "metadata": {},
   "outputs": [
    {
     "data": {
      "text/plain": [
       "40×8 Array{Float64,2}:\n",
       " 1.0      5.73506  1.00137  1.0       0.0012   0.949958   218.24         0.0\n",
       " 1.00133  5.76521  1.00274  1.00272   1.56254  0.95       218.2          0.0\n",
       " 1.00117  5.79528  1.00411  1.0069    1.56884  0.989364    84.8275       0.0\n",
       " 1.0034   5.82112  1.00547  1.00793   1.62503  0.958614    33.1353       0.0\n",
       " 1.00085  5.81697  1.00682  1.00857   1.66594  0.90952     12.6162       0.0\n",
       " 1.00228  5.81281  1.00817  1.00521   1.69548  0.855935     4.72659      0.0\n",
       " 1.00008  5.80866  1.00952  1.00549   1.7158   0.802613     1.75466      0.0\n",
       " 1.00174  5.81899  1.01086  1.00441   1.73203  0.751266     0.649112     0.0\n",
       " 1.00176  5.83168  1.01219  1.00536   1.74401  0.70262      0.239891     0.0\n",
       " 1.0025   5.84437  1.01352  1.00561   1.75281  0.656851     0.0887963    0.0\n",
       " 1.00489  5.85707  1.01485  1.00419   1.75945  0.613978     0.0329833    0.0\n",
       " 1.0069   5.90772  1.01617  1.00964   1.77112  0.573941     0.0123102    0.0\n",
       " 1.01078  5.9159   1.04415  1.00595   1.77452  0.536716     0.00460221   0.0\n",
       " ⋮                                             ⋮                            \n",
       " 1.01877  6.60526  1.08971  1.09318   1.88906  0.189558     1.143e-9     0.0\n",
       " 1.01786  6.60915  1.09073  1.09349   1.88965  0.178013     4.59339e-10  0.0\n",
       " 1.01783  6.61303  1.09175  1.09286   1.89024  0.167238     1.86028e-10  0.0\n",
       " 1.01927  6.68588  1.09276  1.10201   1.90119  0.157192     7.59186e-11  0.0\n",
       " 1.02309  6.67626  1.09377  1.095     1.89976  0.147866     3.10236e-11  0.0\n",
       " 1.02142  6.66664  1.09478  1.0939    1.89831  0.13909      1.27897e-11  0.0\n",
       " 1.0195   6.65702  1.09578  1.09307   1.89687  0.130889     5.31891e-12  0.0\n",
       " 1.01967  6.46182  1.09678  1.05956   1.86711  0.123237     2.23122e-12  0.0\n",
       " 1.0258   6.51893  1.1345   1.06127   1.87591  0.116015     9.60343e-13  0.0\n",
       " 1.02694  6.2764   1.13569  1.01943   1.838    0.109451     4.14233e-13  0.0\n",
       " 1.02639  6.0596   1.13688  0.983558  1.80284  0.103214     1.84188e-13  0.0\n",
       " 1.02957  5.80866  1.13806  0.938791  1.76055  0.0974646    8.42629e-14  0.0"
      ]
     },
     "execution_count": 683,
     "metadata": {},
     "output_type": "execute_result"
    }
   ],
   "source": [
    "#1: labor\n",
    "#2: GDP\n",
    "#3: Capital\n",
    "#4: Data TFP\n",
    "#5: Model TFP\n",
    "#6: Extrapolated labor\n",
    "#7: Extrapolated capital\n",
    "data[1,5]=sbar\n",
    "data[1,6]=nss\n",
    "data[1,7]=kss\n",
    "\n",
    "\n",
    "\n",
    "\n",
    "for i in 2:40 # fill in LFP, the only monthly variable\n",
    "    data[i,5]=snew(data[i,2], data[i-1,6] ,data[i-1,7])\n",
    "    data[i,6]=nll(data[i-1,5], data[i-1,6] ,data[i-1,7])\n",
    "    data[i,7]=kll(data[i-1,5], data[i-1,6] ,data[i-1,7])\n",
    "end\n",
    "data"
   ]
  },
  {
   "cell_type": "code",
   "execution_count": 682,
   "metadata": {},
   "outputs": [
    {
     "data": {
      "text/plain": [
       "5.704826041204391"
      ]
     },
     "execution_count": 682,
     "metadata": {},
     "output_type": "execute_result"
    }
   ],
   "source": [
    "yll(sbar,nss,kss)"
   ]
  },
  {
   "cell_type": "markdown",
   "metadata": {},
   "source": [
    "### Data TFP"
   ]
  },
  {
   "cell_type": "code",
   "execution_count": 449,
   "metadata": {},
   "outputs": [
    {
     "data": {
      "image/png": "[encoded data removed]",
      "text/plain": [
       "Figure(PyObject <Figure size 640x480 with 1 Axes>)"
      ]
     },
     "metadata": {},
     "output_type": "display_data"
    },
    {
     "data": {
      "text/plain": [
       "1-element Array{PyCall.PyObject,1}:\n",
       " PyObject <matplotlib.lines.Line2D object at 0x14480ff98>"
      ]
     },
     "execution_count": 449,
     "metadata": {},
     "output_type": "execute_result"
    }
   ],
   "source": [
    "plot(data[:,4])"
   ]
  },
  {
   "cell_type": "markdown",
   "metadata": {},
   "source": [
    "### Model TFP"
   ]
  },
  {
   "cell_type": "markdown",
   "metadata": {},
   "source": [
    "...Obviously something is not right.  This is apparent from looking at the table."
   ]
  },
  {
   "cell_type": "code",
   "execution_count": null,
   "metadata": {},
   "outputs": [],
   "source": []
  }
 ],
 "metadata": {
  "kernelspec": {
   "display_name": "Julia 1.0.0",
   "language": "julia",
   "name": "julia-1.0"
  },
  "language_info": {
   "file_extension": ".jl",
   "mimetype": "application/julia",
   "name": "julia",
   "version": "1.0.0"
  }
 },
 "nbformat": 4,
 "nbformat_minor": 2
}
