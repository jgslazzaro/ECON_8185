{
 "cells": [
  {
   "cell_type": "markdown",
   "metadata": {},
   "source": [
    "# ECON 8185 - HW 2"
   ]
  },
  {
   "cell_type": "markdown",
   "metadata": {},
   "source": [
    "João Lazzaro - santo279@umn.edu"
   ]
  },
  {
   "cell_type": "markdown",
   "metadata": {},
   "source": [
    "Incomplete Version"
   ]
  },
  {
   "cell_type": "markdown",
   "metadata": {},
   "source": [
    "## Question 1"
   ]
  },
  {
   "cell_type": "markdown",
   "metadata": {},
   "source": [
    "We'll consider the following Prototype model from Ellen's Homework 2, which is the same as CKM:\n",
    "\n",
    "$$\\max_{c_t,x_t,l_t} E \\sum_{t=0}^\\infty \\beta^t \\frac{\\left(c_tl_t^\\psi\\right)^{1-\\sigma}}{1-\\sigma} N_t$$\n",
    "S.T. \n",
    "$$ c_t +(1+\\tau_{xt}x_t =r_t k_t +(1-\\tau_{ht})w_t h_t + T_t$$\n",
    "$$ N_{t+1} k_{t+1} = [(1-\\delta)k_t+x_t]N_t$$\n",
    "$$h_t+l_t =1$$\n",
    "$$S_t = P S_{t-1}+Q\\epsilon_t,\\;\\;S_t = [\\ln z_t,\\tau_{ht},\\tau_{xt}, \\ln g_t]$$\n",
    "$$ c_t,x_t\\geq0$$\n",
    "\n",
    "Where $N_t = (1+\\gamma_n)^t$ and firm tecnhology is $Y_t = K_t^\\theta (Z_t L_t)^{1-\\theta}$. $\\gamma_z$ is the rate of labor-augmenting technical progress. The stochastic shocks hitting this economy affect technology, tax rates, and government spending and the stochastic processes are modeled as a VAR(1) process. The resource constraint is $Y_t=N_t(c_t +x_t +g_t)$. We must work with detrended variables, we should use \"hat\" variables, but typing this is time consuming so from now on all variables should be understood as detrended unless I say something about them."
   ]
  },
  {
   "cell_type": "markdown",
   "metadata": {},
   "source": [
    "The detrended FOC's of this model are:\n",
    "\n",
    "$$c_t+(1+\\gamma_z)(1+\\gamma_n)k_{t+1} - (1-\\delta)k_t+g_t = y_t =k_t^\\theta(z_th_t)^{1-\\theta}$$\n",
    "$$\\psi \\frac{c_t}{1-h_t} = (1-\\tau_{ht})(1-\\theta)\\left(\\frac{k_t}{h_t}\\right)^\\theta z_t^{1-\\theta}$$\n",
    "$$c_t^{-\\sigma}(1-h_t)^{\\psi(1-\\sigma)} (1+\\tau_{xt})=\\beta(1+\\gamma_z)^{-\\sigma}E_t c_{t+1}^{-\\sigma} (1- h_{t+1})^{\\psi(1-\\sigma)}\\left(\\theta k_{t+1}^{\\theta}(z_{t+1} h_{t+1})^{1-\\theta} + (1-\\delta)(1+\\theta_{xt+1})\\right)$$\n",
    "\n",
    "Defining some parameters:"
   ]
  },
  {
   "cell_type": "code",
   "execution_count": 30,
   "metadata": {},
   "outputs": [
    {
     "data": {
      "text/plain": [
       "0.0"
      ]
     },
     "execution_count": 30,
     "metadata": {},
     "output_type": "execute_result"
    }
   ],
   "source": [
    "using Plots, NLsolve, ForwardDiff, DataFrames, LinearAlgebra\n",
    "#Parameters:\n",
    "δ = 1   #depreciation rate\n",
    "θ = 1/3  #capital share of output\n",
    "β = 0.9  #Discouting\n",
    "σ = 2  #Elasticity of Intertemporal Substitution\n",
    "ψ = 1    #Labor parameter\n",
    "γn= 0.00    #Population growth rate\n",
    "γz= 0.00   #Productivitu growth rate\n",
    "gss = 0.0 #average g\n",
    "τxss = 0.0 #average τx\n",
    "τhss = 0.0 #average τh\n",
    "zss = 1 #average z\n",
    "\n",
    "#Parameters to be estimated\n",
    "ρg = 0.0\n",
    "ρx = 0.0\n",
    "ρh = 0.0\n",
    "ρz = 0.8\n",
    "σg= 0.0\n",
    "σx = 0.0\n",
    "σz = 0.1\n",
    "σh = 0.0"
   ]
  },
  {
   "cell_type": "markdown",
   "metadata": {},
   "source": [
    "Substituting for $c$, we get an euqation for $k$, and one for $h$. Below, I find the Steady State values:\n"
   ]
  },
  {
   "cell_type": "code",
   "execution_count": 31,
   "metadata": {},
   "outputs": [
    {
     "data": {
      "text/plain": [
       "2-element Array{Float64,1}:\n",
       " 0.05449733248226548\n",
       " 0.8521634783025585 "
      ]
     },
     "execution_count": 31,
     "metadata": {},
     "output_type": "execute_result"
    }
   ],
   "source": [
    "#Function with the FOCs\n",
    "function SS!(eq, vector::Vector)\n",
    "    k,h = (vector)\n",
    "    k1 = k\n",
    "    h1 = h\n",
    "    g, τx,τh, z = gss,τxss,τhss, zss\n",
    "    z1 = z\n",
    "    τx1 = τx\n",
    "\n",
    "    c = k * ((z *h)^(1-θ))^(1/θ) - ((1+γz)*(1+γn)*k1-(1-δ)*k+g)^(1/θ) \n",
    "    c1 = c\n",
    "    eq[1] = (ψ *c)^(1/θ)  - (k/h)*((1-h)*(1-τh)*(1-θ)*z^(1-θ))^(1/θ) \n",
    "\n",
    "    eq[2] = (c^(-σ) *(1-h)^(ψ*(1-σ))*(1+τx)  - (1-δ)*(1+τx1)* β*(1+γz)^(-σ) * c1^(-σ) * (1-h1)^(ψ*(1-σ)))^(-1/θ) -\n",
    "     (β*(1+γz)^(-σ) * c1^(-σ) * (1-h1)^(ψ*(1-σ)) * θ*(z1*h1)^(1-θ))^(-1/θ)* k1\n",
    "    return eq\n",
    "end\n",
    "\n",
    "SteadyState = nlsolve(SS!, [0.2,0.8],ftol = :1.0e-20, method = :trust_region , autoscale = true)\n",
    "kss,hss = SteadyState.zero"
   ]
  },
  {
   "cell_type": "markdown",
   "metadata": {},
   "source": [
    "Log-linearizing the equations we get the following system of equations:\n",
    "\n",
    "\n",
    "$$ 0 = E_t[a_1\\tilde{k}_t +a_2\\tilde{k}_{t+1}+a_3\\tilde{h}_t+a_4 \\tilde{z}_t + a_5 \\tilde{\\tau}_{ht} +a_6 \\tilde{g}_t] $$\n",
    "$$ 0 = E_t[b_1\\tilde{k}_t +b_2\\tilde{k}_{t+1}+b_3\\tilde{k}_{t+2}+b_4 \\tilde{h}_t + b_5 \\tilde{h}_{t+1} b_6 \\tilde{z}_t +b_7 \\tilde{\\tau}_{xt} +b_8 \\tilde{g}_t + b_9 \\tilde{z}_{t+1} +b_{10} \\tau_{xt+1}+b_{11}\\tilde{g}_{t+1}]  $$"
   ]
  },
  {
   "cell_type": "markdown",
   "metadata": {},
   "source": [
    "Where tilde variables are log deviations from Steady State. Stacking up the equations we get:\n",
    "$$0 = E_t \\begin{bmatrix}\n",
    "    1       & 0 & 0  \\\\\n",
    "    0       & 0 & 0  \\\\\n",
    "    0       & b_3 & b_5 \n",
    "\\end{bmatrix}\n",
    "\\begin{bmatrix}\n",
    "    \\tilde{k}_{t+1}\\\\\n",
    "    \\tilde{k}_{t+2}\\\\\n",
    "    \\tilde{h}_{t+1}        \n",
    "\\end{bmatrix} + \\begin{bmatrix}\n",
    "    0       & -1 & 0  \\\\\n",
    "    a_1       & a_2 & a_3  \\\\\n",
    "    b_1       & b_2 & b_4 \n",
    "\\end{bmatrix}\n",
    "\\begin{bmatrix}\n",
    "    \\tilde{k}_{t}\\\\\n",
    "    \\tilde{k}_{t+1}\\\\\n",
    "    \\tilde{h}_{t}        \n",
    "\\end{bmatrix} + \\begin{bmatrix}\n",
    "    0       & 0 & 0 & 0 & 0 & 0 & 0 & 0  \\\\\n",
    "    a_4       & a_5 & 0 & a_6 &0&0&0&0  \\\\\n",
    "    b_6       & 0 & b_7 & b_8 & b_9 & 0 &b_{10} & b_{11} \n",
    "\\end{bmatrix}\\begin{bmatrix}\n",
    "    S_t\\\\\n",
    "    S_{t+1}        \n",
    "\\end{bmatrix}$$\n",
    "We call the first matrix $A_1$, and the second $A_2$. The code below log-linearizes and find these matrices:"
   ]
  },
  {
   "cell_type": "code",
   "execution_count": 32,
   "metadata": {},
   "outputs": [
    {
     "data": {
      "text/plain": [
       "([1.0 0.0 0.0; 0.0 0.0 0.0; 0.0 -0.34122 -4.34115], [0.0 -1.0 0.0; -1.0 0.542502 -4.65391; -1.0 1.48974 5.26362])"
      ]
     },
     "execution_count": 32,
     "metadata": {},
     "output_type": "execute_result"
    }
   ],
   "source": [
    "function loglineq1(vector::Vector)\n",
    "    k,k1,h,z,τh,g= vector\n",
    "\n",
    "    c = k^θ * (z *h)^(1-θ) - ((1+γz)*(1+γn)*k1-(1-δ)*k+g)\n",
    "    eq = ψ *c - (1-τh)*(1-θ) *(k/h)^θ *z^(1-θ)*(1-h)\n",
    "\n",
    "    return eq\n",
    "end\n",
    "function loglineq2(vector::Vector)\n",
    "    k,k1,k2,h,h1,z,τx,g,z1,τx1,g1 = (vector)\n",
    "    c = k^θ * (z *h)^(1-θ) - ((1+γz)*(1+γn)*k1-(1-δ)*k+g)\n",
    "    c1 = k1^θ * (z1 *h1)^(1-θ) - ((1+γz)*(1+γn)*k2-(1-δ)*k1+g1)\n",
    "    eq = c^(-σ) *(1-h)^(ψ*(1-σ))*(1+τx)  -  β*(1+γz)^(-σ) * c1^(-σ) * (1-h1)^(ψ*(1-σ)) *(θ*k1^(-θ)*(z1*h1)^(1-θ)+(1-δ)*(1+τx1))\n",
    "    return eq\n",
    "end\n",
    "\n",
    "\n",
    "#log deviations\n",
    "T=ForwardDiff.gradient(loglineq1,[kss,kss,hss,zss,τhss,gss])\n",
    "a =[-kss*T[1]/(kss*T[1]),-kss*T[2]/(kss*T[1]),-hss*T[3]/(kss*T[1]),\n",
    "-zss*T[4]/(kss*T[1]),-τhss*T[5]/(kss*T[1]),-gss*T[6]/(kss*T[1])]\n",
    "if ψ==0\n",
    "    a[1],a[2:end]=-1,zeros(5)\n",
    "end\n",
    "\n",
    "T=ForwardDiff.gradient(loglineq2,[kss,kss,kss,hss,hss,zss,τxss,gss,zss,τxss,gss])\n",
    "b = [kss*T[1]/(-kss*T[1]),kss*T[2]/(-kss*T[1]),kss*T[3]/(-kss*T[1]),hss*T[4]/(-kss*T[1]),\n",
    "hss*T[5]/(-kss*T[1]),zss*T[6]/(-kss*T[1]),τxss*T[7]/(-kss*T[1]),gss*T[8]/(-kss*T[1]),\n",
    "zss*T[9]/(-kss*T[1]),τxss*T[10]/(-kss*T[1]),gss*T[11]/(-kss*T[1])]\n",
    "\n",
    "A1 = [1 0 0; 0 0 0; 0 b[3] b[5]]\n",
    "A2 = [0 -1 0; a[1] a[2] a[3]; b[1] b[2] b[4]]\n",
    "U = [0 0 0 0 0 0 0 0;\n",
    "a[4] a[5] 0 a[6] 0 0 0 0;\n",
    "b[6] 0 b[7] b[8] b[9] 0 b[10] b[11]]\n",
    "\n",
    "A1,A2"
   ]
  },
  {
   "cell_type": "code",
   "execution_count": 33,
   "metadata": {},
   "outputs": [
    {
     "data": {
      "text/plain": [
       "-1201.8263864202845"
      ]
     },
     "execution_count": 33,
     "metadata": {},
     "output_type": "execute_result"
    }
   ],
   "source": [
    "T[1]"
   ]
  },
  {
   "cell_type": "markdown",
   "metadata": {},
   "source": [
    "We look for a solution of the form: $$\\tilde{k}_{t+1} = A \\tilde{k}_t +BS_t $$ $$ Z_t = C X_t + D S_t $$ $$S_t = P S_{t-1} + Q \\epsilon_t$$\n",
    "Where $Z_t = [\\tilde{k}_{t+1},\\tilde{h}_t]'$ and $S_t$ are the stochastic exogenous variables. We compute the generalized eigenvalues and eigenvectors for matrices $A_1$ and $−A_2$ because $A_1$ is not invertible. Thus, $A_2 V = -A_1 V \\Pi$ and we can get $A$ and $C$ by:\n",
    "$$A = V_{11} \\Pi_{1,1} V_{1,1}^{-1}$$\n",
    " $$C = V_{2,1}V_{1,1}^{-1}$$"
   ]
  },
  {
   "cell_type": "code",
   "execution_count": 34,
   "metadata": {},
   "outputs": [
    {
     "data": {
      "text/plain": [
       "3×3 Diagonal{Float64,Array{Float64,1}}:\n",
       " 1.40633e-16   ⋅         ⋅     \n",
       "  ⋅           0.380891   ⋅     \n",
       "  ⋅            ⋅        1.04384"
      ]
     },
     "execution_count": 34,
     "metadata": {},
     "output_type": "execute_result"
    }
   ],
   "source": [
    "eig = eigen(A1,-A2)\n",
    "V=eig.vectors\n",
    "Π = eig.values\n",
    "#Sorting\n",
    "for j=1:3\n",
    "for i=1:2\n",
    "    if 0<abs(Π[i+1])<abs(Π[i])\n",
    "        Π[i],Π[i+1] = Π[i+1],Π[i]\n",
    "        V[:,i],V[:,i+1] = V[:,i+1],V[:,i]\n",
    "    elseif abs(Π[i]) == 0\n",
    "        Π[i],Π[end] =Π[end],Π[i]\n",
    "        V[:,i],V[:,end]=V[:,end],V[:,i]\n",
    "    end\n",
    "end\n",
    "end\n",
    "if abs(Π[1])>1\n",
    "    error(\"All Eigen Values outside unit circle\")\n",
    "end\n",
    "Π= Diagonal(Π)"
   ]
  },
  {
   "cell_type": "code",
   "execution_count": 35,
   "metadata": {},
   "outputs": [
    {
     "data": {
      "text/plain": [
       "2-element Array{Float64,1}:\n",
       "  4.0112935707848227e-16\n",
       " -3.15292615284466e-17  "
      ]
     },
     "execution_count": 35,
     "metadata": {},
     "output_type": "execute_result"
    }
   ],
   "source": [
    "A = V[1,1]*Π[1,1]*inv(V[1,1])\n",
    "C = V[2:end,1]*(V[1,1])"
   ]
  },
  {
   "cell_type": "code",
   "execution_count": 36,
   "metadata": {},
   "outputs": [
    {
     "data": {
      "text/plain": [
       "4×4 Array{Float64,2}:\n",
       " 0.1  0.0  0.0  0.0\n",
       " 0.0  0.0  0.0  0.0\n",
       " 0.0  0.0  0.0  0.0\n",
       " 0.0  0.0  0.0  0.0"
      ]
     },
     "execution_count": 36,
     "metadata": {},
     "output_type": "execute_result"
    }
   ],
   "source": [
    "\n",
    "P = [ρz 0 0 0;\n",
    "0 ρh 0 0 ;\n",
    "0 0 ρx 0 ;\n",
    "0 0 0 ρg]\n",
    "Q = [σz 0 0 0;\n",
    "0 σh 0 0 ;\n",
    "0 0 σx 0 ;\n",
    "0 0 0 σg]"
   ]
  },
  {
   "cell_type": "markdown",
   "metadata": {},
   "source": [
    "Finally, to get the matrices $B$ and $D$, we just need to solve a linear system of equations (see Ellen's notes):"
   ]
  },
  {
   "cell_type": "code",
   "execution_count": 37,
   "metadata": {},
   "outputs": [
    {
     "data": {
      "text/plain": [
       "4-element Array{Float64,1}:\n",
       " -0.6853727006202911    \n",
       "  2.1577487721322272e-29\n",
       "  2.1577487721322272e-29\n",
       "  2.1577487721322272e-29"
      ]
     },
     "execution_count": 37,
     "metadata": {},
     "output_type": "execute_result"
    }
   ],
   "source": [
    "function system!(eq,vector::Vector)\n",
    "    #vector = rand(8)\n",
    "    #eq= rand(8)\n",
    "    B=vector[1:4]'\n",
    "    D2 = vector[5:8]'\n",
    "\n",
    "    eq[1:4] = a[2].*B .+ a[3].*D2 .+ [a[4] a[5] 0 a[6]]\n",
    "    eq[5:8] = b[2].*B .+ b[3].*A.*B .+ b[3].*B*P .+ b[4].*D2 .+ b[5].*C[2].*B .+ b[5].*B*P.+\n",
    "    [b[6] 0 b[7] b[8]].+[b[9] 0 b[10] b[11] ]*P\n",
    " return     eq\n",
    "end\n",
    "\n",
    "\n",
    "Sol = nlsolve(system!, ones(8),ftol = :1.0e-20, method = :trust_region , autoscale = true)\n",
    "D=ones(2,4)\n",
    "D[1,:]= Sol.zero[1:4]\n",
    "D[2,:]= Sol.zero[5:8]\n"
   ]
  },
  {
   "cell_type": "markdown",
   "metadata": {},
   "source": [
    "Just to check that the code works, We simulate a series for capital and labor with the parameters above."
   ]
  },
  {
   "cell_type": "code",
   "execution_count": 39,
   "metadata": {},
   "outputs": [
    {
     "data": {
      "image/svg+xml": [
       "<?xml version=\"1.0\" encoding=\"utf-8\"?>\n",
       "<svg xmlns=\"http://www.w3.org/2000/svg\" xmlns:xlink=\"http://www.w3.org/1999/xlink\" width=\"600\" height=\"400\" viewBox=\"0 0 2400 1600\">\n",
       "<defs>\n",
       "  <clipPath id=\"clip4100\">\n",
       "    <rect x=\"0\" y=\"0\" width=\"2000\" height=\"2000\"/>\n",
       "  </clipPath>\n",
       "</defs>\n",
       "<defs>\n",
       "  <clipPath id=\"clip4101\">\n",
       "    <rect x=\"0\" y=\"0\" width=\"2400\" height=\"1600\"/>\n",
       "  </clipPath>\n",
       "</defs>\n",
       "<polygon clip-path=\"url(#clip4101)\" points=\"\n",
       "0,1600 2400,1600 2400,0 0,0 \n",
       "  \" fill=\"#ffffff\" fill-opacity=\"1\"/>\n",
       "<defs>\n",
       "  <clipPath id=\"clip4102\">\n",
       "    <rect x=\"480\" y=\"0\" width=\"1681\" height=\"1600\"/>\n",
       "  </clipPath>\n",
       "</defs>\n",
       "<polygon clip-path=\"url(#clip4101)\" points=\"\n",
       "216.266,1503.47 2321.26,1503.47 2321.26,47.2441 216.266,47.2441 \n",
       "  \" fill=\"#ffffff\" fill-opacity=\"1\"/>\n",
       "<defs>\n",
       "  <clipPath id=\"clip4103\">\n",
       "    <rect x=\"216\" y=\"47\" width=\"2106\" height=\"1457\"/>\n",
       "  </clipPath>\n",
       "</defs>\n",
       "<polyline clip-path=\"url(#clip4103)\" style=\"stroke:#000000; stroke-width:2; stroke-opacity:0.1; fill:none\" points=\"\n",
       "  255.783,1503.47 255.783,47.2441 \n",
       "  \"/>\n",
       "<polyline clip-path=\"url(#clip4103)\" style=\"stroke:#000000; stroke-width:2; stroke-opacity:0.1; fill:none\" points=\"\n",
       "  757.258,1503.47 757.258,47.2441 \n",
       "  \"/>\n",
       "<polyline clip-path=\"url(#clip4103)\" style=\"stroke:#000000; stroke-width:2; stroke-opacity:0.1; fill:none\" points=\"\n",
       "  1258.73,1503.47 1258.73,47.2441 \n",
       "  \"/>\n",
       "<polyline clip-path=\"url(#clip4103)\" style=\"stroke:#000000; stroke-width:2; stroke-opacity:0.1; fill:none\" points=\"\n",
       "  1760.21,1503.47 1760.21,47.2441 \n",
       "  \"/>\n",
       "<polyline clip-path=\"url(#clip4103)\" style=\"stroke:#000000; stroke-width:2; stroke-opacity:0.1; fill:none\" points=\"\n",
       "  2261.68,1503.47 2261.68,47.2441 \n",
       "  \"/>\n",
       "<polyline clip-path=\"url(#clip4103)\" style=\"stroke:#000000; stroke-width:2; stroke-opacity:0.1; fill:none\" points=\"\n",
       "  216.266,1430.67 2321.26,1430.67 \n",
       "  \"/>\n",
       "<polyline clip-path=\"url(#clip4103)\" style=\"stroke:#000000; stroke-width:2; stroke-opacity:0.1; fill:none\" points=\"\n",
       "  216.266,1229.7 2321.26,1229.7 \n",
       "  \"/>\n",
       "<polyline clip-path=\"url(#clip4103)\" style=\"stroke:#000000; stroke-width:2; stroke-opacity:0.1; fill:none\" points=\"\n",
       "  216.266,1028.73 2321.26,1028.73 \n",
       "  \"/>\n",
       "<polyline clip-path=\"url(#clip4103)\" style=\"stroke:#000000; stroke-width:2; stroke-opacity:0.1; fill:none\" points=\"\n",
       "  216.266,827.761 2321.26,827.761 \n",
       "  \"/>\n",
       "<polyline clip-path=\"url(#clip4103)\" style=\"stroke:#000000; stroke-width:2; stroke-opacity:0.1; fill:none\" points=\"\n",
       "  216.266,626.79 2321.26,626.79 \n",
       "  \"/>\n",
       "<polyline clip-path=\"url(#clip4103)\" style=\"stroke:#000000; stroke-width:2; stroke-opacity:0.1; fill:none\" points=\"\n",
       "  216.266,425.819 2321.26,425.819 \n",
       "  \"/>\n",
       "<polyline clip-path=\"url(#clip4103)\" style=\"stroke:#000000; stroke-width:2; stroke-opacity:0.1; fill:none\" points=\"\n",
       "  216.266,224.848 2321.26,224.848 \n",
       "  \"/>\n",
       "<polyline clip-path=\"url(#clip4101)\" style=\"stroke:#000000; stroke-width:4; stroke-opacity:1; fill:none\" points=\"\n",
       "  216.266,1503.47 2321.26,1503.47 \n",
       "  \"/>\n",
       "<polyline clip-path=\"url(#clip4101)\" style=\"stroke:#000000; stroke-width:4; stroke-opacity:1; fill:none\" points=\"\n",
       "  216.266,1503.47 216.266,47.2441 \n",
       "  \"/>\n",
       "<polyline clip-path=\"url(#clip4101)\" style=\"stroke:#000000; stroke-width:4; stroke-opacity:1; fill:none\" points=\"\n",
       "  255.783,1503.47 255.783,1481.63 \n",
       "  \"/>\n",
       "<polyline clip-path=\"url(#clip4101)\" style=\"stroke:#000000; stroke-width:4; stroke-opacity:1; fill:none\" points=\"\n",
       "  757.258,1503.47 757.258,1481.63 \n",
       "  \"/>\n",
       "<polyline clip-path=\"url(#clip4101)\" style=\"stroke:#000000; stroke-width:4; stroke-opacity:1; fill:none\" points=\"\n",
       "  1258.73,1503.47 1258.73,1481.63 \n",
       "  \"/>\n",
       "<polyline clip-path=\"url(#clip4101)\" style=\"stroke:#000000; stroke-width:4; stroke-opacity:1; fill:none\" points=\"\n",
       "  1760.21,1503.47 1760.21,1481.63 \n",
       "  \"/>\n",
       "<polyline clip-path=\"url(#clip4101)\" style=\"stroke:#000000; stroke-width:4; stroke-opacity:1; fill:none\" points=\"\n",
       "  2261.68,1503.47 2261.68,1481.63 \n",
       "  \"/>\n",
       "<polyline clip-path=\"url(#clip4101)\" style=\"stroke:#000000; stroke-width:4; stroke-opacity:1; fill:none\" points=\"\n",
       "  216.266,1430.67 247.841,1430.67 \n",
       "  \"/>\n",
       "<polyline clip-path=\"url(#clip4101)\" style=\"stroke:#000000; stroke-width:4; stroke-opacity:1; fill:none\" points=\"\n",
       "  216.266,1229.7 247.841,1229.7 \n",
       "  \"/>\n",
       "<polyline clip-path=\"url(#clip4101)\" style=\"stroke:#000000; stroke-width:4; stroke-opacity:1; fill:none\" points=\"\n",
       "  216.266,1028.73 247.841,1028.73 \n",
       "  \"/>\n",
       "<polyline clip-path=\"url(#clip4101)\" style=\"stroke:#000000; stroke-width:4; stroke-opacity:1; fill:none\" points=\"\n",
       "  216.266,827.761 247.841,827.761 \n",
       "  \"/>\n",
       "<polyline clip-path=\"url(#clip4101)\" style=\"stroke:#000000; stroke-width:4; stroke-opacity:1; fill:none\" points=\"\n",
       "  216.266,626.79 247.841,626.79 \n",
       "  \"/>\n",
       "<polyline clip-path=\"url(#clip4101)\" style=\"stroke:#000000; stroke-width:4; stroke-opacity:1; fill:none\" points=\"\n",
       "  216.266,425.819 247.841,425.819 \n",
       "  \"/>\n",
       "<polyline clip-path=\"url(#clip4101)\" style=\"stroke:#000000; stroke-width:4; stroke-opacity:1; fill:none\" points=\"\n",
       "  216.266,224.848 247.841,224.848 \n",
       "  \"/>\n",
       "<g clip-path=\"url(#clip4101)\">\n",
       "<text style=\"fill:#000000; fill-opacity:1; font-family:Arial,Helvetica Neue,Helvetica,sans-serif; font-size:48px; text-anchor:middle;\" transform=\"rotate(0, 255.783, 1557.47)\" x=\"255.783\" y=\"1557.47\">0</text>\n",
       "</g>\n",
       "<g clip-path=\"url(#clip4101)\">\n",
       "<text style=\"fill:#000000; fill-opacity:1; font-family:Arial,Helvetica Neue,Helvetica,sans-serif; font-size:48px; text-anchor:middle;\" transform=\"rotate(0, 757.258, 1557.47)\" x=\"757.258\" y=\"1557.47\">25</text>\n",
       "</g>\n",
       "<g clip-path=\"url(#clip4101)\">\n",
       "<text style=\"fill:#000000; fill-opacity:1; font-family:Arial,Helvetica Neue,Helvetica,sans-serif; font-size:48px; text-anchor:middle;\" transform=\"rotate(0, 1258.73, 1557.47)\" x=\"1258.73\" y=\"1557.47\">50</text>\n",
       "</g>\n",
       "<g clip-path=\"url(#clip4101)\">\n",
       "<text style=\"fill:#000000; fill-opacity:1; font-family:Arial,Helvetica Neue,Helvetica,sans-serif; font-size:48px; text-anchor:middle;\" transform=\"rotate(0, 1760.21, 1557.47)\" x=\"1760.21\" y=\"1557.47\">75</text>\n",
       "</g>\n",
       "<g clip-path=\"url(#clip4101)\">\n",
       "<text style=\"fill:#000000; fill-opacity:1; font-family:Arial,Helvetica Neue,Helvetica,sans-serif; font-size:48px; text-anchor:middle;\" transform=\"rotate(0, 2261.68, 1557.47)\" x=\"2261.68\" y=\"1557.47\">100</text>\n",
       "</g>\n",
       "<g clip-path=\"url(#clip4101)\">\n",
       "<text style=\"fill:#000000; fill-opacity:1; font-family:Arial,Helvetica Neue,Helvetica,sans-serif; font-size:48px; text-anchor:end;\" transform=\"rotate(0, 192.266, 1448.17)\" x=\"192.266\" y=\"1448.17\">-0.75</text>\n",
       "</g>\n",
       "<g clip-path=\"url(#clip4101)\">\n",
       "<text style=\"fill:#000000; fill-opacity:1; font-family:Arial,Helvetica Neue,Helvetica,sans-serif; font-size:48px; text-anchor:end;\" transform=\"rotate(0, 192.266, 1247.2)\" x=\"192.266\" y=\"1247.2\">-0.50</text>\n",
       "</g>\n",
       "<g clip-path=\"url(#clip4101)\">\n",
       "<text style=\"fill:#000000; fill-opacity:1; font-family:Arial,Helvetica Neue,Helvetica,sans-serif; font-size:48px; text-anchor:end;\" transform=\"rotate(0, 192.266, 1046.23)\" x=\"192.266\" y=\"1046.23\">-0.25</text>\n",
       "</g>\n",
       "<g clip-path=\"url(#clip4101)\">\n",
       "<text style=\"fill:#000000; fill-opacity:1; font-family:Arial,Helvetica Neue,Helvetica,sans-serif; font-size:48px; text-anchor:end;\" transform=\"rotate(0, 192.266, 845.261)\" x=\"192.266\" y=\"845.261\">0.00</text>\n",
       "</g>\n",
       "<g clip-path=\"url(#clip4101)\">\n",
       "<text style=\"fill:#000000; fill-opacity:1; font-family:Arial,Helvetica Neue,Helvetica,sans-serif; font-size:48px; text-anchor:end;\" transform=\"rotate(0, 192.266, 644.29)\" x=\"192.266\" y=\"644.29\">0.25</text>\n",
       "</g>\n",
       "<g clip-path=\"url(#clip4101)\">\n",
       "<text style=\"fill:#000000; fill-opacity:1; font-family:Arial,Helvetica Neue,Helvetica,sans-serif; font-size:48px; text-anchor:end;\" transform=\"rotate(0, 192.266, 443.319)\" x=\"192.266\" y=\"443.319\">0.50</text>\n",
       "</g>\n",
       "<g clip-path=\"url(#clip4101)\">\n",
       "<text style=\"fill:#000000; fill-opacity:1; font-family:Arial,Helvetica Neue,Helvetica,sans-serif; font-size:48px; text-anchor:end;\" transform=\"rotate(0, 192.266, 242.348)\" x=\"192.266\" y=\"242.348\">0.75</text>\n",
       "</g>\n",
       "<polyline clip-path=\"url(#clip4103)\" style=\"stroke:#009af9; stroke-width:4; stroke-opacity:1; fill:none\" points=\"\n",
       "  275.842,783.951 295.901,721.754 315.96,821.065 336.019,863.749 356.078,783.131 376.137,838.086 396.196,979.96 416.255,931.558 436.314,1153.67 456.373,928.458 \n",
       "  476.432,1008.81 496.491,1350.49 516.55,1462.26 536.609,1447.6 556.668,1211.78 576.727,1385.24 596.786,1243.47 616.845,1111.12 636.904,1219.13 656.963,1244.53 \n",
       "  677.022,1215.98 697.081,970.849 717.14,795.289 737.199,976.169 757.258,900.081 777.317,947.54 797.376,872.837 817.435,991.251 837.494,1257.95 857.553,1289.93 \n",
       "  877.612,1164.65 897.671,1069.75 917.73,863.792 937.789,799.186 957.848,810.903 977.907,411.983 997.966,157.331 1018.03,298.641 1038.08,562.699 1058.14,250.553 \n",
       "  1078.2,294.214 1098.26,496.881 1118.32,601.439 1138.38,425.478 1158.44,525.933 1178.5,413.055 1198.56,515.402 1218.62,590.185 1238.67,577.868 1258.73,689.169 \n",
       "  1278.79,873.419 1298.85,669.755 1318.91,986.507 1338.97,691.226 1359.03,823.596 1379.09,645.465 1399.15,494.582 1419.21,713.538 1439.26,253.973 1459.32,261.38 \n",
       "  1479.38,460.63 1499.44,556.426 1519.5,1031.26 1539.56,665.087 1559.62,700.554 1579.68,665.455 1599.74,313.638 1619.8,88.4582 1639.85,301.317 1659.91,717.5 \n",
       "  1679.97,928.717 1700.03,906.277 1720.09,755.952 1740.15,1086.72 1760.21,955.707 1780.27,535.286 1800.33,700.658 1820.39,394.858 1840.45,368.745 1860.5,856.074 \n",
       "  1880.56,650.805 1900.62,517.03 1920.68,660.204 1940.74,844.084 1960.8,701.121 1980.86,679.488 2000.92,618.799 2020.98,1096.5 2041.04,1120.19 2061.09,975.789 \n",
       "  2081.15,836.497 2101.21,719.416 2121.27,548.056 2141.33,497.65 2161.39,352.774 2181.45,161.405 2201.51,445.968 2221.57,427.11 2241.63,585.228 2261.68,672.212 \n",
       "  \n",
       "  \"/>\n",
       "<polyline clip-path=\"url(#clip4103)\" style=\"stroke:#e26f46; stroke-width:4; stroke-opacity:1; fill:none\" points=\"\n",
       "  275.842,142.72 295.901,794.629 315.96,825.668 336.019,839.009 356.078,813.812 376.137,830.988 396.196,875.329 416.255,860.201 436.314,929.621 456.373,859.233 \n",
       "  476.432,884.347 496.491,991.134 516.55,1026.07 536.609,1021.48 556.668,947.781 576.727,1001.99 596.786,957.685 616.845,916.323 636.904,950.081 656.963,958.018 \n",
       "  677.022,949.095 697.081,872.481 717.14,817.612 737.199,874.144 757.258,850.364 777.317,865.197 797.376,841.849 817.435,878.858 837.494,962.212 857.553,972.207 \n",
       "  877.612,933.052 897.671,903.392 917.73,839.022 937.789,818.83 957.848,822.492 977.907,697.814 997.966,618.225 1018.03,662.39 1038.08,744.919 1058.14,647.361 \n",
       "  1078.2,661.006 1098.26,724.348 1118.32,757.026 1138.38,702.032 1158.44,733.428 1178.5,698.149 1198.56,730.136 1218.62,753.509 1238.67,749.659 1258.73,784.446 \n",
       "  1278.79,842.031 1298.85,778.378 1318.91,877.375 1338.97,785.088 1359.03,826.459 1379.09,770.786 1399.15,723.629 1419.21,792.062 1439.26,648.429 1459.32,650.744 \n",
       "  1479.38,713.018 1499.44,742.958 1519.5,891.362 1539.56,776.919 1559.62,788.004 1579.68,777.034 1599.74,667.077 1619.8,596.699 1639.85,663.226 1659.91,793.3 \n",
       "  1679.97,859.314 1700.03,852.3 1720.09,805.318 1740.15,908.697 1760.21,867.749 1780.27,736.351 1800.33,788.036 1820.39,692.461 1840.45,684.3 1860.5,836.61 \n",
       "  1880.56,772.455 1900.62,730.645 1920.68,775.393 1940.74,832.862 1960.8,788.181 1980.86,781.42 2000.92,762.452 2020.98,911.753 2041.04,919.157 2061.09,874.026 \n",
       "  2081.15,830.491 2101.21,793.899 2121.27,740.342 2141.33,724.588 2161.39,679.308 2181.45,619.498 2201.51,708.435 2221.57,702.541 2241.63,751.96 2261.68,779.145 \n",
       "  \n",
       "  \"/>\n",
       "<polygon clip-path=\"url(#clip4101)\" points=\"\n",
       "1977.15,312.204 2249.26,312.204 2249.26,130.764 1977.15,130.764 \n",
       "  \" fill=\"#ffffff\" fill-opacity=\"1\"/>\n",
       "<polyline clip-path=\"url(#clip4101)\" style=\"stroke:#000000; stroke-width:4; stroke-opacity:1; fill:none\" points=\"\n",
       "  1977.15,312.204 2249.26,312.204 2249.26,130.764 1977.15,130.764 1977.15,312.204 \n",
       "  \"/>\n",
       "<polyline clip-path=\"url(#clip4101)\" style=\"stroke:#009af9; stroke-width:4; stroke-opacity:1; fill:none\" points=\"\n",
       "  2001.15,191.244 2145.15,191.244 \n",
       "  \"/>\n",
       "<g clip-path=\"url(#clip4101)\">\n",
       "<text style=\"fill:#000000; fill-opacity:1; font-family:Arial,Helvetica Neue,Helvetica,sans-serif; font-size:48px; text-anchor:start;\" transform=\"rotate(0, 2169.15, 208.744)\" x=\"2169.15\" y=\"208.744\">K</text>\n",
       "</g>\n",
       "<polyline clip-path=\"url(#clip4101)\" style=\"stroke:#e26f46; stroke-width:4; stroke-opacity:1; fill:none\" points=\"\n",
       "  2001.15,251.724 2145.15,251.724 \n",
       "  \"/>\n",
       "<g clip-path=\"url(#clip4101)\">\n",
       "<text style=\"fill:#000000; fill-opacity:1; font-family:Arial,Helvetica Neue,Helvetica,sans-serif; font-size:48px; text-anchor:start;\" transform=\"rotate(0, 2169.15, 269.224)\" x=\"2169.15\" y=\"269.224\">L</text>\n",
       "</g>\n",
       "</svg>\n"
      ]
     },
     "execution_count": 39,
     "metadata": {},
     "output_type": "execute_result"
    }
   ],
   "source": [
    "T=100\n",
    "S= ones(4,T).* [0,0,0,zss]\n",
    "Z=ones(2,T).*[kss,hss]\n",
    "\n",
    "\n",
    "for t=2:T\n",
    "    S[:,t] = P*S[:,t-1]+Q*randn(4,1)\n",
    "    Z[:,t] = C*Z[1,t] + D*S[:,t]\n",
    "end\n",
    "\n",
    "plot([Z[1,:],Z[2,:]],labels = [\"K\",\"L\"])\n"
   ]
  },
  {
   "cell_type": "markdown",
   "metadata": {},
   "source": [
    "It works!!! In the next question we wil estimate P and Q!"
   ]
  },
  {
   "cell_type": "code",
   "execution_count": null,
   "metadata": {},
   "outputs": [],
   "source": []
  }
 ],
 "metadata": {
  "kernelspec": {
   "display_name": "Julia 1.0.0",
   "language": "julia",
   "name": "julia-1.0"
  },
  "language_info": {
   "file_extension": ".jl",
   "mimetype": "application/julia",
   "name": "julia",
   "version": "1.0.0"
  }
 },
 "nbformat": 4,
 "nbformat_minor": 2
}
