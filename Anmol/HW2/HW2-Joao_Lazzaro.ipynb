{
 "cells": [
  {
   "cell_type": "markdown",
   "metadata": {},
   "source": [
    "# ECON 8185 - HW 2"
   ]
  },
  {
   "cell_type": "markdown",
   "metadata": {},
   "source": [
    "João Lazzaro - santo279@umn.edu"
   ]
  },
  {
   "cell_type": "markdown",
   "metadata": {},
   "source": [
    "Incomplete Version"
   ]
  },
  {
   "cell_type": "markdown",
   "metadata": {},
   "source": [
    "## Question 1"
   ]
  },
  {
   "cell_type": "markdown",
   "metadata": {},
   "source": [
    "We'll consider the following Prototype model from Ellen's Homework 2, which is the same as CKM:\n",
    "\n",
    "$$\\max_{c_t,x_t,l_t} E \\sum_{t=0}^\\infty \\beta^t \\frac{\\left(c_tl_t^\\psi\\right)^{1-\\sigma}}{1-\\sigma} N_t$$\n",
    "S.T. \n",
    "$$ c_t +(1+\\tau_{xt}x_t =r_t k_t +(1-\\tau_{ht})w_t h_t + T_t$$\n",
    "$$ N_{t+1} k_{t+1} = [(1-\\delta)k_t+x_t]N_t$$\n",
    "$$h_t+l_t =1$$\n",
    "$$S_t = P S_{t-1}+Q\\epsilon_t,\\;\\;S_t = [\\ln z_t,\\tau_{ht},\\tau_{xt}, \\ln g_t]$$\n",
    "$$ c_t,x_t\\geq0$$\n",
    "\n",
    "Where $N_t = (1+\\gamma_n)^t$ and firm tecnhology is $Y_t = K_t^\\theta (Z_t L_t)^{1-\\theta}$. $\\gamma_z$ is the rate of labor-augmenting technical progress. The stochastic shocks hitting this economy affect technology, tax rates, and government spending and the stochastic processes are modeled as a VAR(1) process. The resource constraint is $Y_t=N_t(c_t +x_t +g_t)$. We must work with detrended variables, we should use \"hat\" variables, but typing this is time consuming so from now on all variables should be understood as detrended unless I say something about them."
   ]
  },
  {
   "cell_type": "markdown",
   "metadata": {},
   "source": [
    "The detrended FOC's of this model are:\n",
    "\n",
    "$$c_t+(1+\\gamma_z)(1+\\gamma_n)k_{t+1} - (1-\\delta)k_t+g_t = y_t =k_t^\\theta(z_th_t)^{1-\\theta}$$\n",
    "$$\\psi \\frac{c_t}{1-h_t} = (1-\\tau_{ht})(1-\\theta)\\left(\\frac{k_t}{h_t}\\right)^\\theta z_t^{1-\\theta}$$\n",
    "$$c_t^{-\\sigma}(1-h_t)^{\\psi(1-\\sigma)} (1+\\tau_{xt})=\\beta(1+\\gamma_z)^{-\\sigma}E_t c_{t+1}^{-\\sigma} (1- h_{t+1})^{\\psi(1-\\sigma)}\\left(\\theta k_{t+1}^{\\theta}(z_{t+1} h_{t+1})^{1-\\theta} + (1-\\delta)(1+\\theta_{xt+1})\\right)$$\n",
    "\n",
    "Defining some parameters:"
   ]
  },
  {
   "cell_type": "code",
   "execution_count": 64,
   "metadata": {},
   "outputs": [
    {
     "data": {
      "text/plain": [
       "0.03"
      ]
     },
     "execution_count": 64,
     "metadata": {},
     "output_type": "execute_result"
    }
   ],
   "source": [
    "#Parameters:\n",
    "δ = 1   #depreciation rate\n",
    "θ = 1/3  #capital share of output\n",
    "β = 0.9  #Discouting\n",
    "σ = 2  #Elasticity of Intertemporal Substitution\n",
    "ψ = 1    #Labor parameter\n",
    "γn= 0.00    #Population growth rate\n",
    "γz= 0.00   #Productivitu growth rate\n",
    "gss = 0.02 #average g\n",
    "τxss = 0.02 #average τx\n",
    "τhss = 0.03 #average τh\n",
    "zss = 1 #average z\n",
    "\n",
    "#Parameters to be estimated\n",
    "ρg = 0.0\n",
    "ρx = 0.0\n",
    "ρh = 0.0\n",
    "ρz = 0.8\n",
    "σg= 0.025\n",
    "σx = 0.02\n",
    "σz = 0.01\n",
    "σh = 0.03"
   ]
  },
  {
   "cell_type": "markdown",
   "metadata": {},
   "source": [
    "Substituting for $c$, we get an euqation for $k$, and one for $h$. Below, I find the Steady State values:\n"
   ]
  },
  {
   "cell_type": "code",
   "execution_count": 65,
   "metadata": {},
   "outputs": [
    {
     "data": {
      "text/plain": [
       "2-element Array{Float64,1}:\n",
       " 0.05412761744776807\n",
       " 0.8500964718247656 "
      ]
     },
     "execution_count": 65,
     "metadata": {},
     "output_type": "execute_result"
    }
   ],
   "source": [
    "#Function with the FOCs\n",
    "function SS!(eq, vector::Vector)\n",
    "    k,h = (vector)\n",
    "    k1 = k\n",
    "    h1 = h\n",
    "    g, τx,τh, z = gss,τxss,τhss, zss\n",
    "    z1 = z\n",
    "    τx1 = τx\n",
    "\n",
    "    c = k * ((z *h)^(1-θ))^(1/θ) - ((1+γz)*(1+γn)*k1-(1-δ)*k+g)^(1/θ) \n",
    "    c1 = c\n",
    "    eq[1] = (ψ *c)^(1/θ)  - (k/h)*((1-h)*(1-τh)*(1-θ)*z^(1-θ))^(1/θ) \n",
    "\n",
    "    eq[2] = (c^(-σ) *(1-h)^(ψ*(1-σ))*(1+τx)  - (1-δ)*(1+τx1)* β*(1+γz)^(-σ) * c1^(-σ) * (1-h1)^(ψ*(1-σ)))^(-1/θ) -\n",
    "     (β*(1+γz)^(-σ) * c1^(-σ) * (1-h1)^(ψ*(1-σ)) * θ*(z1*h1)^(1-θ))^(-1/θ)* k1\n",
    "    return eq\n",
    "end\n",
    "\n",
    "SteadyState = nlsolve(SS!, [0.2,0.8],ftol = :1.0e-20, method = :trust_region , autoscale = true)\n",
    "kss,hss = SteadyState.zero"
   ]
  },
  {
   "cell_type": "markdown",
   "metadata": {},
   "source": [
    "Log-linearizing the equations we get the following system of equations:\n",
    "\n",
    "\n",
    "$$ 0 = E_t[a_1\\tilde{k}_t +a_2\\tilde{k}_{t+1}+a_3\\tilde{h}_t+a_4 \\tilde{z}_t + a_5 \\tilde{\\tau}_{ht} +a_6 \\tilde{g}_t] $$\n",
    "$$ 0 = E_t[b_1\\tilde{k}_t +b_2\\tilde{k}_{t+1}+b_3\\tilde{k}_{t+2}+b_4 \\tilde{h}_t + b_5 \\tilde{h}_{t+1} b_6 \\tilde{z}_t +b_7 \\tilde{\\tau}_{xt} +b_8 \\tilde{g}_t + b_9 \\tilde{z}_{t+1} +b_{10} \\tau_{xt+1}+b_{11}\\tilde{g}_{t+1}]  $$"
   ]
  },
  {
   "cell_type": "markdown",
   "metadata": {},
   "source": [
    "Where tilde variables are log deviations from Steady State. Stacking up the equations we get:\n",
    "$$0 = E_t \\begin{bmatrix}\n",
    "    1       & 0 & 0  \\\\\n",
    "    0       & 0 & 0  \\\\\n",
    "    0       & b_3 & b_5 \n",
    "\\end{bmatrix}\n",
    "\\begin{bmatrix}\n",
    "    \\tilde{k}_{t+1}\\\\\n",
    "    \\tilde{k}_{t+2}\\\\\n",
    "    \\tilde{h}_{t+1}        \n",
    "\\end{bmatrix} + \\begin{bmatrix}\n",
    "    0       & -1 & 0  \\\\\n",
    "    a_1       & a_2 & a_3  \\\\\n",
    "    b_1       & b_2 & b_4 \n",
    "\\end{bmatrix}\n",
    "\\begin{bmatrix}\n",
    "    \\tilde{k}_{t}\\\\\n",
    "    \\tilde{k}_{t+1}\\\\\n",
    "    \\tilde{h}_{t}        \n",
    "\\end{bmatrix} + \\begin{bmatrix}\n",
    "    0       & 0 & 0 & 0 & 0 & 0 & 0 & 0  \\\\\n",
    "    a_4       & a_5 & 0 & a_6 &0&0&0&0  \\\\\n",
    "    b_6       & 0 & b_7 & b_8 & b_9 & 0 &b_{10} & b_{11} \n",
    "\\end{bmatrix}\\begin{bmatrix}\n",
    "    S_t\\\\\n",
    "    S_{t+1}        \n",
    "\\end{bmatrix}$$\n",
    "We call the first matrix $A_1$, and the second $A_2$. The code below log-linearizes and find these matrices:"
   ]
  },
  {
   "cell_type": "code",
   "execution_count": 68,
   "metadata": {},
   "outputs": [
    {
     "data": {
      "text/plain": [
       "([1.0 0.0 0.0; 0.0 0.0 0.0; 0.0 -0.333771 -3.78908], [0.0 -1.0 0.0; -1.0 0.539929 -4.57582; -1.0 1.44879 4.64888])"
      ]
     },
     "execution_count": 68,
     "metadata": {},
     "output_type": "execute_result"
    }
   ],
   "source": [
    "function loglineq1(vector::Vector)\n",
    "    k,k1,h,z,τh,g= vector\n",
    "\n",
    "    c = k^θ * (z *h)^(1-θ) - ((1+γz)*(1+γn)*k1-(1-δ)*k+g)\n",
    "    eq = ψ *c - (1-τh)*(1-θ) *(k/h)^θ *z^(1-θ)*(1-h)\n",
    "\n",
    "    return eq\n",
    "end\n",
    "function loglineq2(vector::Vector)\n",
    "    k,k1,k2,h,h1,z,τx,g,z1,τx1,g1 = (vector)\n",
    "    c = k^θ * (z *h)^(1-θ) - ((1+γz)*(1+γn)*k1-(1-δ)*k+g)\n",
    "    c1 = k1^θ * (z1 *h1)^(1-θ) - ((1+γz)*(1+γn)*k2-(1-δ)*k1+g1)\n",
    "    eq = c^(-σ) *(1-h)^(ψ*(1-σ))*(1+τx)  -  β*(1+γz)^(-σ) * c1^(-σ) * (1-h1)^(ψ*(1-σ)) *(θ*k1^(-θ)*(z1*h1)^(1-θ)+(1-δ)*(1+τx1))\n",
    "    return eq\n",
    "end\n",
    "\n",
    "\n",
    "#log deviations\n",
    "T=ForwardDiff.gradient(loglineq1,[kss,kss,hss,zss,τhss,gss])\n",
    "a =[-kss*T[1]/(kss*T[1]),-kss*T[2]/(kss*T[1]),-hss*T[3]/(kss*T[1]),\n",
    "-zss*T[4]/(kss*T[1]),-τhss*T[5]/(kss*T[1]),-gss*T[6]/(kss*T[1])]\n",
    "if ψ==0\n",
    "    a[1],a[2:end]=-1,zeros(5)\n",
    "end\n",
    "\n",
    "T=ForwardDiff.gradient(loglineq2,[kss,kss,kss,hss,hss,zss,τxss,gss,zss,τxss,gss])\n",
    "b = [kss*T[1]/(-kss*T[1]),kss*T[2]/(-kss*T[1]),kss*T[3]/(-kss*T[1]),hss*T[4]/(-kss*T[1]),\n",
    "hss*T[5]/(-kss*T[1]),zss*T[6]/(-kss*T[1]),τxss*T[7]/(-kss*T[1]),gss*T[8]/(-kss*T[1]),\n",
    "zss*T[9]/(-kss*T[1]),τxss*T[10]/(-kss*T[1]),gss*T[11]/(-kss*T[1])]\n",
    "\n",
    "A1 = [1 0 0; 0 0 0; 0 b[3] b[5]]\n",
    "A2 = [0 -1 0; a[1] a[2] a[3]; b[1] b[2] b[4]]\n",
    "U = [0 0 0 0 0 0 0 0;\n",
    "a[4] a[5] 0 a[6] 0 0 0 0;\n",
    "b[6] 0 b[7] b[8] b[9] 0 b[10] b[11]]\n",
    "\n",
    "A1,A2"
   ]
  },
  {
   "cell_type": "code",
   "execution_count": 63,
   "metadata": {},
   "outputs": [
    {
     "data": {
      "text/plain": [
       "0.0"
      ]
     },
     "execution_count": 63,
     "metadata": {},
     "output_type": "execute_result"
    }
   ],
   "source": [
    "T[1]"
   ]
  },
  {
   "cell_type": "markdown",
   "metadata": {},
   "source": [
    "We look for a solution of the form: $$\\tilde{k}_{t+1} = A \\tilde{k}_t +BS_t $$ $$ Z_t = C X_t + D S_t $$ $$S_t = P S_{t-1} + Q \\epsilon_t$$\n",
    "Where $Z_t = [\\tilde{k}_{t+1},\\tilde{h}_t]'$ and $S_t$ are the stochastic exogenous variables. We compute the generalized eigenvalues and eigenvectors for matrices $A_1$ and $−A_2$ because $A_1$ is not invertible. Thus, $A_2 V = -A_1 V \\Pi$ and we can get $A$ and $C$ by:\n",
    "$$A = V_{11} \\Pi_{1,1} V_{1,1}^{-1}$$\n",
    " $$C = V_{2,1}V_{1,1}^{-1}$$"
   ]
  },
  {
   "cell_type": "code",
   "execution_count": 69,
   "metadata": {},
   "outputs": [
    {
     "data": {
      "text/plain": [
       "3×3 Diagonal{Float64,Array{Float64,1}}:\n",
       " -4.79325e-17   ⋅         ⋅     \n",
       "   ⋅           0.378704   ⋅     \n",
       "   ⋅            ⋅        1.02281"
      ]
     },
     "execution_count": 69,
     "metadata": {},
     "output_type": "execute_result"
    }
   ],
   "source": [
    "eig = eigen(A1,-A2)\n",
    "V=eig.vectors\n",
    "Π = eig.values\n",
    "#Sorting\n",
    "for j=1:3\n",
    "for i=1:2\n",
    "    if 0<abs(Π[i+1])<abs(Π[i])\n",
    "        Π[i],Π[i+1] = Π[i+1],Π[i]\n",
    "        V[:,i],V[:,i+1] = V[:,i+1],V[:,i]\n",
    "    elseif abs(Π[i]) == 0\n",
    "        Π[i],Π[end] =Π[end],Π[i]\n",
    "        V[:,i],V[:,end]=V[:,end],V[:,i]\n",
    "    end\n",
    "end\n",
    "end\n",
    "if abs(Π[1])>1\n",
    "    error(\"All Eigen Values outside unit circle\")\n",
    "end\n",
    "Π= Diagonal(Π)"
   ]
  },
  {
   "cell_type": "code",
   "execution_count": 70,
   "metadata": {},
   "outputs": [
    {
     "data": {
      "text/plain": [
       "2-element Array{Float64,1}:\n",
       " -1.5897533413258563e-16\n",
       "  1.400375515033149e-17 "
      ]
     },
     "execution_count": 70,
     "metadata": {},
     "output_type": "execute_result"
    }
   ],
   "source": [
    "A = V[1,1]*Π[1,1]*inv(V[1,1])\n",
    "C = V[2:end,1]*(V[1,1])"
   ]
  },
  {
   "cell_type": "code",
   "execution_count": 71,
   "metadata": {},
   "outputs": [
    {
     "data": {
      "text/plain": [
       "4×4 Array{Float64,2}:\n",
       " 0.025  0.0   0.0   0.0 \n",
       " 0.0    0.02  0.0   0.0 \n",
       " 0.0    0.0   0.03  0.0 \n",
       " 0.0    0.0   0.0   0.01"
      ]
     },
     "execution_count": 71,
     "metadata": {},
     "output_type": "execute_result"
    }
   ],
   "source": [
    "P = [ρg 0 0 0;\n",
    "0 ρx 0 0 ;\n",
    "0 0 ρh 0 ;\n",
    "0 0 0 ρz]\n",
    "Q = [σg 0 0 0;\n",
    "0 σx 0 0 ;\n",
    "0 0 σh 0 ;\n",
    "0 0 0 σz]"
   ]
  },
  {
   "cell_type": "markdown",
   "metadata": {},
   "source": [
    "Finally, to get the matrices $B$ and $D$, we just need to solve a linear system of equations (see Ellen's notes):"
   ]
  },
  {
   "cell_type": "code",
   "execution_count": 72,
   "metadata": {},
   "outputs": [
    {
     "data": {
      "text/plain": [
       "4-element Array{Float64,1}:\n",
       " -0.19888682686145384  \n",
       " -0.0018930454930331114\n",
       " -0.001358120833669497 \n",
       "  0.06906595292429356  "
      ]
     },
     "execution_count": 72,
     "metadata": {},
     "output_type": "execute_result"
    }
   ],
   "source": [
    "function system!(eq,vector::Vector)\n",
    "    #vector = rand(8)\n",
    "    #eq= rand(8)\n",
    "    B=vector[1:4]'\n",
    "    D2 = vector[5:8]'\n",
    "\n",
    "    eq[1:4] = a[2].*B .+ a[3].*D2 .+ [a[4] a[5] 0 a[6]]\n",
    "    eq[5:8] = b[2].*B .+ b[3].*A.*B .+ b[3].*B*P .+ b[4].*D2 .+ b[5].*C[2].*B .+ b[5].*B*P.+\n",
    "    [b[6] 0 b[7] b[8]].+[b[9] 0 b[10] b[11] ]*P\n",
    " return     eq\n",
    "end\n",
    "\n",
    "\n",
    "Sol = nlsolve(system!, ones(8),ftol = :1.0e-20, method = :trust_region , autoscale = true)\n",
    "D=ones(2,4)\n",
    "D[1,:]= Sol.zero[1:4]\n",
    "D[2,:]= Sol.zero[5:8]\n"
   ]
  },
  {
   "cell_type": "markdown",
   "metadata": {},
   "source": [
    "Just to check that the code works, We simulate a series for capital and labor with the parameters above."
   ]
  },
  {
   "cell_type": "code",
   "execution_count": 73,
   "metadata": {},
   "outputs": [
    {
     "data": {
      "image/svg+xml": [
       "<?xml version=\"1.0\" encoding=\"utf-8\"?>\n",
       "<svg xmlns=\"http://www.w3.org/2000/svg\" xmlns:xlink=\"http://www.w3.org/1999/xlink\" width=\"600\" height=\"400\" viewBox=\"0 0 2400 1600\">\n",
       "<defs>\n",
       "  <clipPath id=\"clip7100\">\n",
       "    <rect x=\"0\" y=\"0\" width=\"2000\" height=\"2000\"/>\n",
       "  </clipPath>\n",
       "</defs>\n",
       "<defs>\n",
       "  <clipPath id=\"clip7101\">\n",
       "    <rect x=\"0\" y=\"0\" width=\"2400\" height=\"1600\"/>\n",
       "  </clipPath>\n",
       "</defs>\n",
       "<polygon clip-path=\"url(#clip7101)\" points=\"\n",
       "0,1600 2400,1600 2400,0 0,0 \n",
       "  \" fill=\"#ffffff\" fill-opacity=\"1\"/>\n",
       "<defs>\n",
       "  <clipPath id=\"clip7102\">\n",
       "    <rect x=\"480\" y=\"0\" width=\"1681\" height=\"1600\"/>\n",
       "  </clipPath>\n",
       "</defs>\n",
       "<polygon clip-path=\"url(#clip7101)\" points=\"\n",
       "161.394,1503.47 2321.26,1503.47 2321.26,47.2441 161.394,47.2441 \n",
       "  \" fill=\"#ffffff\" fill-opacity=\"1\"/>\n",
       "<defs>\n",
       "  <clipPath id=\"clip7103\">\n",
       "    <rect x=\"161\" y=\"47\" width=\"2161\" height=\"1457\"/>\n",
       "  </clipPath>\n",
       "</defs>\n",
       "<polyline clip-path=\"url(#clip7103)\" style=\"stroke:#000000; stroke-width:2; stroke-opacity:0.1; fill:none\" points=\"\n",
       "  201.94,1503.47 201.94,47.2441 \n",
       "  \"/>\n",
       "<polyline clip-path=\"url(#clip7103)\" style=\"stroke:#000000; stroke-width:2; stroke-opacity:0.1; fill:none\" points=\"\n",
       "  716.488,1503.47 716.488,47.2441 \n",
       "  \"/>\n",
       "<polyline clip-path=\"url(#clip7103)\" style=\"stroke:#000000; stroke-width:2; stroke-opacity:0.1; fill:none\" points=\"\n",
       "  1231.04,1503.47 1231.04,47.2441 \n",
       "  \"/>\n",
       "<polyline clip-path=\"url(#clip7103)\" style=\"stroke:#000000; stroke-width:2; stroke-opacity:0.1; fill:none\" points=\"\n",
       "  1745.58,1503.47 1745.58,47.2441 \n",
       "  \"/>\n",
       "<polyline clip-path=\"url(#clip7103)\" style=\"stroke:#000000; stroke-width:2; stroke-opacity:0.1; fill:none\" points=\"\n",
       "  2260.13,1503.47 2260.13,47.2441 \n",
       "  \"/>\n",
       "<polyline clip-path=\"url(#clip7103)\" style=\"stroke:#000000; stroke-width:2; stroke-opacity:0.1; fill:none\" points=\"\n",
       "  161.394,1263.15 2321.26,1263.15 \n",
       "  \"/>\n",
       "<polyline clip-path=\"url(#clip7103)\" style=\"stroke:#000000; stroke-width:2; stroke-opacity:0.1; fill:none\" points=\"\n",
       "  161.394,986.784 2321.26,986.784 \n",
       "  \"/>\n",
       "<polyline clip-path=\"url(#clip7103)\" style=\"stroke:#000000; stroke-width:2; stroke-opacity:0.1; fill:none\" points=\"\n",
       "  161.394,710.417 2321.26,710.417 \n",
       "  \"/>\n",
       "<polyline clip-path=\"url(#clip7103)\" style=\"stroke:#000000; stroke-width:2; stroke-opacity:0.1; fill:none\" points=\"\n",
       "  161.394,434.05 2321.26,434.05 \n",
       "  \"/>\n",
       "<polyline clip-path=\"url(#clip7103)\" style=\"stroke:#000000; stroke-width:2; stroke-opacity:0.1; fill:none\" points=\"\n",
       "  161.394,157.683 2321.26,157.683 \n",
       "  \"/>\n",
       "<polyline clip-path=\"url(#clip7101)\" style=\"stroke:#000000; stroke-width:4; stroke-opacity:1; fill:none\" points=\"\n",
       "  161.394,1503.47 2321.26,1503.47 \n",
       "  \"/>\n",
       "<polyline clip-path=\"url(#clip7101)\" style=\"stroke:#000000; stroke-width:4; stroke-opacity:1; fill:none\" points=\"\n",
       "  161.394,1503.47 161.394,47.2441 \n",
       "  \"/>\n",
       "<polyline clip-path=\"url(#clip7101)\" style=\"stroke:#000000; stroke-width:4; stroke-opacity:1; fill:none\" points=\"\n",
       "  201.94,1503.47 201.94,1481.63 \n",
       "  \"/>\n",
       "<polyline clip-path=\"url(#clip7101)\" style=\"stroke:#000000; stroke-width:4; stroke-opacity:1; fill:none\" points=\"\n",
       "  716.488,1503.47 716.488,1481.63 \n",
       "  \"/>\n",
       "<polyline clip-path=\"url(#clip7101)\" style=\"stroke:#000000; stroke-width:4; stroke-opacity:1; fill:none\" points=\"\n",
       "  1231.04,1503.47 1231.04,1481.63 \n",
       "  \"/>\n",
       "<polyline clip-path=\"url(#clip7101)\" style=\"stroke:#000000; stroke-width:4; stroke-opacity:1; fill:none\" points=\"\n",
       "  1745.58,1503.47 1745.58,1481.63 \n",
       "  \"/>\n",
       "<polyline clip-path=\"url(#clip7101)\" style=\"stroke:#000000; stroke-width:4; stroke-opacity:1; fill:none\" points=\"\n",
       "  2260.13,1503.47 2260.13,1481.63 \n",
       "  \"/>\n",
       "<polyline clip-path=\"url(#clip7101)\" style=\"stroke:#000000; stroke-width:4; stroke-opacity:1; fill:none\" points=\"\n",
       "  161.394,1263.15 193.792,1263.15 \n",
       "  \"/>\n",
       "<polyline clip-path=\"url(#clip7101)\" style=\"stroke:#000000; stroke-width:4; stroke-opacity:1; fill:none\" points=\"\n",
       "  161.394,986.784 193.792,986.784 \n",
       "  \"/>\n",
       "<polyline clip-path=\"url(#clip7101)\" style=\"stroke:#000000; stroke-width:4; stroke-opacity:1; fill:none\" points=\"\n",
       "  161.394,710.417 193.792,710.417 \n",
       "  \"/>\n",
       "<polyline clip-path=\"url(#clip7101)\" style=\"stroke:#000000; stroke-width:4; stroke-opacity:1; fill:none\" points=\"\n",
       "  161.394,434.05 193.792,434.05 \n",
       "  \"/>\n",
       "<polyline clip-path=\"url(#clip7101)\" style=\"stroke:#000000; stroke-width:4; stroke-opacity:1; fill:none\" points=\"\n",
       "  161.394,157.683 193.792,157.683 \n",
       "  \"/>\n",
       "<g clip-path=\"url(#clip7101)\">\n",
       "<text style=\"fill:#000000; fill-opacity:1; font-family:Arial,Helvetica Neue,Helvetica,sans-serif; font-size:48px; text-anchor:middle;\" transform=\"rotate(0, 201.94, 1557.47)\" x=\"201.94\" y=\"1557.47\">0</text>\n",
       "</g>\n",
       "<g clip-path=\"url(#clip7101)\">\n",
       "<text style=\"fill:#000000; fill-opacity:1; font-family:Arial,Helvetica Neue,Helvetica,sans-serif; font-size:48px; text-anchor:middle;\" transform=\"rotate(0, 716.488, 1557.47)\" x=\"716.488\" y=\"1557.47\">25</text>\n",
       "</g>\n",
       "<g clip-path=\"url(#clip7101)\">\n",
       "<text style=\"fill:#000000; fill-opacity:1; font-family:Arial,Helvetica Neue,Helvetica,sans-serif; font-size:48px; text-anchor:middle;\" transform=\"rotate(0, 1231.04, 1557.47)\" x=\"1231.04\" y=\"1557.47\">50</text>\n",
       "</g>\n",
       "<g clip-path=\"url(#clip7101)\">\n",
       "<text style=\"fill:#000000; fill-opacity:1; font-family:Arial,Helvetica Neue,Helvetica,sans-serif; font-size:48px; text-anchor:middle;\" transform=\"rotate(0, 1745.58, 1557.47)\" x=\"1745.58\" y=\"1557.47\">75</text>\n",
       "</g>\n",
       "<g clip-path=\"url(#clip7101)\">\n",
       "<text style=\"fill:#000000; fill-opacity:1; font-family:Arial,Helvetica Neue,Helvetica,sans-serif; font-size:48px; text-anchor:middle;\" transform=\"rotate(0, 2260.13, 1557.47)\" x=\"2260.13\" y=\"1557.47\">100</text>\n",
       "</g>\n",
       "<g clip-path=\"url(#clip7101)\">\n",
       "<text style=\"fill:#000000; fill-opacity:1; font-family:Arial,Helvetica Neue,Helvetica,sans-serif; font-size:48px; text-anchor:end;\" transform=\"rotate(0, 137.394, 1280.65)\" x=\"137.394\" y=\"1280.65\">0.0</text>\n",
       "</g>\n",
       "<g clip-path=\"url(#clip7101)\">\n",
       "<text style=\"fill:#000000; fill-opacity:1; font-family:Arial,Helvetica Neue,Helvetica,sans-serif; font-size:48px; text-anchor:end;\" transform=\"rotate(0, 137.394, 1004.28)\" x=\"137.394\" y=\"1004.28\">0.2</text>\n",
       "</g>\n",
       "<g clip-path=\"url(#clip7101)\">\n",
       "<text style=\"fill:#000000; fill-opacity:1; font-family:Arial,Helvetica Neue,Helvetica,sans-serif; font-size:48px; text-anchor:end;\" transform=\"rotate(0, 137.394, 727.917)\" x=\"137.394\" y=\"727.917\">0.4</text>\n",
       "</g>\n",
       "<g clip-path=\"url(#clip7101)\">\n",
       "<text style=\"fill:#000000; fill-opacity:1; font-family:Arial,Helvetica Neue,Helvetica,sans-serif; font-size:48px; text-anchor:end;\" transform=\"rotate(0, 137.394, 451.55)\" x=\"137.394\" y=\"451.55\">0.6</text>\n",
       "</g>\n",
       "<g clip-path=\"url(#clip7101)\">\n",
       "<text style=\"fill:#000000; fill-opacity:1; font-family:Arial,Helvetica Neue,Helvetica,sans-serif; font-size:48px; text-anchor:end;\" transform=\"rotate(0, 137.394, 175.183)\" x=\"137.394\" y=\"175.183\">0.8</text>\n",
       "</g>\n",
       "<polyline clip-path=\"url(#clip7103)\" style=\"stroke:#009af9; stroke-width:4; stroke-opacity:1; fill:none\" points=\"\n",
       "  222.522,1188.36 243.104,934.217 263.686,1089.82 284.268,1165.32 304.85,1131.81 325.432,1147.67 346.014,1246.68 366.596,1202.45 387.178,1165.41 407.76,1154.91 \n",
       "  428.341,1205.32 448.923,1325.4 469.505,1315.4 490.087,1145.91 510.669,1328.55 531.251,1368.12 551.833,1269.68 572.415,1131.25 592.997,1292.09 613.579,1273.19 \n",
       "  634.161,1173.35 654.742,1281.98 675.324,1242.67 695.906,1265.79 716.488,1247.1 737.07,1137.09 757.652,1185.49 778.234,1319.8 798.816,1318.98 819.398,1083.32 \n",
       "  839.98,1462.26 860.562,1332.16 881.143,1198 901.725,1357.4 922.307,1382.84 942.889,1230.14 963.471,1204.48 984.053,1398.47 1004.63,1079.07 1025.22,1241.09 \n",
       "  1045.8,1201.7 1066.38,1178.76 1086.96,1213.22 1107.54,1274.83 1128.13,1222.06 1148.71,1267.25 1169.29,1252.09 1189.87,1264.91 1210.45,1264.91 1231.04,1214.26 \n",
       "  1251.62,1206.27 1272.2,1206.49 1292.78,1256.76 1313.36,1305.44 1333.95,1260.28 1354.53,1352.19 1375.11,1258.09 1395.69,1347.51 1416.27,1281.45 1436.86,1330.74 \n",
       "  1457.44,1220.15 1478.02,1194.57 1498.6,1294.97 1519.18,1255.17 1539.76,1238.19 1560.35,1236.89 1580.93,1120.01 1601.51,1384.53 1622.09,1169.4 1642.67,1219.62 \n",
       "  1663.26,1331.77 1683.84,1296.83 1704.42,1259.6 1725,1318.85 1745.58,1345.52 1766.17,1396.66 1786.75,1331.36 1807.33,1140.87 1827.91,1274.38 1848.49,1392.97 \n",
       "  1869.08,1384.96 1889.66,1343.12 1910.24,1295.89 1930.82,1223.32 1951.4,1309.83 1971.98,1265.87 1992.57,1304.74 2013.15,1227.74 2033.73,1218.69 2054.31,1174.33 \n",
       "  2074.89,1337.42 2095.48,1235.44 2116.06,1277.19 2136.64,1365.43 2157.22,1300.94 2177.8,1212.5 2198.39,1337.82 2218.97,1363.29 2239.55,1252.97 2260.13,1246.91 \n",
       "  \n",
       "  \"/>\n",
       "<polyline clip-path=\"url(#clip7103)\" style=\"stroke:#e26f46; stroke-width:4; stroke-opacity:1; fill:none\" points=\"\n",
       "  222.522,88.4582 243.104,1196.12 263.686,1198.72 284.268,1208.37 304.85,1224.83 325.432,1233.14 346.014,1232.48 366.596,1243.3 387.178,1250.85 407.76,1257.84 \n",
       "  428.341,1254.3 448.923,1243.24 469.505,1246.76 490.087,1265.65 510.669,1250.11 531.251,1246.97 551.833,1258.03 572.415,1271.27 592.997,1254.86 613.579,1258.21 \n",
       "  634.161,1269.83 654.742,1258.49 675.324,1263.11 695.906,1262.38 716.488,1265.62 737.07,1276.33 757.652,1269.74 778.234,1256.27 798.816,1256.85 819.398,1278.7 \n",
       "  839.98,1241.77 860.562,1256.28 881.143,1269.47 901.725,1252.74 922.307,1251.45 942.889,1265.01 963.471,1268.52 984.053,1247.12 1004.63,1279.2 1025.22,1262.32 \n",
       "  1045.8,1267.29 1066.38,1269.95 1086.96,1266.51 1107.54,1260.15 1128.13,1264.55 1148.71,1261.6 1169.29,1262.99 1189.87,1261.15 1210.45,1262.25 1231.04,1267.07 \n",
       "  1251.62,1267.29 1272.2,1267.39 1292.78,1263.07 1313.36,1256.86 1333.95,1260.75 1354.53,1253.49 1375.11,1263.77 1395.69,1256.1 1416.27,1264.45 1436.86,1257.12 \n",
       "  1457.44,1267.55 1478.02,1269.97 1498.6,1261.06 1519.18,1262.77 1539.76,1264.95 1560.35,1265.26 1580.93,1276.62 1601.51,1250.72 1622.09,1273.65 1642.67,1266.97 \n",
       "  1663.26,1256.64 1683.84,1260.71 1704.42,1266.29 1725,1260.67 1745.58,1257.97 1766.17,1251.64 1786.75,1259.25 1807.33,1277.76 1827.91,1265.05 1848.49,1253.97 \n",
       "  1869.08,1254.79 1889.66,1258.88 1910.24,1261.79 1930.82,1270.75 1951.4,1262.94 1971.98,1266.87 1992.57,1261.68 2013.15,1269.49 2033.73,1268.47 2054.31,1272.27 \n",
       "  2074.89,1256.54 2095.48,1264.24 2116.06,1258.34 2136.64,1249.17 2157.22,1256.16 2177.8,1267.75 2198.39,1256.82 2218.97,1252.74 2239.55,1265.61 2260.13,1265.97 \n",
       "  \n",
       "  \"/>\n",
       "<polygon clip-path=\"url(#clip7101)\" points=\"\n",
       "1977.15,312.204 2249.26,312.204 2249.26,130.764 1977.15,130.764 \n",
       "  \" fill=\"#ffffff\" fill-opacity=\"1\"/>\n",
       "<polyline clip-path=\"url(#clip7101)\" style=\"stroke:#000000; stroke-width:4; stroke-opacity:1; fill:none\" points=\"\n",
       "  1977.15,312.204 2249.26,312.204 2249.26,130.764 1977.15,130.764 1977.15,312.204 \n",
       "  \"/>\n",
       "<polyline clip-path=\"url(#clip7101)\" style=\"stroke:#009af9; stroke-width:4; stroke-opacity:1; fill:none\" points=\"\n",
       "  2001.15,191.244 2145.15,191.244 \n",
       "  \"/>\n",
       "<g clip-path=\"url(#clip7101)\">\n",
       "<text style=\"fill:#000000; fill-opacity:1; font-family:Arial,Helvetica Neue,Helvetica,sans-serif; font-size:48px; text-anchor:start;\" transform=\"rotate(0, 2169.15, 208.744)\" x=\"2169.15\" y=\"208.744\">K</text>\n",
       "</g>\n",
       "<polyline clip-path=\"url(#clip7101)\" style=\"stroke:#e26f46; stroke-width:4; stroke-opacity:1; fill:none\" points=\"\n",
       "  2001.15,251.724 2145.15,251.724 \n",
       "  \"/>\n",
       "<g clip-path=\"url(#clip7101)\">\n",
       "<text style=\"fill:#000000; fill-opacity:1; font-family:Arial,Helvetica Neue,Helvetica,sans-serif; font-size:48px; text-anchor:start;\" transform=\"rotate(0, 2169.15, 269.224)\" x=\"2169.15\" y=\"269.224\">L</text>\n",
       "</g>\n",
       "</svg>\n"
      ]
     },
     "execution_count": 73,
     "metadata": {},
     "output_type": "execute_result"
    }
   ],
   "source": [
    "T=100\n",
    "S= ones(4,T).* [0,0,0,zss]\n",
    "Z=ones(2,T).*[kss,hss]\n",
    "\n",
    "\n",
    "for t=2:T\n",
    "    S[:,t] = P*S[:,t-1]+Q*randn(4,1)\n",
    "    Z[:,t] = C*Z[1,t] + D*S[:,t]\n",
    "end\n",
    "\n",
    "plot([Z[1,:],Z[2,:]],labels = [\"K\",\"L\"])\n"
   ]
  }
 ],
 "metadata": {
  "kernelspec": {
   "display_name": "Julia 1.0.0",
   "language": "julia",
   "name": "julia-1.0"
  },
  "language_info": {
   "file_extension": ".jl",
   "mimetype": "application/julia",
   "name": "julia",
   "version": "1.0.0"
  }
 },
 "nbformat": 4,
 "nbformat_minor": 2
}
