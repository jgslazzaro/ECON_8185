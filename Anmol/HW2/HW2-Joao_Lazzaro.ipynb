{
 "cells": [
  {
   "cell_type": "markdown",
   "metadata": {},
   "source": [
    "# ECON 8185 - HW 2"
   ]
  },
  {
   "cell_type": "markdown",
   "metadata": {},
   "source": [
    "Author: João Lazzaro - santo279@umn.edu"
   ]
  },
  {
   "cell_type": "markdown",
   "metadata": {},
   "source": [
    "## Question 1"
   ]
  },
  {
   "cell_type": "markdown",
   "metadata": {},
   "source": [
    "We'll consider the following Prototype model from Ellen's Homework 2, which is the same as CKM:\n",
    "\n",
    "$$\\max_{c_t,x_t,l_t} E \\sum_{t=0}^\\infty \\beta^t \\frac{\\left(c_tl_t^\\psi\\right)^{1-\\sigma}}{1-\\sigma} N_t$$\n",
    "S.T. \n",
    "$$ c_t +(1+\\tau_{xt}x_t =r_t k_t +(1-\\tau_{ht})w_t h_t + T_t$$\n",
    "$$ N_{t+1} k_{t+1} = [(1-\\delta)k_t+x_t]N_t$$\n",
    "$$h_t+l_t =1$$\n",
    "$$S_t = P S_{t-1}+Q\\epsilon_t,\\;\\;S_t = [\\ln z_t,\\tau_{ht},\\tau_{xt}, \\ln g_t]$$\n",
    "$$ c_t,x_t\\geq0$$\n",
    "\n",
    "Where $N_t = (1+\\gamma_n)^t$ and firm tecnhology is $Y_t = K_t^\\theta (Z_t L_t)^{1-\\theta}$. $\\gamma_z$ is the rate of labor-augmenting technical progress. The stochastic shocks hitting this economy affect technology, tax rates, and government spending and the stochastic processes are modeled as a VAR(1) process. The resource constraint is $Y_t=N_t(c_t +x_t +g_t)$. We must work with detrended variables, we should use \"hat\" variables, but typing this is time consuming so from now on all variables should be understood as detrended unless I say something about them."
   ]
  },
  {
   "cell_type": "markdown",
   "metadata": {},
   "source": [
    "The detrended FOC's of this model are:\n",
    "\n",
    "$$c_t+(1+\\gamma_z)(1+\\gamma_n)k_{t+1} - (1-\\delta)k_t+g_t = y_t =k_t^\\theta(z_th_t)^{1-\\theta}$$\n",
    "$$\\psi \\frac{c_t}{1-h_t} = (1-\\tau_{ht})(1-\\theta)\\left(\\frac{k_t}{h_t}\\right)^\\theta z_t^{1-\\theta}$$\n",
    "$$c_t^{-\\sigma}(1-h_t)^{\\psi(1-\\sigma)} (1+\\tau_{xt})=\\beta(1+\\gamma_z)^{-\\sigma}E_t c_{t+1}^{-\\sigma} (1- h_{t+1})^{\\psi(1-\\sigma)}\\left(\\theta k_{t+1}^{\\theta}(z_{t+1} h_{t+1})^{1-\\theta} + (1-\\delta)(1+\\theta_{xt+1})\\right)$$\n",
    "\n",
    "Defining some parameters:"
   ]
  },
  {
   "cell_type": "code",
   "execution_count": 3,
   "metadata": {},
   "outputs": [
    {
     "data": {
      "text/plain": [
       "1"
      ]
     },
     "execution_count": 3,
     "metadata": {},
     "output_type": "execute_result"
    }
   ],
   "source": [
    "using Plots, NLsolve, ForwardDiff, DataFrames\n",
    "\n",
    "\n",
    "#Parameters:\n",
    "δ = 0.05    #depreciation rate\n",
    "θ = 1/3  #capital share of output\n",
    "β = 0.975  #Discouting\n",
    "σ = 1  #Elasticity of Intertemporal Substitution\n",
    "ψ = 2    #Labor parameter\n",
    "γn= 0.003    #Population growth rate\n",
    "γz= 0.004   #Productivitu growth rate\n",
    "gss = 0.03 #average g\n",
    "τxss = 0.01 #average τx\n",
    "τhss = 0.02 #average τh\n",
    "zss = 1 #average z\n",
    "\n"
   ]
  },
  {
   "cell_type": "markdown",
   "metadata": {},
   "source": [
    "Substituting for $c$, we get an euqation for $k$, and one for $h$. Below, I find the Steady State values:\n"
   ]
  },
  {
   "cell_type": "code",
   "execution_count": 4,
   "metadata": {},
   "outputs": [
    {
     "data": {
      "text/plain": [
       "2-element Array{Float64,1}:\n",
       " 13.889514153222507 \n",
       "  0.4426404952076869"
      ]
     },
     "execution_count": 4,
     "metadata": {},
     "output_type": "execute_result"
    }
   ],
   "source": [
    "#Function with the FOCs\n",
    "function SS!(eq, vector::Vector)\n",
    "    k,h = (vector)\n",
    "    k1 = k\n",
    "    h1 = h\n",
    "    g, τx,τh, z = gss,τxss,τhss, zss\n",
    "    z1 = z\n",
    "    τx1 = τx\n",
    "    c = k^θ * (z *h)^(1-θ) - ((1+γz)*(1+γn)*k1-(1-δ)*k+g)\n",
    "    c1 = c\n",
    "    eq[1] = ψ *c/(1-h) - (1-τh)*(1-θ) *(k/h)^θ *z^(1-θ)\n",
    "    eq[2] = c^(-σ) *(1-h)^(ψ*(1-σ))*(1+τx)  -  β*(1+γz)^(-σ) * c1^(-σ) * (1-h1)^(ψ*(1-σ)) *(θ*k1^(-θ)*(z1*h1)^(1-θ)+(1-δ)*(1+τx1))\n",
    "    return eq\n",
    "end\n",
    "\n",
    "SteadyState = nlsolve(SS!, [0.05,0.97],ftol = :1.0e-20, method = :trust_region , autoscale = true)\n",
    "kss,hss = SteadyState.zero"
   ]
  },
  {
   "cell_type": "markdown",
   "metadata": {},
   "source": [
    "Log-linearizing the equations we get the following system of equations:\n",
    "\n",
    "\n",
    "$$ 0 = E_t[a_1\\tilde{k}_t +a_2\\tilde{k}_{t+1}+a_3\\tilde{h}_t+a_4 \\tilde{z}_t + a_5 \\tilde{\\tau}_{ht} +a_6 \\tilde{g}_t] $$\n",
    "$$ 0 = E_t[b_1\\tilde{k}_t +b_2\\tilde{k}_{t+1}+b_3\\tilde{k}_{t+2}+b_4 \\tilde{h}_t + b_5 \\tilde{h}_{t+1} b_6 \\tilde{z}_t +b_7 \\tilde{\\tau}_{xt} +b_8 \\tilde{g}_t + b_9 \\tilde{z}_{t+1} +b_{10} \\tau_{xt+1}+b_{11}\\tilde{g}_{t+1}]  $$"
   ]
  },
  {
   "cell_type": "markdown",
   "metadata": {},
   "source": [
    "Where tilde variables are log deviations from Steady State."
   ]
  },
  {
   "cell_type": "code",
   "execution_count": null,
   "metadata": {},
   "outputs": [],
   "source": []
  }
 ],
 "metadata": {
  "kernelspec": {
   "display_name": "Julia 1.0.0",
   "language": "julia",
   "name": "julia-1.0"
  },
  "language_info": {
   "file_extension": ".jl",
   "mimetype": "application/julia",
   "name": "julia",
   "version": "1.0.0"
  }
 },
 "nbformat": 4,
 "nbformat_minor": 2
}
