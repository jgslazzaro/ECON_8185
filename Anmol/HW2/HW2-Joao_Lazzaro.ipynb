{
 "cells": [
  {
   "cell_type": "markdown",
   "metadata": {},
   "source": [
    "# ECON 8185 - HW 2"
   ]
  },
  {
   "cell_type": "markdown",
   "metadata": {},
   "source": [
    "João Lazzaro - santo279@umn.edu"
   ]
  },
  {
   "cell_type": "markdown",
   "metadata": {},
   "source": [
    "Incomplete Version: As instructed in class, I skip the estimation part and do the CKM exercise with simulated data."
   ]
  },
  {
   "cell_type": "markdown",
   "metadata": {},
   "source": [
    "## Question 1"
   ]
  },
  {
   "cell_type": "markdown",
   "metadata": {},
   "source": [
    "We'll consider the following Prototype model from Ellen's Homework 2, which is the same as CKM:\n",
    "\n",
    "$$\\max_{c_t,x_t,l_t} E \\sum_{t=0}^\\infty \\beta^t \\frac{\\left(c_tl_t^\\psi\\right)^{1-\\sigma}}{1-\\sigma} N_t$$\n",
    "S.T. \n",
    "$$ c_t +(1+\\tau_{xt}x_t =r_t k_t +(1-\\tau_{ht})w_t h_t + T_t$$\n",
    "$$ N_{t+1} k_{t+1} = [(1-\\delta)k_t+x_t]N_t$$\n",
    "$$h_t+l_t =1$$\n",
    "$$S_t = P S_{t-1}+Q\\epsilon_t,\\;\\;S_t = [\\ln z_t,\\tau_{ht},\\tau_{xt}, \\ln g_t]$$\n",
    "$$ c_t,x_t\\geq0$$\n",
    "\n",
    "Where $N_t = (1+\\gamma_n)^t$ and firm tecnhology is $Y_t = K_t^\\theta (Z_t L_t)^{1-\\theta}$. $\\gamma_z$ is the rate of labor-augmenting technical progress. The stochastic shocks hitting this economy affect technology, tax rates, and government spending and the stochastic processes are modeled as a VAR(1) process. The resource constraint is $Y_t=N_t(c_t +x_t +g_t)$. We must work with detrended variables, we should use \"hat\" variables, but typing this is time consuming so from now on all variables should be understood as detrended unless I say something about them."
   ]
  },
  {
   "cell_type": "markdown",
   "metadata": {},
   "source": [
    "The detrended FOC's of this model are:\n",
    "\n",
    "$$c_t+(1+\\gamma_z)(1+\\gamma_n)k_{t+1} - (1-\\delta)k_t+g_t = y_t =k_t^\\theta(z_th_t)^{1-\\theta}$$\n",
    "$$\\psi \\frac{c_t}{1-h_t} = (1-\\tau_{ht})(1-\\theta)\\left(\\frac{k_t}{h_t}\\right)^\\theta z_t^{1-\\theta}$$\n",
    "$$c_t^{-\\sigma}(1-h_t)^{\\psi(1-\\sigma)} (1+\\tau_{xt})=\\beta(1+\\gamma_z)^{-\\sigma}E_t c_{t+1}^{-\\sigma} (1- h_{t+1})^{\\psi(1-\\sigma)}\\left(\\theta k_{t+1}^{\\theta}(z_{t+1} h_{t+1})^{1-\\theta} + (1-\\delta)(1+\\theta_{xt+1})\\right)$$\n",
    "\n",
    "Defining some parameters:"
   ]
  },
  {
   "cell_type": "code",
   "execution_count": 1,
   "metadata": {},
   "outputs": [
    {
     "ename": "ArgumentError",
     "evalue": "ArgumentError: Package QuantEcon not found in current path:\n- Run `import Pkg; Pkg.add(\"QuantEcon\")` to install the QuantEcon package.\n",
     "output_type": "error",
     "traceback": [
      "ArgumentError: Package QuantEcon not found in current path:\n- Run `import Pkg; Pkg.add(\"QuantEcon\")` to install the QuantEcon package.\n",
      "",
      "Stacktrace:",
      " [1] require(::Module, ::Symbol) at ./loading.jl:820",
      " [2] top-level scope at In[1]:1"
     ]
    }
   ],
   "source": [
    "using Plots, NLsolve, ForwardDiff, DataFrames, LinearAlgebra, QuantEcon, Plots, Optim, Statistics\n",
    "#Parameters:\n",
    "δ = 0.0464   #depreciation rate\n",
    "θ = 0.35  #capital share of output\n",
    "β = 0.9722  #Discouting\n",
    "σ = 1  #Elasticity of Intertemporal Substitution\n",
    "ψ = 3    #Labor parameter\n",
    "γn= 0.015    #Population growth rate\n",
    "γz= 0.016   #Productivitu growth rate\n",
    "gss = 0.01 #average g\n",
    "τxss = 0.05 #average τx\n",
    "τhss = 0.05 #average τh\n",
    "zss = 0.0 #average z (z is in logs)\n",
    "\n",
    "\n",
    "#Parameters to be estimated\n",
    "ρg = 0.85\n",
    "ρx = 0.73\n",
    "ρh = 0.74\n",
    "ρz = 0.98\n",
    "ρzg= 0.0\n",
    "ρzx = 0.0\n",
    "ρzh = 0.0\n",
    "ρhz = 0.0\n",
    "ρhx = 0.0\n",
    "ρhg = 0.0\n",
    "ρxz = 0.0\n",
    "ρxh = 0.0\n",
    "ρxg = 0.0\n",
    "ρgz = 0.0\n",
    "ρgx = 0.0\n",
    "ρgh = 0.0\n",
    "\n",
    "σg= 0.02\n",
    "σx = 0.01\n",
    "σz = 0.02\n",
    "σh = 0.01\n",
    "σzg= 0.02\n",
    "σzx = 0.001\n",
    "σzh = 0.02\n",
    "σhx = 0.01\n",
    "σhg = 0.02\n",
    "σxg = 0.02"
   ]
  },
  {
   "cell_type": "markdown",
   "metadata": {},
   "source": [
    "Substituting for $c$, we get an euqation for $k$, and one for $h$. Below, I find the Steady State values:\n"
   ]
  },
  {
   "cell_type": "code",
   "execution_count": 2,
   "metadata": {},
   "outputs": [
    {
     "ename": "UndefVarError",
     "evalue": "UndefVarError: zss not defined",
     "output_type": "error",
     "traceback": [
      "UndefVarError: zss not defined",
      "",
      "Stacktrace:",
      " [1] top-level scope at In[2]:1"
     ]
    }
   ],
   "source": [
    "#Function with the FOCs\n",
    "zss = exp(zss)\n",
    "\n",
    "function SS!(eq,vector::Vector)\n",
    "    k,h, c= vector\n",
    "    eq[1]=k/h-((1+τxss)*(1-β*(1+γz)^(-σ)*(1-δ))/(β*(1+γz)^(-σ)*θ*zss^(1-θ)) )^(1/(θ-1))\n",
    "    eq[2]=c-( (k/h)^(θ-1)*zss^(1-θ) -(1+γz)*(1+γn)+1-δ)*k+gss\n",
    "    eq[3]=ψ*c-( (1-τhss)*(1-θ)*(k/h)^θ *zss^(1-θ))*(1-h)\n",
    "end\n",
    "\n",
    "SteadyState = nlsolve(SS!, [3,0.25,.4],ftol = :1.0e-20)\n",
    "kss,hss,css = SteadyState.zero"
   ]
  },
  {
   "cell_type": "code",
   "execution_count": 3,
   "metadata": {},
   "outputs": [
    {
     "ename": "UndefVarError",
     "evalue": "UndefVarError: kss not defined",
     "output_type": "error",
     "traceback": [
      "UndefVarError: kss not defined",
      "",
      "Stacktrace:",
      " [1] top-level scope at In[3]:1"
     ]
    }
   ],
   "source": [
    "    #GDP\n",
    "    yss = kss^(θ)*(zss*hss)^(1-θ)\n",
    "    xss = (1+γz)*(1+γn)*kss-(1-δ)*kss"
   ]
  },
  {
   "cell_type": "markdown",
   "metadata": {},
   "source": [
    "Log-linearizing the equations we get the following system of equations:\n",
    "\n",
    "\n",
    "$$ 0 = E_t[a_1\\tilde{k}_t +a_2\\tilde{k}_{t+1}+a_3\\tilde{h}_t+a_4 \\tilde{z}_t + a_5 \\tilde{\\tau}_{ht} +a_6 \\tilde{g}_t] $$\n",
    "$$ 0 = E_t[b_1\\tilde{k}_t +b_2\\tilde{k}_{t+1}+b_3\\tilde{k}_{t+2}+b_4 \\tilde{h}_t + b_5 \\tilde{h}_{t+1} b_6 \\tilde{z}_t +b_7 \\tilde{\\tau}_{xt} +b_8 \\tilde{g}_t + b_9 \\tilde{z}_{t+1} +b_{10} \\tau_{xt+1}+b_{11}\\tilde{g}_{t+1}]  $$"
   ]
  },
  {
   "cell_type": "markdown",
   "metadata": {},
   "source": [
    "Where tilde variables are log deviations from Steady State. Stacking up the equations we get:\n",
    "$$0 = E_t \\begin{bmatrix}\n",
    "    1       & 0 & 0  \\\\\n",
    "    0       & 0 & 0  \\\\\n",
    "    0       & b_3 & b_5 \n",
    "\\end{bmatrix}\n",
    "\\begin{bmatrix}\n",
    "    \\tilde{k}_{t+1}\\\\\n",
    "    \\tilde{k}_{t+2}\\\\\n",
    "    \\tilde{h}_{t+1}        \n",
    "\\end{bmatrix} + \\begin{bmatrix}\n",
    "    0       & -1 & 0  \\\\\n",
    "    a_1       & a_2 & a_3  \\\\\n",
    "    b_1       & b_2 & b_4 \n",
    "\\end{bmatrix}\n",
    "\\begin{bmatrix}\n",
    "    \\tilde{k}_{t}\\\\\n",
    "    \\tilde{k}_{t+1}\\\\\n",
    "    \\tilde{h}_{t}        \n",
    "\\end{bmatrix} + \\begin{bmatrix}\n",
    "    0       & 0 & 0 & 0 & 0 & 0 & 0 & 0  \\\\\n",
    "    a_4       & a_5 & 0 & a_6 &0&0&0&0  \\\\\n",
    "    b_6       & 0 & b_7 & b_8 & b_9 & 0 &b_{10} & b_{11} \n",
    "\\end{bmatrix}\\begin{bmatrix}\n",
    "    S_t\\\\\n",
    "    S_{t+1}        \n",
    "\\end{bmatrix}$$\n",
    "We call the first matrix $A_1$, and the second $A_2$. The code below log-linearizes and find these matrices:"
   ]
  },
  {
   "cell_type": "code",
   "execution_count": 4,
   "metadata": {},
   "outputs": [
    {
     "ename": "UndefVarError",
     "evalue": "UndefVarError: kss not defined",
     "output_type": "error",
     "traceback": [
      "UndefVarError: kss not defined",
      "",
      "Stacktrace:",
      " [1] top-level scope at In[4]:18"
     ]
    }
   ],
   "source": [
    "\n",
    "function loglineq1(vector::Vector)\n",
    "    k,k1,h,z,τh,g= vector\n",
    "\n",
    "    c = k * ((z *h)^(1-θ))^(1/θ) - ((1+γz)*(1+γn)*k1-(1-δ)*k+ g )^(1/θ)\n",
    "    eq =(ψ *c)^(1/θ)  - (k/h)*((1-h)*(1-τh)*(1-θ)*z^(1-θ))^(1/θ)\n",
    "\n",
    "    return eq\n",
    "end\n",
    "function loglineq2(vector::Vector)\n",
    "    k,k1,k2,h,h1,z,τx,g,z1,τx1,g1 = (vector)\n",
    "    c = k * ((z *h)^(1-θ))^(1/θ) - ((1+γz)*(1+γn)*k1-(1-δ)*k+ g )^(1/θ)\n",
    "    c1 = k * ((z1 *h1)^(1-θ))^(1/θ) - ((1+γz)*(1+γn)*k2-(1-δ)*k1+ g1 )^(1/θ)\n",
    "    eq =  (c^(-σ) *(1-h)^(ψ*(1-σ))*(1+τx)  - (1-δ)*(1+τx1)* β*(1+γz)^(-σ) * c1^(-σ) * (1-h1)^(ψ*(1-σ)))^(-1/θ) -\n",
    "     (β*(1+γz)^(-σ) * c1^(-σ) * (1-h1)^(ψ*(1-σ)) * θ*(z1*h1)^(1-θ))^(-1/θ)* k1\n",
    "    return eq\n",
    "end\n",
    "\n",
    "\n",
    "#log deviations\n",
    "T=ForwardDiff.gradient(loglineq1,[kss,kss,hss,zss,τhss,gss])\n",
    "a =[-kss*T[1]/(kss*T[1]),-kss*T[2]/(kss*T[1]),-hss*T[3]/(kss*T[1]),\n",
    "-zss*T[4]/(kss*T[1]),-τhss*T[5]/(kss*T[1]),-gss*T[6]/(kss*T[1])]\n",
    "#if ψ==0\n",
    "#    a[1],a[2:end]=-1,zeros(5)\n",
    "#end\n",
    "\n",
    "T=ForwardDiff.gradient(loglineq2,[kss,kss,kss,hss,hss,zss,τxss,gss,zss,τxss,gss])\n",
    "b = [kss*T[1]/(-kss*T[1]),kss*T[2]/(-kss*T[1]),kss*T[3]/(-kss*T[1]),hss*T[4]/(-kss*T[1]),\n",
    "hss*T[5]/(-kss*T[1]),zss*T[6]/(-kss*T[1]),τxss*T[7]/(-kss*T[1]),gss*T[8]/(-kss*T[1]),\n",
    "zss*T[9]/(-kss*T[1]),τxss*T[10]/(-kss*T[1]),gss*T[11]/(-kss*T[1])]\n",
    "\n",
    "A1 = [1 0 0; 0 0 0; 0 b[3] b[5]]\n",
    "A2 = [0 -1 0; a[1] a[2] a[3]; b[1] b[2] b[4]]\n",
    "U = [0 0 0 0 0 0 0 0;\n",
    "a[4] a[5] 0 a[6] 0 0 0 0;\n",
    "b[6] 0 b[7] b[8] b[9] 0 b[10] b[11]]\n",
    "\n",
    "A1,A2"
   ]
  },
  {
   "cell_type": "markdown",
   "metadata": {},
   "source": [
    "We look for a solution of the form: $$\\tilde{k}_{t+1} = A \\tilde{k}_t +BS_t $$ $$ Z_t = C X_t + D S_t $$ $$S_t = P S_{t-1} + Q \\epsilon_t$$\n",
    "Where $Z_t = [\\tilde{k}_{t+1},\\tilde{h}_t]'$ and $S_t$ are the stochastic exogenous variables. We compute the generalized eigenvalues and eigenvectors for matrices $A_1$ and $−A_2$ because $A_1$ is not invertible. Thus, $A_2 V = -A_1 V \\Pi$ and we can get $A$ and $C$ by:\n",
    "$$A = V_{11} \\Pi_{1,1} V_{1,1}^{-1}$$\n",
    " $$C = V_{2,1}V_{1,1}^{-1}$$"
   ]
  },
  {
   "cell_type": "code",
   "execution_count": 5,
   "metadata": {},
   "outputs": [
    {
     "ename": "UndefVarError",
     "evalue": "UndefVarError: A2 not defined",
     "output_type": "error",
     "traceback": [
      "UndefVarError: A2 not defined",
      "",
      "Stacktrace:",
      " [1] top-level scope at In[5]:1"
     ]
    }
   ],
   "source": [
    "eig = eigen(A1,-A2)\n",
    "V=eig.vectors\n",
    "Π = eig.values\n",
    "#Sorting\n",
    "for j=1:3\n",
    "for i=1:2\n",
    "    if eps(Float64)<abs(Π[i+1])<abs(Π[i])\n",
    "        Π[i],Π[i+1] = Π[i+1],Π[i]\n",
    "        V[:,i],V[:,i+1] = V[:,i+1],V[:,i]\n",
    "    elseif abs(Π[i]) < eps(Float64)\n",
    "        Π[i],Π[end] =Π[end],Π[i]\n",
    "        V[:,i],V[:,end]=V[:,end],V[:,i]\n",
    "    end\n",
    "end\n",
    "end\n",
    "if abs(Π[1])>1\n",
    "    error(\"All Eigen Values outside unit circle\")\n",
    "end\n",
    "Π= Diagonal(Π)"
   ]
  },
  {
   "cell_type": "code",
   "execution_count": 6,
   "metadata": {},
   "outputs": [
    {
     "ename": "UndefVarError",
     "evalue": "UndefVarError: V not defined",
     "output_type": "error",
     "traceback": [
      "UndefVarError: V not defined",
      "",
      "Stacktrace:",
      " [1] top-level scope at In[6]:1"
     ]
    }
   ],
   "source": [
    "A = V[1,1]*Π[1,1]*inv(V[1,1])\n",
    "C = V[2:end,1]*(V[1,1])\n",
    "C = hcat(C,zeros(2,1))"
   ]
  },
  {
   "cell_type": "code",
   "execution_count": 7,
   "metadata": {},
   "outputs": [
    {
     "ename": "UndefVarError",
     "evalue": "UndefVarError: ρz not defined",
     "output_type": "error",
     "traceback": [
      "UndefVarError: ρz not defined",
      "",
      "Stacktrace:",
      " [1] top-level scope at In[7]:1"
     ]
    }
   ],
   "source": [
    "P = [ρz ρzh ρzx ρzg;\n",
    "ρhz ρh ρhx ρhg ;\n",
    "ρxz ρxh ρx ρxg ;\n",
    "ρgz ρgh ρgx ρg]\n",
    "Q = [σz σzh σzx σzg;\n",
    "σzh σh σhx σhg ;\n",
    "σzx σhx σx σxg ;\n",
    "σzg σhg σxg σg]"
   ]
  },
  {
   "cell_type": "markdown",
   "metadata": {},
   "source": [
    "Finally, to get the matrices $B$ and $D$, we just need to solve a linear system of equations (see Ellen's notes):"
   ]
  },
  {
   "cell_type": "code",
   "execution_count": 8,
   "metadata": {},
   "outputs": [
    {
     "ename": "UndefVarError",
     "evalue": "UndefVarError: a not defined",
     "output_type": "error",
     "traceback": [
      "UndefVarError: a not defined",
      "",
      "Stacktrace:",
      " [1] system!(::Array{Float64,1}, ::Array{Float64,1}) at ./In[8]:7",
      " [2] (::getfield(NLSolversBase, Symbol(\"#fj_finitediff!#21\")){typeof(system!)})(::Array{Float64,1}, ::Array{Float64,2}, ::Array{Float64,1}) at /home/santo279/.julia/packages/NLSolversBase/KG9Ie/src/objective_types/oncedifferentiable.jl:137",
      " [3] value_jacobian!!(::OnceDifferentiable{Array{Float64,1},Array{Float64,2},Array{Float64,1}}, ::Array{Float64,1}, ::Array{Float64,2}, ::Array{Float64,1}) at /home/santo279/.julia/packages/NLSolversBase/KG9Ie/src/interface.jl:124",
      " [4] value_jacobian!! at /home/santo279/.julia/packages/NLSolversBase/KG9Ie/src/interface.jl:122 [inlined]",
      " [5] trust_region_(::OnceDifferentiable{Array{Float64,1},Array{Float64,2},Array{Float64,1}}, ::Array{Float64,1}, ::Float64, ::Float64, ::Int64, ::Bool, ::Bool, ::Bool, ::Float64, ::Bool, ::NLsolve.NewtonTrustRegionCache{Array{Float64,1}}) at /home/santo279/.julia/packages/NLsolve/ltuKE/src/solvers/trust_region.jl:119",
      " [6] trust_region at /home/santo279/.julia/packages/NLsolve/ltuKE/src/solvers/trust_region.jl:229 [inlined] (repeats 2 times)",
      " [7] #nlsolve#23(::Symbol, ::Float64, ::Float64, ::Int64, ::Bool, ::Bool, ::Bool, ::Static, ::getfield(NLsolve, Symbol(\"##30#32\")), ::Float64, ::Bool, ::Int64, ::Float64, ::typeof(nlsolve), ::OnceDifferentiable{Array{Float64,1},Array{Float64,2},Array{Float64,1}}, ::Array{Float64,1}) at /home/santo279/.julia/packages/NLsolve/ltuKE/src/nlsolve/nlsolve.jl:24",
      " [8] (::getfield(NLsolve, Symbol(\"#kw##nlsolve\")))(::NamedTuple{(:method, :xtol, :ftol, :iterations, :store_trace, :show_trace, :extended_trace, :linesearch, :factor, :autoscale, :m, :beta, :linsolve),Tuple{Symbol,Float64,Float64,Int64,Bool,Bool,Bool,Static,Float64,Bool,Int64,Float64,getfield(NLsolve, Symbol(\"##30#32\"))}}, ::typeof(nlsolve), ::OnceDifferentiable{Array{Float64,1},Array{Float64,2},Array{Float64,1}}, ::Array{Float64,1}) at ./none:0",
      " [9] #nlsolve#28(::Symbol, ::Float64, ::Float64, ::Int64, ::Bool, ::Bool, ::Bool, ::Static, ::Float64, ::Bool, ::Int64, ::Float64, ::Symbol, ::getfield(NLsolve, Symbol(\"##30#32\")), ::Bool, ::typeof(nlsolve), ::typeof(system!), ::Array{Float64,1}) at /home/santo279/.julia/packages/NLsolve/ltuKE/src/nlsolve/nlsolve.jl:69",
      " [10] (::getfield(NLsolve, Symbol(\"#kw##nlsolve\")))(::NamedTuple{(:ftol, :method, :autoscale),Tuple{Float64,Symbol,Bool}}, ::typeof(nlsolve), ::Function, ::Array{Float64,1}) at ./none:0",
      " [11] top-level scope at In[8]:12"
     ]
    }
   ],
   "source": [
    "function system!(eq,vector::Vector)\n",
    "    #vector = rand(8)\n",
    "    #eq= rand(8)\n",
    "    B=vector[1:4]'\n",
    "    D2 = vector[5:8]'\n",
    "\n",
    "    eq[1:4] = a[2].*B .+ a[3].*D2 .+ [a[4] a[5] 0 a[6]]\n",
    "    eq[5:8] = b[2].*B .+ b[3].*A.*B .+ b[3].*B*P .+ b[4].*D2 .+ b[5].*C[2].*B .+ b[5].*B*P.+\n",
    "    [b[6] 0 b[7] b[8]].+[b[9] 0 b[10] b[11] ]*P\n",
    " return     eq\n",
    "end\n",
    "\n",
    "Sol = nlsolve(system!, ones(8),ftol = :1.0e-20, method = :trust_region , autoscale = true)\n",
    "D=ones(2,4)\n",
    "D[1,:]= Sol.zero[1:4]\n",
    "D[2,:]= Sol.zero[5:8]\n"
   ]
  },
  {
   "cell_type": "markdown",
   "metadata": {},
   "source": [
    "Now, I will rewrite the model in the form of the exercise, namely: \n",
    " $$ X_{t+1} = AX_t + B \\varepsilon_{t+1}$$\n",
    "$$Y_t = CX_t+\\omega_t$$\n",
    "Where, $X_t = [k_t,s_t],s_t=[z_t,\\tau_{ht},\\tau_{xt},g_t]$, $Y_t = [y_t,x_t,h_t]$ and as before:\n",
    "$$s_{t+1} = P s_t +Q \\varepsilon_{t+1}$$\n",
    "We need to log linearize $y,x$ since we already done it for labor:"
   ]
  },
  {
   "cell_type": "code",
   "execution_count": 9,
   "metadata": {},
   "outputs": [
    {
     "ename": "UndefVarError",
     "evalue": "UndefVarError: C not defined",
     "output_type": "error",
     "traceback": [
      "UndefVarError: C not defined",
      "",
      "Stacktrace:",
      " [1] top-level scope at In[9]:1"
     ]
    }
   ],
   "source": [
    "\n",
    "#Rewritting to match Anmol's notation\n",
    "A = hcat(vcat(C[1],zeros(4,1)),vcat(D[1,:]',P))\n",
    "B = hcat(zeros(5,1),vcat(zeros(1,4),Q))\n",
    "\n",
    "\n",
    "#We have h as function of states. To find the Matrix B, we need to find y and x\n",
    "#as a function of states\n",
    "\n",
    "function kt1(vector::Vector)\n",
    "    k,z,τh,τx,g = vector\n",
    "    tilde = log.([k,z,τh,τx,g]).-log.([kss,zss,τhss,τxss,gss])\n",
    "    for i = 1:length(tilde)\n",
    "        if isnan(tilde[i])\n",
    "            tilde[i] = 0\n",
    "        end\n",
    "    end\n",
    "\n",
    "    k1= A[1,:]' * tilde\n",
    "    return k1\n",
    "end\n",
    "\n",
    "\n",
    "function ht(vector::Vector)\n",
    "    k,z,τh,τx,g = vector\n",
    "    tilde = log.([k,z,τh,τx,g]).-log.([kss,zss,τhss,τxss,gss])\n",
    "    for i = 1:length(tilde)\n",
    "        if isnan(tilde[i])\n",
    "            tilde[i] = 0\n",
    "        end\n",
    "    end\n",
    "    h = C[2,1]*(log(k)-log(kss)) + D[2,:]' * tilde[2:end]\n",
    "    return h\n",
    "end\n"
   ]
  },
  {
   "cell_type": "code",
   "execution_count": 10,
   "metadata": {},
   "outputs": [
    {
     "ename": "UndefVarError",
     "evalue": "UndefVarError: kss not defined",
     "output_type": "error",
     "traceback": [
      "UndefVarError: kss not defined",
      "",
      "Stacktrace:",
      " [1] top-level scope at In[10]:8"
     ]
    }
   ],
   "source": [
    "#log-linearizing y as a function of states\n",
    "function yt(vector::Vector)\n",
    "    k,z,τh,τx,g = vector\n",
    "    h = exp(ht(vector)+log(hss))\n",
    "    y = k^θ * (z*h)^(1-θ)\n",
    "    return y\n",
    "end\n",
    "\n",
    "#GDP\n",
    "yss = kss^(θ)*(zss*hss)^(1-θ)\n",
    "\n",
    "T=ForwardDiff.gradient(yt,[kss,zss,τhss,τxss,gss])\n",
    "ycoefs = [kss*T[1]/yss,zss*T[2]/yss,τhss*T[3]/yss,τxss*T[4]/yss,gss*T[5]/yss]\n",
    "\n",
    "\n",
    "\n",
    "#log linearizing x as function of states\n",
    "function xt(vector::Vector)\n",
    "    k,z,τh,τx,g = vector\n",
    "    k1 = exp(kt1(vector)+log(kss))\n",
    "    x= (1+γn)*(1+γz)k1 - (1-δ)k\n",
    "\n",
    "    return x\n",
    "end\n",
    "xss = (1+γz)*(1+γn)*kss-(1-δ)*kss\n",
    "T=ForwardDiff.gradient(xt,[kss,zss,τhss,τxss,gss])\n",
    "xcoefs = [kss*T[1]/xss,zss*T[2]/xss,τhss*T[3]/xss,τxss*T[4]/xss,gss*T[5]/xss]\n",
    "\n",
    "#We have the matrix C!\n",
    "C = [ycoefs[1] ycoefs[2] ycoefs[3] ycoefs[4] ycoefs[5];\n",
    "xcoefs[1] xcoefs[2] xcoefs[3] xcoefs[4] xcoefs[5];\n",
    "C[2,1] D[2,1] D[2,2] D[2,3] D[2,4];\n",
    "0 0 0 0 1]\n"
   ]
  },
  {
   "cell_type": "code",
   "execution_count": 11,
   "metadata": {},
   "outputs": [
    {
     "ename": "UndefVarError",
     "evalue": "UndefVarError: C not defined",
     "output_type": "error",
     "traceback": [
      "UndefVarError: C not defined",
      "",
      "Stacktrace:",
      " [1] top-level scope at ./In[11]:11"
     ]
    }
   ],
   "source": [
    "#defining the vectors\n",
    "T=300\n",
    "X= ones(5,T).* [0,0,0,0,0]\n",
    "Y = ones(4,T).*[0,0,0,0]\n",
    "S = randn(5,T)\n",
    "for t=1:T\n",
    "\n",
    "    if t>1\n",
    "    X[:,t] = A*X[:,t-1]+ B*S[:,t]\n",
    "    end\n",
    "    Y[:,t] = C*X[:,t] \n",
    "end\n",
    "\n",
    "plot([X[2,:],X[3,:],X[4,:],X[5,:]],title =\"Wedges\", labels = [\"Z\",\"tauh\",\"taux\",\"g\"])"
   ]
  },
  {
   "cell_type": "code",
   "execution_count": 12,
   "metadata": {},
   "outputs": [
    {
     "data": {
      "image/svg+xml": [
       "<?xml version=\"1.0\" encoding=\"utf-8\"?>\n",
       "<svg xmlns=\"http://www.w3.org/2000/svg\" xmlns:xlink=\"http://www.w3.org/1999/xlink\" width=\"600\" height=\"400\" viewBox=\"0 0 2400 1600\">\n",
       "<defs>\n",
       "  <clipPath id=\"clip7300\">\n",
       "    <rect x=\"0\" y=\"0\" width=\"2400\" height=\"1600\"/>\n",
       "  </clipPath>\n",
       "</defs>\n",
       "<polygon clip-path=\"url(#clip7300)\" points=\"\n",
       "0,1600 2400,1600 2400,0 0,0 \n",
       "  \" fill=\"#ffffff\" fill-rule=\"evenodd\" fill-opacity=\"1\"/>\n",
       "<defs>\n",
       "  <clipPath id=\"clip7301\">\n",
       "    <rect x=\"480\" y=\"0\" width=\"1681\" height=\"1600\"/>\n",
       "  </clipPath>\n",
       "</defs>\n",
       "<polygon clip-path=\"url(#clip7300)\" points=\"\n",
       "188.156,1503.47 2321.26,1503.47 2321.26,125.984 188.156,125.984 \n",
       "  \" fill=\"#ffffff\" fill-rule=\"evenodd\" fill-opacity=\"1\"/>\n",
       "<defs>\n",
       "  <clipPath id=\"clip7302\">\n",
       "    <rect x=\"188\" y=\"125\" width=\"2134\" height=\"1378\"/>\n",
       "  </clipPath>\n",
       "</defs>\n",
       "<polyline clip-path=\"url(#clip7302)\" style=\"stroke:#000000; stroke-width:2; stroke-opacity:0.1; fill:none\" points=\"\n",
       "  241.797,1503.47 241.797,125.984 \n",
       "  \"/>\n",
       "<polyline clip-path=\"url(#clip7302)\" style=\"stroke:#000000; stroke-width:2; stroke-opacity:0.1; fill:none\" points=\"\n",
       "  914.828,1503.47 914.828,125.984 \n",
       "  \"/>\n",
       "<polyline clip-path=\"url(#clip7302)\" style=\"stroke:#000000; stroke-width:2; stroke-opacity:0.1; fill:none\" points=\"\n",
       "  1587.86,1503.47 1587.86,125.984 \n",
       "  \"/>\n",
       "<polyline clip-path=\"url(#clip7302)\" style=\"stroke:#000000; stroke-width:2; stroke-opacity:0.1; fill:none\" points=\"\n",
       "  2260.89,1503.47 2260.89,125.984 \n",
       "  \"/>\n",
       "<polyline clip-path=\"url(#clip7302)\" style=\"stroke:#000000; stroke-width:2; stroke-opacity:0.1; fill:none\" points=\"\n",
       "  188.156,1464.49 2321.26,1464.49 \n",
       "  \"/>\n",
       "<polyline clip-path=\"url(#clip7302)\" style=\"stroke:#000000; stroke-width:2; stroke-opacity:0.1; fill:none\" points=\"\n",
       "  188.156,1139.61 2321.26,1139.61 \n",
       "  \"/>\n",
       "<polyline clip-path=\"url(#clip7302)\" style=\"stroke:#000000; stroke-width:2; stroke-opacity:0.1; fill:none\" points=\"\n",
       "  188.156,814.729 2321.26,814.729 \n",
       "  \"/>\n",
       "<polyline clip-path=\"url(#clip7302)\" style=\"stroke:#000000; stroke-width:2; stroke-opacity:0.1; fill:none\" points=\"\n",
       "  188.156,489.85 2321.26,489.85 \n",
       "  \"/>\n",
       "<polyline clip-path=\"url(#clip7302)\" style=\"stroke:#000000; stroke-width:2; stroke-opacity:0.1; fill:none\" points=\"\n",
       "  188.156,164.97 2321.26,164.97 \n",
       "  \"/>\n",
       "<polyline clip-path=\"url(#clip7300)\" style=\"stroke:#000000; stroke-width:4; stroke-opacity:1; fill:none\" points=\"\n",
       "  188.156,1503.47 2321.26,1503.47 \n",
       "  \"/>\n",
       "<polyline clip-path=\"url(#clip7300)\" style=\"stroke:#000000; stroke-width:4; stroke-opacity:1; fill:none\" points=\"\n",
       "  188.156,1503.47 188.156,125.984 \n",
       "  \"/>\n",
       "<polyline clip-path=\"url(#clip7300)\" style=\"stroke:#000000; stroke-width:4; stroke-opacity:1; fill:none\" points=\"\n",
       "  241.797,1503.47 241.797,1482.81 \n",
       "  \"/>\n",
       "<polyline clip-path=\"url(#clip7300)\" style=\"stroke:#000000; stroke-width:4; stroke-opacity:1; fill:none\" points=\"\n",
       "  914.828,1503.47 914.828,1482.81 \n",
       "  \"/>\n",
       "<polyline clip-path=\"url(#clip7300)\" style=\"stroke:#000000; stroke-width:4; stroke-opacity:1; fill:none\" points=\"\n",
       "  1587.86,1503.47 1587.86,1482.81 \n",
       "  \"/>\n",
       "<polyline clip-path=\"url(#clip7300)\" style=\"stroke:#000000; stroke-width:4; stroke-opacity:1; fill:none\" points=\"\n",
       "  2260.89,1503.47 2260.89,1482.81 \n",
       "  \"/>\n",
       "<polyline clip-path=\"url(#clip7300)\" style=\"stroke:#000000; stroke-width:4; stroke-opacity:1; fill:none\" points=\"\n",
       "  188.156,1464.49 220.153,1464.49 \n",
       "  \"/>\n",
       "<polyline clip-path=\"url(#clip7300)\" style=\"stroke:#000000; stroke-width:4; stroke-opacity:1; fill:none\" points=\"\n",
       "  188.156,1139.61 220.153,1139.61 \n",
       "  \"/>\n",
       "<polyline clip-path=\"url(#clip7300)\" style=\"stroke:#000000; stroke-width:4; stroke-opacity:1; fill:none\" points=\"\n",
       "  188.156,814.729 220.153,814.729 \n",
       "  \"/>\n",
       "<polyline clip-path=\"url(#clip7300)\" style=\"stroke:#000000; stroke-width:4; stroke-opacity:1; fill:none\" points=\"\n",
       "  188.156,489.85 220.153,489.85 \n",
       "  \"/>\n",
       "<polyline clip-path=\"url(#clip7300)\" style=\"stroke:#000000; stroke-width:4; stroke-opacity:1; fill:none\" points=\"\n",
       "  188.156,164.97 220.153,164.97 \n",
       "  \"/>\n",
       "<g clip-path=\"url(#clip7300)\">\n",
       "<text style=\"fill:#000000; fill-opacity:1; font-family:Arial,Helvetica Neue,Helvetica,sans-serif; font-size:48px; text-anchor:middle;\" transform=\"rotate(0, 241.797, 1557.47)\" x=\"241.797\" y=\"1557.47\">0</text>\n",
       "</g>\n",
       "<g clip-path=\"url(#clip7300)\">\n",
       "<text style=\"fill:#000000; fill-opacity:1; font-family:Arial,Helvetica Neue,Helvetica,sans-serif; font-size:48px; text-anchor:middle;\" transform=\"rotate(0, 914.828, 1557.47)\" x=\"914.828\" y=\"1557.47\">100</text>\n",
       "</g>\n",
       "<g clip-path=\"url(#clip7300)\">\n",
       "<text style=\"fill:#000000; fill-opacity:1; font-family:Arial,Helvetica Neue,Helvetica,sans-serif; font-size:48px; text-anchor:middle;\" transform=\"rotate(0, 1587.86, 1557.47)\" x=\"1587.86\" y=\"1557.47\">200</text>\n",
       "</g>\n",
       "<g clip-path=\"url(#clip7300)\">\n",
       "<text style=\"fill:#000000; fill-opacity:1; font-family:Arial,Helvetica Neue,Helvetica,sans-serif; font-size:48px; text-anchor:middle;\" transform=\"rotate(0, 2260.89, 1557.47)\" x=\"2260.89\" y=\"1557.47\">300</text>\n",
       "</g>\n",
       "<g clip-path=\"url(#clip7300)\">\n",
       "<text style=\"fill:#000000; fill-opacity:1; font-family:Arial,Helvetica Neue,Helvetica,sans-serif; font-size:48px; text-anchor:end;\" transform=\"rotate(0, 164.156, 1481.99)\" x=\"164.156\" y=\"1481.99\">0.00</text>\n",
       "</g>\n",
       "<g clip-path=\"url(#clip7300)\">\n",
       "<text style=\"fill:#000000; fill-opacity:1; font-family:Arial,Helvetica Neue,Helvetica,sans-serif; font-size:48px; text-anchor:end;\" transform=\"rotate(0, 164.156, 1157.11)\" x=\"164.156\" y=\"1157.11\">0.25</text>\n",
       "</g>\n",
       "<g clip-path=\"url(#clip7300)\">\n",
       "<text style=\"fill:#000000; fill-opacity:1; font-family:Arial,Helvetica Neue,Helvetica,sans-serif; font-size:48px; text-anchor:end;\" transform=\"rotate(0, 164.156, 832.229)\" x=\"164.156\" y=\"832.229\">0.50</text>\n",
       "</g>\n",
       "<g clip-path=\"url(#clip7300)\">\n",
       "<text style=\"fill:#000000; fill-opacity:1; font-family:Arial,Helvetica Neue,Helvetica,sans-serif; font-size:48px; text-anchor:end;\" transform=\"rotate(0, 164.156, 507.35)\" x=\"164.156\" y=\"507.35\">0.75</text>\n",
       "</g>\n",
       "<g clip-path=\"url(#clip7300)\">\n",
       "<text style=\"fill:#000000; fill-opacity:1; font-family:Arial,Helvetica Neue,Helvetica,sans-serif; font-size:48px; text-anchor:end;\" transform=\"rotate(0, 164.156, 182.47)\" x=\"164.156\" y=\"182.47\">1.00</text>\n",
       "</g>\n",
       "<g clip-path=\"url(#clip7300)\">\n",
       "<text style=\"fill:#000000; fill-opacity:1; font-family:Arial,Helvetica Neue,Helvetica,sans-serif; font-size:84px; text-anchor:middle;\" transform=\"rotate(0, 1254.71, 73.2)\" x=\"1254.71\" y=\"73.2\">Endogenous Variables</text>\n",
       "</g>\n",
       "<polyline clip-path=\"url(#clip7302)\" style=\"stroke:#009af9; stroke-width:4; stroke-opacity:1; fill:none\" points=\"\n",
       "  248.527,1464.49 255.258,1464.49 261.988,1464.49 268.718,1464.49 275.448,1464.49 282.179,1464.49 288.909,1464.49 295.639,1464.49 302.37,1464.49 309.1,1464.49 \n",
       "  315.83,1464.49 322.561,1464.49 329.291,1464.49 336.021,1464.49 342.752,1464.49 349.482,1464.49 356.212,1464.49 362.942,1464.49 369.673,1464.49 376.403,1464.49 \n",
       "  383.133,1464.49 389.864,1464.49 396.594,1464.49 403.324,1464.49 410.055,1464.49 416.785,1464.49 423.515,1464.49 430.246,1464.49 436.976,1464.49 443.706,1464.49 \n",
       "  450.436,1464.49 457.167,1464.49 463.897,1464.49 470.627,1464.49 477.358,1464.49 484.088,1464.49 490.818,1464.49 497.549,1464.49 504.279,1464.49 511.009,1464.49 \n",
       "  517.74,1464.49 524.47,1464.49 531.2,1464.49 537.93,1464.49 544.661,1464.49 551.391,1464.49 558.121,1464.49 564.852,1464.49 571.582,1464.49 578.312,1464.49 \n",
       "  585.043,1464.49 591.773,1464.49 598.503,1464.49 605.233,1464.49 611.964,1464.49 618.694,1464.49 625.424,1464.49 632.155,1464.49 638.885,1464.49 645.615,1464.49 \n",
       "  652.346,1464.49 659.076,1464.49 665.806,1464.49 672.537,1464.49 679.267,1464.49 685.997,1464.49 692.727,1464.49 699.458,1464.49 706.188,1464.49 712.918,1464.49 \n",
       "  719.649,1464.49 726.379,1464.49 733.109,1464.49 739.84,1464.49 746.57,1464.49 753.3,1464.49 760.031,1464.49 766.761,1464.49 773.491,1464.49 780.221,1464.49 \n",
       "  786.952,1464.49 793.682,1464.49 800.412,1464.49 807.143,1464.49 813.873,1464.49 820.603,1464.49 827.334,1464.49 834.064,1464.49 840.794,1464.49 847.525,1464.49 \n",
       "  854.255,1464.49 860.985,1464.49 867.715,1464.49 874.446,1464.49 881.176,1464.49 887.906,1464.49 894.637,1464.49 901.367,1464.49 908.097,1464.49 914.828,1464.49 \n",
       "  921.558,1464.49 928.288,1464.49 935.019,1464.49 941.749,1464.49 948.479,1464.49 955.209,1464.49 961.94,1464.49 968.67,1464.49 975.4,1464.49 982.131,1464.49 \n",
       "  988.861,1464.49 995.591,1464.49 1002.32,1464.49 1009.05,1464.49 1015.78,1464.49 1022.51,1464.49 1029.24,1464.49 1035.97,1464.49 1042.7,1464.49 1049.43,1464.49 \n",
       "  1056.16,1464.49 1062.89,1464.49 1069.62,1464.49 1076.35,1464.49 1083.09,1464.49 1089.82,1464.49 1096.55,1464.49 1103.28,1464.49 1110.01,1464.49 1116.74,1464.49 \n",
       "  1123.47,1464.49 1130.2,1464.49 1136.93,1464.49 1143.66,1464.49 1150.39,1464.49 1157.12,1464.49 1163.85,1464.49 1170.58,1464.49 1177.31,1464.49 1184.04,1464.49 \n",
       "  1190.77,1464.49 1197.5,1464.49 1204.23,1464.49 1210.96,1464.49 1217.69,1464.49 1224.42,1464.49 1231.15,1464.49 1237.88,1464.49 1244.61,1464.49 1251.34,1464.49 \n",
       "  1258.07,1464.49 1264.8,1464.49 1271.53,1464.49 1278.26,1464.49 1284.99,1464.49 1291.72,1464.49 1298.46,1464.49 1305.19,1464.49 1311.92,1464.49 1318.65,1464.49 \n",
       "  1325.38,1464.49 1332.11,1464.49 1338.84,1464.49 1345.57,1464.49 1352.3,1464.49 1359.03,1464.49 1365.76,1464.49 1372.49,1464.49 1379.22,1464.49 1385.95,1464.49 \n",
       "  1392.68,1464.49 1399.41,1464.49 1406.14,1464.49 1412.87,1464.49 1419.6,1464.49 1426.33,1464.49 1433.06,1464.49 1439.79,1464.49 1446.52,1464.49 1453.25,1464.49 \n",
       "  1459.98,1464.49 1466.71,1464.49 1473.44,1464.49 1480.17,1464.49 1486.9,1464.49 1493.63,1464.49 1500.36,1464.49 1507.09,1464.49 1513.82,1464.49 1520.56,1464.49 \n",
       "  1527.29,1464.49 1534.02,1464.49 1540.75,1464.49 1547.48,1464.49 1554.21,1464.49 1560.94,1464.49 1567.67,1464.49 1574.4,1464.49 1581.13,1464.49 1587.86,1464.49 \n",
       "  1594.59,1464.49 1601.32,1464.49 1608.05,1464.49 1614.78,1464.49 1621.51,1464.49 1628.24,1464.49 1634.97,1464.49 1641.7,1464.49 1648.43,1464.49 1655.16,1464.49 \n",
       "  1661.89,1464.49 1668.62,1464.49 1675.35,1464.49 1682.08,1464.49 1688.81,1464.49 1695.54,1464.49 1702.27,1464.49 1709,1464.49 1715.73,1464.49 1722.46,1464.49 \n",
       "  1729.19,1464.49 1735.93,1464.49 1742.66,1464.49 1749.39,1464.49 1756.12,1464.49 1762.85,1464.49 1769.58,1464.49 1776.31,1464.49 1783.04,1464.49 1789.77,1464.49 \n",
       "  1796.5,1464.49 1803.23,1464.49 1809.96,1464.49 1816.69,1464.49 1823.42,1464.49 1830.15,1464.49 1836.88,1464.49 1843.61,1464.49 1850.34,1464.49 1857.07,1464.49 \n",
       "  1863.8,1464.49 1870.53,1464.49 1877.26,1464.49 1883.99,1464.49 1890.72,1464.49 1897.45,1464.49 1904.18,1464.49 1910.91,1464.49 1917.64,1464.49 1924.37,1464.49 \n",
       "  1931.1,1464.49 1937.83,1464.49 1944.56,1464.49 1951.29,1464.49 1958.03,1464.49 1964.76,1464.49 1971.49,1464.49 1978.22,1464.49 1984.95,1464.49 1991.68,1464.49 \n",
       "  1998.41,1464.49 2005.14,1464.49 2011.87,1464.49 2018.6,1464.49 2025.33,1464.49 2032.06,1464.49 2038.79,1464.49 2045.52,1464.49 2052.25,1464.49 2058.98,1464.49 \n",
       "  2065.71,1464.49 2072.44,1464.49 2079.17,1464.49 2085.9,1464.49 2092.63,1464.49 2099.36,1464.49 2106.09,1464.49 2112.82,1464.49 2119.55,1464.49 2126.28,1464.49 \n",
       "  2133.01,1464.49 2139.74,1464.49 2146.47,1464.49 2153.2,1464.49 2159.93,1464.49 2166.66,1464.49 2173.4,1464.49 2180.13,1464.49 2186.86,1464.49 2193.59,1464.49 \n",
       "  2200.32,1464.49 2207.05,1464.49 2213.78,1464.49 2220.51,1464.49 2227.24,1464.49 2233.97,1464.49 2240.7,1464.49 2247.43,1464.49 2254.16,1464.49 2260.89,1464.49 \n",
       "  \n",
       "  \"/>\n",
       "<polyline clip-path=\"url(#clip7302)\" style=\"stroke:#e26f46; stroke-width:4; stroke-opacity:1; fill:none\" points=\"\n",
       "  248.527,1464.49 255.258,1464.49 261.988,1464.49 268.718,1464.49 275.448,1464.49 282.179,1464.49 288.909,1464.49 295.639,1464.49 302.37,1464.49 309.1,1464.49 \n",
       "  315.83,1464.49 322.561,1464.49 329.291,1464.49 336.021,1464.49 342.752,1464.49 349.482,1464.49 356.212,1464.49 362.942,1464.49 369.673,1464.49 376.403,1464.49 \n",
       "  383.133,1464.49 389.864,1464.49 396.594,1464.49 403.324,1464.49 410.055,1464.49 416.785,1464.49 423.515,1464.49 430.246,1464.49 436.976,1464.49 443.706,1464.49 \n",
       "  450.436,1464.49 457.167,1464.49 463.897,1464.49 470.627,1464.49 477.358,1464.49 484.088,1464.49 490.818,1464.49 497.549,1464.49 504.279,1464.49 511.009,1464.49 \n",
       "  517.74,1464.49 524.47,1464.49 531.2,1464.49 537.93,1464.49 544.661,1464.49 551.391,1464.49 558.121,1464.49 564.852,1464.49 571.582,1464.49 578.312,1464.49 \n",
       "  585.043,1464.49 591.773,1464.49 598.503,1464.49 605.233,1464.49 611.964,1464.49 618.694,1464.49 625.424,1464.49 632.155,1464.49 638.885,1464.49 645.615,1464.49 \n",
       "  652.346,1464.49 659.076,1464.49 665.806,1464.49 672.537,1464.49 679.267,1464.49 685.997,1464.49 692.727,1464.49 699.458,1464.49 706.188,1464.49 712.918,1464.49 \n",
       "  719.649,1464.49 726.379,1464.49 733.109,1464.49 739.84,1464.49 746.57,1464.49 753.3,1464.49 760.031,1464.49 766.761,1464.49 773.491,1464.49 780.221,1464.49 \n",
       "  786.952,1464.49 793.682,1464.49 800.412,1464.49 807.143,1464.49 813.873,1464.49 820.603,1464.49 827.334,1464.49 834.064,1464.49 840.794,1464.49 847.525,1464.49 \n",
       "  854.255,1464.49 860.985,1464.49 867.715,1464.49 874.446,1464.49 881.176,1464.49 887.906,1464.49 894.637,1464.49 901.367,1464.49 908.097,1464.49 914.828,1464.49 \n",
       "  921.558,1464.49 928.288,1464.49 935.019,1464.49 941.749,1464.49 948.479,1464.49 955.209,1464.49 961.94,1464.49 968.67,1464.49 975.4,1464.49 982.131,1464.49 \n",
       "  988.861,1464.49 995.591,1464.49 1002.32,1464.49 1009.05,1464.49 1015.78,1464.49 1022.51,1464.49 1029.24,1464.49 1035.97,1464.49 1042.7,1464.49 1049.43,1464.49 \n",
       "  1056.16,1464.49 1062.89,1464.49 1069.62,1464.49 1076.35,1464.49 1083.09,1464.49 1089.82,1464.49 1096.55,1464.49 1103.28,1464.49 1110.01,1464.49 1116.74,1464.49 \n",
       "  1123.47,1464.49 1130.2,1464.49 1136.93,1464.49 1143.66,1464.49 1150.39,1464.49 1157.12,1464.49 1163.85,1464.49 1170.58,1464.49 1177.31,1464.49 1184.04,1464.49 \n",
       "  1190.77,1464.49 1197.5,1464.49 1204.23,1464.49 1210.96,1464.49 1217.69,1464.49 1224.42,1464.49 1231.15,1464.49 1237.88,1464.49 1244.61,1464.49 1251.34,1464.49 \n",
       "  1258.07,1464.49 1264.8,1464.49 1271.53,1464.49 1278.26,1464.49 1284.99,1464.49 1291.72,1464.49 1298.46,1464.49 1305.19,1464.49 1311.92,1464.49 1318.65,1464.49 \n",
       "  1325.38,1464.49 1332.11,1464.49 1338.84,1464.49 1345.57,1464.49 1352.3,1464.49 1359.03,1464.49 1365.76,1464.49 1372.49,1464.49 1379.22,1464.49 1385.95,1464.49 \n",
       "  1392.68,1464.49 1399.41,1464.49 1406.14,1464.49 1412.87,1464.49 1419.6,1464.49 1426.33,1464.49 1433.06,1464.49 1439.79,1464.49 1446.52,1464.49 1453.25,1464.49 \n",
       "  1459.98,1464.49 1466.71,1464.49 1473.44,1464.49 1480.17,1464.49 1486.9,1464.49 1493.63,1464.49 1500.36,1464.49 1507.09,1464.49 1513.82,1464.49 1520.56,1464.49 \n",
       "  1527.29,1464.49 1534.02,1464.49 1540.75,1464.49 1547.48,1464.49 1554.21,1464.49 1560.94,1464.49 1567.67,1464.49 1574.4,1464.49 1581.13,1464.49 1587.86,1464.49 \n",
       "  1594.59,1464.49 1601.32,1464.49 1608.05,1464.49 1614.78,1464.49 1621.51,1464.49 1628.24,1464.49 1634.97,1464.49 1641.7,1464.49 1648.43,1464.49 1655.16,1464.49 \n",
       "  1661.89,1464.49 1668.62,1464.49 1675.35,1464.49 1682.08,1464.49 1688.81,1464.49 1695.54,1464.49 1702.27,1464.49 1709,1464.49 1715.73,1464.49 1722.46,1464.49 \n",
       "  1729.19,1464.49 1735.93,1464.49 1742.66,1464.49 1749.39,1464.49 1756.12,1464.49 1762.85,1464.49 1769.58,1464.49 1776.31,1464.49 1783.04,1464.49 1789.77,1464.49 \n",
       "  1796.5,1464.49 1803.23,1464.49 1809.96,1464.49 1816.69,1464.49 1823.42,1464.49 1830.15,1464.49 1836.88,1464.49 1843.61,1464.49 1850.34,1464.49 1857.07,1464.49 \n",
       "  1863.8,1464.49 1870.53,1464.49 1877.26,1464.49 1883.99,1464.49 1890.72,1464.49 1897.45,1464.49 1904.18,1464.49 1910.91,1464.49 1917.64,1464.49 1924.37,1464.49 \n",
       "  1931.1,1464.49 1937.83,1464.49 1944.56,1464.49 1951.29,1464.49 1958.03,1464.49 1964.76,1464.49 1971.49,1464.49 1978.22,1464.49 1984.95,1464.49 1991.68,1464.49 \n",
       "  1998.41,1464.49 2005.14,1464.49 2011.87,1464.49 2018.6,1464.49 2025.33,1464.49 2032.06,1464.49 2038.79,1464.49 2045.52,1464.49 2052.25,1464.49 2058.98,1464.49 \n",
       "  2065.71,1464.49 2072.44,1464.49 2079.17,1464.49 2085.9,1464.49 2092.63,1464.49 2099.36,1464.49 2106.09,1464.49 2112.82,1464.49 2119.55,1464.49 2126.28,1464.49 \n",
       "  2133.01,1464.49 2139.74,1464.49 2146.47,1464.49 2153.2,1464.49 2159.93,1464.49 2166.66,1464.49 2173.4,1464.49 2180.13,1464.49 2186.86,1464.49 2193.59,1464.49 \n",
       "  2200.32,1464.49 2207.05,1464.49 2213.78,1464.49 2220.51,1464.49 2227.24,1464.49 2233.97,1464.49 2240.7,1464.49 2247.43,1464.49 2254.16,1464.49 2260.89,1464.49 \n",
       "  \n",
       "  \"/>\n",
       "<polyline clip-path=\"url(#clip7302)\" style=\"stroke:#3da44d; stroke-width:4; stroke-opacity:1; fill:none\" points=\"\n",
       "  248.527,1464.49 255.258,1464.49 261.988,1464.49 268.718,1464.49 275.448,1464.49 282.179,1464.49 288.909,1464.49 295.639,1464.49 302.37,1464.49 309.1,1464.49 \n",
       "  315.83,1464.49 322.561,1464.49 329.291,1464.49 336.021,1464.49 342.752,1464.49 349.482,1464.49 356.212,1464.49 362.942,1464.49 369.673,1464.49 376.403,1464.49 \n",
       "  383.133,1464.49 389.864,1464.49 396.594,1464.49 403.324,1464.49 410.055,1464.49 416.785,1464.49 423.515,1464.49 430.246,1464.49 436.976,1464.49 443.706,1464.49 \n",
       "  450.436,1464.49 457.167,1464.49 463.897,1464.49 470.627,1464.49 477.358,1464.49 484.088,1464.49 490.818,1464.49 497.549,1464.49 504.279,1464.49 511.009,1464.49 \n",
       "  517.74,1464.49 524.47,1464.49 531.2,1464.49 537.93,1464.49 544.661,1464.49 551.391,1464.49 558.121,1464.49 564.852,1464.49 571.582,1464.49 578.312,1464.49 \n",
       "  585.043,1464.49 591.773,1464.49 598.503,1464.49 605.233,1464.49 611.964,1464.49 618.694,1464.49 625.424,1464.49 632.155,1464.49 638.885,1464.49 645.615,1464.49 \n",
       "  652.346,1464.49 659.076,1464.49 665.806,1464.49 672.537,1464.49 679.267,1464.49 685.997,1464.49 692.727,1464.49 699.458,1464.49 706.188,1464.49 712.918,1464.49 \n",
       "  719.649,1464.49 726.379,1464.49 733.109,1464.49 739.84,1464.49 746.57,1464.49 753.3,1464.49 760.031,1464.49 766.761,1464.49 773.491,1464.49 780.221,1464.49 \n",
       "  786.952,1464.49 793.682,1464.49 800.412,1464.49 807.143,1464.49 813.873,1464.49 820.603,1464.49 827.334,1464.49 834.064,1464.49 840.794,1464.49 847.525,1464.49 \n",
       "  854.255,1464.49 860.985,1464.49 867.715,1464.49 874.446,1464.49 881.176,1464.49 887.906,1464.49 894.637,1464.49 901.367,1464.49 908.097,1464.49 914.828,1464.49 \n",
       "  921.558,1464.49 928.288,1464.49 935.019,1464.49 941.749,1464.49 948.479,1464.49 955.209,1464.49 961.94,1464.49 968.67,1464.49 975.4,1464.49 982.131,1464.49 \n",
       "  988.861,1464.49 995.591,1464.49 1002.32,1464.49 1009.05,1464.49 1015.78,1464.49 1022.51,1464.49 1029.24,1464.49 1035.97,1464.49 1042.7,1464.49 1049.43,1464.49 \n",
       "  1056.16,1464.49 1062.89,1464.49 1069.62,1464.49 1076.35,1464.49 1083.09,1464.49 1089.82,1464.49 1096.55,1464.49 1103.28,1464.49 1110.01,1464.49 1116.74,1464.49 \n",
       "  1123.47,1464.49 1130.2,1464.49 1136.93,1464.49 1143.66,1464.49 1150.39,1464.49 1157.12,1464.49 1163.85,1464.49 1170.58,1464.49 1177.31,1464.49 1184.04,1464.49 \n",
       "  1190.77,1464.49 1197.5,1464.49 1204.23,1464.49 1210.96,1464.49 1217.69,1464.49 1224.42,1464.49 1231.15,1464.49 1237.88,1464.49 1244.61,1464.49 1251.34,1464.49 \n",
       "  1258.07,1464.49 1264.8,1464.49 1271.53,1464.49 1278.26,1464.49 1284.99,1464.49 1291.72,1464.49 1298.46,1464.49 1305.19,1464.49 1311.92,1464.49 1318.65,1464.49 \n",
       "  1325.38,1464.49 1332.11,1464.49 1338.84,1464.49 1345.57,1464.49 1352.3,1464.49 1359.03,1464.49 1365.76,1464.49 1372.49,1464.49 1379.22,1464.49 1385.95,1464.49 \n",
       "  1392.68,1464.49 1399.41,1464.49 1406.14,1464.49 1412.87,1464.49 1419.6,1464.49 1426.33,1464.49 1433.06,1464.49 1439.79,1464.49 1446.52,1464.49 1453.25,1464.49 \n",
       "  1459.98,1464.49 1466.71,1464.49 1473.44,1464.49 1480.17,1464.49 1486.9,1464.49 1493.63,1464.49 1500.36,1464.49 1507.09,1464.49 1513.82,1464.49 1520.56,1464.49 \n",
       "  1527.29,1464.49 1534.02,1464.49 1540.75,1464.49 1547.48,1464.49 1554.21,1464.49 1560.94,1464.49 1567.67,1464.49 1574.4,1464.49 1581.13,1464.49 1587.86,1464.49 \n",
       "  1594.59,1464.49 1601.32,1464.49 1608.05,1464.49 1614.78,1464.49 1621.51,1464.49 1628.24,1464.49 1634.97,1464.49 1641.7,1464.49 1648.43,1464.49 1655.16,1464.49 \n",
       "  1661.89,1464.49 1668.62,1464.49 1675.35,1464.49 1682.08,1464.49 1688.81,1464.49 1695.54,1464.49 1702.27,1464.49 1709,1464.49 1715.73,1464.49 1722.46,1464.49 \n",
       "  1729.19,1464.49 1735.93,1464.49 1742.66,1464.49 1749.39,1464.49 1756.12,1464.49 1762.85,1464.49 1769.58,1464.49 1776.31,1464.49 1783.04,1464.49 1789.77,1464.49 \n",
       "  1796.5,1464.49 1803.23,1464.49 1809.96,1464.49 1816.69,1464.49 1823.42,1464.49 1830.15,1464.49 1836.88,1464.49 1843.61,1464.49 1850.34,1464.49 1857.07,1464.49 \n",
       "  1863.8,1464.49 1870.53,1464.49 1877.26,1464.49 1883.99,1464.49 1890.72,1464.49 1897.45,1464.49 1904.18,1464.49 1910.91,1464.49 1917.64,1464.49 1924.37,1464.49 \n",
       "  1931.1,1464.49 1937.83,1464.49 1944.56,1464.49 1951.29,1464.49 1958.03,1464.49 1964.76,1464.49 1971.49,1464.49 1978.22,1464.49 1984.95,1464.49 1991.68,1464.49 \n",
       "  1998.41,1464.49 2005.14,1464.49 2011.87,1464.49 2018.6,1464.49 2025.33,1464.49 2032.06,1464.49 2038.79,1464.49 2045.52,1464.49 2052.25,1464.49 2058.98,1464.49 \n",
       "  2065.71,1464.49 2072.44,1464.49 2079.17,1464.49 2085.9,1464.49 2092.63,1464.49 2099.36,1464.49 2106.09,1464.49 2112.82,1464.49 2119.55,1464.49 2126.28,1464.49 \n",
       "  2133.01,1464.49 2139.74,1464.49 2146.47,1464.49 2153.2,1464.49 2159.93,1464.49 2166.66,1464.49 2173.4,1464.49 2180.13,1464.49 2186.86,1464.49 2193.59,1464.49 \n",
       "  2200.32,1464.49 2207.05,1464.49 2213.78,1464.49 2220.51,1464.49 2227.24,1464.49 2233.97,1464.49 2240.7,1464.49 2247.43,1464.49 2254.16,1464.49 2260.89,1464.49 \n",
       "  \n",
       "  \"/>\n",
       "<polyline clip-path=\"url(#clip7302)\" style=\"stroke:#c271d2; stroke-width:4; stroke-opacity:1; fill:none\" points=\"\n",
       "  248.527,1464.49 255.258,1464.49 261.988,1464.49 268.718,1464.49 275.448,1464.49 282.179,1464.49 288.909,1464.49 295.639,1464.49 302.37,1464.49 309.1,1464.49 \n",
       "  315.83,1464.49 322.561,1464.49 329.291,1464.49 336.021,1464.49 342.752,1464.49 349.482,1464.49 356.212,1464.49 362.942,1464.49 369.673,1464.49 376.403,1464.49 \n",
       "  383.133,1464.49 389.864,1464.49 396.594,1464.49 403.324,1464.49 410.055,1464.49 416.785,1464.49 423.515,1464.49 430.246,1464.49 436.976,1464.49 443.706,1464.49 \n",
       "  450.436,1464.49 457.167,1464.49 463.897,1464.49 470.627,1464.49 477.358,1464.49 484.088,1464.49 490.818,1464.49 497.549,1464.49 504.279,1464.49 511.009,1464.49 \n",
       "  517.74,1464.49 524.47,1464.49 531.2,1464.49 537.93,1464.49 544.661,1464.49 551.391,1464.49 558.121,1464.49 564.852,1464.49 571.582,1464.49 578.312,1464.49 \n",
       "  585.043,1464.49 591.773,1464.49 598.503,1464.49 605.233,1464.49 611.964,1464.49 618.694,1464.49 625.424,1464.49 632.155,1464.49 638.885,1464.49 645.615,1464.49 \n",
       "  652.346,1464.49 659.076,1464.49 665.806,1464.49 672.537,1464.49 679.267,1464.49 685.997,1464.49 692.727,1464.49 699.458,1464.49 706.188,1464.49 712.918,1464.49 \n",
       "  719.649,1464.49 726.379,1464.49 733.109,1464.49 739.84,1464.49 746.57,1464.49 753.3,1464.49 760.031,1464.49 766.761,1464.49 773.491,1464.49 780.221,1464.49 \n",
       "  786.952,1464.49 793.682,1464.49 800.412,1464.49 807.143,1464.49 813.873,1464.49 820.603,1464.49 827.334,1464.49 834.064,1464.49 840.794,1464.49 847.525,1464.49 \n",
       "  854.255,1464.49 860.985,1464.49 867.715,1464.49 874.446,1464.49 881.176,1464.49 887.906,1464.49 894.637,1464.49 901.367,1464.49 908.097,1464.49 914.828,1464.49 \n",
       "  921.558,1464.49 928.288,1464.49 935.019,1464.49 941.749,1464.49 948.479,1464.49 955.209,1464.49 961.94,1464.49 968.67,1464.49 975.4,1464.49 982.131,1464.49 \n",
       "  988.861,1464.49 995.591,1464.49 1002.32,1464.49 1009.05,1464.49 1015.78,1464.49 1022.51,1464.49 1029.24,1464.49 1035.97,1464.49 1042.7,1464.49 1049.43,1464.49 \n",
       "  1056.16,1464.49 1062.89,1464.49 1069.62,1464.49 1076.35,1464.49 1083.09,1464.49 1089.82,1464.49 1096.55,1464.49 1103.28,1464.49 1110.01,1464.49 1116.74,1464.49 \n",
       "  1123.47,1464.49 1130.2,1464.49 1136.93,1464.49 1143.66,1464.49 1150.39,1464.49 1157.12,1464.49 1163.85,1464.49 1170.58,1464.49 1177.31,1464.49 1184.04,1464.49 \n",
       "  1190.77,1464.49 1197.5,1464.49 1204.23,1464.49 1210.96,1464.49 1217.69,1464.49 1224.42,1464.49 1231.15,1464.49 1237.88,1464.49 1244.61,1464.49 1251.34,1464.49 \n",
       "  1258.07,1464.49 1264.8,1464.49 1271.53,1464.49 1278.26,1464.49 1284.99,1464.49 1291.72,1464.49 1298.46,1464.49 1305.19,1464.49 1311.92,1464.49 1318.65,1464.49 \n",
       "  1325.38,1464.49 1332.11,1464.49 1338.84,1464.49 1345.57,1464.49 1352.3,1464.49 1359.03,1464.49 1365.76,1464.49 1372.49,1464.49 1379.22,1464.49 1385.95,1464.49 \n",
       "  1392.68,1464.49 1399.41,1464.49 1406.14,1464.49 1412.87,1464.49 1419.6,1464.49 1426.33,1464.49 1433.06,1464.49 1439.79,1464.49 1446.52,1464.49 1453.25,1464.49 \n",
       "  1459.98,1464.49 1466.71,1464.49 1473.44,1464.49 1480.17,1464.49 1486.9,1464.49 1493.63,1464.49 1500.36,1464.49 1507.09,1464.49 1513.82,1464.49 1520.56,1464.49 \n",
       "  1527.29,1464.49 1534.02,1464.49 1540.75,1464.49 1547.48,1464.49 1554.21,1464.49 1560.94,1464.49 1567.67,1464.49 1574.4,1464.49 1581.13,1464.49 1587.86,1464.49 \n",
       "  1594.59,1464.49 1601.32,1464.49 1608.05,1464.49 1614.78,1464.49 1621.51,1464.49 1628.24,1464.49 1634.97,1464.49 1641.7,1464.49 1648.43,1464.49 1655.16,1464.49 \n",
       "  1661.89,1464.49 1668.62,1464.49 1675.35,1464.49 1682.08,1464.49 1688.81,1464.49 1695.54,1464.49 1702.27,1464.49 1709,1464.49 1715.73,1464.49 1722.46,1464.49 \n",
       "  1729.19,1464.49 1735.93,1464.49 1742.66,1464.49 1749.39,1464.49 1756.12,1464.49 1762.85,1464.49 1769.58,1464.49 1776.31,1464.49 1783.04,1464.49 1789.77,1464.49 \n",
       "  1796.5,1464.49 1803.23,1464.49 1809.96,1464.49 1816.69,1464.49 1823.42,1464.49 1830.15,1464.49 1836.88,1464.49 1843.61,1464.49 1850.34,1464.49 1857.07,1464.49 \n",
       "  1863.8,1464.49 1870.53,1464.49 1877.26,1464.49 1883.99,1464.49 1890.72,1464.49 1897.45,1464.49 1904.18,1464.49 1910.91,1464.49 1917.64,1464.49 1924.37,1464.49 \n",
       "  1931.1,1464.49 1937.83,1464.49 1944.56,1464.49 1951.29,1464.49 1958.03,1464.49 1964.76,1464.49 1971.49,1464.49 1978.22,1464.49 1984.95,1464.49 1991.68,1464.49 \n",
       "  1998.41,1464.49 2005.14,1464.49 2011.87,1464.49 2018.6,1464.49 2025.33,1464.49 2032.06,1464.49 2038.79,1464.49 2045.52,1464.49 2052.25,1464.49 2058.98,1464.49 \n",
       "  2065.71,1464.49 2072.44,1464.49 2079.17,1464.49 2085.9,1464.49 2092.63,1464.49 2099.36,1464.49 2106.09,1464.49 2112.82,1464.49 2119.55,1464.49 2126.28,1464.49 \n",
       "  2133.01,1464.49 2139.74,1464.49 2146.47,1464.49 2153.2,1464.49 2159.93,1464.49 2166.66,1464.49 2173.4,1464.49 2180.13,1464.49 2186.86,1464.49 2193.59,1464.49 \n",
       "  2200.32,1464.49 2207.05,1464.49 2213.78,1464.49 2220.51,1464.49 2227.24,1464.49 2233.97,1464.49 2240.7,1464.49 2247.43,1464.49 2254.16,1464.49 2260.89,1464.49 \n",
       "  \n",
       "  \"/>\n",
       "<polygon clip-path=\"url(#clip7300)\" points=\"\n",
       "1977.15,511.904 2249.26,511.904 2249.26,209.504 1977.15,209.504 \n",
       "  \" fill=\"#ffffff\" fill-rule=\"evenodd\" fill-opacity=\"1\"/>\n",
       "<polyline clip-path=\"url(#clip7300)\" style=\"stroke:#000000; stroke-width:4; stroke-opacity:1; fill:none\" points=\"\n",
       "  1977.15,511.904 2249.26,511.904 2249.26,209.504 1977.15,209.504 1977.15,511.904 \n",
       "  \"/>\n",
       "<polyline clip-path=\"url(#clip7300)\" style=\"stroke:#009af9; stroke-width:4; stroke-opacity:1; fill:none\" points=\"\n",
       "  2001.15,269.984 2145.15,269.984 \n",
       "  \"/>\n",
       "<g clip-path=\"url(#clip7300)\">\n",
       "<text style=\"fill:#000000; fill-opacity:1; font-family:Arial,Helvetica Neue,Helvetica,sans-serif; font-size:48px; text-anchor:start;\" transform=\"rotate(0, 2169.15, 287.484)\" x=\"2169.15\" y=\"287.484\">K</text>\n",
       "</g>\n",
       "<polyline clip-path=\"url(#clip7300)\" style=\"stroke:#e26f46; stroke-width:4; stroke-opacity:1; fill:none\" points=\"\n",
       "  2001.15,330.464 2145.15,330.464 \n",
       "  \"/>\n",
       "<g clip-path=\"url(#clip7300)\">\n",
       "<text style=\"fill:#000000; fill-opacity:1; font-family:Arial,Helvetica Neue,Helvetica,sans-serif; font-size:48px; text-anchor:start;\" transform=\"rotate(0, 2169.15, 347.964)\" x=\"2169.15\" y=\"347.964\">X</text>\n",
       "</g>\n",
       "<polyline clip-path=\"url(#clip7300)\" style=\"stroke:#3da44d; stroke-width:4; stroke-opacity:1; fill:none\" points=\"\n",
       "  2001.15,390.944 2145.15,390.944 \n",
       "  \"/>\n",
       "<g clip-path=\"url(#clip7300)\">\n",
       "<text style=\"fill:#000000; fill-opacity:1; font-family:Arial,Helvetica Neue,Helvetica,sans-serif; font-size:48px; text-anchor:start;\" transform=\"rotate(0, 2169.15, 408.444)\" x=\"2169.15\" y=\"408.444\">Y</text>\n",
       "</g>\n",
       "<polyline clip-path=\"url(#clip7300)\" style=\"stroke:#c271d2; stroke-width:4; stroke-opacity:1; fill:none\" points=\"\n",
       "  2001.15,451.424 2145.15,451.424 \n",
       "  \"/>\n",
       "<g clip-path=\"url(#clip7300)\">\n",
       "<text style=\"fill:#000000; fill-opacity:1; font-family:Arial,Helvetica Neue,Helvetica,sans-serif; font-size:48px; text-anchor:start;\" transform=\"rotate(0, 2169.15, 468.924)\" x=\"2169.15\" y=\"468.924\">L</text>\n",
       "</g>\n",
       "</svg>\n"
      ]
     },
     "execution_count": 12,
     "metadata": {},
     "output_type": "execute_result"
    }
   ],
   "source": [
    "plot([X[1,:],Y[2,:],Y[1,:],Y[3,:]],title = \"Endogenous Variables\",labels = [\"K\",\"X\",\"Y\",\"L\"])"
   ]
  },
  {
   "cell_type": "markdown",
   "metadata": {},
   "source": [
    "The code above is summarized in a function State_Space which returns the matrices A,B,C"
   ]
  },
  {
   "cell_type": "code",
   "execution_count": 13,
   "metadata": {},
   "outputs": [
    {
     "data": {
      "text/plain": [
       "State_Space (generic function with 1 method)"
      ]
     },
     "execution_count": 13,
     "metadata": {},
     "output_type": "execute_result"
    }
   ],
   "source": [
    "include(\"State_Space.jl\")"
   ]
  },
  {
   "cell_type": "markdown",
   "metadata": {},
   "source": [
    "## Question 5\n"
   ]
  },
  {
   "cell_type": "markdown",
   "metadata": {},
   "source": [
    "As instructed in class, we will postpone the estimation. We assume that the model above is indeed true data. Now, we need to shut all shocks.  First, we turn on one shock and shut off the others: "
   ]
  },
  {
   "cell_type": "code",
   "execution_count": 14,
   "metadata": {},
   "outputs": [
    {
     "ename": "UndefVarError",
     "evalue": "UndefVarError: C not defined",
     "output_type": "error",
     "traceback": [
      "UndefVarError: C not defined",
      "",
      "Stacktrace:",
      " [1] top-level scope at ./In[14]:11"
     ]
    }
   ],
   "source": [
    "\n",
    "#Only efficiency shocks\n",
    "Xz= ones(5,T).* [0,0,0,0,0]\n",
    "Yz = ones(4,T).*[0,0,0,0]\n",
    "Sz = vcat(S[1:2,:], zeros(3,T))\n",
    "\n",
    "for t=1:T\n",
    "    if t>1\n",
    "    Xz[:,t] = A*Xz[:,t-1]+ B*Sz[:,t]\n",
    "    end\n",
    "    Yz[:,t] = C*Xz[:,t]\n",
    "end\n",
    "\n",
    "\n",
    "\n",
    "#Only labor shocks\n",
    "Xh= ones(5,T).* [0,0,0,0,0]\n",
    "Yh = ones(4,T).*[0,0,0,0]\n",
    "Sh = [zeros(2,T); S[3,:]' ; zeros(2,T)]\n",
    "\n",
    "\n",
    "for t=1:T\n",
    "    if t>1\n",
    "    Xh[:,t] = A*Xh[:,t-1]+ B*Sh[:,t]\n",
    "    end\n",
    "    Yh[:,t] = C*Xh[:,t]\n",
    "end\n",
    "\n",
    "\n",
    "#Only investment shocks\n",
    "Xx= ones(5,T).* [0,0,0,0,0]\n",
    "Yx = ones(4,T).*[0,0,0,0]\n",
    "Sx = [zeros(3,T); S[4,:]' ; zeros(1,T)]\n",
    "\n",
    "\n",
    "for t=1:T\n",
    "    if t>1\n",
    "    Xx[:,t] = A*Xx[:,t-1]+ B*Sx[:,t]\n",
    "    end\n",
    "    Yx[:,t] = C*Xx[:,t]\n",
    "end\n",
    "\n",
    "\n",
    "#Only Government shocks\n",
    "Xg= ones(5,T).* [0,0,0,0,0]\n",
    "Yg = ones(4,T).*[0,0,0,0]\n",
    "Sg = [zeros(4,T); S[5,:]']\n",
    "\n",
    "\n",
    "for t=1:T\n",
    "    if t>1\n",
    "    Xg[:,t] = A*Xg[:,t-1]+ B*Sg[:,t]\n",
    "    end\n",
    "    Yg[:,t] = C*Xg[:,t]\n",
    "end\n",
    "plot(plot([Yz[1,:],Y[1,:]],title = \"Only efficiency wedge\",labels = [\"Yz\",\"Y\"]),\n",
    "    plot([Yh[1,:],Y[1,:]],title = \"Only labor wedge\",labels = [\"Yh\",\"Y\"]),\n",
    "    plot([Yx[1,:],Y[1,:]],title = \"Only investment wedge\",labels = [\"Yx\",\"Y\"]),\n",
    "plot([Yg[1,:],Y[1,:]],title = \"Only government wedge\",labels = [\"Yg\",\"Y\"]))\n",
    "\n"
   ]
  },
  {
   "cell_type": "code",
   "execution_count": 15,
   "metadata": {},
   "outputs": [
    {
     "ename": "UndefVarError",
     "evalue": "UndefVarError: C not defined",
     "output_type": "error",
     "traceback": [
      "UndefVarError: C not defined",
      "",
      "Stacktrace:",
      " [1] top-level scope at ./In[15]:11"
     ]
    }
   ],
   "source": [
    "#No efficiency shocks\n",
    "XZ= ones(5,T).* [0,0,0,0,0]\n",
    "YZ = ones(4,T).*[0,0,0,0]\n",
    "SZ = [zeros(2,T); S[3:5,:]]\n",
    "\n",
    "\n",
    "for t=1:T\n",
    "    if t>1\n",
    "    XZ[:,t] = A*XZ[:,t-1]+ B*SZ[:,t]\n",
    "    end\n",
    "    YZ[:,t] = C*XZ[:,t]\n",
    "end\n",
    "plot([YZ[1,:],Y[1,:]],title = \"No efficiency wedge\",labels = [\"YZ\",\"Y\"])\n",
    "\n",
    "#No labor shocks\n",
    "XH= ones(5,T).* [0,0,0,0,0]\n",
    "YH = ones(4,T).*[0,0,0,0]\n",
    "SH = [ S[1:2,:] ; zeros(1,T); S[4:5,:]]\n",
    "\n",
    "\n",
    "for t=1:T\n",
    "    if t>1\n",
    "    XH[:,t] = A*XH[:,t-1]+ B*SH[:,t]\n",
    "    end\n",
    "    YH[:,t] = C*XH[:,t]\n",
    "end\n",
    "plot([YH[1,:],Y[1,:]],title = \"No labor wedge\",labels = [\"YH\",\"Y\"])\n",
    "\n",
    "#No investment shocks\n",
    "XX= ones(5,T).* [0,0,0,0,0]\n",
    "YX = ones(4,T).*[0,0,0,0]\n",
    "SX = [ S[1:3,:] ; zeros(1,T); S[5,:]']\n",
    "\n",
    "\n",
    "for t=1:T\n",
    "    if t>1\n",
    "    XX[:,t] = A*XX[:,t-1]+ B*SX[:,t]\n",
    "    end\n",
    "    YX[:,t] = C*XX[:,t]\n",
    "end\n",
    "plot([YX[1,:],Y[1,:]],title = \"No investment wedge\",labels = [\"YX\",\"Y\"])\n",
    "\n",
    "#No Government shocks\n",
    "XG= ones(5,T).* [0,0,0,0,0]\n",
    "YG = ones(4,T).*[0,0,0,0]\n",
    "SG = [S[1:4,:];zeros(1,T)]\n",
    "\n",
    "\n",
    "for t=1:T\n",
    "    if t>1\n",
    "    XG[:,t] = A*XG[:,t-1]+ B*SG[:,t]\n",
    "    end\n",
    "    YG[:,t] = C*XG[:,t]\n",
    "end\n",
    "plot([YG[1,:],Y[1,:]],title = \"No government wedge\",labels = [\"YG\",\"Y\"])\n",
    "\n",
    "plot(plot([YZ[1,:],Y[1,:]],title = \"No efficiency wedge\",labels = [\"YZ\",\"Y\"]),\n",
    "    plot([YH[1,:],Y[1,:]],title = \"No labor wedge\",labels = [\"YH\",\"Y\"]),\n",
    "    plot([YX[1,:],Y[1,:]],title = \"No investment wedge\",labels = [\"YX\",\"Y\"]),\n",
    "plot([YG[1,:],Y[1,:]],title = \"No government wedge\",labels = [\"YG\",\"Y\"]))"
   ]
  },
  {
   "cell_type": "markdown",
   "metadata": {},
   "source": [
    "For our parametrization, Efficiency and labor wedges are the most important to explain the simulated path.  This is in line with our parameters. "
   ]
  }
 ],
 "metadata": {
  "@webio": {
   "lastCommId": null,
   "lastKernelId": null
  },
  "kernelspec": {
   "display_name": "Julia 1.0.1",
   "language": "julia",
   "name": "julia-1.0"
  },
  "language_info": {
   "file_extension": ".jl",
   "mimetype": "application/julia",
   "name": "julia",
   "version": "1.0.1"
  }
 },
 "nbformat": 4,
 "nbformat_minor": 2
}
