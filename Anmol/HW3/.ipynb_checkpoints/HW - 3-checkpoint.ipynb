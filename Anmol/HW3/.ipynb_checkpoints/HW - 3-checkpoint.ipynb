{
 "cells": [
  {
   "cell_type": "markdown",
   "metadata": {},
   "source": [
    "## HW 3 - João Lazzaro"
   ]
  },
  {
   "cell_type": "markdown",
   "metadata": {},
   "source": [
    "In this code, I compute a version of the HW 3 without the government. It is a simple Ayiagari with endogenous labor choice.\n",
    "First, Define some Parameters:"
   ]
  },
  {
   "cell_type": "code",
   "execution_count": 1,
   "metadata": {},
   "outputs": [
    {
     "data": {
      "text/plain": [
       "500"
      ]
     },
     "execution_count": 1,
     "metadata": {},
     "output_type": "execute_result"
    }
   ],
   "source": [
    "using  LinearAlgebra, Plots\n",
    "include(\"functions.jl\") #In the file functions, I defined the functions for VFI and finding the distribution\n",
    "\n",
    "#Defining Parameters:\n",
    "β = 0.98 #Discount rate\n",
    "μ = 1.5  #Elasticity of intertemporal substitution\n",
    "η = 0.3 #Utility parameter\n",
    "τy = 0.4 #Income tax\n",
    "ρ = 0.6 #autocorrelation\n",
    "σ = 0.3 #Variance\n",
    "δ = 0.075 #Depreciation rate\n",
    "θ = 0.3 #Capital Share\n",
    "T=0.1 #Transfers, to be added\n",
    "Z=16.33#productivity level\n",
    "\n",
    "b = -0.0   #Debt limit\n",
    "amax=.3  #capital limit\n",
    "\n",
    "nE = 5 #Number of states for e\n",
    "nA = 500 #states for assets"
   ]
  },
  {
   "cell_type": "markdown",
   "metadata": {},
   "source": [
    "Initial Guess for interest and wage:"
   ]
  },
  {
   "cell_type": "code",
   "execution_count": 2,
   "metadata": {},
   "outputs": [
    {
     "data": {
      "text/plain": [
       "62.9211442093885"
      ]
     },
     "execution_count": 2,
     "metadata": {},
     "output_type": "execute_result"
    }
   ],
   "source": [
    "r = (1/β - 1) * rand() #Guess is lower than 1/β -1 \n",
    "Kguess = ((r+δ)/(Z*θ))^(1/(θ-1))#K for the nitial guess of r\n",
    "w=  (1-θ)*Z*Kguess^θ  #Initial wage given r0"
   ]
  },
  {
   "cell_type": "markdown",
   "metadata": {},
   "source": [
    "Get the grid for E and assets. Note that in this code, I only use grids. No interpolation, therefore it is inefficient and slow, but I fully understand what is going on. I'll make it better once I understand the full algorithm."
   ]
  },
  {
   "cell_type": "code",
   "execution_count": 3,
   "metadata": {},
   "outputs": [
    {
     "data": {
      "text/plain": [
       "500-element Array{Float64,1}:\n",
       " 0.0                  \n",
       " 0.0004016064257028112\n",
       " 0.0008032128514056224\n",
       " 0.0012048192771084336\n",
       " 0.0016064257028112448\n",
       " 0.002008032128514056 \n",
       " 0.0024096385542168672\n",
       " 0.0028112449799196785\n",
       " 0.0032128514056224897\n",
       " 0.003614457831325301 \n",
       " 0.004016064257028112 \n",
       " 0.004417670682730923 \n",
       " 0.0048192771084337345\n",
       " ⋮                    \n",
       " 0.29116465863453816  \n",
       " 0.2919678714859438   \n",
       " 0.2927710843373494   \n",
       " 0.293574297188755    \n",
       " 0.2943775100401606   \n",
       " 0.29518072289156627  \n",
       " 0.2959839357429719   \n",
       " 0.2967871485943775   \n",
       " 0.2975903614457831   \n",
       " 0.29839357429718877  \n",
       " 0.2991967871485944   \n",
       " 0.3                  "
      ]
     },
     "execution_count": 3,
     "metadata": {},
     "output_type": "execute_result"
    }
   ],
   "source": [
    "#Defining grids\n",
    "\n",
    "pdfE,E = Tauchen(ρ,σ,nE)    #E comes from Tauchen method\n",
    "A = range(b,stop = amax/3, length = Int64(nA/2)) #Half points will be in the first third of the grid\n",
    "A  =vcat(A, range(A[end],stop = amax, length = nA-Int64(nA/2)))  #Assets\n"
   ]
  },
  {
   "cell_type": "markdown",
   "metadata": {},
   "source": [
    "Get the policy functions and distribution, see the file functions.jl where I defined the ayiagari function:"
   ]
  },
  {
   "cell_type": "code",
   "execution_count": null,
   "metadata": {},
   "outputs": [
    {
     "name": "stdout",
     "output_type": "stream",
     "text": [
      "Iteration: 1, r is: 0.018491751321919152, w is: 37.49459605527139\n",
      "Iteration: 2, r is: 0.01944995729361265, w is: 24.906761072914108\n",
      "Iteration: 3, r is: 0.0199290602794594, w is: 18.703458663054725\n"
     ]
    }
   ],
   "source": [
    "@time λ,r,w, policy_a, policy_c, policy_l,K,N = ayiagary(A,E,r,w,τy,T,β,η,μ,Z)"
   ]
  },
  {
   "cell_type": "markdown",
   "metadata": {},
   "source": [
    "The consumption policy function is plotted below:"
   ]
  },
  {
   "cell_type": "code",
   "execution_count": null,
   "metadata": {},
   "outputs": [],
   "source": [
    "plot(A,[policy_c[:,2] policy_c[:,4] policy_c[:,5]], labels = [\"Low e\" \"Medium e\" \"High e\"])"
   ]
  },
  {
   "cell_type": "markdown",
   "metadata": {},
   "source": [
    "The assets policy function is plotted below:"
   ]
  },
  {
   "cell_type": "code",
   "execution_count": null,
   "metadata": {},
   "outputs": [],
   "source": [
    "plot(A,[A,A[policy_a[:,2]],A[policy_a[:,4]],A[policy_a[:,5]]], labels = [\"45 degrees\" \"Low e\" \"Medium e\" \"High e\"])"
   ]
  },
  {
   "cell_type": "markdown",
   "metadata": {},
   "source": [
    "The assets distribution is below:"
   ]
  },
  {
   "cell_type": "code",
   "execution_count": null,
   "metadata": {},
   "outputs": [],
   "source": [
    "#reshaping λ so it gets in a format easier to plot\n",
    "λ1 = ones(nA,nE)\n",
    "i=0\n",
    "for a=1:nA\n",
    "    global i\n",
    "    for e=1:nE\n",
    "        i+=1\n",
    "        λ1[a,e] = λ[i]\n",
    "    end\n",
    "end\n",
    "\n",
    "plot(A, sum(λ1,dims=2) , label = \"\\\\lambda\")"
   ]
  }
 ],
 "metadata": {
  "kernelspec": {
   "display_name": "Julia 1.0.0",
   "language": "julia",
   "name": "julia-1.0"
  },
  "language_info": {
   "file_extension": ".jl",
   "mimetype": "application/julia",
   "name": "julia",
   "version": "1.0.0"
  }
 },
 "nbformat": 4,
 "nbformat_minor": 2
}
