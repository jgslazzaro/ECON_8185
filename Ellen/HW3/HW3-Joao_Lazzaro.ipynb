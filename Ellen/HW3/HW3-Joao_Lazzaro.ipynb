{
 "cells": [
  {
   "cell_type": "markdown",
   "metadata": {},
   "source": [
    "# ECON 8185 - HW 3"
   ]
  },
  {
   "cell_type": "markdown",
   "metadata": {},
   "source": [
    "João Lazzaro - santo279@umn.edu"
   ]
  },
  {
   "cell_type": "markdown",
   "metadata": {},
   "source": [
    "## Question 1"
   ]
  },
  {
   "cell_type": "markdown",
   "metadata": {},
   "source": [
    "In this question we were asked to write a code to compute the MLE estimator for the parameters of HW2 model: "
   ]
  },
  {
   "cell_type": "markdown",
   "metadata": {},
   "source": [
    "$$\\max_{c_t,x_t,l_t} E \\sum_{t=0}^\\infty \\beta^t \\frac{\\left(c_tl_t^\\psi\\right)^{1-\\sigma}}{1-\\sigma} N_t$$\n",
    "S.T. \n",
    "$$ c_t +(1+\\tau_{xt})x_t =r_t k_t +(1-\\tau_{ht})w_t h_t + T_t$$\n",
    "$$ N_{t+1} k_{t+1} = [(1-\\delta)k_t+x_t]N_t$$\n",
    "$$h_t+l_t =1$$\n",
    "$$S_t = P S_{t-1}+Q\\epsilon_t,\\;\\;S_t = [\\ln z_t,\\tau_{ht},\\tau_{xt}, \\ln g_t]$$\n",
    "$$ c_t,x_t\\geq0$$\n",
    "\n",
    "Where $N_t = (1+\\gamma_n)^t$ and firm tecnhology is $Y_t = K_t^\\theta (Z_t L_t)^{1-\\theta}$. $\\gamma_z$ is the rate of labor-augmenting technical progress. The stochastic shocks hitting this economy affect technology, tax rates, and government spending and the stochastic processes are modeled as a VAR(1) process. The resource constraint is $Y_t=N_t(c_t +x_t +g_t)$. We must work with detrended variables, we should use \"hat\" variables, but typing this is time consuming so from now on all variables should be understood as detrended unless I say something about them."
   ]
  },
  {
   "cell_type": "markdown",
   "metadata": {},
   "source": [
    "Let's first define some parameters for this model:"
   ]
  },
  {
   "cell_type": "code",
   "execution_count": 1,
   "metadata": {},
   "outputs": [
    {
     "data": {
      "text/plain": [
       "0.0"
      ]
     },
     "execution_count": 1,
     "metadata": {},
     "output_type": "execute_result"
    }
   ],
   "source": [
    "using NLsolve, ForwardDiff, LinearAlgebra, Random, JLD2,FileIO\n",
    "using Optim, Statistics, NLSolversBase,LaTeXStrings, Plots\n",
    "\n",
    "#Parameters:\n",
    "δ = 0.0464   #depreciation rate\n",
    "θ = 1/3  #capital share of output\n",
    "β = 0.9  #Discouting\n",
    "σ = 2  #Elasticity of Intertemporal Substitution\n",
    "ψ = 1    #Labor parameter\n",
    "γn= 0.00    #Population growth rate\n",
    "γz= 0.00   #Productivitu growth rate"
   ]
  },
  {
   "cell_type": "markdown",
   "metadata": {},
   "source": [
    "We'll assume, for now, that matrices P and Q are the following:"
   ]
  },
  {
   "cell_type": "code",
   "execution_count": 2,
   "metadata": {
    "scrolled": true
   },
   "outputs": [
    {
     "data": {
      "text/plain": [
       "([0.95 0.0 0.0 0.0; 0.0 0.75 0.0 0.0; 0.0 0.0 0.5 0.0; 0.0 0.0 0.0 0.25], [0.05 0.0 0.0 0.0; 0.0 0.03 0.0 0.0; 0.0 0.0 0.02 0.0; 0.0 0.0 0.0 0.04])"
      ]
     },
     "execution_count": 2,
     "metadata": {},
     "output_type": "execute_result"
    }
   ],
   "source": [
    "#Parameters to be estimated and here used in our simulated example\n",
    "gss = log(0.01) #average g (in logs)\n",
    "τxss = 0.05 #average τx\n",
    "τhss = 0.02 #average τh\n",
    "zss = log(1) #average z (z is in logs)\n",
    "\n",
    "#Parameters to be estimated\n",
    "ρg = 0.25\n",
    "ρx = 0.5\n",
    "ρh = 0.75\n",
    "ρz = 0.95\n",
    "ρzg= 0.0\n",
    "ρzx = 0.0\n",
    "ρzh = 0.0\n",
    "ρhz = 0.0\n",
    "ρhx = 0.0\n",
    "ρhg = 0.0\n",
    "ρxz = 0.0\n",
    "ρxh = 0.0\n",
    "ρxg = 0.0\n",
    "ρgz = 0.0\n",
    "ρgx = 0.\n",
    "ρgh = 0.\n",
    "\n",
    "σg= 0.04\n",
    "σx = 0.02\n",
    "σz = 0.05\n",
    "σh = 0.03\n",
    "σzg= 0.0\n",
    "σzx = 0.00\n",
    "σzh = 0.00\n",
    "σhx = 0.00\n",
    "σhg = 0.00\n",
    "σxg = 0.00\n",
    "\n",
    "#In matrix form\n",
    "P = [ρz ρzh ρzx ρzg;\n",
    "ρhz ρh ρhx ρhg ;\n",
    "ρxz ρxh ρx ρxg ;\n",
    "ρgz ρgh ρgx ρg]\n",
    "Q = [σz σzh σzx σzg;\n",
    "σzh σh σhx σhg ;\n",
    "σzx σhx σx σxg ;\n",
    "σzg σhg σxg σg]\n",
    "P,Q"
   ]
  },
  {
   "cell_type": "markdown",
   "metadata": {},
   "source": [
    "In HW2, I describe how to approximate and write the model in the state space form:\n",
    "$$ X_{t+1} = AX_t + B \\varepsilon_{t+1}$$\n",
    "$$Y_t = CX_t+\\omega_t$$\n",
    "Where, $X_t = [k_t,S_t],S_t=[z_t,\\tau_{ht},\\tau_{xt},g_t]$, $Y_t = [y_t,x_t,h_t]$ and as before:\n",
    "$$S_{t+1} = P S_t +Q \\varepsilon_{t+1}$$"
   ]
  },
  {
   "cell_type": "markdown",
   "metadata": {},
   "source": [
    "The function below, defined in HW2, finds Matrices $A,B$ and $C$, given pthe parameters:"
   ]
  },
  {
   "cell_type": "code",
   "execution_count": 3,
   "metadata": {},
   "outputs": [
    {
     "data": {
      "text/plain": [
       "([0.837775 0.104932 … -0.00873318 -0.00503954; 0.0 0.95 … 0.0 0.0; … ; 0.0 0.0 … 0.5 0.0; 0.0 0.0 … 0.0 0.25], [0.0 0.0 … 0.0 0.0; 0.0 0.05 … 0.0 0.0; … ; 0.0 0.0 … 0.02 0.0; 0.0 0.0 … 0.0 0.04], [0.462735 0.723595 … -0.00725865 0.00267248; -2.49623 2.2615 … -0.188215 -0.108611; 0.1941 0.0853944 … -0.0108879 0.00400872; 0.0 0.0 … 0.0 1.0])"
      ]
     },
     "execution_count": 3,
     "metadata": {},
     "output_type": "execute_result"
    }
   ],
   "source": [
    "include(\"State_Space.jl\")\n",
    "\n",
    "params_calibrated = [δ,θ,β,σ,ψ,γn,γz,]\n",
    "steadystates = [gss,τxss,τhss,zss]\n",
    "\n",
    "A,B,C = State_Space(params_calibrated,steadystates, P,Q)"
   ]
  },
  {
   "cell_type": "markdown",
   "metadata": {},
   "source": [
    "Given the model we simulate some data:"
   ]
  },
  {
   "cell_type": "code",
   "execution_count": 4,
   "metadata": {},
   "outputs": [
    {
     "data": {
      "image/svg+xml": [
       "<?xml version=\"1.0\" encoding=\"utf-8\"?>\n",
       "<svg xmlns=\"http://www.w3.org/2000/svg\" xmlns:xlink=\"http://www.w3.org/1999/xlink\" width=\"600\" height=\"400\" viewBox=\"0 0 2400 1600\">\n",
       "<defs>\n",
       "  <clipPath id=\"clip2400\">\n",
       "    <rect x=\"0\" y=\"0\" width=\"2000\" height=\"2000\"/>\n",
       "  </clipPath>\n",
       "</defs>\n",
       "<defs>\n",
       "  <clipPath id=\"clip2401\">\n",
       "    <rect x=\"0\" y=\"0\" width=\"2400\" height=\"1600\"/>\n",
       "  </clipPath>\n",
       "</defs>\n",
       "<polygon clip-path=\"url(#clip2401)\" points=\"\n",
       "0,1600 2400,1600 2400,0 0,0 \n",
       "  \" fill=\"#ffffff\" fill-rule=\"evenodd\" fill-opacity=\"1\"/>\n",
       "<defs>\n",
       "  <clipPath id=\"clip2402\">\n",
       "    <rect x=\"480\" y=\"0\" width=\"1681\" height=\"1600\"/>\n",
       "  </clipPath>\n",
       "</defs>\n",
       "<polygon clip-path=\"url(#clip2401)\" points=\"\n",
       "189.504,1503.47 2321.26,1503.47 2321.26,125.984 189.504,125.984 \n",
       "  \" fill=\"#ffffff\" fill-rule=\"evenodd\" fill-opacity=\"1\"/>\n",
       "<defs>\n",
       "  <clipPath id=\"clip2403\">\n",
       "    <rect x=\"189\" y=\"125\" width=\"2133\" height=\"1378\"/>\n",
       "  </clipPath>\n",
       "</defs>\n",
       "<polyline clip-path=\"url(#clip2403)\" style=\"stroke:#000000; stroke-width:2; stroke-opacity:0.1; fill:none\" points=\"\n",
       "  229.523,1503.47 229.523,125.984 \n",
       "  \"/>\n",
       "<polyline clip-path=\"url(#clip2403)\" style=\"stroke:#000000; stroke-width:2; stroke-opacity:0.1; fill:none\" points=\"\n",
       "  737.374,1503.47 737.374,125.984 \n",
       "  \"/>\n",
       "<polyline clip-path=\"url(#clip2403)\" style=\"stroke:#000000; stroke-width:2; stroke-opacity:0.1; fill:none\" points=\"\n",
       "  1245.22,1503.47 1245.22,125.984 \n",
       "  \"/>\n",
       "<polyline clip-path=\"url(#clip2403)\" style=\"stroke:#000000; stroke-width:2; stroke-opacity:0.1; fill:none\" points=\"\n",
       "  1753.08,1503.47 1753.08,125.984 \n",
       "  \"/>\n",
       "<polyline clip-path=\"url(#clip2403)\" style=\"stroke:#000000; stroke-width:2; stroke-opacity:0.1; fill:none\" points=\"\n",
       "  2260.93,1503.47 2260.93,125.984 \n",
       "  \"/>\n",
       "<polyline clip-path=\"url(#clip2403)\" style=\"stroke:#000000; stroke-width:2; stroke-opacity:0.1; fill:none\" points=\"\n",
       "  189.504,1317.59 2321.26,1317.59 \n",
       "  \"/>\n",
       "<polyline clip-path=\"url(#clip2403)\" style=\"stroke:#000000; stroke-width:2; stroke-opacity:0.1; fill:none\" points=\"\n",
       "  189.504,1077.51 2321.26,1077.51 \n",
       "  \"/>\n",
       "<polyline clip-path=\"url(#clip2403)\" style=\"stroke:#000000; stroke-width:2; stroke-opacity:0.1; fill:none\" points=\"\n",
       "  189.504,837.419 2321.26,837.419 \n",
       "  \"/>\n",
       "<polyline clip-path=\"url(#clip2403)\" style=\"stroke:#000000; stroke-width:2; stroke-opacity:0.1; fill:none\" points=\"\n",
       "  189.504,597.333 2321.26,597.333 \n",
       "  \"/>\n",
       "<polyline clip-path=\"url(#clip2403)\" style=\"stroke:#000000; stroke-width:2; stroke-opacity:0.1; fill:none\" points=\"\n",
       "  189.504,357.247 2321.26,357.247 \n",
       "  \"/>\n",
       "<polyline clip-path=\"url(#clip2401)\" style=\"stroke:#000000; stroke-width:4; stroke-opacity:1; fill:none\" points=\"\n",
       "  189.504,1503.47 2321.26,1503.47 \n",
       "  \"/>\n",
       "<polyline clip-path=\"url(#clip2401)\" style=\"stroke:#000000; stroke-width:4; stroke-opacity:1; fill:none\" points=\"\n",
       "  189.504,1503.47 189.504,125.984 \n",
       "  \"/>\n",
       "<polyline clip-path=\"url(#clip2401)\" style=\"stroke:#000000; stroke-width:4; stroke-opacity:1; fill:none\" points=\"\n",
       "  229.523,1503.47 229.523,1482.81 \n",
       "  \"/>\n",
       "<polyline clip-path=\"url(#clip2401)\" style=\"stroke:#000000; stroke-width:4; stroke-opacity:1; fill:none\" points=\"\n",
       "  737.374,1503.47 737.374,1482.81 \n",
       "  \"/>\n",
       "<polyline clip-path=\"url(#clip2401)\" style=\"stroke:#000000; stroke-width:4; stroke-opacity:1; fill:none\" points=\"\n",
       "  1245.22,1503.47 1245.22,1482.81 \n",
       "  \"/>\n",
       "<polyline clip-path=\"url(#clip2401)\" style=\"stroke:#000000; stroke-width:4; stroke-opacity:1; fill:none\" points=\"\n",
       "  1753.08,1503.47 1753.08,1482.81 \n",
       "  \"/>\n",
       "<polyline clip-path=\"url(#clip2401)\" style=\"stroke:#000000; stroke-width:4; stroke-opacity:1; fill:none\" points=\"\n",
       "  2260.93,1503.47 2260.93,1482.81 \n",
       "  \"/>\n",
       "<polyline clip-path=\"url(#clip2401)\" style=\"stroke:#000000; stroke-width:4; stroke-opacity:1; fill:none\" points=\"\n",
       "  189.504,1317.59 221.48,1317.59 \n",
       "  \"/>\n",
       "<polyline clip-path=\"url(#clip2401)\" style=\"stroke:#000000; stroke-width:4; stroke-opacity:1; fill:none\" points=\"\n",
       "  189.504,1077.51 221.48,1077.51 \n",
       "  \"/>\n",
       "<polyline clip-path=\"url(#clip2401)\" style=\"stroke:#000000; stroke-width:4; stroke-opacity:1; fill:none\" points=\"\n",
       "  189.504,837.419 221.48,837.419 \n",
       "  \"/>\n",
       "<polyline clip-path=\"url(#clip2401)\" style=\"stroke:#000000; stroke-width:4; stroke-opacity:1; fill:none\" points=\"\n",
       "  189.504,597.333 221.48,597.333 \n",
       "  \"/>\n",
       "<polyline clip-path=\"url(#clip2401)\" style=\"stroke:#000000; stroke-width:4; stroke-opacity:1; fill:none\" points=\"\n",
       "  189.504,357.247 221.48,357.247 \n",
       "  \"/>\n",
       "<g clip-path=\"url(#clip2401)\">\n",
       "<text style=\"fill:#000000; fill-opacity:1; font-family:Arial,Helvetica Neue,Helvetica,sans-serif; font-size:48px; text-anchor:middle;\" transform=\"rotate(0, 229.523, 1557.47)\" x=\"229.523\" y=\"1557.47\">0</text>\n",
       "</g>\n",
       "<g clip-path=\"url(#clip2401)\">\n",
       "<text style=\"fill:#000000; fill-opacity:1; font-family:Arial,Helvetica Neue,Helvetica,sans-serif; font-size:48px; text-anchor:middle;\" transform=\"rotate(0, 737.374, 1557.47)\" x=\"737.374\" y=\"1557.47\">25</text>\n",
       "</g>\n",
       "<g clip-path=\"url(#clip2401)\">\n",
       "<text style=\"fill:#000000; fill-opacity:1; font-family:Arial,Helvetica Neue,Helvetica,sans-serif; font-size:48px; text-anchor:middle;\" transform=\"rotate(0, 1245.22, 1557.47)\" x=\"1245.22\" y=\"1557.47\">50</text>\n",
       "</g>\n",
       "<g clip-path=\"url(#clip2401)\">\n",
       "<text style=\"fill:#000000; fill-opacity:1; font-family:Arial,Helvetica Neue,Helvetica,sans-serif; font-size:48px; text-anchor:middle;\" transform=\"rotate(0, 1753.08, 1557.47)\" x=\"1753.08\" y=\"1557.47\">75</text>\n",
       "</g>\n",
       "<g clip-path=\"url(#clip2401)\">\n",
       "<text style=\"fill:#000000; fill-opacity:1; font-family:Arial,Helvetica Neue,Helvetica,sans-serif; font-size:48px; text-anchor:middle;\" transform=\"rotate(0, 2260.93, 1557.47)\" x=\"2260.93\" y=\"1557.47\">100</text>\n",
       "</g>\n",
       "<g clip-path=\"url(#clip2401)\">\n",
       "<text style=\"fill:#000000; fill-opacity:1; font-family:Arial,Helvetica Neue,Helvetica,sans-serif; font-size:48px; text-anchor:end;\" transform=\"rotate(0, 165.504, 1335.09)\" x=\"165.504\" y=\"1335.09\">-0.1</text>\n",
       "</g>\n",
       "<g clip-path=\"url(#clip2401)\">\n",
       "<text style=\"fill:#000000; fill-opacity:1; font-family:Arial,Helvetica Neue,Helvetica,sans-serif; font-size:48px; text-anchor:end;\" transform=\"rotate(0, 165.504, 1095.01)\" x=\"165.504\" y=\"1095.01\">0.0</text>\n",
       "</g>\n",
       "<g clip-path=\"url(#clip2401)\">\n",
       "<text style=\"fill:#000000; fill-opacity:1; font-family:Arial,Helvetica Neue,Helvetica,sans-serif; font-size:48px; text-anchor:end;\" transform=\"rotate(0, 165.504, 854.919)\" x=\"165.504\" y=\"854.919\">0.1</text>\n",
       "</g>\n",
       "<g clip-path=\"url(#clip2401)\">\n",
       "<text style=\"fill:#000000; fill-opacity:1; font-family:Arial,Helvetica Neue,Helvetica,sans-serif; font-size:48px; text-anchor:end;\" transform=\"rotate(0, 165.504, 614.833)\" x=\"165.504\" y=\"614.833\">0.2</text>\n",
       "</g>\n",
       "<g clip-path=\"url(#clip2401)\">\n",
       "<text style=\"fill:#000000; fill-opacity:1; font-family:Arial,Helvetica Neue,Helvetica,sans-serif; font-size:48px; text-anchor:end;\" transform=\"rotate(0, 165.504, 374.747)\" x=\"165.504\" y=\"374.747\">0.3</text>\n",
       "</g>\n",
       "<g clip-path=\"url(#clip2401)\">\n",
       "<text style=\"fill:#000000; fill-opacity:1; font-family:Arial,Helvetica Neue,Helvetica,sans-serif; font-size:84px; text-anchor:middle;\" transform=\"rotate(0, 1255.38, 73.2)\" x=\"1255.38\" y=\"73.2\">Wedges</text>\n",
       "</g>\n",
       "<polyline clip-path=\"url(#clip2403)\" style=\"stroke:#009af9; stroke-width:4; stroke-opacity:1; fill:none\" points=\"\n",
       "  249.837,1077.51 270.151,1274.66 290.465,1185.37 310.779,973.241 331.093,1050.82 351.407,1223.95 371.721,1168.12 392.035,975.596 412.349,1147.49 432.663,1140.06 \n",
       "  452.977,1091.13 473.291,1072.72 493.605,1021.02 513.919,749.222 534.233,791.409 554.547,780.501 574.862,636.404 595.176,428.681 615.49,254.383 635.804,225.86 \n",
       "  656.118,378.669 676.432,247.689 696.746,164.97 717.06,227.893 737.374,362.75 757.688,400.087 778.002,564.58 798.316,587.656 818.63,611.495 838.944,555.849 \n",
       "  859.258,506.346 879.572,611.341 899.886,732.467 920.2,717.117 940.514,790.86 960.828,690.285 981.142,977.069 1001.46,1008.04 1021.77,1038.97 1042.08,986.972 \n",
       "  1062.4,1074.65 1082.71,941.637 1103.03,1096.03 1123.34,1117.67 1143.65,949.206 1163.97,1063.93 1184.28,1219.24 1204.6,1260.61 1224.91,1183.31 1245.22,1291.67 \n",
       "  1265.54,1383.47 1285.85,1464.49 1306.17,1357.34 1326.48,1165.38 1346.8,1239.93 1367.11,1160.29 1387.42,1132.93 1407.74,1040.5 1428.05,1090.65 1448.37,1253.15 \n",
       "  1468.68,1302.19 1488.99,1224.76 1509.31,1219.84 1529.62,1287.44 1549.94,1351.95 1570.25,1361.92 1590.56,1372.59 1610.88,1241.43 1631.19,1155.13 1651.51,1082.12 \n",
       "  1671.82,1068.73 1692.13,1133.64 1712.45,1154.9 1732.76,892.734 1753.08,944.658 1773.39,1079.42 1793.7,1175.46 1814.02,960.712 1834.33,826.572 1854.65,842.279 \n",
       "  1874.96,995.496 1895.27,690.606 1915.59,618.298 1935.9,788.537 1956.22,778.662 1976.53,806.928 1996.84,942.838 2017.16,735.624 2037.47,700.525 2057.79,626.188 \n",
       "  2078.1,754.064 2098.41,958.124 2118.73,1019.11 2139.04,962.747 2159.36,1083.83 2179.67,865.58 2199.99,1029.01 2220.3,1000.5 2240.61,723.418 2260.93,562.798 \n",
       "  \n",
       "  \"/>\n",
       "<polyline clip-path=\"url(#clip2403)\" style=\"stroke:#e26f46; stroke-width:4; stroke-opacity:1; fill:none\" points=\"\n",
       "  249.837,1077.51 270.151,1082.58 290.465,1081.53 310.779,964.323 331.093,858.41 351.407,836.788 371.721,790.617 392.035,826.957 412.349,734.935 432.663,770.839 \n",
       "  452.977,731.781 473.291,844.696 493.605,911.135 513.919,1055.32 534.233,981.745 554.547,1028.98 574.862,1140 595.176,1080.25 615.49,1113.18 635.804,1109.57 \n",
       "  656.118,1077.45 676.432,1018.78 696.746,896.514 717.06,828.858 737.374,876.734 757.688,937.898 778.002,809.124 798.316,873.367 818.63,883.449 838.944,1009.83 \n",
       "  859.258,1129.94 879.572,1104.69 899.886,1216.71 920.2,1303.24 940.514,1179.96 960.828,1148.26 981.142,1114.38 1001.46,1058.84 1021.77,1046.07 1042.08,1082.69 \n",
       "  1062.4,1063.08 1082.71,852.179 1103.03,993.225 1123.34,1085.69 1143.65,977.416 1163.97,1060.87 1184.28,1045.9 1204.6,1118.63 1224.91,1083.51 1245.22,1135.75 \n",
       "  1265.54,1158.1 1285.85,1127.73 1306.17,1198.93 1326.48,1059.57 1346.8,1107.63 1367.11,1042.53 1387.42,1006.19 1407.74,1004.56 1428.05,913.164 1448.37,985.904 \n",
       "  1468.68,1016.16 1488.99,1057.06 1509.31,975.266 1529.62,1043.27 1549.94,1181.95 1570.25,1225.14 1590.56,1294.07 1610.88,1174.38 1631.19,1213.37 1651.51,1228.8 \n",
       "  1671.82,1220.59 1692.13,1201.86 1712.45,1223.6 1732.76,1228.58 1753.08,1189.08 1773.39,1141.24 1793.7,1020.49 1814.02,1109.21 1834.33,1154.37 1854.65,1058.85 \n",
       "  1874.96,1010.86 1895.27,1009.47 1915.59,1089.18 1935.9,1019.81 1956.22,1035.14 1976.53,1110.49 1996.84,1116.6 2017.16,1085.27 2037.47,1096.44 2057.79,1200.08 \n",
       "  2078.1,1162.03 2098.41,1149.02 2118.73,1066.74 2139.04,1031.53 2159.36,1107.8 2179.67,1115.74 2199.99,1007.87 2220.3,898.726 2240.61,1061.66 2260.93,1103.31 \n",
       "  \n",
       "  \"/>\n",
       "<polyline clip-path=\"url(#clip2403)\" style=\"stroke:#3da44d; stroke-width:4; stroke-opacity:1; fill:none\" points=\"\n",
       "  249.837,1077.51 270.151,1189.7 290.465,1097.88 310.779,1072.74 331.093,1022.71 351.407,1060.97 371.721,995.767 392.035,1062.28 412.349,1042.25 432.663,1088.46 \n",
       "  452.977,1137.86 473.291,1188.37 493.605,1146.35 513.919,1065.31 534.233,1005.21 554.547,965.98 574.862,998.701 595.176,1139.24 615.49,1054.89 635.804,1118.17 \n",
       "  656.118,1130.51 676.432,1048.62 696.746,1089.69 717.06,1051.48 737.374,1084.8 757.688,1045.78 778.002,1064.16 798.316,1096.76 818.63,1010.88 838.944,1053.83 \n",
       "  859.258,1005.1 879.572,1054.81 899.886,1122.83 920.2,1102.04 940.514,1081.21 960.828,1102.34 981.142,1113.9 1001.46,1113.2 1021.77,1197.59 1042.08,1135.31 \n",
       "  1062.4,1129.65 1082.71,1090.52 1103.03,1160.11 1123.34,1146.38 1143.65,1070.48 1163.97,1074.04 1184.28,1043.79 1204.6,1070.3 1224.91,1111.96 1245.22,1083.63 \n",
       "  1265.54,1069.26 1285.85,1007.69 1306.17,1097.23 1326.48,1063.63 1346.8,1038.61 1367.11,947.612 1387.42,1090.29 1407.74,1063.06 1428.05,1102.6 1448.37,1104.21 \n",
       "  1468.68,1049.95 1488.99,1009.61 1509.31,1052.55 1529.62,1104.01 1549.94,1061.25 1570.25,1041.76 1590.56,1019.47 1610.88,1038.51 1631.19,1043.33 1651.51,1064.26 \n",
       "  1671.82,1137.45 1692.13,985.857 1712.45,987.249 1732.76,1107.33 1753.08,1116.36 1773.39,1108.58 1793.7,1123.52 1814.02,1064.42 1834.33,1103.48 1854.65,1129.99 \n",
       "  1874.96,1096.7 1895.27,1133.76 1915.59,1026.73 1935.9,1045.21 1956.22,1057.17 1976.53,1003.33 1996.84,1052.31 2017.16,1002.12 2037.47,1072.29 2057.79,1090.94 \n",
       "  2078.1,1060.07 2098.41,1120.23 2118.73,1047.64 2139.04,1081.42 2159.36,1106.82 2179.67,1094.41 2199.99,1030.11 2220.3,1039.16 2240.61,1101.24 2260.93,1032.67 \n",
       "  \n",
       "  \"/>\n",
       "<polyline clip-path=\"url(#clip2403)\" style=\"stroke:#c271d2; stroke-width:4; stroke-opacity:1; fill:none\" points=\"\n",
       "  249.837,1077.51 270.151,947.023 290.465,1158.25 310.779,1080.63 331.093,921.287 351.407,1019.02 371.721,1001.42 392.035,1176.84 412.349,1009.1 432.663,1115.39 \n",
       "  452.977,1230.9 473.291,1131.94 493.605,944.227 513.919,1110.08 534.233,1166.41 554.547,966.875 574.862,1059.6 595.176,973.12 615.49,892.515 635.804,908.337 \n",
       "  656.118,1118.39 676.432,1112.14 696.746,1208.66 717.06,1134.59 737.374,1023.82 757.688,1157.07 778.002,1038.22 798.316,1207.48 818.63,1059.71 838.944,987.053 \n",
       "  859.258,1031.75 879.572,1031.86 899.886,1170.04 920.2,1292.98 940.514,1227.75 960.828,1181.46 981.142,1097.26 1001.46,1145.19 1021.77,864.593 1042.08,957.708 \n",
       "  1062.4,918.259 1082.71,1238.31 1103.03,1126.72 1123.34,1167.48 1143.65,949.021 1163.97,1115.06 1184.28,1158.26 1204.6,1089.33 1224.91,1136.77 1245.22,1207.86 \n",
       "  1265.54,1027.9 1285.85,977.363 1306.17,1026.46 1326.48,982.647 1346.8,957.591 1367.11,1082.87 1387.42,1041.52 1407.74,1146.61 1428.05,1131.45 1448.37,1127.02 \n",
       "  1468.68,1108.41 1488.99,1072.13 1509.31,1098.9 1529.62,1121.4 1549.94,1249.43 1570.25,1046.54 1590.56,1006.29 1610.88,1034.95 1631.19,1023.75 1651.51,1228.07 \n",
       "  1671.82,1263.08 1692.13,1261.46 1712.45,1075.73 1732.76,1036.91 1753.08,1115.67 1773.39,1194.6 1793.7,1023.8 1814.02,968.47 1834.33,1089.15 1854.65,970.393 \n",
       "  1874.96,1040.72 1895.27,879.638 1915.59,1063.81 1935.9,1282.05 1956.22,1308.07 1976.53,993.25 1996.84,1033.51 2017.16,851.215 2037.47,967.866 2057.79,1090.34 \n",
       "  2078.1,1022.85 2098.41,949.564 2118.73,1138.17 2139.04,990.601 2159.36,1103.88 2179.67,1226.99 2199.99,1072.07 2220.3,1137.26 2240.61,1054.34 2260.93,909.865 \n",
       "  \n",
       "  \"/>\n",
       "<polygon clip-path=\"url(#clip2401)\" points=\"\n",
       "1915.59,511.904 2249.26,511.904 2249.26,209.504 1915.59,209.504 \n",
       "  \" fill=\"#ffffff\" fill-rule=\"evenodd\" fill-opacity=\"1\"/>\n",
       "<polyline clip-path=\"url(#clip2401)\" style=\"stroke:#000000; stroke-width:4; stroke-opacity:1; fill:none\" points=\"\n",
       "  1915.59,511.904 2249.26,511.904 2249.26,209.504 1915.59,209.504 1915.59,511.904 \n",
       "  \"/>\n",
       "<polyline clip-path=\"url(#clip2401)\" style=\"stroke:#009af9; stroke-width:4; stroke-opacity:1; fill:none\" points=\"\n",
       "  1939.59,269.984 2083.59,269.984 \n",
       "  \"/>\n",
       "<g clip-path=\"url(#clip2401)\">\n",
       "<text style=\"fill:#000000; fill-opacity:1; font-family:Arial,Helvetica Neue,Helvetica,sans-serif; font-size:48px; text-anchor:start;\" transform=\"rotate(0, 2107.59, 287.484)\" x=\"2107.59\" y=\"287.484\">Z</text>\n",
       "</g>\n",
       "<polyline clip-path=\"url(#clip2401)\" style=\"stroke:#e26f46; stroke-width:4; stroke-opacity:1; fill:none\" points=\"\n",
       "  1939.59,330.464 2083.59,330.464 \n",
       "  \"/>\n",
       "<g clip-path=\"url(#clip2401)\">\n",
       "<text style=\"fill:#000000; fill-opacity:1; font-family:Arial,Helvetica Neue,Helvetica,sans-serif; font-size:48px; text-anchor:start;\" transform=\"rotate(0, 2107.59, 347.964)\" x=\"2107.59\" y=\"347.964\">tauh</text>\n",
       "</g>\n",
       "<polyline clip-path=\"url(#clip2401)\" style=\"stroke:#3da44d; stroke-width:4; stroke-opacity:1; fill:none\" points=\"\n",
       "  1939.59,390.944 2083.59,390.944 \n",
       "  \"/>\n",
       "<g clip-path=\"url(#clip2401)\">\n",
       "<text style=\"fill:#000000; fill-opacity:1; font-family:Arial,Helvetica Neue,Helvetica,sans-serif; font-size:48px; text-anchor:start;\" transform=\"rotate(0, 2107.59, 408.444)\" x=\"2107.59\" y=\"408.444\">taux</text>\n",
       "</g>\n",
       "<polyline clip-path=\"url(#clip2401)\" style=\"stroke:#c271d2; stroke-width:4; stroke-opacity:1; fill:none\" points=\"\n",
       "  1939.59,451.424 2083.59,451.424 \n",
       "  \"/>\n",
       "<g clip-path=\"url(#clip2401)\">\n",
       "<text style=\"fill:#000000; fill-opacity:1; font-family:Arial,Helvetica Neue,Helvetica,sans-serif; font-size:48px; text-anchor:start;\" transform=\"rotate(0, 2107.59, 468.924)\" x=\"2107.59\" y=\"468.924\">g</text>\n",
       "</g>\n",
       "</svg>\n"
      ]
     },
     "execution_count": 4,
     "metadata": {},
     "output_type": "execute_result"
    }
   ],
   "source": [
    "T=100\n",
    "X= zeros(5,T)\n",
    "Y = zeros(4,T)\n",
    "\n",
    "Random.seed!(0403);\n",
    "S = randn(5,T) #vector with shocks\n",
    "\n",
    "#Simulating data\n",
    "for t=1:T\n",
    "    if t>1\n",
    "    X[:,t] = A*X[:,t-1]+ B*S[:,t]\n",
    "    end\n",
    "    Y[:,t] = C*X[:,t]\n",
    "end\n",
    "plot([X[2,:],X[3,:],X[4,:],X[5,:]],title =\"Wedges\", labels = [\"Z\",\"tauh\",\"taux\",\"g\"])"
   ]
  },
  {
   "cell_type": "code",
   "execution_count": 5,
   "metadata": {},
   "outputs": [
    {
     "data": {
      "image/svg+xml": [
       "<?xml version=\"1.0\" encoding=\"utf-8\"?>\n",
       "<svg xmlns=\"http://www.w3.org/2000/svg\" xmlns:xlink=\"http://www.w3.org/1999/xlink\" width=\"600\" height=\"400\" viewBox=\"0 0 2400 1600\">\n",
       "<defs>\n",
       "  <clipPath id=\"clip2600\">\n",
       "    <rect x=\"0\" y=\"0\" width=\"2000\" height=\"2000\"/>\n",
       "  </clipPath>\n",
       "</defs>\n",
       "<defs>\n",
       "  <clipPath id=\"clip2601\">\n",
       "    <rect x=\"0\" y=\"0\" width=\"2400\" height=\"1600\"/>\n",
       "  </clipPath>\n",
       "</defs>\n",
       "<polygon clip-path=\"url(#clip2601)\" points=\"\n",
       "0,1600 2400,1600 2400,0 0,0 \n",
       "  \" fill=\"#ffffff\" fill-rule=\"evenodd\" fill-opacity=\"1\"/>\n",
       "<defs>\n",
       "  <clipPath id=\"clip2602\">\n",
       "    <rect x=\"480\" y=\"0\" width=\"1681\" height=\"1600\"/>\n",
       "  </clipPath>\n",
       "</defs>\n",
       "<polygon clip-path=\"url(#clip2601)\" points=\"\n",
       "189.504,1503.47 2321.26,1503.47 2321.26,125.984 189.504,125.984 \n",
       "  \" fill=\"#ffffff\" fill-rule=\"evenodd\" fill-opacity=\"1\"/>\n",
       "<defs>\n",
       "  <clipPath id=\"clip2603\">\n",
       "    <rect x=\"189\" y=\"125\" width=\"2133\" height=\"1378\"/>\n",
       "  </clipPath>\n",
       "</defs>\n",
       "<polyline clip-path=\"url(#clip2603)\" style=\"stroke:#000000; stroke-width:2; stroke-opacity:0.1; fill:none\" points=\"\n",
       "  229.523,1503.47 229.523,125.984 \n",
       "  \"/>\n",
       "<polyline clip-path=\"url(#clip2603)\" style=\"stroke:#000000; stroke-width:2; stroke-opacity:0.1; fill:none\" points=\"\n",
       "  737.374,1503.47 737.374,125.984 \n",
       "  \"/>\n",
       "<polyline clip-path=\"url(#clip2603)\" style=\"stroke:#000000; stroke-width:2; stroke-opacity:0.1; fill:none\" points=\"\n",
       "  1245.22,1503.47 1245.22,125.984 \n",
       "  \"/>\n",
       "<polyline clip-path=\"url(#clip2603)\" style=\"stroke:#000000; stroke-width:2; stroke-opacity:0.1; fill:none\" points=\"\n",
       "  1753.08,1503.47 1753.08,125.984 \n",
       "  \"/>\n",
       "<polyline clip-path=\"url(#clip2603)\" style=\"stroke:#000000; stroke-width:2; stroke-opacity:0.1; fill:none\" points=\"\n",
       "  2260.93,1503.47 2260.93,125.984 \n",
       "  \"/>\n",
       "<polyline clip-path=\"url(#clip2603)\" style=\"stroke:#000000; stroke-width:2; stroke-opacity:0.1; fill:none\" points=\"\n",
       "  189.504,1288.82 2321.26,1288.82 \n",
       "  \"/>\n",
       "<polyline clip-path=\"url(#clip2603)\" style=\"stroke:#000000; stroke-width:2; stroke-opacity:0.1; fill:none\" points=\"\n",
       "  189.504,1009.1 2321.26,1009.1 \n",
       "  \"/>\n",
       "<polyline clip-path=\"url(#clip2603)\" style=\"stroke:#000000; stroke-width:2; stroke-opacity:0.1; fill:none\" points=\"\n",
       "  189.504,729.378 2321.26,729.378 \n",
       "  \"/>\n",
       "<polyline clip-path=\"url(#clip2603)\" style=\"stroke:#000000; stroke-width:2; stroke-opacity:0.1; fill:none\" points=\"\n",
       "  189.504,449.655 2321.26,449.655 \n",
       "  \"/>\n",
       "<polyline clip-path=\"url(#clip2603)\" style=\"stroke:#000000; stroke-width:2; stroke-opacity:0.1; fill:none\" points=\"\n",
       "  189.504,169.932 2321.26,169.932 \n",
       "  \"/>\n",
       "<polyline clip-path=\"url(#clip2601)\" style=\"stroke:#000000; stroke-width:4; stroke-opacity:1; fill:none\" points=\"\n",
       "  189.504,1503.47 2321.26,1503.47 \n",
       "  \"/>\n",
       "<polyline clip-path=\"url(#clip2601)\" style=\"stroke:#000000; stroke-width:4; stroke-opacity:1; fill:none\" points=\"\n",
       "  189.504,1503.47 189.504,125.984 \n",
       "  \"/>\n",
       "<polyline clip-path=\"url(#clip2601)\" style=\"stroke:#000000; stroke-width:4; stroke-opacity:1; fill:none\" points=\"\n",
       "  229.523,1503.47 229.523,1482.81 \n",
       "  \"/>\n",
       "<polyline clip-path=\"url(#clip2601)\" style=\"stroke:#000000; stroke-width:4; stroke-opacity:1; fill:none\" points=\"\n",
       "  737.374,1503.47 737.374,1482.81 \n",
       "  \"/>\n",
       "<polyline clip-path=\"url(#clip2601)\" style=\"stroke:#000000; stroke-width:4; stroke-opacity:1; fill:none\" points=\"\n",
       "  1245.22,1503.47 1245.22,1482.81 \n",
       "  \"/>\n",
       "<polyline clip-path=\"url(#clip2601)\" style=\"stroke:#000000; stroke-width:4; stroke-opacity:1; fill:none\" points=\"\n",
       "  1753.08,1503.47 1753.08,1482.81 \n",
       "  \"/>\n",
       "<polyline clip-path=\"url(#clip2601)\" style=\"stroke:#000000; stroke-width:4; stroke-opacity:1; fill:none\" points=\"\n",
       "  2260.93,1503.47 2260.93,1482.81 \n",
       "  \"/>\n",
       "<polyline clip-path=\"url(#clip2601)\" style=\"stroke:#000000; stroke-width:4; stroke-opacity:1; fill:none\" points=\"\n",
       "  189.504,1288.82 221.48,1288.82 \n",
       "  \"/>\n",
       "<polyline clip-path=\"url(#clip2601)\" style=\"stroke:#000000; stroke-width:4; stroke-opacity:1; fill:none\" points=\"\n",
       "  189.504,1009.1 221.48,1009.1 \n",
       "  \"/>\n",
       "<polyline clip-path=\"url(#clip2601)\" style=\"stroke:#000000; stroke-width:4; stroke-opacity:1; fill:none\" points=\"\n",
       "  189.504,729.378 221.48,729.378 \n",
       "  \"/>\n",
       "<polyline clip-path=\"url(#clip2601)\" style=\"stroke:#000000; stroke-width:4; stroke-opacity:1; fill:none\" points=\"\n",
       "  189.504,449.655 221.48,449.655 \n",
       "  \"/>\n",
       "<polyline clip-path=\"url(#clip2601)\" style=\"stroke:#000000; stroke-width:4; stroke-opacity:1; fill:none\" points=\"\n",
       "  189.504,169.932 221.48,169.932 \n",
       "  \"/>\n",
       "<g clip-path=\"url(#clip2601)\">\n",
       "<text style=\"fill:#000000; fill-opacity:1; font-family:Arial,Helvetica Neue,Helvetica,sans-serif; font-size:48px; text-anchor:middle;\" transform=\"rotate(0, 229.523, 1557.47)\" x=\"229.523\" y=\"1557.47\">0</text>\n",
       "</g>\n",
       "<g clip-path=\"url(#clip2601)\">\n",
       "<text style=\"fill:#000000; fill-opacity:1; font-family:Arial,Helvetica Neue,Helvetica,sans-serif; font-size:48px; text-anchor:middle;\" transform=\"rotate(0, 737.374, 1557.47)\" x=\"737.374\" y=\"1557.47\">25</text>\n",
       "</g>\n",
       "<g clip-path=\"url(#clip2601)\">\n",
       "<text style=\"fill:#000000; fill-opacity:1; font-family:Arial,Helvetica Neue,Helvetica,sans-serif; font-size:48px; text-anchor:middle;\" transform=\"rotate(0, 1245.22, 1557.47)\" x=\"1245.22\" y=\"1557.47\">50</text>\n",
       "</g>\n",
       "<g clip-path=\"url(#clip2601)\">\n",
       "<text style=\"fill:#000000; fill-opacity:1; font-family:Arial,Helvetica Neue,Helvetica,sans-serif; font-size:48px; text-anchor:middle;\" transform=\"rotate(0, 1753.08, 1557.47)\" x=\"1753.08\" y=\"1557.47\">75</text>\n",
       "</g>\n",
       "<g clip-path=\"url(#clip2601)\">\n",
       "<text style=\"fill:#000000; fill-opacity:1; font-family:Arial,Helvetica Neue,Helvetica,sans-serif; font-size:48px; text-anchor:middle;\" transform=\"rotate(0, 2260.93, 1557.47)\" x=\"2260.93\" y=\"1557.47\">100</text>\n",
       "</g>\n",
       "<g clip-path=\"url(#clip2601)\">\n",
       "<text style=\"fill:#000000; fill-opacity:1; font-family:Arial,Helvetica Neue,Helvetica,sans-serif; font-size:48px; text-anchor:end;\" transform=\"rotate(0, 165.504, 1306.32)\" x=\"165.504\" y=\"1306.32\">-0.2</text>\n",
       "</g>\n",
       "<g clip-path=\"url(#clip2601)\">\n",
       "<text style=\"fill:#000000; fill-opacity:1; font-family:Arial,Helvetica Neue,Helvetica,sans-serif; font-size:48px; text-anchor:end;\" transform=\"rotate(0, 165.504, 1026.6)\" x=\"165.504\" y=\"1026.6\">0.0</text>\n",
       "</g>\n",
       "<g clip-path=\"url(#clip2601)\">\n",
       "<text style=\"fill:#000000; fill-opacity:1; font-family:Arial,Helvetica Neue,Helvetica,sans-serif; font-size:48px; text-anchor:end;\" transform=\"rotate(0, 165.504, 746.878)\" x=\"165.504\" y=\"746.878\">0.2</text>\n",
       "</g>\n",
       "<g clip-path=\"url(#clip2601)\">\n",
       "<text style=\"fill:#000000; fill-opacity:1; font-family:Arial,Helvetica Neue,Helvetica,sans-serif; font-size:48px; text-anchor:end;\" transform=\"rotate(0, 165.504, 467.155)\" x=\"165.504\" y=\"467.155\">0.4</text>\n",
       "</g>\n",
       "<g clip-path=\"url(#clip2601)\">\n",
       "<text style=\"fill:#000000; fill-opacity:1; font-family:Arial,Helvetica Neue,Helvetica,sans-serif; font-size:48px; text-anchor:end;\" transform=\"rotate(0, 165.504, 187.432)\" x=\"165.504\" y=\"187.432\">0.6</text>\n",
       "</g>\n",
       "<g clip-path=\"url(#clip2601)\">\n",
       "<text style=\"fill:#000000; fill-opacity:1; font-family:Arial,Helvetica Neue,Helvetica,sans-serif; font-size:84px; text-anchor:middle;\" transform=\"rotate(0, 1255.38, 73.2)\" x=\"1255.38\" y=\"73.2\">Endogenous Variables</text>\n",
       "</g>\n",
       "<polyline clip-path=\"url(#clip2603)\" style=\"stroke:#009af9; stroke-width:4; stroke-opacity:1; fill:none\" points=\"\n",
       "  249.837,1009.1 270.151,1009.1 290.465,1020.95 310.779,1025.27 331.093,1016.55 351.407,1014.95 371.721,1023.76 392.035,1028.22 412.349,1019.25 432.663,1023.05 \n",
       "  452.977,1025.15 473.291,1023.42 493.605,1020.61 513.919,1015.72 534.233,994.594 554.547,979.786 574.862,967.39 595.176,947.503 615.49,917.82 635.804,882.888 \n",
       "  656.118,851.52 676.432,833.975 696.746,811.84 717.06,788.028 737.374,772.493 757.688,767.767 778.002,765.757 798.316,774.679 818.63,782.755 838.944,791.825 \n",
       "  859.258,795.726 879.572,795.809 899.886,802.101 920.2,813.768 940.514,822.15 960.828,834.26 981.142,838.359 1001.46,859.59 1021.77,879.261 1042.08,898.055 \n",
       "  1062.4,910.581 1082.71,926.624 1103.03,931.679 1123.34,945 1143.65,957.221 1163.97,958.437 1184.28,965.772 1204.6,981.472 1224.91,997.054 1245.22,1005.11 \n",
       "  1265.54,1018.3 1285.85,1035.52 1306.17,1055.42 1326.48,1064.78 1346.8,1061.51 1367.11,1063.42 1387.42,1060.39 1407.74,1055.66 1428.05,1045.89 1448.37,1040.82 \n",
       "  1468.68,1046.34 1488.99,1054.22 1509.31,1056.31 1529.62,1057.65 1549.94,1062.42 1570.25,1069.89 1590.56,1077.35 1610.88,1084.32 1631.19,1082.24 1651.51,1075.14 \n",
       "  1671.82,1063.98 1692.13,1053.37 1712.45,1049.26 1732.76,1047.6 1753.08,1029.68 1773.39,1017.66 1793.7,1015.74 1814.02,1020.7 1834.33,1012 1854.65,995.844 \n",
       "  1874.96,983.706 1895.27,982.976 1915.59,964.015 1935.9,943.53 1956.22,936.2 1976.53,929.282 1996.84,926.24 2017.16,931.618 2037.47,924.319 2057.79,915.333 \n",
       "  2078.1,902.569 2098.41,900.134 2118.73,910.508 2139.04,922.931 2159.36,930.236 2179.67,943.12 2199.99,940.256 2220.3,948.877 2240.61,954.371 2260.93,941.588 \n",
       "  \n",
       "  \"/>\n",
       "<polyline clip-path=\"url(#clip2603)\" style=\"stroke:#e26f46; stroke-width:4; stroke-opacity:1; fill:none\" points=\"\n",
       "  249.837,1009.1 270.151,1264.54 290.465,1114.07 310.779,837.302 331.093,982.092 351.407,1204.86 371.721,1119.87 392.035,834.907 412.349,1101.13 432.663,1068.29 \n",
       "  452.977,987.788 473.291,962.989 493.605,915.074 513.919,560.471 534.233,675.448 554.547,712.629 574.862,538.778 595.176,307.784 615.49,164.97 635.804,206.83 \n",
       "  656.118,473.397 676.432,356.916 696.746,298.642 717.06,453.207 737.374,670.634 757.688,724.436 778.002,958.048 798.316,948.709 818.63,978.226 838.944,875.899 \n",
       "  859.258,797.508 879.572,931.419 899.886,1053.53 920.2,994.404 940.514,1083.15 960.828,922.603 981.142,1295.93 1001.46,1283.52 1021.77,1284.31 1042.08,1168.01 \n",
       "  1062.4,1256.35 1082.71,1035.55 1103.03,1218.78 1123.34,1208.38 1143.65,983.44 1163.97,1116.51 1184.28,1304.14 1204.6,1317.3 1224.91,1170.73 1245.22,1289.4 \n",
       "  1265.54,1389.27 1285.85,1464.49 1306.17,1257.19 1326.48,994.283 1346.8,1102.61 1367.11,998.218 1387.42,958.498 1407.74,844.941 1428.05,936.573 1448.37,1159.81 \n",
       "  1468.68,1216.26 1488.99,1099.26 1509.31,1085.22 1529.62,1160.5 1549.94,1223.29 1570.25,1230.62 1590.56,1227.64 1610.88,1039.47 1631.19,929.214 1651.51,834.764 \n",
       "  1671.82,835.139 1692.13,964.81 1712.45,1013.59 1732.76,661.384 1753.08,770.506 1773.39,976.301 1793.7,1122.76 1814.02,833.037 1834.33,663.896 1854.65,734.247 \n",
       "  1874.96,967.978 1895.27,574.326 1915.59,522.528 1935.9,785.544 1956.22,787.115 1976.53,863.71 1996.84,1042.14 2017.16,774.312 2037.47,730.662 2057.79,640.229 \n",
       "  2078.1,850.101 2098.41,1123.7 2118.73,1178.24 2139.04,1080.36 2159.36,1207.91 2179.67,881.403 2199.99,1126.05 2220.3,1067.27 2240.61,678.884 2260.93,513.781 \n",
       "  \n",
       "  \"/>\n",
       "<polyline clip-path=\"url(#clip2603)\" style=\"stroke:#3da44d; stroke-width:4; stroke-opacity:1; fill:none\" points=\"\n",
       "  249.837,1009.1 270.151,1091.5 290.465,1060.07 310.779,973.37 331.093,1002.66 351.407,1075.03 371.721,1056.11 392.035,976.783 412.349,1045.49 432.663,1043.86 \n",
       "  452.977,1024.42 473.291,1014.78 493.605,991.164 513.919,874.023 534.233,882.835 554.547,870.944 574.862,803.776 595.176,706.659 615.49,619.477 635.804,591.069 \n",
       "  656.118,641.443 676.432,578.817 696.746,534.45 717.06,550.426 737.374,599.47 757.688,613.01 778.002,681.964 798.316,695.542 818.63,709.398 838.944,689.05 \n",
       "  859.258,669.511 879.572,713.756 899.886,766.951 920.2,765.615 940.514,801.338 960.828,764.585 981.142,887.402 1001.46,910.705 1021.77,932.134 1042.08,919.09 \n",
       "  1062.4,961.933 1082.71,915.273 1103.03,981.342 1123.34,996.167 1143.65,931.47 1163.97,980.113 1184.28,1049.26 1204.6,1073.29 1224.91,1048.03 1245.22,1097.34 \n",
       "  1265.54,1141.79 1285.85,1184.27 1306.17,1147.57 1326.48,1071.93 1346.8,1101.61 1367.11,1069.91 1387.42,1056.54 1407.74,1015.68 1428.05,1032.67 1448.37,1098.35 \n",
       "  1468.68,1121.59 1488.99,1092.46 1509.31,1091.73 1529.62,1120.23 1549.94,1149.14 1570.25,1156.29 1590.56,1163.84 1610.88,1112.5 1631.19,1074.87 1651.51,1040.94 \n",
       "  1671.82,1029.94 1692.13,1053.14 1712.45,1059.77 1732.76,947.893 1753.08,961.821 1773.39,1013.52 1793.7,1053.54 1814.02,964.925 1834.33,904.091 1854.65,903.54 \n",
       "  1874.96,963.06 1895.27,833.804 1915.59,794.789 1935.9,857.768 1956.22,850.107 1976.53,858.086 1996.84,913.785 2017.16,829.052 2037.47,810.694 2057.79,774.663 \n",
       "  2078.1,822.924 2098.41,907.527 2118.73,939.15 2139.04,920.99 2159.36,975 2179.67,889.158 2199.99,957.431 2220.3,950.151 2240.61,834.481 2260.93,760.663 \n",
       "  \n",
       "  \"/>\n",
       "<polyline clip-path=\"url(#clip2603)\" style=\"stroke:#c271d2; stroke-width:4; stroke-opacity:1; fill:none\" points=\"\n",
       "  249.837,1009.1 270.151,1017.84 290.465,1016.79 310.779,1008.16 331.093,1011.26 351.407,1019.76 371.721,1019.5 392.035,1010.43 412.349,1017.84 432.663,1017.83 \n",
       "  452.977,1016.12 473.291,1013.26 493.605,1009.34 513.919,994.417 534.233,993.62 554.547,989.542 574.862,978.932 595.176,964.207 615.49,949.812 635.804,941.282 \n",
       "  656.118,943.51 676.432,934.646 696.746,927.35 717.06,926.564 737.374,929.337 757.688,930.26 778.002,938.87 798.316,941.334 818.63,944.192 838.944,941.553 \n",
       "  859.258,939.131 879.572,944.293 899.886,950.377 920.2,951.482 940.514,957.918 960.828,955.321 981.142,970.432 1001.46,976.733 1021.77,981.019 1042.08,982.348 \n",
       "  1062.4,989.27 1082.71,988.747 1103.03,995.379 1123.34,998.353 1143.65,993.335 1163.97,998.858 1184.28,1008.44 1204.6,1012.53 1224.91,1011.89 1245.22,1018.7 \n",
       "  1265.54,1025.29 1285.85,1033.22 1306.17,1030.63 1326.48,1024.32 1346.8,1027.04 1367.11,1024.93 1387.42,1022.32 1407.74,1017.24 1428.05,1018.41 1448.37,1024.8 \n",
       "  1468.68,1028.33 1488.99,1025.79 1509.31,1026.52 1529.62,1029.22 1549.94,1032.63 1570.25,1033.81 1590.56,1035.19 1610.88,1031.09 1631.19,1025.97 1651.51,1021.16 \n",
       "  1671.82,1018.02 1692.13,1020.33 1712.45,1019.94 1732.76,1005.68 1753.08,1005.28 1773.39,1010.33 1793.7,1015.38 1814.02,1005.07 1834.33,996.319 1854.65,994.419 \n",
       "  1874.96,1000.51 1895.27,984.605 1915.59,977.686 1935.9,983.224 1956.22,981.151 1976.53,980.111 1996.84,986.008 2017.16,976.931 2037.47,973.49 2057.79,967.241 \n",
       "  2078.1,971.521 2098.41,980.769 2118.73,987.491 2139.04,986.872 2159.36,993.698 2179.67,985.634 2199.99,994.269 2220.3,995.646 2240.61,980.808 2260.93,970.042 \n",
       "  \n",
       "  \"/>\n",
       "<polygon clip-path=\"url(#clip2601)\" points=\"\n",
       "1977.15,511.904 2249.26,511.904 2249.26,209.504 1977.15,209.504 \n",
       "  \" fill=\"#ffffff\" fill-rule=\"evenodd\" fill-opacity=\"1\"/>\n",
       "<polyline clip-path=\"url(#clip2601)\" style=\"stroke:#000000; stroke-width:4; stroke-opacity:1; fill:none\" points=\"\n",
       "  1977.15,511.904 2249.26,511.904 2249.26,209.504 1977.15,209.504 1977.15,511.904 \n",
       "  \"/>\n",
       "<polyline clip-path=\"url(#clip2601)\" style=\"stroke:#009af9; stroke-width:4; stroke-opacity:1; fill:none\" points=\"\n",
       "  2001.15,269.984 2145.15,269.984 \n",
       "  \"/>\n",
       "<g clip-path=\"url(#clip2601)\">\n",
       "<text style=\"fill:#000000; fill-opacity:1; font-family:Arial,Helvetica Neue,Helvetica,sans-serif; font-size:48px; text-anchor:start;\" transform=\"rotate(0, 2169.15, 287.484)\" x=\"2169.15\" y=\"287.484\">K</text>\n",
       "</g>\n",
       "<polyline clip-path=\"url(#clip2601)\" style=\"stroke:#e26f46; stroke-width:4; stroke-opacity:1; fill:none\" points=\"\n",
       "  2001.15,330.464 2145.15,330.464 \n",
       "  \"/>\n",
       "<g clip-path=\"url(#clip2601)\">\n",
       "<text style=\"fill:#000000; fill-opacity:1; font-family:Arial,Helvetica Neue,Helvetica,sans-serif; font-size:48px; text-anchor:start;\" transform=\"rotate(0, 2169.15, 347.964)\" x=\"2169.15\" y=\"347.964\">X</text>\n",
       "</g>\n",
       "<polyline clip-path=\"url(#clip2601)\" style=\"stroke:#3da44d; stroke-width:4; stroke-opacity:1; fill:none\" points=\"\n",
       "  2001.15,390.944 2145.15,390.944 \n",
       "  \"/>\n",
       "<g clip-path=\"url(#clip2601)\">\n",
       "<text style=\"fill:#000000; fill-opacity:1; font-family:Arial,Helvetica Neue,Helvetica,sans-serif; font-size:48px; text-anchor:start;\" transform=\"rotate(0, 2169.15, 408.444)\" x=\"2169.15\" y=\"408.444\">Y</text>\n",
       "</g>\n",
       "<polyline clip-path=\"url(#clip2601)\" style=\"stroke:#c271d2; stroke-width:4; stroke-opacity:1; fill:none\" points=\"\n",
       "  2001.15,451.424 2145.15,451.424 \n",
       "  \"/>\n",
       "<g clip-path=\"url(#clip2601)\">\n",
       "<text style=\"fill:#000000; fill-opacity:1; font-family:Arial,Helvetica Neue,Helvetica,sans-serif; font-size:48px; text-anchor:start;\" transform=\"rotate(0, 2169.15, 468.924)\" x=\"2169.15\" y=\"468.924\">L</text>\n",
       "</g>\n",
       "</svg>\n"
      ]
     },
     "execution_count": 5,
     "metadata": {},
     "output_type": "execute_result"
    }
   ],
   "source": [
    "plot([X[1,:],Y[2,:],Y[1,:],Y[3,:]],title = \"Endogenous Variables\",labels = [\"K\",\"X\",\"Y\",\"L\"])"
   ]
  },
  {
   "cell_type": "markdown",
   "metadata": {},
   "source": [
    "Given the simulated data above, we want to build an algorithm to estimate the matrices P and Q (and the steady state values) such that we would have the same data generating process. To do that, we'll build a likelihood function using the Kalman Filter. We follow Ljunqvist & Sargent exposition of the Kalman filter. Assume for a slightly more general case that $\\omega_t$ is an iid vector sequence of normal random variances with mean zero and covariance matrix $R$ (In our case, $R=0$).  "
   ]
  },
  {
   "cell_type": "markdown",
   "metadata": {},
   "source": [
    "We observe $Y_t$ but not $X_t$. We want to estimate $\\hat{X}_t = E[X_t|Y^{t-1}]$ and also the covariances $\\Sigma_t = E[(X_t-\\hat{X}_t)(X_t-\\hat{X}_t)']$. The trick is to use the new information in $y_0$ relative to what we know ($\\hat{X}_0$):    $a_0:=Y_0-C\\hat{X}_0$. $a_t:=Y_t-C\\hat{X}_t$. Regressing the model: $$X_0-\\hat{X}_0 = L_0a_0+\\eta$$ We get that:\n",
    "$$L_0 = \\Sigma_0 C'\\left(C\\Sigma_0 C'+R\\right)^{-1} $$"
   ]
  },
  {
   "cell_type": "markdown",
   "metadata": {},
   "source": [
    "Defining $\\hat{X}_1 = E[X_1|Y_0] = A X_0$: \n",
    "$$X_1 = A\\hat{X}_0 + A\\left(X_0-\\hat{X}_0\\right) + B \\varepsilon_1$$"
   ]
  },
  {
   "cell_type": "markdown",
   "metadata": {},
   "source": [
    "Substituting the linear model and $L_0$:\n",
    "$$\\hat{X}_1 = A\\hat{X}_0 +K_0(Y_0 - C \\hat{X}_0) $$"
   ]
  },
  {
   "cell_type": "markdown",
   "metadata": {},
   "source": [
    "Where $K_0 = AL_0$ is the Kalman gain. Plugging these equations: $X_1-\\hat{X}_1 = A (X_0-\\hat{X}_0) +B \\varepsilon_1 - K_0(Y_0-C\\hat{X}_0)$ and we may compute a new variance matrix $\\Sigma_1 = E(X_1-\\hat{X}_1)(X_1-\\hat{X}_1)$:\n",
    "$$\\Sigma_1 = (A-K_0C)\\Sigma_0(A-K_0C)' + (BB'+K_0RK_0')$$\n"
   ]
  },
  {
   "cell_type": "markdown",
   "metadata": {},
   "source": [
    "Iterating the above steps we get te Kalman filter recursion:\n",
    "$$a_t = Y_t-C\\hat{X}_t$$\n",
    "$$K_t = A\\Sigma_tC'(C\\Sigma_tC'+R)^{-1}$$\n",
    "$$\\hat{X}_{t+1} = A\\hat{X}_t + K_t a_t$$\n",
    "$$\\Sigma_{t+1} = (A-K_tC)\\Sigma_t(A-K_tC)' + (BB'+K_tRK_t')$$"
   ]
  },
  {
   "cell_type": "markdown",
   "metadata": {},
   "source": [
    "The code below implements this recursion:"
   ]
  },
  {
   "cell_type": "code",
   "execution_count": 6,
   "metadata": {},
   "outputs": [
    {
     "data": {
      "text/plain": [
       "KalmanFilter (generic function with 1 method)"
      ]
     },
     "execution_count": 6,
     "metadata": {},
     "output_type": "execute_result"
    }
   ],
   "source": [
    "function KalmanFilter(Y,A,B,C)\n",
    "#Y: Observed variables\n",
    "\n",
    "\n",
    "n = size(A)[1] #number of state variables\n",
    "m = size(C)[1] #number of measurement variables\n",
    "T = size(Y)[2] #Sample size\n",
    "\n",
    "#Initializing the state variables\n",
    "X = zeros(n,T)\n",
    "#Variance initial guess\n",
    "Σ = ones(n,n)*ones(n,n)'\n",
    "d=10\n",
    "while d>10^(-15)\n",
    "    Σ1 = A*Σ*A' + B*B'\n",
    "    d = maximum(abs.(Σ-Σ1))\n",
    "    Σ=Σ1\n",
    "end\n",
    "\n",
    "#Run the Kalman filter algorithm (see Ljunqvist sargent)\n",
    "a=ones(m,T)\n",
    "Ω = C*Σ*C'\n",
    "Σhist = copy(Σ)\n",
    "for t = 1:T-1\n",
    "    a[:,t] = Y[:,t] - C*X[:,t]\n",
    "    K = A*Σ*C' / (C*Σ*C')\n",
    "    X[:,t+1] = A*X[:,t] +K*a[:,t]\n",
    "    Σ = B*B' + (A-K*C)*Σ*(A-K*C)'\n",
    "    Σhist = [Σhist Σ]\n",
    "    Ω = [Ω C*Σ*C']\n",
    "end\n",
    "a[:,T] = Y[:,T] - C*X[:,T]\n",
    "Ω = [Ω C*Σ*C']\n",
    "\n",
    "return X, a, Ω, Σhist\n",
    "end"
   ]
  },
  {
   "cell_type": "markdown",
   "metadata": {},
   "source": [
    "Note that we set, in the code above, the initial $\\Sigma_0$ such that $\\Sigma_0 = A\\Sigma_0A' +BB$. \n",
    "\n",
    "The innovations representation that emerges from the Kalman filter is: \n",
    "$$\\hat{X}_{t+1} = A\\hat{X}_t+K_t a_t$$\n",
    "$$Y_t = C \\hat{X}_t +a_t $$\n",
    "Define: $\\Omega_t :=E[a_ta'_t] = C \\Sigma_tC'+R$. We have that $E[Y_t|Y^{t-1}] = C\\hat{X}_t$ and the conditional distribution of $Y_t$ is $N(C\\hat{X}_t,\\Omega_t)$. Therefore, $C\\hat{X}_t,\\Omega_t$ are sufficient statistics for the conditional distribution of $Y_t$. Note that we can factor the likelihood function as:\n",
    "$$f(Y_T,...Y_0) = f(Y_T|Y^{T-1})f(Y_{T-1}|Y^{T-2})...f(Y_1|Y_0)f(Y_0)$$"
   ]
  },
  {
   "cell_type": "markdown",
   "metadata": {},
   "source": [
    "And the log of the conditional density of the $m \\times 1$ vector $Y_t$, ignoring constant terms, is:\n",
    "$$\\log f(Y_t|Y^{t-1}) =- 0.5 \\log(|\\Omega_t|) -0.5 a_t'\\Omega_t^{-1} a_t$$"
   ]
  },
  {
   "cell_type": "markdown",
   "metadata": {},
   "source": [
    "The code below builds the log conditional likelihood function using the method above:"
   ]
  },
  {
   "cell_type": "code",
   "execution_count": 7,
   "metadata": {},
   "outputs": [
    {
     "data": {
      "text/plain": [
       "likelihood (generic function with 1 method)"
      ]
     },
     "execution_count": 7,
     "metadata": {},
     "output_type": "execute_result"
    }
   ],
   "source": [
    "function likelihood(Y,Ω,a)\n",
    "    m,T = size(Y)\n",
    "    L = 0\n",
    "for t=1:T\n",
    "    iteration = t\n",
    "    L = L + (-0.5*log(det(Ω[:,m*t-(m-1):(m*t)])) -\n",
    "    0.5*a[:,t]'*(Ω[:,m*t-(m-1):(m*t)]\\a[:,t]))\n",
    "end\n",
    "return L\n",
    "end"
   ]
  },
  {
   "cell_type": "markdown",
   "metadata": {},
   "source": [
    "We can estimate parameters $\\theta$ given a vector of data $Y$ by maximizing the log likelihood function."
   ]
  },
  {
   "cell_type": "markdown",
   "metadata": {},
   "source": [
    "Now, back to our exercise, the code below we may define the subset of parameters to be estimated and writes down a function to in the optimizer format."
   ]
  },
  {
   "cell_type": "code",
   "execution_count": 8,
   "metadata": {},
   "outputs": [
    {
     "data": {
      "text/plain": [
       "maxloglikelihood (generic function with 1 method)"
      ]
     },
     "execution_count": 8,
     "metadata": {},
     "output_type": "execute_result"
    }
   ],
   "source": [
    "function maxloglikelihood(vector::Vector;Y=Y)\n",
    "    #ρg,ρx,ρh,ρz,σg,σx,σz,σh=vector\n",
    "    ρg,ρx,ρh,ρz=vector\n",
    "    #ρg,ρx,ρh,ρz,ρzg,ρzx,ρzh,ρhz,ρhx,ρhg,ρxz,ρxh,ρxg,ρgz,ρgx,ρgh,σg,σx,σz,σh,σzg,σzx,σzh,σhx,σhg,σxg,gss,τxss,τhss,zss = vector\n",
    "    #ρg,ρx,ρh,ρz,ρzg,ρzx,ρzh,ρhz,ρhx,ρhg,ρxz,ρxh,ρxg,ρgz,ρgx,ρgh,σg,σx,σz,σh,σzg,σzx,σzh,σhx,σhg,σxg = vector\n",
    "\n",
    "    #In matrix form\n",
    "    P = [ρz ρzh ρzx ρzg;\n",
    "    ρhz ρh ρhx ρhg ;\n",
    "    ρxz ρxh ρx ρxg ;\n",
    "    ρgz ρgh ρgx ρg]\n",
    "\n",
    "    Q = [σz σzh σzx σzg;\n",
    "    σzh σh σhx σhg ;\n",
    "    σzx σhx σx σxg ;\n",
    "    σzg σhg σxg σg]\n",
    "\n",
    "    steadystates = gss,τxss,τhss,zss\n",
    "    params_calibrated = [δ,θ,β,σ,ψ,γn,γz]\n",
    "\n",
    "\n",
    "    A,B,C = State_Space(params_calibrated,steadystates, P,Q)\n",
    "    X, a, Ω = KalmanFilter(Y,A,B,C)\n",
    "    L = -likelihood(Y,Ω,a)\n",
    "    return L\n",
    "end"
   ]
  },
  {
   "cell_type": "markdown",
   "metadata": {},
   "source": [
    "Note that the function above actually returns minus the log likelihood, since our optimizer is in fact a minimizer. Checking the value of "
   ]
  },
  {
   "cell_type": "markdown",
   "metadata": {},
   "source": [
    "## Question 2"
   ]
  },
  {
   "cell_type": "markdown",
   "metadata": {},
   "source": [
    "We first begin estimating only 4 parameters and assuming all the others are known:"
   ]
  },
  {
   "cell_type": "code",
   "execution_count": 9,
   "metadata": {},
   "outputs": [
    {
     "data": {
      "text/plain": [
       "4-element Array{Float64,1}:\n",
       " 0.25\n",
       " 0.5 \n",
       " 0.75\n",
       " 0.95"
      ]
     },
     "execution_count": 9,
     "metadata": {},
     "output_type": "execute_result"
    }
   ],
   "source": [
    "original = [ρg,ρx,ρh,ρz]"
   ]
  },
  {
   "cell_type": "markdown",
   "metadata": {},
   "source": [
    "The likelihood valued at the true parameters is:"
   ]
  },
  {
   "cell_type": "code",
   "execution_count": 10,
   "metadata": {},
   "outputs": [
    {
     "data": {
      "text/plain": [
       "-1810.7834564467269"
      ]
     },
     "execution_count": 10,
     "metadata": {},
     "output_type": "execute_result"
    }
   ],
   "source": [
    "truelikelihood = maxloglikelihood(original)"
   ]
  },
  {
   "cell_type": "markdown",
   "metadata": {},
   "source": []
  },
  {
   "cell_type": "code",
   "execution_count": 11,
   "metadata": {},
   "outputs": [
    {
     "name": "stdout",
     "output_type": "stream",
     "text": [
      " 11.014312 seconds (28.22 M allocations: 4.644 GiB, 12.77% gc time)\n"
     ]
    },
    {
     "data": {
      "text/plain": [
       "4-element Array{Float64,1}:\n",
       " 0.25115834217496663\n",
       " 0.3724996508964938 \n",
       " 0.793569282405732  \n",
       " 0.9501104708862674 "
      ]
     },
     "execution_count": 11,
     "metadata": {},
     "output_type": "execute_result"
    }
   ],
   "source": [
    "Random.seed!(0403);\n",
    "initial = original .+ randn(length(original))*0.5\n",
    "\n",
    "#Solver Stuff\n",
    "inner_optimizer = LBFGS() #LBFGS()  # SimulatedAnnealing() #NelderMead() ConjugateGradient()\n",
    "\n",
    "#Defining lower and upper bounds for estimator\n",
    "lower=zeros(length(initial))\n",
    "upper = ones(length(initial))\n",
    "#making sure that the initial guess is within the bounds\n",
    "initial = min.(upper.*0.99,initial)\n",
    "initial = max.(lower.+0.0001,initial)\n",
    "\n",
    "\n",
    "@time bla = optimize(maxloglikelihood,lower,upper, initial,Fminbox(inner_optimizer), Optim.Options(show_trace = false, show_every = 10,iterations =500, time_limit = 60*60*1.0))\n",
    "estimates = bla.minimizer"
   ]
  },
  {
   "cell_type": "markdown",
   "metadata": {},
   "source": [
    "The optimizer found the parameters above, note that they are reasonably, close to the true parameters:"
   ]
  },
  {
   "cell_type": "code",
   "execution_count": 12,
   "metadata": {},
   "outputs": [
    {
     "data": {
      "text/plain": [
       "4-element Array{Float64,1}:\n",
       " 0.0011583421749666312 \n",
       " 0.12750034910350622   \n",
       " 0.04356928240573199   \n",
       " 0.00011047088626747747"
      ]
     },
     "execution_count": 12,
     "metadata": {},
     "output_type": "execute_result"
    }
   ],
   "source": [
    "abs.(estimates - original)"
   ]
  },
  {
   "cell_type": "markdown",
   "metadata": {},
   "source": [
    "Now we repeat the exercise increasing the sample size:"
   ]
  },
  {
   "cell_type": "code",
   "execution_count": 13,
   "metadata": {},
   "outputs": [
    {
     "data": {
      "text/plain": [
       "4-element Array{Float64,1}:\n",
       " 0.2723726668152855 \n",
       " 0.47735552054898267\n",
       " 0.7930228169543113 \n",
       " 0.9499548713942856 "
      ]
     },
     "execution_count": 13,
     "metadata": {},
     "output_type": "execute_result"
    }
   ],
   "source": [
    "T=600\n",
    "X= zeros(5,T)\n",
    "Y = zeros(4,T)\n",
    "\n",
    "Random.seed!(0403);\n",
    "S = randn(5,T) #vector with shocks\n",
    "\n",
    "#Simulating data\n",
    "for t=1:T\n",
    "    if t>1\n",
    "    X[:,t] = A*X[:,t-1]+ B*S[:,t]\n",
    "    end\n",
    "    Y[:,t] = C*X[:,t]\n",
    "end\n",
    "\n",
    "Random.seed!(0403);\n",
    "initial = original .+ randn(length(original))*0.5\n",
    "\n",
    "#Solver Stuff\n",
    "inner_optimizer = LBFGS() #LBFGS()  # SimulatedAnnealing() #NelderMead() ConjugateGradient()\n",
    "\n",
    "#Defining lower and upper bounds for estimator\n",
    "lower=zeros(length(initial))\n",
    "upper = ones(length(initial))\n",
    "#making sure that the initial guess is within the bounds\n",
    "initial = min.(upper.*0.99,initial)\n",
    "initial = max.(lower.+0.0001,initial)\n",
    "\n",
    "\n",
    "bla = optimize(maxloglikelihood,lower,upper, initial,Fminbox(inner_optimizer),Optim.Options(show_trace = false, show_every = 10,iterations =500, time_limit = 60*60*1.0))\n",
    "estimates = bla.minimizer"
   ]
  },
  {
   "cell_type": "markdown",
   "metadata": {},
   "source": [
    "The estimation improved considerably for most parameters:"
   ]
  },
  {
   "cell_type": "code",
   "execution_count": 14,
   "metadata": {},
   "outputs": [
    {
     "data": {
      "text/plain": [
       "4-element Array{Float64,1}:\n",
       " 0.02237266681528549 \n",
       " 0.02264447945101733 \n",
       " 0.043022816954311316\n",
       " 4.512860571437294e-5"
      ]
     },
     "execution_count": 14,
     "metadata": {},
     "output_type": "execute_result"
    }
   ],
   "source": [
    "abs.(estimates - original)"
   ]
  },
  {
   "cell_type": "markdown",
   "metadata": {},
   "source": [
    "We keep this new sample size and now, we estimate 8 parameters in total:"
   ]
  },
  {
   "cell_type": "code",
   "execution_count": 15,
   "metadata": {},
   "outputs": [
    {
     "data": {
      "text/plain": [
       "maxloglikelihood (generic function with 1 method)"
      ]
     },
     "execution_count": 15,
     "metadata": {},
     "output_type": "execute_result"
    }
   ],
   "source": [
    "function maxloglikelihood(vector::Vector;Y=Y)\n",
    "    ρg,ρx,ρh,ρz,σg,σx,σz,σh=vector\n",
    "    #ρg,ρx,ρh,ρz=vector\n",
    "    #ρg,ρx,ρh,ρz,ρzg,ρzx,ρzh,ρhz,ρhx,ρhg,ρxz,ρxh,ρxg,ρgz,ρgx,ρgh,σg,σx,σz,σh,σzg,σzx,σzh,σhx,σhg,σxg,gss,τxss,τhss,zss = vector\n",
    "    #ρg,ρx,ρh,ρz,ρzg,ρzx,ρzh,ρhz,ρhx,ρhg,ρxz,ρxh,ρxg,ρgz,ρgx,ρgh,σg,σx,σz,σh,σzg,σzx,σzh,σhx,σhg,σxg = vector\n",
    "\n",
    "    #In matrix form\n",
    "    P = [ρz ρzh ρzx ρzg;\n",
    "    ρhz ρh ρhx ρhg ;\n",
    "    ρxz ρxh ρx ρxg ;\n",
    "    ρgz ρgh ρgx ρg]\n",
    "\n",
    "    Q = [σz σzh σzx σzg;\n",
    "    σzh σh σhx σhg ;\n",
    "    σzx σhx σx σxg ;\n",
    "    σzg σhg σxg σg]\n",
    "\n",
    "    steadystates = gss,τxss,τhss,zss\n",
    "    params_calibrated = [δ,θ,β,σ,ψ,γn,γz]\n",
    "\n",
    "\n",
    "    A,B,C = State_Space(params_calibrated,steadystates, P,Q)\n",
    "    X, a, Ω = KalmanFilter(Y,A,B,C)\n",
    "    L = -likelihood(Y,Ω,a)\n",
    "    return L\n",
    "end"
   ]
  },
  {
   "cell_type": "markdown",
   "metadata": {},
   "source": [
    "The parameters being estimated are:"
   ]
  },
  {
   "cell_type": "code",
   "execution_count": 16,
   "metadata": {},
   "outputs": [
    {
     "data": {
      "text/plain": [
       "8-element Array{Float64,1}:\n",
       " 0.25\n",
       " 0.5 \n",
       " 0.75\n",
       " 0.95\n",
       " 0.04\n",
       " 0.02\n",
       " 0.05\n",
       " 0.03"
      ]
     },
     "execution_count": 16,
     "metadata": {},
     "output_type": "execute_result"
    }
   ],
   "source": [
    "original = [ ρg,ρx,ρh,ρz,σg,σx,σz,σh]"
   ]
  },
  {
   "cell_type": "code",
   "execution_count": 17,
   "metadata": {},
   "outputs": [
    {
     "data": {
      "text/plain": [
       "8-element Array{Float64,1}:\n",
       " 0.2723645656724342  \n",
       " 0.4167003617213166  \n",
       " 0.785577891881518   \n",
       " 0.9499289341748347  \n",
       " 0.04020397171301103 \n",
       " 0.01924533114728138 \n",
       " 0.049201046279740715\n",
       " 0.02937510753750426 "
      ]
     },
     "execution_count": 17,
     "metadata": {},
     "output_type": "execute_result"
    }
   ],
   "source": [
    "Random.seed!(0403);\n",
    "initial = original .+ randn(length(original))*0.5\n",
    "\n",
    "#Solver Stuff\n",
    "inner_optimizer = LBFGS() #LBFGS()  # SimulatedAnnealing() #NelderMead() ConjugateGradient()\n",
    "\n",
    "#Defining lower and upper bounds for estimator\n",
    "lower=zeros(length(initial))\n",
    "upper = ones(length(initial))\n",
    "#making sure that the initial guess is within the bounds\n",
    "initial = min.(upper.*0.99,initial)\n",
    "initial = max.(lower.+0.0001,initial)\n",
    "\n",
    "\n",
    "bla = optimize(maxloglikelihood,lower,upper, initial,Fminbox(inner_optimizer),\n",
    "    Optim.Options(show_trace = false, show_every = 10,iterations =500, time_limit = 60*60*1.0))\n",
    "estimates = bla.minimizer"
   ]
  },
  {
   "cell_type": "markdown",
   "metadata": {},
   "source": [
    "The estimation is also good:"
   ]
  },
  {
   "cell_type": "code",
   "execution_count": 18,
   "metadata": {},
   "outputs": [
    {
     "data": {
      "text/plain": [
       "8-element Array{Float64,1}:\n",
       " 0.022364565672434222 \n",
       " 0.08329963827868342  \n",
       " 0.03557789188151805  \n",
       " 7.106582516525073e-5 \n",
       " 0.0002039717130110294\n",
       " 0.0007546688527186214\n",
       " 0.0007989537202592878\n",
       " 0.000624892462495738 "
      ]
     },
     "execution_count": 18,
     "metadata": {},
     "output_type": "execute_result"
    }
   ],
   "source": [
    "abs.(estimates - original)"
   ]
  },
  {
   "cell_type": "markdown",
   "metadata": {},
   "source": [
    "Now, we estimate all the Parameters with the exception of the Steady States and things start to get a little trickier:"
   ]
  },
  {
   "cell_type": "code",
   "execution_count": 19,
   "metadata": {},
   "outputs": [
    {
     "data": {
      "text/plain": [
       "maxloglikelihood (generic function with 1 method)"
      ]
     },
     "execution_count": 19,
     "metadata": {},
     "output_type": "execute_result"
    }
   ],
   "source": [
    "function maxloglikelihood(vector::Vector;Y=Y)\n",
    "    #ρg,ρx,ρh,ρz,σg,σx,σz,σh=vector\n",
    "    #ρg,ρx,ρh,ρz=vector\n",
    "    #ρg,ρx,ρh,ρz,ρzg,ρzx,ρzh,ρhz,ρhx,ρhg,ρxz,ρxh,ρxg,ρgz,ρgx,ρgh,σg,σx,σz,σh,σzg,σzx,σzh,σhx,σhg,σxg,gss,τxss,τhss,zss = vector\n",
    "    ρg,ρx,ρh,ρz,ρzg,ρzx,ρzh,ρhz,ρhx,ρhg,ρxz,ρxh,ρxg,ρgz,ρgx,ρgh,σg,σx,σz,σh,σzg,σzx,σzh,σhx,σhg,σxg = vector\n",
    "\n",
    "    #In matrix form\n",
    "    P = [ρz ρzh ρzx ρzg;\n",
    "    ρhz ρh ρhx ρhg ;\n",
    "    ρxz ρxh ρx ρxg ;\n",
    "    ρgz ρgh ρgx ρg]\n",
    "\n",
    "    Q = [σz σzh σzx σzg;\n",
    "    σzh σh σhx σhg ;\n",
    "    σzx σhx σx σxg ;\n",
    "    σzg σhg σxg σg]\n",
    "\n",
    "    steadystates = gss,τxss,τhss,zss\n",
    "    params_calibrated = [δ,θ,β,σ,ψ,γn,γz]\n",
    "\n",
    "\n",
    "    A,B,C = State_Space(params_calibrated,steadystates, P,Q)\n",
    "    X, a, Ω = KalmanFilter(Y,A,B,C)\n",
    "    L = -likelihood(Y,Ω,a)\n",
    "    return L\n",
    "end"
   ]
  },
  {
   "cell_type": "code",
   "execution_count": 20,
   "metadata": {},
   "outputs": [
    {
     "data": {
      "text/plain": [
       "26-element Array{Float64,1}:\n",
       " 0.25\n",
       " 0.5 \n",
       " 0.75\n",
       " 0.95\n",
       " 0.0 \n",
       " 0.0 \n",
       " 0.0 \n",
       " 0.0 \n",
       " 0.0 \n",
       " 0.0 \n",
       " 0.0 \n",
       " 0.0 \n",
       " 0.0 \n",
       " 0.0 \n",
       " 0.0 \n",
       " 0.0 \n",
       " 0.04\n",
       " 0.02\n",
       " 0.05\n",
       " 0.03\n",
       " 0.0 \n",
       " 0.0 \n",
       " 0.0 \n",
       " 0.0 \n",
       " 0.0 \n",
       " 0.0 "
      ]
     },
     "execution_count": 20,
     "metadata": {},
     "output_type": "execute_result"
    }
   ],
   "source": [
    "original = [ ρg,ρx,ρh,ρz,ρzg,ρzx,ρzh,ρhz,ρhx,ρhg,ρxz,ρxh,ρxg,ρgz,ρgx,ρgh,σg,σx,σz,σh,σzg,σzx,σzh,σhx,σhg,σxg]"
   ]
  },
  {
   "cell_type": "code",
   "execution_count": 21,
   "metadata": {},
   "outputs": [
    {
     "data": {
      "text/plain": [
       "26-element Array{Float64,1}:\n",
       "  0.25004981360031103   \n",
       "  0.6119478860387452    \n",
       "  0.7639511650799191    \n",
       "  0.9506382987977844    \n",
       "  0.011444298587707043  \n",
       "  0.05576119548843076   \n",
       " -0.017117135923860924  \n",
       "  0.11764568705420364   \n",
       " -0.23370018286402613   \n",
       "  0.11113444851509129   \n",
       " -0.08785411725096931   \n",
       "  0.11430128828900515   \n",
       " -0.012876737753601273  \n",
       "  0.10185922945730956   \n",
       " -0.12333296914003349   \n",
       "  0.0858541414221549    \n",
       "  0.029484599362833434  \n",
       "  0.03336868072155079   \n",
       "  0.049999999999999996  \n",
       "  0.0036634851089904883 \n",
       "  1.6339378666581182e-36\n",
       "  0.012688886388084391  \n",
       "  0.022404835517535148  \n",
       "  0.006290960682810969  \n",
       "  0.043483347234460595  \n",
       "  6.2477573278445315e-19"
      ]
     },
     "execution_count": 21,
     "metadata": {},
     "output_type": "execute_result"
    }
   ],
   "source": [
    "Random.seed!(0403);\n",
    "initial = original .+ randn(length(original))*0.1\n",
    "\n",
    "\n",
    "#Solver Stuff\n",
    "inner_optimizer = LBFGS() #LBFGS()  # SimulatedAnnealing() #NelderMead() ConjugateGradient()\n",
    "\n",
    "\n",
    "#Defining lower and upper bounds for estimator\n",
    "lower=zeros(length(initial))\n",
    "\n",
    "upper = ones(length(initial))\n",
    "if length(initial) == 8\n",
    "    upper[5:8] = 0.05 *ones(4)\n",
    "end\n",
    "if length(initial)>16\n",
    "    upper[17:26] = 0.05.*ones(10)\n",
    "    lower[5:16] = -1*ones(12)\n",
    "end\n",
    "if length(initial) == 30\n",
    "    upper[27:30] = 0.1 * ones(4)\n",
    "    lower[30] = -100 #z lower bound (in logs)\n",
    "    lower[27] = -100 #g lower bound (in logs)\n",
    "end\n",
    "#making sure that the initial guess is within the bounds\n",
    "initial = min.(upper.*0.99,initial)\n",
    "initial = max.(lower.+0.0001,initial)\n",
    "\n",
    "\n",
    "bla = optimize(maxloglikelihood,lower,upper, initial,Fminbox(inner_optimizer),Optim.Options(show_trace = false, show_every = 5,iterations =500, time_limit = 60*60*1.0))\n",
    "\n",
    "estimates = bla.minimizer"
   ]
  },
  {
   "cell_type": "markdown",
   "metadata": {},
   "source": [
    "The estimates are fair:"
   ]
  },
  {
   "cell_type": "code",
   "execution_count": 22,
   "metadata": {},
   "outputs": [
    {
     "data": {
      "text/plain": [
       "26-element Array{Float64,1}:\n",
       " 4.981360031103277e-5  \n",
       " 0.11194788603874517   \n",
       " 0.013951165079919114  \n",
       " 0.0006382987977844312 \n",
       " 0.011444298587707043  \n",
       " 0.05576119548843076   \n",
       " 0.017117135923860924  \n",
       " 0.11764568705420364   \n",
       " 0.23370018286402613   \n",
       " 0.11113444851509129   \n",
       " 0.08785411725096931   \n",
       " 0.11430128828900515   \n",
       " 0.012876737753601273  \n",
       " 0.10185922945730956   \n",
       " 0.12333296914003349   \n",
       " 0.0858541414221549    \n",
       " 0.010515400637166567  \n",
       " 0.013368680721550789  \n",
       " 6.938893903907228e-18 \n",
       " 0.02633651489100951   \n",
       " 1.6339378666581182e-36\n",
       " 0.012688886388084391  \n",
       " 0.022404835517535148  \n",
       " 0.006290960682810969  \n",
       " 0.043483347234460595  \n",
       " 6.2477573278445315e-19"
      ]
     },
     "execution_count": 22,
     "metadata": {},
     "output_type": "execute_result"
    }
   ],
   "source": [
    "abs.(estimates - original)"
   ]
  },
  {
   "cell_type": "markdown",
   "metadata": {},
   "source": [
    "Now, estimating all the 30 parameters:"
   ]
  },
  {
   "cell_type": "code",
   "execution_count": 23,
   "metadata": {},
   "outputs": [
    {
     "data": {
      "text/plain": [
       "maxloglikelihood (generic function with 1 method)"
      ]
     },
     "execution_count": 23,
     "metadata": {},
     "output_type": "execute_result"
    }
   ],
   "source": [
    "function maxloglikelihood(vector::Vector;Y=Y)\n",
    "    #ρg,ρx,ρh,ρz,σg,σx,σz,σh=vector\n",
    "    #ρg,ρx,ρh,ρz=vector\n",
    "    ρg,ρx,ρh,ρz,ρzg,ρzx,ρzh,ρhz,ρhx,ρhg,ρxz,ρxh,ρxg,ρgz,ρgx,ρgh,σg,σx,σz,σh,σzg,σzx,σzh,σhx,σhg,σxg,gss,τxss,τhss,zss = vector\n",
    "    #ρg,ρx,ρh,ρz,ρzg,ρzx,ρzh,ρhz,ρhx,ρhg,ρxz,ρxh,ρxg,ρgz,ρgx,ρgh,σg,σx,σz,σh,σzg,σzx,σzh,σhx,σhg,σxg = vector\n",
    "\n",
    "    #In matrix form\n",
    "    P = [ρz ρzh ρzx ρzg;\n",
    "    ρhz ρh ρhx ρhg ;\n",
    "    ρxz ρxh ρx ρxg ;\n",
    "    ρgz ρgh ρgx ρg]\n",
    "\n",
    "    Q = [σz σzh σzx σzg;\n",
    "    σzh σh σhx σhg ;\n",
    "    σzx σhx σx σxg ;\n",
    "    σzg σhg σxg σg]\n",
    "\n",
    "    steadystates = gss,τxss,τhss,zss\n",
    "    params_calibrated = [δ,θ,β,σ,ψ,γn,γz]\n",
    "\n",
    "\n",
    "    A,B,C = State_Space(params_calibrated,steadystates, P,Q)\n",
    "    X, a, Ω = KalmanFilter(Y,A,B,C)\n",
    "    L = -likelihood(Y,Ω,a)\n",
    "    return L\n",
    "end"
   ]
  },
  {
   "cell_type": "code",
   "execution_count": 24,
   "metadata": {},
   "outputs": [
    {
     "data": {
      "text/plain": [
       "30-element Array{Float64,1}:\n",
       "  0.25             \n",
       "  0.5              \n",
       "  0.75             \n",
       "  0.95             \n",
       "  0.0              \n",
       "  0.0              \n",
       "  0.0              \n",
       "  0.0              \n",
       "  0.0              \n",
       "  0.0              \n",
       "  0.0              \n",
       "  0.0              \n",
       "  0.0              \n",
       "  ⋮                \n",
       "  0.05             \n",
       "  0.03             \n",
       "  0.0              \n",
       "  0.0              \n",
       "  0.0              \n",
       "  0.0              \n",
       "  0.0              \n",
       "  0.0              \n",
       " -4.605170185988091\n",
       "  0.05             \n",
       "  0.02             \n",
       "  0.0              "
      ]
     },
     "execution_count": 24,
     "metadata": {},
     "output_type": "execute_result"
    }
   ],
   "source": [
    "original = [ρg,ρx,ρh,ρz,ρzg,ρzx,ρzh,ρhz,ρhx,ρhg,ρxz,ρxh,ρxg,ρgz,ρgx,ρgh,σg,σx,σz,σh,σzg,σzx,σzh,σhx,σhg,σxg,gss,τxss,τhss,zss]"
   ]
  },
  {
   "cell_type": "code",
   "execution_count": 50,
   "metadata": {},
   "outputs": [
    {
     "data": {
      "text/plain": [
       "30-element Array{Float64,1}:\n",
       " 0.23458479993061035 \n",
       " 0.5678849858354607  \n",
       " 0.862802382879533   \n",
       " 0.9413605924116085  \n",
       " 0.011125261229633976\n",
       " 0.01930161271701283 \n",
       " 0.05701926983293695 \n",
       " 0.0581104673587666  \n",
       " 0.026201587810213447\n",
       " 0.021593911130818322\n",
       " 0.06235392073267465 \n",
       " 0.019416111657118408\n",
       " 0.034479030365372525\n",
       " ⋮                   \n",
       " 0.049473589356940954\n",
       " 0.04436101493252862 \n",
       " 0.008017049274599453\n",
       " 0.04196324870359334 \n",
       " 0.02952264473991304 \n",
       " 0.03195890394044503 \n",
       " 0.0495              \n",
       " 0.036869154219666814\n",
       " 0.06664033452126294 \n",
       " 0.051123460396011414\n",
       " 0.07979389747099147 \n",
       " 0.015265707241105476"
      ]
     },
     "execution_count": 50,
     "metadata": {},
     "output_type": "execute_result"
    }
   ],
   "source": [
    "Random.seed!(0403);\n",
    "initial = original .+ randn(length(original))*0.1\n",
    "initial[5:30] = 0*original[5:30] .+rand(length(original[5:30]))*0.1\n",
    "\n",
    "\n",
    "\n",
    "#Solver Stuff\n",
    "\n",
    "inner_optimizer = LBFGS( ) #LBFGS()  # SimulatedAnnealing() #NelderMead() ConjugateGradient()\n",
    "\n",
    "\n",
    "#Defining lower and upper bounds for estimator\n",
    "lower=zeros(length(initial))\n",
    "\n",
    "upper = ones(length(initial))\n",
    "if length(initial) == 8\n",
    "    upper[5:8] = 0.05 *ones(4)\n",
    "end\n",
    "if length(initial)>16\n",
    "    upper[17:26] = 0.05.*ones(10)\n",
    "    lower[5:16] = -1*ones(12)\n",
    "end\n",
    "if length(initial) == 30\n",
    "    upper[27:30] = 0.1 * ones(4)\n",
    "    lower[30] = -100 #z lower bound (in logs)\n",
    "    lower[27] = -100 #g lower bound (in logs)\n",
    "end\n",
    "#making sure that the initial guess is within the bounds\n",
    "initial = min.(upper.*0.99,initial)\n",
    "initial = max.(lower.+0.0001,initial)\n",
    "\n",
    "\n",
    "bla = optimize(maxloglikelihood,lower,upper, initial,Fminbox(inner_optimizer),Optim.Options(show_trace = false, show_every = 5,iterations =500, time_limit = 60*60*1.0))\n",
    "\n",
    "estimates = bla.minimizer"
   ]
  },
  {
   "cell_type": "markdown",
   "metadata": {},
   "source": [
    "Assessing the accuracy:"
   ]
  },
  {
   "cell_type": "code",
   "execution_count": 51,
   "metadata": {},
   "outputs": [
    {
     "data": {
      "text/plain": [
       "30-element Array{Float64,1}:\n",
       " 0.01541520006938965  \n",
       " 0.06788498583546065  \n",
       " 0.11280238287953304  \n",
       " 0.008639407588391435 \n",
       " 0.011125261229633976 \n",
       " 0.01930161271701283  \n",
       " 0.05701926983293695  \n",
       " 0.0581104673587666   \n",
       " 0.026201587810213447 \n",
       " 0.021593911130818322 \n",
       " 0.06235392073267465  \n",
       " 0.019416111657118408 \n",
       " 0.034479030365372525 \n",
       " ⋮                    \n",
       " 0.0005264106430590484\n",
       " 0.014361014932528622 \n",
       " 0.008017049274599453 \n",
       " 0.04196324870359334  \n",
       " 0.02952264473991304  \n",
       " 0.03195890394044503  \n",
       " 0.0495               \n",
       " 0.036869154219666814 \n",
       " 4.671810520509354    \n",
       " 0.001123460396011411 \n",
       " 0.05979389747099147  \n",
       " 0.015265707241105476 "
      ]
     },
     "execution_count": 51,
     "metadata": {},
     "output_type": "execute_result"
    }
   ],
   "source": [
    "abs.(estimates - original)"
   ]
  },
  {
   "cell_type": "markdown",
   "metadata": {},
   "source": [
    "Although my maximization algorithm works, it is extremely sensible to initial conditions. I was assuming that my initial guesses were normally distributed around the Steady States. I had to decrease the dispersion while I increased the number of estimated parameters since it was common to the optimizer to converge to a local minimum, but the main issue is that with some weird parameters combinations the model is not well defined (explosive procesess and non-invertible matrices) returning errors. "
   ]
  }
 ],
 "metadata": {
  "kernelspec": {
   "display_name": "Julia 1.0.3",
   "language": "julia",
   "name": "julia-1.0"
  },
  "language_info": {
   "file_extension": ".jl",
   "mimetype": "application/julia",
   "name": "julia",
   "version": "1.0.3"
  }
 },
 "nbformat": 4,
 "nbformat_minor": 2
}
