{
 "cells": [
  {
   "cell_type": "markdown",
   "metadata": {},
   "source": [
    "# ECON 8185 - HW 3"
   ]
  },
  {
   "cell_type": "markdown",
   "metadata": {},
   "source": [
    "João Lazzaro - santo279@umn.edu"
   ]
  },
  {
   "cell_type": "markdown",
   "metadata": {},
   "source": [
    "## Question 1"
   ]
  },
  {
   "cell_type": "markdown",
   "metadata": {},
   "source": [
    "In this question we were asked to write a code to compute the MLE estimator for the parameters of HW2 model: "
   ]
  },
  {
   "cell_type": "markdown",
   "metadata": {},
   "source": [
    "$$\\max_{c_t,x_t,l_t} E \\sum_{t=0}^\\infty \\beta^t \\frac{\\left(c_tl_t^\\psi\\right)^{1-\\sigma}}{1-\\sigma} N_t$$\n",
    "S.T. \n",
    "$$ c_t +(1+\\tau_{xt})x_t =r_t k_t +(1-\\tau_{ht})w_t h_t + T_t$$\n",
    "$$ N_{t+1} k_{t+1} = [(1-\\delta)k_t+x_t]N_t$$\n",
    "$$h_t+l_t =1$$\n",
    "$$S_t = P S_{t-1}+Q\\epsilon_t,\\;\\;S_t = [\\ln z_t,\\tau_{ht},\\tau_{xt}, \\ln g_t]$$\n",
    "$$ c_t,x_t\\geq0$$\n",
    "\n",
    "Where $N_t = (1+\\gamma_n)^t$ and firm tecnhology is $Y_t = K_t^\\theta (Z_t L_t)^{1-\\theta}$. $\\gamma_z$ is the rate of labor-augmenting technical progress. The stochastic shocks hitting this economy affect technology, tax rates, and government spending and the stochastic processes are modeled as a VAR(1) process. The resource constraint is $Y_t=N_t(c_t +x_t +g_t)$. We must work with detrended variables, we should use \"hat\" variables, but typing this is time consuming so from now on all variables should be understood as detrended unless I say something about them."
   ]
  },
  {
   "cell_type": "markdown",
   "metadata": {},
   "source": [
    "Let's first define some parameters for this model:"
   ]
  },
  {
   "cell_type": "code",
   "execution_count": null,
   "metadata": {},
   "outputs": [],
   "source": [
    "Threads.nthreads()"
   ]
  },
  {
   "cell_type": "code",
   "execution_count": 1,
   "metadata": {},
   "outputs": [
    {
     "data": {
      "text/plain": [
       "0.0"
      ]
     },
     "execution_count": 1,
     "metadata": {},
     "output_type": "execute_result"
    }
   ],
   "source": [
    "using NLsolve, ForwardDiff, LinearAlgebra, Random, JLD2,FileIO\n",
    "using Optim, Statistics, NLSolversBase,LaTeXStrings, Plots\n",
    "\n",
    "#Parameters:\n",
    "δ = 0.0464   #depreciation rate\n",
    "θ = 1/3  #capital share of output\n",
    "β = 0.9  #Discouting\n",
    "σ = 2  #Elasticity of Intertemporal Substitution\n",
    "ψ = 1    #Labor parameter\n",
    "γn= 0.00    #Population growth rate\n",
    "γz= 0.00   #Productivitu growth rate"
   ]
  },
  {
   "cell_type": "markdown",
   "metadata": {},
   "source": [
    "We'll assume, for now, that matrices P and Q are the following:"
   ]
  },
  {
   "cell_type": "code",
   "execution_count": 2,
   "metadata": {},
   "outputs": [
    {
     "data": {
      "text/plain": [
       "([0.9 0.0 0.0 0.0; 0.0 0.5 0.0 0.0; 0.0 0.0 0.5 0.0; 0.0 0.4 0.4 0.8], [0.05 0.0 0.0 0.0; 0.0 0.01 0.0 0.004; 0.0 0.0 0.01 0.004; 0.0 0.004 0.004 0.02])"
      ]
     },
     "execution_count": 2,
     "metadata": {},
     "output_type": "execute_result"
    }
   ],
   "source": [
    "#Parameters to be estimated and here used in our simulated example\n",
    "gss = log(0.01) #average g (in logs)\n",
    "τxss = 0.05 #average τx\n",
    "τhss = 0.02 #average τh\n",
    "zss = log(1) #average z (z is in logs)\n",
    "\n",
    "#Parameters to be estimated\n",
    "ρg = 0.8\n",
    "ρx = 0.5\n",
    "ρh = 0.5\n",
    "ρz = 0.9\n",
    "ρzg= 0.0\n",
    "ρzx = 0.0\n",
    "ρzh = 0.0\n",
    "ρhz = 0.0\n",
    "ρhx = 0.0\n",
    "ρhg = 0.0\n",
    "ρxz = 0.0\n",
    "ρxh = 0.0\n",
    "ρxg = 0.0\n",
    "ρgz = 0.0\n",
    "ρgx = 0.4\n",
    "ρgh = 0.4\n",
    "\n",
    "σg= 0.02\n",
    "σx = 0.01\n",
    "σz = 0.05\n",
    "σh = 0.01\n",
    "σzg= 0.0\n",
    "σzx = 0.00\n",
    "σzh = 0.00\n",
    "σhx = 0.00\n",
    "σhg = 0.004\n",
    "σxg = 0.004\n",
    "\n",
    "#In matrix form\n",
    "P = [ρz ρzh ρzx ρzg;\n",
    "ρhz ρh ρhx ρhg ;\n",
    "ρxz ρxh ρx ρxg ;\n",
    "ρgz ρgh ρgx ρg]\n",
    "Q = [σz σzh σzx σzg;\n",
    "σzh σh σhx σhg ;\n",
    "σzx σhx σx σxg ;\n",
    "σzg σhg σxg σg]\n",
    "P,Q"
   ]
  },
  {
   "cell_type": "markdown",
   "metadata": {},
   "source": [
    "In HW2, I describe how to approximate and write the model in the state space form:\n",
    "$$ X_{t+1} = AX_t + B \\varepsilon_{t+1}$$\n",
    "$$Y_t = CX_t+\\omega_t$$\n",
    "Where, $X_t = [k_t,S_t],S_t=[z_t,\\tau_{ht},\\tau_{xt},g_t]$, $Y_t = [y_t,x_t,h_t]$ and as before:\n",
    "$$S_{t+1} = P S_t +Q \\varepsilon_{t+1}$$"
   ]
  },
  {
   "cell_type": "markdown",
   "metadata": {},
   "source": [
    "The function below, defined in HW2, finds Matrices $A,B$ and $C$, given pthe parameters:"
   ]
  },
  {
   "cell_type": "code",
   "execution_count": 3,
   "metadata": {},
   "outputs": [
    {
     "data": {
      "text/plain": [
       "([0.837775 0.135621 … -0.00413272 -0.000178255; 0.0 0.9 … 0.0 0.0; … ; 0.0 0.0 … 0.5 0.0; 0.0 0.0 … 0.4 0.8], [0.0 0.0 … 0.0 0.0; 0.0 0.05 … 0.0 0.0; … ; 0.0 0.0 … 0.01 0.004; 0.0 0.0 … 0.004 0.02], [0.462735 0.749104 … -0.00343496 0.00671295; -2.49623 2.92287 … -0.0890666 -0.00384172; 0.1941 0.123655 … -0.00515238 0.0100694; 0.0 0.0 … 0.0 1.0])"
      ]
     },
     "execution_count": 3,
     "metadata": {},
     "output_type": "execute_result"
    }
   ],
   "source": [
    "include(\"State_Space.jl\")\n",
    "\n",
    "params_calibrated = [δ,θ,β,σ,ψ,γn,γz,]\n",
    "steadystates = [gss,τxss,τhss,zss]\n",
    "\n",
    "A,B,C = State_Space(params_calibrated,steadystates, P,Q)"
   ]
  },
  {
   "cell_type": "markdown",
   "metadata": {},
   "source": [
    "Given the model we simulate some data:"
   ]
  },
  {
   "cell_type": "code",
   "execution_count": 4,
   "metadata": {},
   "outputs": [
    {
     "data": {
      "image/svg+xml": [
       "<?xml version=\"1.0\" encoding=\"utf-8\"?>\n",
       "<svg xmlns=\"http://www.w3.org/2000/svg\" xmlns:xlink=\"http://www.w3.org/1999/xlink\" width=\"600\" height=\"400\" viewBox=\"0 0 2400 1600\">\n",
       "<defs>\n",
       "  <clipPath id=\"clip3600\">\n",
       "    <rect x=\"0\" y=\"0\" width=\"2000\" height=\"2000\"/>\n",
       "  </clipPath>\n",
       "</defs>\n",
       "<defs>\n",
       "  <clipPath id=\"clip3601\">\n",
       "    <rect x=\"0\" y=\"0\" width=\"2400\" height=\"1600\"/>\n",
       "  </clipPath>\n",
       "</defs>\n",
       "<polygon clip-path=\"url(#clip3601)\" points=\"\n",
       "0,1600 2400,1600 2400,0 0,0 \n",
       "  \" fill=\"#ffffff\" fill-rule=\"evenodd\" fill-opacity=\"1\"/>\n",
       "<defs>\n",
       "  <clipPath id=\"clip3602\">\n",
       "    <rect x=\"480\" y=\"0\" width=\"1681\" height=\"1600\"/>\n",
       "  </clipPath>\n",
       "</defs>\n",
       "<polygon clip-path=\"url(#clip3601)\" points=\"\n",
       "189.504,1503.47 2321.26,1503.47 2321.26,125.984 189.504,125.984 \n",
       "  \" fill=\"#ffffff\" fill-rule=\"evenodd\" fill-opacity=\"1\"/>\n",
       "<defs>\n",
       "  <clipPath id=\"clip3603\">\n",
       "    <rect x=\"189\" y=\"125\" width=\"2133\" height=\"1378\"/>\n",
       "  </clipPath>\n",
       "</defs>\n",
       "<polyline clip-path=\"url(#clip3603)\" style=\"stroke:#000000; stroke-width:2; stroke-opacity:0.1; fill:none\" points=\"\n",
       "  229.523,1503.47 229.523,125.984 \n",
       "  \"/>\n",
       "<polyline clip-path=\"url(#clip3603)\" style=\"stroke:#000000; stroke-width:2; stroke-opacity:0.1; fill:none\" points=\"\n",
       "  737.374,1503.47 737.374,125.984 \n",
       "  \"/>\n",
       "<polyline clip-path=\"url(#clip3603)\" style=\"stroke:#000000; stroke-width:2; stroke-opacity:0.1; fill:none\" points=\"\n",
       "  1245.22,1503.47 1245.22,125.984 \n",
       "  \"/>\n",
       "<polyline clip-path=\"url(#clip3603)\" style=\"stroke:#000000; stroke-width:2; stroke-opacity:0.1; fill:none\" points=\"\n",
       "  1753.08,1503.47 1753.08,125.984 \n",
       "  \"/>\n",
       "<polyline clip-path=\"url(#clip3603)\" style=\"stroke:#000000; stroke-width:2; stroke-opacity:0.1; fill:none\" points=\"\n",
       "  2260.93,1503.47 2260.93,125.984 \n",
       "  \"/>\n",
       "<polyline clip-path=\"url(#clip3603)\" style=\"stroke:#000000; stroke-width:2; stroke-opacity:0.1; fill:none\" points=\"\n",
       "  189.504,1280.2 2321.26,1280.2 \n",
       "  \"/>\n",
       "<polyline clip-path=\"url(#clip3603)\" style=\"stroke:#000000; stroke-width:2; stroke-opacity:0.1; fill:none\" points=\"\n",
       "  189.504,1007.55 2321.26,1007.55 \n",
       "  \"/>\n",
       "<polyline clip-path=\"url(#clip3603)\" style=\"stroke:#000000; stroke-width:2; stroke-opacity:0.1; fill:none\" points=\"\n",
       "  189.504,734.903 2321.26,734.903 \n",
       "  \"/>\n",
       "<polyline clip-path=\"url(#clip3603)\" style=\"stroke:#000000; stroke-width:2; stroke-opacity:0.1; fill:none\" points=\"\n",
       "  189.504,462.257 2321.26,462.257 \n",
       "  \"/>\n",
       "<polyline clip-path=\"url(#clip3603)\" style=\"stroke:#000000; stroke-width:2; stroke-opacity:0.1; fill:none\" points=\"\n",
       "  189.504,189.611 2321.26,189.611 \n",
       "  \"/>\n",
       "<polyline clip-path=\"url(#clip3601)\" style=\"stroke:#000000; stroke-width:4; stroke-opacity:1; fill:none\" points=\"\n",
       "  189.504,1503.47 2321.26,1503.47 \n",
       "  \"/>\n",
       "<polyline clip-path=\"url(#clip3601)\" style=\"stroke:#000000; stroke-width:4; stroke-opacity:1; fill:none\" points=\"\n",
       "  189.504,1503.47 189.504,125.984 \n",
       "  \"/>\n",
       "<polyline clip-path=\"url(#clip3601)\" style=\"stroke:#000000; stroke-width:4; stroke-opacity:1; fill:none\" points=\"\n",
       "  229.523,1503.47 229.523,1482.81 \n",
       "  \"/>\n",
       "<polyline clip-path=\"url(#clip3601)\" style=\"stroke:#000000; stroke-width:4; stroke-opacity:1; fill:none\" points=\"\n",
       "  737.374,1503.47 737.374,1482.81 \n",
       "  \"/>\n",
       "<polyline clip-path=\"url(#clip3601)\" style=\"stroke:#000000; stroke-width:4; stroke-opacity:1; fill:none\" points=\"\n",
       "  1245.22,1503.47 1245.22,1482.81 \n",
       "  \"/>\n",
       "<polyline clip-path=\"url(#clip3601)\" style=\"stroke:#000000; stroke-width:4; stroke-opacity:1; fill:none\" points=\"\n",
       "  1753.08,1503.47 1753.08,1482.81 \n",
       "  \"/>\n",
       "<polyline clip-path=\"url(#clip3601)\" style=\"stroke:#000000; stroke-width:4; stroke-opacity:1; fill:none\" points=\"\n",
       "  2260.93,1503.47 2260.93,1482.81 \n",
       "  \"/>\n",
       "<polyline clip-path=\"url(#clip3601)\" style=\"stroke:#000000; stroke-width:4; stroke-opacity:1; fill:none\" points=\"\n",
       "  189.504,1280.2 221.48,1280.2 \n",
       "  \"/>\n",
       "<polyline clip-path=\"url(#clip3601)\" style=\"stroke:#000000; stroke-width:4; stroke-opacity:1; fill:none\" points=\"\n",
       "  189.504,1007.55 221.48,1007.55 \n",
       "  \"/>\n",
       "<polyline clip-path=\"url(#clip3601)\" style=\"stroke:#000000; stroke-width:4; stroke-opacity:1; fill:none\" points=\"\n",
       "  189.504,734.903 221.48,734.903 \n",
       "  \"/>\n",
       "<polyline clip-path=\"url(#clip3601)\" style=\"stroke:#000000; stroke-width:4; stroke-opacity:1; fill:none\" points=\"\n",
       "  189.504,462.257 221.48,462.257 \n",
       "  \"/>\n",
       "<polyline clip-path=\"url(#clip3601)\" style=\"stroke:#000000; stroke-width:4; stroke-opacity:1; fill:none\" points=\"\n",
       "  189.504,189.611 221.48,189.611 \n",
       "  \"/>\n",
       "<g clip-path=\"url(#clip3601)\">\n",
       "<text style=\"fill:#000000; fill-opacity:1; font-family:Arial,Helvetica Neue,Helvetica,sans-serif; font-size:48px; text-anchor:middle;\" transform=\"rotate(0, 229.523, 1557.47)\" x=\"229.523\" y=\"1557.47\">0</text>\n",
       "</g>\n",
       "<g clip-path=\"url(#clip3601)\">\n",
       "<text style=\"fill:#000000; fill-opacity:1; font-family:Arial,Helvetica Neue,Helvetica,sans-serif; font-size:48px; text-anchor:middle;\" transform=\"rotate(0, 737.374, 1557.47)\" x=\"737.374\" y=\"1557.47\">25</text>\n",
       "</g>\n",
       "<g clip-path=\"url(#clip3601)\">\n",
       "<text style=\"fill:#000000; fill-opacity:1; font-family:Arial,Helvetica Neue,Helvetica,sans-serif; font-size:48px; text-anchor:middle;\" transform=\"rotate(0, 1245.22, 1557.47)\" x=\"1245.22\" y=\"1557.47\">50</text>\n",
       "</g>\n",
       "<g clip-path=\"url(#clip3601)\">\n",
       "<text style=\"fill:#000000; fill-opacity:1; font-family:Arial,Helvetica Neue,Helvetica,sans-serif; font-size:48px; text-anchor:middle;\" transform=\"rotate(0, 1753.08, 1557.47)\" x=\"1753.08\" y=\"1557.47\">75</text>\n",
       "</g>\n",
       "<g clip-path=\"url(#clip3601)\">\n",
       "<text style=\"fill:#000000; fill-opacity:1; font-family:Arial,Helvetica Neue,Helvetica,sans-serif; font-size:48px; text-anchor:middle;\" transform=\"rotate(0, 2260.93, 1557.47)\" x=\"2260.93\" y=\"1557.47\">100</text>\n",
       "</g>\n",
       "<g clip-path=\"url(#clip3601)\">\n",
       "<text style=\"fill:#000000; fill-opacity:1; font-family:Arial,Helvetica Neue,Helvetica,sans-serif; font-size:48px; text-anchor:end;\" transform=\"rotate(0, 165.504, 1297.7)\" x=\"165.504\" y=\"1297.7\">-0.1</text>\n",
       "</g>\n",
       "<g clip-path=\"url(#clip3601)\">\n",
       "<text style=\"fill:#000000; fill-opacity:1; font-family:Arial,Helvetica Neue,Helvetica,sans-serif; font-size:48px; text-anchor:end;\" transform=\"rotate(0, 165.504, 1025.05)\" x=\"165.504\" y=\"1025.05\">0.0</text>\n",
       "</g>\n",
       "<g clip-path=\"url(#clip3601)\">\n",
       "<text style=\"fill:#000000; fill-opacity:1; font-family:Arial,Helvetica Neue,Helvetica,sans-serif; font-size:48px; text-anchor:end;\" transform=\"rotate(0, 165.504, 752.403)\" x=\"165.504\" y=\"752.403\">0.1</text>\n",
       "</g>\n",
       "<g clip-path=\"url(#clip3601)\">\n",
       "<text style=\"fill:#000000; fill-opacity:1; font-family:Arial,Helvetica Neue,Helvetica,sans-serif; font-size:48px; text-anchor:end;\" transform=\"rotate(0, 165.504, 479.757)\" x=\"165.504\" y=\"479.757\">0.2</text>\n",
       "</g>\n",
       "<g clip-path=\"url(#clip3601)\">\n",
       "<text style=\"fill:#000000; fill-opacity:1; font-family:Arial,Helvetica Neue,Helvetica,sans-serif; font-size:48px; text-anchor:end;\" transform=\"rotate(0, 165.504, 207.111)\" x=\"165.504\" y=\"207.111\">0.3</text>\n",
       "</g>\n",
       "<g clip-path=\"url(#clip3601)\">\n",
       "<text style=\"fill:#000000; fill-opacity:1; font-family:Arial,Helvetica Neue,Helvetica,sans-serif; font-size:84px; text-anchor:middle;\" transform=\"rotate(0, 1255.38, 73.2)\" x=\"1255.38\" y=\"73.2\">Wedges</text>\n",
       "</g>\n",
       "<polyline clip-path=\"url(#clip3603)\" style=\"stroke:#009af9; stroke-width:4; stroke-opacity:1; fill:none\" points=\"\n",
       "  249.837,1007.55 270.151,1231.44 290.465,1118.84 310.779,872.945 331.093,968.585 351.407,1167.57 371.721,1096.49 392.035,874.106 412.349,1076.87 432.663,1065.48 \n",
       "  452.977,1007.66 473.291,987.519 493.605,930.542 513.919,626.376 534.233,693.762 554.547,696.509 574.862,547.109 595.176,332.213 615.49,164.97 635.804,170.099 \n",
       "  656.118,379.02 676.432,253.449 696.746,187.804 717.06,289.421 737.374,466.137 757.688,522.095 778.002,718.977 798.316,744.916 818.63,770.437 838.944,704.495 \n",
       "  859.258,648.964 879.572,771.626 899.886,906.302 920.2,879.403 940.514,955.498 960.828,830.213 981.142,1151.64 1001.46,1166.69 1021.77,1181.96 1042.08,1103.28 \n",
       "  1062.4,1188.14 1082.71,1018.86 1103.03,1185.36 1123.34,1193.2 1143.65,985.601 1163.97,1110.79 1184.28,1276.07 1204.6,1304.25 1224.91,1197.19 1245.22,1307.29 \n",
       "  1265.54,1393.73 1285.85,1464.49 1306.17,1319.08 1326.48,1085.82 1346.8,1167.65 1367.11,1070.43 1387.42,1037.77 1407.74,932.926 1428.05,995.242 1448.37,1181.75 \n",
       "  1468.68,1229.99 1488.99,1132.57 1509.31,1122.85 1529.62,1196.17 1549.94,1262.49 1570.25,1263.9 1590.56,1266.53 1610.88,1108.45 1631.19,1009.65 1651.51,930.937 \n",
       "  1671.82,923.66 1692.13,1005.26 1712.45,1032.82 1732.76,736.967 1753.08,812.5 1773.39,977.505 1793.7,1089.68 1814.02,843.156 1834.33,700.631 1854.65,734.912 \n",
       "  1874.96,922.816 1895.27,580.395 1915.59,519.026 1935.9,735.132 1956.22,734.751 1976.53,777.162 1996.84,939.178 2017.16,703.054 2037.47,674.231 2057.79,601.739 \n",
       "  2078.1,761.913 2098.41,999.846 2118.73,1063.09 2139.04,990.217 2159.36,1122.94 2179.67,863.91 2199.99,1051.83 2220.3,1012.28 2240.61,692.772 2260.93,521.741 \n",
       "  \n",
       "  \"/>\n",
       "<polyline clip-path=\"url(#clip3603)\" style=\"stroke:#e26f46; stroke-width:4; stroke-opacity:1; fill:none\" points=\"\n",
       "  249.837,1007.55 270.151,994.654 290.465,1014.06 310.779,964.879 331.093,917.582 351.407,931.44 371.721,922.257 392.035,964.95 412.349,917.117 432.663,949.75 \n",
       "  452.977,951.188 473.291,991.221 493.605,985.822 513.919,1043 534.233,1004.5 554.547,999.753 574.862,1042.19 595.176,996.822 615.49,996.865 635.804,990.257 \n",
       "  656.118,999.227 676.432,983.947 696.746,957.819 717.06,942.705 737.374,962.002 757.688,999.489 778.002,934.842 798.316,985.991 818.63,975.557 838.944,1011.26 \n",
       "  859.258,1045.84 879.572,1018.21 899.886,1069.66 920.2,1106.38 940.514,1042.6 960.828,1030.31 981.142,1012.09 1001.46,999.413 1021.77,970.783 1042.08,992.493 \n",
       "  1062.4,978.404 1082.71,934.561 1103.03,1004.15 1123.34,1041.69 1143.65,967.265 1163.97,1017.44 1184.28,1013.36 1204.6,1034.04 1224.91,1017.79 1245.22,1046.13 \n",
       "  1265.54,1031.48 1285.85,1005.68 1306.17,1035.37 1326.48,970.875 1346.8,994.781 1367.11,983.389 1387.42,974.162 1407.74,992.362 1428.05,962.619 1448.37,1001.16 \n",
       "  1468.68,1009.24 1488.99,1016.59 1509.31,981.752 1529.62,1015.1 1549.94,1078.85 1570.25,1061.04 1590.56,1067.15 1610.88,1009.73 1631.19,1027.67 1651.51,1054.93 \n",
       "  1671.82,1059.25 1692.13,1055.47 1712.45,1046.09 1732.76,1037.97 1753.08,1027.59 1773.39,1022.23 1793.7,965.79 1814.02,1004 1834.33,1030.29 1854.65,977.542 \n",
       "  1874.96,971.477 1895.27,961.256 1915.59,1012.2 1935.9,1008.34 1956.22,1028.66 1976.53,1026.5 1996.84,1019.86 2017.16,981.096 2037.47,993.26 2057.79,1046 \n",
       "  2078.1,1017.4 2098.41,1002.57 2118.73,991.204 2139.04,973.436 2159.36,1020.47 2179.67,1036.11 2199.99,979.756 2220.3,952.687 2240.61,1020.55 2260.93,1009.94 \n",
       "  \n",
       "  \"/>\n",
       "<polyline clip-path=\"url(#clip3603)\" style=\"stroke:#3da44d; stroke-width:4; stroke-opacity:1; fill:none\" points=\"\n",
       "  249.837,1007.55 270.151,1056.43 290.465,1024.59 310.779,1005.64 331.093,959.006 351.407,987.24 371.721,948.697 392.035,1006.12 412.349,980.552 432.663,1016.53 \n",
       "  452.977,1059.54 473.291,1081.19 493.605,1035.3 513.919,1002.44 534.233,976.578 554.547,934.176 574.862,958.887 595.176,1029.3 615.49,970.012 635.804,1004.33 \n",
       "  656.118,1033.94 676.432,992.068 696.746,1028.84 717.06,1002.72 737.374,1008.95 757.688,998.725 778.002,997.848 798.316,1033.3 818.63,971.412 838.944,985.186 \n",
       "  859.258,959.348 879.572,987.236 899.886,1041.38 920.2,1047.37 940.514,1033.54 960.828,1041.13 981.142,1037.25 1001.46,1039.46 1021.77,1055.45 1042.08,1022.67 \n",
       "  1062.4,1013.62 1082.71,1025.96 1103.03,1060.98 1123.34,1058.74 1143.65,992.459 1163.97,1007.94 1184.28,997.689 1204.6,1007.15 1224.91,1035.35 1245.22,1028.27 \n",
       "  1265.54,1002.15 1285.85,957.589 1306.17,1010.64 1326.48,986.291 1346.8,967.85 1367.11,929.001 1387.42,1008.17 1407.74,1004.9 1428.05,1028.74 1448.37,1030.27 \n",
       "  1468.68,997.789 1488.99,970.453 1509.31,996.689 1529.62,1028.63 1549.94,1019.61 1570.25,989.504 1590.56,968.515 1610.88,979.556 1631.19,980.322 1651.51,1014.74 \n",
       "  1671.82,1065.74 1692.13,983.21 1712.45,964.727 1732.76,1024.13 1753.08,1034.93 1773.39,1040.06 1793.7,1031.69 1814.02,988.266 1834.33,1020.79 1854.65,1024.1 \n",
       "  1874.96,1010.69 1895.27,1014.18 1915.59,970.126 1935.9,1008.53 1956.22,1026.04 1976.53,964.338 1996.84,990.089 2017.16,938.719 2037.47,985.55 2057.79,1010.23 \n",
       "  2078.1,988.606 2098.41,1014.31 2118.73,992.361 2139.04,999.067 2159.36,1024.31 2179.67,1033.43 2199.99,983.916 2220.3,994.354 2240.61,1020.99 2260.93,963.695 \n",
       "  \n",
       "  \"/>\n",
       "<polyline clip-path=\"url(#clip3603)\" style=\"stroke:#c271d2; stroke-width:4; stroke-opacity:1; fill:none\" points=\"\n",
       "  249.837,1007.55 270.151,959.71 290.465,1039.96 310.779,1012.22 331.093,872.082 351.407,823.638 371.721,754.162 392.035,814.851 412.349,753.141 432.663,787.235 \n",
       "  452.977,888.43 473.291,941.978 493.605,898.905 513.919,965.406 534.233,1004.81 554.547,902.722 574.862,906.498 595.176,880.662 615.49,813.169 635.804,775.57 \n",
       "  656.118,864.764 676.432,892.946 696.746,955.099 717.06,943.618 737.374,892.398 757.688,944.195 778.002,892.302 798.316,967.222 818.63,924.885 838.944,879.313 \n",
       "  859.258,886.228 879.572,888.334 899.886,998.204 920.2,1166.46 940.514,1232.79 960.828,1254.16 981.142,1226.83 1001.46,1229.27 1021.77,1084.51 1042.08,1039.62 \n",
       "  1062.4,962.324 1082.71,1040.61 1103.03,1047.39 1123.34,1120.61 1143.65,1020.9 1163.97,1044.5 1184.28,1071.59 1204.6,1064.42 1224.91,1100.34 1245.22,1168.22 \n",
       "  1265.54,1116.15 1285.85,1035.56 1306.17,1019.55 1326.48,961.002 1346.8,891.853 1367.11,880.271 1387.42,854.277 1407.74,908.497 1428.05,932.733 1448.37,966.665 \n",
       "  1468.68,983.719 1488.99,969.399 1509.31,967.598 1529.62,998.096 1549.94,1115.83 1570.25,1089.75 1590.56,1058.35 1610.88,1030.17 1631.19,997.074 1651.51,1097.8 \n",
       "  1671.82,1205.18 1692.13,1262.67 1712.45,1191.87 1732.76,1153.8 1753.08,1175.96 1773.39,1221.94 1793.7,1141.88 1814.02,1056.75 1834.33,1075.29 1854.65,1011.08 \n",
       "  1874.96,989.74 1895.27,880.863 1915.59,902.221 1935.9,1016.64 1956.22,1116.59 1976.53,1025.32 1996.84,1003.92 2017.16,862.816 2037.47,832.88 2057.79,896.204 \n",
       "  2078.1,895.46 2098.41,862.267 2118.73,923.255 2139.04,868.086 2159.36,922.272 2179.67,1035.19 2199.99,999.567 2220.3,992.802 2240.61,974.544 2260.93,892.65 \n",
       "  \n",
       "  \"/>\n",
       "<polygon clip-path=\"url(#clip3601)\" points=\"\n",
       "1915.59,511.904 2249.26,511.904 2249.26,209.504 1915.59,209.504 \n",
       "  \" fill=\"#ffffff\" fill-rule=\"evenodd\" fill-opacity=\"1\"/>\n",
       "<polyline clip-path=\"url(#clip3601)\" style=\"stroke:#000000; stroke-width:4; stroke-opacity:1; fill:none\" points=\"\n",
       "  1915.59,511.904 2249.26,511.904 2249.26,209.504 1915.59,209.504 1915.59,511.904 \n",
       "  \"/>\n",
       "<polyline clip-path=\"url(#clip3601)\" style=\"stroke:#009af9; stroke-width:4; stroke-opacity:1; fill:none\" points=\"\n",
       "  1939.59,269.984 2083.59,269.984 \n",
       "  \"/>\n",
       "<g clip-path=\"url(#clip3601)\">\n",
       "<text style=\"fill:#000000; fill-opacity:1; font-family:Arial,Helvetica Neue,Helvetica,sans-serif; font-size:48px; text-anchor:start;\" transform=\"rotate(0, 2107.59, 287.484)\" x=\"2107.59\" y=\"287.484\">Z</text>\n",
       "</g>\n",
       "<polyline clip-path=\"url(#clip3601)\" style=\"stroke:#e26f46; stroke-width:4; stroke-opacity:1; fill:none\" points=\"\n",
       "  1939.59,330.464 2083.59,330.464 \n",
       "  \"/>\n",
       "<g clip-path=\"url(#clip3601)\">\n",
       "<text style=\"fill:#000000; fill-opacity:1; font-family:Arial,Helvetica Neue,Helvetica,sans-serif; font-size:48px; text-anchor:start;\" transform=\"rotate(0, 2107.59, 347.964)\" x=\"2107.59\" y=\"347.964\">tauh</text>\n",
       "</g>\n",
       "<polyline clip-path=\"url(#clip3601)\" style=\"stroke:#3da44d; stroke-width:4; stroke-opacity:1; fill:none\" points=\"\n",
       "  1939.59,390.944 2083.59,390.944 \n",
       "  \"/>\n",
       "<g clip-path=\"url(#clip3601)\">\n",
       "<text style=\"fill:#000000; fill-opacity:1; font-family:Arial,Helvetica Neue,Helvetica,sans-serif; font-size:48px; text-anchor:start;\" transform=\"rotate(0, 2107.59, 408.444)\" x=\"2107.59\" y=\"408.444\">taux</text>\n",
       "</g>\n",
       "<polyline clip-path=\"url(#clip3601)\" style=\"stroke:#c271d2; stroke-width:4; stroke-opacity:1; fill:none\" points=\"\n",
       "  1939.59,451.424 2083.59,451.424 \n",
       "  \"/>\n",
       "<g clip-path=\"url(#clip3601)\">\n",
       "<text style=\"fill:#000000; fill-opacity:1; font-family:Arial,Helvetica Neue,Helvetica,sans-serif; font-size:48px; text-anchor:start;\" transform=\"rotate(0, 2107.59, 468.924)\" x=\"2107.59\" y=\"468.924\">g</text>\n",
       "</g>\n",
       "</svg>\n"
      ]
     },
     "execution_count": 4,
     "metadata": {},
     "output_type": "execute_result"
    }
   ],
   "source": [
    "T=100\n",
    "X= zeros(5,T)\n",
    "Y = zeros(4,T)\n",
    "\n",
    "Random.seed!(0403);\n",
    "S = randn(5,T) #vector with shocks\n",
    "\n",
    "#Simulating data\n",
    "for t=1:T\n",
    "    if t>1\n",
    "    X[:,t] = A*X[:,t-1]+ B*S[:,t]\n",
    "    end\n",
    "    Y[:,t] = C*X[:,t]\n",
    "end\n",
    "plot([X[2,:],X[3,:],X[4,:],X[5,:]],title =\"Wedges\", labels = [\"Z\",\"tauh\",\"taux\",\"g\"])"
   ]
  },
  {
   "cell_type": "code",
   "execution_count": 5,
   "metadata": {},
   "outputs": [
    {
     "data": {
      "image/svg+xml": [
       "<?xml version=\"1.0\" encoding=\"utf-8\"?>\n",
       "<svg xmlns=\"http://www.w3.org/2000/svg\" xmlns:xlink=\"http://www.w3.org/1999/xlink\" width=\"600\" height=\"400\" viewBox=\"0 0 2400 1600\">\n",
       "<defs>\n",
       "  <clipPath id=\"clip3800\">\n",
       "    <rect x=\"0\" y=\"0\" width=\"2000\" height=\"2000\"/>\n",
       "  </clipPath>\n",
       "</defs>\n",
       "<defs>\n",
       "  <clipPath id=\"clip3801\">\n",
       "    <rect x=\"0\" y=\"0\" width=\"2400\" height=\"1600\"/>\n",
       "  </clipPath>\n",
       "</defs>\n",
       "<polygon clip-path=\"url(#clip3801)\" points=\"\n",
       "0,1600 2400,1600 2400,0 0,0 \n",
       "  \" fill=\"#ffffff\" fill-rule=\"evenodd\" fill-opacity=\"1\"/>\n",
       "<defs>\n",
       "  <clipPath id=\"clip3802\">\n",
       "    <rect x=\"480\" y=\"0\" width=\"1681\" height=\"1600\"/>\n",
       "  </clipPath>\n",
       "</defs>\n",
       "<polygon clip-path=\"url(#clip3801)\" points=\"\n",
       "189.504,1503.47 2321.26,1503.47 2321.26,125.984 189.504,125.984 \n",
       "  \" fill=\"#ffffff\" fill-rule=\"evenodd\" fill-opacity=\"1\"/>\n",
       "<defs>\n",
       "  <clipPath id=\"clip3803\">\n",
       "    <rect x=\"189\" y=\"125\" width=\"2133\" height=\"1378\"/>\n",
       "  </clipPath>\n",
       "</defs>\n",
       "<polyline clip-path=\"url(#clip3803)\" style=\"stroke:#000000; stroke-width:2; stroke-opacity:0.1; fill:none\" points=\"\n",
       "  229.523,1503.47 229.523,125.984 \n",
       "  \"/>\n",
       "<polyline clip-path=\"url(#clip3803)\" style=\"stroke:#000000; stroke-width:2; stroke-opacity:0.1; fill:none\" points=\"\n",
       "  737.374,1503.47 737.374,125.984 \n",
       "  \"/>\n",
       "<polyline clip-path=\"url(#clip3803)\" style=\"stroke:#000000; stroke-width:2; stroke-opacity:0.1; fill:none\" points=\"\n",
       "  1245.22,1503.47 1245.22,125.984 \n",
       "  \"/>\n",
       "<polyline clip-path=\"url(#clip3803)\" style=\"stroke:#000000; stroke-width:2; stroke-opacity:0.1; fill:none\" points=\"\n",
       "  1753.08,1503.47 1753.08,125.984 \n",
       "  \"/>\n",
       "<polyline clip-path=\"url(#clip3803)\" style=\"stroke:#000000; stroke-width:2; stroke-opacity:0.1; fill:none\" points=\"\n",
       "  2260.93,1503.47 2260.93,125.984 \n",
       "  \"/>\n",
       "<polyline clip-path=\"url(#clip3803)\" style=\"stroke:#000000; stroke-width:2; stroke-opacity:0.1; fill:none\" points=\"\n",
       "  189.504,1285.93 2321.26,1285.93 \n",
       "  \"/>\n",
       "<polyline clip-path=\"url(#clip3803)\" style=\"stroke:#000000; stroke-width:2; stroke-opacity:0.1; fill:none\" points=\"\n",
       "  189.504,1036.15 2321.26,1036.15 \n",
       "  \"/>\n",
       "<polyline clip-path=\"url(#clip3803)\" style=\"stroke:#000000; stroke-width:2; stroke-opacity:0.1; fill:none\" points=\"\n",
       "  189.504,786.375 2321.26,786.375 \n",
       "  \"/>\n",
       "<polyline clip-path=\"url(#clip3803)\" style=\"stroke:#000000; stroke-width:2; stroke-opacity:0.1; fill:none\" points=\"\n",
       "  189.504,536.598 2321.26,536.598 \n",
       "  \"/>\n",
       "<polyline clip-path=\"url(#clip3803)\" style=\"stroke:#000000; stroke-width:2; stroke-opacity:0.1; fill:none\" points=\"\n",
       "  189.504,286.821 2321.26,286.821 \n",
       "  \"/>\n",
       "<polyline clip-path=\"url(#clip3801)\" style=\"stroke:#000000; stroke-width:4; stroke-opacity:1; fill:none\" points=\"\n",
       "  189.504,1503.47 2321.26,1503.47 \n",
       "  \"/>\n",
       "<polyline clip-path=\"url(#clip3801)\" style=\"stroke:#000000; stroke-width:4; stroke-opacity:1; fill:none\" points=\"\n",
       "  189.504,1503.47 189.504,125.984 \n",
       "  \"/>\n",
       "<polyline clip-path=\"url(#clip3801)\" style=\"stroke:#000000; stroke-width:4; stroke-opacity:1; fill:none\" points=\"\n",
       "  229.523,1503.47 229.523,1482.81 \n",
       "  \"/>\n",
       "<polyline clip-path=\"url(#clip3801)\" style=\"stroke:#000000; stroke-width:4; stroke-opacity:1; fill:none\" points=\"\n",
       "  737.374,1503.47 737.374,1482.81 \n",
       "  \"/>\n",
       "<polyline clip-path=\"url(#clip3801)\" style=\"stroke:#000000; stroke-width:4; stroke-opacity:1; fill:none\" points=\"\n",
       "  1245.22,1503.47 1245.22,1482.81 \n",
       "  \"/>\n",
       "<polyline clip-path=\"url(#clip3801)\" style=\"stroke:#000000; stroke-width:4; stroke-opacity:1; fill:none\" points=\"\n",
       "  1753.08,1503.47 1753.08,1482.81 \n",
       "  \"/>\n",
       "<polyline clip-path=\"url(#clip3801)\" style=\"stroke:#000000; stroke-width:4; stroke-opacity:1; fill:none\" points=\"\n",
       "  2260.93,1503.47 2260.93,1482.81 \n",
       "  \"/>\n",
       "<polyline clip-path=\"url(#clip3801)\" style=\"stroke:#000000; stroke-width:4; stroke-opacity:1; fill:none\" points=\"\n",
       "  189.504,1285.93 221.48,1285.93 \n",
       "  \"/>\n",
       "<polyline clip-path=\"url(#clip3801)\" style=\"stroke:#000000; stroke-width:4; stroke-opacity:1; fill:none\" points=\"\n",
       "  189.504,1036.15 221.48,1036.15 \n",
       "  \"/>\n",
       "<polyline clip-path=\"url(#clip3801)\" style=\"stroke:#000000; stroke-width:4; stroke-opacity:1; fill:none\" points=\"\n",
       "  189.504,786.375 221.48,786.375 \n",
       "  \"/>\n",
       "<polyline clip-path=\"url(#clip3801)\" style=\"stroke:#000000; stroke-width:4; stroke-opacity:1; fill:none\" points=\"\n",
       "  189.504,536.598 221.48,536.598 \n",
       "  \"/>\n",
       "<polyline clip-path=\"url(#clip3801)\" style=\"stroke:#000000; stroke-width:4; stroke-opacity:1; fill:none\" points=\"\n",
       "  189.504,286.821 221.48,286.821 \n",
       "  \"/>\n",
       "<g clip-path=\"url(#clip3801)\">\n",
       "<text style=\"fill:#000000; fill-opacity:1; font-family:Arial,Helvetica Neue,Helvetica,sans-serif; font-size:48px; text-anchor:middle;\" transform=\"rotate(0, 229.523, 1557.47)\" x=\"229.523\" y=\"1557.47\">0</text>\n",
       "</g>\n",
       "<g clip-path=\"url(#clip3801)\">\n",
       "<text style=\"fill:#000000; fill-opacity:1; font-family:Arial,Helvetica Neue,Helvetica,sans-serif; font-size:48px; text-anchor:middle;\" transform=\"rotate(0, 737.374, 1557.47)\" x=\"737.374\" y=\"1557.47\">25</text>\n",
       "</g>\n",
       "<g clip-path=\"url(#clip3801)\">\n",
       "<text style=\"fill:#000000; fill-opacity:1; font-family:Arial,Helvetica Neue,Helvetica,sans-serif; font-size:48px; text-anchor:middle;\" transform=\"rotate(0, 1245.22, 1557.47)\" x=\"1245.22\" y=\"1557.47\">50</text>\n",
       "</g>\n",
       "<g clip-path=\"url(#clip3801)\">\n",
       "<text style=\"fill:#000000; fill-opacity:1; font-family:Arial,Helvetica Neue,Helvetica,sans-serif; font-size:48px; text-anchor:middle;\" transform=\"rotate(0, 1753.08, 1557.47)\" x=\"1753.08\" y=\"1557.47\">75</text>\n",
       "</g>\n",
       "<g clip-path=\"url(#clip3801)\">\n",
       "<text style=\"fill:#000000; fill-opacity:1; font-family:Arial,Helvetica Neue,Helvetica,sans-serif; font-size:48px; text-anchor:middle;\" transform=\"rotate(0, 2260.93, 1557.47)\" x=\"2260.93\" y=\"1557.47\">100</text>\n",
       "</g>\n",
       "<g clip-path=\"url(#clip3801)\">\n",
       "<text style=\"fill:#000000; fill-opacity:1; font-family:Arial,Helvetica Neue,Helvetica,sans-serif; font-size:48px; text-anchor:end;\" transform=\"rotate(0, 165.504, 1303.43)\" x=\"165.504\" y=\"1303.43\">-0.2</text>\n",
       "</g>\n",
       "<g clip-path=\"url(#clip3801)\">\n",
       "<text style=\"fill:#000000; fill-opacity:1; font-family:Arial,Helvetica Neue,Helvetica,sans-serif; font-size:48px; text-anchor:end;\" transform=\"rotate(0, 165.504, 1053.65)\" x=\"165.504\" y=\"1053.65\">0.0</text>\n",
       "</g>\n",
       "<g clip-path=\"url(#clip3801)\">\n",
       "<text style=\"fill:#000000; fill-opacity:1; font-family:Arial,Helvetica Neue,Helvetica,sans-serif; font-size:48px; text-anchor:end;\" transform=\"rotate(0, 165.504, 803.875)\" x=\"165.504\" y=\"803.875\">0.2</text>\n",
       "</g>\n",
       "<g clip-path=\"url(#clip3801)\">\n",
       "<text style=\"fill:#000000; fill-opacity:1; font-family:Arial,Helvetica Neue,Helvetica,sans-serif; font-size:48px; text-anchor:end;\" transform=\"rotate(0, 165.504, 554.098)\" x=\"165.504\" y=\"554.098\">0.4</text>\n",
       "</g>\n",
       "<g clip-path=\"url(#clip3801)\">\n",
       "<text style=\"fill:#000000; fill-opacity:1; font-family:Arial,Helvetica Neue,Helvetica,sans-serif; font-size:48px; text-anchor:end;\" transform=\"rotate(0, 165.504, 304.321)\" x=\"165.504\" y=\"304.321\">0.6</text>\n",
       "</g>\n",
       "<g clip-path=\"url(#clip3801)\">\n",
       "<text style=\"fill:#000000; fill-opacity:1; font-family:Arial,Helvetica Neue,Helvetica,sans-serif; font-size:84px; text-anchor:middle;\" transform=\"rotate(0, 1255.38, 73.2)\" x=\"1255.38\" y=\"73.2\">Endogenous Variables</text>\n",
       "</g>\n",
       "<polyline clip-path=\"url(#clip3803)\" style=\"stroke:#009af9; stroke-width:4; stroke-opacity:1; fill:none\" points=\"\n",
       "  249.837,1036.15 270.151,1036.15 290.465,1049.96 310.779,1054.61 331.093,1043.22 351.407,1039.68 371.721,1049.04 392.035,1052.53 412.349,1041.57 432.663,1044.99 \n",
       "  452.977,1047.11 473.291,1045.2 493.605,1042.34 513.919,1036.49 534.233,1012.8 554.547,997.15 574.862,984.296 595.176,964.234 615.49,933.907 635.804,898.228 \n",
       "  656.118,868.589 676.432,856.68 696.746,838.967 717.06,819.952 737.374,810.373 757.688,813.334 778.002,819.338 798.316,836.55 818.63,852.551 838.944,867.654 \n",
       "  859.258,876.217 879.572,880.02 899.886,890.749 920.2,908.036 940.514,920.854 960.828,936.287 981.142,941.406 1001.46,965.657 1021.77,986.894 1042.08,1005.59 \n",
       "  1062.4,1016.45 1082.71,1030.83 1103.03,1032.3 1123.34,1043.86 1143.65,1054.07 1163.97,1049.79 1184.28,1054 1204.6,1067.8 1224.91,1081.12 1245.22,1085.55 \n",
       "  1265.54,1096.14 1285.85,1110.42 1306.17,1126.85 1326.48,1131.51 1346.8,1120.91 1367.11,1117.18 1387.42,1108.08 1407.74,1098.27 1428.05,1083.56 1448.37,1075.03 \n",
       "  1468.68,1079.5 1488.99,1086.31 1509.31,1086.02 1529.62,1085.1 1549.94,1088.84 1570.25,1096.16 1590.56,1102.42 1610.88,1107.88 1631.19,1102.57 1651.51,1091.99 \n",
       "  1671.82,1078.19 1692.13,1066.08 1712.45,1061.15 1732.76,1058.76 1753.08,1038.27 1773.39,1025.76 1793.7,1025.51 1814.02,1032.25 1834.33,1022.7 1854.65,1005.8 \n",
       "  1874.96,993.731 1895.27,995.314 1915.59,975.362 1935.9,954.958 1956.22,951.205 1976.53,948.012 1996.84,948.095 2017.16,958.176 2037.47,952.029 2057.79,945.013 \n",
       "  2078.1,934.625 2098.41,935.888 2118.73,951.67 2139.04,968.847 2159.36,978.687 2179.67,995.164 2199.99,992.863 2220.3,1002.66 2240.61,1008.37 2260.93,993.306 \n",
       "  \n",
       "  \"/>\n",
       "<polyline clip-path=\"url(#clip3803)\" style=\"stroke:#e26f46; stroke-width:4; stroke-opacity:1; fill:none\" points=\"\n",
       "  249.837,1036.15 270.151,1333.77 290.465,1150.05 310.779,809.166 331.093,966.93 351.407,1241.36 371.721,1124.36 392.035,816.227 412.349,1115.36 432.663,1090.62 \n",
       "  452.977,1006.02 473.291,983.559 493.605,916.265 513.919,525.9 534.233,675.543 554.547,720.107 574.862,551.93 595.176,310.642 615.49,164.97 635.804,259.445 \n",
       "  656.118,611.945 676.432,474.93 696.746,429.174 717.06,613.499 737.374,874.196 757.688,942.73 778.002,1190.29 798.316,1181.41 818.63,1178.04 838.944,1052.22 \n",
       "  859.258,958.168 879.572,1111.26 899.886,1263.32 920.2,1184.28 940.514,1253.45 960.828,1046.62 981.142,1464.06 1001.46,1423.35 1021.77,1389.87 1042.08,1239.66 \n",
       "  1062.4,1326.41 1082.71,1062.44 1103.03,1281.51 1123.34,1263.79 1143.65,961.901 1163.97,1140.43 1184.28,1351.5 1204.6,1354.78 1224.91,1176.69 1245.22,1313.72 \n",
       "  1265.54,1403.91 1285.85,1464.49 1306.17,1227.21 1326.48,903.207 1346.8,1040.51 1367.11,921.056 1387.42,896.697 1407.74,781.178 1428.05,899.78 1448.37,1171.35 \n",
       "  1468.68,1226.23 1488.99,1080.08 1509.31,1066.08 1529.62,1165.81 1549.94,1246.57 1570.25,1231.14 1590.56,1220.04 1610.88,993.326 1631.19,874.68 1651.51,794.6 \n",
       "  1671.82,817.112 1692.13,959.803 1712.45,1009.71 1732.76,617.065 1753.08,768.683 1773.39,1020.44 1793.7,1170.69 1814.02,826.437 1834.33,658.575 1854.65,745.664 \n",
       "  1874.96,1027.84 1895.27,565.306 1915.59,535.635 1935.9,874.061 1956.22,882.401 1976.53,949.791 1996.84,1165.37 2017.16,825.705 2037.47,800.823 2057.79,721.122 \n",
       "  2078.1,961.866 2098.41,1276.01 2118.73,1321.87 2139.04,1180.92 2159.36,1333.78 2179.67,945.57 2199.99,1203.97 2220.3,1125.66 2240.61,683.82 2260.93,494.714 \n",
       "  \n",
       "  \"/>\n",
       "<polyline clip-path=\"url(#clip3803)\" style=\"stroke:#3da44d; stroke-width:4; stroke-opacity:1; fill:none\" points=\"\n",
       "  249.837,1036.15 270.151,1112.79 290.465,1080.79 310.779,998.637 331.093,1025.96 351.407,1092.37 371.721,1072.18 392.035,997.467 412.349,1061.95 432.663,1059.59 \n",
       "  452.977,1040.97 473.291,1033.19 493.605,1012.27 513.919,905.296 534.233,917.723 554.547,911.19 574.862,853.834 595.176,770.746 615.49,699.211 635.804,684.31 \n",
       "  656.118,742.486 676.432,694.082 696.746,663.565 717.06,689.681 737.374,745.666 757.688,766.31 778.002,836.664 798.316,853.564 818.63,869.722 838.944,853.824 \n",
       "  859.258,838.699 879.572,882.587 899.886,933.876 920.2,933.053 940.514,965.495 960.828,929.734 981.142,1042.37 1001.46,1058.79 1021.77,1073.47 1042.08,1054.98 \n",
       "  1062.4,1088.93 1082.71,1037.85 1103.03,1095.43 1123.34,1103.6 1143.65,1037.09 1163.97,1077.98 1184.28,1136.74 1204.6,1152.71 1224.91,1122.24 1245.22,1162.22 \n",
       "  1265.54,1196.7 1285.85,1227.48 1306.17,1184.98 1326.48,1107.12 1346.8,1130.05 1367.11,1095.02 1387.42,1079.43 1407.74,1039.03 1428.05,1053.73 1448.37,1113.77 \n",
       "  1468.68,1132.48 1488.99,1102.18 1509.31,1098.76 1529.62,1123.44 1549.94,1148.13 1570.25,1152.02 1590.56,1155.74 1610.88,1104.07 1631.19,1067.56 1651.51,1035.84 \n",
       "  1671.82,1027.2 1692.13,1049.91 1712.45,1056.92 1732.76,954.108 1753.08,970.622 1773.39,1021.6 1793.7,1059.9 1814.02,978.127 1834.33,924.737 1854.65,928.623 \n",
       "  1874.96,987.486 1895.27,870.409 1915.59,840.115 1935.9,905.129 1956.22,903.486 1976.53,916.383 1996.84,971.927 2017.16,895.322 2037.47,882.389 2057.79,854.279 \n",
       "  2078.1,904.543 2098.41,986.669 2118.73,1015.93 2139.04,998.738 2159.36,1048.83 2179.67,967.864 2199.99,1031.4 2220.3,1022.4 2240.61,915.125 2260.93,849.337 \n",
       "  \n",
       "  \"/>\n",
       "<polyline clip-path=\"url(#clip3803)\" style=\"stroke:#c271d2; stroke-width:4; stroke-opacity:1; fill:none\" points=\"\n",
       "  249.837,1036.15 270.151,1048.55 290.465,1045.22 310.779,1032.31 331.093,1035.17 351.407,1045.41 371.721,1043.01 392.035,1031.06 412.349,1040.39 432.663,1040.35 \n",
       "  452.977,1037.84 473.291,1036.36 493.605,1032.51 513.919,1014.3 534.233,1013.92 554.547,1010.69 574.862,999.513 595.176,983.348 615.49,967.817 635.804,960.955 \n",
       "  656.118,967.34 676.432,958.207 696.746,951.358 717.06,953.493 737.374,961.314 757.688,965.168 778.002,977.512 798.316,982.375 818.63,986.919 838.944,985.727 \n",
       "  859.258,984.195 879.572,991.938 899.886,1001.82 920.2,1004.26 940.514,1011.66 960.828,1007.69 981.142,1026.85 1001.46,1032.46 1021.77,1036.86 1042.08,1035.82 \n",
       "  1062.4,1042.45 1082.71,1036.17 1103.03,1045.55 1123.34,1048.42 1143.65,1038.65 1163.97,1044.78 1184.28,1055.12 1204.6,1059.26 1224.91,1055.94 1245.22,1063.25 \n",
       "  1265.54,1070.08 1285.85,1076.7 1306.17,1071.34 1326.48,1059.08 1346.8,1061.28 1367.11,1055.14 1387.42,1051.25 1407.74,1043.59 1428.05,1044.45 1448.37,1053.35 \n",
       "  1468.68,1057.07 1488.99,1052.84 1509.31,1052.31 1529.62,1056.21 1549.94,1061 1570.25,1062.52 1590.56,1063.77 1610.88,1055.95 1631.19,1049.1 1651.51,1042.86 \n",
       "  1671.82,1040.12 1692.13,1042.87 1712.45,1043.23 1732.76,1025.72 1753.08,1026.14 1773.39,1033.28 1793.7,1039.47 1814.02,1026.37 1834.33,1016.34 1854.65,1014.92 \n",
       "  1874.96,1023.18 1895.27,1003.62 1915.59,996.265 1935.9,1005 1956.22,1004.58 1976.53,1006.1 1996.84,1015.16 2017.16,1003.37 2037.47,1000.25 2057.79,994.799 \n",
       "  2078.1,1002.02 2098.41,1015.59 2118.73,1022.61 2139.04,1021.62 2159.36,1031.05 2179.67,1020.01 2199.99,1030.39 2220.3,1030.11 2240.61,1012.69 2260.93,999.882 \n",
       "  \n",
       "  \"/>\n",
       "<polygon clip-path=\"url(#clip3801)\" points=\"\n",
       "1977.15,511.904 2249.26,511.904 2249.26,209.504 1977.15,209.504 \n",
       "  \" fill=\"#ffffff\" fill-rule=\"evenodd\" fill-opacity=\"1\"/>\n",
       "<polyline clip-path=\"url(#clip3801)\" style=\"stroke:#000000; stroke-width:4; stroke-opacity:1; fill:none\" points=\"\n",
       "  1977.15,511.904 2249.26,511.904 2249.26,209.504 1977.15,209.504 1977.15,511.904 \n",
       "  \"/>\n",
       "<polyline clip-path=\"url(#clip3801)\" style=\"stroke:#009af9; stroke-width:4; stroke-opacity:1; fill:none\" points=\"\n",
       "  2001.15,269.984 2145.15,269.984 \n",
       "  \"/>\n",
       "<g clip-path=\"url(#clip3801)\">\n",
       "<text style=\"fill:#000000; fill-opacity:1; font-family:Arial,Helvetica Neue,Helvetica,sans-serif; font-size:48px; text-anchor:start;\" transform=\"rotate(0, 2169.15, 287.484)\" x=\"2169.15\" y=\"287.484\">K</text>\n",
       "</g>\n",
       "<polyline clip-path=\"url(#clip3801)\" style=\"stroke:#e26f46; stroke-width:4; stroke-opacity:1; fill:none\" points=\"\n",
       "  2001.15,330.464 2145.15,330.464 \n",
       "  \"/>\n",
       "<g clip-path=\"url(#clip3801)\">\n",
       "<text style=\"fill:#000000; fill-opacity:1; font-family:Arial,Helvetica Neue,Helvetica,sans-serif; font-size:48px; text-anchor:start;\" transform=\"rotate(0, 2169.15, 347.964)\" x=\"2169.15\" y=\"347.964\">X</text>\n",
       "</g>\n",
       "<polyline clip-path=\"url(#clip3801)\" style=\"stroke:#3da44d; stroke-width:4; stroke-opacity:1; fill:none\" points=\"\n",
       "  2001.15,390.944 2145.15,390.944 \n",
       "  \"/>\n",
       "<g clip-path=\"url(#clip3801)\">\n",
       "<text style=\"fill:#000000; fill-opacity:1; font-family:Arial,Helvetica Neue,Helvetica,sans-serif; font-size:48px; text-anchor:start;\" transform=\"rotate(0, 2169.15, 408.444)\" x=\"2169.15\" y=\"408.444\">Y</text>\n",
       "</g>\n",
       "<polyline clip-path=\"url(#clip3801)\" style=\"stroke:#c271d2; stroke-width:4; stroke-opacity:1; fill:none\" points=\"\n",
       "  2001.15,451.424 2145.15,451.424 \n",
       "  \"/>\n",
       "<g clip-path=\"url(#clip3801)\">\n",
       "<text style=\"fill:#000000; fill-opacity:1; font-family:Arial,Helvetica Neue,Helvetica,sans-serif; font-size:48px; text-anchor:start;\" transform=\"rotate(0, 2169.15, 468.924)\" x=\"2169.15\" y=\"468.924\">L</text>\n",
       "</g>\n",
       "</svg>\n"
      ]
     },
     "execution_count": 5,
     "metadata": {},
     "output_type": "execute_result"
    }
   ],
   "source": [
    "plot([X[1,:],Y[2,:],Y[1,:],Y[3,:]],title = \"Endogenous Variables\",labels = [\"K\",\"X\",\"Y\",\"L\"])"
   ]
  },
  {
   "cell_type": "markdown",
   "metadata": {},
   "source": [
    "Given the simulated data above, we want to build an algorithm to estimate the matrices P and Q (and the steady state values) such that we would have the same data generating process. To do that, we'll build a likelihood function using the Kalman Filter. We follow Ljunqvist & Sargent exposition of the Kalman filter. Assume for a slightly more general case that $\\omega_t$ is an iid vector sequence of normal random variances with mean zero and covariance matrix $R$ (In our case, $R=0$).  "
   ]
  },
  {
   "cell_type": "markdown",
   "metadata": {},
   "source": [
    "We observe $Y_t$ but not $X_t$. We want to estimate $\\hat{X}_t = E[X_t|Y^{t-1}]$ and also the covariances $\\Sigma_t = E[(X_t-\\hat{X}_t)(X_t-\\hat{X}_t)']$. The trick is to use the new information in $y_0$ relative to what we know ($\\hat{X}_0$):    $a_0:=Y_0-C\\hat{X}_0$. $a_t:=Y_t-C\\hat{X}_t$. Regressing the model: $$X_0-\\hat{X}_0 = L_0a_0+\\eta$$ We get that:\n",
    "$$L_0 = \\Sigma_0 C'\\left(C\\Sigma_0 C'+R\\right)^{-1} $$"
   ]
  },
  {
   "cell_type": "markdown",
   "metadata": {},
   "source": [
    "Defining $\\hat{X}_1 = E[X_1|Y_0] = A X_0$: \n",
    "$$X_1 = A\\hat{X}_0 + A\\left(X_0-\\hat{X}_0\\right) + B \\varepsilon_1$$"
   ]
  },
  {
   "cell_type": "markdown",
   "metadata": {},
   "source": [
    "Substituting the linear model and $L_0$:\n",
    "$$\\hat{X}_1 = A\\hat{X}_0 +K_0(Y_0 - C \\hat{X}_0) $$"
   ]
  },
  {
   "cell_type": "markdown",
   "metadata": {},
   "source": [
    "Where $K_0 = AL_0$ is the Kalman gain. Plugging these equations: $X_1-\\hat{X}_1 = A (X_0-\\hat{X}_0) +B \\varepsilon_1 - K_0(Y_0-C\\hat{X}_0)$ and we may compute a new variance matrix $\\Sigma_1 = E(X_1-\\hat{X}_1)(X_1-\\hat{X}_1)$:\n",
    "$$\\Sigma_1 = (A-K_0C)\\Sigma_0(A-K_0C)' + (BB'+K_0RK_0')$$\n"
   ]
  },
  {
   "cell_type": "markdown",
   "metadata": {},
   "source": [
    "Iterating the above steps we get te Kalman filter recursion:\n",
    "$$a_t = Y_t-C\\hat{X}_t$$\n",
    "$$K_t = A\\Sigma_tC'(C\\Sigma_tC'+R)^{-1}$$\n",
    "$$\\hat{X}_{t+1} = A\\hat{X}_t + K_t a_t$$\n",
    "$$\\Sigma_{t+1} = (A-K_tC)\\Sigma_t(A-K_tC)' + (BB'+K_tRK_t')$$"
   ]
  },
  {
   "cell_type": "markdown",
   "metadata": {},
   "source": [
    "The code below implements this recursion:"
   ]
  },
  {
   "cell_type": "code",
   "execution_count": 11,
   "metadata": {},
   "outputs": [
    {
     "data": {
      "text/plain": [
       "KalmanFilter (generic function with 1 method)"
      ]
     },
     "execution_count": 11,
     "metadata": {},
     "output_type": "execute_result"
    }
   ],
   "source": [
    "function KalmanFilter(Y,A,B,C)\n",
    "#Y: Observed variables\n",
    "\n",
    "\n",
    "n = size(A)[1] #number of state variables\n",
    "m = size(C)[1] #number of measurement variables\n",
    "T = size(Y)[2] #Sample size\n",
    "\n",
    "#Initializing the state variables\n",
    "X = zeros(n,T)\n",
    "#Variance initial guess\n",
    "Σ = ones(n,n)*ones(n,n)'\n",
    "d=10\n",
    "while d>10^(-15)\n",
    "    Σ1 = A*Σ*A' + B*B'\n",
    "    d = maximum(abs.(Σ-Σ1))\n",
    "    Σ=Σ1\n",
    "end\n",
    "\n",
    "#Run the Kalman filter algorithm (see Ljunqvist sargent)\n",
    "a=ones(m,T)\n",
    "Ω = C*Σ*C'\n",
    "Σhist = copy(Σ)\n",
    "for t = 1:T-1\n",
    "    a[:,t] = Y[:,t] - C*X[:,t]\n",
    "    K = A*Σ*C' / (C*Σ*C')\n",
    "    X[:,t+1] = A*X[:,t] +K*a[:,t]\n",
    "    Σ = B*B' + (A-K*C)*Σ*(A-K*C)'\n",
    "    Σhist = [Σhist Σ]\n",
    "    Ω = [Ω C*Σ*C']\n",
    "end\n",
    "a[:,T] = Y[:,T] - C*X[:,T]\n",
    "Ω = [Ω C*Σ*C']\n",
    "\n",
    "return X, a, Ω, Σhist\n",
    "end"
   ]
  },
  {
   "cell_type": "markdown",
   "metadata": {},
   "source": [
    "Note that we set, in the code above, the initial $\\Sigma_0$ such that $\\Sigma_0 = A\\Sigma_0A' +BB$. \n",
    "\n",
    "The innovations representation that emerges from the Kalman filter is: \n",
    "$$\\hat{X}_{t+1} = A\\hat{X}_t+K_t a_t$$\n",
    "$$Y_t = C \\hat{X}_t +a_t $$\n",
    "Define: $\\Omega_t :=E[a_ta'_t] = C \\Sigma_tC'+R$. We have that $E[Y_t|Y^{t-1}] = C\\hat{X}_t$ and the conditional distribution of $Y_t$ is $N(C\\hat{X}_t,\\Omega_t)$. Therefore, $C\\hat{X}_t,\\Omega_t$ are sufficient statistics for the conditional distribution of $Y_t$. Note that we can factor the likelihood function as:\n",
    "$$f(Y_T,...Y_0) = f(Y_T|Y^{T-1})f(Y_{T-1}|Y^{T-2})...f(Y_1|Y_0)f(Y_0)$$"
   ]
  },
  {
   "cell_type": "markdown",
   "metadata": {},
   "source": [
    "And the log of the conditional density of the $m \\times 1$ vector $Y_t$, ignoring constant terms, is:\n",
    "$$\\log f(Y_t|Y^{t-1}) =- 0.5 \\log(|\\Omega_t|) -0.5 a_t'\\Omega_t^{-1} a_t$$"
   ]
  },
  {
   "cell_type": "markdown",
   "metadata": {},
   "source": [
    "The code below builds the log conditional likelihood function using the method above:"
   ]
  },
  {
   "cell_type": "code",
   "execution_count": 3,
   "metadata": {},
   "outputs": [
    {
     "data": {
      "text/plain": [
       "likelihood (generic function with 1 method)"
      ]
     },
     "execution_count": 3,
     "metadata": {},
     "output_type": "execute_result"
    }
   ],
   "source": [
    "function likelihood(Y,Ω,a)\n",
    "    m,T = size(Y)\n",
    "    L = 0\n",
    "for t=1:T\n",
    "    iteration = t\n",
    "    L = L + (-0.5*log(det(Ω[:,m*t-(m-1):(m*t)])) -\n",
    "    0.5*a[:,t]'*(Ω[:,m*t-(m-1):(m*t)]\\a[:,t]))\n",
    "end\n",
    "return L\n",
    "end"
   ]
  },
  {
   "cell_type": "markdown",
   "metadata": {},
   "source": [
    "We can estimate parameters $\\theta$ given a vector of data $Y$ by maximizing the log likelihood function. I've tried to use standard Newton methods approach to do it but the results were poor since the Likelihood function often has multiple local maxima. I will try something different: the Expectation Maximization (EM) algorithm. I follow Shumway & Stoffer 4ed textbook for the EM algorithm."
   ]
  },
  {
   "cell_type": "markdown",
   "metadata": {},
   "source": [
    "Let $f(X,Y;\\theta)$ be the joint distribution under parameters $\\theta$. The EM algorithm is the following steps:\n",
    "\n",
    "Expectation Step: $$Q(\\theta,\\theta_t) = E_{\\theta_t}[\\log f(X,Y;\\theta) |Y =y]$$\n",
    "Maximization Step: $$ \\theta_{t+1} = \\arg\\max_\\theta Q(\\theta,\\theta_t)$$"
   ]
  },
  {
   "cell_type": "markdown",
   "metadata": {},
   "source": [
    "We can show that the state space model joint log-likelihood, ignoring constants, is given by:\n",
    "\n",
    "$$ \\log L(X,Y;\\theta) = -\\frac{1}{2} \\left( (X_0-\\mu_0)'\\Sigma_0^{-1} (X_0-\\mu_0) + T \\log |B| + \\sum_{t=1}^T (X_t-AX_{t-1})'B^{-1} (X_t-AX_{t-1}) + T\\log |R| + \\sum_{t=1}^T (Y_t-CX_t)'R^{-1} (Y_t-CX_t)'\\right)$$"
   ]
  },
  {
   "cell_type": "markdown",
   "metadata": {},
   "source": []
  },
  {
   "cell_type": "markdown",
   "metadata": {},
   "source": [
    "Taking conditional expectations of the function above, we get our expression for $Q$. But in order to derive the expression for $Q$, we need to define the Kalman Smoother, which tackles the problem of getting an estimate for $X_t$, given the entire data sample $Y^T$, not only $Y^t$ as in the Kalman filter. Let's introduce some new notation: $\\hat{X}^s_t = E[X_t|Y^s]$. Note that $\\hat{X}_t^t$ is the filtered value for $X$. \n",
    "The Kalman Smoother is given by the Following recursion:"
   ]
  },
  {
   "cell_type": "markdown",
   "metadata": {},
   "source": [
    "$$\\hat{X}_{t-1}^T = \\hat{X}_{t-1}^{t-1} + J_{t-1}(\\hat{X}_{t}^T - A\\hat{X}_{t-1}^{t-1})$$\n",
    "$$\\Sigma_{t-1}^T =\\Sigma_{t-1} + J_{t-1}(\\Sigma_{t}^T - A\\Sigma_{t-1}A'+B)J_{t-1}'$$\n",
    "$$J_{t-1} = \\Sigma_{t-1} A'(A\\Sigma_{t-1}A'+B)^{-1}$$"
   ]
  },
  {
   "cell_type": "markdown",
   "metadata": {},
   "source": [
    "The code below implements the Kalman Smoother:"
   ]
  },
  {
   "cell_type": "code",
   "execution_count": 10,
   "metadata": {},
   "outputs": [
    {
     "data": {
      "text/plain": [
       "KalmanSmoother (generic function with 1 method)"
      ]
     },
     "execution_count": 10,
     "metadata": {},
     "output_type": "execute_result"
    }
   ],
   "source": [
    "function KalmanSmoother(X,Σhist,A,B;K=K)\n",
    "    #X are the filtered values from the Kalman filters\n",
    "    #Ω contains all the Σ matrices from the Kalman filter\n",
    "    T = size(X)[2] #Sample size\n",
    "    m = size(Σhist)[1]\n",
    "    Xsmooth = copy(X)\n",
    "    Σsmooth = copy(Σhist)\n",
    "    for t=T:-1:2\n",
    "        J = Σhist[:,m*(t-1)-(m-1):(m*(t-1))]*A'/(A*Σhist[:,m*(t-1)-(m-1):(m*(t-1))]*A'+B)\n",
    "        Xsmooth[:,t-1] = X[:,t-1]+J*(Xsmooth[:,t]- A*X[:,t])\n",
    "        Σsmooth[:,m*(t-1)-(m-1):(m*(t-1))] =  Σhist[:,m*(t-1)-(m-1):(m*(t-1))] + J * ( Σsmooth[:,m*t-(m-1):(m*t)]-A*Σhist[:,m*(t-1)-(m-1):(m*(t-1))]*A'+B)*J'\n",
    "    end\n",
    "    return Xsmooth,Σsmooth\n",
    "end\n",
    "    "
   ]
  },
  {
   "cell_type": "markdown",
   "metadata": {},
   "source": [
    "Define:\n",
    "$$\\Sigma^T_{T,T-1} := (I-K_TC)A\\Sigma_{T-1} $$\n",
    "$$\\Sigma^T_{t-1,t-2} := \\Sigma_{t-1} J'_{t-2} + J_{t-1}\\left(\\Sigma^T_{t,t-1}- A \\Sigma_{t-1}\\right) J'_{t-2}$$\n",
    "$$S_{11} := \\sum_{t=1}^T\\left(\\hat{X}_t^T(\\hat{X}_t^{T})' + \\Sigma^T_t\\right)$$\n",
    "$$S_{10} = \\sum_{t=1}^T\\left(\\hat{X}_t^T(\\hat{X}_{t-1}^{T})' + \\Sigma^T_{t,t-1}\\right)$$\n",
    "$$S_{00} = \\sum_{t=1}^T\\left(\\hat{X}_{t-1}^T(\\hat{X}_{t-1}^{T})' + \\Sigma^T_{t-1}\\right)$$"
   ]
  },
  {
   "cell_type": "markdown",
   "metadata": {},
   "source": [
    "Q is defined as: \n",
    "$$Q(\\theta,\\theta_{t-1}) = \\log |\\Sigma_0| + tr\\{\\Sigma_0^{-1} [ \n",
    "\\Sigma^T_0 + (X^T_0 -\\mu_0)(X^T_0-\\mu_0)']\\} + T \\log|B| + tr\\{B^{-1}[S_{11}-S_{10}A'-AS_{10}'+AS_{00}A']\\} +T\\log |R| + tr\\{R^{-1} \\sum_{t=1}^T [ (Y_T-C X^T_t)(Y_t - ACX^T_t)' + C_t \\Sigma_t^T A_t']\\} $$"
   ]
  },
  {
   "cell_type": "markdown",
   "metadata": {},
   "source": [
    "Minimizing the expression above is the M step of the EM algorithm. But we do not do this directly. Since the joint distribution is normal, we, by usual regression analysis, that update estimates are given by:\n",
    "\n",
    "$$ A^j = S_{10}S_{00}^{-1} $$\n",
    "$$ B^j = T^{-1}\\left(S_{11} - S_{10}S_{00}^{-1}S_{10}'\\right)$$\n",
    "$$R^j = T^{-1}\\sum_{t=1}^T [ (Y_T-C X^T_t)(Y_t - ACX^T_t)' + C_t \\Sigma_t^T A_t']$$\n",
    "\n",
    "$\\mu^j_0 = x^T_0$"
   ]
  },
  {
   "cell_type": "markdown",
   "metadata": {},
   "source": [
    "Now, back to our exercise, the code below we may define the subset of parameters to be estimated and writes down a function to in the optimizer format."
   ]
  },
  {
   "cell_type": "code",
   "execution_count": 8,
   "metadata": {},
   "outputs": [
    {
     "data": {
      "text/plain": [
       "maxloglikelihood (generic function with 1 method)"
      ]
     },
     "execution_count": 8,
     "metadata": {},
     "output_type": "execute_result"
    }
   ],
   "source": [
    "function maxloglikelihood(vector::Vector;Y=Y)\n",
    "    #ρg,ρx,ρh,ρz,σg,σx,σz,σh=vector\n",
    "    ρg,ρx,ρh,ρz=vector\n",
    "    #ρg,ρx,ρh,ρz,ρzg,ρzx,ρzh,ρhz,ρhx,ρhg,ρxz,ρxh,ρxg,ρgz,ρgx,ρgh,σg,σx,σz,σh,σzg,σzx,σzh,σhx,σhg,σxg,gss,τxss,τhss,zss = vector\n",
    "    #ρg,ρx,ρh,ρz,ρzg,ρzx,ρzh,ρhz,ρhx,ρhg,ρxz,ρxh,ρxg,ρgz,ρgx,ρgh,σg,σx,σz,σh,σzg,σzx,σzh,σhx,σhg,σxg = vector\n",
    "\n",
    "    #In matrix form\n",
    "    P = [ρz ρzh ρzx ρzg;\n",
    "    ρhz ρh ρhx ρhg ;\n",
    "    ρxz ρxh ρx ρxg ;\n",
    "    ρgz ρgh ρgx ρg]\n",
    "\n",
    "    Q = [σz σzh σzx σzg;\n",
    "    σzh σh σhx σhg ;\n",
    "    σzx σhx σx σxg ;\n",
    "    σzg σhg σxg σg]\n",
    "\n",
    "    steadystates = gss,τxss,τhss,zss\n",
    "    params_calibrated = [δ,θ,β,σ,ψ,γn,γz]\n",
    "\n",
    "\n",
    "    A,B,C = State_Space(params_calibrated,steadystates, P,Q)\n",
    "    X, a, Ω = KalmanFilter(Y,A,B,C)\n",
    "    L = -likelihood(Y,Ω,a)\n",
    "    return L\n",
    "end"
   ]
  },
  {
   "cell_type": "markdown",
   "metadata": {},
   "source": [
    "Note that the function above actually returns minus the log likelihood, since our optimizer is in fact a minimizer. Checking the value of "
   ]
  },
  {
   "cell_type": "markdown",
   "metadata": {},
   "source": [
    "## Question 2"
   ]
  },
  {
   "cell_type": "markdown",
   "metadata": {},
   "source": [
    "We first begin estimating only 4 parameters and assuming all the others are known:"
   ]
  },
  {
   "cell_type": "code",
   "execution_count": 9,
   "metadata": {},
   "outputs": [
    {
     "data": {
      "text/plain": [
       "4-element Array{Float64,1}:\n",
       " 0.8\n",
       " 0.5\n",
       " 0.5\n",
       " 0.9"
      ]
     },
     "execution_count": 9,
     "metadata": {},
     "output_type": "execute_result"
    }
   ],
   "source": [
    "original = [ρg,ρx,ρh,ρz]"
   ]
  },
  {
   "cell_type": "markdown",
   "metadata": {},
   "source": [
    "The likelihood valued at the true parameters is:"
   ]
  },
  {
   "cell_type": "code",
   "execution_count": 10,
   "metadata": {},
   "outputs": [
    {
     "data": {
      "text/plain": [
       "-1783.9194217380602"
      ]
     },
     "execution_count": 10,
     "metadata": {},
     "output_type": "execute_result"
    }
   ],
   "source": [
    "truelikelihood = maxloglikelihood(original)"
   ]
  },
  {
   "cell_type": "markdown",
   "metadata": {},
   "source": [
    "Our optimizer will use the LBFGS which is a variant of the Newton method with approximated Hessians and Gradients (see Judd's book for a BFGS explanation and Optim's documentation for LBFGS). Also, we'll only allow the optimizer to choose parameters that make sense. Our initial guess will be points normally distributed around the true ones."
   ]
  },
  {
   "cell_type": "code",
   "execution_count": 13,
   "metadata": {},
   "outputs": [
    {
     "name": "stdout",
     "output_type": "stream",
     "text": [
      "  3.445633 seconds (5.60 M allocations: 851.291 MiB, 9.96% gc time)\n"
     ]
    },
    {
     "data": {
      "text/plain": [
       "4-element Array{Float64,1}:\n",
       " 0.22411043812249876\n",
       " 0.6547286886737138 \n",
       " 0.2476351905441793 \n",
       " 0.9011896923082203 "
      ]
     },
     "execution_count": 13,
     "metadata": {},
     "output_type": "execute_result"
    }
   ],
   "source": [
    "Random.seed!(0403);\n",
    "initial = original .+ randn(length(original))*0.5\n",
    "\n",
    "#Solver Stuff\n",
    "inner_optimizer = LBFGS() #LBFGS()  # SimulatedAnnealing() #NelderMead() ConjugateGradient()\n",
    "\n",
    "#Defining lower and upper bounds for estimator\n",
    "lower=zeros(length(initial))\n",
    "upper = ones(length(initial))\n",
    "#making sure that the initial guess is within the bounds\n",
    "initial = min.(upper.*0.99,initial)\n",
    "initial = max.(lower.+0.0001,initial)\n",
    "\n",
    "\n",
    "@time bla = optimize(maxloglikelihood,lower,upper, initial,Fminbox(inner_optimizer), Optim.Options(show_trace = false, show_every = 10,iterations =500, time_limit = 60*60*1.0))\n",
    "estimates = bla.minimizer"
   ]
  },
  {
   "cell_type": "markdown",
   "metadata": {},
   "source": [
    "The optimizer found the parameters above, note that they are reasonably, close to the true parameters:"
   ]
  },
  {
   "cell_type": "code",
   "execution_count": 14,
   "metadata": {},
   "outputs": [
    {
     "data": {
      "text/plain": [
       "4-element Array{Float64,1}:\n",
       " 0.5758895618775013   \n",
       " 0.1547286886737138   \n",
       " 0.25236480945582074  \n",
       " 0.0011896923082203026"
      ]
     },
     "execution_count": 14,
     "metadata": {},
     "output_type": "execute_result"
    }
   ],
   "source": [
    "abs.(estimates - original)"
   ]
  },
  {
   "cell_type": "markdown",
   "metadata": {},
   "source": [
    "Now we repeat the exercise increasing the sample size:"
   ]
  },
  {
   "cell_type": "code",
   "execution_count": 16,
   "metadata": {},
   "outputs": [
    {
     "data": {
      "text/plain": [
       "4-element Array{Float64,1}:\n",
       " 0.7984436257410532\n",
       " 0.5068017677547227\n",
       " 0.512274213064898 \n",
       " 0.8999509872619331"
      ]
     },
     "execution_count": 16,
     "metadata": {},
     "output_type": "execute_result"
    }
   ],
   "source": [
    "T=600\n",
    "X= zeros(5,T)\n",
    "Y = zeros(4,T)\n",
    "\n",
    "Random.seed!(0403);\n",
    "S = randn(5,T) #vector with shocks\n",
    "\n",
    "#Simulating data\n",
    "for t=1:T\n",
    "    if t>1\n",
    "    X[:,t] = A*X[:,t-1]+ B*S[:,t]\n",
    "    end\n",
    "    Y[:,t] = C*X[:,t]\n",
    "end\n",
    "\n",
    "Random.seed!(0403);\n",
    "initial = original .+ randn(length(original))*0.5\n",
    "\n",
    "#Solver Stuff\n",
    "inner_optimizer = LBFGS() #LBFGS()  # SimulatedAnnealing() #NelderMead() ConjugateGradient()\n",
    "\n",
    "#Defining lower and upper bounds for estimator\n",
    "lower=zeros(length(initial))\n",
    "upper = ones(length(initial))\n",
    "#making sure that the initial guess is within the bounds\n",
    "initial = min.(upper.*0.99,initial)\n",
    "initial = max.(lower.+0.0001,initial)\n",
    "\n",
    "\n",
    "bla = optimize(maxloglikelihood,lower,upper, initial,Fminbox(inner_optimizer),Optim.Options(show_trace = false, show_every = 10,iterations =500, time_limit = 60*60*1.0))\n",
    "estimates = bla.minimizer"
   ]
  },
  {
   "cell_type": "markdown",
   "metadata": {},
   "source": [
    "The estimation improved considerably for most parameters:"
   ]
  },
  {
   "cell_type": "code",
   "execution_count": 17,
   "metadata": {},
   "outputs": [
    {
     "data": {
      "text/plain": [
       "4-element Array{Float64,1}:\n",
       " 0.0015563742589468355\n",
       " 0.006801767754722743 \n",
       " 0.012274213064897954 \n",
       " 4.901273806690032e-5 "
      ]
     },
     "execution_count": 17,
     "metadata": {},
     "output_type": "execute_result"
    }
   ],
   "source": [
    "abs.(estimates - original)"
   ]
  },
  {
   "cell_type": "markdown",
   "metadata": {},
   "source": [
    "We keep this new sample size and now, we estimate 8 parameters in total:"
   ]
  },
  {
   "cell_type": "code",
   "execution_count": 18,
   "metadata": {},
   "outputs": [
    {
     "data": {
      "text/plain": [
       "maxloglikelihood (generic function with 1 method)"
      ]
     },
     "execution_count": 18,
     "metadata": {},
     "output_type": "execute_result"
    }
   ],
   "source": [
    "function maxloglikelihood(vector::Vector;Y=Y)\n",
    "    ρg,ρx,ρh,ρz,σg,σx,σz,σh=vector\n",
    "    #ρg,ρx,ρh,ρz=vector\n",
    "    #ρg,ρx,ρh,ρz,ρzg,ρzx,ρzh,ρhz,ρhx,ρhg,ρxz,ρxh,ρxg,ρgz,ρgx,ρgh,σg,σx,σz,σh,σzg,σzx,σzh,σhx,σhg,σxg,gss,τxss,τhss,zss = vector\n",
    "    #ρg,ρx,ρh,ρz,ρzg,ρzx,ρzh,ρhz,ρhx,ρhg,ρxz,ρxh,ρxg,ρgz,ρgx,ρgh,σg,σx,σz,σh,σzg,σzx,σzh,σhx,σhg,σxg = vector\n",
    "\n",
    "    #In matrix form\n",
    "    P = [ρz ρzh ρzx ρzg;\n",
    "    ρhz ρh ρhx ρhg ;\n",
    "    ρxz ρxh ρx ρxg ;\n",
    "    ρgz ρgh ρgx ρg]\n",
    "\n",
    "    Q = [σz σzh σzx σzg;\n",
    "    σzh σh σhx σhg ;\n",
    "    σzx σhx σx σxg ;\n",
    "    σzg σhg σxg σg]\n",
    "\n",
    "    steadystates = gss,τxss,τhss,zss\n",
    "    params_calibrated = [δ,θ,β,σ,ψ,γn,γz]\n",
    "\n",
    "\n",
    "    A,B,C = State_Space(params_calibrated,steadystates, P,Q)\n",
    "    X, a, Ω = KalmanFilter(Y,A,B,C)\n",
    "    L = -likelihood(Y,Ω,a)\n",
    "    return L\n",
    "end"
   ]
  },
  {
   "cell_type": "markdown",
   "metadata": {},
   "source": [
    "The parameters being estimated are:"
   ]
  },
  {
   "cell_type": "code",
   "execution_count": 19,
   "metadata": {},
   "outputs": [
    {
     "data": {
      "text/plain": [
       "8-element Array{Float64,1}:\n",
       " 0.8 \n",
       " 0.5 \n",
       " 0.5 \n",
       " 0.9 \n",
       " 0.02\n",
       " 0.01\n",
       " 0.05\n",
       " 0.01"
      ]
     },
     "execution_count": 19,
     "metadata": {},
     "output_type": "execute_result"
    }
   ],
   "source": [
    "original = [ ρg,ρx,ρh,ρz,σg,σx,σz,σh]"
   ]
  },
  {
   "cell_type": "code",
   "execution_count": 20,
   "metadata": {},
   "outputs": [
    {
     "data": {
      "text/plain": [
       "8-element Array{Float64,1}:\n",
       " 0.793628681730038   \n",
       " 0.6736785643705833  \n",
       " 0.4557832869970009  \n",
       " 0.8999417740025389  \n",
       " 0.019453365325372833\n",
       " 0.01718884220554578 \n",
       " 0.04916784460096986 \n",
       " 0.009953386510255133"
      ]
     },
     "execution_count": 20,
     "metadata": {},
     "output_type": "execute_result"
    }
   ],
   "source": [
    "Random.seed!(0403);\n",
    "initial = original .+ randn(length(original))*0.5\n",
    "\n",
    "#Solver Stuff\n",
    "inner_optimizer = LBFGS() #LBFGS()  # SimulatedAnnealing() #NelderMead() ConjugateGradient()\n",
    "\n",
    "#Defining lower and upper bounds for estimator\n",
    "lower=zeros(length(initial))\n",
    "upper = ones(length(initial))\n",
    "#making sure that the initial guess is within the bounds\n",
    "initial = min.(upper.*0.99,initial)\n",
    "initial = max.(lower.+0.0001,initial)\n",
    "\n",
    "\n",
    "bla = optimize(maxloglikelihood,lower,upper, initial,Fminbox(inner_optimizer),\n",
    "    Optim.Options(show_trace = false, show_every = 10,iterations =500, time_limit = 60*60*1.0))\n",
    "estimates = bla.minimizer"
   ]
  },
  {
   "cell_type": "markdown",
   "metadata": {},
   "source": [
    "The estimation is also good, but for one parameter it is way off."
   ]
  },
  {
   "cell_type": "code",
   "execution_count": 21,
   "metadata": {},
   "outputs": [
    {
     "data": {
      "text/plain": [
       "8-element Array{Float64,1}:\n",
       " 0.006371318269962067 \n",
       " 0.17367856437058327  \n",
       " 0.04421671300299912  \n",
       " 5.8225997461081036e-5\n",
       " 0.0005466346746271673\n",
       " 0.007188842205545781 \n",
       " 0.0008321553990301434\n",
       " 4.661348974486709e-5 "
      ]
     },
     "execution_count": 21,
     "metadata": {},
     "output_type": "execute_result"
    }
   ],
   "source": [
    "abs.(estimates - original)"
   ]
  },
  {
   "cell_type": "markdown",
   "metadata": {},
   "source": [
    "Now, we estimate all the Parameters with the exception of the Steady States and things start to get a little trickier:"
   ]
  },
  {
   "cell_type": "code",
   "execution_count": 22,
   "metadata": {},
   "outputs": [
    {
     "data": {
      "text/plain": [
       "maxloglikelihood (generic function with 1 method)"
      ]
     },
     "execution_count": 22,
     "metadata": {},
     "output_type": "execute_result"
    }
   ],
   "source": [
    "function maxloglikelihood(vector::Vector;Y=Y)\n",
    "    #ρg,ρx,ρh,ρz,σg,σx,σz,σh=vector\n",
    "    #ρg,ρx,ρh,ρz=vector\n",
    "    #ρg,ρx,ρh,ρz,ρzg,ρzx,ρzh,ρhz,ρhx,ρhg,ρxz,ρxh,ρxg,ρgz,ρgx,ρgh,σg,σx,σz,σh,σzg,σzx,σzh,σhx,σhg,σxg,gss,τxss,τhss,zss = vector\n",
    "    ρg,ρx,ρh,ρz,ρzg,ρzx,ρzh,ρhz,ρhx,ρhg,ρxz,ρxh,ρxg,ρgz,ρgx,ρgh,σg,σx,σz,σh,σzg,σzx,σzh,σhx,σhg,σxg = vector\n",
    "\n",
    "    #In matrix form\n",
    "    P = [ρz ρzh ρzx ρzg;\n",
    "    ρhz ρh ρhx ρhg ;\n",
    "    ρxz ρxh ρx ρxg ;\n",
    "    ρgz ρgh ρgx ρg]\n",
    "\n",
    "    Q = [σz σzh σzx σzg;\n",
    "    σzh σh σhx σhg ;\n",
    "    σzx σhx σx σxg ;\n",
    "    σzg σhg σxg σg]\n",
    "\n",
    "    steadystates = gss,τxss,τhss,zss\n",
    "    params_calibrated = [δ,θ,β,σ,ψ,γn,γz]\n",
    "\n",
    "\n",
    "    A,B,C = State_Space(params_calibrated,steadystates, P,Q)\n",
    "    X, a, Ω = KalmanFilter(Y,A,B,C)\n",
    "    L = -likelihood(Y,Ω,a)\n",
    "    return L\n",
    "end"
   ]
  },
  {
   "cell_type": "code",
   "execution_count": 23,
   "metadata": {},
   "outputs": [
    {
     "data": {
      "text/plain": [
       "26-element Array{Float64,1}:\n",
       " 0.8  \n",
       " 0.5  \n",
       " 0.5  \n",
       " 0.9  \n",
       " 0.0  \n",
       " 0.0  \n",
       " 0.0  \n",
       " 0.0  \n",
       " 0.0  \n",
       " 0.0  \n",
       " 0.0  \n",
       " 0.0  \n",
       " 0.0  \n",
       " 0.0  \n",
       " 0.4  \n",
       " 0.4  \n",
       " 0.02 \n",
       " 0.01 \n",
       " 0.05 \n",
       " 0.01 \n",
       " 0.0  \n",
       " 0.0  \n",
       " 0.0  \n",
       " 0.0  \n",
       " 0.004\n",
       " 0.004"
      ]
     },
     "execution_count": 23,
     "metadata": {},
     "output_type": "execute_result"
    }
   ],
   "source": [
    "original = [ ρg,ρx,ρh,ρz,ρzg,ρzx,ρzh,ρhz,ρhx,ρhg,ρxz,ρxh,ρxg,ρgz,ρgx,ρgh,σg,σx,σz,σh,σzg,σzx,σzh,σhx,σhg,σxg]"
   ]
  },
  {
   "cell_type": "code",
   "execution_count": 24,
   "metadata": {},
   "outputs": [
    {
     "data": {
      "text/plain": [
       "26-element Array{Float64,1}:\n",
       "  0.7847573879497515    \n",
       "  0.5712150595077666    \n",
       "  0.6022347695994222    \n",
       "  0.8997600169596675    \n",
       "  0.04692875467196209   \n",
       " -0.00216051519431645   \n",
       " -0.16318955143318173   \n",
       "  0.004571919453038248  \n",
       " -0.21529447573382796   \n",
       "  0.13105687965131052   \n",
       "  0.014573736805809244  \n",
       "  0.0651906226087065    \n",
       " -0.009534342297567309  \n",
       "  0.10785083364289334   \n",
       "  0.27234959800866004   \n",
       "  0.4876258142132673    \n",
       "  0.0248170226037271    \n",
       "  0.016763726441233154  \n",
       "  0.04988045971552021   \n",
       "  5.346737300811821e-7  \n",
       "  1.114877822129582e-10 \n",
       "  0.0009365205967434558 \n",
       "  2.1255702509722693e-23\n",
       "  0.012944745725048118  \n",
       "  0.001722777629999073  \n",
       "  6.862268798995851e-56 "
      ]
     },
     "execution_count": 24,
     "metadata": {},
     "output_type": "execute_result"
    }
   ],
   "source": [
    "Random.seed!(0403);\n",
    "initial = original .+ randn(length(original))*0.1\n",
    "\n",
    "\n",
    "#Solver Stuff\n",
    "inner_optimizer = LBFGS() #LBFGS()  # SimulatedAnnealing() #NelderMead() ConjugateGradient()\n",
    "\n",
    "\n",
    "#Defining lower and upper bounds for estimator\n",
    "lower=zeros(length(initial))\n",
    "\n",
    "upper = ones(length(initial))\n",
    "if length(initial) == 8\n",
    "    upper[5:8] = 0.05 *ones(4)\n",
    "end\n",
    "if length(initial)>16\n",
    "    upper[17:26] = 0.05.*ones(10)\n",
    "    lower[5:16] = -1*ones(12)\n",
    "end\n",
    "if length(initial) == 30\n",
    "    upper[27:30] = 0.1 * ones(4)\n",
    "    lower[30] = -100 #z lower bound (in logs)\n",
    "    lower[27] = -100 #g lower bound (in logs)\n",
    "end\n",
    "#making sure that the initial guess is within the bounds\n",
    "initial = min.(upper.*0.99,initial)\n",
    "initial = max.(lower.+0.0001,initial)\n",
    "\n",
    "\n",
    "bla = optimize(maxloglikelihood,lower,upper, initial,Fminbox(inner_optimizer),Optim.Options(show_trace = false, show_every = 5,iterations =500, time_limit = 60*60*1.0))\n",
    "\n",
    "estimates = bla.minimizer"
   ]
  },
  {
   "cell_type": "markdown",
   "metadata": {},
   "source": [
    "The estimates are fair:"
   ]
  },
  {
   "cell_type": "code",
   "execution_count": 25,
   "metadata": {},
   "outputs": [
    {
     "data": {
      "text/plain": [
       "26-element Array{Float64,1}:\n",
       " 0.015242612050248572  \n",
       " 0.07121505950776663   \n",
       " 0.10223476959942224   \n",
       " 0.00023998304033256979\n",
       " 0.04692875467196209   \n",
       " 0.00216051519431645   \n",
       " 0.16318955143318173   \n",
       " 0.004571919453038248  \n",
       " 0.21529447573382796   \n",
       " 0.13105687965131052   \n",
       " 0.014573736805809244  \n",
       " 0.0651906226087065    \n",
       " 0.009534342297567309  \n",
       " 0.10785083364289334   \n",
       " 0.12765040199133998   \n",
       " 0.08762581421326726   \n",
       " 0.0048170226037271    \n",
       " 0.006763726441233154  \n",
       " 0.0001195402844797952 \n",
       " 0.00999946532626992   \n",
       " 1.114877822129582e-10 \n",
       " 0.0009365205967434558 \n",
       " 2.1255702509722693e-23\n",
       " 0.012944745725048118  \n",
       " 0.0022772223700009272 \n",
       " 0.004                 "
      ]
     },
     "execution_count": 25,
     "metadata": {},
     "output_type": "execute_result"
    }
   ],
   "source": [
    "abs.(estimates - original)"
   ]
  },
  {
   "cell_type": "markdown",
   "metadata": {},
   "source": [
    "Now, estimating all the 30 parameters:"
   ]
  },
  {
   "cell_type": "code",
   "execution_count": 26,
   "metadata": {},
   "outputs": [
    {
     "data": {
      "text/plain": [
       "maxloglikelihood (generic function with 1 method)"
      ]
     },
     "execution_count": 26,
     "metadata": {},
     "output_type": "execute_result"
    }
   ],
   "source": [
    "function maxloglikelihood(vector::Vector;Y=Y)\n",
    "    #ρg,ρx,ρh,ρz,σg,σx,σz,σh=vector\n",
    "    #ρg,ρx,ρh,ρz=vector\n",
    "    ρg,ρx,ρh,ρz,ρzg,ρzx,ρzh,ρhz,ρhx,ρhg,ρxz,ρxh,ρxg,ρgz,ρgx,ρgh,σg,σx,σz,σh,σzg,σzx,σzh,σhx,σhg,σxg,gss,τxss,τhss,zss = vector\n",
    "    #ρg,ρx,ρh,ρz,ρzg,ρzx,ρzh,ρhz,ρhx,ρhg,ρxz,ρxh,ρxg,ρgz,ρgx,ρgh,σg,σx,σz,σh,σzg,σzx,σzh,σhx,σhg,σxg = vector\n",
    "\n",
    "    #In matrix form\n",
    "    P = [ρz ρzh ρzx ρzg;\n",
    "    ρhz ρh ρhx ρhg ;\n",
    "    ρxz ρxh ρx ρxg ;\n",
    "    ρgz ρgh ρgx ρg]\n",
    "\n",
    "    Q = [σz σzh σzx σzg;\n",
    "    σzh σh σhx σhg ;\n",
    "    σzx σhx σx σxg ;\n",
    "    σzg σhg σxg σg]\n",
    "\n",
    "    steadystates = gss,τxss,τhss,zss\n",
    "    params_calibrated = [δ,θ,β,σ,ψ,γn,γz]\n",
    "\n",
    "\n",
    "    A,B,C = State_Space(params_calibrated,steadystates, P,Q)\n",
    "    X, a, Ω = KalmanFilter(Y,A,B,C)\n",
    "    L = -likelihood(Y,Ω,a)\n",
    "    return L\n",
    "end"
   ]
  },
  {
   "cell_type": "code",
   "execution_count": 27,
   "metadata": {},
   "outputs": [
    {
     "data": {
      "text/plain": [
       "30-element Array{Float64,1}:\n",
       "  0.8              \n",
       "  0.5              \n",
       "  0.5              \n",
       "  0.9              \n",
       "  0.0              \n",
       "  0.0              \n",
       "  0.0              \n",
       "  0.0              \n",
       "  0.0              \n",
       "  0.0              \n",
       "  0.0              \n",
       "  0.0              \n",
       "  0.0              \n",
       "  ⋮                \n",
       "  0.05             \n",
       "  0.01             \n",
       "  0.0              \n",
       "  0.0              \n",
       "  0.0              \n",
       "  0.0              \n",
       "  0.004            \n",
       "  0.004            \n",
       " -4.605170185988091\n",
       "  0.05             \n",
       "  0.02             \n",
       "  0.0              "
      ]
     },
     "execution_count": 27,
     "metadata": {},
     "output_type": "execute_result"
    }
   ],
   "source": [
    "original = [ρg,ρx,ρh,ρz,ρzg,ρzx,ρzh,ρhz,ρhx,ρhg,ρxz,ρxh,ρxg,ρgz,ρgx,ρgh,σg,σx,σz,σh,σzg,σzx,σzh,σhx,σhg,σxg,gss,τxss,τhss,zss]"
   ]
  },
  {
   "cell_type": "code",
   "execution_count": null,
   "metadata": {},
   "outputs": [],
   "source": [
    "Random.seed!(0403);\n",
    "initial = original .+ randn(length(original))*0.15\n",
    "initial[5:30] = original[5:30] .+randn(length(original[5:30]))*0.05\n",
    "\n",
    "\n",
    "\n",
    "#Solver Stuff\n",
    "inner_optimizer = LBFGS() #LBFGS()  # SimulatedAnnealing() #NelderMead() ConjugateGradient()\n",
    "\n",
    "\n",
    "#Defining lower and upper bounds for estimator\n",
    "lower=zeros(length(initial))\n",
    "\n",
    "upper = ones(length(initial))\n",
    "if length(initial) == 8\n",
    "    upper[5:8] = 0.05 *ones(4)\n",
    "end\n",
    "if length(initial)>16\n",
    "    upper[17:26] = 0.05.*ones(10)\n",
    "    lower[5:16] = -1*ones(12)\n",
    "end\n",
    "if length(initial) == 30\n",
    "    upper[27:30] = 0.1 * ones(4)\n",
    "    lower[30] = -100 #z lower bound (in logs)\n",
    "    lower[27] = -100 #g lower bound (in logs)\n",
    "end\n",
    "#making sure that the initial guess is within the bounds\n",
    "initial = min.(upper.*0.99,initial)\n",
    "initial = max.(lower.+0.0001,initial)\n",
    "\n",
    "\n",
    "bla = optimize(maxloglikelihood,lower,upper, initial,Fminbox(inner_optimizer),Optim.Options(show_trace = false, show_every = 5,iterations =500, time_limit = 60*60*1.0))\n",
    "\n",
    "estimates = bla.minimizer"
   ]
  },
  {
   "cell_type": "markdown",
   "metadata": {},
   "source": [
    "Assessing the accuracy:"
   ]
  },
  {
   "cell_type": "code",
   "execution_count": null,
   "metadata": {},
   "outputs": [],
   "source": [
    "abs.(estimates - original)"
   ]
  },
  {
   "cell_type": "markdown",
   "metadata": {},
   "source": [
    "Although my maximization algorithm works, it is extremely sensible to initial conditions. I was assuming that my initial guesses were normally distributed around the Steady States. I had to decrease the dispersion while I increased the number of estimated parameters since it was common to the optimizer to converge to a local minimum, but the main issue is that with some weird parameters combinations the model is not well defined (explosive procesess and non-invertible matrices) returning errors. "
   ]
  }
 ],
 "metadata": {
  "kernelspec": {
   "display_name": "Julia 1.0.1",
   "language": "julia",
   "name": "julia-1.0"
  },
  "language_info": {
   "file_extension": ".jl",
   "mimetype": "application/julia",
   "name": "julia",
   "version": "1.0.0"
  }
 },
 "nbformat": 4,
 "nbformat_minor": 2
}
