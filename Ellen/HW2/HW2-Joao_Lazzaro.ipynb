{
 "cells": [
  {
   "cell_type": "markdown",
   "metadata": {},
   "source": [
    "# ECON 8185 - HW 2"
   ]
  },
  {
   "cell_type": "markdown",
   "metadata": {},
   "source": [
    "João Lazzaro - santo279@umn.edu"
   ]
  },
  {
   "cell_type": "markdown",
   "metadata": {},
   "source": [
    "The model is:\n",
    "\n",
    "$$\\max_{c_t,x_t,l_t} E \\sum_{t=0}^\\infty \\beta^t \\frac{\\left(c_tl_t^\\psi\\right)^{1-\\sigma}}{1-\\sigma} N_t$$\n",
    "S.T. \n",
    "$$ c_t +(1+\\tau_{xt})x_t =r_t k_t +(1-\\tau_{ht})w_t h_t + T_t$$\n",
    "$$ N_{t+1} k_{t+1} = [(1-\\delta)k_t+x_t]N_t$$\n",
    "$$h_t+l_t =1$$\n",
    "$$S_t = P S_{t-1}+Q\\epsilon_t,\\;\\;S_t = [\\ln z_t,\\tau_{ht},\\tau_{xt}, \\ln g_t]$$\n",
    "$$ c_t,x_t\\geq0$$\n",
    "\n",
    "Where $N_t = (1+\\gamma_n)^t$ and firm tecnhology is $Y_t = K_t^\\theta (Z_t L_t)^{1-\\theta}$. $\\gamma_z$ is the rate of labor-augmenting technical progress. The stochastic shocks hitting this economy affect technology, tax rates, and government spending and the stochastic processes are modeled as a VAR(1) process. The resource constraint is $Y_t=N_t(c_t +x_t +g_t)$. We must work with detrended variables, we should use \"hat\" variables, but typing this is time consuming so from now on all variables should be understood as detrended unless I say something about them."
   ]
  },
  {
   "cell_type": "markdown",
   "metadata": {},
   "source": [
    "Defining some parameters:"
   ]
  },
  {
   "cell_type": "code",
   "execution_count": 165,
   "metadata": {},
   "outputs": [
    {
     "data": {
      "text/plain": [
       "0.0"
      ]
     },
     "execution_count": 165,
     "metadata": {},
     "output_type": "execute_result"
    }
   ],
   "source": [
    "using Plots, NLsolve, ForwardDiff, DataFrames, LinearAlgebra, QuantEcon, Plots, Optim, Statistics\n",
    "#Parameters:\n",
    "δ = 0.0464   #depreciation rate\n",
    "θ = 0.35  #capital share of output\n",
    "β = 0.9722  #Discouting\n",
    "σ = 1  #Elasticity of Intertemporal Substitution\n",
    "ψ = 3    #Labor parameter\n",
    "γn= 0.015    #Population growth rate\n",
    "γz= 0.016   #Productivitu growth rate\n",
    "gss = 0.01 #average g\n",
    "τxss = 0.05 #average τx\n",
    "τhss = 0.05 #average τh\n",
    "zss = 0.0 #average z (z is in logs)\n",
    "\n",
    "\n",
    "#Parameters to be estimated in the next homework\n",
    "#Autocorrelations\n",
    "ρg = 0.9\n",
    "ρx = 0.1\n",
    "ρh = 0.1\n",
    "ρz = 0.9\n",
    "\n",
    "# Cross-correlations\n",
    "ρzg= 0.0\n",
    "ρzx = 0.0\n",
    "ρzh = 0.0\n",
    "ρhz = 0.0\n",
    "ρhx = 0.0\n",
    "ρhg = 0.0\n",
    "ρxz = 0.0\n",
    "ρxh = 0.0\n",
    "ρxg = 0.0\n",
    "ρgz = 0.0\n",
    "ρgx = 0.0\n",
    "ρgh = 0.0\n",
    "\n",
    "#Variances\n",
    "σg= 0.001\n",
    "σx = 0.001\n",
    "σz = 0.01\n",
    "σh = 0.01\n",
    "#Covariances\n",
    "σzg= 0.0\n",
    "σzx = 0.00\n",
    "σzh = 0.00\n",
    "σhx = 0.00\n",
    "σhg = 0.00\n",
    "σxg = 0.00"
   ]
  },
  {
   "cell_type": "markdown",
   "metadata": {},
   "source": [
    "The detrended FOC's of this model are:\n",
    "\n",
    "$$c_t+(1+\\gamma_z)(1+\\gamma_n)k_{t+1} - (1-\\delta)k_t+g_t = y_t =k_t^\\theta(z_th_t)^{1-\\theta}$$\n",
    "$$\\psi \\frac{c_t}{1-h_t} = (1-\\tau_{ht})(1-\\theta)\\left(\\frac{k_t}{h_t}\\right)^\\theta z_t^{1-\\theta}$$\n",
    "$$c_t^{-\\sigma}(1-h_t)^{\\psi(1-\\sigma)} (1+\\tau_{xt})=\\beta(1+\\gamma_z)^{-\\sigma}E_t c_{t+1}^{-\\sigma} (1- h_{t+1})^{\\psi(1-\\sigma)}\\left(\\theta k_{t+1}^{\\theta}(z_{t+1} h_{t+1})^{1-\\theta} + (1-\\delta)(1+\\theta_{xt+1})\\right)$$"
   ]
  },
  {
   "cell_type": "markdown",
   "metadata": {},
   "source": [
    "Substituting for $c$, we get an equation for $k$, and one for $h$. Below, I find the Steady State values:\n"
   ]
  },
  {
   "cell_type": "code",
   "execution_count": 166,
   "metadata": {},
   "outputs": [
    {
     "data": {
      "text/plain": [
       "3-element Array{Float64,1}:\n",
       " 1.6707265229440968 \n",
       " 0.22844261316599446\n",
       " 0.31866093597940304"
      ]
     },
     "execution_count": 166,
     "metadata": {},
     "output_type": "execute_result"
    }
   ],
   "source": [
    "#Function with the FOCs\n",
    "zss = exp(zss)\n",
    "\n",
    "function SS!(eq,vector::Vector)\n",
    "    k,h, c= vector\n",
    "    eq[1]=k/h-((1+τxss)*(1-β*(1+γz)^(-σ)*(1-δ))/(β*(1+γz)^(-σ)*θ*zss^(1-θ)) )^(1/(θ-1))\n",
    "    eq[2]=c-( (k/h)^(θ-1)*zss^(1-θ) -(1+γz)*(1+γn)+1-δ)*k+gss\n",
    "    eq[3]=ψ*c-( (1-τhss)*(1-θ)*(k/h)^θ *zss^(1-θ))*(1-h)\n",
    "end\n",
    "\n",
    "SteadyState = nlsolve(SS!, [3,0.25,.4],ftol = :1.0e-20)\n",
    "kss,hss,css = SteadyState.zero"
   ]
  },
  {
   "cell_type": "code",
   "execution_count": 167,
   "metadata": {},
   "outputs": [
    {
     "data": {
      "text/plain": [
       "0.12971520724137942"
      ]
     },
     "execution_count": 167,
     "metadata": {},
     "output_type": "execute_result"
    }
   ],
   "source": [
    "    #GDP\n",
    "    yss = kss^(θ)*(zss*hss)^(1-θ)\n",
    "    xss = (1+γz)*(1+γn)*kss-(1-δ)*kss"
   ]
  },
  {
   "cell_type": "markdown",
   "metadata": {},
   "source": [
    "## Question 1"
   ]
  },
  {
   "cell_type": "markdown",
   "metadata": {},
   "source": [
    "### a) Iterate on Bellman’s equation"
   ]
  },
  {
   "cell_type": "markdown",
   "metadata": {},
   "source": [
    "Due to the curse of dimensionality, I won't pursue this path."
   ]
  },
  {
   "cell_type": "markdown",
   "metadata": {},
   "source": [
    "### b) Map it to a linear quadratic problem"
   ]
  },
  {
   "cell_type": "markdown",
   "metadata": {},
   "source": [
    "Recall from lecture notes, we have to map the original problem into the following LQ problem:\n",
    "\n",
    "$$ \\max_{\\{{u_t}\\}_{t=0}^\\infty} E_0 \\sum_{t=0}^\\infty \\beta^t (X'_tQX_t+u'_tRu_t+2X'_tWu_t) $$\n",
    "\n",
    "s.t.\n",
    "$$ X_{t+1} = A X_t + B u_t + C \\epsilon_{t+1}$$\n",
    "$X_0$ given.\n",
    "\n",
    "\n",
    "\n",
    "In this case, we have: $u_t = [k_{t+1},h_t]'$\n",
    "\n",
    "Note that in this problem ${X}_t$ may be decomposed as:\n",
    "\n",
    "$$X_t = \\begin{bmatrix}\n",
    "    {X}_1     \\\\\n",
    "    {X}_2 \\\\ \n",
    "    {X}_3\n",
    "\\end{bmatrix}_t$$\n",
    "\n",
    "Where ${X}_1$ are the individual states, ${X}_2$ are the aggregate or exogenous states with known laws of motion, and ${X}_3$ are the aggregate states with laws of motion that are unknown and need to be computed in equilibrium. We have that:\n",
    "\n",
    "${X}_1 = [1,k_t]'$, ${X}_2 = [\\tau_{xt},\\tau_{ht},g_t]$ and ${X}_3 = [K_t,H_t]$\n",
    "\n",
    "Finally, rewrite $y_t = [\\tilde{X}_1,\\tilde{X}_2]'$ and the problem constraint becomes:\n",
    "\n",
    "$$ y_{t+1} = \\tilde{A}_y y_t + \\tilde{B}_y \\tilde{u}_t + A_z \\tilde{X}_{3t}$$\n",
    "\n",
    "Where tilde variables are the undiscounted counterpart of each variable. Matrices $A_y, B_y, Q, R$ and $W$ may be found by second and first order Taylor expansions of the utility function and constraints. Matrix $A_z$ is for now unknown. Following the methods in the lecture notes (using Big K, little k trick) this problem may be solved. We mapped it to a LQ problem and we solve it using the modified Vaughan's method in the next section: \n"
   ]
  },
  {
   "cell_type": "markdown",
   "metadata": {},
   "source": [
    "### c) Apply Vaughan’s method."
   ]
  },
  {
   "cell_type": "markdown",
   "metadata": {},
   "source": [
    "I use the modified Vaughan method using the log linearized FOC's as in the lecture notes."
   ]
  },
  {
   "cell_type": "markdown",
   "metadata": {},
   "source": [
    "Log-linearizing the FOC equations we get the following system of equations:\n",
    "\n",
    "\n",
    "$$ 0 = E_t[a_1\\tilde{k}_t +a_2\\tilde{k}_{t+1}+a_3\\tilde{h}_t+a_4 \\tilde{z}_t + a_5 \\tilde{\\tau}_{ht} +a_6 \\tilde{g}_t] $$\n",
    "$$ 0 = E_t[b_1\\tilde{k}_t +b_2\\tilde{k}_{t+1}+b_3\\tilde{k}_{t+2}+b_4 \\tilde{h}_t + b_5 \\tilde{h}_{t+1} b_6 \\tilde{z}_t +b_7 \\tilde{\\tau}_{xt} +b_8 \\tilde{g}_t + b_9 \\tilde{z}_{t+1} +b_{10} \\tau_{xt+1}+b_{11}\\tilde{g}_{t+1}]  $$"
   ]
  },
  {
   "cell_type": "markdown",
   "metadata": {},
   "source": [
    "Where tilde variables are log deviations from Steady State. Stacking up the equations we get:\n",
    "$$0 = E_t \\begin{bmatrix}\n",
    "    1       & 0 & 0  \\\\\n",
    "    0       & 0 & 0  \\\\\n",
    "    0       & b_3 & b_5 \n",
    "\\end{bmatrix}\n",
    "\\begin{bmatrix}\n",
    "    \\tilde{k}_{t+1}\\\\\n",
    "    \\tilde{k}_{t+2}\\\\\n",
    "    \\tilde{h}_{t+1}        \n",
    "\\end{bmatrix} + \\begin{bmatrix}\n",
    "    0       & -1 & 0  \\\\\n",
    "    a_1       & a_2 & a_3  \\\\\n",
    "    b_1       & b_2 & b_4 \n",
    "\\end{bmatrix}\n",
    "\\begin{bmatrix}\n",
    "    \\tilde{k}_{t}\\\\\n",
    "    \\tilde{k}_{t+1}\\\\\n",
    "    \\tilde{h}_{t}        \n",
    "\\end{bmatrix} + \\begin{bmatrix}\n",
    "    0       & 0 & 0 & 0 & 0 & 0 & 0 & 0  \\\\\n",
    "    a_4       & a_5 & 0 & a_6 &0&0&0&0  \\\\\n",
    "    b_6       & 0 & b_7 & b_8 & b_9 & 0 &b_{10} & b_{11} \n",
    "\\end{bmatrix}\\begin{bmatrix}\n",
    "    S_t\\\\\n",
    "    S_{t+1}        \n",
    "\\end{bmatrix}$$\n",
    "We call the first matrix $A_1$, and the second $A_2$. The code below log-linearizes and find these matrices:"
   ]
  },
  {
   "cell_type": "code",
   "execution_count": 168,
   "metadata": {},
   "outputs": [
    {
     "data": {
      "text/plain": [
       "([1.0 0.0 0.0; 0.0 0.0 0.0; 0.0 -1.01871 1.56869], [0.0 -1.0 0.0; -1.0 -0.19108 2.77059; -1.0 2.01043 -1.65162])"
      ]
     },
     "execution_count": 168,
     "metadata": {},
     "output_type": "execute_result"
    }
   ],
   "source": [
    "\n",
    "function loglineq1(vector::Vector)\n",
    "    k,k1,h,z,τh,g= vector\n",
    "\n",
    "    c = k * ((z *h)^(1-θ))^(1/θ) - ((1+γz)*(1+γn)*k1-(1-δ)*k+ g )^(1/θ)\n",
    "    eq =(ψ *c)^(1/θ)  - (k/h)*((1-h)*(1-τh)*(1-θ)*z^(1-θ))^(1/θ)\n",
    "\n",
    "    return eq\n",
    "end\n",
    "function loglineq2(vector::Vector)\n",
    "    k,k1,k2,h,h1,z,τx,g,z1,τx1,g1 = (vector)\n",
    "    c = k * ((z *h)^(1-θ))^(1/θ) - ((1+γz)*(1+γn)*k1-(1-δ)*k+ g )^(1/θ)\n",
    "    c1 = k * ((z1 *h1)^(1-θ))^(1/θ) - ((1+γz)*(1+γn)*k2-(1-δ)*k1+ g1 )^(1/θ)\n",
    "    eq =  (c^(-σ) *(1-h)^(ψ*(1-σ))*(1+τx)  - (1-δ)*(1+τx1)* β*(1+γz)^(-σ) * c1^(-σ) * (1-h1)^(ψ*(1-σ)))^(-1/θ) -\n",
    "     (β*(1+γz)^(-σ) * c1^(-σ) * (1-h1)^(ψ*(1-σ)) * θ*(z1*h1)^(1-θ))^(-1/θ)* k1\n",
    "    return eq\n",
    "end\n",
    "\n",
    "\n",
    "#log deviations\n",
    "T=ForwardDiff.gradient(loglineq1,[kss,kss,hss,zss,τhss,gss])\n",
    "a =[-kss*T[1]/(kss*T[1]),-kss*T[2]/(kss*T[1]),-hss*T[3]/(kss*T[1]),\n",
    "-zss*T[4]/(kss*T[1]),-τhss*T[5]/(kss*T[1]),-gss*T[6]/(kss*T[1])]\n",
    "#if ψ==0\n",
    "#    a[1],a[2:end]=-1,zeros(5)\n",
    "#end\n",
    "\n",
    "T=ForwardDiff.gradient(loglineq2,[kss,kss,kss,hss,hss,zss,τxss,gss,zss,τxss,gss])\n",
    "b = [kss*T[1]/(-kss*T[1]),kss*T[2]/(-kss*T[1]),kss*T[3]/(-kss*T[1]),hss*T[4]/(-kss*T[1]),\n",
    "hss*T[5]/(-kss*T[1]),zss*T[6]/(-kss*T[1]),τxss*T[7]/(-kss*T[1]),gss*T[8]/(-kss*T[1]),\n",
    "zss*T[9]/(-kss*T[1]),τxss*T[10]/(-kss*T[1]),gss*T[11]/(-kss*T[1])]\n",
    "\n",
    "A1 = [1 0 0; 0 0 0; 0 b[3] b[5]]\n",
    "A2 = [0 -1 0; a[1] a[2] a[3]; b[1] b[2] b[4]]\n",
    "U = [0 0 0 0 0 0 0 0;\n",
    "a[4] a[5] 0 a[6] 0 0 0 0;\n",
    "b[6] 0 b[7] b[8] b[9] 0 b[10] b[11]]\n",
    "\n",
    "A1,A2"
   ]
  },
  {
   "cell_type": "markdown",
   "metadata": {},
   "source": [
    "We look for a solution of the form: $$\\tilde{k}_{t+1} = A \\tilde{k}_t +BS_t $$ $$ Z_t = C X_t + D S_t $$ $$S_t = P S_{t-1} + Q \\epsilon_t$$\n",
    "Where $Z_t = [\\tilde{k}_{t+1},\\tilde{h}_t]'$ and $S_t$ are the stochastic exogenous variables. We compute the generalized eigenvalues and eigenvectors for matrices $A_1$ and $−A_2$ because $A_1$ is not invertible. Thus, $A_2 V = -A_1 V \\Pi$ and we can get $A$ and $C$ by:\n",
    "$$A = V_{11} \\Pi_{1,1} V_{1,1}^{-1}$$\n",
    " $$C = V_{2,1}V_{1,1}^{-1}$$"
   ]
  },
  {
   "cell_type": "code",
   "execution_count": 169,
   "metadata": {},
   "outputs": [
    {
     "data": {
      "text/plain": [
       "3×3 Diagonal{Float64,Array{Float64,1}}:\n",
       " 0.614295   ⋅         ⋅         \n",
       "  ⋅        0.928641   ⋅         \n",
       "  ⋅         ⋅        1.25286e-16"
      ]
     },
     "execution_count": 169,
     "metadata": {},
     "output_type": "execute_result"
    }
   ],
   "source": [
    "eig = eigen(A1,-A2)\n",
    "V=eig.vectors\n",
    "Π = eig.values\n",
    "#Sorting\n",
    "for j=1:3\n",
    "for i=1:2\n",
    "    if eps(Float64)<abs(Π[i+1])<abs(Π[i])\n",
    "        Π[i],Π[i+1] = Π[i+1],Π[i]\n",
    "        V[:,i],V[:,i+1] = V[:,i+1],V[:,i]\n",
    "    elseif abs(Π[i]) < eps(Float64)\n",
    "        Π[i],Π[end] =Π[end],Π[i]\n",
    "        V[:,i],V[:,end]=V[:,end],V[:,i]\n",
    "    end\n",
    "end\n",
    "end\n",
    "if abs(Π[1])>1\n",
    "    error(\"All Eigen Values outside unit circle\")\n",
    "end\n",
    "Π= Diagonal(Π)"
   ]
  },
  {
   "cell_type": "code",
   "execution_count": 170,
   "metadata": {},
   "outputs": [
    {
     "data": {
      "text/plain": [
       "2×2 Array{Float64,2}:\n",
       " 0.614295  0.0\n",
       " 0.178568  0.0"
      ]
     },
     "execution_count": 170,
     "metadata": {},
     "output_type": "execute_result"
    }
   ],
   "source": [
    "A = V[1,1]*Π[1,1]*inv(V[1,1])\n",
    "C = V[2:end,1]*(V[1,1])\n",
    "C = hcat(C,zeros(2,1))"
   ]
  },
  {
   "cell_type": "code",
   "execution_count": 171,
   "metadata": {},
   "outputs": [
    {
     "data": {
      "text/plain": [
       "4×4 Array{Float64,2}:\n",
       " 0.01  0.0   0.0    0.0  \n",
       " 0.0   0.01  0.0    0.0  \n",
       " 0.0   0.0   0.001  0.0  \n",
       " 0.0   0.0   0.0    0.001"
      ]
     },
     "execution_count": 171,
     "metadata": {},
     "output_type": "execute_result"
    }
   ],
   "source": [
    "P = [ρz ρzh ρzx ρzg;\n",
    "ρhz ρh ρhx ρhg ;\n",
    "ρxz ρxh ρx ρxg ;\n",
    "ρgz ρgh ρgx ρg]\n",
    "Q = [σz σzh σzx σzg;\n",
    "σzh σh σhx σhg ;\n",
    "σzx σhx σx σxg ;\n",
    "σzg σhg σxg σg]"
   ]
  },
  {
   "cell_type": "markdown",
   "metadata": {},
   "source": [
    "Finally, to get the matrices $B$ and $D$, we just need to solve a linear system of equations (see Ellen's notes):"
   ]
  },
  {
   "cell_type": "code",
   "execution_count": 178,
   "metadata": {},
   "outputs": [
    {
     "data": {
      "text/plain": [
       "2×4 Array{Float64,2}:\n",
       " 0.753975  -0.0747081  -0.0231612   -5.87648e-5\n",
       " 0.840745  -0.0777903  -0.00159736   0.00039624"
      ]
     },
     "execution_count": 178,
     "metadata": {},
     "output_type": "execute_result"
    }
   ],
   "source": [
    "function system!(eq,vector::Vector)\n",
    "    #vector = rand(8)\n",
    "    #eq= rand(8)\n",
    "    B=vector[1:4]'\n",
    "    D2 = vector[5:8]'\n",
    "\n",
    "    eq[1:4] = a[2].*B .+ a[3].*D2 .+ [a[4] a[5] 0 a[6]]\n",
    "    eq[5:8] = b[2].*B .+ b[3].*A.*B .+ b[3].*B*P .+ b[4].*D2 .+ b[5].*C[2].*B .+ b[5].*B*P.+\n",
    "    [b[6] 0 b[7] b[8]].+[b[9] 0 b[10] b[11] ]*P\n",
    " return     eq\n",
    "end\n",
    "\n",
    "Sol = nlsolve(system!, ones(8),ftol = :1.0e-20, method = :trust_region , autoscale = true)\n",
    "D=ones(2,4)\n",
    "D[1,:]= Sol.zero[1:4]\n",
    "D[2,:]= Sol.zero[5:8]\n",
    "D"
   ]
  },
  {
   "cell_type": "markdown",
   "metadata": {},
   "source": [
    "## Question 2"
   ]
  },
  {
   "cell_type": "markdown",
   "metadata": {},
   "source": [
    "For this question I use the solution of question 1-c).\n",
    "\n",
    "First, I will rewrite the model in the form: \n",
    " $$ X_{t+1} = AX_t + B \\varepsilon_{t+1}$$\n",
    "$$Y_t = CX_t+\\omega_t$$\n",
    "Where, $X_t = [k_t,s_t],s_t=[z_t,\\tau_{ht},\\tau_{xt},g_t]$, $Y_t = [y_t,x_t,h_t]$ and as before:\n",
    "$$s_{t+1} = P s_t +Q \\varepsilon_{t+1}$$\n",
    "We need to log linearize $y,x$ since we already done it for labor:"
   ]
  },
  {
   "cell_type": "code",
   "execution_count": 9,
   "metadata": {},
   "outputs": [
    {
     "data": {
      "text/plain": [
       "ht (generic function with 1 method)"
      ]
     },
     "execution_count": 9,
     "metadata": {},
     "output_type": "execute_result"
    }
   ],
   "source": [
    "\n",
    "#Rewritting\n",
    "A = hcat(vcat(C[1],zeros(4,1)),vcat(D[1,:]',P))\n",
    "B = hcat(zeros(5,1),vcat(zeros(1,4),Q))\n",
    "\n",
    "\n",
    "#We have h as function of states. To find the Matrix B, we need to find y and x\n",
    "#as a function of states\n",
    "\n",
    "function kt1(vector::Vector)\n",
    "    k,z,τh,τx,g = vector\n",
    "    tilde = log.([k,z,τh,τx,g]).-log.([kss,zss,τhss,τxss,gss])\n",
    "    for i = 1:length(tilde)\n",
    "        if isnan(tilde[i])\n",
    "            tilde[i] = 0\n",
    "        end\n",
    "    end\n",
    "\n",
    "    k1= A[1,:]' * tilde\n",
    "    return k1\n",
    "end\n",
    "\n",
    "\n",
    "function ht(vector::Vector)\n",
    "    k,z,τh,τx,g = vector\n",
    "    tilde = log.([k,z,τh,τx,g]).-log.([kss,zss,τhss,τxss,gss])\n",
    "    for i = 1:length(tilde)\n",
    "        if isnan(tilde[i])\n",
    "            tilde[i] = 0\n",
    "        end\n",
    "    end\n",
    "    h = C[2,1]*(log(k)-log(kss)) + D[2,:]' * tilde[2:end]\n",
    "    return h\n",
    "end\n"
   ]
  },
  {
   "cell_type": "code",
   "execution_count": 10,
   "metadata": {},
   "outputs": [
    {
     "data": {
      "text/plain": [
       "4×5 Array{Float64,2}:\n",
       "  0.466069   1.19648   -0.0505637  -0.00103829   0.000257556\n",
       " -4.12306   10.0146    -0.992297   -0.307635    -0.000780533\n",
       "  0.178568   0.840745  -0.0777903  -0.00159736   0.00039624 \n",
       "  0.0        0.0        0.0         0.0          1.0        "
      ]
     },
     "execution_count": 10,
     "metadata": {},
     "output_type": "execute_result"
    }
   ],
   "source": [
    "#log-linearizing y as a function of states\n",
    "function yt(vector::Vector)\n",
    "    k,z,τh,τx,g = vector\n",
    "    h = exp(ht(vector)+log(hss))\n",
    "    y = k^θ * (z*h)^(1-θ)\n",
    "    return y\n",
    "end\n",
    "\n",
    "#GDP\n",
    "yss = kss^(θ)*(zss*hss)^(1-θ)\n",
    "\n",
    "T=ForwardDiff.gradient(yt,[kss,zss,τhss,τxss,gss])\n",
    "ycoefs = [kss*T[1]/yss,zss*T[2]/yss,τhss*T[3]/yss,τxss*T[4]/yss,gss*T[5]/yss]\n",
    "\n",
    "\n",
    "\n",
    "#log linearizing x as function of states\n",
    "function xt(vector::Vector)\n",
    "    k,z,τh,τx,g = vector\n",
    "    k1 = exp(kt1(vector)+log(kss))\n",
    "    x= (1+γn)*(1+γz)k1 - (1-δ)k\n",
    "\n",
    "    return x\n",
    "end\n",
    "xss = (1+γz)*(1+γn)*kss-(1-δ)*kss\n",
    "T=ForwardDiff.gradient(xt,[kss,zss,τhss,τxss,gss])\n",
    "xcoefs = [kss*T[1]/xss,zss*T[2]/xss,τhss*T[3]/xss,τxss*T[4]/xss,gss*T[5]/xss]\n",
    "\n",
    "#We have the matrix C!\n",
    "C = [ycoefs[1] ycoefs[2] ycoefs[3] ycoefs[4] ycoefs[5];\n",
    "xcoefs[1] xcoefs[2] xcoefs[3] xcoefs[4] xcoefs[5];\n",
    "C[2,1] D[2,1] D[2,2] D[2,3] D[2,4];\n",
    "0 0 0 0 1]\n"
   ]
  },
  {
   "cell_type": "markdown",
   "metadata": {},
   "source": [
    "Now, I simulate the variables with known law of motion:"
   ]
  },
  {
   "cell_type": "code",
   "execution_count": 11,
   "metadata": {},
   "outputs": [
    {
     "data": {
      "image/svg+xml": [
       "<?xml version=\"1.0\" encoding=\"utf-8\"?>\n",
       "<svg xmlns=\"http://www.w3.org/2000/svg\" xmlns:xlink=\"http://www.w3.org/1999/xlink\" width=\"600\" height=\"400\" viewBox=\"0 0 2400 1600\">\n",
       "<defs>\n",
       "  <clipPath id=\"clip5800\">\n",
       "    <rect x=\"0\" y=\"0\" width=\"2000\" height=\"2000\"/>\n",
       "  </clipPath>\n",
       "</defs>\n",
       "<defs>\n",
       "  <clipPath id=\"clip5801\">\n",
       "    <rect x=\"0\" y=\"0\" width=\"2400\" height=\"1600\"/>\n",
       "  </clipPath>\n",
       "</defs>\n",
       "<polygon clip-path=\"url(#clip5801)\" points=\"\n",
       "0,1600 2400,1600 2400,0 0,0 \n",
       "  \" fill=\"#ffffff\" fill-rule=\"evenodd\" fill-opacity=\"1\"/>\n",
       "<defs>\n",
       "  <clipPath id=\"clip5802\">\n",
       "    <rect x=\"480\" y=\"0\" width=\"1681\" height=\"1600\"/>\n",
       "  </clipPath>\n",
       "</defs>\n",
       "<polygon clip-path=\"url(#clip5801)\" points=\"\n",
       "216.266,1503.47 2321.26,1503.47 2321.26,125.984 216.266,125.984 \n",
       "  \" fill=\"#ffffff\" fill-rule=\"evenodd\" fill-opacity=\"1\"/>\n",
       "<defs>\n",
       "  <clipPath id=\"clip5803\">\n",
       "    <rect x=\"216\" y=\"125\" width=\"2106\" height=\"1378\"/>\n",
       "  </clipPath>\n",
       "</defs>\n",
       "<polyline clip-path=\"url(#clip5803)\" style=\"stroke:#000000; stroke-width:2; stroke-opacity:0.1; fill:none\" points=\"\n",
       "  255.783,1503.47 255.783,125.984 \n",
       "  \"/>\n",
       "<polyline clip-path=\"url(#clip5803)\" style=\"stroke:#000000; stroke-width:2; stroke-opacity:0.1; fill:none\" points=\"\n",
       "  757.258,1503.47 757.258,125.984 \n",
       "  \"/>\n",
       "<polyline clip-path=\"url(#clip5803)\" style=\"stroke:#000000; stroke-width:2; stroke-opacity:0.1; fill:none\" points=\"\n",
       "  1258.73,1503.47 1258.73,125.984 \n",
       "  \"/>\n",
       "<polyline clip-path=\"url(#clip5803)\" style=\"stroke:#000000; stroke-width:2; stroke-opacity:0.1; fill:none\" points=\"\n",
       "  1760.21,1503.47 1760.21,125.984 \n",
       "  \"/>\n",
       "<polyline clip-path=\"url(#clip5803)\" style=\"stroke:#000000; stroke-width:2; stroke-opacity:0.1; fill:none\" points=\"\n",
       "  2261.68,1503.47 2261.68,125.984 \n",
       "  \"/>\n",
       "<polyline clip-path=\"url(#clip5803)\" style=\"stroke:#000000; stroke-width:2; stroke-opacity:0.1; fill:none\" points=\"\n",
       "  216.266,1468.06 2321.26,1468.06 \n",
       "  \"/>\n",
       "<polyline clip-path=\"url(#clip5803)\" style=\"stroke:#000000; stroke-width:2; stroke-opacity:0.1; fill:none\" points=\"\n",
       "  216.266,1174.98 2321.26,1174.98 \n",
       "  \"/>\n",
       "<polyline clip-path=\"url(#clip5803)\" style=\"stroke:#000000; stroke-width:2; stroke-opacity:0.1; fill:none\" points=\"\n",
       "  216.266,881.902 2321.26,881.902 \n",
       "  \"/>\n",
       "<polyline clip-path=\"url(#clip5803)\" style=\"stroke:#000000; stroke-width:2; stroke-opacity:0.1; fill:none\" points=\"\n",
       "  216.266,588.823 2321.26,588.823 \n",
       "  \"/>\n",
       "<polyline clip-path=\"url(#clip5803)\" style=\"stroke:#000000; stroke-width:2; stroke-opacity:0.1; fill:none\" points=\"\n",
       "  216.266,295.745 2321.26,295.745 \n",
       "  \"/>\n",
       "<polyline clip-path=\"url(#clip5801)\" style=\"stroke:#000000; stroke-width:4; stroke-opacity:1; fill:none\" points=\"\n",
       "  216.266,1503.47 2321.26,1503.47 \n",
       "  \"/>\n",
       "<polyline clip-path=\"url(#clip5801)\" style=\"stroke:#000000; stroke-width:4; stroke-opacity:1; fill:none\" points=\"\n",
       "  216.266,1503.47 216.266,125.984 \n",
       "  \"/>\n",
       "<polyline clip-path=\"url(#clip5801)\" style=\"stroke:#000000; stroke-width:4; stroke-opacity:1; fill:none\" points=\"\n",
       "  255.783,1503.47 255.783,1482.81 \n",
       "  \"/>\n",
       "<polyline clip-path=\"url(#clip5801)\" style=\"stroke:#000000; stroke-width:4; stroke-opacity:1; fill:none\" points=\"\n",
       "  757.258,1503.47 757.258,1482.81 \n",
       "  \"/>\n",
       "<polyline clip-path=\"url(#clip5801)\" style=\"stroke:#000000; stroke-width:4; stroke-opacity:1; fill:none\" points=\"\n",
       "  1258.73,1503.47 1258.73,1482.81 \n",
       "  \"/>\n",
       "<polyline clip-path=\"url(#clip5801)\" style=\"stroke:#000000; stroke-width:4; stroke-opacity:1; fill:none\" points=\"\n",
       "  1760.21,1503.47 1760.21,1482.81 \n",
       "  \"/>\n",
       "<polyline clip-path=\"url(#clip5801)\" style=\"stroke:#000000; stroke-width:4; stroke-opacity:1; fill:none\" points=\"\n",
       "  2261.68,1503.47 2261.68,1482.81 \n",
       "  \"/>\n",
       "<polyline clip-path=\"url(#clip5801)\" style=\"stroke:#000000; stroke-width:4; stroke-opacity:1; fill:none\" points=\"\n",
       "  216.266,1468.06 247.841,1468.06 \n",
       "  \"/>\n",
       "<polyline clip-path=\"url(#clip5801)\" style=\"stroke:#000000; stroke-width:4; stroke-opacity:1; fill:none\" points=\"\n",
       "  216.266,1174.98 247.841,1174.98 \n",
       "  \"/>\n",
       "<polyline clip-path=\"url(#clip5801)\" style=\"stroke:#000000; stroke-width:4; stroke-opacity:1; fill:none\" points=\"\n",
       "  216.266,881.902 247.841,881.902 \n",
       "  \"/>\n",
       "<polyline clip-path=\"url(#clip5801)\" style=\"stroke:#000000; stroke-width:4; stroke-opacity:1; fill:none\" points=\"\n",
       "  216.266,588.823 247.841,588.823 \n",
       "  \"/>\n",
       "<polyline clip-path=\"url(#clip5801)\" style=\"stroke:#000000; stroke-width:4; stroke-opacity:1; fill:none\" points=\"\n",
       "  216.266,295.745 247.841,295.745 \n",
       "  \"/>\n",
       "<g clip-path=\"url(#clip5801)\">\n",
       "<text style=\"fill:#000000; fill-opacity:1; font-family:Arial,Helvetica Neue,Helvetica,sans-serif; font-size:48px; text-anchor:middle;\" transform=\"rotate(0, 255.783, 1557.47)\" x=\"255.783\" y=\"1557.47\">0</text>\n",
       "</g>\n",
       "<g clip-path=\"url(#clip5801)\">\n",
       "<text style=\"fill:#000000; fill-opacity:1; font-family:Arial,Helvetica Neue,Helvetica,sans-serif; font-size:48px; text-anchor:middle;\" transform=\"rotate(0, 757.258, 1557.47)\" x=\"757.258\" y=\"1557.47\">25</text>\n",
       "</g>\n",
       "<g clip-path=\"url(#clip5801)\">\n",
       "<text style=\"fill:#000000; fill-opacity:1; font-family:Arial,Helvetica Neue,Helvetica,sans-serif; font-size:48px; text-anchor:middle;\" transform=\"rotate(0, 1258.73, 1557.47)\" x=\"1258.73\" y=\"1557.47\">50</text>\n",
       "</g>\n",
       "<g clip-path=\"url(#clip5801)\">\n",
       "<text style=\"fill:#000000; fill-opacity:1; font-family:Arial,Helvetica Neue,Helvetica,sans-serif; font-size:48px; text-anchor:middle;\" transform=\"rotate(0, 1760.21, 1557.47)\" x=\"1760.21\" y=\"1557.47\">75</text>\n",
       "</g>\n",
       "<g clip-path=\"url(#clip5801)\">\n",
       "<text style=\"fill:#000000; fill-opacity:1; font-family:Arial,Helvetica Neue,Helvetica,sans-serif; font-size:48px; text-anchor:middle;\" transform=\"rotate(0, 2261.68, 1557.47)\" x=\"2261.68\" y=\"1557.47\">100</text>\n",
       "</g>\n",
       "<g clip-path=\"url(#clip5801)\">\n",
       "<text style=\"fill:#000000; fill-opacity:1; font-family:Arial,Helvetica Neue,Helvetica,sans-serif; font-size:48px; text-anchor:end;\" transform=\"rotate(0, 192.266, 1485.56)\" x=\"192.266\" y=\"1485.56\">-0.04</text>\n",
       "</g>\n",
       "<g clip-path=\"url(#clip5801)\">\n",
       "<text style=\"fill:#000000; fill-opacity:1; font-family:Arial,Helvetica Neue,Helvetica,sans-serif; font-size:48px; text-anchor:end;\" transform=\"rotate(0, 192.266, 1192.48)\" x=\"192.266\" y=\"1192.48\">-0.02</text>\n",
       "</g>\n",
       "<g clip-path=\"url(#clip5801)\">\n",
       "<text style=\"fill:#000000; fill-opacity:1; font-family:Arial,Helvetica Neue,Helvetica,sans-serif; font-size:48px; text-anchor:end;\" transform=\"rotate(0, 192.266, 899.402)\" x=\"192.266\" y=\"899.402\">0.00</text>\n",
       "</g>\n",
       "<g clip-path=\"url(#clip5801)\">\n",
       "<text style=\"fill:#000000; fill-opacity:1; font-family:Arial,Helvetica Neue,Helvetica,sans-serif; font-size:48px; text-anchor:end;\" transform=\"rotate(0, 192.266, 606.323)\" x=\"192.266\" y=\"606.323\">0.02</text>\n",
       "</g>\n",
       "<g clip-path=\"url(#clip5801)\">\n",
       "<text style=\"fill:#000000; fill-opacity:1; font-family:Arial,Helvetica Neue,Helvetica,sans-serif; font-size:48px; text-anchor:end;\" transform=\"rotate(0, 192.266, 313.245)\" x=\"192.266\" y=\"313.245\">0.04</text>\n",
       "</g>\n",
       "<g clip-path=\"url(#clip5801)\">\n",
       "<text style=\"fill:#000000; fill-opacity:1; font-family:Arial,Helvetica Neue,Helvetica,sans-serif; font-size:84px; text-anchor:middle;\" transform=\"rotate(0, 1268.76, 73.2)\" x=\"1268.76\" y=\"73.2\">Wedges</text>\n",
       "</g>\n",
       "<polyline clip-path=\"url(#clip5803)\" style=\"stroke:#009af9; stroke-width:4; stroke-opacity:1; fill:none\" points=\"\n",
       "  275.842,881.902 295.901,879.211 315.96,883.726 336.019,772.069 356.078,564.344 376.137,517.512 396.196,468.74 416.255,753.903 436.314,610.089 456.373,440.854 \n",
       "  476.432,255.294 496.491,354.81 516.55,308.293 536.609,333.127 556.668,341.267 576.727,264.454 596.786,183.877 616.845,167.491 636.904,347.305 656.963,342.048 \n",
       "  677.022,422.878 697.081,526.981 717.14,729.328 737.199,395.896 757.258,164.97 777.317,386.583 797.376,792.656 817.435,1050.61 837.494,987.224 857.553,1076.95 \n",
       "  877.612,991.319 897.671,885.084 917.73,655.627 937.789,604.783 957.848,357.254 977.907,444.855 997.966,476.072 1018.03,734.856 1038.08,565.053 1058.14,586.264 \n",
       "  1078.2,778.757 1098.26,660.2 1118.32,767.894 1138.38,619.679 1158.44,512.985 1178.5,424.714 1198.56,336.968 1218.62,434.612 1238.67,446.401 1258.73,505.244 \n",
       "  1278.79,433.94 1298.85,611.121 1318.91,736.831 1338.97,803.141 1359.03,838.01 1379.09,672.559 1399.15,793.031 1419.21,712.713 1439.26,642.865 1459.32,910.464 \n",
       "  1479.38,989.078 1499.44,1221.76 1519.5,1260.7 1539.56,1133.33 1559.62,1391.66 1579.68,1336.52 1599.74,1190.98 1619.8,940.648 1639.85,1025.14 1659.91,1064.78 \n",
       "  1679.97,964.801 1700.03,898.945 1720.09,1048.66 1740.15,953.254 1760.21,1055.67 1780.27,1293.22 1800.33,1075.16 1820.39,925.167 1840.45,852.507 1860.5,871.6 \n",
       "  1880.56,547.307 1900.62,614.838 1920.68,705.817 1940.74,743.33 1960.8,990.488 1980.86,947.056 2000.92,967.991 2020.98,1101.23 2041.04,1081.15 2061.09,1090.22 \n",
       "  2081.15,1161.78 2101.21,1326.4 2121.27,1464.49 2141.33,1286.63 2161.39,1226.46 2181.45,786.369 2201.51,585.851 2221.57,771.96 2241.63,893.325 2261.68,670.179 \n",
       "  \n",
       "  \"/>\n",
       "<polyline clip-path=\"url(#clip5803)\" style=\"stroke:#e26f46; stroke-width:4; stroke-opacity:1; fill:none\" points=\"\n",
       "  275.842,881.902 295.901,462.469 315.96,685.055 336.019,698.333 356.078,1028.62 376.137,810.031 396.196,694.496 416.255,831.987 436.314,602.181 456.373,869.41 \n",
       "  476.432,838.491 496.491,776.349 516.55,1059.99 536.609,1000.82 556.668,1041.52 576.727,918.661 596.786,902.727 616.845,614.866 636.904,1071.05 656.963,936.635 \n",
       "  677.022,726.117 697.081,904.385 717.14,959.286 737.199,691.812 757.258,933.507 777.317,1079.23 797.376,968.251 817.435,947.457 837.494,833.063 857.553,991.613 \n",
       "  877.612,1045.21 897.671,1013.17 917.73,1055.8 937.789,919.386 957.848,676.84 977.907,821.15 997.966,948.525 1018.03,1071.85 1038.08,959.206 1058.14,951.098 \n",
       "  1078.2,928.127 1098.26,933.493 1118.32,909.853 1138.38,972.794 1158.44,1091.77 1178.5,818.671 1198.56,968.095 1218.62,823.25 1238.67,936.29 1258.73,824.015 \n",
       "  1278.79,685.575 1298.85,811.617 1318.91,830.281 1338.97,690.404 1359.03,455.91 1379.09,750.089 1399.15,1081.43 1419.21,901.703 1439.26,646.085 1459.32,590.332 \n",
       "  1479.38,734.951 1499.44,1027.4 1519.5,978.987 1539.56,1020.63 1559.62,1057.19 1579.68,891.814 1599.74,814.675 1619.8,681.64 1639.85,991.487 1659.91,762.132 \n",
       "  1679.97,789.518 1700.03,1021.05 1720.09,911.586 1740.15,920.197 1760.21,1169.19 1780.27,821.065 1800.33,1013.88 1820.39,977.559 1840.45,666.744 1860.5,1042.86 \n",
       "  1880.56,1108.48 1900.62,973.83 1920.68,1216.67 1940.74,1095.88 1960.8,731.225 1980.86,563.435 2000.92,902.093 2020.98,756.372 2041.04,816.063 2061.09,970.921 \n",
       "  2081.15,1022.62 2101.21,792.396 2121.27,842.218 2141.33,980.625 2161.39,1091.52 2181.45,1068.08 2201.51,974.764 2221.57,858.068 2241.63,985.802 2261.68,906.754 \n",
       "  \n",
       "  \"/>\n",
       "<polyline clip-path=\"url(#clip5803)\" style=\"stroke:#3da44d; stroke-width:4; stroke-opacity:1; fill:none\" points=\"\n",
       "  275.842,881.902 295.901,890.228 315.96,892.167 336.019,878.257 356.078,876.165 376.137,905.161 396.196,869.743 416.255,878.585 436.314,881.738 456.373,879.614 \n",
       "  476.432,884.729 496.491,853.201 516.55,906.418 536.609,884.783 556.668,857.205 576.727,864.956 596.786,859.138 616.845,866.259 636.904,861.266 656.963,890.142 \n",
       "  677.022,879.49 697.081,897.964 717.14,893.271 737.199,869.54 757.258,869.589 777.317,872.779 797.376,879.431 817.435,870.183 837.494,894.983 857.553,866.958 \n",
       "  877.612,881.737 897.671,881.702 917.73,868.362 937.789,886.381 957.848,894.646 977.907,900.335 997.966,880.991 1018.03,873.558 1038.08,861.668 1058.14,901.439 \n",
       "  1078.2,875.788 1098.26,874.383 1118.32,876.846 1138.38,874.669 1158.44,888.917 1178.5,900.932 1198.56,873.693 1218.62,869.202 1238.67,852.688 1258.73,902.368 \n",
       "  1278.79,888.227 1298.85,864.581 1318.91,863.904 1338.97,874.826 1359.03,884.133 1379.09,872.281 1399.15,897.766 1419.21,871.116 1439.26,870.167 1459.32,900.483 \n",
       "  1479.38,880.529 1499.44,880.3 1519.5,903.579 1539.56,881.891 1559.62,886.666 1579.68,883.47 1599.74,878.08 1619.8,858.506 1639.85,874.632 1659.91,882.823 \n",
       "  1679.97,900.756 1700.03,867.038 1720.09,863.403 1740.15,888.932 1760.21,871.673 1780.27,869.538 1800.33,877.389 1820.39,852.878 1840.45,891.426 1860.5,859.547 \n",
       "  1880.56,882.488 1900.62,866.149 1920.68,853.694 1940.74,887.82 1960.8,859.542 1980.86,882.171 2000.92,909.585 2020.98,907.048 2041.04,898.474 2061.09,899.112 \n",
       "  2081.15,890.416 2101.21,884.506 2121.27,915.632 2141.33,872.352 2161.39,896.945 2181.45,893.105 2201.51,879.687 2221.57,889.315 2241.63,883.336 2261.68,862.529 \n",
       "  \n",
       "  \"/>\n",
       "<polyline clip-path=\"url(#clip5803)\" style=\"stroke:#c271d2; stroke-width:4; stroke-opacity:1; fill:none\" points=\"\n",
       "  275.842,881.902 295.901,888.779 315.96,896.765 336.019,893.581 356.078,884.561 376.137,908.84 396.196,916.208 416.255,914.008 436.314,907.964 456.373,903.883 \n",
       "  476.432,916.779 496.491,903.956 516.55,901.597 536.609,887.387 556.668,891.543 576.727,881.75 596.786,889.407 616.845,869.914 636.904,880.955 656.963,874.25 \n",
       "  677.022,891.112 697.081,882.825 717.14,890.932 737.199,883.977 757.258,901.573 777.317,903.659 797.376,896.238 817.435,910.425 837.494,879.522 857.553,881.131 \n",
       "  877.612,870.072 897.671,843.697 917.73,844.992 937.789,860 957.848,869.407 977.907,857.523 997.966,854.338 1018.03,862.724 1038.08,845.989 1058.14,863.632 \n",
       "  1078.2,881.621 1098.26,866.448 1118.32,865.809 1138.38,887.823 1158.44,888.75 1178.5,903.454 1198.56,899.224 1218.62,895.851 1238.67,884.049 1258.73,858.289 \n",
       "  1278.79,856.466 1298.85,846.724 1318.91,871.572 1338.97,889.995 1359.03,884.391 1379.09,894.07 1399.15,873.054 1419.21,857.884 1439.26,816.951 1459.32,836.405 \n",
       "  1479.38,854.903 1499.44,847.67 1519.5,862.992 1539.56,845.055 1559.62,843.264 1579.68,850.444 1599.74,834.207 1619.8,852.521 1639.85,858.665 1659.91,868.592 \n",
       "  1679.97,850.575 1700.03,854.462 1720.09,863.826 1740.15,882.155 1760.21,896.21 1780.27,916.801 1800.33,921.656 1820.39,919.531 1840.45,918.396 1860.5,920.542 \n",
       "  1880.56,909.621 1900.62,901.27 1920.68,882.368 1940.74,875.118 1960.8,873.96 1980.86,871.17 2000.92,863.702 2020.98,869.598 2041.04,875.84 2061.09,883.981 \n",
       "  2081.15,883.545 2101.21,898.762 2121.27,882.937 2141.33,894.786 2161.39,895.261 2181.45,889.808 2201.51,875.324 2221.57,881.275 2241.63,881.65 2261.68,894.78 \n",
       "  \n",
       "  \"/>\n",
       "<polygon clip-path=\"url(#clip5801)\" points=\"\n",
       "1915.59,511.904 2249.26,511.904 2249.26,209.504 1915.59,209.504 \n",
       "  \" fill=\"#ffffff\" fill-rule=\"evenodd\" fill-opacity=\"1\"/>\n",
       "<polyline clip-path=\"url(#clip5801)\" style=\"stroke:#000000; stroke-width:4; stroke-opacity:1; fill:none\" points=\"\n",
       "  1915.59,511.904 2249.26,511.904 2249.26,209.504 1915.59,209.504 1915.59,511.904 \n",
       "  \"/>\n",
       "<polyline clip-path=\"url(#clip5801)\" style=\"stroke:#009af9; stroke-width:4; stroke-opacity:1; fill:none\" points=\"\n",
       "  1939.59,269.984 2083.59,269.984 \n",
       "  \"/>\n",
       "<g clip-path=\"url(#clip5801)\">\n",
       "<text style=\"fill:#000000; fill-opacity:1; font-family:Arial,Helvetica Neue,Helvetica,sans-serif; font-size:48px; text-anchor:start;\" transform=\"rotate(0, 2107.59, 287.484)\" x=\"2107.59\" y=\"287.484\">Z</text>\n",
       "</g>\n",
       "<polyline clip-path=\"url(#clip5801)\" style=\"stroke:#e26f46; stroke-width:4; stroke-opacity:1; fill:none\" points=\"\n",
       "  1939.59,330.464 2083.59,330.464 \n",
       "  \"/>\n",
       "<g clip-path=\"url(#clip5801)\">\n",
       "<text style=\"fill:#000000; fill-opacity:1; font-family:Arial,Helvetica Neue,Helvetica,sans-serif; font-size:48px; text-anchor:start;\" transform=\"rotate(0, 2107.59, 347.964)\" x=\"2107.59\" y=\"347.964\">tauh</text>\n",
       "</g>\n",
       "<polyline clip-path=\"url(#clip5801)\" style=\"stroke:#3da44d; stroke-width:4; stroke-opacity:1; fill:none\" points=\"\n",
       "  1939.59,390.944 2083.59,390.944 \n",
       "  \"/>\n",
       "<g clip-path=\"url(#clip5801)\">\n",
       "<text style=\"fill:#000000; fill-opacity:1; font-family:Arial,Helvetica Neue,Helvetica,sans-serif; font-size:48px; text-anchor:start;\" transform=\"rotate(0, 2107.59, 408.444)\" x=\"2107.59\" y=\"408.444\">taux</text>\n",
       "</g>\n",
       "<polyline clip-path=\"url(#clip5801)\" style=\"stroke:#c271d2; stroke-width:4; stroke-opacity:1; fill:none\" points=\"\n",
       "  1939.59,451.424 2083.59,451.424 \n",
       "  \"/>\n",
       "<g clip-path=\"url(#clip5801)\">\n",
       "<text style=\"fill:#000000; fill-opacity:1; font-family:Arial,Helvetica Neue,Helvetica,sans-serif; font-size:48px; text-anchor:start;\" transform=\"rotate(0, 2107.59, 468.924)\" x=\"2107.59\" y=\"468.924\">g</text>\n",
       "</g>\n",
       "</svg>\n"
      ]
     },
     "execution_count": 11,
     "metadata": {},
     "output_type": "execute_result"
    }
   ],
   "source": [
    "#defining the vectors\n",
    "T=100\n",
    "X= ones(5,T).* [0,0,0,0,0]\n",
    "Y = ones(4,T).*[0,0,0,0]\n",
    "S = randn(5,T)\n",
    "for t=1:T\n",
    "\n",
    "    if t>1\n",
    "    X[:,t] = A*X[:,t-1]+ B*S[:,t]\n",
    "    end\n",
    "    Y[:,t] = C*X[:,t] \n",
    "end\n",
    "\n",
    "plot([X[2,:],X[3,:],X[4,:],X[5,:]],title =\"Wedges\", labels = [\"Z\",\"tauh\",\"taux\",\"g\"])"
   ]
  },
  {
   "cell_type": "markdown",
   "metadata": {},
   "source": [
    "Below are the endogenous variables:"
   ]
  },
  {
   "cell_type": "code",
   "execution_count": 12,
   "metadata": {},
   "outputs": [
    {
     "data": {
      "image/svg+xml": [
       "<?xml version=\"1.0\" encoding=\"utf-8\"?>\n",
       "<svg xmlns=\"http://www.w3.org/2000/svg\" xmlns:xlink=\"http://www.w3.org/1999/xlink\" width=\"600\" height=\"400\" viewBox=\"0 0 2400 1600\">\n",
       "<defs>\n",
       "  <clipPath id=\"clip6000\">\n",
       "    <rect x=\"0\" y=\"0\" width=\"2000\" height=\"2000\"/>\n",
       "  </clipPath>\n",
       "</defs>\n",
       "<defs>\n",
       "  <clipPath id=\"clip6001\">\n",
       "    <rect x=\"0\" y=\"0\" width=\"2400\" height=\"1600\"/>\n",
       "  </clipPath>\n",
       "</defs>\n",
       "<polygon clip-path=\"url(#clip6001)\" points=\"\n",
       "0,1600 2400,1600 2400,0 0,0 \n",
       "  \" fill=\"#ffffff\" fill-rule=\"evenodd\" fill-opacity=\"1\"/>\n",
       "<defs>\n",
       "  <clipPath id=\"clip6002\">\n",
       "    <rect x=\"480\" y=\"0\" width=\"1681\" height=\"1600\"/>\n",
       "  </clipPath>\n",
       "</defs>\n",
       "<polygon clip-path=\"url(#clip6001)\" points=\"\n",
       "189.504,1503.47 2321.26,1503.47 2321.26,125.984 189.504,125.984 \n",
       "  \" fill=\"#ffffff\" fill-rule=\"evenodd\" fill-opacity=\"1\"/>\n",
       "<defs>\n",
       "  <clipPath id=\"clip6003\">\n",
       "    <rect x=\"189\" y=\"125\" width=\"2133\" height=\"1378\"/>\n",
       "  </clipPath>\n",
       "</defs>\n",
       "<polyline clip-path=\"url(#clip6003)\" style=\"stroke:#000000; stroke-width:2; stroke-opacity:0.1; fill:none\" points=\"\n",
       "  229.523,1503.47 229.523,125.984 \n",
       "  \"/>\n",
       "<polyline clip-path=\"url(#clip6003)\" style=\"stroke:#000000; stroke-width:2; stroke-opacity:0.1; fill:none\" points=\"\n",
       "  737.374,1503.47 737.374,125.984 \n",
       "  \"/>\n",
       "<polyline clip-path=\"url(#clip6003)\" style=\"stroke:#000000; stroke-width:2; stroke-opacity:0.1; fill:none\" points=\"\n",
       "  1245.22,1503.47 1245.22,125.984 \n",
       "  \"/>\n",
       "<polyline clip-path=\"url(#clip6003)\" style=\"stroke:#000000; stroke-width:2; stroke-opacity:0.1; fill:none\" points=\"\n",
       "  1753.08,1503.47 1753.08,125.984 \n",
       "  \"/>\n",
       "<polyline clip-path=\"url(#clip6003)\" style=\"stroke:#000000; stroke-width:2; stroke-opacity:0.1; fill:none\" points=\"\n",
       "  2260.93,1503.47 2260.93,125.984 \n",
       "  \"/>\n",
       "<polyline clip-path=\"url(#clip6003)\" style=\"stroke:#000000; stroke-width:2; stroke-opacity:0.1; fill:none\" points=\"\n",
       "  189.504,1450.19 2321.26,1450.19 \n",
       "  \"/>\n",
       "<polyline clip-path=\"url(#clip6003)\" style=\"stroke:#000000; stroke-width:2; stroke-opacity:0.1; fill:none\" points=\"\n",
       "  189.504,1239.64 2321.26,1239.64 \n",
       "  \"/>\n",
       "<polyline clip-path=\"url(#clip6003)\" style=\"stroke:#000000; stroke-width:2; stroke-opacity:0.1; fill:none\" points=\"\n",
       "  189.504,1029.1 2321.26,1029.1 \n",
       "  \"/>\n",
       "<polyline clip-path=\"url(#clip6003)\" style=\"stroke:#000000; stroke-width:2; stroke-opacity:0.1; fill:none\" points=\"\n",
       "  189.504,818.548 2321.26,818.548 \n",
       "  \"/>\n",
       "<polyline clip-path=\"url(#clip6003)\" style=\"stroke:#000000; stroke-width:2; stroke-opacity:0.1; fill:none\" points=\"\n",
       "  189.504,608.001 2321.26,608.001 \n",
       "  \"/>\n",
       "<polyline clip-path=\"url(#clip6003)\" style=\"stroke:#000000; stroke-width:2; stroke-opacity:0.1; fill:none\" points=\"\n",
       "  189.504,397.455 2321.26,397.455 \n",
       "  \"/>\n",
       "<polyline clip-path=\"url(#clip6003)\" style=\"stroke:#000000; stroke-width:2; stroke-opacity:0.1; fill:none\" points=\"\n",
       "  189.504,186.908 2321.26,186.908 \n",
       "  \"/>\n",
       "<polyline clip-path=\"url(#clip6001)\" style=\"stroke:#000000; stroke-width:4; stroke-opacity:1; fill:none\" points=\"\n",
       "  189.504,1503.47 2321.26,1503.47 \n",
       "  \"/>\n",
       "<polyline clip-path=\"url(#clip6001)\" style=\"stroke:#000000; stroke-width:4; stroke-opacity:1; fill:none\" points=\"\n",
       "  189.504,1503.47 189.504,125.984 \n",
       "  \"/>\n",
       "<polyline clip-path=\"url(#clip6001)\" style=\"stroke:#000000; stroke-width:4; stroke-opacity:1; fill:none\" points=\"\n",
       "  229.523,1503.47 229.523,1482.81 \n",
       "  \"/>\n",
       "<polyline clip-path=\"url(#clip6001)\" style=\"stroke:#000000; stroke-width:4; stroke-opacity:1; fill:none\" points=\"\n",
       "  737.374,1503.47 737.374,1482.81 \n",
       "  \"/>\n",
       "<polyline clip-path=\"url(#clip6001)\" style=\"stroke:#000000; stroke-width:4; stroke-opacity:1; fill:none\" points=\"\n",
       "  1245.22,1503.47 1245.22,1482.81 \n",
       "  \"/>\n",
       "<polyline clip-path=\"url(#clip6001)\" style=\"stroke:#000000; stroke-width:4; stroke-opacity:1; fill:none\" points=\"\n",
       "  1753.08,1503.47 1753.08,1482.81 \n",
       "  \"/>\n",
       "<polyline clip-path=\"url(#clip6001)\" style=\"stroke:#000000; stroke-width:4; stroke-opacity:1; fill:none\" points=\"\n",
       "  2260.93,1503.47 2260.93,1482.81 \n",
       "  \"/>\n",
       "<polyline clip-path=\"url(#clip6001)\" style=\"stroke:#000000; stroke-width:4; stroke-opacity:1; fill:none\" points=\"\n",
       "  189.504,1450.19 221.48,1450.19 \n",
       "  \"/>\n",
       "<polyline clip-path=\"url(#clip6001)\" style=\"stroke:#000000; stroke-width:4; stroke-opacity:1; fill:none\" points=\"\n",
       "  189.504,1239.64 221.48,1239.64 \n",
       "  \"/>\n",
       "<polyline clip-path=\"url(#clip6001)\" style=\"stroke:#000000; stroke-width:4; stroke-opacity:1; fill:none\" points=\"\n",
       "  189.504,1029.1 221.48,1029.1 \n",
       "  \"/>\n",
       "<polyline clip-path=\"url(#clip6001)\" style=\"stroke:#000000; stroke-width:4; stroke-opacity:1; fill:none\" points=\"\n",
       "  189.504,818.548 221.48,818.548 \n",
       "  \"/>\n",
       "<polyline clip-path=\"url(#clip6001)\" style=\"stroke:#000000; stroke-width:4; stroke-opacity:1; fill:none\" points=\"\n",
       "  189.504,608.001 221.48,608.001 \n",
       "  \"/>\n",
       "<polyline clip-path=\"url(#clip6001)\" style=\"stroke:#000000; stroke-width:4; stroke-opacity:1; fill:none\" points=\"\n",
       "  189.504,397.455 221.48,397.455 \n",
       "  \"/>\n",
       "<polyline clip-path=\"url(#clip6001)\" style=\"stroke:#000000; stroke-width:4; stroke-opacity:1; fill:none\" points=\"\n",
       "  189.504,186.908 221.48,186.908 \n",
       "  \"/>\n",
       "<g clip-path=\"url(#clip6001)\">\n",
       "<text style=\"fill:#000000; fill-opacity:1; font-family:Arial,Helvetica Neue,Helvetica,sans-serif; font-size:48px; text-anchor:middle;\" transform=\"rotate(0, 229.523, 1557.47)\" x=\"229.523\" y=\"1557.47\">0</text>\n",
       "</g>\n",
       "<g clip-path=\"url(#clip6001)\">\n",
       "<text style=\"fill:#000000; fill-opacity:1; font-family:Arial,Helvetica Neue,Helvetica,sans-serif; font-size:48px; text-anchor:middle;\" transform=\"rotate(0, 737.374, 1557.47)\" x=\"737.374\" y=\"1557.47\">25</text>\n",
       "</g>\n",
       "<g clip-path=\"url(#clip6001)\">\n",
       "<text style=\"fill:#000000; fill-opacity:1; font-family:Arial,Helvetica Neue,Helvetica,sans-serif; font-size:48px; text-anchor:middle;\" transform=\"rotate(0, 1245.22, 1557.47)\" x=\"1245.22\" y=\"1557.47\">50</text>\n",
       "</g>\n",
       "<g clip-path=\"url(#clip6001)\">\n",
       "<text style=\"fill:#000000; fill-opacity:1; font-family:Arial,Helvetica Neue,Helvetica,sans-serif; font-size:48px; text-anchor:middle;\" transform=\"rotate(0, 1753.08, 1557.47)\" x=\"1753.08\" y=\"1557.47\">75</text>\n",
       "</g>\n",
       "<g clip-path=\"url(#clip6001)\">\n",
       "<text style=\"fill:#000000; fill-opacity:1; font-family:Arial,Helvetica Neue,Helvetica,sans-serif; font-size:48px; text-anchor:middle;\" transform=\"rotate(0, 2260.93, 1557.47)\" x=\"2260.93\" y=\"1557.47\">100</text>\n",
       "</g>\n",
       "<g clip-path=\"url(#clip6001)\">\n",
       "<text style=\"fill:#000000; fill-opacity:1; font-family:Arial,Helvetica Neue,Helvetica,sans-serif; font-size:48px; text-anchor:end;\" transform=\"rotate(0, 165.504, 1467.69)\" x=\"165.504\" y=\"1467.69\">-0.3</text>\n",
       "</g>\n",
       "<g clip-path=\"url(#clip6001)\">\n",
       "<text style=\"fill:#000000; fill-opacity:1; font-family:Arial,Helvetica Neue,Helvetica,sans-serif; font-size:48px; text-anchor:end;\" transform=\"rotate(0, 165.504, 1257.14)\" x=\"165.504\" y=\"1257.14\">-0.2</text>\n",
       "</g>\n",
       "<g clip-path=\"url(#clip6001)\">\n",
       "<text style=\"fill:#000000; fill-opacity:1; font-family:Arial,Helvetica Neue,Helvetica,sans-serif; font-size:48px; text-anchor:end;\" transform=\"rotate(0, 165.504, 1046.6)\" x=\"165.504\" y=\"1046.6\">-0.1</text>\n",
       "</g>\n",
       "<g clip-path=\"url(#clip6001)\">\n",
       "<text style=\"fill:#000000; fill-opacity:1; font-family:Arial,Helvetica Neue,Helvetica,sans-serif; font-size:48px; text-anchor:end;\" transform=\"rotate(0, 165.504, 836.048)\" x=\"165.504\" y=\"836.048\">0.0</text>\n",
       "</g>\n",
       "<g clip-path=\"url(#clip6001)\">\n",
       "<text style=\"fill:#000000; fill-opacity:1; font-family:Arial,Helvetica Neue,Helvetica,sans-serif; font-size:48px; text-anchor:end;\" transform=\"rotate(0, 165.504, 625.501)\" x=\"165.504\" y=\"625.501\">0.1</text>\n",
       "</g>\n",
       "<g clip-path=\"url(#clip6001)\">\n",
       "<text style=\"fill:#000000; fill-opacity:1; font-family:Arial,Helvetica Neue,Helvetica,sans-serif; font-size:48px; text-anchor:end;\" transform=\"rotate(0, 165.504, 414.955)\" x=\"165.504\" y=\"414.955\">0.2</text>\n",
       "</g>\n",
       "<g clip-path=\"url(#clip6001)\">\n",
       "<text style=\"fill:#000000; fill-opacity:1; font-family:Arial,Helvetica Neue,Helvetica,sans-serif; font-size:48px; text-anchor:end;\" transform=\"rotate(0, 165.504, 204.408)\" x=\"165.504\" y=\"204.408\">0.3</text>\n",
       "</g>\n",
       "<g clip-path=\"url(#clip6001)\">\n",
       "<text style=\"fill:#000000; fill-opacity:1; font-family:Arial,Helvetica Neue,Helvetica,sans-serif; font-size:84px; text-anchor:middle;\" transform=\"rotate(0, 1255.38, 73.2)\" x=\"1255.38\" y=\"73.2\">Endogenous Variables</text>\n",
       "</g>\n",
       "<polyline clip-path=\"url(#clip6003)\" style=\"stroke:#009af9; stroke-width:4; stroke-opacity:1; fill:none\" points=\"\n",
       "  249.837,818.548 270.151,818.548 290.465,822.731 310.779,823.394 331.093,811.609 351.407,778.329 371.721,755.061 392.035,736.842 412.349,755.037 432.663,753.091 \n",
       "  452.977,730.7 473.291,697.159 493.605,688.108 513.919,674.286 534.233,669.194 554.547,666.602 574.862,657.981 595.176,644.147 615.49,636.94 635.804,647.113 \n",
       "  656.118,654.139 676.432,669.506 696.746,688.249 717.06,721.109 737.374,708.124 757.688,672.536 778.002,673.108 798.316,718.618 818.63,774.773 838.944,803.548 \n",
       "  859.258,829.335 879.572,835.276 899.886,827.761 920.2,797.874 940.514,775.41 960.828,737.372 981.142,721.927 1001.46,714.519 1021.77,736.703 1042.08,733.184 \n",
       "  1062.4,733.275 1082.71,754.516 1103.03,754.668 1123.34,766.673 1143.65,757.323 1163.97,738.697 1184.28,720.584 1204.6,698.438 1224.91,696.982 1245.22,696.206 \n",
       "  1265.54,703.144 1285.85,701.214 1306.17,717.949 1326.48,741.649 1346.8,764.856 1367.11,785.376 1387.42,776.939 1407.74,781.166 1428.05,777.08 1448.37,769.75 \n",
       "  1468.68,794.734 1488.99,817.112 1509.31,852.927 1529.62,879.588 1549.94,881.793 1570.25,910.725 1590.56,924.31 1610.88,917.734 1631.19,888.069 1651.51,875.62 \n",
       "  1671.82,874.702 1692.13,862.953 1712.45,846.228 1732.76,853.36 1753.08,847.228 1773.39,851.941 1793.7,884.314 1814.02,878.482 1834.33,859.122 1854.65,842.565 \n",
       "  1874.96,830.532 1895.27,787.229 1915.59,769.443 1935.9,765.808 1956.22,768.822 1976.53,801.457 1996.84,818.525 2017.16,827.551 2037.47,849.103 2057.79,859.554 \n",
       "  2078.1,865.292 2098.41,876.043 2118.73,902.972 2139.04,933.835 2159.36,932.185 2179.67,923.381 2199.99,870.562 2220.3,817.439 2240.61,806.188 2260.93,811.073 \n",
       "  \n",
       "  \"/>\n",
       "<polyline clip-path=\"url(#clip6003)\" style=\"stroke:#e26f46; stroke-width:4; stroke-opacity:1; fill:none\" points=\"\n",
       "  249.837,818.548 270.151,874.108 290.465,831.536 310.779,666.864 331.093,369.564 351.407,469.277 371.721,513.071 392.035,978.513 412.349,729.187 432.663,455.697 \n",
       "  452.977,285.194 473.291,576.934 493.605,504.53 513.919,606.642 534.233,634.768 554.547,552.104 574.862,474.233 595.176,548.422 615.49,772.05 635.804,740.433 \n",
       "  656.118,858.254 676.432,918.453 696.746,1124.71 717.06,548.638 737.374,235.436 757.688,680.125 778.002,1277.59 798.316,1464.49 818.63,1156.97 838.944,1146.07 \n",
       "  859.258,908.236 879.572,735.457 899.886,430.792 920.2,499.509 940.514,270.174 960.828,532.231 981.142,623.523 1001.46,1009.18 1021.77,689.969 1042.08,734.392 \n",
       "  1062.4,1015.4 1082.71,756.532 1103.03,914.127 1123.34,642.484 1143.65,509.921 1163.97,498.111 1184.28,426.438 1204.6,679.094 1224.91,686.677 1245.22,788.358 \n",
       "  1265.54,677.516 1285.85,923.492 1306.17,1032.74 1326.48,1049.89 1346.8,1037.4 1367.11,673.317 1387.42,833.082 1407.74,726.891 1428.05,679.725 1448.37,1101.6 \n",
       "  1468.68,1091.96 1488.99,1292.81 1509.31,1207.05 1529.62,908.879 1549.94,1266.07 1570.25,1091.16 1590.56,836.971 1610.88,523.718 1631.19,722.716 1651.51,863.421 \n",
       "  1671.82,718.649 1692.13,640.809 1712.45,940.958 1732.76,771.914 1753.08,909.827 1773.39,1281.92 1793.7,806.851 1814.02,621.335 1834.33,639.217 1854.65,682.738 \n",
       "  1874.96,255.361 1895.27,550.994 1915.59,721.164 1935.9,805.841 1956.22,1202.29 1976.53,1028.16 1996.84,938.417 2017.16,1113.81 2037.47,987.914 2057.79,935.768 \n",
       "  2078.1,1008.1 2098.41,1233.72 2118.73,1312.91 2139.04,911.914 2159.36,815.249 2179.67,221.817 2199.99,164.97 2220.3,667.999 2240.61,871.071 2260.93,542.037 \n",
       "  \n",
       "  \"/>\n",
       "<polyline clip-path=\"url(#clip6003)\" style=\"stroke:#3da44d; stroke-width:4; stroke-opacity:1; fill:none\" points=\"\n",
       "  249.837,818.548 270.151,821.132 290.465,822.241 310.779,803.26 331.093,759.658 351.407,737.68 371.721,719.297 392.035,758.827 412.349,744.253 432.663,712.312 \n",
       "  452.977,670.201 473.291,672.132 493.605,657.848 513.919,656.108 534.233,654.842 554.547,641.321 574.862,623.568 595.176,616.393 615.49,640.633 635.804,645.442 \n",
       "  656.118,664.144 676.432,687.904 696.746,731.027 717.06,690.968 737.374,643.463 757.688,663.915 778.002,734.794 798.316,800.503 818.63,816.605 838.944,844.293 \n",
       "  859.258,841.199 879.572,825.936 899.886,782.68 920.2,760.999 940.514,709.738 960.828,706.019 981.142,703.265 1001.46,743.405 1021.77,725.373 1042.08,727.433 \n",
       "  1062.4,760.739 1082.71,750.218 1103.03,768.973 1123.34,748.633 1143.65,725.067 1163.97,703.194 1184.28,678.586 1204.6,686.103 1224.91,686.632 1245.22,697.194 \n",
       "  1265.54,689.177 1285.85,717.824 1306.17,747.1 1326.48,770.561 1346.8,789.073 1367.11,768.059 1387.42,782.426 1407.74,771.897 1428.05,759.841 1448.37,802.829 \n",
       "  1468.68,826.941 1488.99,875.246 1509.31,898.981 1529.62,889.211 1549.94,934.382 1570.25,939.589 1590.56,921.461 1610.88,876.332 1631.19,874.779 1651.51,877.457 \n",
       "  1671.82,859.638 1692.13,841.164 1712.45,859.903 1732.76,846.76 1753.08,859.703 1773.39,905.266 1793.7,881.466 1814.02,853.23 1834.33,833.968 1854.65,826.806 \n",
       "  1874.96,764.968 1895.27,757.375 1915.59,762.963 1935.9,768.59 1956.22,815.137 1976.53,824.096 1996.84,833.186 2017.16,861.357 2037.47,867.517 2057.79,872.822 \n",
       "  2078.1,887.424 2098.41,922.409 2118.73,958.332 2139.04,941.141 2159.36,929.22 2179.67,849.631 2199.99,791.221 2220.3,799.303 2240.61,813.996 2260.93,778.49 \n",
       "  \n",
       "  \"/>\n",
       "<polyline clip-path=\"url(#clip6003)\" style=\"stroke:#c271d2; stroke-width:4; stroke-opacity:1; fill:none\" points=\"\n",
       "  249.837,818.548 270.151,822.91 290.465,821.714 310.779,808.199 331.093,777.311 351.407,768.148 371.721,759.402 392.035,789.057 412.349,777.501 432.663,753.723 \n",
       "  452.977,727.655 473.291,734.388 493.605,723.97 513.919,725.167 534.233,724.793 554.547,716.422 574.862,705.329 595.176,704.094 615.49,719.432 635.804,722.108 \n",
       "  656.118,735.483 676.432,748.806 696.746,775.983 717.06,744.568 737.374,711.653 757.688,730.44 778.002,780.833 798.316,820.355 818.63,823.997 838.944,838.208 \n",
       "  859.258,831.866 879.572,820.45 899.886,790.917 920.2,780.96 940.514,749.757 960.828,751.932 981.142,751.526 1001.46,780.087 1021.77,764.797 1042.08,766.814 \n",
       "  1062.4,790.346 1082.71,779.757 1103.03,793.057 1123.34,776.595 1143.65,760.704 1163.97,749.766 1184.28,734.268 1204.6,743.728 1224.91,743.632 1245.22,751.843 \n",
       "  1265.54,746.019 1285.85,765.674 1306.17,783.641 1326.48,797.445 1346.8,808.419 1367.11,788.813 1387.42,798.149 1407.74,791.215 1428.05,784.903 1448.37,816.537 \n",
       "  1468.68,828.884 1488.99,857.718 1509.31,869.354 1529.62,858.267 1549.94,889.457 1570.25,889.812 1590.56,875.519 1610.88,845.598 1631.19,847.041 1651.51,852.169 \n",
       "  1671.82,839.616 1692.13,826.983 1712.45,843.307 1732.76,832.954 1753.08,841.453 1773.39,874.882 1793.7,852.165 1814.02,833.416 1834.33,824.647 1854.65,819.801 \n",
       "  1874.96,777.739 1895.27,779.672 1915.59,784.774 1935.9,789.998 1956.22,824.475 1976.53,826.926 1996.84,828.71 2017.16,848.047 2037.47,848.804 2057.79,850.036 \n",
       "  2078.1,859.129 2098.41,883.51 2118.73,904.435 2139.04,886.924 2159.36,878.117 2179.67,823.645 2199.99,791.036 2220.3,805.334 2240.61,816.559 2260.93,791.365 \n",
       "  \n",
       "  \"/>\n",
       "<polygon clip-path=\"url(#clip6001)\" points=\"\n",
       "1977.15,511.904 2249.26,511.904 2249.26,209.504 1977.15,209.504 \n",
       "  \" fill=\"#ffffff\" fill-rule=\"evenodd\" fill-opacity=\"1\"/>\n",
       "<polyline clip-path=\"url(#clip6001)\" style=\"stroke:#000000; stroke-width:4; stroke-opacity:1; fill:none\" points=\"\n",
       "  1977.15,511.904 2249.26,511.904 2249.26,209.504 1977.15,209.504 1977.15,511.904 \n",
       "  \"/>\n",
       "<polyline clip-path=\"url(#clip6001)\" style=\"stroke:#009af9; stroke-width:4; stroke-opacity:1; fill:none\" points=\"\n",
       "  2001.15,269.984 2145.15,269.984 \n",
       "  \"/>\n",
       "<g clip-path=\"url(#clip6001)\">\n",
       "<text style=\"fill:#000000; fill-opacity:1; font-family:Arial,Helvetica Neue,Helvetica,sans-serif; font-size:48px; text-anchor:start;\" transform=\"rotate(0, 2169.15, 287.484)\" x=\"2169.15\" y=\"287.484\">K</text>\n",
       "</g>\n",
       "<polyline clip-path=\"url(#clip6001)\" style=\"stroke:#e26f46; stroke-width:4; stroke-opacity:1; fill:none\" points=\"\n",
       "  2001.15,330.464 2145.15,330.464 \n",
       "  \"/>\n",
       "<g clip-path=\"url(#clip6001)\">\n",
       "<text style=\"fill:#000000; fill-opacity:1; font-family:Arial,Helvetica Neue,Helvetica,sans-serif; font-size:48px; text-anchor:start;\" transform=\"rotate(0, 2169.15, 347.964)\" x=\"2169.15\" y=\"347.964\">X</text>\n",
       "</g>\n",
       "<polyline clip-path=\"url(#clip6001)\" style=\"stroke:#3da44d; stroke-width:4; stroke-opacity:1; fill:none\" points=\"\n",
       "  2001.15,390.944 2145.15,390.944 \n",
       "  \"/>\n",
       "<g clip-path=\"url(#clip6001)\">\n",
       "<text style=\"fill:#000000; fill-opacity:1; font-family:Arial,Helvetica Neue,Helvetica,sans-serif; font-size:48px; text-anchor:start;\" transform=\"rotate(0, 2169.15, 408.444)\" x=\"2169.15\" y=\"408.444\">Y</text>\n",
       "</g>\n",
       "<polyline clip-path=\"url(#clip6001)\" style=\"stroke:#c271d2; stroke-width:4; stroke-opacity:1; fill:none\" points=\"\n",
       "  2001.15,451.424 2145.15,451.424 \n",
       "  \"/>\n",
       "<g clip-path=\"url(#clip6001)\">\n",
       "<text style=\"fill:#000000; fill-opacity:1; font-family:Arial,Helvetica Neue,Helvetica,sans-serif; font-size:48px; text-anchor:start;\" transform=\"rotate(0, 2169.15, 468.924)\" x=\"2169.15\" y=\"468.924\">L</text>\n",
       "</g>\n",
       "</svg>\n"
      ]
     },
     "execution_count": 12,
     "metadata": {},
     "output_type": "execute_result"
    }
   ],
   "source": [
    "plot([X[1,:],Y[2,:],Y[1,:],Y[3,:]],title = \"Endogenous Variables\",labels = [\"K\",\"X\",\"Y\",\"L\"])"
   ]
  },
  {
   "cell_type": "markdown",
   "metadata": {},
   "source": [
    "In the code below, we calculate the factor prices (in log deviations):"
   ]
  },
  {
   "cell_type": "code",
   "execution_count": 13,
   "metadata": {},
   "outputs": [
    {
     "data": {
      "image/svg+xml": [
       "<?xml version=\"1.0\" encoding=\"utf-8\"?>\n",
       "<svg xmlns=\"http://www.w3.org/2000/svg\" xmlns:xlink=\"http://www.w3.org/1999/xlink\" width=\"600\" height=\"400\" viewBox=\"0 0 2400 1600\">\n",
       "<defs>\n",
       "  <clipPath id=\"clip6200\">\n",
       "    <rect x=\"0\" y=\"0\" width=\"2000\" height=\"2000\"/>\n",
       "  </clipPath>\n",
       "</defs>\n",
       "<defs>\n",
       "  <clipPath id=\"clip6201\">\n",
       "    <rect x=\"0\" y=\"0\" width=\"2400\" height=\"1600\"/>\n",
       "  </clipPath>\n",
       "</defs>\n",
       "<polygon clip-path=\"url(#clip6201)\" points=\"\n",
       "0,1600 2400,1600 2400,0 0,0 \n",
       "  \" fill=\"#ffffff\" fill-rule=\"evenodd\" fill-opacity=\"1\"/>\n",
       "<defs>\n",
       "  <clipPath id=\"clip6202\">\n",
       "    <rect x=\"480\" y=\"0\" width=\"1681\" height=\"1600\"/>\n",
       "  </clipPath>\n",
       "</defs>\n",
       "<polygon clip-path=\"url(#clip6201)\" points=\"\n",
       "216.266,1503.47 2321.26,1503.47 2321.26,47.2441 216.266,47.2441 \n",
       "  \" fill=\"#ffffff\" fill-rule=\"evenodd\" fill-opacity=\"1\"/>\n",
       "<defs>\n",
       "  <clipPath id=\"clip6203\">\n",
       "    <rect x=\"216\" y=\"47\" width=\"2106\" height=\"1457\"/>\n",
       "  </clipPath>\n",
       "</defs>\n",
       "<polyline clip-path=\"url(#clip6203)\" style=\"stroke:#000000; stroke-width:2; stroke-opacity:0.1; fill:none\" points=\"\n",
       "  255.783,1503.47 255.783,47.2441 \n",
       "  \"/>\n",
       "<polyline clip-path=\"url(#clip6203)\" style=\"stroke:#000000; stroke-width:2; stroke-opacity:0.1; fill:none\" points=\"\n",
       "  757.258,1503.47 757.258,47.2441 \n",
       "  \"/>\n",
       "<polyline clip-path=\"url(#clip6203)\" style=\"stroke:#000000; stroke-width:2; stroke-opacity:0.1; fill:none\" points=\"\n",
       "  1258.73,1503.47 1258.73,47.2441 \n",
       "  \"/>\n",
       "<polyline clip-path=\"url(#clip6203)\" style=\"stroke:#000000; stroke-width:2; stroke-opacity:0.1; fill:none\" points=\"\n",
       "  1760.21,1503.47 1760.21,47.2441 \n",
       "  \"/>\n",
       "<polyline clip-path=\"url(#clip6203)\" style=\"stroke:#000000; stroke-width:2; stroke-opacity:0.1; fill:none\" points=\"\n",
       "  2261.68,1503.47 2261.68,47.2441 \n",
       "  \"/>\n",
       "<polyline clip-path=\"url(#clip6203)\" style=\"stroke:#000000; stroke-width:2; stroke-opacity:0.1; fill:none\" points=\"\n",
       "  216.266,1481.16 2321.26,1481.16 \n",
       "  \"/>\n",
       "<polyline clip-path=\"url(#clip6203)\" style=\"stroke:#000000; stroke-width:2; stroke-opacity:0.1; fill:none\" points=\"\n",
       "  216.266,1140.04 2321.26,1140.04 \n",
       "  \"/>\n",
       "<polyline clip-path=\"url(#clip6203)\" style=\"stroke:#000000; stroke-width:2; stroke-opacity:0.1; fill:none\" points=\"\n",
       "  216.266,798.917 2321.26,798.917 \n",
       "  \"/>\n",
       "<polyline clip-path=\"url(#clip6203)\" style=\"stroke:#000000; stroke-width:2; stroke-opacity:0.1; fill:none\" points=\"\n",
       "  216.266,457.794 2321.26,457.794 \n",
       "  \"/>\n",
       "<polyline clip-path=\"url(#clip6203)\" style=\"stroke:#000000; stroke-width:2; stroke-opacity:0.1; fill:none\" points=\"\n",
       "  216.266,116.671 2321.26,116.671 \n",
       "  \"/>\n",
       "<polyline clip-path=\"url(#clip6201)\" style=\"stroke:#000000; stroke-width:4; stroke-opacity:1; fill:none\" points=\"\n",
       "  216.266,1503.47 2321.26,1503.47 \n",
       "  \"/>\n",
       "<polyline clip-path=\"url(#clip6201)\" style=\"stroke:#000000; stroke-width:4; stroke-opacity:1; fill:none\" points=\"\n",
       "  216.266,1503.47 216.266,47.2441 \n",
       "  \"/>\n",
       "<polyline clip-path=\"url(#clip6201)\" style=\"stroke:#000000; stroke-width:4; stroke-opacity:1; fill:none\" points=\"\n",
       "  255.783,1503.47 255.783,1481.63 \n",
       "  \"/>\n",
       "<polyline clip-path=\"url(#clip6201)\" style=\"stroke:#000000; stroke-width:4; stroke-opacity:1; fill:none\" points=\"\n",
       "  757.258,1503.47 757.258,1481.63 \n",
       "  \"/>\n",
       "<polyline clip-path=\"url(#clip6201)\" style=\"stroke:#000000; stroke-width:4; stroke-opacity:1; fill:none\" points=\"\n",
       "  1258.73,1503.47 1258.73,1481.63 \n",
       "  \"/>\n",
       "<polyline clip-path=\"url(#clip6201)\" style=\"stroke:#000000; stroke-width:4; stroke-opacity:1; fill:none\" points=\"\n",
       "  1760.21,1503.47 1760.21,1481.63 \n",
       "  \"/>\n",
       "<polyline clip-path=\"url(#clip6201)\" style=\"stroke:#000000; stroke-width:4; stroke-opacity:1; fill:none\" points=\"\n",
       "  2261.68,1503.47 2261.68,1481.63 \n",
       "  \"/>\n",
       "<polyline clip-path=\"url(#clip6201)\" style=\"stroke:#000000; stroke-width:4; stroke-opacity:1; fill:none\" points=\"\n",
       "  216.266,1481.16 247.841,1481.16 \n",
       "  \"/>\n",
       "<polyline clip-path=\"url(#clip6201)\" style=\"stroke:#000000; stroke-width:4; stroke-opacity:1; fill:none\" points=\"\n",
       "  216.266,1140.04 247.841,1140.04 \n",
       "  \"/>\n",
       "<polyline clip-path=\"url(#clip6201)\" style=\"stroke:#000000; stroke-width:4; stroke-opacity:1; fill:none\" points=\"\n",
       "  216.266,798.917 247.841,798.917 \n",
       "  \"/>\n",
       "<polyline clip-path=\"url(#clip6201)\" style=\"stroke:#000000; stroke-width:4; stroke-opacity:1; fill:none\" points=\"\n",
       "  216.266,457.794 247.841,457.794 \n",
       "  \"/>\n",
       "<polyline clip-path=\"url(#clip6201)\" style=\"stroke:#000000; stroke-width:4; stroke-opacity:1; fill:none\" points=\"\n",
       "  216.266,116.671 247.841,116.671 \n",
       "  \"/>\n",
       "<g clip-path=\"url(#clip6201)\">\n",
       "<text style=\"fill:#000000; fill-opacity:1; font-family:Arial,Helvetica Neue,Helvetica,sans-serif; font-size:48px; text-anchor:middle;\" transform=\"rotate(0, 255.783, 1557.47)\" x=\"255.783\" y=\"1557.47\">0</text>\n",
       "</g>\n",
       "<g clip-path=\"url(#clip6201)\">\n",
       "<text style=\"fill:#000000; fill-opacity:1; font-family:Arial,Helvetica Neue,Helvetica,sans-serif; font-size:48px; text-anchor:middle;\" transform=\"rotate(0, 757.258, 1557.47)\" x=\"757.258\" y=\"1557.47\">25</text>\n",
       "</g>\n",
       "<g clip-path=\"url(#clip6201)\">\n",
       "<text style=\"fill:#000000; fill-opacity:1; font-family:Arial,Helvetica Neue,Helvetica,sans-serif; font-size:48px; text-anchor:middle;\" transform=\"rotate(0, 1258.73, 1557.47)\" x=\"1258.73\" y=\"1557.47\">50</text>\n",
       "</g>\n",
       "<g clip-path=\"url(#clip6201)\">\n",
       "<text style=\"fill:#000000; fill-opacity:1; font-family:Arial,Helvetica Neue,Helvetica,sans-serif; font-size:48px; text-anchor:middle;\" transform=\"rotate(0, 1760.21, 1557.47)\" x=\"1760.21\" y=\"1557.47\">75</text>\n",
       "</g>\n",
       "<g clip-path=\"url(#clip6201)\">\n",
       "<text style=\"fill:#000000; fill-opacity:1; font-family:Arial,Helvetica Neue,Helvetica,sans-serif; font-size:48px; text-anchor:middle;\" transform=\"rotate(0, 2261.68, 1557.47)\" x=\"2261.68\" y=\"1557.47\">100</text>\n",
       "</g>\n",
       "<g clip-path=\"url(#clip6201)\">\n",
       "<text style=\"fill:#000000; fill-opacity:1; font-family:Arial,Helvetica Neue,Helvetica,sans-serif; font-size:48px; text-anchor:end;\" transform=\"rotate(0, 192.266, 1498.66)\" x=\"192.266\" y=\"1498.66\">-0.04</text>\n",
       "</g>\n",
       "<g clip-path=\"url(#clip6201)\">\n",
       "<text style=\"fill:#000000; fill-opacity:1; font-family:Arial,Helvetica Neue,Helvetica,sans-serif; font-size:48px; text-anchor:end;\" transform=\"rotate(0, 192.266, 1157.54)\" x=\"192.266\" y=\"1157.54\">-0.02</text>\n",
       "</g>\n",
       "<g clip-path=\"url(#clip6201)\">\n",
       "<text style=\"fill:#000000; fill-opacity:1; font-family:Arial,Helvetica Neue,Helvetica,sans-serif; font-size:48px; text-anchor:end;\" transform=\"rotate(0, 192.266, 816.417)\" x=\"192.266\" y=\"816.417\">0.00</text>\n",
       "</g>\n",
       "<g clip-path=\"url(#clip6201)\">\n",
       "<text style=\"fill:#000000; fill-opacity:1; font-family:Arial,Helvetica Neue,Helvetica,sans-serif; font-size:48px; text-anchor:end;\" transform=\"rotate(0, 192.266, 475.294)\" x=\"192.266\" y=\"475.294\">0.02</text>\n",
       "</g>\n",
       "<g clip-path=\"url(#clip6201)\">\n",
       "<text style=\"fill:#000000; fill-opacity:1; font-family:Arial,Helvetica Neue,Helvetica,sans-serif; font-size:48px; text-anchor:end;\" transform=\"rotate(0, 192.266, 134.171)\" x=\"192.266\" y=\"134.171\">0.04</text>\n",
       "</g>\n",
       "<polyline clip-path=\"url(#clip6203)\" style=\"stroke:#009af9; stroke-width:4; stroke-opacity:1; fill:none\" points=\"\n",
       "  275.842,798.917 295.901,819.847 315.96,794.942 336.019,635.813 356.078,378.065 376.137,469.631 396.196,509.195 416.255,977.02 436.314,711.561 456.373,468.572 \n",
       "  476.432,308.819 496.491,596.176 516.55,553.788 536.609,651.657 556.668,682.66 576.727,594.116 596.786,520.136 616.845,574.079 636.904,828.828 656.963,785.382 \n",
       "  677.022,879.967 697.081,947.958 717.14,1145.46 737.199,554.752 757.258,275.103 777.317,729.076 797.376,1298.63 817.435,1462.26 837.494,1137.79 857.553,1128.99 \n",
       "  877.612,895.022 897.671,723.261 917.73,433.727 937.789,500.201 957.848,266.913 977.907,544.932 997.966,647.735 1018.03,1032.92 1038.08,707.136 1058.14,752.328 \n",
       "  1078.2,1021.39 1098.26,764.097 1118.32,914.806 1138.38,652.777 1158.44,537.614 1178.5,511.313 1198.56,458.699 1218.62,698.996 1238.67,715.077 1258.73,806.919 \n",
       "  1278.79,685.774 1298.85,933.474 1318.91,1035.07 1338.97,1033.13 1359.03,995.095 1379.09,658.635 1399.15,843.361 1419.21,723.831 1439.26,659.265 1459.32,1066.88 \n",
       "  1479.38,1059.82 1499.44,1269.85 1519.5,1171.99 1539.56,876.87 1559.62,1224.93 1579.68,1032.74 1599.74,775.839 1619.8,463.525 1639.85,691.25 1659.91,813.793 \n",
       "  1679.97,676.889 1700.03,622.408 1720.09,909.696 1740.15,745.449 1760.21,899.974 1780.27,1230.9 1800.33,775.85 1820.39,594.356 1840.45,595.151 1860.5,671.256 \n",
       "  1880.56,267.79 1900.62,557.079 1920.68,746.425 1940.74,821.453 1960.8,1174.11 1980.86,982.316 2000.92,917.681 2020.98,1072.77 2041.04,948.084 2061.09,906.4 \n",
       "  2081.15,978.211 2101.21,1174.52 2121.27,1247.38 2141.33,858.102 2161.39,774.896 2181.45,201.474 2201.51,156.191 2221.57,652.001 2241.63,862.171 2261.68,534.965 \n",
       "  \n",
       "  \"/>\n",
       "<polyline clip-path=\"url(#clip6203)\" style=\"stroke:#e26f46; stroke-width:4; stroke-opacity:1; fill:none\" points=\"\n",
       "  275.842,798.917 295.901,784.516 315.96,803.181 336.019,758.905 356.078,655.915 376.137,552.1 396.196,474.029 416.255,554.034 436.314,529.583 456.373,463.446 \n",
       "  476.432,333.488 496.491,294.587 516.55,263.269 536.609,239.475 556.668,232.256 576.727,190.527 596.786,136.577 616.845,88.4582 636.904,160.578 656.963,177.852 \n",
       "  677.022,221.003 697.081,305.561 717.14,434.732 737.199,364.714 757.258,246.511 777.317,260.007 797.376,425.963 817.435,638.098 837.494,739.034 857.553,848.209 \n",
       "  877.612,874.522 897.671,843.359 917.73,732.19 937.789,637.217 957.848,474.726 977.907,426.985 997.966,407.964 1018.03,501.763 1038.08,479.547 1058.14,479.901 \n",
       "  1078.2,559.069 1098.26,559.62 1118.32,603.818 1138.38,572.399 1158.44,510.225 1178.5,421.646 1198.56,347.846 1218.62,332.106 1238.67,337.169 1258.73,356.205 \n",
       "  1278.79,338.443 1298.85,411.293 1318.91,502.907 1338.97,581.132 1359.03,642.196 1379.09,630.793 1399.15,671.546 1419.21,642.424 1439.26,595.891 1459.32,687.872 \n",
       "  1479.38,783.177 1499.44,940.907 1519.5,1038.92 1539.56,1049.59 1559.62,1162.85 1579.68,1202.15 1599.74,1171.09 1619.8,1047.89 1639.85,1023.61 1659.91,1003.77 \n",
       "  1679.97,961.114 1700.03,913.797 1720.09,933.363 1740.15,910.756 1760.21,946.759 1780.27,1045.06 1800.33,1036.28 1820.39,959.423 1840.45,874.423 1860.5,855.668 \n",
       "  1880.56,695.463 1900.62,618.294 1920.68,622.232 1940.74,625.495 1960.8,723.277 1980.86,775.998 2000.92,835.169 2020.98,906.741 2041.04,950.503 2061.09,983.505 \n",
       "  2081.15,1028.13 2101.21,1114.03 2121.27,1235.53 2141.33,1238.12 2161.39,1212.9 2181.45,1009.42 2201.51,800.417 2221.57,750.061 2241.63,778.153 2261.68,694.614 \n",
       "  \n",
       "  \"/>\n",
       "<polygon clip-path=\"url(#clip6201)\" points=\"\n",
       "1974.51,312.204 2249.26,312.204 2249.26,130.764 1974.51,130.764 \n",
       "  \" fill=\"#ffffff\" fill-rule=\"evenodd\" fill-opacity=\"1\"/>\n",
       "<polyline clip-path=\"url(#clip6201)\" style=\"stroke:#000000; stroke-width:4; stroke-opacity:1; fill:none\" points=\"\n",
       "  1974.51,312.204 2249.26,312.204 2249.26,130.764 1974.51,130.764 1974.51,312.204 \n",
       "  \"/>\n",
       "<polyline clip-path=\"url(#clip6201)\" style=\"stroke:#009af9; stroke-width:4; stroke-opacity:1; fill:none\" points=\"\n",
       "  1998.51,191.244 2142.51,191.244 \n",
       "  \"/>\n",
       "<g clip-path=\"url(#clip6201)\">\n",
       "<text style=\"fill:#000000; fill-opacity:1; font-family:Arial,Helvetica Neue,Helvetica,sans-serif; font-size:48px; text-anchor:start;\" transform=\"rotate(0, 2166.51, 208.744)\" x=\"2166.51\" y=\"208.744\">r</text>\n",
       "</g>\n",
       "<polyline clip-path=\"url(#clip6201)\" style=\"stroke:#e26f46; stroke-width:4; stroke-opacity:1; fill:none\" points=\"\n",
       "  1998.51,251.724 2142.51,251.724 \n",
       "  \"/>\n",
       "<g clip-path=\"url(#clip6201)\">\n",
       "<text style=\"fill:#000000; fill-opacity:1; font-family:Arial,Helvetica Neue,Helvetica,sans-serif; font-size:48px; text-anchor:start;\" transform=\"rotate(0, 2166.51, 269.224)\" x=\"2166.51\" y=\"269.224\">w</text>\n",
       "</g>\n",
       "</svg>\n"
      ]
     },
     "execution_count": 13,
     "metadata": {},
     "output_type": "execute_result"
    }
   ],
   "source": [
    "r = (θ-1) .* X[1,:] .+ (1-θ) .*(X[2,:] .+ Y[3,:])\n",
    "w = θ.* X[1,:] .+ (1-θ) .* X[2,:] .- θ .* Y[3,:]\n",
    "plot([r,w], labels = [\"r\",\"w\"])"
   ]
  },
  {
   "cell_type": "markdown",
   "metadata": {},
   "source": [
    "The code above is summarized in a function State_Space which returns the matrices A,B,C"
   ]
  },
  {
   "cell_type": "code",
   "execution_count": 15,
   "metadata": {},
   "outputs": [
    {
     "data": {
      "text/plain": [
       "State_Space (generic function with 1 method)"
      ]
     },
     "execution_count": 15,
     "metadata": {},
     "output_type": "execute_result"
    }
   ],
   "source": [
    "include(\"State_Space.jl\")"
   ]
  },
  {
   "cell_type": "code",
   "execution_count": 16,
   "metadata": {},
   "outputs": [
    {
     "data": {
      "text/plain": [
       "4×100 Array{Float64,2}:\n",
       " 0.0  -0.00122713   -0.00175367   0.00726119   …   0.00216198    0.0190259  \n",
       " 0.0  -0.0263883    -0.00616871   0.0720432       -0.0249459     0.13133    \n",
       " 0.0  -0.00207148   -0.00150368   0.00491529       0.000944602   0.0129107  \n",
       " 0.0  -0.000469327  -0.00101432  -0.000797042      1.71795e-5   -0.000878856"
      ]
     },
     "execution_count": 16,
     "metadata": {},
     "output_type": "execute_result"
    }
   ],
   "source": [
    "Y\n"
   ]
  },
  {
   "cell_type": "code",
   "execution_count": 17,
   "metadata": {},
   "outputs": [
    {
     "data": {
      "text/plain": [
       "5×100 Array{Float64,2}:\n",
       " 0.0   0.0          -0.00198672   -0.00230158   …   0.00587058    0.00355046 \n",
       " 0.0   0.000183589  -0.0001245     0.00749509      -0.000779558   0.0144482  \n",
       " 0.0   0.0286225     0.013433      0.012527        -0.00709025   -0.00169595 \n",
       " 0.0  -0.00056819   -0.000700526   0.000248698     -9.78484e-5    0.00132198 \n",
       " 0.0  -0.000469327  -0.00101432   -0.000797042      1.71795e-5   -0.000878856"
      ]
     },
     "execution_count": 17,
     "metadata": {},
     "output_type": "execute_result"
    }
   ],
   "source": [
    "X\n"
   ]
  },
  {
   "cell_type": "code",
   "execution_count": 18,
   "metadata": {},
   "outputs": [
    {
     "data": {
      "text/plain": [
       "4×5 Array{Float64,2}:\n",
       "  0.466069   1.19648   -0.0505637  -0.00103829   0.000257556\n",
       " -4.12306   10.0146    -0.992297   -0.307635    -0.000780533\n",
       "  0.178568   0.840745  -0.0777903  -0.00159736   0.00039624 \n",
       "  0.0        0.0        0.0         0.0          1.0        "
      ]
     },
     "execution_count": 18,
     "metadata": {},
     "output_type": "execute_result"
    }
   ],
   "source": [
    "C\n"
   ]
  },
  {
   "cell_type": "code",
   "execution_count": null,
   "metadata": {},
   "outputs": [],
   "source": []
  }
 ],
 "metadata": {
  "kernelspec": {
   "display_name": "Julia 1.0.0",
   "language": "julia",
   "name": "julia-1.0"
  },
  "language_info": {
   "file_extension": ".jl",
   "mimetype": "application/julia",
   "name": "julia",
   "version": "1.0.0"
  }
 },
 "nbformat": 4,
 "nbformat_minor": 2
}
