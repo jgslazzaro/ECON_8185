{
 "cells": [
  {
   "cell_type": "markdown",
   "metadata": {},
   "source": [
    "# ECON 8185 - HW 2"
   ]
  },
  {
   "cell_type": "markdown",
   "metadata": {},
   "source": [
    "João Lazzaro - santo279@umn.edu"
   ]
  },
  {
   "cell_type": "markdown",
   "metadata": {},
   "source": [
    "The model is:\n",
    "\n",
    "$$\\max_{c_t,x_t,l_t} E \\sum_{t=0}^\\infty \\beta^t \\frac{\\left(c_tl_t^\\psi\\right)^{1-\\sigma}}{1-\\sigma} N_t$$\n",
    "S.T. \n",
    "$$ c_t +(1+\\tau_{xt})x_t =r_t k_t +(1-\\tau_{ht})w_t h_t + T_t$$\n",
    "$$ N_{t+1} k_{t+1} = [(1-\\delta)k_t+x_t]N_t$$\n",
    "$$h_t+l_t =1$$\n",
    "$$S_t = P S_{t-1}+Q\\epsilon_t,\\;\\;S_t = [\\ln z_t,\\tau_{ht},\\tau_{xt}, \\ln g_t]$$\n",
    "$$ c_t,x_t\\geq0$$\n",
    "\n",
    "Where $N_t = (1+\\gamma_n)^t$ and firm tecnhology is $Y_t = K_t^\\theta (Z_t L_t)^{1-\\theta}$. $\\gamma_z$ is the rate of labor-augmenting technical progress. The stochastic shocks hitting this economy affect technology, tax rates, and government spending and the stochastic processes are modeled as a VAR(1) process. The resource constraint is $Y_t=N_t(c_t +x_t +g_t)$. We must work with detrended variables, we should use \"hat\" variables, but typing this is time consuming so from now on all variables should be understood as detrended unless I say something about them."
   ]
  },
  {
   "cell_type": "markdown",
   "metadata": {},
   "source": [
    "Defining some parameters:"
   ]
  },
  {
   "cell_type": "code",
   "execution_count": 1,
   "metadata": {},
   "outputs": [
    {
     "data": {
      "text/plain": [
       "0.0"
      ]
     },
     "execution_count": 1,
     "metadata": {},
     "output_type": "execute_result"
    }
   ],
   "source": [
    "using Plots, NLsolve, ForwardDiff, DataFrames, LinearAlgebra, QuantEcon, Plots, Optim, Statistics\n",
    "#Parameters:\n",
    "δ = 0.0464   #depreciation rate\n",
    "θ = 0.35  #capital share of output\n",
    "β = 0.9722  #Discouting\n",
    "σ = 1  #Elasticity of Intertemporal Substitution\n",
    "ψ = 3    #Labor parameter\n",
    "γn= 0.015    #Population growth rate\n",
    "γz= 0.016   #Productivitu growth rate\n",
    "gss = 0.01 #average g\n",
    "τxss = 0.05 #average τx\n",
    "τhss = 0.05 #average τh\n",
    "zss = 0.0 #average z (z is in logs)\n",
    "\n",
    "\n",
    "#Parameters to be estimated in the next homework\n",
    "#Autocorrelations\n",
    "ρg = 0.9\n",
    "ρx = 0.1\n",
    "ρh = 0.1\n",
    "ρz = 0.9\n",
    "\n",
    "# Cross-correlations\n",
    "ρzg= 0.0\n",
    "ρzx = 0.0\n",
    "ρzh = 0.0\n",
    "ρhz = 0.0\n",
    "ρhx = 0.0\n",
    "ρhg = 0.0\n",
    "ρxz = 0.0\n",
    "ρxh = 0.0\n",
    "ρxg = 0.0\n",
    "ρgz = 0.0\n",
    "ρgx = 0.0\n",
    "ρgh = 0.0\n",
    "\n",
    "#Variances\n",
    "σg= 0.001\n",
    "σx = 0.001\n",
    "σz = 0.01\n",
    "σh = 0.01\n",
    "#Covariances\n",
    "σzg= 0.0\n",
    "σzx = 0.00\n",
    "σzh = 0.00\n",
    "σhx = 0.00\n",
    "σhg = 0.00\n",
    "σxg = 0.00"
   ]
  },
  {
   "cell_type": "markdown",
   "metadata": {},
   "source": [
    "The detrended FOC's of this model are:\n",
    "\n",
    "$$c_t+(1+\\gamma_z)(1+\\gamma_n)k_{t+1} - (1-\\delta)k_t+g_t = y_t =k_t^\\theta(z_th_t)^{1-\\theta}$$\n",
    "$$\\psi \\frac{c_t}{1-h_t} = (1-\\tau_{ht})(1-\\theta)\\left(\\frac{k_t}{h_t}\\right)^\\theta z_t^{1-\\theta}$$\n",
    "$$c_t^{-\\sigma}(1-h_t)^{\\psi(1-\\sigma)} (1+\\tau_{xt})=\\beta(1+\\gamma_z)^{-\\sigma}E_t c_{t+1}^{-\\sigma} (1- h_{t+1})^{\\psi(1-\\sigma)}\\left(\\theta k_{t+1}^{\\theta}(z_{t+1} h_{t+1})^{1-\\theta} + (1-\\delta)(1+\\theta_{xt+1})\\right)$$"
   ]
  },
  {
   "cell_type": "markdown",
   "metadata": {},
   "source": [
    "Substituting for $c$, we get an equation for $k$, and one for $h$. Below, I find the Steady State values:\n"
   ]
  },
  {
   "cell_type": "code",
   "execution_count": 2,
   "metadata": {},
   "outputs": [
    {
     "data": {
      "text/plain": [
       "3-element Array{Float64,1}:\n",
       " 1.6707265229440968 \n",
       " 0.22844261316599446\n",
       " 0.31866093597940304"
      ]
     },
     "execution_count": 2,
     "metadata": {},
     "output_type": "execute_result"
    }
   ],
   "source": [
    "#Function with the FOCs\n",
    "zss = exp(zss)\n",
    "\n",
    "function SS!(eq,vector::Vector)\n",
    "    k,h, c= vector\n",
    "    eq[1]=k/h-((1+τxss)*(1-β*(1+γz)^(-σ)*(1-δ))/(β*(1+γz)^(-σ)*θ*zss^(1-θ)) )^(1/(θ-1))\n",
    "    eq[2]=c-( (k/h)^(θ-1)*zss^(1-θ) -(1+γz)*(1+γn)+1-δ)*k+gss\n",
    "    eq[3]=ψ*c-( (1-τhss)*(1-θ)*(k/h)^θ *zss^(1-θ))*(1-h)\n",
    "end\n",
    "\n",
    "SteadyState = nlsolve(SS!, [3,0.25,.4],ftol = :1.0e-20)\n",
    "kss,hss,css = SteadyState.zero"
   ]
  },
  {
   "cell_type": "code",
   "execution_count": 3,
   "metadata": {},
   "outputs": [
    {
     "data": {
      "text/plain": [
       "0.12971520724137942"
      ]
     },
     "execution_count": 3,
     "metadata": {},
     "output_type": "execute_result"
    }
   ],
   "source": [
    "    #GDP\n",
    "    yss = kss^(θ)*(zss*hss)^(1-θ)\n",
    "    xss = (1+γz)*(1+γn)*kss-(1-δ)*kss"
   ]
  },
  {
   "cell_type": "markdown",
   "metadata": {},
   "source": [
    "## Question 1"
   ]
  },
  {
   "cell_type": "markdown",
   "metadata": {},
   "source": [
    "### a) Iterate on Bellman’s equation"
   ]
  },
  {
   "cell_type": "markdown",
   "metadata": {},
   "source": [
    "Due to the curse of dimensionality, I won't pursue this path."
   ]
  },
  {
   "cell_type": "markdown",
   "metadata": {},
   "source": [
    "### b) Map it to a linear quadratic problem"
   ]
  },
  {
   "cell_type": "markdown",
   "metadata": {},
   "source": [
    "Recall from lecture notes, we have to map the original problem into the following LQ problem:\n",
    "\n",
    "$$ \\max_{\\{{u_t}\\}_{t=0}^\\infty} E_0 \\sum_{t=0}^\\infty \\beta^t (X'_tQX_t+u'_tRu_t+2X'_tWu_t) $$\n",
    "\n",
    "s.t.\n",
    "$$ X_{t+1} = A X_t + B u_t + C \\epsilon_{t+1}$$\n",
    "$X_0$ given.\n",
    "\n",
    "\n",
    "\n",
    "In this case, we have: $u_t = [k_{t+1},h_t]'$\n",
    "\n",
    "Note that in this problem ${X}_t$ may be decomposed as:\n",
    "\n",
    "$$X_t = \\begin{bmatrix}\n",
    "    {X}_1     \\\\\n",
    "    {X}_2 \\\\ \n",
    "    {X}_3\n",
    "\\end{bmatrix}_t$$\n",
    "\n",
    "Where ${X}_1$ are the individual states, ${X}_2$ are the aggregate or exogenous states with known laws of motion, and ${X}_3$ are the aggregate states with laws of motion that are unknown and need to be computed in equilibrium. We have that:\n",
    "\n",
    "${X}_1 = [1,k_t]'$, ${X}_2 = [\\tau_{xt},\\tau_{ht},g_t]$ and ${X}_3 = [K_t,H_t]$\n",
    "\n",
    "Finally, rewrite $y_t = [\\tilde{X}_1,\\tilde{X}_2]'$ and the problem constraint becomes:\n",
    "\n",
    "$$ y_{t+1} = \\tilde{A}_y y_t + \\tilde{B}_y \\tilde{u}_t + A_z \\tilde{X}_{3t}$$\n",
    "\n",
    "Where tilde variables are the undiscounted counterpart of each variable. Matrices $A_y, B_y, Q, R$ and $W$ may be found by second and first order Taylor expansions of the utility function and constraints. Matrix $A_z$ is for now unknown. Following the methods in the lecture notes (using Big K, little k trick) this problem may be solved. We mapped it to a LQ problem and we solve it using the modified Vaughan's method in the next section: \n"
   ]
  },
  {
   "cell_type": "markdown",
   "metadata": {},
   "source": [
    "### c) Apply Vaughan’s method."
   ]
  },
  {
   "cell_type": "markdown",
   "metadata": {},
   "source": [
    "I use the modified Vaughan method using the log linearized FOC's as in the lecture notes."
   ]
  },
  {
   "cell_type": "markdown",
   "metadata": {},
   "source": [
    "Log-linearizing the FOC equations we get the following system of equations:\n",
    "\n",
    "\n",
    "$$ 0 = E_t[a_1\\tilde{k}_t +a_2\\tilde{k}_{t+1}+a_3\\tilde{h}_t+a_4 \\tilde{z}_t + a_5 \\tilde{\\tau}_{ht} +a_6 \\tilde{g}_t] $$\n",
    "$$ 0 = E_t[b_1\\tilde{k}_t +b_2\\tilde{k}_{t+1}+b_3\\tilde{k}_{t+2}+b_4 \\tilde{h}_t + b_5 \\tilde{h}_{t+1} b_6 \\tilde{z}_t +b_7 \\tilde{\\tau}_{xt} +b_8 \\tilde{g}_t + b_9 \\tilde{z}_{t+1} +b_{10} \\tau_{xt+1}+b_{11}\\tilde{g}_{t+1}]  $$"
   ]
  },
  {
   "cell_type": "markdown",
   "metadata": {},
   "source": [
    "Where tilde variables are log deviations from Steady State. Stacking up the equations we get:\n",
    "$$0 = E_t \\begin{bmatrix}\n",
    "    1       & 0 & 0  \\\\\n",
    "    0       & 0 & 0  \\\\\n",
    "    0       & b_3 & b_5 \n",
    "\\end{bmatrix}\n",
    "\\begin{bmatrix}\n",
    "    \\tilde{k}_{t+1}\\\\\n",
    "    \\tilde{k}_{t+2}\\\\\n",
    "    \\tilde{h}_{t+1}        \n",
    "\\end{bmatrix} + \\begin{bmatrix}\n",
    "    0       & -1 & 0  \\\\\n",
    "    a_1       & a_2 & a_3  \\\\\n",
    "    b_1       & b_2 & b_4 \n",
    "\\end{bmatrix}\n",
    "\\begin{bmatrix}\n",
    "    \\tilde{k}_{t}\\\\\n",
    "    \\tilde{k}_{t+1}\\\\\n",
    "    \\tilde{h}_{t}        \n",
    "\\end{bmatrix} + \\begin{bmatrix}\n",
    "    0       & 0 & 0 & 0 & 0 & 0 & 0 & 0  \\\\\n",
    "    a_4       & a_5 & 0 & a_6 &0&0&0&0  \\\\\n",
    "    b_6       & 0 & b_7 & b_8 & b_9 & 0 &b_{10} & b_{11} \n",
    "\\end{bmatrix}\\begin{bmatrix}\n",
    "    S_t\\\\\n",
    "    S_{t+1}        \n",
    "\\end{bmatrix}$$\n",
    "We call the first matrix $A_1$, and the second $A_2$. The code below log-linearizes and find these matrices:"
   ]
  },
  {
   "cell_type": "code",
   "execution_count": 4,
   "metadata": {},
   "outputs": [
    {
     "data": {
      "text/plain": [
       "([1.0 0.0 0.0; 0.0 0.0 0.0; 0.0 -0.951883 0.157952], [0.0 -1.0 0.0; -1.0 1.04921 -0.306816; -1.0 1.95492 -0.169901])"
      ]
     },
     "execution_count": 4,
     "metadata": {},
     "output_type": "execute_result"
    }
   ],
   "source": [
    "function loglineq1(vector::Vector)\n",
    "    k,k1,h,z,τh,g= vector\n",
    "\n",
    "    c = k^θ  * ((z *h)^(1-θ)) - ((1+γz)*(1+γn)*k1-(1-δ)*k+ g )\n",
    "    eq =(ψ *c)^(1/θ)  - (k/h)*((1-h)*(1-τh)*(1-θ)*z^(1-θ))^(1/θ)\n",
    "\n",
    "    return eq\n",
    "end\n",
    "function loglineq2(vector::Vector)\n",
    "    k,k1,k2,h,h1,z,τx,g,z1,τx1,g1 = (vector)\n",
    "    c = k^θ  * ((z *h)^(1-θ)) - ((1+γz)*(1+γn)*k1-(1-δ)*k+ g )\n",
    "    c1 = k1^θ * ((z1 *h1)^(1-θ)) - ((1+γz)*(1+γn)*k2-(1-δ)*k1+ g1 )\n",
    "    eq =  (c^(-σ) *(1-h)^(ψ*(1-σ))*(1+τx)  - (1-δ)*(1+τx1)* β*(1+γz)^(-σ) * c1^(-σ) * (1-h1)^(ψ*(1-σ)))^(-1/θ) -\n",
    "       (β*(1+γz)^(-σ) * c1^(-σ) * (1-h1)^(ψ*(1-σ)) * θ*(z1*h1)^(1-θ))^(-1/θ)* k1\n",
    "    return eq\n",
    "end\n",
    "\n",
    "\n",
    "#log deviations\n",
    "T=ForwardDiff.gradient(loglineq1,[kss,kss,hss,zss,τhss,gss])\n",
    "a =[-kss*T[1]/(kss*T[1]),-kss*T[2]/(kss*T[1]),-hss*T[3]/(kss*T[1]),\n",
    "-zss*T[4]/(kss*T[1]),-τhss*T[5]/(kss*T[1]),-gss*T[6]/(kss*T[1])]\n",
    "#if ψ==0\n",
    "#    a[1],a[2:end]=-1,zeros(5)\n",
    "#end\n",
    "\n",
    "T=ForwardDiff.gradient(loglineq2,[kss,kss,kss,hss,hss,zss,τxss,gss,zss,τxss,gss])\n",
    "b = [kss*T[1]/(-kss*T[1]),kss*T[2]/(-kss*T[1]),kss*T[3]/(-kss*T[1]),hss*T[4]/(-kss*T[1]),\n",
    "hss*T[5]/(-kss*T[1]),zss*T[6]/(-kss*T[1]),τxss*T[7]/(-kss*T[1]),gss*T[8]/(-kss*T[1]),\n",
    "zss*T[9]/(-kss*T[1]),τxss*T[10]/(-kss*T[1]),gss*T[11]/(-kss*T[1])]\n",
    "\n",
    "A1 = [1 0 0; 0 0 0; 0 b[3] b[5]]\n",
    "A2 = [0 -1 0; a[1] a[2] a[3]; b[1] b[2] b[4]]\n",
    "U = [0 0 0 0 0 0 0 0;\n",
    "a[4] a[5] 0 a[6] 0 0 0 0;\n",
    "b[6] 0 b[7] b[8] b[9] 0 b[10] b[11]]\n",
    "\n",
    "A1,A2"
   ]
  },
  {
   "cell_type": "markdown",
   "metadata": {},
   "source": [
    "We look for a solution of the form: $$\\tilde{k}_{t+1} = A \\tilde{k}_t +BS_t $$ $$ Z_t = C X_t + D S_t $$ $$S_t = P S_{t-1} + Q \\epsilon_t$$\n",
    "Where $Z_t = [\\tilde{k}_{t+1},\\tilde{h}_t]'$ and $S_t$ are the stochastic exogenous variables. We compute the generalized eigenvalues and eigenvectors for matrices $A_1$ and $−A_2$ because $A_1$ is not invertible. Thus, $A_2 V = -A_1 V \\Pi$ and we can get $A$ and $C$ by:\n",
    "$$A = V_{11} \\Pi_{1,1} V_{1,1}^{-1}$$\n",
    " $$C = V_{2,1}V_{1,1}^{-1}$$"
   ]
  },
  {
   "cell_type": "code",
   "execution_count": 5,
   "metadata": {},
   "outputs": [
    {
     "data": {
      "text/plain": [
       "3×3 Diagonal{Float64,Array{Float64,1}}:\n",
       " 0.900027   ⋅         ⋅         \n",
       "  ⋅        1.02516    ⋅         \n",
       "  ⋅         ⋅       -2.43595e-17"
      ]
     },
     "execution_count": 5,
     "metadata": {},
     "output_type": "execute_result"
    }
   ],
   "source": [
    "eig = eigen(A1,-A2)\n",
    "V=eig.vectors\n",
    "Π = eig.values\n",
    "#Sorting\n",
    "for j=1:3\n",
    "for i=1:2\n",
    "    if eps(Float64)<abs(Π[i+1])<abs(Π[i])\n",
    "        Π[i],Π[i+1] = Π[i+1],Π[i]\n",
    "        V[:,i],V[:,i+1] = V[:,i+1],V[:,i]\n",
    "    elseif abs(Π[i]) < eps(Float64)\n",
    "        Π[i],Π[end] =Π[end],Π[i]\n",
    "        V[:,i],V[:,end]=V[:,end],V[:,i]\n",
    "    end\n",
    "end\n",
    "end\n",
    "if abs(Π[1])>1\n",
    "    error(\"All Eigen Values outside unit circle\")\n",
    "end\n",
    "Π= Diagonal(Π)"
   ]
  },
  {
   "cell_type": "code",
   "execution_count": 6,
   "metadata": {},
   "outputs": [
    {
     "data": {
      "text/plain": [
       "2×2 Array{Float64,2}:\n",
       " 0.900027  0.0\n",
       " 0.437631  0.0"
      ]
     },
     "execution_count": 6,
     "metadata": {},
     "output_type": "execute_result"
    }
   ],
   "source": [
    "A = V[1,1]*Π[1,1]*inv(V[1,1])\n",
    "C = V[2:end,1]*(V[1,1])\n",
    "C = hcat(C,zeros(2,1))"
   ]
  },
  {
   "cell_type": "code",
   "execution_count": 7,
   "metadata": {},
   "outputs": [
    {
     "data": {
      "text/plain": [
       "4×4 Array{Float64,2}:\n",
       " 0.01  0.0   0.0    0.0  \n",
       " 0.0   0.01  0.0    0.0  \n",
       " 0.0   0.0   0.001  0.0  \n",
       " 0.0   0.0   0.0    0.001"
      ]
     },
     "execution_count": 7,
     "metadata": {},
     "output_type": "execute_result"
    }
   ],
   "source": [
    "P = [ρz ρzh ρzx ρzg;\n",
    "ρhz ρh ρhx ρhg ;\n",
    "ρxz ρxh ρx ρxg ;\n",
    "ρgz ρgh ρgx ρg]\n",
    "Q = [σz σzh σzx σzg;\n",
    "σzh σh σhx σhg ;\n",
    "σzx σhx σx σxg ;\n",
    "σzg σhg σxg σg]"
   ]
  },
  {
   "cell_type": "markdown",
   "metadata": {},
   "source": [
    "Finally, to get the matrices $B$ and $D$, we just need to solve a linear system of equations (see Ellen's notes):"
   ]
  },
  {
   "cell_type": "code",
   "execution_count": 8,
   "metadata": {},
   "outputs": [
    {
     "data": {
      "text/plain": [
       "4-element Array{Float64,1}:\n",
       " -0.10342712059603074\n",
       " -0.07144190072971895\n",
       " -0.05304635425032059\n",
       " -0.05061918699972633"
      ]
     },
     "execution_count": 8,
     "metadata": {},
     "output_type": "execute_result"
    }
   ],
   "source": [
    "    #=\n",
    "         function system!(eq,vector::Vector)\n",
    "             #vector = rand(8)\n",
    "             #eq= rand(8)\n",
    "             B=vector[1:4]'\n",
    "             D2 = vector[5:8]'\n",
    "             eq[1:4] = a[2].*B .+ a[3].*D2 .+ [a[4] a[5] 0 a[6]]\n",
    "             eq[5:8] = b[2].*B .+ b[3].*A.*B .+ b[3].*B*P .+ b[4].*D2 .+ b[5].*C[2].*B .+ b[5].*B*P.+\n",
    "             [b[6] 0 b[7] b[8]].+[b[9] 0 b[10] b[11] ]*P\n",
    "          return     eq\n",
    "         end\n",
    "         Sol = nlsolve(system!, ones(8),ftol = :1.0e-20, method = :trust_region , autoscale = true)\n",
    "         D=ones(2,4)\n",
    "         D[1,:]= Sol.zero[1:4]\n",
    "         D[2,:]= Sol.zero[5:8] =#\n",
    "\n",
    "\n",
    "         #Implementing the code solve the system commented out above as a system of linear equations.\n",
    "         TOP = hcat(a[2]*Matrix{Float64}(I,4,4),   a[3]*Matrix{Float64}(I,4,4))\n",
    "         #Everything multiplying B concatenated with stuff multiplying D in the first equations\n",
    "         BOTTOMLEFT =  b[2]*I + b[3].*A *I + b[3]*P + b[5].*C[2]*I + b[5]*P\n",
    "         #Everything multiplying B in the last equations\n",
    "         BOTTOM = hcat(BOTTOMLEFT',  b[4]*Matrix{Float64}(I,4,4)) #Concatenates with stuff multiplying D\n",
    "         RHS = - vcat([a[4] a[5] 0 a[6]]',  ([b[6] 0 b[7] b[8]].+[b[9] 0 b[10] b[11] ]*P)') #Constant terms\n",
    "         #Solving the system\n",
    "         BD = (vcat(TOP,BOTTOM)\\RHS)[:]\n",
    "         D=ones(2,4)\n",
    "         D[1,:]= BD[1:4]\n",
    "         D[2,:]= BD[5:8]"
   ]
  },
  {
   "cell_type": "markdown",
   "metadata": {},
   "source": [
    "## Question 2"
   ]
  },
  {
   "cell_type": "markdown",
   "metadata": {},
   "source": [
    "For this question I use the solution of question 1-c).\n",
    "\n",
    "First, I will rewrite the model in the form: \n",
    " $$ X_{t+1} = AX_t + B \\varepsilon_{t+1}$$\n",
    "$$Y_t = CX_t+\\omega_t$$\n",
    "Where, $X_t = [k_t,s_t],s_t=[z_t,\\tau_{ht},\\tau_{xt},g_t]$, $Y_t = [y_t,x_t,h_t]$ and as before:\n",
    "$$s_{t+1} = P s_t +Q \\varepsilon_{t+1}$$\n",
    "We need to log linearize $y,x$ since we already done it for labor:"
   ]
  },
  {
   "cell_type": "code",
   "execution_count": 9,
   "metadata": {},
   "outputs": [
    {
     "data": {
      "text/plain": [
       "ht (generic function with 1 method)"
      ]
     },
     "execution_count": 9,
     "metadata": {},
     "output_type": "execute_result"
    }
   ],
   "source": [
    "\n",
    "#Rewritting\n",
    "A = hcat(vcat(C[1],zeros(4,1)),vcat(D[1,:]',P))\n",
    "B = hcat(zeros(5,1),vcat(zeros(1,4),Q))\n",
    "\n",
    "\n",
    "#We have h as function of states. To find the Matrix B, we need to find y and x\n",
    "#as a function of states\n",
    "\n",
    "function kt1(vector::Vector)\n",
    "    k,z,τh,τx,g = vector\n",
    "    tilde = log.([k,z,τh,τx,g]).-log.([kss,zss,τhss,τxss,gss])\n",
    "    for i = 1:length(tilde)\n",
    "        if isnan(tilde[i])\n",
    "            tilde[i] = 0\n",
    "        end\n",
    "    end\n",
    "\n",
    "    k1= A[1,:]' * tilde\n",
    "    return k1\n",
    "end\n",
    "\n",
    "\n",
    "function ht(vector::Vector)\n",
    "    k,z,τh,τx,g = vector\n",
    "    tilde = log.([k,z,τh,τx,g]).-log.([kss,zss,τhss,τxss,gss])\n",
    "    for i = 1:length(tilde)\n",
    "        if isnan(tilde[i])\n",
    "            tilde[i] = 0\n",
    "        end\n",
    "    end\n",
    "    h = C[2,1]*(log(k)-log(kss)) + D[2,:]' * tilde[2:end]\n",
    "    return h\n",
    "end\n"
   ]
  },
  {
   "cell_type": "code",
   "execution_count": 10,
   "metadata": {},
   "outputs": [
    {
     "data": {
      "text/plain": [
       "4×5 Array{Float64,2}:\n",
       "  0.63446    0.582772  -0.0464372  -0.0344801  -0.0329025\n",
       " -0.327873   0.29839   -0.148191   -0.206037   -0.273701 \n",
       "  0.437631  -0.103427  -0.0714419  -0.0530464  -0.0506192\n",
       "  0.0        0.0        0.0         0.0         1.0      "
      ]
     },
     "execution_count": 10,
     "metadata": {},
     "output_type": "execute_result"
    }
   ],
   "source": [
    "#log-linearizing y as a function of states\n",
    "function yt(vector::Vector)\n",
    "    k,z,τh,τx,g = vector\n",
    "    h = exp(ht(vector)+log(hss))\n",
    "    y = k^θ * (z*h)^(1-θ)\n",
    "    return y\n",
    "end\n",
    "\n",
    "#GDP\n",
    "yss = kss^(θ)*(zss*hss)^(1-θ)\n",
    "\n",
    "T=ForwardDiff.gradient(yt,[kss,zss,τhss,τxss,gss])\n",
    "ycoefs = [kss*T[1]/yss,zss*T[2]/yss,τhss*T[3]/yss,τxss*T[4]/yss,gss*T[5]/yss]\n",
    "\n",
    "\n",
    "\n",
    "#log linearizing x as function of states\n",
    "function xt(vector::Vector)\n",
    "    k,z,τh,τx,g = vector\n",
    "    k1 = exp(kt1(vector)+log(kss))\n",
    "    x= (1+γn)*(1+γz)k1 - (1-δ)k\n",
    "\n",
    "    return x\n",
    "end\n",
    "xss = (1+γz)*(1+γn)*kss-(1-δ)*kss\n",
    "T=ForwardDiff.gradient(xt,[kss,zss,τhss,τxss,gss])\n",
    "xcoefs = [kss*T[1]/xss,zss*T[2]/xss,τhss*T[3]/xss,τxss*T[4]/xss,gss*T[5]/xss]\n",
    "\n",
    "#We have the matrix C!\n",
    "C = [ycoefs[1] ycoefs[2] ycoefs[3] ycoefs[4] ycoefs[5];\n",
    "xcoefs[1] xcoefs[2] xcoefs[3] xcoefs[4] xcoefs[5];\n",
    "C[2,1] D[2,1] D[2,2] D[2,3] D[2,4];\n",
    "0 0 0 0 1]\n"
   ]
  },
  {
   "cell_type": "markdown",
   "metadata": {},
   "source": [
    "Now, I simulate the variables with known law of motion:"
   ]
  },
  {
   "cell_type": "code",
   "execution_count": 11,
   "metadata": {},
   "outputs": [
    {
     "data": {
      "image/svg+xml": [
       "<?xml version=\"1.0\" encoding=\"utf-8\"?>\n",
       "<svg xmlns=\"http://www.w3.org/2000/svg\" xmlns:xlink=\"http://www.w3.org/1999/xlink\" width=\"600\" height=\"400\" viewBox=\"0 0 2400 1600\">\n",
       "<defs>\n",
       "  <clipPath id=\"clip0400\">\n",
       "    <rect x=\"0\" y=\"0\" width=\"2000\" height=\"2000\"/>\n",
       "  </clipPath>\n",
       "</defs>\n",
       "<defs>\n",
       "  <clipPath id=\"clip0401\">\n",
       "    <rect x=\"0\" y=\"0\" width=\"2400\" height=\"1600\"/>\n",
       "  </clipPath>\n",
       "</defs>\n",
       "<polygon clip-path=\"url(#clip0401)\" points=\"\n",
       "0,1600 2400,1600 2400,0 0,0 \n",
       "  \" fill=\"#ffffff\" fill-rule=\"evenodd\" fill-opacity=\"1\"/>\n",
       "<defs>\n",
       "  <clipPath id=\"clip0402\">\n",
       "    <rect x=\"480\" y=\"0\" width=\"1681\" height=\"1600\"/>\n",
       "  </clipPath>\n",
       "</defs>\n",
       "<polygon clip-path=\"url(#clip0401)\" points=\"\n",
       "243.029,1503.47 2321.26,1503.47 2321.26,125.984 243.029,125.984 \n",
       "  \" fill=\"#ffffff\" fill-rule=\"evenodd\" fill-opacity=\"1\"/>\n",
       "<defs>\n",
       "  <clipPath id=\"clip0403\">\n",
       "    <rect x=\"243\" y=\"125\" width=\"2079\" height=\"1378\"/>\n",
       "  </clipPath>\n",
       "</defs>\n",
       "<polyline clip-path=\"url(#clip0403)\" style=\"stroke:#000000; stroke-width:2; stroke-opacity:0.1; fill:none\" points=\"\n",
       "  282.043,1503.47 282.043,125.984 \n",
       "  \"/>\n",
       "<polyline clip-path=\"url(#clip0403)\" style=\"stroke:#000000; stroke-width:2; stroke-opacity:0.1; fill:none\" points=\"\n",
       "  777.142,1503.47 777.142,125.984 \n",
       "  \"/>\n",
       "<polyline clip-path=\"url(#clip0403)\" style=\"stroke:#000000; stroke-width:2; stroke-opacity:0.1; fill:none\" points=\"\n",
       "  1272.24,1503.47 1272.24,125.984 \n",
       "  \"/>\n",
       "<polyline clip-path=\"url(#clip0403)\" style=\"stroke:#000000; stroke-width:2; stroke-opacity:0.1; fill:none\" points=\"\n",
       "  1767.34,1503.47 1767.34,125.984 \n",
       "  \"/>\n",
       "<polyline clip-path=\"url(#clip0403)\" style=\"stroke:#000000; stroke-width:2; stroke-opacity:0.1; fill:none\" points=\"\n",
       "  2262.44,1503.47 2262.44,125.984 \n",
       "  \"/>\n",
       "<polyline clip-path=\"url(#clip0403)\" style=\"stroke:#000000; stroke-width:2; stroke-opacity:0.1; fill:none\" points=\"\n",
       "  243.029,1334.9 2321.26,1334.9 \n",
       "  \"/>\n",
       "<polyline clip-path=\"url(#clip0403)\" style=\"stroke:#000000; stroke-width:2; stroke-opacity:0.1; fill:none\" points=\"\n",
       "  243.029,1025.89 2321.26,1025.89 \n",
       "  \"/>\n",
       "<polyline clip-path=\"url(#clip0403)\" style=\"stroke:#000000; stroke-width:2; stroke-opacity:0.1; fill:none\" points=\"\n",
       "  243.029,716.871 2321.26,716.871 \n",
       "  \"/>\n",
       "<polyline clip-path=\"url(#clip0403)\" style=\"stroke:#000000; stroke-width:2; stroke-opacity:0.1; fill:none\" points=\"\n",
       "  243.029,407.854 2321.26,407.854 \n",
       "  \"/>\n",
       "<polyline clip-path=\"url(#clip0401)\" style=\"stroke:#000000; stroke-width:4; stroke-opacity:1; fill:none\" points=\"\n",
       "  243.029,1503.47 2321.26,1503.47 \n",
       "  \"/>\n",
       "<polyline clip-path=\"url(#clip0401)\" style=\"stroke:#000000; stroke-width:4; stroke-opacity:1; fill:none\" points=\"\n",
       "  243.029,1503.47 243.029,125.984 \n",
       "  \"/>\n",
       "<polyline clip-path=\"url(#clip0401)\" style=\"stroke:#000000; stroke-width:4; stroke-opacity:1; fill:none\" points=\"\n",
       "  282.043,1503.47 282.043,1482.81 \n",
       "  \"/>\n",
       "<polyline clip-path=\"url(#clip0401)\" style=\"stroke:#000000; stroke-width:4; stroke-opacity:1; fill:none\" points=\"\n",
       "  777.142,1503.47 777.142,1482.81 \n",
       "  \"/>\n",
       "<polyline clip-path=\"url(#clip0401)\" style=\"stroke:#000000; stroke-width:4; stroke-opacity:1; fill:none\" points=\"\n",
       "  1272.24,1503.47 1272.24,1482.81 \n",
       "  \"/>\n",
       "<polyline clip-path=\"url(#clip0401)\" style=\"stroke:#000000; stroke-width:4; stroke-opacity:1; fill:none\" points=\"\n",
       "  1767.34,1503.47 1767.34,1482.81 \n",
       "  \"/>\n",
       "<polyline clip-path=\"url(#clip0401)\" style=\"stroke:#000000; stroke-width:4; stroke-opacity:1; fill:none\" points=\"\n",
       "  2262.44,1503.47 2262.44,1482.81 \n",
       "  \"/>\n",
       "<polyline clip-path=\"url(#clip0401)\" style=\"stroke:#000000; stroke-width:4; stroke-opacity:1; fill:none\" points=\"\n",
       "  243.029,1334.9 274.202,1334.9 \n",
       "  \"/>\n",
       "<polyline clip-path=\"url(#clip0401)\" style=\"stroke:#000000; stroke-width:4; stroke-opacity:1; fill:none\" points=\"\n",
       "  243.029,1025.89 274.202,1025.89 \n",
       "  \"/>\n",
       "<polyline clip-path=\"url(#clip0401)\" style=\"stroke:#000000; stroke-width:4; stroke-opacity:1; fill:none\" points=\"\n",
       "  243.029,716.871 274.202,716.871 \n",
       "  \"/>\n",
       "<polyline clip-path=\"url(#clip0401)\" style=\"stroke:#000000; stroke-width:4; stroke-opacity:1; fill:none\" points=\"\n",
       "  243.029,407.854 274.202,407.854 \n",
       "  \"/>\n",
       "<g clip-path=\"url(#clip0401)\">\n",
       "<text style=\"fill:#000000; fill-opacity:1; font-family:Arial,Helvetica Neue,Helvetica,sans-serif; font-size:48px; text-anchor:middle;\" transform=\"rotate(0, 282.043, 1557.47)\" x=\"282.043\" y=\"1557.47\">0</text>\n",
       "</g>\n",
       "<g clip-path=\"url(#clip0401)\">\n",
       "<text style=\"fill:#000000; fill-opacity:1; font-family:Arial,Helvetica Neue,Helvetica,sans-serif; font-size:48px; text-anchor:middle;\" transform=\"rotate(0, 777.142, 1557.47)\" x=\"777.142\" y=\"1557.47\">25</text>\n",
       "</g>\n",
       "<g clip-path=\"url(#clip0401)\">\n",
       "<text style=\"fill:#000000; fill-opacity:1; font-family:Arial,Helvetica Neue,Helvetica,sans-serif; font-size:48px; text-anchor:middle;\" transform=\"rotate(0, 1272.24, 1557.47)\" x=\"1272.24\" y=\"1557.47\">50</text>\n",
       "</g>\n",
       "<g clip-path=\"url(#clip0401)\">\n",
       "<text style=\"fill:#000000; fill-opacity:1; font-family:Arial,Helvetica Neue,Helvetica,sans-serif; font-size:48px; text-anchor:middle;\" transform=\"rotate(0, 1767.34, 1557.47)\" x=\"1767.34\" y=\"1557.47\">75</text>\n",
       "</g>\n",
       "<g clip-path=\"url(#clip0401)\">\n",
       "<text style=\"fill:#000000; fill-opacity:1; font-family:Arial,Helvetica Neue,Helvetica,sans-serif; font-size:48px; text-anchor:middle;\" transform=\"rotate(0, 2262.44, 1557.47)\" x=\"2262.44\" y=\"1557.47\">100</text>\n",
       "</g>\n",
       "<g clip-path=\"url(#clip0401)\">\n",
       "<text style=\"fill:#000000; fill-opacity:1; font-family:Arial,Helvetica Neue,Helvetica,sans-serif; font-size:48px; text-anchor:end;\" transform=\"rotate(0, 219.029, 1352.4)\" x=\"219.029\" y=\"1352.4\">-0.050</text>\n",
       "</g>\n",
       "<g clip-path=\"url(#clip0401)\">\n",
       "<text style=\"fill:#000000; fill-opacity:1; font-family:Arial,Helvetica Neue,Helvetica,sans-serif; font-size:48px; text-anchor:end;\" transform=\"rotate(0, 219.029, 1043.39)\" x=\"219.029\" y=\"1043.39\">-0.025</text>\n",
       "</g>\n",
       "<g clip-path=\"url(#clip0401)\">\n",
       "<text style=\"fill:#000000; fill-opacity:1; font-family:Arial,Helvetica Neue,Helvetica,sans-serif; font-size:48px; text-anchor:end;\" transform=\"rotate(0, 219.029, 734.371)\" x=\"219.029\" y=\"734.371\">0.000</text>\n",
       "</g>\n",
       "<g clip-path=\"url(#clip0401)\">\n",
       "<text style=\"fill:#000000; fill-opacity:1; font-family:Arial,Helvetica Neue,Helvetica,sans-serif; font-size:48px; text-anchor:end;\" transform=\"rotate(0, 219.029, 425.354)\" x=\"219.029\" y=\"425.354\">0.025</text>\n",
       "</g>\n",
       "<g clip-path=\"url(#clip0401)\">\n",
       "<text style=\"fill:#000000; fill-opacity:1; font-family:Arial,Helvetica Neue,Helvetica,sans-serif; font-size:84px; text-anchor:middle;\" transform=\"rotate(0, 1282.14, 73.2)\" x=\"1282.14\" y=\"73.2\">Wedges</text>\n",
       "</g>\n",
       "<polyline clip-path=\"url(#clip0403)\" style=\"stroke:#009af9; stroke-width:4; stroke-opacity:1; fill:none\" points=\"\n",
       "  301.847,716.871 321.651,842.127 341.455,1154.43 361.259,1073.61 381.063,812.944 400.867,856.573 420.671,811.324 440.475,930.299 460.279,990.572 480.083,728.425 \n",
       "  499.887,677.603 519.691,489.473 539.495,582.913 559.299,676.853 579.103,486.592 598.907,450.065 618.711,455.456 638.515,185.622 658.319,325.613 678.123,389.131 \n",
       "  697.927,180.506 717.731,342.796 737.535,276.894 757.339,334.669 777.142,164.97 796.946,324.152 816.75,334.9 836.554,637.053 856.358,820.823 876.162,707.31 \n",
       "  895.966,561.446 915.77,522.772 935.574,458.929 955.378,545.478 975.182,743.941 994.986,712.513 1014.79,880.261 1034.59,970.939 1054.4,657.004 1074.2,603.827 \n",
       "  1094.01,665.811 1113.81,709.699 1133.61,662.587 1153.42,828.999 1173.22,719.202 1193.03,846.491 1212.83,828.871 1232.63,802.193 1252.44,889.664 1272.24,1006.49 \n",
       "  1292.05,996.836 1311.85,1007.22 1331.65,1219.95 1351.46,1200.69 1371.26,1105.4 1391.07,1062.07 1410.87,1080.21 1430.67,1204.05 1450.48,1238.05 1470.28,1108.81 \n",
       "  1490.09,1204.09 1509.89,1104.44 1529.69,1098.55 1549.5,1143.33 1569.3,1223.59 1589.11,1457.21 1608.91,1355.65 1628.71,1410.54 1648.52,1372.31 1668.32,1381.79 \n",
       "  1688.13,1464.49 1707.93,1433.28 1727.73,1281.59 1747.54,1225.89 1767.34,1381.37 1787.15,1147.34 1806.95,1246.43 1826.75,1176.7 1846.56,1228.97 1866.36,1153.17 \n",
       "  1886.17,988.48 1905.97,1153.03 1925.77,1016 1945.58,1162.91 1965.38,1224.52 1985.19,1197.15 2004.99,1191.26 2024.79,1122.95 2044.6,897.911 2064.4,909.133 \n",
       "  2084.21,1144.25 2104.01,952.331 2123.81,802.804 2143.62,971.618 2163.42,1152.03 2183.23,1171.74 2203.03,921.174 2222.83,880.536 2242.64,893.524 2262.44,858.199 \n",
       "  \n",
       "  \"/>\n",
       "<polyline clip-path=\"url(#clip0403)\" style=\"stroke:#e26f46; stroke-width:4; stroke-opacity:1; fill:none\" points=\"\n",
       "  301.847,716.871 321.651,604.401 341.455,698.17 361.259,518.458 381.063,747.898 400.867,689.136 420.671,623.517 440.475,872.91 460.279,672.013 480.083,718.801 \n",
       "  499.887,541.695 519.691,729.955 539.495,650.293 559.299,1017.41 579.103,655.057 598.907,427.175 618.711,642.111 638.515,864.559 658.319,945.694 678.123,765.892 \n",
       "  697.927,999.88 717.731,809.429 737.535,612.362 757.339,839.849 777.142,1052.41 796.946,544.372 816.75,679.412 836.554,727.994 856.358,792.227 876.162,963.985 \n",
       "  895.966,614.524 915.77,797.014 935.574,565.53 955.378,808.992 975.182,689.806 994.986,679.445 1014.79,600.875 1034.59,576.27 1054.4,739.162 1074.2,791.228 \n",
       "  1094.01,696.61 1113.81,786.13 1133.61,721.192 1153.42,908.465 1173.22,946.322 1193.03,726.663 1212.83,841.571 1232.63,945.008 1252.44,669.826 1272.24,684.725 \n",
       "  1292.05,709.566 1311.85,606.668 1331.65,659.01 1351.46,774.867 1371.26,616.248 1391.07,717.436 1410.87,578.751 1430.67,877.429 1450.48,753.845 1470.28,615.404 \n",
       "  1490.09,752.639 1509.89,939.209 1529.69,746.393 1549.5,662.371 1569.3,591.004 1589.11,547.435 1608.91,612.29 1628.71,796.722 1648.52,1054.51 1668.32,817.426 \n",
       "  1688.13,621.871 1707.93,831.276 1727.73,546.211 1747.54,588.953 1767.34,864.302 1787.15,703.636 1806.95,630.574 1826.75,751.437 1846.56,799.823 1866.36,916.149 \n",
       "  1886.17,861.667 1905.97,846.06 1925.77,610.417 1945.58,872.818 1965.38,959.24 1985.19,762.981 2004.99,704.738 2024.79,670.873 2044.6,778.134 2064.4,945.359 \n",
       "  2084.21,768.384 2104.01,855.004 2123.81,901.162 2143.62,762.607 2163.42,636.299 2183.23,749.812 2203.03,664.499 2222.83,551.292 2242.64,787.009 2262.44,764.822 \n",
       "  \n",
       "  \"/>\n",
       "<polyline clip-path=\"url(#clip0403)\" style=\"stroke:#3da44d; stroke-width:4; stroke-opacity:1; fill:none\" points=\"\n",
       "  301.847,716.871 321.651,716.484 341.455,709.669 361.259,702.926 381.063,709.202 400.867,744.654 420.671,727.272 440.475,693.678 460.279,711.907 480.083,714.131 \n",
       "  499.887,722.857 519.691,724.741 539.495,717.006 559.299,715.676 579.103,699.733 598.907,724.841 618.711,700.396 638.515,736.584 658.319,710.625 678.123,730.311 \n",
       "  697.927,707.795 717.731,724.584 737.535,699.653 757.339,715.179 777.142,691.001 796.946,720.13 816.75,721.748 836.554,714.21 856.358,711.527 876.162,701.351 \n",
       "  895.966,694.836 915.77,741.096 935.574,723.476 955.378,713.426 975.182,741.605 994.986,709.866 1014.79,721.255 1034.59,709.248 1054.4,725.858 1074.2,720.613 \n",
       "  1094.01,702.03 1113.81,697.472 1133.61,685.849 1153.42,716.394 1173.22,721.742 1193.03,705.535 1212.83,718.312 1232.63,725.992 1252.44,696.962 1272.24,719.039 \n",
       "  1292.05,701.731 1311.85,723.185 1331.65,736.846 1351.46,718.031 1371.26,721.998 1391.07,718.128 1410.87,717.835 1430.67,709.252 1450.48,718.15 1470.28,706.776 \n",
       "  1490.09,710.08 1509.89,696.512 1529.69,716.074 1549.5,718.318 1569.3,702.053 1589.11,712.143 1608.91,702.425 1628.71,718.059 1648.52,726.927 1668.32,717.482 \n",
       "  1688.13,732.748 1707.93,721.906 1727.73,705.992 1747.54,733.834 1767.34,756.222 1787.15,733.616 1806.95,701.957 1826.75,720.973 1846.56,728.241 1866.36,721.388 \n",
       "  1886.17,741.56 1905.97,725.875 1925.77,713.862 1945.58,736.732 1965.38,715.755 1985.19,712.272 2004.99,728.375 2024.79,705.335 2044.6,737.413 2064.4,728.238 \n",
       "  2084.21,736.906 2104.01,721.382 2123.81,721.8 2143.62,725.982 2163.42,721.737 2183.23,719.995 2203.03,723.052 2222.83,736.292 2242.64,696.612 2262.44,707.713 \n",
       "  \n",
       "  \"/>\n",
       "<polyline clip-path=\"url(#clip0403)\" style=\"stroke:#c271d2; stroke-width:4; stroke-opacity:1; fill:none\" points=\"\n",
       "  301.847,716.871 321.651,718.444 341.455,714.457 361.259,722.565 381.063,733.013 400.867,723.283 420.671,726.539 440.475,706.903 460.279,721.815 480.083,708.072 \n",
       "  499.887,702.156 519.691,709.319 539.495,707.665 559.299,712.642 579.103,720.255 598.907,727.028 618.711,730.069 638.515,760.516 658.319,733.479 678.123,739.769 \n",
       "  697.927,743.523 717.731,743.11 737.535,738.843 757.339,748.92 777.142,752.354 796.946,740.02 816.75,727.849 836.554,742.838 856.358,738.306 876.162,750.312 \n",
       "  895.966,758.249 915.77,754.532 935.574,761.176 955.378,765.251 975.182,771.861 994.986,776.896 1014.79,761.095 1034.59,775.137 1054.4,776.682 1074.2,755.074 \n",
       "  1094.01,766.183 1113.81,755.092 1133.61,760.577 1153.42,768.349 1173.22,745.182 1193.03,741.951 1212.83,709.553 1232.63,710.203 1252.44,680.527 1272.24,678.454 \n",
       "  1292.05,682.776 1311.85,704.101 1331.65,703.49 1351.46,703.382 1371.26,713.225 1391.07,701.879 1410.87,699.312 1430.67,703.717 1450.48,720.848 1470.28,726.761 \n",
       "  1490.09,731.787 1509.89,741.666 1529.69,745.25 1549.5,755.394 1569.3,746.615 1589.11,760.073 1608.91,738.491 1628.71,738.229 1648.52,732.359 1668.32,729.648 \n",
       "  1688.13,747.267 1707.93,737.971 1727.73,742.891 1747.54,742.386 1767.34,745.682 1787.15,722.913 1806.95,741.287 1826.75,717.23 1846.56,731.9 1866.36,706.683 \n",
       "  1886.17,692.438 1905.97,698.441 1925.77,700.693 1945.58,707.058 1965.38,701.086 1985.19,695.174 2004.99,715.126 2024.79,718.11 2044.6,703.814 2064.4,703.854 \n",
       "  2084.21,703.998 2104.01,689.251 2123.81,697.7 2143.62,703.338 2163.42,709.564 2183.23,684.851 2203.03,701.401 2222.83,701.354 2242.64,694.075 2262.44,674.454 \n",
       "  \n",
       "  \"/>\n",
       "<polygon clip-path=\"url(#clip0401)\" points=\"\n",
       "1915.59,511.904 2249.26,511.904 2249.26,209.504 1915.59,209.504 \n",
       "  \" fill=\"#ffffff\" fill-rule=\"evenodd\" fill-opacity=\"1\"/>\n",
       "<polyline clip-path=\"url(#clip0401)\" style=\"stroke:#000000; stroke-width:4; stroke-opacity:1; fill:none\" points=\"\n",
       "  1915.59,511.904 2249.26,511.904 2249.26,209.504 1915.59,209.504 1915.59,511.904 \n",
       "  \"/>\n",
       "<polyline clip-path=\"url(#clip0401)\" style=\"stroke:#009af9; stroke-width:4; stroke-opacity:1; fill:none\" points=\"\n",
       "  1939.59,269.984 2083.59,269.984 \n",
       "  \"/>\n",
       "<g clip-path=\"url(#clip0401)\">\n",
       "<text style=\"fill:#000000; fill-opacity:1; font-family:Arial,Helvetica Neue,Helvetica,sans-serif; font-size:48px; text-anchor:start;\" transform=\"rotate(0, 2107.59, 287.484)\" x=\"2107.59\" y=\"287.484\">Z</text>\n",
       "</g>\n",
       "<polyline clip-path=\"url(#clip0401)\" style=\"stroke:#e26f46; stroke-width:4; stroke-opacity:1; fill:none\" points=\"\n",
       "  1939.59,330.464 2083.59,330.464 \n",
       "  \"/>\n",
       "<g clip-path=\"url(#clip0401)\">\n",
       "<text style=\"fill:#000000; fill-opacity:1; font-family:Arial,Helvetica Neue,Helvetica,sans-serif; font-size:48px; text-anchor:start;\" transform=\"rotate(0, 2107.59, 347.964)\" x=\"2107.59\" y=\"347.964\">tauh</text>\n",
       "</g>\n",
       "<polyline clip-path=\"url(#clip0401)\" style=\"stroke:#3da44d; stroke-width:4; stroke-opacity:1; fill:none\" points=\"\n",
       "  1939.59,390.944 2083.59,390.944 \n",
       "  \"/>\n",
       "<g clip-path=\"url(#clip0401)\">\n",
       "<text style=\"fill:#000000; fill-opacity:1; font-family:Arial,Helvetica Neue,Helvetica,sans-serif; font-size:48px; text-anchor:start;\" transform=\"rotate(0, 2107.59, 408.444)\" x=\"2107.59\" y=\"408.444\">taux</text>\n",
       "</g>\n",
       "<polyline clip-path=\"url(#clip0401)\" style=\"stroke:#c271d2; stroke-width:4; stroke-opacity:1; fill:none\" points=\"\n",
       "  1939.59,451.424 2083.59,451.424 \n",
       "  \"/>\n",
       "<g clip-path=\"url(#clip0401)\">\n",
       "<text style=\"fill:#000000; fill-opacity:1; font-family:Arial,Helvetica Neue,Helvetica,sans-serif; font-size:48px; text-anchor:start;\" transform=\"rotate(0, 2107.59, 468.924)\" x=\"2107.59\" y=\"468.924\">g</text>\n",
       "</g>\n",
       "</svg>\n"
      ]
     },
     "execution_count": 11,
     "metadata": {},
     "output_type": "execute_result"
    }
   ],
   "source": [
    "#defining the vectors\n",
    "T=100\n",
    "X= ones(5,T).* [0,0,0,0,0]\n",
    "Y = ones(4,T).*[0,0,0,0]\n",
    "S = randn(5,T)\n",
    "for t=1:T\n",
    "\n",
    "    if t>1\n",
    "    X[:,t] = A*X[:,t-1]+ B*S[:,t]\n",
    "    end\n",
    "    Y[:,t] = C*X[:,t] \n",
    "end\n",
    "\n",
    "plot([X[2,:],X[3,:],X[4,:],X[5,:]],title =\"Wedges\", labels = [\"Z\",\"tauh\",\"taux\",\"g\"])"
   ]
  },
  {
   "cell_type": "markdown",
   "metadata": {},
   "source": [
    "Below are the endogenous variables:"
   ]
  },
  {
   "cell_type": "code",
   "execution_count": 12,
   "metadata": {},
   "outputs": [
    {
     "data": {
      "image/svg+xml": [
       "<?xml version=\"1.0\" encoding=\"utf-8\"?>\n",
       "<svg xmlns=\"http://www.w3.org/2000/svg\" xmlns:xlink=\"http://www.w3.org/1999/xlink\" width=\"600\" height=\"400\" viewBox=\"0 0 2400 1600\">\n",
       "<defs>\n",
       "  <clipPath id=\"clip0600\">\n",
       "    <rect x=\"0\" y=\"0\" width=\"2000\" height=\"2000\"/>\n",
       "  </clipPath>\n",
       "</defs>\n",
       "<defs>\n",
       "  <clipPath id=\"clip0601\">\n",
       "    <rect x=\"0\" y=\"0\" width=\"2400\" height=\"1600\"/>\n",
       "  </clipPath>\n",
       "</defs>\n",
       "<polygon clip-path=\"url(#clip0601)\" points=\"\n",
       "0,1600 2400,1600 2400,0 0,0 \n",
       "  \" fill=\"#ffffff\" fill-rule=\"evenodd\" fill-opacity=\"1\"/>\n",
       "<defs>\n",
       "  <clipPath id=\"clip0602\">\n",
       "    <rect x=\"480\" y=\"0\" width=\"1681\" height=\"1600\"/>\n",
       "  </clipPath>\n",
       "</defs>\n",
       "<polygon clip-path=\"url(#clip0601)\" points=\"\n",
       "216.266,1503.47 2321.26,1503.47 2321.26,125.984 216.266,125.984 \n",
       "  \" fill=\"#ffffff\" fill-rule=\"evenodd\" fill-opacity=\"1\"/>\n",
       "<defs>\n",
       "  <clipPath id=\"clip0603\">\n",
       "    <rect x=\"216\" y=\"125\" width=\"2106\" height=\"1378\"/>\n",
       "  </clipPath>\n",
       "</defs>\n",
       "<polyline clip-path=\"url(#clip0603)\" style=\"stroke:#000000; stroke-width:2; stroke-opacity:0.1; fill:none\" points=\"\n",
       "  255.783,1503.47 255.783,125.984 \n",
       "  \"/>\n",
       "<polyline clip-path=\"url(#clip0603)\" style=\"stroke:#000000; stroke-width:2; stroke-opacity:0.1; fill:none\" points=\"\n",
       "  757.258,1503.47 757.258,125.984 \n",
       "  \"/>\n",
       "<polyline clip-path=\"url(#clip0603)\" style=\"stroke:#000000; stroke-width:2; stroke-opacity:0.1; fill:none\" points=\"\n",
       "  1258.73,1503.47 1258.73,125.984 \n",
       "  \"/>\n",
       "<polyline clip-path=\"url(#clip0603)\" style=\"stroke:#000000; stroke-width:2; stroke-opacity:0.1; fill:none\" points=\"\n",
       "  1760.21,1503.47 1760.21,125.984 \n",
       "  \"/>\n",
       "<polyline clip-path=\"url(#clip0603)\" style=\"stroke:#000000; stroke-width:2; stroke-opacity:0.1; fill:none\" points=\"\n",
       "  2261.68,1503.47 2261.68,125.984 \n",
       "  \"/>\n",
       "<polyline clip-path=\"url(#clip0603)\" style=\"stroke:#000000; stroke-width:2; stroke-opacity:0.1; fill:none\" points=\"\n",
       "  216.266,1451.37 2321.26,1451.37 \n",
       "  \"/>\n",
       "<polyline clip-path=\"url(#clip0603)\" style=\"stroke:#000000; stroke-width:2; stroke-opacity:0.1; fill:none\" points=\"\n",
       "  216.266,1086.14 2321.26,1086.14 \n",
       "  \"/>\n",
       "<polyline clip-path=\"url(#clip0603)\" style=\"stroke:#000000; stroke-width:2; stroke-opacity:0.1; fill:none\" points=\"\n",
       "  216.266,720.896 2321.26,720.896 \n",
       "  \"/>\n",
       "<polyline clip-path=\"url(#clip0603)\" style=\"stroke:#000000; stroke-width:2; stroke-opacity:0.1; fill:none\" points=\"\n",
       "  216.266,355.657 2321.26,355.657 \n",
       "  \"/>\n",
       "<polyline clip-path=\"url(#clip0601)\" style=\"stroke:#000000; stroke-width:4; stroke-opacity:1; fill:none\" points=\"\n",
       "  216.266,1503.47 2321.26,1503.47 \n",
       "  \"/>\n",
       "<polyline clip-path=\"url(#clip0601)\" style=\"stroke:#000000; stroke-width:4; stroke-opacity:1; fill:none\" points=\"\n",
       "  216.266,1503.47 216.266,125.984 \n",
       "  \"/>\n",
       "<polyline clip-path=\"url(#clip0601)\" style=\"stroke:#000000; stroke-width:4; stroke-opacity:1; fill:none\" points=\"\n",
       "  255.783,1503.47 255.783,1482.81 \n",
       "  \"/>\n",
       "<polyline clip-path=\"url(#clip0601)\" style=\"stroke:#000000; stroke-width:4; stroke-opacity:1; fill:none\" points=\"\n",
       "  757.258,1503.47 757.258,1482.81 \n",
       "  \"/>\n",
       "<polyline clip-path=\"url(#clip0601)\" style=\"stroke:#000000; stroke-width:4; stroke-opacity:1; fill:none\" points=\"\n",
       "  1258.73,1503.47 1258.73,1482.81 \n",
       "  \"/>\n",
       "<polyline clip-path=\"url(#clip0601)\" style=\"stroke:#000000; stroke-width:4; stroke-opacity:1; fill:none\" points=\"\n",
       "  1760.21,1503.47 1760.21,1482.81 \n",
       "  \"/>\n",
       "<polyline clip-path=\"url(#clip0601)\" style=\"stroke:#000000; stroke-width:4; stroke-opacity:1; fill:none\" points=\"\n",
       "  2261.68,1503.47 2261.68,1482.81 \n",
       "  \"/>\n",
       "<polyline clip-path=\"url(#clip0601)\" style=\"stroke:#000000; stroke-width:4; stroke-opacity:1; fill:none\" points=\"\n",
       "  216.266,1451.37 247.841,1451.37 \n",
       "  \"/>\n",
       "<polyline clip-path=\"url(#clip0601)\" style=\"stroke:#000000; stroke-width:4; stroke-opacity:1; fill:none\" points=\"\n",
       "  216.266,1086.14 247.841,1086.14 \n",
       "  \"/>\n",
       "<polyline clip-path=\"url(#clip0601)\" style=\"stroke:#000000; stroke-width:4; stroke-opacity:1; fill:none\" points=\"\n",
       "  216.266,720.896 247.841,720.896 \n",
       "  \"/>\n",
       "<polyline clip-path=\"url(#clip0601)\" style=\"stroke:#000000; stroke-width:4; stroke-opacity:1; fill:none\" points=\"\n",
       "  216.266,355.657 247.841,355.657 \n",
       "  \"/>\n",
       "<g clip-path=\"url(#clip0601)\">\n",
       "<text style=\"fill:#000000; fill-opacity:1; font-family:Arial,Helvetica Neue,Helvetica,sans-serif; font-size:48px; text-anchor:middle;\" transform=\"rotate(0, 255.783, 1557.47)\" x=\"255.783\" y=\"1557.47\">0</text>\n",
       "</g>\n",
       "<g clip-path=\"url(#clip0601)\">\n",
       "<text style=\"fill:#000000; fill-opacity:1; font-family:Arial,Helvetica Neue,Helvetica,sans-serif; font-size:48px; text-anchor:middle;\" transform=\"rotate(0, 757.258, 1557.47)\" x=\"757.258\" y=\"1557.47\">25</text>\n",
       "</g>\n",
       "<g clip-path=\"url(#clip0601)\">\n",
       "<text style=\"fill:#000000; fill-opacity:1; font-family:Arial,Helvetica Neue,Helvetica,sans-serif; font-size:48px; text-anchor:middle;\" transform=\"rotate(0, 1258.73, 1557.47)\" x=\"1258.73\" y=\"1557.47\">50</text>\n",
       "</g>\n",
       "<g clip-path=\"url(#clip0601)\">\n",
       "<text style=\"fill:#000000; fill-opacity:1; font-family:Arial,Helvetica Neue,Helvetica,sans-serif; font-size:48px; text-anchor:middle;\" transform=\"rotate(0, 1760.21, 1557.47)\" x=\"1760.21\" y=\"1557.47\">75</text>\n",
       "</g>\n",
       "<g clip-path=\"url(#clip0601)\">\n",
       "<text style=\"fill:#000000; fill-opacity:1; font-family:Arial,Helvetica Neue,Helvetica,sans-serif; font-size:48px; text-anchor:middle;\" transform=\"rotate(0, 2261.68, 1557.47)\" x=\"2261.68\" y=\"1557.47\">100</text>\n",
       "</g>\n",
       "<g clip-path=\"url(#clip0601)\">\n",
       "<text style=\"fill:#000000; fill-opacity:1; font-family:Arial,Helvetica Neue,Helvetica,sans-serif; font-size:48px; text-anchor:end;\" transform=\"rotate(0, 192.266, 1468.87)\" x=\"192.266\" y=\"1468.87\">-0.04</text>\n",
       "</g>\n",
       "<g clip-path=\"url(#clip0601)\">\n",
       "<text style=\"fill:#000000; fill-opacity:1; font-family:Arial,Helvetica Neue,Helvetica,sans-serif; font-size:48px; text-anchor:end;\" transform=\"rotate(0, 192.266, 1103.64)\" x=\"192.266\" y=\"1103.64\">-0.02</text>\n",
       "</g>\n",
       "<g clip-path=\"url(#clip0601)\">\n",
       "<text style=\"fill:#000000; fill-opacity:1; font-family:Arial,Helvetica Neue,Helvetica,sans-serif; font-size:48px; text-anchor:end;\" transform=\"rotate(0, 192.266, 738.396)\" x=\"192.266\" y=\"738.396\">0.00</text>\n",
       "</g>\n",
       "<g clip-path=\"url(#clip0601)\">\n",
       "<text style=\"fill:#000000; fill-opacity:1; font-family:Arial,Helvetica Neue,Helvetica,sans-serif; font-size:48px; text-anchor:end;\" transform=\"rotate(0, 192.266, 373.157)\" x=\"192.266\" y=\"373.157\">0.02</text>\n",
       "</g>\n",
       "<g clip-path=\"url(#clip0601)\">\n",
       "<text style=\"fill:#000000; fill-opacity:1; font-family:Arial,Helvetica Neue,Helvetica,sans-serif; font-size:84px; text-anchor:middle;\" transform=\"rotate(0, 1268.76, 73.2)\" x=\"1268.76\" y=\"73.2\">Endogenous Variables</text>\n",
       "</g>\n",
       "<polyline clip-path=\"url(#clip0603)\" style=\"stroke:#009af9; stroke-width:4; stroke-opacity:1; fill:none\" points=\"\n",
       "  275.842,720.896 295.901,720.896 315.96,726.869 336.019,741.341 356.078,754.555 376.137,753.551 396.196,754.549 416.255,755.325 436.314,757.23 456.373,763.385 \n",
       "  476.432,759.819 496.491,757.823 516.55,746.418 536.609,740.795 556.668,732.68 576.727,725.167 596.786,720.168 616.845,712.772 636.904,691.737 656.963,677.532 \n",
       "  677.022,669.176 697.081,651.276 717.14,643.319 737.199,637.92 757.258,630.566 777.317,615.26 797.376,614.85 817.435,612.946 837.494,620.176 857.553,631.923 \n",
       "  877.612,635.765 897.671,640.05 917.73,638.667 937.789,639.321 957.848,638.875 977.907,646.179 997.966,652.454 1018.03,665.184 1038.08,679.905 1058.14,679.622 \n",
       "  1078.2,677.522 1098.26,679.336 1118.32,681.392 1138.38,682.849 1158.44,685.66 1178.5,684.504 1198.56,691.78 1218.62,696.542 1238.67,698.042 1258.73,708.4 \n",
       "  1278.79,720.912 1298.85,731.708 1318.91,742.325 1338.97,757.783 1359.03,769.582 1379.09,779.262 1399.15,785.303 1419.21,793.713 1439.26,800.531 1459.32,809.108 \n",
       "  1479.38,814.901 1499.44,820.786 1519.5,819.71 1539.56,821.167 1559.62,824.99 1579.68,832.91 1599.74,847.87 1619.8,857.774 1639.85,865.12 1659.91,866.188 \n",
       "  1679.97,871.671 1700.03,881.689 1720.09,886.748 1740.15,891.181 1760.21,891.995 1780.27,892.736 1800.33,889.494 1820.39,891.237 1840.45,888.795 1860.5,886.921 \n",
       "  1880.56,881.725 1900.62,872.453 1920.68,870.003 1940.74,867.341 1960.8,864.778 1980.86,863.754 2000.92,865.419 2020.98,866.705 2041.04,866.591 2061.09,856.951 \n",
       "  2081.15,846.1 2101.21,846.852 2121.27,840.535 2141.33,828.86 2161.39,825.971 2181.45,831.348 2201.51,835.764 2221.57,832.254 2241.63,829.31 2261.68,824.337 \n",
       "  \n",
       "  \"/>\n",
       "<polyline clip-path=\"url(#clip0603)\" style=\"stroke:#e26f46; stroke-width:4; stroke-opacity:1; fill:none\" points=\"\n",
       "  275.842,720.896 295.901,800.221 315.96,919.099 336.019,916.843 356.078,741.228 376.137,766.8 396.196,764.866 416.255,780.625 436.314,838.977 456.373,716.029 \n",
       "  476.432,733.304 496.491,606.335 516.55,671.732 536.609,633.004 556.668,632.897 576.727,658.768 596.786,621.937 616.845,433.375 636.904,503.058 656.963,566.548 \n",
       "  677.022,431.422 697.081,545.59 717.14,571.606 737.199,540.239 757.258,427.272 777.317,609.816 797.376,589.552 817.435,708.978 837.494,776.208 857.553,682.952 \n",
       "  877.612,692.673 897.671,621.686 917.73,647.352 937.789,633.4 957.848,735.883 977.907,729.527 997.966,821.546 1018.03,860.711 1038.08,676.142 1058.14,651.727 \n",
       "  1078.2,701.621 1098.26,706.647 1118.32,700.742 1138.38,720.184 1158.44,670.31 1178.5,781.136 1198.56,755.037 1218.62,716.467 1238.67,835.623 1258.73,874.586 \n",
       "  1278.79,864.308 1298.85,872.723 1318.91,947.65 1338.97,914.497 1359.03,898.16 1379.09,859.494 1399.15,897.002 1419.21,884.28 1439.26,914.454 1459.32,886.05 \n",
       "  1479.38,893.068 1499.44,806.495 1519.5,839.065 1539.56,871.939 1559.62,930.195 1579.68,1031.61 1599.74,979.42 1619.8,955.338 1639.85,879.312 1659.91,939.018 \n",
       "  1679.97,1004.72 1700.03,948.893 1720.09,945.627 1740.15,901.988 1760.21,901.836 1780.27,849.684 1800.33,912.634 1820.39,858.8 1840.45,863.904 1860.5,817.916 \n",
       "  1880.56,758.566 1900.62,839.913 1920.68,834.644 1940.74,833.297 1960.8,851.177 1980.86,885.865 2000.92,882.504 2020.98,865.189 2041.04,738.552 2061.09,712.825 \n",
       "  2081.15,856.082 2101.21,762.954 2121.27,685.457 2141.33,790.489 2161.39,897.398 2181.45,889.995 2201.51,789.142 2221.57,793.152 2241.63,763.257 2261.68,758.727 \n",
       "  \n",
       "  \"/>\n",
       "<polyline clip-path=\"url(#clip0603)\" style=\"stroke:#3da44d; stroke-width:4; stroke-opacity:1; fill:none\" points=\"\n",
       "  275.842,720.896 295.901,836.402 315.96,1103.19 336.019,1055.07 356.078,822.447 376.137,862.074 396.196,828.976 416.255,917.463 436.314,982.696 456.373,758.237 \n",
       "  476.432,724.21 496.491,547.603 516.55,626.759 536.609,678.713 556.668,535.051 576.727,512.861 596.786,500.682 616.845,245.077 636.904,349.334 656.963,406.038 \n",
       "  677.022,206.021 697.081,346.627 717.14,299.835 737.199,329.265 757.258,164.97 777.317,326.287 797.376,326.524 817.435,581.793 837.494,740.557 857.553,638.425 \n",
       "  877.612,539.195 897.671,493.919 917.73,454.53 937.789,513.073 957.848,690.088 977.907,669.745 997.966,823.736 1018.03,911.505 1038.08,638.448 1058.14,590.229 \n",
       "  1078.2,649.163 1098.26,682.731 1118.32,648.254 1138.38,777.676 1158.44,683.181 1178.5,808.096 1198.56,790.582 1218.62,763.114 1238.67,861.18 1258.73,966.296 \n",
       "  1278.79,964.886 1298.85,985.61 1318.91,1171.25 1338.97,1157.49 1359.03,1093.13 1379.09,1055.77 1399.15,1084.87 1419.21,1176.57 1439.26,1217.36 1459.32,1121.32 \n",
       "  1479.38,1197.2 1499.44,1102.54 1519.5,1108.85 1539.56,1153.49 1559.62,1231.17 1579.68,1439.16 1599.74,1358.3 1619.8,1398.41 1639.85,1352.31 1659.91,1378.02 \n",
       "  1679.97,1464.49 1700.03,1430.61 1720.09,1323.34 1740.15,1273.87 1760.21,1388.07 1780.27,1200.32 1800.33,1289.31 1820.39,1222.29 1840.45,1261.34 1860.5,1188.48 \n",
       "  1880.56,1046.79 1900.62,1184.16 1920.68,1081.29 1940.74,1186.62 1960.8,1233.47 1980.86,1223.18 2000.92,1221.37 2020.98,1166.72 2041.04,964.595 2061.09,957.133 \n",
       "  2081.15,1164.38 2101.21,995.177 2121.27,858.828 2141.33,1005.79 2161.39,1167.87 2181.45,1181.75 2201.51,973.711 2221.57,943.589 2241.63,939.107 2261.68,907.448 \n",
       "  \n",
       "  \"/>\n",
       "<polyline clip-path=\"url(#clip0603)\" style=\"stroke:#c271d2; stroke-width:4; stroke-opacity:1; fill:none\" points=\"\n",
       "  275.842,720.896 295.901,713.541 315.96,659.367 336.019,696.942 356.078,717.065 376.137,714.11 396.196,729.506 416.255,689.444 436.314,699.728 456.373,738.394 \n",
       "  476.432,763.052 496.491,770.371 516.55,760.24 536.609,704.408 556.668,768.856 576.727,792.728 596.786,768.718 616.845,778.122 636.904,743.017 656.963,744.059 \n",
       "  677.022,749.068 697.081,735.253 717.14,764.914 737.199,727.742 757.258,729.656 777.317,750.897 797.376,735.605 817.435,682.943 837.494,651.795 857.553,656.053 \n",
       "  877.612,716.825 897.671,702.001 917.73,736.468 937.789,698.315 957.848,677.671 977.907,688.874 997.966,674.569 1018.03,668.772 1038.08,704.575 1058.14,709.109 \n",
       "  1078.2,709.33 1098.26,695.156 1118.32,710.61 1138.38,663.077 1158.44,678.402 1178.5,683.143 1198.56,678.312 1218.62,672.905 1238.67,693.735 1258.73,677.268 \n",
       "  1278.79,682.631 1298.85,693.353 1318.91,658.944 1338.97,657.905 1359.03,693.325 1379.09,694.655 1399.15,709.379 1419.21,662.953 1439.26,671.808 1459.32,710.371 \n",
       "  1479.38,683.228 1499.44,681.662 1519.5,700.641 1539.56,702.371 1559.62,701.243 1579.68,671.813 1599.74,689.41 1619.8,664.684 1639.85,646.273 1659.91,671.261 \n",
       "  1679.97,679.15 1700.03,667.744 1720.09,724.106 1740.15,727.902 1760.21,673.434 1780.27,729.954 1800.33,722.212 1820.39,721.181 1840.45,705.352 1860.5,706.26 \n",
       "  1880.56,734.386 1900.62,707.611 1920.68,753.123 1940.74,699.545 1960.8,681.977 1980.86,707.142 2000.92,712.164 2020.98,728.323 2041.04,749.893 2061.09,727.025 \n",
       "  2081.15,704.339 2101.21,727.171 2121.27,741.719 2141.33,724.688 2161.39,709.055 2181.45,698.4 2201.51,746.148 2221.57,761.736 2241.63,737.237 2261.68,743.398 \n",
       "  \n",
       "  \"/>\n",
       "<polygon clip-path=\"url(#clip0601)\" points=\"\n",
       "1977.15,511.904 2249.26,511.904 2249.26,209.504 1977.15,209.504 \n",
       "  \" fill=\"#ffffff\" fill-rule=\"evenodd\" fill-opacity=\"1\"/>\n",
       "<polyline clip-path=\"url(#clip0601)\" style=\"stroke:#000000; stroke-width:4; stroke-opacity:1; fill:none\" points=\"\n",
       "  1977.15,511.904 2249.26,511.904 2249.26,209.504 1977.15,209.504 1977.15,511.904 \n",
       "  \"/>\n",
       "<polyline clip-path=\"url(#clip0601)\" style=\"stroke:#009af9; stroke-width:4; stroke-opacity:1; fill:none\" points=\"\n",
       "  2001.15,269.984 2145.15,269.984 \n",
       "  \"/>\n",
       "<g clip-path=\"url(#clip0601)\">\n",
       "<text style=\"fill:#000000; fill-opacity:1; font-family:Arial,Helvetica Neue,Helvetica,sans-serif; font-size:48px; text-anchor:start;\" transform=\"rotate(0, 2169.15, 287.484)\" x=\"2169.15\" y=\"287.484\">K</text>\n",
       "</g>\n",
       "<polyline clip-path=\"url(#clip0601)\" style=\"stroke:#e26f46; stroke-width:4; stroke-opacity:1; fill:none\" points=\"\n",
       "  2001.15,330.464 2145.15,330.464 \n",
       "  \"/>\n",
       "<g clip-path=\"url(#clip0601)\">\n",
       "<text style=\"fill:#000000; fill-opacity:1; font-family:Arial,Helvetica Neue,Helvetica,sans-serif; font-size:48px; text-anchor:start;\" transform=\"rotate(0, 2169.15, 347.964)\" x=\"2169.15\" y=\"347.964\">X</text>\n",
       "</g>\n",
       "<polyline clip-path=\"url(#clip0601)\" style=\"stroke:#3da44d; stroke-width:4; stroke-opacity:1; fill:none\" points=\"\n",
       "  2001.15,390.944 2145.15,390.944 \n",
       "  \"/>\n",
       "<g clip-path=\"url(#clip0601)\">\n",
       "<text style=\"fill:#000000; fill-opacity:1; font-family:Arial,Helvetica Neue,Helvetica,sans-serif; font-size:48px; text-anchor:start;\" transform=\"rotate(0, 2169.15, 408.444)\" x=\"2169.15\" y=\"408.444\">Y</text>\n",
       "</g>\n",
       "<polyline clip-path=\"url(#clip0601)\" style=\"stroke:#c271d2; stroke-width:4; stroke-opacity:1; fill:none\" points=\"\n",
       "  2001.15,451.424 2145.15,451.424 \n",
       "  \"/>\n",
       "<g clip-path=\"url(#clip0601)\">\n",
       "<text style=\"fill:#000000; fill-opacity:1; font-family:Arial,Helvetica Neue,Helvetica,sans-serif; font-size:48px; text-anchor:start;\" transform=\"rotate(0, 2169.15, 468.924)\" x=\"2169.15\" y=\"468.924\">L</text>\n",
       "</g>\n",
       "</svg>\n"
      ]
     },
     "execution_count": 12,
     "metadata": {},
     "output_type": "execute_result"
    }
   ],
   "source": [
    "plot([X[1,:],Y[2,:],Y[1,:],Y[3,:]],title = \"Endogenous Variables\",labels = [\"K\",\"X\",\"Y\",\"L\"])"
   ]
  },
  {
   "cell_type": "markdown",
   "metadata": {},
   "source": [
    "In the code below, we calculate the factor prices (in log deviations):"
   ]
  },
  {
   "cell_type": "code",
   "execution_count": 13,
   "metadata": {},
   "outputs": [
    {
     "data": {
      "image/svg+xml": [
       "<?xml version=\"1.0\" encoding=\"utf-8\"?>\n",
       "<svg xmlns=\"http://www.w3.org/2000/svg\" xmlns:xlink=\"http://www.w3.org/1999/xlink\" width=\"600\" height=\"400\" viewBox=\"0 0 2400 1600\">\n",
       "<defs>\n",
       "  <clipPath id=\"clip0800\">\n",
       "    <rect x=\"0\" y=\"0\" width=\"2000\" height=\"2000\"/>\n",
       "  </clipPath>\n",
       "</defs>\n",
       "<defs>\n",
       "  <clipPath id=\"clip0801\">\n",
       "    <rect x=\"0\" y=\"0\" width=\"2400\" height=\"1600\"/>\n",
       "  </clipPath>\n",
       "</defs>\n",
       "<polygon clip-path=\"url(#clip0801)\" points=\"\n",
       "0,1600 2400,1600 2400,0 0,0 \n",
       "  \" fill=\"#ffffff\" fill-rule=\"evenodd\" fill-opacity=\"1\"/>\n",
       "<defs>\n",
       "  <clipPath id=\"clip0802\">\n",
       "    <rect x=\"480\" y=\"0\" width=\"1681\" height=\"1600\"/>\n",
       "  </clipPath>\n",
       "</defs>\n",
       "<polygon clip-path=\"url(#clip0801)\" points=\"\n",
       "216.266,1503.47 2321.26,1503.47 2321.26,47.2441 216.266,47.2441 \n",
       "  \" fill=\"#ffffff\" fill-rule=\"evenodd\" fill-opacity=\"1\"/>\n",
       "<defs>\n",
       "  <clipPath id=\"clip0803\">\n",
       "    <rect x=\"216\" y=\"47\" width=\"2106\" height=\"1457\"/>\n",
       "  </clipPath>\n",
       "</defs>\n",
       "<polyline clip-path=\"url(#clip0803)\" style=\"stroke:#000000; stroke-width:2; stroke-opacity:0.1; fill:none\" points=\"\n",
       "  255.783,1503.47 255.783,47.2441 \n",
       "  \"/>\n",
       "<polyline clip-path=\"url(#clip0803)\" style=\"stroke:#000000; stroke-width:2; stroke-opacity:0.1; fill:none\" points=\"\n",
       "  757.258,1503.47 757.258,47.2441 \n",
       "  \"/>\n",
       "<polyline clip-path=\"url(#clip0803)\" style=\"stroke:#000000; stroke-width:2; stroke-opacity:0.1; fill:none\" points=\"\n",
       "  1258.73,1503.47 1258.73,47.2441 \n",
       "  \"/>\n",
       "<polyline clip-path=\"url(#clip0803)\" style=\"stroke:#000000; stroke-width:2; stroke-opacity:0.1; fill:none\" points=\"\n",
       "  1760.21,1503.47 1760.21,47.2441 \n",
       "  \"/>\n",
       "<polyline clip-path=\"url(#clip0803)\" style=\"stroke:#000000; stroke-width:2; stroke-opacity:0.1; fill:none\" points=\"\n",
       "  2261.68,1503.47 2261.68,47.2441 \n",
       "  \"/>\n",
       "<polyline clip-path=\"url(#clip0803)\" style=\"stroke:#000000; stroke-width:2; stroke-opacity:0.1; fill:none\" points=\"\n",
       "  216.266,1406.43 2321.26,1406.43 \n",
       "  \"/>\n",
       "<polyline clip-path=\"url(#clip0803)\" style=\"stroke:#000000; stroke-width:2; stroke-opacity:0.1; fill:none\" points=\"\n",
       "  216.266,1034.76 2321.26,1034.76 \n",
       "  \"/>\n",
       "<polyline clip-path=\"url(#clip0803)\" style=\"stroke:#000000; stroke-width:2; stroke-opacity:0.1; fill:none\" points=\"\n",
       "  216.266,663.09 2321.26,663.09 \n",
       "  \"/>\n",
       "<polyline clip-path=\"url(#clip0803)\" style=\"stroke:#000000; stroke-width:2; stroke-opacity:0.1; fill:none\" points=\"\n",
       "  216.266,291.418 2321.26,291.418 \n",
       "  \"/>\n",
       "<polyline clip-path=\"url(#clip0801)\" style=\"stroke:#000000; stroke-width:4; stroke-opacity:1; fill:none\" points=\"\n",
       "  216.266,1503.47 2321.26,1503.47 \n",
       "  \"/>\n",
       "<polyline clip-path=\"url(#clip0801)\" style=\"stroke:#000000; stroke-width:4; stroke-opacity:1; fill:none\" points=\"\n",
       "  216.266,1503.47 216.266,47.2441 \n",
       "  \"/>\n",
       "<polyline clip-path=\"url(#clip0801)\" style=\"stroke:#000000; stroke-width:4; stroke-opacity:1; fill:none\" points=\"\n",
       "  255.783,1503.47 255.783,1481.63 \n",
       "  \"/>\n",
       "<polyline clip-path=\"url(#clip0801)\" style=\"stroke:#000000; stroke-width:4; stroke-opacity:1; fill:none\" points=\"\n",
       "  757.258,1503.47 757.258,1481.63 \n",
       "  \"/>\n",
       "<polyline clip-path=\"url(#clip0801)\" style=\"stroke:#000000; stroke-width:4; stroke-opacity:1; fill:none\" points=\"\n",
       "  1258.73,1503.47 1258.73,1481.63 \n",
       "  \"/>\n",
       "<polyline clip-path=\"url(#clip0801)\" style=\"stroke:#000000; stroke-width:4; stroke-opacity:1; fill:none\" points=\"\n",
       "  1760.21,1503.47 1760.21,1481.63 \n",
       "  \"/>\n",
       "<polyline clip-path=\"url(#clip0801)\" style=\"stroke:#000000; stroke-width:4; stroke-opacity:1; fill:none\" points=\"\n",
       "  2261.68,1503.47 2261.68,1481.63 \n",
       "  \"/>\n",
       "<polyline clip-path=\"url(#clip0801)\" style=\"stroke:#000000; stroke-width:4; stroke-opacity:1; fill:none\" points=\"\n",
       "  216.266,1406.43 247.841,1406.43 \n",
       "  \"/>\n",
       "<polyline clip-path=\"url(#clip0801)\" style=\"stroke:#000000; stroke-width:4; stroke-opacity:1; fill:none\" points=\"\n",
       "  216.266,1034.76 247.841,1034.76 \n",
       "  \"/>\n",
       "<polyline clip-path=\"url(#clip0801)\" style=\"stroke:#000000; stroke-width:4; stroke-opacity:1; fill:none\" points=\"\n",
       "  216.266,663.09 247.841,663.09 \n",
       "  \"/>\n",
       "<polyline clip-path=\"url(#clip0801)\" style=\"stroke:#000000; stroke-width:4; stroke-opacity:1; fill:none\" points=\"\n",
       "  216.266,291.418 247.841,291.418 \n",
       "  \"/>\n",
       "<g clip-path=\"url(#clip0801)\">\n",
       "<text style=\"fill:#000000; fill-opacity:1; font-family:Arial,Helvetica Neue,Helvetica,sans-serif; font-size:48px; text-anchor:middle;\" transform=\"rotate(0, 255.783, 1557.47)\" x=\"255.783\" y=\"1557.47\">0</text>\n",
       "</g>\n",
       "<g clip-path=\"url(#clip0801)\">\n",
       "<text style=\"fill:#000000; fill-opacity:1; font-family:Arial,Helvetica Neue,Helvetica,sans-serif; font-size:48px; text-anchor:middle;\" transform=\"rotate(0, 757.258, 1557.47)\" x=\"757.258\" y=\"1557.47\">25</text>\n",
       "</g>\n",
       "<g clip-path=\"url(#clip0801)\">\n",
       "<text style=\"fill:#000000; fill-opacity:1; font-family:Arial,Helvetica Neue,Helvetica,sans-serif; font-size:48px; text-anchor:middle;\" transform=\"rotate(0, 1258.73, 1557.47)\" x=\"1258.73\" y=\"1557.47\">50</text>\n",
       "</g>\n",
       "<g clip-path=\"url(#clip0801)\">\n",
       "<text style=\"fill:#000000; fill-opacity:1; font-family:Arial,Helvetica Neue,Helvetica,sans-serif; font-size:48px; text-anchor:middle;\" transform=\"rotate(0, 1760.21, 1557.47)\" x=\"1760.21\" y=\"1557.47\">75</text>\n",
       "</g>\n",
       "<g clip-path=\"url(#clip0801)\">\n",
       "<text style=\"fill:#000000; fill-opacity:1; font-family:Arial,Helvetica Neue,Helvetica,sans-serif; font-size:48px; text-anchor:middle;\" transform=\"rotate(0, 2261.68, 1557.47)\" x=\"2261.68\" y=\"1557.47\">100</text>\n",
       "</g>\n",
       "<g clip-path=\"url(#clip0801)\">\n",
       "<text style=\"fill:#000000; fill-opacity:1; font-family:Arial,Helvetica Neue,Helvetica,sans-serif; font-size:48px; text-anchor:end;\" transform=\"rotate(0, 192.266, 1423.93)\" x=\"192.266\" y=\"1423.93\">-0.04</text>\n",
       "</g>\n",
       "<g clip-path=\"url(#clip0801)\">\n",
       "<text style=\"fill:#000000; fill-opacity:1; font-family:Arial,Helvetica Neue,Helvetica,sans-serif; font-size:48px; text-anchor:end;\" transform=\"rotate(0, 192.266, 1052.26)\" x=\"192.266\" y=\"1052.26\">-0.02</text>\n",
       "</g>\n",
       "<g clip-path=\"url(#clip0801)\">\n",
       "<text style=\"fill:#000000; fill-opacity:1; font-family:Arial,Helvetica Neue,Helvetica,sans-serif; font-size:48px; text-anchor:end;\" transform=\"rotate(0, 192.266, 680.59)\" x=\"192.266\" y=\"680.59\">0.00</text>\n",
       "</g>\n",
       "<g clip-path=\"url(#clip0801)\">\n",
       "<text style=\"fill:#000000; fill-opacity:1; font-family:Arial,Helvetica Neue,Helvetica,sans-serif; font-size:48px; text-anchor:end;\" transform=\"rotate(0, 192.266, 308.918)\" x=\"192.266\" y=\"308.918\">0.02</text>\n",
       "</g>\n",
       "<polyline clip-path=\"url(#clip0803)\" style=\"stroke:#009af9; stroke-width:4; stroke-opacity:1; fill:none\" points=\"\n",
       "  275.842,663.09 295.901,780.63 315.96,1046.04 336.019,982.339 356.078,732.178 376.137,773.524 396.196,738.829 416.255,828.083 436.314,892.526 456.373,657.851 \n",
       "  476.432,626.854 496.491,449.168 516.55,541.324 536.609,599.915 556.668,461.981 576.727,447.045 596.786,439.738 616.845,187.158 636.904,314.656 656.963,386.815 \n",
       "  677.022,191.777 697.081,353.076 717.14,313.556 737.199,348.999 757.258,189.294 777.317,369.027 797.376,369.686 817.435,631.388 837.494,785.591 857.553,669.707 \n",
       "  877.612,564.819 897.671,514.386 917.73,475.71 937.789,534.619 957.848,715.205 977.907,687.072 997.966,837.389 1018.03,913.748 1038.08,620.903 1058.14,572.123 \n",
       "  1078.2,634.232 1098.26,666.545 1118.32,629.368 1138.38,759.587 1158.44,660.567 1178.5,788.859 1198.56,763.633 1218.62,730.834 1238.67,829.101 1258.73,925.528 \n",
       "  1278.79,911.361 1298.85,921.463 1318.91,1099.56 1338.97,1069.83 1359.03,992.335 1379.09,944.463 1399.15,967.936 1419.21,1052.69 1439.26,1087.26 1459.32,980.801 \n",
       "  1479.38,1052.12 1499.44,949.811 1519.5,957.326 1539.56,1001.27 1559.62,1076.43 1579.68,1280.02 1599.74,1182.51 1619.8,1213.25 1639.85,1158.86 1659.91,1183.94 \n",
       "  1679.97,1266.35 1700.03,1221.68 1720.09,1107.37 1740.15,1052.52 1760.21,1167.9 1780.27,976.088 1800.33,1069.95 1820.39,999.971 1840.45,1042.19 1860.5,969.956 \n",
       "  1880.56,831.059 1900.62,980.288 1920.68,878.101 1940.74,987.99 1960.8,1038.27 1980.86,1028.85 2000.92,1025.31 2020.98,968.39 2041.04,762.82 2061.09,765.037 \n",
       "  2081.15,986.971 2101.21,814.028 2121.27,681.705 2141.33,843.135 2161.39,1011.01 2181.45,1019.67 2201.51,803.467 2221.57,776.386 2241.63,774.821 2261.68,747.665 \n",
       "  \n",
       "  \"/>\n",
       "<polyline clip-path=\"url(#clip0803)\" style=\"stroke:#e26f46; stroke-width:4; stroke-opacity:1; fill:none\" points=\"\n",
       "  275.842,663.09 295.901,788.115 315.96,1114.73 336.019,1027.52 356.078,770.328 376.137,813.66 396.196,764.312 416.255,895.125 436.314,951.041 456.373,683.282 \n",
       "  476.432,623.564 496.491,436.399 516.55,527.258 536.609,636.943 556.668,425.168 576.727,378.294 596.786,390.333 616.845,120.657 636.904,262.473 656.963,319.115 \n",
       "  677.022,110.478 697.081,267.62 717.14,189.819 737.199,257.596 757.258,88.4582 777.317,231.001 797.376,246.804 817.435,560.158 837.494,753.414 857.553,645.152 \n",
       "  877.612,482.332 897.671,451.344 917.73,376.186 937.789,474.586 957.848,675.726 977.907,643.625 997.966,814.884 1018.03,910.097 1038.08,595.798 1058.14,542.117 \n",
       "  1078.2,601.863 1098.26,650.446 1118.32,599.636 1138.38,779.708 1158.44,667.953 1178.5,790.244 1198.56,777.338 1218.62,754.888 1238.67,833.484 1258.73,957.208 \n",
       "  1278.79,950.317 1298.85,960.494 1318.91,1184.41 1338.97,1171.47 1359.03,1069.93 1379.09,1030.56 1399.15,1045.2 1419.21,1185.75 1439.26,1218.25 1459.32,1081.28 \n",
       "  1479.38,1186.11 1499.44,1091.38 1519.5,1078.49 1539.56,1122.16 1559.62,1202.35 1579.68,1443.95 1599.74,1343.76 1619.8,1409.74 1639.85,1381.56 1659.91,1382.3 \n",
       "  1679.97,1462.26 1700.03,1439.39 1720.09,1272.88 1740.15,1218.67 1760.21,1390.31 1780.27,1141.74 1800.33,1240.18 1820.39,1173.02 1840.45,1228.86 1860.5,1153.8 \n",
       "  1880.56,980.993 1900.62,1148.03 1920.68,997.039 1940.74,1158.74 1960.8,1224.29 1980.86,1188.22 2000.92,1181.26 2020.98,1109.21 2041.04,881.573 2061.09,897.251 \n",
       "  2081.15,1131.23 2101.21,935.817 2121.27,782.262 2141.33,949.141 2161.39,1129.98 2181.45,1154.96 2201.51,894.661 2221.57,848.146 2241.63,868.515 2261.68,830.029 \n",
       "  \n",
       "  \"/>\n",
       "<polygon clip-path=\"url(#clip0801)\" points=\"\n",
       "1974.51,312.204 2249.26,312.204 2249.26,130.764 1974.51,130.764 \n",
       "  \" fill=\"#ffffff\" fill-rule=\"evenodd\" fill-opacity=\"1\"/>\n",
       "<polyline clip-path=\"url(#clip0801)\" style=\"stroke:#000000; stroke-width:4; stroke-opacity:1; fill:none\" points=\"\n",
       "  1974.51,312.204 2249.26,312.204 2249.26,130.764 1974.51,130.764 1974.51,312.204 \n",
       "  \"/>\n",
       "<polyline clip-path=\"url(#clip0801)\" style=\"stroke:#009af9; stroke-width:4; stroke-opacity:1; fill:none\" points=\"\n",
       "  1998.51,191.244 2142.51,191.244 \n",
       "  \"/>\n",
       "<g clip-path=\"url(#clip0801)\">\n",
       "<text style=\"fill:#000000; fill-opacity:1; font-family:Arial,Helvetica Neue,Helvetica,sans-serif; font-size:48px; text-anchor:start;\" transform=\"rotate(0, 2166.51, 208.744)\" x=\"2166.51\" y=\"208.744\">r</text>\n",
       "</g>\n",
       "<polyline clip-path=\"url(#clip0801)\" style=\"stroke:#e26f46; stroke-width:4; stroke-opacity:1; fill:none\" points=\"\n",
       "  1998.51,251.724 2142.51,251.724 \n",
       "  \"/>\n",
       "<g clip-path=\"url(#clip0801)\">\n",
       "<text style=\"fill:#000000; fill-opacity:1; font-family:Arial,Helvetica Neue,Helvetica,sans-serif; font-size:48px; text-anchor:start;\" transform=\"rotate(0, 2166.51, 269.224)\" x=\"2166.51\" y=\"269.224\">w</text>\n",
       "</g>\n",
       "</svg>\n"
      ]
     },
     "execution_count": 13,
     "metadata": {},
     "output_type": "execute_result"
    }
   ],
   "source": [
    "r = (θ-1) .* X[1,:] .+ (1-θ) .*(X[2,:] .+ Y[3,:])\n",
    "w = θ.* X[1,:] .+ (1-θ) .* X[2,:] .- θ .* Y[3,:]\n",
    "plot([r,w], labels = [\"r\",\"w\"])"
   ]
  },
  {
   "cell_type": "markdown",
   "metadata": {},
   "source": [
    "The code above is summarized in a function State_Space which returns the matrices A,B,C"
   ]
  },
  {
   "cell_type": "code",
   "execution_count": 14,
   "metadata": {},
   "outputs": [
    {
     "data": {
      "text/plain": [
       "State_Space (generic function with 1 method)"
      ]
     },
     "execution_count": 14,
     "metadata": {},
     "output_type": "execute_result"
    }
   ],
   "source": [
    "include(\"State_Space.jl\")"
   ]
  },
  {
   "cell_type": "code",
   "execution_count": 15,
   "metadata": {},
   "outputs": [
    {
     "data": {
      "text/plain": [
       "4×100 Array{Float64,2}:\n",
       " 0.0  -0.00632491   -0.0209341    -0.0182986    …  -0.0119489   -0.0102153 \n",
       " 0.0  -0.00434373   -0.0108533    -0.0107298       -0.0023196   -0.00207157\n",
       " 0.0   0.0004028     0.00336925    0.00131172      -0.00089481  -0.00123216\n",
       " 0.0  -0.000127274   0.000195276  -0.000460609      0.00184424   0.00343165"
      ]
     },
     "execution_count": 15,
     "metadata": {},
     "output_type": "execute_result"
    }
   ],
   "source": [
    "Y\n"
   ]
  },
  {
   "cell_type": "code",
   "execution_count": 16,
   "metadata": {},
   "outputs": [
    {
     "data": {
      "text/plain": [
       "5×100 Array{Float64,2}:\n",
       " 0.0   0.0          -0.000327031  -0.00111953   …  -0.00593657  -0.00566425 \n",
       " 0.0  -0.0101334    -0.0353994    -0.0288606       -0.0142915   -0.0114337  \n",
       " 0.0   0.00909905    0.00151298    0.0160519       -0.00567431  -0.00387934 \n",
       " 0.0   3.13228e-5    0.000582698   0.00112821       0.00163903   0.000740905\n",
       " 0.0  -0.000127274   0.000195276  -0.000460609      0.00184424   0.00343165 "
      ]
     },
     "execution_count": 16,
     "metadata": {},
     "output_type": "execute_result"
    }
   ],
   "source": [
    "X\n"
   ]
  },
  {
   "cell_type": "code",
   "execution_count": 17,
   "metadata": {},
   "outputs": [
    {
     "data": {
      "text/plain": [
       "4×5 Array{Float64,2}:\n",
       "  0.63446    0.582772  -0.0464372  -0.0344801  -0.0329025\n",
       " -0.327873   0.29839   -0.148191   -0.206037   -0.273701 \n",
       "  0.437631  -0.103427  -0.0714419  -0.0530464  -0.0506192\n",
       "  0.0        0.0        0.0         0.0         1.0      "
      ]
     },
     "execution_count": 17,
     "metadata": {},
     "output_type": "execute_result"
    }
   ],
   "source": [
    "C\n"
   ]
  }
 ],
 "metadata": {
  "kernelspec": {
   "display_name": "Julia 1.0.0",
   "language": "julia",
   "name": "julia-1.0"
  },
  "language_info": {
   "file_extension": ".jl",
   "mimetype": "application/julia",
   "name": "julia",
   "version": "1.0.0"
  }
 },
 "nbformat": 4,
 "nbformat_minor": 2
}
