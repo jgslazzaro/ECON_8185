{
 "cells": [
  {
   "cell_type": "markdown",
   "metadata": {},
   "source": [
    "## Question 1"
   ]
  },
  {
   "cell_type": "markdown",
   "metadata": {},
   "source": [
    "The problem is:\n",
    "$$\\max_{\\{c_t,k_t\\}_{t=0}^\\infty} \\sum_{t=0}^\\infty \\beta^t \\log(c_t)$$\n",
    "s.t.\n",
    "$$ c_t+k_{t+1} = A k_t^\\theta +(1-\\delta)k_t$$\n",
    "The FOCs imply that:\n",
    "$$ \\frac{c_{t+1}}{c_t} = \\beta (A\\theta k_{t+1}^{\\theta-1} + 1-\\delta)$$\n",
    "Hence, $$k_{ss} = \\left(\\frac{1-\\beta(1-\\delta)}{\\beta A \\theta}\\right)^{\\frac{1}{\\theta-1}} $$\n"
   ]
  },
  {
   "cell_type": "markdown",
   "metadata": {},
   "source": [
    "\n",
    "The functional equation is:\n",
    "$$F(c)(k) =  1-\\beta \\frac{c(k)}{c(Ak^\\theta +(1-\\delta)k-c(k))}(A\\theta (A\\theta k^\\alpha + (1-\\delta)k - c(k))^{\\theta-1} + 1-\\delta)  = 0$$\n",
    "\n",
    "And, in the test case $\\delta = 1$, we know the closed form solution:\n",
    "$$c(k) = (1-\\beta \\theta) A k^{\\theta} $$ \n",
    "\n"
   ]
  },
  {
   "cell_type": "markdown",
   "metadata": {},
   "source": [
    "Let us now define some parameters and find the Steady State value of capital:"
   ]
  },
  {
   "cell_type": "code",
   "execution_count": 1,
   "metadata": {},
   "outputs": [
    {
     "data": {
      "text/plain": [
       "1.0"
      ]
     },
     "execution_count": 1,
     "metadata": {},
     "output_type": "execute_result"
    }
   ],
   "source": [
    "using Plots, Optim, LinearAlgebra, FastGaussQuadrature\n",
    "\n",
    "#Defining parameters\n",
    "θ = 0.25\n",
    "β = 0.9\n",
    "δ = 1\n",
    "A = (1-β*(1-δ))/(θ * β) #This will normalize the SS to 1\n",
    "kss = ((1- β*(1-δ))/(β*A*θ))^(1/(θ-1))"
   ]
  },
  {
   "cell_type": "markdown",
   "metadata": {},
   "source": [
    "We will use the finite element method with the piecewise linear base function $\\varphi_i$ defined below (and in the lecture notes):\n"
   ]
  },
  {
   "cell_type": "code",
   "execution_count": 2,
   "metadata": {},
   "outputs": [
    {
     "data": {
      "text/plain": [
       "ϕi (generic function with 1 method)"
      ]
     },
     "execution_count": 2,
     "metadata": {},
     "output_type": "execute_result"
    }
   ],
   "source": [
    "#Finite elements Piecewise Linear function:\n",
    "function ϕi(x,X,i::Int)\n",
    "    #x: point to evaluate the function\n",
    "    #X: Vector with elements nodes\n",
    "    #i: Which element in the function\n",
    "    if i>1 && i<length(X) #i is not in a boundary\n",
    "        if X[i-1]<=x<=X[i]\n",
    "            f = (x-X[i-1])/(X[i]-X[i-1])\n",
    "        elseif X[i]<=x<=X[i+1]\n",
    "            f = (X[i+1]-x)/(X[i+1]-X[i])\n",
    "        else\n",
    "            f = 0\n",
    "        end\n",
    "    elseif i==1 #i is in the boundary(1)\n",
    "        if X[i]<=x<=X[i+1]\n",
    "            f = (X[i+1]-x)/(X[i+1]-X[i])\n",
    "        else\n",
    "            f = 0\n",
    "        end\n",
    "    elseif i==length(X) #i is in the top boundary\n",
    "        if X[i-1]<=x<=X[i]\n",
    "            f = (x-X[i-1])/(X[i]-X[i-1])\n",
    "        else\n",
    "            f=0\n",
    "        end\n",
    "    end\n",
    "    return f\n",
    "end\n"
   ]
  },
  {
   "cell_type": "markdown",
   "metadata": {},
   "source": [
    "The elements node $k_i\\in[0,2]$ with their distance increasing exponentially since it is known that the consuption function is less linear close to 0. We have 15 nodes."
   ]
  },
  {
   "cell_type": "code",
   "execution_count": 3,
   "metadata": {},
   "outputs": [
    {
     "data": {
      "text/plain": [
       "15-element Array{Float64,1}:\n",
       " 0.0                  \n",
       " 0.0005               \n",
       " 0.0013876771423281366\n",
       " 0.0029636185603518304\n",
       " 0.0057614729092074785\n",
       " 0.010728655615292541 \n",
       " 0.019547164715211198 \n",
       " 0.03520314263003213  \n",
       " 0.06299805010159346  \n",
       " 0.11234385817285451  \n",
       " 0.19995014996199395  \n",
       " 0.35548235545269025  \n",
       " 0.6316071228726379   \n",
       " 1.1218264118113592   \n",
       " 1.9921393268498697   "
      ]
     },
     "execution_count": 3,
     "metadata": {},
     "output_type": "execute_result"
    }
   ],
   "source": [
    "#Defining the elements:\n",
    "#In this case, we are putting more elements at low values of k because the function is known to be \"less linear\" in that region.\n",
    "K = zeros(15)\n",
    "for i=2:length(K)\n",
    "    global K\n",
    "    K[i] = K[i-1] +0.0005*exp(0.574*(i-2))\n",
    "end\n",
    "K"
   ]
  },
  {
   "cell_type": "markdown",
   "metadata": {},
   "source": [
    "We will approximate the consumption functio $c(k)$ by:\n",
    "$$ c^n(k;\\alpha) = \\sum_{i=1}^n\\alpha_i\\varphi_i(k)$$"
   ]
  },
  {
   "cell_type": "code",
   "execution_count": 4,
   "metadata": {},
   "outputs": [
    {
     "data": {
      "text/plain": [
       "cn (generic function with 1 method)"
      ]
     },
     "execution_count": 4,
     "metadata": {},
     "output_type": "execute_result"
    }
   ],
   "source": [
    "function cn(k,α;K=K)\n",
    "#This function is piecewise linear approximation for a function with arguments k\n",
    "#To get a good approximations one need to find the parameters α\n",
    "#K are the elements nodes. It is optionally defined here for efficiency. \n",
    "        n = length(K)\n",
    "        c = 0\n",
    "        for i = 1:n\n",
    "            c = c + α[i]*ϕi(k,K,i)\n",
    "        end\n",
    "        return c\n",
    "end"
   ]
  },
  {
   "cell_type": "markdown",
   "metadata": {},
   "source": [
    "The Residual equation is:\n",
    "\n",
    "$$R(k;\\alpha) = F(c^n(k;\\alpha))$$\n",
    "$$ =  1-\\beta \\frac{\\sum_{i=1}^n\\alpha_i\\varphi_i(k)}{\\sum_{i=1}^n\\alpha_i\\varphi_i(Ak^\\theta +(1-\\delta)k-\\sum_{i=1}^n\\alpha_i\\varphi_i(k))}(A\\theta (A\\theta k^\\alpha + (1-\\delta)k - \\sum_{i=1}^n\\alpha_i\\varphi_i(k))^{\\theta-1} + 1-\\delta)  = 0$$"
   ]
  },
  {
   "cell_type": "code",
   "execution_count": 5,
   "metadata": {},
   "outputs": [
    {
     "data": {
      "text/plain": [
       "residual (generic function with 1 method)"
      ]
     },
     "execution_count": 5,
     "metadata": {},
     "output_type": "execute_result"
    }
   ],
   "source": [
    "#capital policy function from Bugdet constraint\n",
    "polk(k,α) = min(max(eps(),A*k.^θ+(1-δ)*k-cn(k,α)),K[end])\n",
    "#min max are needed to avoid NaNs and other numerical instabilities\n",
    "\n",
    "function residual(k,α)\n",
    "    #This function is specific for the deterministic growth model.\n",
    "    #Residual function comes from FOCs\n",
    "    #cn below is an approximation for consumption\n",
    "        R = cn(k,α)/cn(polk(k,α),α) * β * (A*θ*polk(k,α)^(θ-1)+1-δ)- 1\n",
    "    return R\n",
    "end"
   ]
  },
  {
   "cell_type": "markdown",
   "metadata": {},
   "source": [
    "Since the finite element method is a Galerkin method, the base function is the weight we use to minimize the weighted residual:\n",
    "$$ \\min_\\alpha \\int_0^\\bar{k} \\varphi_i(k) R(k;\\alpha) dk $$\n",
    "To calculate the integral, we use Gauss-Legendre method with 3 nodes per element. Also note, that we impose the boundary condition $\\alpha_1 = 0$ since this imply $c(0) = 0$."
   ]
  },
  {
   "cell_type": "code",
   "execution_count": 6,
   "metadata": {},
   "outputs": [
    {
     "data": {
      "text/plain": [
       "mini (generic function with 1 method)"
      ]
     },
     "execution_count": 6,
     "metadata": {},
     "output_type": "execute_result"
    }
   ],
   "source": [
    "function integra(k,α;K=K)\n",
    "#This function calculates the function that will be integrated:\n",
    "#integra(k;α):= ϕi(k)R(k;α), where ϕi are the weights and R is the residual function\n",
    "#In the Finite element methods, the weights are the same as the approximating functions\n",
    "    T=zeros(length(K))\n",
    "    for i=1:length(K)\n",
    "        T[i] = ϕi(k,K,i)*residual(k,α)\n",
    "    end\n",
    "    return T\n",
    "end\n",
    "\n",
    "#This function calculates the integral (the norm of the integrated functions), as a functions of the parameters to minimized\n",
    "#We define that way since this is the format accepted by the solver:\n",
    "#mini(α):= ∫integra(k;α)dk\n",
    "nodes, weights = gausslegendre(3*(length(K)-1)) #Gauss Legendre nodes and weights,this function is just a Quadrature table\n",
    "function mini(α;nodes=nodes,weights=weights,K=K)\n",
    "    if length(α)<length(K)\n",
    "        α = vcat(0,α)\n",
    "    end\n",
    "    #g = quadgk.(integra,K[1],K[end])[1] #Integral\n",
    "    #See Judd's book pg 261 on numerical integration and the gausslegendre formula:\n",
    "    gaussleg = zeros(length(K))\n",
    "    for j=1:length(nodes)\n",
    "        gaussleg .+= (K[end]-K[1])/2 .* weights[j] .* integra((nodes[j] .+1).*\n",
    "        (K[end]-K[1])/2 .+ K[1],α)\n",
    "    end\n",
    "    return norm(gaussleg,1)\n",
    "end"
   ]
  },
  {
   "cell_type": "markdown",
   "metadata": {},
   "source": [
    "Let's start the minimization procedure. We use the BFGS method which is a Quasi-Newton method. It does not calculates the Hessian as a Newton procedure would do, but it approximates the Hessian by a positive definite approximation which is easier to compute and invert (see Judd's book). Note that this minimization step is extremely sensitive to initial conditions. A grid search or another procedure might be needed to determine the initial parameters."
   ]
  },
  {
   "cell_type": "code",
   "execution_count": 7,
   "metadata": {},
   "outputs": [
    {
     "data": {
      "text/plain": [
       "0.6613235916442249"
      ]
     },
     "execution_count": 7,
     "metadata": {},
     "output_type": "execute_result"
    }
   ],
   "source": [
    "#Setting initial conditions\n",
    "initial =  ones(length(K)-1) .* range(0.35, stop = 3.5, length = length(K)-1)\n",
    "\n",
    "#Check if the initial conditions are somewhat close to the true parameters. \n",
    "mini(initial)\n"
   ]
  },
  {
   "cell_type": "code",
   "execution_count": 8,
   "metadata": {},
   "outputs": [
    {
     "data": {
      "text/plain": [
       "15-element Array{Float64,1}:\n",
       " 0.0                \n",
       " 0.37442113219372514\n",
       " 0.6640748582488243 \n",
       " 0.8539733791826457 \n",
       " 0.9252970761844344 \n",
       " 1.1458792909060764 \n",
       " 1.29154740222145   \n",
       " 1.4961818748748827 \n",
       " 1.730224876203169  \n",
       " 2.0077754086540636 \n",
       " 2.3141705183580985 \n",
       " 2.6711610637841803 \n",
       " 3.085257330000326  \n",
       " 3.565426495237902  \n",
       " 4.116321573422392  "
      ]
     },
     "execution_count": 8,
     "metadata": {},
     "output_type": "execute_result"
    }
   ],
   "source": [
    "#Here we start the minimization procedure we want to find α:= argmin mini(α)\n",
    "\n",
    "#Solver stuff\n",
    "#lower and upper bound of the parameters:\n",
    "lower = zeros(length(initial))\n",
    "upper = Inf*ones(length(initial))\n",
    "#Optimizer method is BFGS, see Judd's book page 114 for an explanation:\n",
    "inner_optimizer = BFGS()\n",
    "\n",
    "#Solver:\n",
    "bla = optimize(mini,lower,upper,initial, Fminbox(inner_optimizer))\n",
    "#Parameters\n",
    "α = vcat(0,bla.minimizer) #we need to concatenate to include the boundary condition"
   ]
  },
  {
   "cell_type": "code",
   "execution_count": 9,
   "metadata": {},
   "outputs": [
    {
     "data": {
      "text/plain": [
       "8.706464890141266e-6"
      ]
     },
     "execution_count": 9,
     "metadata": {},
     "output_type": "execute_result"
    }
   ],
   "source": [
    "#Checking if the residual is low at the solution\n",
    "mini(α)"
   ]
  },
  {
   "cell_type": "markdown",
   "metadata": {},
   "source": [
    "Below, we plot the approximate consumption function and the true one. As we can see, the approximation is barely indistinguible from the true function."
   ]
  },
  {
   "cell_type": "code",
   "execution_count": 10,
   "metadata": {},
   "outputs": [
    {
     "data": {
      "image/svg+xml": [
       "<?xml version=\"1.0\" encoding=\"utf-8\"?>\n",
       "<svg xmlns=\"http://www.w3.org/2000/svg\" xmlns:xlink=\"http://www.w3.org/1999/xlink\" width=\"600\" height=\"400\" viewBox=\"0 0 2400 1600\">\n",
       "<defs>\n",
       "  <clipPath id=\"clip8000\">\n",
       "    <rect x=\"0\" y=\"0\" width=\"2000\" height=\"2000\"/>\n",
       "  </clipPath>\n",
       "</defs>\n",
       "<defs>\n",
       "  <clipPath id=\"clip8001\">\n",
       "    <rect x=\"0\" y=\"0\" width=\"2400\" height=\"1600\"/>\n",
       "  </clipPath>\n",
       "</defs>\n",
       "<polygon clip-path=\"url(#clip8001)\" points=\"\n",
       "0,1600 2400,1600 2400,0 0,0 \n",
       "  \" fill=\"#ffffff\" fill-rule=\"evenodd\" fill-opacity=\"1\"/>\n",
       "<defs>\n",
       "  <clipPath id=\"clip8002\">\n",
       "    <rect x=\"480\" y=\"0\" width=\"1681\" height=\"1600\"/>\n",
       "  </clipPath>\n",
       "</defs>\n",
       "<polygon clip-path=\"url(#clip8001)\" points=\"\n",
       "121.251,1503.47 2321.26,1503.47 2321.26,47.2441 121.251,47.2441 \n",
       "  \" fill=\"#ffffff\" fill-rule=\"evenodd\" fill-opacity=\"1\"/>\n",
       "<defs>\n",
       "  <clipPath id=\"clip8003\">\n",
       "    <rect x=\"121\" y=\"47\" width=\"2201\" height=\"1457\"/>\n",
       "  </clipPath>\n",
       "</defs>\n",
       "<polyline clip-path=\"url(#clip8003)\" style=\"stroke:#000000; stroke-width:2; stroke-opacity:0.1; fill:none\" points=\"\n",
       "  183.515,1503.47 183.515,47.2441 \n",
       "  \"/>\n",
       "<polyline clip-path=\"url(#clip8003)\" style=\"stroke:#000000; stroke-width:2; stroke-opacity:0.1; fill:none\" points=\"\n",
       "  704.992,1503.47 704.992,47.2441 \n",
       "  \"/>\n",
       "<polyline clip-path=\"url(#clip8003)\" style=\"stroke:#000000; stroke-width:2; stroke-opacity:0.1; fill:none\" points=\"\n",
       "  1226.47,1503.47 1226.47,47.2441 \n",
       "  \"/>\n",
       "<polyline clip-path=\"url(#clip8003)\" style=\"stroke:#000000; stroke-width:2; stroke-opacity:0.1; fill:none\" points=\"\n",
       "  1747.95,1503.47 1747.95,47.2441 \n",
       "  \"/>\n",
       "<polyline clip-path=\"url(#clip8003)\" style=\"stroke:#000000; stroke-width:2; stroke-opacity:0.1; fill:none\" points=\"\n",
       "  2269.42,1503.47 2269.42,47.2441 \n",
       "  \"/>\n",
       "<polyline clip-path=\"url(#clip8003)\" style=\"stroke:#000000; stroke-width:2; stroke-opacity:0.1; fill:none\" points=\"\n",
       "  121.251,1462.26 2321.26,1462.26 \n",
       "  \"/>\n",
       "<polyline clip-path=\"url(#clip8003)\" style=\"stroke:#000000; stroke-width:2; stroke-opacity:0.1; fill:none\" points=\"\n",
       "  121.251,1128.41 2321.26,1128.41 \n",
       "  \"/>\n",
       "<polyline clip-path=\"url(#clip8003)\" style=\"stroke:#000000; stroke-width:2; stroke-opacity:0.1; fill:none\" points=\"\n",
       "  121.251,794.551 2321.26,794.551 \n",
       "  \"/>\n",
       "<polyline clip-path=\"url(#clip8003)\" style=\"stroke:#000000; stroke-width:2; stroke-opacity:0.1; fill:none\" points=\"\n",
       "  121.251,460.696 2321.26,460.696 \n",
       "  \"/>\n",
       "<polyline clip-path=\"url(#clip8003)\" style=\"stroke:#000000; stroke-width:2; stroke-opacity:0.1; fill:none\" points=\"\n",
       "  121.251,126.841 2321.26,126.841 \n",
       "  \"/>\n",
       "<polyline clip-path=\"url(#clip8001)\" style=\"stroke:#000000; stroke-width:4; stroke-opacity:1; fill:none\" points=\"\n",
       "  121.251,1503.47 2321.26,1503.47 \n",
       "  \"/>\n",
       "<polyline clip-path=\"url(#clip8001)\" style=\"stroke:#000000; stroke-width:4; stroke-opacity:1; fill:none\" points=\"\n",
       "  121.251,1503.47 121.251,47.2441 \n",
       "  \"/>\n",
       "<polyline clip-path=\"url(#clip8001)\" style=\"stroke:#000000; stroke-width:4; stroke-opacity:1; fill:none\" points=\"\n",
       "  183.515,1503.47 183.515,1481.63 \n",
       "  \"/>\n",
       "<polyline clip-path=\"url(#clip8001)\" style=\"stroke:#000000; stroke-width:4; stroke-opacity:1; fill:none\" points=\"\n",
       "  704.992,1503.47 704.992,1481.63 \n",
       "  \"/>\n",
       "<polyline clip-path=\"url(#clip8001)\" style=\"stroke:#000000; stroke-width:4; stroke-opacity:1; fill:none\" points=\"\n",
       "  1226.47,1503.47 1226.47,1481.63 \n",
       "  \"/>\n",
       "<polyline clip-path=\"url(#clip8001)\" style=\"stroke:#000000; stroke-width:4; stroke-opacity:1; fill:none\" points=\"\n",
       "  1747.95,1503.47 1747.95,1481.63 \n",
       "  \"/>\n",
       "<polyline clip-path=\"url(#clip8001)\" style=\"stroke:#000000; stroke-width:4; stroke-opacity:1; fill:none\" points=\"\n",
       "  2269.42,1503.47 2269.42,1481.63 \n",
       "  \"/>\n",
       "<polyline clip-path=\"url(#clip8001)\" style=\"stroke:#000000; stroke-width:4; stroke-opacity:1; fill:none\" points=\"\n",
       "  121.251,1462.26 154.251,1462.26 \n",
       "  \"/>\n",
       "<polyline clip-path=\"url(#clip8001)\" style=\"stroke:#000000; stroke-width:4; stroke-opacity:1; fill:none\" points=\"\n",
       "  121.251,1128.41 154.251,1128.41 \n",
       "  \"/>\n",
       "<polyline clip-path=\"url(#clip8001)\" style=\"stroke:#000000; stroke-width:4; stroke-opacity:1; fill:none\" points=\"\n",
       "  121.251,794.551 154.251,794.551 \n",
       "  \"/>\n",
       "<polyline clip-path=\"url(#clip8001)\" style=\"stroke:#000000; stroke-width:4; stroke-opacity:1; fill:none\" points=\"\n",
       "  121.251,460.696 154.251,460.696 \n",
       "  \"/>\n",
       "<polyline clip-path=\"url(#clip8001)\" style=\"stroke:#000000; stroke-width:4; stroke-opacity:1; fill:none\" points=\"\n",
       "  121.251,126.841 154.251,126.841 \n",
       "  \"/>\n",
       "<g clip-path=\"url(#clip8001)\">\n",
       "<text style=\"fill:#000000; fill-opacity:1; font-family:Arial,Helvetica Neue,Helvetica,sans-serif; font-size:48px; text-anchor:middle;\" transform=\"rotate(0, 183.515, 1557.47)\" x=\"183.515\" y=\"1557.47\">0.0</text>\n",
       "</g>\n",
       "<g clip-path=\"url(#clip8001)\">\n",
       "<text style=\"fill:#000000; fill-opacity:1; font-family:Arial,Helvetica Neue,Helvetica,sans-serif; font-size:48px; text-anchor:middle;\" transform=\"rotate(0, 704.992, 1557.47)\" x=\"704.992\" y=\"1557.47\">0.5</text>\n",
       "</g>\n",
       "<g clip-path=\"url(#clip8001)\">\n",
       "<text style=\"fill:#000000; fill-opacity:1; font-family:Arial,Helvetica Neue,Helvetica,sans-serif; font-size:48px; text-anchor:middle;\" transform=\"rotate(0, 1226.47, 1557.47)\" x=\"1226.47\" y=\"1557.47\">1.0</text>\n",
       "</g>\n",
       "<g clip-path=\"url(#clip8001)\">\n",
       "<text style=\"fill:#000000; fill-opacity:1; font-family:Arial,Helvetica Neue,Helvetica,sans-serif; font-size:48px; text-anchor:middle;\" transform=\"rotate(0, 1747.95, 1557.47)\" x=\"1747.95\" y=\"1557.47\">1.5</text>\n",
       "</g>\n",
       "<g clip-path=\"url(#clip8001)\">\n",
       "<text style=\"fill:#000000; fill-opacity:1; font-family:Arial,Helvetica Neue,Helvetica,sans-serif; font-size:48px; text-anchor:middle;\" transform=\"rotate(0, 2269.42, 1557.47)\" x=\"2269.42\" y=\"1557.47\">2.0</text>\n",
       "</g>\n",
       "<g clip-path=\"url(#clip8001)\">\n",
       "<text style=\"fill:#000000; fill-opacity:1; font-family:Arial,Helvetica Neue,Helvetica,sans-serif; font-size:48px; text-anchor:end;\" transform=\"rotate(0, 97.2505, 1479.76)\" x=\"97.2505\" y=\"1479.76\">0</text>\n",
       "</g>\n",
       "<g clip-path=\"url(#clip8001)\">\n",
       "<text style=\"fill:#000000; fill-opacity:1; font-family:Arial,Helvetica Neue,Helvetica,sans-serif; font-size:48px; text-anchor:end;\" transform=\"rotate(0, 97.2505, 1145.91)\" x=\"97.2505\" y=\"1145.91\">1</text>\n",
       "</g>\n",
       "<g clip-path=\"url(#clip8001)\">\n",
       "<text style=\"fill:#000000; fill-opacity:1; font-family:Arial,Helvetica Neue,Helvetica,sans-serif; font-size:48px; text-anchor:end;\" transform=\"rotate(0, 97.2505, 812.051)\" x=\"97.2505\" y=\"812.051\">2</text>\n",
       "</g>\n",
       "<g clip-path=\"url(#clip8001)\">\n",
       "<text style=\"fill:#000000; fill-opacity:1; font-family:Arial,Helvetica Neue,Helvetica,sans-serif; font-size:48px; text-anchor:end;\" transform=\"rotate(0, 97.2505, 478.196)\" x=\"97.2505\" y=\"478.196\">3</text>\n",
       "</g>\n",
       "<g clip-path=\"url(#clip8001)\">\n",
       "<text style=\"fill:#000000; fill-opacity:1; font-family:Arial,Helvetica Neue,Helvetica,sans-serif; font-size:48px; text-anchor:end;\" transform=\"rotate(0, 97.2505, 144.341)\" x=\"97.2505\" y=\"144.341\">4</text>\n",
       "</g>\n",
       "<polyline clip-path=\"url(#clip8003)\" style=\"stroke:#009af9; stroke-width:4; stroke-opacity:1; fill:none\" points=\"\n",
       "  183.515,1462.26 193.944,1090.51 204.374,1029.1 214.804,985.458 225.233,949.268 235.663,921.156 246.092,893.044 256.522,871.468 266.951,852.69 277.381,833.912 \n",
       "  287.81,815.134 298.24,796.356 308.67,783.015 319.099,771.339 329.529,759.663 339.958,747.986 350.388,736.31 360.817,724.634 371.247,712.958 381.676,701.281 \n",
       "  392.106,689.625 402.535,681.962 412.965,674.299 423.395,666.636 433.824,658.973 444.254,651.31 454.683,643.648 465.113,635.985 475.542,628.322 485.972,620.659 \n",
       "  496.401,612.996 506.831,605.333 517.261,597.67 527.69,590.007 538.12,582.344 548.549,574.681 558.979,568.218 569.408,563.212 579.838,558.205 590.267,553.198 \n",
       "  600.697,548.191 611.127,543.185 621.556,538.178 631.986,533.171 642.415,528.164 652.845,523.158 663.274,518.151 673.704,513.144 684.133,508.138 694.563,503.131 \n",
       "  704.992,498.124 715.422,493.117 725.852,488.111 736.281,483.104 746.711,478.097 757.14,473.09 767.57,468.084 777.999,463.077 788.429,458.07 798.858,453.064 \n",
       "  809.288,448.057 819.718,443.05 830.147,438.043 840.577,433.037 851.006,429.487 861.436,426.217 871.865,422.947 882.295,419.677 892.724,416.407 903.154,413.137 \n",
       "  913.583,409.867 924.013,406.597 934.443,403.327 944.872,400.057 955.302,396.786 965.731,393.516 976.161,390.246 986.59,386.976 997.02,383.706 1007.45,380.436 \n",
       "  1017.88,377.166 1028.31,373.896 1038.74,370.626 1049.17,367.355 1059.6,364.085 1070.03,360.815 1080.46,357.545 1090.89,354.275 1101.32,351.005 1111.74,347.735 \n",
       "  1122.17,344.465 1132.6,341.195 1143.03,337.925 1153.46,334.654 1163.89,331.384 1174.32,328.114 1184.75,324.844 1195.18,321.574 1205.61,318.304 1216.04,315.034 \n",
       "  1226.47,311.764 1236.9,308.494 1247.33,305.223 1257.76,301.953 1268.19,298.683 1278.62,295.413 1289.05,292.143 1299.48,288.873 1309.91,285.603 1320.34,282.333 \n",
       "  1330.77,279.063 1341.2,275.793 1351.62,272.522 1362.05,270.198 1372.48,268.085 1382.91,265.971 1393.34,263.858 1403.77,261.745 1414.2,259.632 1424.63,257.518 \n",
       "  1435.06,255.405 1445.49,253.292 1455.92,251.179 1466.35,249.065 1476.78,246.952 1487.21,244.839 1497.64,242.726 1508.07,240.612 1518.5,238.499 1528.93,236.386 \n",
       "  1539.36,234.273 1549.79,232.159 1560.22,230.046 1570.65,227.933 1581.07,225.82 1591.5,223.706 1601.93,221.593 1612.36,219.48 1622.79,217.367 1633.22,215.253 \n",
       "  1643.65,213.14 1654.08,211.027 1664.51,208.914 1674.94,206.8 1685.37,204.687 1695.8,202.574 1706.23,200.461 1716.66,198.347 1727.09,196.234 1737.52,194.121 \n",
       "  1747.95,192.008 1758.38,189.894 1768.81,187.781 1779.24,185.668 1789.67,183.555 1800.1,181.441 1810.52,179.328 1820.95,177.215 1831.38,175.102 1841.81,172.988 \n",
       "  1852.24,170.875 1862.67,168.762 1873.1,166.649 1883.53,164.535 1893.96,162.422 1904.39,160.309 1914.82,158.195 1925.25,156.082 1935.68,153.969 1946.11,151.856 \n",
       "  1956.54,149.742 1966.97,147.629 1977.4,145.516 1987.83,143.403 1998.26,141.289 2008.69,139.176 2019.12,137.063 2029.55,134.95 2039.97,132.836 2050.4,130.723 \n",
       "  2060.83,128.61 2071.26,126.497 2081.69,124.383 2092.12,122.27 2102.55,120.157 2112.98,118.044 2123.41,115.93 2133.84,113.817 2144.27,111.704 2154.7,109.591 \n",
       "  2165.13,107.477 2175.56,105.364 2185.99,103.251 2196.42,101.138 2206.85,99.0244 2217.28,96.9112 2227.71,94.7979 2238.14,92.6847 2248.57,90.5714 2259,88.4582 \n",
       "  \n",
       "  \"/>\n",
       "<polyline clip-path=\"url(#clip8003)\" style=\"stroke:#e26f46; stroke-width:4; stroke-opacity:1; fill:none\" points=\"\n",
       "  183.515,1462.26 193.944,1098.62 204.374,1029.81 214.804,983.678 225.233,947.99 235.663,918.485 246.092,893.126 256.522,870.765 266.951,850.686 277.381,832.41 \n",
       "  287.81,815.599 298.24,800.006 308.67,785.442 319.099,771.762 329.529,758.85 339.958,746.612 350.388,734.972 360.817,723.865 371.247,713.238 381.676,703.044 \n",
       "  392.106,693.246 402.535,683.809 412.965,674.702 423.395,665.901 433.824,657.383 444.254,649.127 454.683,641.115 465.113,633.33 475.542,625.759 485.972,618.389 \n",
       "  496.401,611.206 506.831,604.201 517.261,597.363 527.69,590.684 538.12,584.155 548.549,577.768 558.979,571.517 569.408,565.395 579.838,559.395 590.267,553.513 \n",
       "  600.697,547.743 611.127,542.08 621.556,536.52 631.986,531.058 642.415,525.691 652.845,520.414 663.274,515.225 673.704,510.119 684.133,505.094 694.563,500.148 \n",
       "  704.992,495.276 715.422,490.477 725.852,485.748 736.281,481.087 746.711,476.491 757.14,471.958 767.57,467.487 777.999,463.076 788.429,458.722 798.858,454.424 \n",
       "  809.288,450.181 819.718,445.99 830.147,441.85 840.577,437.76 851.006,433.719 861.436,429.724 871.865,425.776 882.295,421.872 892.724,418.011 903.154,414.193 \n",
       "  913.583,410.416 924.013,406.679 934.443,402.982 944.872,399.323 955.302,395.701 965.731,392.116 976.161,388.567 986.59,385.052 997.02,381.572 1007.45,378.124 \n",
       "  1017.88,374.71 1028.31,371.327 1038.74,367.975 1049.17,364.654 1059.6,361.363 1070.03,358.101 1080.46,354.868 1090.89,351.663 1101.32,348.485 1111.74,345.334 \n",
       "  1122.17,342.21 1132.6,339.112 1143.03,336.039 1153.46,332.991 1163.89,329.967 1174.32,326.968 1184.75,323.992 1195.18,321.039 1205.61,318.109 1216.04,315.201 \n",
       "  1226.47,312.316 1236.9,309.451 1247.33,306.609 1257.76,303.786 1268.19,300.985 1278.62,298.203 1289.05,295.442 1299.48,292.699 1309.91,289.976 1320.34,287.272 \n",
       "  1330.77,284.586 1341.2,281.919 1351.62,279.269 1362.05,276.637 1372.48,274.023 1382.91,271.426 1393.34,268.845 1403.77,266.282 1414.2,263.734 1424.63,261.203 \n",
       "  1435.06,258.688 1445.49,256.188 1455.92,253.704 1466.35,251.235 1476.78,248.781 1487.21,246.342 1497.64,243.917 1508.07,241.507 1518.5,239.111 1528.93,236.729 \n",
       "  1539.36,234.361 1549.79,232.006 1560.22,229.665 1570.65,227.337 1581.07,225.023 1591.5,222.721 1601.93,220.432 1612.36,218.155 1622.79,215.891 1633.22,213.639 \n",
       "  1643.65,211.4 1654.08,209.172 1664.51,206.956 1674.94,204.752 1685.37,202.559 1695.8,200.378 1706.23,198.208 1716.66,196.049 1727.09,193.901 1737.52,191.764 \n",
       "  1747.95,189.637 1758.38,187.522 1768.81,185.416 1779.24,183.321 1789.67,181.237 1800.1,179.162 1810.52,177.098 1820.95,175.043 1831.38,172.998 1841.81,170.963 \n",
       "  1852.24,168.937 1862.67,166.921 1873.1,164.915 1883.53,162.917 1893.96,160.929 1904.39,158.95 1914.82,156.979 1925.25,155.018 1935.68,153.065 1946.11,151.122 \n",
       "  1956.54,149.186 1966.97,147.26 1977.4,145.341 1987.83,143.431 1998.26,141.53 2008.69,139.636 2019.12,137.751 2029.55,135.873 2039.97,134.004 2050.4,132.142 \n",
       "  2060.83,130.288 2071.26,128.442 2081.69,126.604 2092.12,124.773 2102.55,122.949 2112.98,121.133 2123.41,119.325 2133.84,117.523 2144.27,115.729 2154.7,113.942 \n",
       "  2165.13,112.162 2175.56,110.389 2185.99,108.623 2196.42,106.864 2206.85,105.112 2217.28,103.366 2227.71,101.627 2238.14,99.8952 2248.57,98.1695 2259,96.4505 \n",
       "  \n",
       "  \"/>\n",
       "<polygon clip-path=\"url(#clip8001)\" points=\"\n",
       "1701.64,1359.47 2249.26,1359.47 2249.26,1178.03 1701.64,1178.03 \n",
       "  \" fill=\"#ffffff\" fill-rule=\"evenodd\" fill-opacity=\"1\"/>\n",
       "<polyline clip-path=\"url(#clip8001)\" style=\"stroke:#000000; stroke-width:4; stroke-opacity:1; fill:none\" points=\"\n",
       "  1701.64,1359.47 2249.26,1359.47 2249.26,1178.03 1701.64,1178.03 1701.64,1359.47 \n",
       "  \"/>\n",
       "<polyline clip-path=\"url(#clip8001)\" style=\"stroke:#009af9; stroke-width:4; stroke-opacity:1; fill:none\" points=\"\n",
       "  1725.64,1238.51 1869.64,1238.51 \n",
       "  \"/>\n",
       "<g clip-path=\"url(#clip8001)\">\n",
       "<text style=\"fill:#000000; fill-opacity:1; font-family:Arial,Helvetica Neue,Helvetica,sans-serif; font-size:48px; text-anchor:start;\" transform=\"rotate(0, 1893.64, 1256.01)\" x=\"1893.64\" y=\"1256.01\">Approximation</text>\n",
       "</g>\n",
       "<polyline clip-path=\"url(#clip8001)\" style=\"stroke:#e26f46; stroke-width:4; stroke-opacity:1; fill:none\" points=\"\n",
       "  1725.64,1298.99 1869.64,1298.99 \n",
       "  \"/>\n",
       "<g clip-path=\"url(#clip8001)\">\n",
       "<text style=\"fill:#000000; fill-opacity:1; font-family:Arial,Helvetica Neue,Helvetica,sans-serif; font-size:48px; text-anchor:start;\" transform=\"rotate(0, 1893.64, 1316.49)\" x=\"1893.64\" y=\"1316.49\">True Function</text>\n",
       "</g>\n",
       "</svg>\n"
      ]
     },
     "execution_count": 10,
     "metadata": {},
     "output_type": "execute_result"
    }
   ],
   "source": [
    "#Plotting\n",
    "k=K[1]:0.01:K[end]\n",
    "\n",
    "c(k) = (1-β*θ)*A*k^θ\n",
    "cnplot(k) = cn(k,α)\n",
    "plot(k,[cnplot.(k),c.(k)],label=[\"Approximation\" \"True Function\"],legend=:bottomright)"
   ]
  },
  {
   "cell_type": "markdown",
   "metadata": {},
   "source": [
    "Now, we do the same procedure for a case with $\\delta =0.05$. Note that now we can't compare to a known formula, but the shape should be similar to the one above."
   ]
  },
  {
   "cell_type": "code",
   "execution_count": 11,
   "metadata": {},
   "outputs": [
    {
     "data": {
      "text/plain": [
       "residual (generic function with 1 method)"
      ]
     },
     "execution_count": 11,
     "metadata": {},
     "output_type": "execute_result"
    }
   ],
   "source": [
    "#New parameters\n",
    "δ = 0.05\n",
    "A = (1-β*(1-δ))/(θ * β) #This will normalize the SS to 1\n",
    "\n",
    "kss = ((1- β*(1-δ))/(β*A*θ))^(1/(θ-1))\n",
    "\n",
    "polk(k,α) = min(max(eps(),A*k.^θ+(1-δ)*k-cn(k,α)),K[end]) #capital policy function from Bugdet constraint\n",
    "\n",
    "function residual(k,α) #Residual function comes from FOCs\n",
    "        R = β * cn(k,α)/cn(polk(k,α),α)  * (A*θ*polk(k,α)^(θ-1)+1-δ)- 1\n",
    "    return R\n",
    "end"
   ]
  },
  {
   "cell_type": "code",
   "execution_count": 12,
   "metadata": {},
   "outputs": [
    {
     "data": {
      "text/plain": [
       "0.560172602119699"
      ]
     },
     "execution_count": 12,
     "metadata": {},
     "output_type": "execute_result"
    }
   ],
   "source": [
    "initial = ones(length(K)-1)*0.0035\n",
    "for i=2:length(initial)\n",
    "    global initial\n",
    "    initial[i] = initial[i-1] +0.000265*exp(0.589*(i-2))\n",
    "end\n",
    "initial\n",
    "#initial = ones(length(K)-1)*0.1.*range(0.03,stop = 8,length = length(K)-1)\n",
    "mini(initial)"
   ]
  },
  {
   "cell_type": "code",
   "execution_count": 13,
   "metadata": {},
   "outputs": [
    {
     "data": {
      "text/plain": [
       "15-element Array{Float64,1}:\n",
       " 0.0                 \n",
       " 0.01239167265675882 \n",
       " 0.09230419026395284 \n",
       " 0.021151728251957085\n",
       " 0.115504132550029   \n",
       " 0.12844822914611462 \n",
       " 0.15135403379323256 \n",
       " 0.17588563782962213 \n",
       " 0.20737801051704224 \n",
       " 0.24777147103586775 \n",
       " 0.3013961059132636  \n",
       " 0.3754319853414289  \n",
       " 0.4808309867565117  \n",
       " 0.6344669728788809  \n",
       " 0.852052586048369   "
      ]
     },
     "execution_count": 13,
     "metadata": {},
     "output_type": "execute_result"
    }
   ],
   "source": [
    "#Solver stuff\n",
    "#lower and upper bound of the parameters:\n",
    "lower = zeros(length(initial))\n",
    "upper = Inf*ones(length(initial))\n",
    "#Optimizer method is BFGS, see Judd's book page 114 for an explanation:\n",
    "inner_optimizer = BFGS()\n",
    "\n",
    "#Solver:\n",
    "bla = optimize(mini,lower,upper,initial, Fminbox(inner_optimizer))\n",
    "#Parameters\n",
    "α = vcat(0,bla.minimizer)"
   ]
  },
  {
   "cell_type": "code",
   "execution_count": 14,
   "metadata": {},
   "outputs": [
    {
     "data": {
      "image/svg+xml": [
       "<?xml version=\"1.0\" encoding=\"utf-8\"?>\n",
       "<svg xmlns=\"http://www.w3.org/2000/svg\" xmlns:xlink=\"http://www.w3.org/1999/xlink\" width=\"600\" height=\"400\" viewBox=\"0 0 2400 1600\">\n",
       "<defs>\n",
       "  <clipPath id=\"clip8200\">\n",
       "    <rect x=\"0\" y=\"0\" width=\"2000\" height=\"2000\"/>\n",
       "  </clipPath>\n",
       "</defs>\n",
       "<defs>\n",
       "  <clipPath id=\"clip8201\">\n",
       "    <rect x=\"0\" y=\"0\" width=\"2400\" height=\"1600\"/>\n",
       "  </clipPath>\n",
       "</defs>\n",
       "<polygon clip-path=\"url(#clip8201)\" points=\"\n",
       "0,1600 2400,1600 2400,0 0,0 \n",
       "  \" fill=\"#ffffff\" fill-rule=\"evenodd\" fill-opacity=\"1\"/>\n",
       "<defs>\n",
       "  <clipPath id=\"clip8202\">\n",
       "    <rect x=\"480\" y=\"0\" width=\"1681\" height=\"1600\"/>\n",
       "  </clipPath>\n",
       "</defs>\n",
       "<polygon clip-path=\"url(#clip8201)\" points=\"\n",
       "161.394,1503.47 2321.26,1503.47 2321.26,47.2441 161.394,47.2441 \n",
       "  \" fill=\"#ffffff\" fill-rule=\"evenodd\" fill-opacity=\"1\"/>\n",
       "<defs>\n",
       "  <clipPath id=\"clip8203\">\n",
       "    <rect x=\"161\" y=\"47\" width=\"2161\" height=\"1457\"/>\n",
       "  </clipPath>\n",
       "</defs>\n",
       "<polyline clip-path=\"url(#clip8203)\" style=\"stroke:#000000; stroke-width:2; stroke-opacity:0.1; fill:none\" points=\"\n",
       "  222.522,1503.47 222.522,47.2441 \n",
       "  \"/>\n",
       "<polyline clip-path=\"url(#clip8203)\" style=\"stroke:#000000; stroke-width:2; stroke-opacity:0.1; fill:none\" points=\"\n",
       "  734.484,1503.47 734.484,47.2441 \n",
       "  \"/>\n",
       "<polyline clip-path=\"url(#clip8203)\" style=\"stroke:#000000; stroke-width:2; stroke-opacity:0.1; fill:none\" points=\"\n",
       "  1246.45,1503.47 1246.45,47.2441 \n",
       "  \"/>\n",
       "<polyline clip-path=\"url(#clip8203)\" style=\"stroke:#000000; stroke-width:2; stroke-opacity:0.1; fill:none\" points=\"\n",
       "  1758.41,1503.47 1758.41,47.2441 \n",
       "  \"/>\n",
       "<polyline clip-path=\"url(#clip8203)\" style=\"stroke:#000000; stroke-width:2; stroke-opacity:0.1; fill:none\" points=\"\n",
       "  2270.37,1503.47 2270.37,47.2441 \n",
       "  \"/>\n",
       "<polyline clip-path=\"url(#clip8203)\" style=\"stroke:#000000; stroke-width:2; stroke-opacity:0.1; fill:none\" points=\"\n",
       "  161.394,1462.26 2321.26,1462.26 \n",
       "  \"/>\n",
       "<polyline clip-path=\"url(#clip8203)\" style=\"stroke:#000000; stroke-width:2; stroke-opacity:0.1; fill:none\" points=\"\n",
       "  161.394,1139.59 2321.26,1139.59 \n",
       "  \"/>\n",
       "<polyline clip-path=\"url(#clip8203)\" style=\"stroke:#000000; stroke-width:2; stroke-opacity:0.1; fill:none\" points=\"\n",
       "  161.394,816.918 2321.26,816.918 \n",
       "  \"/>\n",
       "<polyline clip-path=\"url(#clip8203)\" style=\"stroke:#000000; stroke-width:2; stroke-opacity:0.1; fill:none\" points=\"\n",
       "  161.394,494.246 2321.26,494.246 \n",
       "  \"/>\n",
       "<polyline clip-path=\"url(#clip8203)\" style=\"stroke:#000000; stroke-width:2; stroke-opacity:0.1; fill:none\" points=\"\n",
       "  161.394,171.575 2321.26,171.575 \n",
       "  \"/>\n",
       "<polyline clip-path=\"url(#clip8201)\" style=\"stroke:#000000; stroke-width:4; stroke-opacity:1; fill:none\" points=\"\n",
       "  161.394,1503.47 2321.26,1503.47 \n",
       "  \"/>\n",
       "<polyline clip-path=\"url(#clip8201)\" style=\"stroke:#000000; stroke-width:4; stroke-opacity:1; fill:none\" points=\"\n",
       "  161.394,1503.47 161.394,47.2441 \n",
       "  \"/>\n",
       "<polyline clip-path=\"url(#clip8201)\" style=\"stroke:#000000; stroke-width:4; stroke-opacity:1; fill:none\" points=\"\n",
       "  222.522,1503.47 222.522,1481.63 \n",
       "  \"/>\n",
       "<polyline clip-path=\"url(#clip8201)\" style=\"stroke:#000000; stroke-width:4; stroke-opacity:1; fill:none\" points=\"\n",
       "  734.484,1503.47 734.484,1481.63 \n",
       "  \"/>\n",
       "<polyline clip-path=\"url(#clip8201)\" style=\"stroke:#000000; stroke-width:4; stroke-opacity:1; fill:none\" points=\"\n",
       "  1246.45,1503.47 1246.45,1481.63 \n",
       "  \"/>\n",
       "<polyline clip-path=\"url(#clip8201)\" style=\"stroke:#000000; stroke-width:4; stroke-opacity:1; fill:none\" points=\"\n",
       "  1758.41,1503.47 1758.41,1481.63 \n",
       "  \"/>\n",
       "<polyline clip-path=\"url(#clip8201)\" style=\"stroke:#000000; stroke-width:4; stroke-opacity:1; fill:none\" points=\"\n",
       "  2270.37,1503.47 2270.37,1481.63 \n",
       "  \"/>\n",
       "<polyline clip-path=\"url(#clip8201)\" style=\"stroke:#000000; stroke-width:4; stroke-opacity:1; fill:none\" points=\"\n",
       "  161.394,1462.26 193.792,1462.26 \n",
       "  \"/>\n",
       "<polyline clip-path=\"url(#clip8201)\" style=\"stroke:#000000; stroke-width:4; stroke-opacity:1; fill:none\" points=\"\n",
       "  161.394,1139.59 193.792,1139.59 \n",
       "  \"/>\n",
       "<polyline clip-path=\"url(#clip8201)\" style=\"stroke:#000000; stroke-width:4; stroke-opacity:1; fill:none\" points=\"\n",
       "  161.394,816.918 193.792,816.918 \n",
       "  \"/>\n",
       "<polyline clip-path=\"url(#clip8201)\" style=\"stroke:#000000; stroke-width:4; stroke-opacity:1; fill:none\" points=\"\n",
       "  161.394,494.246 193.792,494.246 \n",
       "  \"/>\n",
       "<polyline clip-path=\"url(#clip8201)\" style=\"stroke:#000000; stroke-width:4; stroke-opacity:1; fill:none\" points=\"\n",
       "  161.394,171.575 193.792,171.575 \n",
       "  \"/>\n",
       "<g clip-path=\"url(#clip8201)\">\n",
       "<text style=\"fill:#000000; fill-opacity:1; font-family:Arial,Helvetica Neue,Helvetica,sans-serif; font-size:48px; text-anchor:middle;\" transform=\"rotate(0, 222.522, 1557.47)\" x=\"222.522\" y=\"1557.47\">0.0</text>\n",
       "</g>\n",
       "<g clip-path=\"url(#clip8201)\">\n",
       "<text style=\"fill:#000000; fill-opacity:1; font-family:Arial,Helvetica Neue,Helvetica,sans-serif; font-size:48px; text-anchor:middle;\" transform=\"rotate(0, 734.484, 1557.47)\" x=\"734.484\" y=\"1557.47\">0.5</text>\n",
       "</g>\n",
       "<g clip-path=\"url(#clip8201)\">\n",
       "<text style=\"fill:#000000; fill-opacity:1; font-family:Arial,Helvetica Neue,Helvetica,sans-serif; font-size:48px; text-anchor:middle;\" transform=\"rotate(0, 1246.45, 1557.47)\" x=\"1246.45\" y=\"1557.47\">1.0</text>\n",
       "</g>\n",
       "<g clip-path=\"url(#clip8201)\">\n",
       "<text style=\"fill:#000000; fill-opacity:1; font-family:Arial,Helvetica Neue,Helvetica,sans-serif; font-size:48px; text-anchor:middle;\" transform=\"rotate(0, 1758.41, 1557.47)\" x=\"1758.41\" y=\"1557.47\">1.5</text>\n",
       "</g>\n",
       "<g clip-path=\"url(#clip8201)\">\n",
       "<text style=\"fill:#000000; fill-opacity:1; font-family:Arial,Helvetica Neue,Helvetica,sans-serif; font-size:48px; text-anchor:middle;\" transform=\"rotate(0, 2270.37, 1557.47)\" x=\"2270.37\" y=\"1557.47\">2.0</text>\n",
       "</g>\n",
       "<g clip-path=\"url(#clip8201)\">\n",
       "<text style=\"fill:#000000; fill-opacity:1; font-family:Arial,Helvetica Neue,Helvetica,sans-serif; font-size:48px; text-anchor:end;\" transform=\"rotate(0, 137.394, 1479.76)\" x=\"137.394\" y=\"1479.76\">0.0</text>\n",
       "</g>\n",
       "<g clip-path=\"url(#clip8201)\">\n",
       "<text style=\"fill:#000000; fill-opacity:1; font-family:Arial,Helvetica Neue,Helvetica,sans-serif; font-size:48px; text-anchor:end;\" transform=\"rotate(0, 137.394, 1157.09)\" x=\"137.394\" y=\"1157.09\">0.2</text>\n",
       "</g>\n",
       "<g clip-path=\"url(#clip8201)\">\n",
       "<text style=\"fill:#000000; fill-opacity:1; font-family:Arial,Helvetica Neue,Helvetica,sans-serif; font-size:48px; text-anchor:end;\" transform=\"rotate(0, 137.394, 834.418)\" x=\"137.394\" y=\"834.418\">0.4</text>\n",
       "</g>\n",
       "<g clip-path=\"url(#clip8201)\">\n",
       "<text style=\"fill:#000000; fill-opacity:1; font-family:Arial,Helvetica Neue,Helvetica,sans-serif; font-size:48px; text-anchor:end;\" transform=\"rotate(0, 137.394, 511.746)\" x=\"137.394\" y=\"511.746\">0.6</text>\n",
       "</g>\n",
       "<g clip-path=\"url(#clip8201)\">\n",
       "<text style=\"fill:#000000; fill-opacity:1; font-family:Arial,Helvetica Neue,Helvetica,sans-serif; font-size:48px; text-anchor:end;\" transform=\"rotate(0, 137.394, 189.075)\" x=\"137.394\" y=\"189.075\">0.8</text>\n",
       "</g>\n",
       "<polyline clip-path=\"url(#clip8203)\" style=\"stroke:#009af9; stroke-width:4; stroke-opacity:1; fill:none\" points=\"\n",
       "  222.522,1462.26 232.762,1258.09 243.001,1216.93 253.24,1191.65 263.479,1169.73 273.719,1151.45 283.958,1133.17 294.197,1118.44 304.436,1105.23 314.675,1092.03 \n",
       "  324.915,1078.82 335.154,1065.61 345.393,1054.96 355.632,1045.08 365.872,1035.2 376.111,1025.33 386.35,1015.45 396.589,1005.58 406.829,995.703 417.068,985.827 \n",
       "  427.307,975.963 437.546,968.283 447.786,960.603 458.025,952.923 468.264,945.243 478.503,937.563 488.743,929.884 498.982,922.204 509.221,914.524 519.46,906.844 \n",
       "  529.7,899.164 539.939,891.484 550.178,883.805 560.417,876.125 570.657,868.445 580.896,860.765 591.135,853.773 601.374,847.614 611.614,841.456 621.853,835.298 \n",
       "  632.092,829.139 642.331,822.981 652.57,816.823 662.81,810.664 673.049,804.506 683.288,798.348 693.527,792.189 703.767,786.031 714.006,779.873 724.245,773.714 \n",
       "  734.484,767.556 744.724,761.398 754.963,755.24 765.202,749.081 775.441,742.923 785.681,736.765 795.92,730.606 806.159,724.448 816.398,718.29 826.638,712.131 \n",
       "  836.877,705.973 847.116,699.815 857.355,693.656 867.595,687.498 877.834,682.265 888.073,677.208 898.312,672.152 908.552,667.096 918.791,662.039 929.03,656.983 \n",
       "  939.269,651.927 949.509,646.871 959.748,641.814 969.987,636.758 980.226,631.702 990.466,626.645 1000.7,621.589 1010.94,616.533 1021.18,611.476 1031.42,606.42 \n",
       "  1041.66,601.364 1051.9,596.308 1062.14,591.251 1072.38,586.195 1082.62,581.139 1092.86,576.082 1103.1,571.026 1113.34,565.97 1123.58,560.913 1133.81,555.857 \n",
       "  1144.05,550.801 1154.29,545.745 1164.53,540.688 1174.77,535.632 1185.01,530.576 1195.25,525.519 1205.49,520.463 1215.73,515.407 1225.97,510.35 1236.21,505.294 \n",
       "  1246.45,500.238 1256.69,495.181 1266.93,490.125 1277.16,485.069 1287.4,480.013 1297.64,474.956 1307.88,469.9 1318.12,464.844 1328.36,459.787 1338.6,454.731 \n",
       "  1348.84,449.675 1359.08,444.618 1369.32,439.562 1379.56,435.342 1389.8,431.308 1400.04,427.275 1410.27,423.241 1420.51,419.208 1430.75,415.174 1440.99,411.141 \n",
       "  1451.23,407.107 1461.47,403.074 1471.71,399.04 1481.95,395.006 1492.19,390.973 1502.43,386.939 1512.67,382.906 1522.91,378.872 1533.15,374.839 1543.38,370.805 \n",
       "  1553.62,366.772 1563.86,362.738 1574.1,358.705 1584.34,354.671 1594.58,350.638 1604.82,346.604 1615.06,342.571 1625.3,338.537 1635.54,334.504 1645.78,330.47 \n",
       "  1656.02,326.436 1666.26,322.403 1676.49,318.369 1686.73,314.336 1696.97,310.302 1707.21,306.269 1717.45,302.235 1727.69,298.202 1737.93,294.168 1748.17,290.135 \n",
       "  1758.41,286.101 1768.65,282.068 1778.89,278.034 1789.13,274.001 1799.37,269.967 1809.6,265.934 1819.84,261.9 1830.08,257.866 1840.32,253.833 1850.56,249.799 \n",
       "  1860.8,245.766 1871.04,241.732 1881.28,237.699 1891.52,233.665 1901.76,229.632 1912,225.598 1922.24,221.565 1932.48,217.531 1942.72,213.498 1952.95,209.464 \n",
       "  1963.19,205.431 1973.43,201.397 1983.67,197.363 1993.91,193.33 2004.15,189.296 2014.39,185.263 2024.63,181.229 2034.87,177.196 2045.11,173.162 2055.35,169.129 \n",
       "  2065.59,165.095 2075.83,161.062 2086.06,157.028 2096.3,152.995 2106.54,148.961 2116.78,144.928 2127.02,140.894 2137.26,136.861 2147.5,132.827 2157.74,128.793 \n",
       "  2167.98,124.76 2178.22,120.726 2188.46,116.693 2198.7,112.659 2208.94,108.626 2219.17,104.592 2229.41,100.559 2239.65,96.5252 2249.89,92.4917 2260.13,88.4582 \n",
       "  \n",
       "  \"/>\n",
       "<polygon clip-path=\"url(#clip8201)\" points=\"\n",
       "1701.64,1359.47 2249.26,1359.47 2249.26,1238.51 1701.64,1238.51 \n",
       "  \" fill=\"#ffffff\" fill-rule=\"evenodd\" fill-opacity=\"1\"/>\n",
       "<polyline clip-path=\"url(#clip8201)\" style=\"stroke:#000000; stroke-width:4; stroke-opacity:1; fill:none\" points=\"\n",
       "  1701.64,1359.47 2249.26,1359.47 2249.26,1238.51 1701.64,1238.51 1701.64,1359.47 \n",
       "  \"/>\n",
       "<polyline clip-path=\"url(#clip8201)\" style=\"stroke:#009af9; stroke-width:4; stroke-opacity:1; fill:none\" points=\"\n",
       "  1725.64,1298.99 1869.64,1298.99 \n",
       "  \"/>\n",
       "<g clip-path=\"url(#clip8201)\">\n",
       "<text style=\"fill:#000000; fill-opacity:1; font-family:Arial,Helvetica Neue,Helvetica,sans-serif; font-size:48px; text-anchor:start;\" transform=\"rotate(0, 1893.64, 1316.49)\" x=\"1893.64\" y=\"1316.49\">Approximation</text>\n",
       "</g>\n",
       "</svg>\n"
      ]
     },
     "execution_count": 14,
     "metadata": {},
     "output_type": "execute_result"
    }
   ],
   "source": [
    "#Plotting\n",
    "k=K[1]:0.01:K[end]\n",
    "cnplot(k) = cn(k,α)\n",
    "plot(k,[cnplot.(k)],label=[\"Approximation\"],legend=:bottomright)"
   ]
  },
  {
   "cell_type": "markdown",
   "metadata": {},
   "source": [
    "This seems a fair approximation to the consumption function."
   ]
  },
  {
   "cell_type": "markdown",
   "metadata": {},
   "source": [
    "## Question 2"
   ]
  },
  {
   "cell_type": "markdown",
   "metadata": {},
   "source": [
    "The Problem is:\n",
    "$$ \\max \\int_0^\\infty  e^{-\\rho t} \\log(c)\\, dt$$"
   ]
  },
  {
   "cell_type": "markdown",
   "metadata": {},
   "source": [
    "s.t.\n",
    "$$dk = (Ak^\\theta -\\delta k ) dt -c$$"
   ]
  },
  {
   "cell_type": "markdown",
   "metadata": {},
   "source": [
    "The Bellman's equation for this problem is:\n",
    "$$ \\rho V(k) = \\max \\log(c) + V'(k)(Ak^\\theta - \\delta k) -c) $$"
   ]
  },
  {
   "cell_type": "markdown",
   "metadata": {},
   "source": [
    "The maximization problem FOC is:\n",
    "$$\\frac{1}{c} = V'(k) $$"
   ]
  },
  {
   "cell_type": "markdown",
   "metadata": {},
   "source": [
    "By the envelope theorem:\n",
    "$$\\rho V'(k) = V'(k)(\\theta A k^{\\theta - 1} - \\delta) + V''(k)(Ak^\\theta-\\delta k - c) $$ "
   ]
  },
  {
   "cell_type": "markdown",
   "metadata": {},
   "source": [
    "From the FOC:\n",
    "$$ V''(k) = -\\frac{1}{c(k)^2} c'(k)$$"
   ]
  },
  {
   "cell_type": "markdown",
   "metadata": {},
   "source": [
    "Combining the expressions above, we get the differential equation:\n",
    "  $$c(k)(\\theta A k^{\\theta-1}-(\\delta +\\rho) = (Ak^\\theta - \\delta k -c(k)) c'(k) $$"
   ]
  },
  {
   "cell_type": "markdown",
   "metadata": {},
   "source": [
    "We also have in the Steady State:\n",
    "$$k_{ss} = \\left(\\frac{\\delta+\\rho}{\\theta A}\\right)^{\\frac{1}{\\theta-1}} $$\n",
    "$$c_{ss} = Ak_{ss}^\\theta - \\delta k_{ss} $$\n"
   ]
  },
  {
   "cell_type": "markdown",
   "metadata": {},
   "source": [
    "I don't really see how having $\\delta = 1$ would help me having a test case. Candler's chapter in Marimon & Scott book claims that we do not have closed form solutions for arbitrary parameters, but we do have when utility is CRRA with parameter 0.5, which is not our case here. So, unfortunately I will not have a comparison."
   ]
  },
  {
   "cell_type": "markdown",
   "metadata": {},
   "source": [
    "The functional equation is thus:\n",
    " $$F(c)(k) = c(k)(\\theta A k^{\\theta-1}-(\\delta +\\rho) - (Ak^\\theta - \\delta k -c(k)) c'(k) = 0 $$"
   ]
  },
  {
   "cell_type": "markdown",
   "metadata": {},
   "source": [
    "Let's define some parameters:"
   ]
  },
  {
   "cell_type": "code",
   "execution_count": 15,
   "metadata": {},
   "outputs": [
    {
     "data": {
      "text/plain": [
       "1.0"
      ]
     },
     "execution_count": 15,
     "metadata": {},
     "output_type": "execute_result"
    }
   ],
   "source": [
    "#Defining parameters\n",
    "θ = 0.5\n",
    "ρ = 0.05\n",
    "δ = 1\n",
    "A = (δ + ρ)/θ  #This will normalize the SS to 1\n",
    "kss = ((δ+ρ)/(A*θ))^(1/(θ-1))"
   ]
  },
  {
   "cell_type": "markdown",
   "metadata": {},
   "source": [
    "We'll use the finite element methods, so all functions defined above are useful. We need only first to define the derivative of the piecewise linear function:"
   ]
  },
  {
   "cell_type": "code",
   "execution_count": 16,
   "metadata": {},
   "outputs": [
    {
     "data": {
      "text/plain": [
       "derivϕi (generic function with 1 method)"
      ]
     },
     "execution_count": 16,
     "metadata": {},
     "output_type": "execute_result"
    }
   ],
   "source": [
    "function derivϕi(x,X,i)\n",
    "    if i>1 && i<length(X) #i is not in a boundary\n",
    "        if X[i-1]<=x<=X[i]\n",
    "            f = 1/(X[i]-X[i-1])\n",
    "        elseif X[i]<=x<=X[i+1]\n",
    "            f = -1/(X[i+1]-X[i])\n",
    "        else\n",
    "            f = 0\n",
    "        end\n",
    "    elseif i==1\n",
    "        if X[i]<=x<=X[i+1]\n",
    "            f = -1/(X[i+1]-X[i])\n",
    "        else\n",
    "            f = 0\n",
    "        end\n",
    "    elseif i==length(X)\n",
    "        if X[i-1]<=x<=X[i]\n",
    "            f = 1/(X[i]-X[i-1])\n",
    "        else\n",
    "            f=0\n",
    "        end\n",
    "    end\n",
    "    return f\n",
    "end"
   ]
  },
  {
   "cell_type": "code",
   "execution_count": 17,
   "metadata": {},
   "outputs": [],
   "source": [
    "#Defining the elements:\n",
    "K = zeros(11)\n",
    "for i=2:length(K)\n",
    "    global K\n",
    "    K[i] = K[i-1] +0.0179*exp(0.4125*(i-2))#41\n",
    "end"
   ]
  },
  {
   "cell_type": "markdown",
   "metadata": {},
   "source": [
    "In this way, we can define the derivative of the consumption function:\n"
   ]
  },
  {
   "cell_type": "code",
   "execution_count": 18,
   "metadata": {},
   "outputs": [
    {
     "data": {
      "text/plain": [
       "derivcn (generic function with 1 method)"
      ]
     },
     "execution_count": 18,
     "metadata": {},
     "output_type": "execute_result"
    }
   ],
   "source": [
    "function derivcn(k,α;K=K)\n",
    "#This function is piecewise linear approximation for the derivative of a function with arguments k\n",
    "#To get a good approximations one need to find the parameters α\n",
    "#K are the elements nodes. It is optionally defined here for efficiency. \n",
    "        n = length(K)\n",
    "        c = 0\n",
    "        for i = 1:n\n",
    "            c = c + α[i]*derivϕi(k,K,i)\n",
    "        end\n",
    "        return c\n",
    "end"
   ]
  },
  {
   "cell_type": "markdown",
   "metadata": {},
   "source": [
    "Naturally, we'll need to redefine the residual function:"
   ]
  },
  {
   "cell_type": "code",
   "execution_count": 23,
   "metadata": {},
   "outputs": [
    {
     "data": {
      "text/plain": [
       "residual (generic function with 1 method)"
      ]
     },
     "execution_count": 23,
     "metadata": {},
     "output_type": "execute_result"
    }
   ],
   "source": [
    "include(\"finite_elements_functions.jl\")\n",
    "#Defining the residual function from Euler equation:\n",
    "function residual(k,α)\n",
    "    #This function is specific for the deterministic growth model.\n",
    "    #Residual function comes from FOCs\n",
    "    #cn is an approximation for consumption\n",
    "    #derivcn is an approxiamtion for the derivative of consumption.\n",
    "        R = θ*A*k^(θ-1)-(δ+ρ) - derivcn(k,α)/cn(k,α) * (A*k^θ-δ*k-cn(k,α))\n",
    "    return R\n",
    "end"
   ]
  },
  {
   "cell_type": "markdown",
   "metadata": {},
   "source": [
    "We can proceed with the maximization process as before:"
   ]
  },
  {
   "cell_type": "code",
   "execution_count": 24,
   "metadata": {},
   "outputs": [
    {
     "data": {
      "text/plain": [
       "0.7580225852002768"
      ]
     },
     "execution_count": 24,
     "metadata": {},
     "output_type": "execute_result"
    }
   ],
   "source": [
    "#Setting initial conditions\n",
    "\n",
    "initial = ones(length(K)-1)*0.09\n",
    "for i=2:length(initial)\n",
    "    global initial\n",
    "    initial[i] = initial[i-1] +0.14*exp(0.05*(i-2))\n",
    "end\n",
    "initial\n",
    "#Check if the initial conditions are somewhat close to the true parameters.\n",
    "mini(initial)"
   ]
  },
  {
   "cell_type": "code",
   "execution_count": 25,
   "metadata": {},
   "outputs": [
    {
     "data": {
      "text/plain": [
       "11-element Array{Float64,1}:\n",
       " 0.0                \n",
       " 0.0815339804310847 \n",
       " 0.13726387313004018\n",
       " 0.20627122166798623\n",
       " 0.286073411620321  \n",
       " 0.4067858952262858 \n",
       " 0.5616214197266534 \n",
       " 0.7698248572189067 \n",
       " 1.022940278301073  \n",
       " 1.414047581217845  \n",
       " 1.9036201499873864 "
      ]
     },
     "execution_count": 25,
     "metadata": {},
     "output_type": "execute_result"
    }
   ],
   "source": [
    "#Solver stuff:\n",
    "    #lower and upper bound of the parameters:\n",
    "    lower = zeros(length(initial))\n",
    "    upper = Inf*ones(length(initial))\n",
    "    #Optimizer method is BFGS, see Judd's book page 114 for an explanation:\n",
    "    inner_optimizer = BFGS()\n",
    "\n",
    "\n",
    "#Solver:\n",
    "bla = optimize(mini,lower,upper,initial, Fminbox(inner_optimizer))\n",
    "#Parameters\n",
    "α = vcat(0,bla.minimizer)"
   ]
  },
  {
   "cell_type": "code",
   "execution_count": 26,
   "metadata": {},
   "outputs": [
    {
     "data": {
      "image/svg+xml": [
       "<?xml version=\"1.0\" encoding=\"utf-8\"?>\n",
       "<svg xmlns=\"http://www.w3.org/2000/svg\" xmlns:xlink=\"http://www.w3.org/1999/xlink\" width=\"600\" height=\"400\" viewBox=\"0 0 2400 1600\">\n",
       "<defs>\n",
       "  <clipPath id=\"clip8600\">\n",
       "    <rect x=\"0\" y=\"0\" width=\"2000\" height=\"2000\"/>\n",
       "  </clipPath>\n",
       "</defs>\n",
       "<defs>\n",
       "  <clipPath id=\"clip8601\">\n",
       "    <rect x=\"0\" y=\"0\" width=\"2400\" height=\"1600\"/>\n",
       "  </clipPath>\n",
       "</defs>\n",
       "<polygon clip-path=\"url(#clip8601)\" points=\"\n",
       "0,1600 2400,1600 2400,0 0,0 \n",
       "  \" fill=\"#ffffff\" fill-rule=\"evenodd\" fill-opacity=\"1\"/>\n",
       "<defs>\n",
       "  <clipPath id=\"clip8602\">\n",
       "    <rect x=\"480\" y=\"0\" width=\"1681\" height=\"1600\"/>\n",
       "  </clipPath>\n",
       "</defs>\n",
       "<polygon clip-path=\"url(#clip8601)\" points=\"\n",
       "161.394,1503.47 2321.26,1503.47 2321.26,47.2441 161.394,47.2441 \n",
       "  \" fill=\"#ffffff\" fill-rule=\"evenodd\" fill-opacity=\"1\"/>\n",
       "<defs>\n",
       "  <clipPath id=\"clip8603\">\n",
       "    <rect x=\"161\" y=\"47\" width=\"2161\" height=\"1457\"/>\n",
       "  </clipPath>\n",
       "</defs>\n",
       "<polyline clip-path=\"url(#clip8603)\" style=\"stroke:#000000; stroke-width:2; stroke-opacity:0.1; fill:none\" points=\"\n",
       "  222.522,1503.47 222.522,47.2441 \n",
       "  \"/>\n",
       "<polyline clip-path=\"url(#clip8603)\" style=\"stroke:#000000; stroke-width:2; stroke-opacity:0.1; fill:none\" points=\"\n",
       "  700.834,1503.47 700.834,47.2441 \n",
       "  \"/>\n",
       "<polyline clip-path=\"url(#clip8603)\" style=\"stroke:#000000; stroke-width:2; stroke-opacity:0.1; fill:none\" points=\"\n",
       "  1179.15,1503.47 1179.15,47.2441 \n",
       "  \"/>\n",
       "<polyline clip-path=\"url(#clip8603)\" style=\"stroke:#000000; stroke-width:2; stroke-opacity:0.1; fill:none\" points=\"\n",
       "  1657.46,1503.47 1657.46,47.2441 \n",
       "  \"/>\n",
       "<polyline clip-path=\"url(#clip8603)\" style=\"stroke:#000000; stroke-width:2; stroke-opacity:0.1; fill:none\" points=\"\n",
       "  2135.77,1503.47 2135.77,47.2441 \n",
       "  \"/>\n",
       "<polyline clip-path=\"url(#clip8603)\" style=\"stroke:#000000; stroke-width:2; stroke-opacity:0.1; fill:none\" points=\"\n",
       "  161.394,1462.26 2321.26,1462.26 \n",
       "  \"/>\n",
       "<polyline clip-path=\"url(#clip8603)\" style=\"stroke:#000000; stroke-width:2; stroke-opacity:0.1; fill:none\" points=\"\n",
       "  161.394,1100.93 2321.26,1100.93 \n",
       "  \"/>\n",
       "<polyline clip-path=\"url(#clip8603)\" style=\"stroke:#000000; stroke-width:2; stroke-opacity:0.1; fill:none\" points=\"\n",
       "  161.394,739.6 2321.26,739.6 \n",
       "  \"/>\n",
       "<polyline clip-path=\"url(#clip8603)\" style=\"stroke:#000000; stroke-width:2; stroke-opacity:0.1; fill:none\" points=\"\n",
       "  161.394,378.269 2321.26,378.269 \n",
       "  \"/>\n",
       "<polyline clip-path=\"url(#clip8601)\" style=\"stroke:#000000; stroke-width:4; stroke-opacity:1; fill:none\" points=\"\n",
       "  161.394,1503.47 2321.26,1503.47 \n",
       "  \"/>\n",
       "<polyline clip-path=\"url(#clip8601)\" style=\"stroke:#000000; stroke-width:4; stroke-opacity:1; fill:none\" points=\"\n",
       "  161.394,1503.47 161.394,47.2441 \n",
       "  \"/>\n",
       "<polyline clip-path=\"url(#clip8601)\" style=\"stroke:#000000; stroke-width:4; stroke-opacity:1; fill:none\" points=\"\n",
       "  222.522,1503.47 222.522,1481.63 \n",
       "  \"/>\n",
       "<polyline clip-path=\"url(#clip8601)\" style=\"stroke:#000000; stroke-width:4; stroke-opacity:1; fill:none\" points=\"\n",
       "  700.834,1503.47 700.834,1481.63 \n",
       "  \"/>\n",
       "<polyline clip-path=\"url(#clip8601)\" style=\"stroke:#000000; stroke-width:4; stroke-opacity:1; fill:none\" points=\"\n",
       "  1179.15,1503.47 1179.15,1481.63 \n",
       "  \"/>\n",
       "<polyline clip-path=\"url(#clip8601)\" style=\"stroke:#000000; stroke-width:4; stroke-opacity:1; fill:none\" points=\"\n",
       "  1657.46,1503.47 1657.46,1481.63 \n",
       "  \"/>\n",
       "<polyline clip-path=\"url(#clip8601)\" style=\"stroke:#000000; stroke-width:4; stroke-opacity:1; fill:none\" points=\"\n",
       "  2135.77,1503.47 2135.77,1481.63 \n",
       "  \"/>\n",
       "<polyline clip-path=\"url(#clip8601)\" style=\"stroke:#000000; stroke-width:4; stroke-opacity:1; fill:none\" points=\"\n",
       "  161.394,1462.26 193.792,1462.26 \n",
       "  \"/>\n",
       "<polyline clip-path=\"url(#clip8601)\" style=\"stroke:#000000; stroke-width:4; stroke-opacity:1; fill:none\" points=\"\n",
       "  161.394,1100.93 193.792,1100.93 \n",
       "  \"/>\n",
       "<polyline clip-path=\"url(#clip8601)\" style=\"stroke:#000000; stroke-width:4; stroke-opacity:1; fill:none\" points=\"\n",
       "  161.394,739.6 193.792,739.6 \n",
       "  \"/>\n",
       "<polyline clip-path=\"url(#clip8601)\" style=\"stroke:#000000; stroke-width:4; stroke-opacity:1; fill:none\" points=\"\n",
       "  161.394,378.269 193.792,378.269 \n",
       "  \"/>\n",
       "<g clip-path=\"url(#clip8601)\">\n",
       "<text style=\"fill:#000000; fill-opacity:1; font-family:Arial,Helvetica Neue,Helvetica,sans-serif; font-size:48px; text-anchor:middle;\" transform=\"rotate(0, 222.522, 1557.47)\" x=\"222.522\" y=\"1557.47\">0.0</text>\n",
       "</g>\n",
       "<g clip-path=\"url(#clip8601)\">\n",
       "<text style=\"fill:#000000; fill-opacity:1; font-family:Arial,Helvetica Neue,Helvetica,sans-serif; font-size:48px; text-anchor:middle;\" transform=\"rotate(0, 700.834, 1557.47)\" x=\"700.834\" y=\"1557.47\">0.5</text>\n",
       "</g>\n",
       "<g clip-path=\"url(#clip8601)\">\n",
       "<text style=\"fill:#000000; fill-opacity:1; font-family:Arial,Helvetica Neue,Helvetica,sans-serif; font-size:48px; text-anchor:middle;\" transform=\"rotate(0, 1179.15, 1557.47)\" x=\"1179.15\" y=\"1557.47\">1.0</text>\n",
       "</g>\n",
       "<g clip-path=\"url(#clip8601)\">\n",
       "<text style=\"fill:#000000; fill-opacity:1; font-family:Arial,Helvetica Neue,Helvetica,sans-serif; font-size:48px; text-anchor:middle;\" transform=\"rotate(0, 1657.46, 1557.47)\" x=\"1657.46\" y=\"1557.47\">1.5</text>\n",
       "</g>\n",
       "<g clip-path=\"url(#clip8601)\">\n",
       "<text style=\"fill:#000000; fill-opacity:1; font-family:Arial,Helvetica Neue,Helvetica,sans-serif; font-size:48px; text-anchor:middle;\" transform=\"rotate(0, 2135.77, 1557.47)\" x=\"2135.77\" y=\"1557.47\">2.0</text>\n",
       "</g>\n",
       "<g clip-path=\"url(#clip8601)\">\n",
       "<text style=\"fill:#000000; fill-opacity:1; font-family:Arial,Helvetica Neue,Helvetica,sans-serif; font-size:48px; text-anchor:end;\" transform=\"rotate(0, 137.394, 1479.76)\" x=\"137.394\" y=\"1479.76\">0.0</text>\n",
       "</g>\n",
       "<g clip-path=\"url(#clip8601)\">\n",
       "<text style=\"fill:#000000; fill-opacity:1; font-family:Arial,Helvetica Neue,Helvetica,sans-serif; font-size:48px; text-anchor:end;\" transform=\"rotate(0, 137.394, 1118.43)\" x=\"137.394\" y=\"1118.43\">0.5</text>\n",
       "</g>\n",
       "<g clip-path=\"url(#clip8601)\">\n",
       "<text style=\"fill:#000000; fill-opacity:1; font-family:Arial,Helvetica Neue,Helvetica,sans-serif; font-size:48px; text-anchor:end;\" transform=\"rotate(0, 137.394, 757.1)\" x=\"137.394\" y=\"757.1\">1.0</text>\n",
       "</g>\n",
       "<g clip-path=\"url(#clip8601)\">\n",
       "<text style=\"fill:#000000; fill-opacity:1; font-family:Arial,Helvetica Neue,Helvetica,sans-serif; font-size:48px; text-anchor:end;\" transform=\"rotate(0, 137.394, 395.769)\" x=\"137.394\" y=\"395.769\">1.5</text>\n",
       "</g>\n",
       "<polyline clip-path=\"url(#clip8603)\" style=\"stroke:#009af9; stroke-width:4; stroke-opacity:1; fill:none\" points=\"\n",
       "  222.522,1462.26 232.089,1429.34 241.655,1400.21 251.221,1385.32 260.787,1370.42 270.354,1356.89 279.92,1344.68 289.486,1332.47 299.052,1320.26 308.618,1309.26 \n",
       "  318.185,1299.91 327.751,1290.56 337.317,1281.22 346.883,1271.87 356.45,1262.52 366.016,1253.17 375.582,1243.81 385.148,1234.46 394.715,1225.1 404.281,1215.74 \n",
       "  413.847,1206.38 423.413,1197.02 432.98,1187.66 442.546,1178.3 452.112,1168.94 461.678,1160.89 471.245,1152.95 480.811,1145 490.377,1137.05 499.943,1129.11 \n",
       "  509.51,1121.16 519.076,1113.21 528.642,1105.26 538.208,1097.32 547.774,1089.37 557.341,1081.42 566.907,1073.47 576.473,1065.53 586.039,1057.58 595.606,1050.38 \n",
       "  605.172,1043.3 614.738,1036.23 624.304,1029.15 633.871,1022.08 643.437,1015 653.003,1007.93 662.569,1000.85 672.136,993.78 681.702,986.706 691.268,979.631 \n",
       "  700.834,972.557 710.401,965.482 719.967,958.408 729.533,951.333 739.099,944.259 748.666,937.185 758.232,930.11 767.798,923.036 777.364,915.961 786.931,908.887 \n",
       "  796.497,902.618 806.063,896.924 815.629,891.231 825.195,885.538 834.762,879.844 844.328,874.151 853.894,868.457 863.46,862.764 873.027,857.07 882.593,851.377 \n",
       "  892.159,845.683 901.725,839.99 911.292,834.297 920.858,828.603 930.424,822.91 939.99,817.216 949.557,811.523 959.123,805.829 968.689,800.136 978.255,794.443 \n",
       "  987.822,788.749 997.388,783.056 1006.95,777.362 1016.52,771.669 1026.09,765.975 1035.65,760.282 1045.22,754.588 1054.79,748.895 1064.35,743.202 1073.92,737.508 \n",
       "  1083.48,731.815 1093.05,726.121 1102.62,720.368 1112.18,714.545 1121.75,708.721 1131.32,702.897 1140.88,697.073 1150.45,691.249 1160.01,685.426 1169.58,679.602 \n",
       "  1179.15,673.778 1188.71,667.954 1198.28,662.13 1207.85,656.307 1217.41,650.483 1226.98,644.659 1236.54,638.835 1246.11,633.012 1255.68,627.188 1265.24,621.364 \n",
       "  1274.81,615.54 1284.38,609.716 1293.94,603.893 1303.51,598.069 1313.07,592.245 1322.64,586.421 1332.21,580.597 1341.77,574.774 1351.34,568.95 1360.9,563.126 \n",
       "  1370.47,557.302 1380.04,551.478 1389.6,545.655 1399.17,539.831 1408.74,534.007 1418.3,528.183 1427.87,522.36 1437.43,516.536 1447,510.712 1456.57,504.888 \n",
       "  1466.13,499.064 1475.7,493.241 1485.27,487.417 1494.83,481.593 1504.4,475.769 1513.96,469.945 1523.53,464.122 1533.1,458.298 1542.66,452.474 1552.23,446.65 \n",
       "  1561.8,440.826 1571.36,435.925 1580.93,431.099 1590.49,426.273 1600.06,421.447 1609.63,416.621 1619.19,411.795 1628.76,406.969 1638.33,402.143 1647.89,397.317 \n",
       "  1657.46,392.491 1667.02,387.665 1676.59,382.839 1686.16,378.014 1695.72,373.188 1705.29,368.362 1714.86,363.536 1724.42,358.71 1733.99,353.884 1743.55,349.058 \n",
       "  1753.12,344.232 1762.69,339.406 1772.25,334.58 1781.82,329.754 1791.39,324.928 1800.95,320.102 1810.52,315.277 1820.08,310.451 1829.65,305.625 1839.22,300.799 \n",
       "  1848.78,295.973 1858.35,291.147 1867.92,286.321 1877.48,281.495 1887.05,276.669 1896.61,271.843 1906.18,267.017 1915.75,262.191 1925.31,257.365 1934.88,252.54 \n",
       "  1944.45,247.714 1954.01,242.888 1963.58,238.062 1973.14,233.236 1982.71,228.41 1992.28,223.584 2001.84,218.758 2011.41,213.932 2020.98,209.106 2030.54,204.28 \n",
       "  2040.11,199.454 2049.67,194.628 2059.24,189.803 2068.81,184.977 2078.37,180.151 2087.94,175.325 2097.51,170.499 2107.07,165.673 2116.64,160.847 2126.2,156.021 \n",
       "  2135.77,151.195 2145.34,146.369 2154.9,141.543 2164.47,136.717 2174.04,131.891 2183.6,127.066 2193.17,122.24 2202.73,117.414 2212.3,112.588 2221.87,107.762 \n",
       "  2231.43,102.936 2241,98.11 2250.57,93.2841 2260.13,88.4582 \n",
       "  \"/>\n",
       "<polygon clip-path=\"url(#clip8601)\" points=\"\n",
       "1701.64,1359.47 2249.26,1359.47 2249.26,1238.51 1701.64,1238.51 \n",
       "  \" fill=\"#ffffff\" fill-rule=\"evenodd\" fill-opacity=\"1\"/>\n",
       "<polyline clip-path=\"url(#clip8601)\" style=\"stroke:#000000; stroke-width:4; stroke-opacity:1; fill:none\" points=\"\n",
       "  1701.64,1359.47 2249.26,1359.47 2249.26,1238.51 1701.64,1238.51 1701.64,1359.47 \n",
       "  \"/>\n",
       "<polyline clip-path=\"url(#clip8601)\" style=\"stroke:#009af9; stroke-width:4; stroke-opacity:1; fill:none\" points=\"\n",
       "  1725.64,1298.99 1869.64,1298.99 \n",
       "  \"/>\n",
       "<g clip-path=\"url(#clip8601)\">\n",
       "<text style=\"fill:#000000; fill-opacity:1; font-family:Arial,Helvetica Neue,Helvetica,sans-serif; font-size:48px; text-anchor:start;\" transform=\"rotate(0, 1893.64, 1316.49)\" x=\"1893.64\" y=\"1316.49\">Approximation</text>\n",
       "</g>\n",
       "</svg>\n"
      ]
     },
     "execution_count": 26,
     "metadata": {},
     "output_type": "execute_result"
    }
   ],
   "source": [
    "\n",
    "#Plotting\n",
    "k=K[1]:0.01:K[end]\n",
    "\n",
    "#c(k) = (1-β*θ)*A*k^θ\n",
    "cnplot(k) = cn(k,α)\n",
    "plot(k,[cnplot.(k)],label=[\"Approximation\"],legend=:bottomright)"
   ]
  },
  {
   "cell_type": "markdown",
   "metadata": {},
   "source": [
    "This looks like a good consumption function!"
   ]
  }
 ],
 "metadata": {
  "kernelspec": {
   "display_name": "Julia 1.0.0",
   "language": "julia",
   "name": "julia-1.0"
  },
  "language_info": {
   "file_extension": ".jl",
   "mimetype": "application/julia",
   "name": "julia",
   "version": "1.0.0"
  }
 },
 "nbformat": 4,
 "nbformat_minor": 2
}
