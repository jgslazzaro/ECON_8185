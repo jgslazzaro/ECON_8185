{
 "cells": [
  {
   "cell_type": "markdown",
   "metadata": {},
   "source": [
    "## Question 1"
   ]
  },
  {
   "cell_type": "markdown",
   "metadata": {},
   "source": [
    "The problem is:\n",
    "$$\\max_{\\{c_t,k_t\\}_{t=0}^\\infty} \\sum_{t=0}^\\infty \\beta^t \\log(c_t)$$\n",
    "s.t.\n",
    "$$ c_t+k_{t+1} = A k_t^\\theta +(1-\\delta)k_t$$\n",
    "The FOCs imply that:\n",
    "$$ \\frac{c_{t+1}}{c_t} = \\beta (A\\theta k_t^{\\theta-1} + 1-\\delta)$$\n",
    "Hence, $$k_{ss} = \\left(\\frac{1-\\beta(1-\\delta)}{\\beta A \\theta}\\right)^{\\frac{1}{\\theta-1}} $$\n",
    "\n",
    "The functional equation is:\n",
    "$$F(c)(k) = \\frac{c(Ak^\\theta +(1-\\delta)k-c(k))}{c(k)} -\\beta (A\\theta k^{\\theta-1} + 1-\\delta) = 0$$\n",
    "\n",
    "And, in the test case $\\delta = 1$, we know the closed form solution:\n",
    "$$c(k) = (1-\\beta \\theta) A k^{\\theta} $$ \n",
    "\n"
   ]
  },
  {
   "cell_type": "markdown",
   "metadata": {},
   "source": [
    "Let us now define some parameters and find the Steady State value of capital:"
   ]
  },
  {
   "cell_type": "code",
   "execution_count": 1,
   "metadata": {},
   "outputs": [
    {
     "data": {
      "text/plain": [
       "0.20249999999999999"
      ]
     },
     "execution_count": 1,
     "metadata": {},
     "output_type": "execute_result"
    }
   ],
   "source": [
    "using Plots, QuadGK\n",
    "θ = 1/2\n",
    "β = 0.9\n",
    "A = 1\n",
    "#I chose these values for θ, β and A because they are easier to make test calculations by hand\n",
    "δ = 1\n",
    "\n",
    "kss = ((1- β*(1-δ))/(β*A*θ))^(1/(θ-1))"
   ]
  },
  {
   "cell_type": "markdown",
   "metadata": {},
   "source": [
    "We will use the finite element method with the piecewise linear base function $\\varphi_i$ defined below:\n"
   ]
  },
  {
   "cell_type": "code",
   "execution_count": 2,
   "metadata": {},
   "outputs": [
    {
     "data": {
      "text/plain": [
       "ϕi (generic function with 1 method)"
      ]
     },
     "execution_count": 2,
     "metadata": {},
     "output_type": "execute_result"
    }
   ],
   "source": [
    "function ϕi(x,X,i::Int)\n",
    "    if i>1 && i<length(X) #i is not in a boundary\n",
    "        if X[i-1]<=x<=X[i]\n",
    "            f = (x-X[i-1])/(X[i]-X[i-1])\n",
    "        elseif X[i]<=x<=X[i+1]\n",
    "            f = (X[i+1]-x)/(X[i+1]-X[i])\n",
    "        else\n",
    "            f = 0\n",
    "        end\n",
    "    elseif i==1 #i is in the boundary(1)\n",
    "        if X[i]<=x<=X[i+1]\n",
    "            f = (X[i+1]-x)/(X[i+1]-X[i])\n",
    "        else\n",
    "            f = 0\n",
    "        end\n",
    "    elseif i==length(X) #i is in the top boundary\n",
    "        if X[i-1]<=x<=X[i]\n",
    "            f = (x-X[i-1])/(X[i]-X[i-1])\n",
    "        else\n",
    "            f=0\n",
    "        end\n",
    "    end\n",
    "    return f\n",
    "end"
   ]
  },
  {
   "cell_type": "markdown",
   "metadata": {},
   "source": [
    "Given the steady state value of capital, I'll set 3 elements with nodes at 0, 1/6, 2/6 and 3/6."
   ]
  },
  {
   "cell_type": "code",
   "execution_count": 3,
   "metadata": {},
   "outputs": [
    {
     "data": {
      "text/plain": [
       "11-element Array{Float64,1}:\n",
       " 0.0                 \n",
       " 0.005               \n",
       " 0.013876771423281368\n",
       " 0.029636185603518307\n",
       " 0.057614729092074796\n",
       " 0.10728655615292543 \n",
       " 0.19547164715211202 \n",
       " 0.35203142630032136 \n",
       " 0.6299805010159346  \n",
       " 1.123438581728545   \n",
       " 1.9995014996199392  "
      ]
     },
     "execution_count": 3,
     "metadata": {},
     "output_type": "execute_result"
    }
   ],
   "source": [
    "K = zeros(11)\n",
    "for i=2:11\n",
    "    global K\n",
    "    K[i] = K[i-1] +0.005*exp(0.574*(i-2))\n",
    "end\n",
    "K"
   ]
  },
  {
   "cell_type": "markdown",
   "metadata": {},
   "source": [
    "We will approximate the consumption functio $c(k)$ by:\n",
    "$$ c^n(k;\\alpha) = \\sum_{i=1}^n\\alpha_i\\varphi_i(k)$$"
   ]
  },
  {
   "cell_type": "code",
   "execution_count": 4,
   "metadata": {},
   "outputs": [
    {
     "data": {
      "text/plain": [
       "cn (generic function with 1 method)"
      ]
     },
     "execution_count": 4,
     "metadata": {},
     "output_type": "execute_result"
    }
   ],
   "source": [
    "function cn(k,K,α)\n",
    "    n = length(K)\n",
    "    c = 0\n",
    "    for i = 1:n\n",
    "        c = c + α[i]*ϕi(k,K,i)\n",
    "    end\n",
    "    return c\n",
    "end"
   ]
  },
  {
   "cell_type": "markdown",
   "metadata": {},
   "source": [
    "The Residual equation is:\n",
    "\n",
    "$$R(k;\\alpha) = F(c^n(k;\\alpha))$$\n",
    "$$  = \\frac{\\sum_{i=1}^n\\alpha_i\\varphi_i(Ak^\\theta +(1-\\delta)k- \\sum_{i=1}^n\\alpha_i\\varphi_i(k))}{\\sum_{i=1}^n\\alpha_i\\varphi_i(k)} -\\beta (A\\theta k^{\\theta-1} + 1-\\delta) = 0 $$"
   ]
  },
  {
   "cell_type": "code",
   "execution_count": 5,
   "metadata": {},
   "outputs": [
    {
     "data": {
      "text/plain": [
       "residual (generic function with 1 method)"
      ]
     },
     "execution_count": 5,
     "metadata": {},
     "output_type": "execute_result"
    }
   ],
   "source": [
    "function residual(k,α)\n",
    "    R = cn(A*k^θ+(1-δ)*k-cn(k,K,α),K,α)/cn(k,K,α) - β*(A*θ*k^(θ-1) + 1-δ)\n",
    "    return R\n",
    "end\n",
    "    "
   ]
  },
  {
   "cell_type": "markdown",
   "metadata": {},
   "source": [
    "Since the finite element method is a Galerkin method, the base function is the weight we use to minimize the weighted residual:\n",
    "$$ \\min_\\alpha \\int_0^\\bar{k} \\varphi_i(k) R(k;\\alpha) dk $$"
   ]
  },
  {
   "cell_type": "code",
   "execution_count": 10,
   "metadata": {},
   "outputs": [
    {
     "data": {
      "text/plain": [
       "mini (generic function with 1 method)"
      ]
     },
     "execution_count": 10,
     "metadata": {},
     "output_type": "execute_result"
    }
   ],
   "source": [
    "function mini(α)\n",
    "    if length(α) < length(K)\n",
    "        α = vcat(0,α)\n",
    "    end\n",
    "\n",
    "    function integra(k)\n",
    "    T=zeros(length(K))\n",
    "        for i=1:length(K)\n",
    "            T[i] = ϕi(k,K,i)*residual(k,α)\n",
    "        end\n",
    "    return T\n",
    "    end\n",
    "    g = quadgk.(integra,K[1],K[end])[1] #Integral\n",
    "    return sum(abs.(g))\n",
    "end"
   ]
  },
  {
   "cell_type": "code",
   "execution_count": null,
   "metadata": {},
   "outputs": [],
   "source": [
    "using Optim\n",
    "initial = ones(length(K))\n",
    "bla = optimize(mini,initial,SimulatedAnnealing())#; autodiff = :forward)\n",
    "α = vcat(0,bla.minimizer)\n"
   ]
  },
  {
   "cell_type": "code",
   "execution_count": 8,
   "metadata": {},
   "outputs": [
    {
     "ename": "UndefVarError",
     "evalue": "UndefVarError: α not defined",
     "output_type": "error",
     "traceback": [
      "UndefVarError: α not defined",
      "",
      "Stacktrace:",
      " [1] cnplot(::Float64) at .\\In[8]:3",
      " [2] _broadcast_getindex at .\\broadcast.jl:574 [inlined]",
      " [3] getindex at .\\broadcast.jl:507 [inlined]",
      " [4] copy(::Base.Broadcast.Broadcasted{Base.Broadcast.DefaultArrayStyle{1},Tuple{Base.OneTo{Int64}},typeof(cnplot),Tuple{StepRangeLen{Float64,Base.TwicePrecision{Float64},Base.TwicePrecision{Float64}}}}) at .\\broadcast.jl:758",
      " [5] materialize(::Base.Broadcast.Broadcasted{Base.Broadcast.DefaultArrayStyle{1},Nothing,typeof(cnplot),Tuple{StepRangeLen{Float64,Base.TwicePrecision{Float64},Base.TwicePrecision{Float64}}}}) at .\\broadcast.jl:724",
      " [6] top-level scope at In[8]:4"
     ]
    }
   ],
   "source": [
    "k=0:0.01:1.8\n",
    "c(k) = (1-β*θ)*A*k^θ\n",
    "cnplot(k) = cn(k,K,α) \n",
    "plot(k,[cnplot.(k),c.(k)])"
   ]
  },
  {
   "cell_type": "code",
   "execution_count": null,
   "metadata": {},
   "outputs": [],
   "source": []
  }
 ],
 "metadata": {
  "kernelspec": {
   "display_name": "Julia 1.0.0",
   "language": "julia",
   "name": "julia-1.0"
  },
  "language_info": {
   "file_extension": ".jl",
   "mimetype": "application/julia",
   "name": "julia",
   "version": "1.0.0"
  }
 },
 "nbformat": 4,
 "nbformat_minor": 2
}
