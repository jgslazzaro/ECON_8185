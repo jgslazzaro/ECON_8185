{
 "cells": [
  {
   "cell_type": "markdown",
   "metadata": {},
   "source": [
    "## Question 1"
   ]
  },
  {
   "cell_type": "markdown",
   "metadata": {},
   "source": [
    "The problem is:\n",
    "$$\\max_{\\{c_t,k_t\\}_{t=0}^\\infty} \\sum_{t=0}^\\infty \\beta^t \\log(c_t)$$\n",
    "s.t.\n",
    "$$ c_t+k_{t+1} = A k_t^\\theta +(1-\\delta)k_t$$\n",
    "The FOCs imply that:\n",
    "$$ \\frac{c_{t+1}}{c_t} = \\beta (A\\theta k_{t+1}^{\\theta-1} + 1-\\delta)$$\n",
    "Hence, $$k_{ss} = \\left(\\frac{1-\\beta(1-\\delta)}{\\beta A \\theta}\\right)^{\\frac{1}{\\theta-1}} $$\n"
   ]
  },
  {
   "cell_type": "markdown",
   "metadata": {},
   "source": [
    "\n",
    "The functional equation is:\n",
    "$$F(c)(k) =  1-\\beta \\frac{c(k)}{c(Ak^\\theta +(1-\\delta)k-c(k))}(A\\theta (A\\theta k^\\alpha + (1-\\delta)k - c(k))^{\\theta-1} + 1-\\delta)  = 0$$\n",
    "\n",
    "And, in the test case $\\delta = 1$, we know the closed form solution:\n",
    "$$c(k) = (1-\\beta \\theta) A k^{\\theta} $$ \n",
    "\n"
   ]
  },
  {
   "cell_type": "markdown",
   "metadata": {},
   "source": [
    "Let us now define some parameters and find the Steady State value of capital:"
   ]
  },
  {
   "cell_type": "code",
   "execution_count": 1,
   "metadata": {},
   "outputs": [
    {
     "data": {
      "text/plain": [
       "1.0"
      ]
     },
     "execution_count": 1,
     "metadata": {},
     "output_type": "execute_result"
    }
   ],
   "source": [
    "using Plots, Optim, LinearAlgebra, FastGaussQuadrature\n",
    "\n",
    "#Defining parameters\n",
    "θ = 0.25\n",
    "β = 0.9\n",
    "δ = 1\n",
    "A = (1-β*(1-δ))/(θ * β) #This will normalize the SS to 1\n",
    "kss = ((1- β*(1-δ))/(β*A*θ))^(1/(θ-1))"
   ]
  },
  {
   "cell_type": "markdown",
   "metadata": {},
   "source": [
    "We will use the finite element method with the piecewise linear base function $\\varphi_i$ defined below (and in the lecture notes):\n"
   ]
  },
  {
   "cell_type": "code",
   "execution_count": 2,
   "metadata": {},
   "outputs": [
    {
     "data": {
      "text/plain": [
       "ϕi (generic function with 1 method)"
      ]
     },
     "execution_count": 2,
     "metadata": {},
     "output_type": "execute_result"
    }
   ],
   "source": [
    "#Finite elements Piecewise Linear function:\n",
    "function ϕi(x,X,i::Int)\n",
    "    #x: point to evaluate the function\n",
    "    #X: Vector with elements nodes\n",
    "    #i: Which element in the function\n",
    "    if i>1 && i<length(X) #i is not in a boundary\n",
    "        if X[i-1]<=x<=X[i]\n",
    "            f = (x-X[i-1])/(X[i]-X[i-1])\n",
    "        elseif X[i]<=x<=X[i+1]\n",
    "            f = (X[i+1]-x)/(X[i+1]-X[i])\n",
    "        else\n",
    "            f = 0\n",
    "        end\n",
    "    elseif i==1 #i is in the boundary(1)\n",
    "        if X[i]<=x<=X[i+1]\n",
    "            f = (X[i+1]-x)/(X[i+1]-X[i])\n",
    "        else\n",
    "            f = 0\n",
    "        end\n",
    "    elseif i==length(X) #i is in the top boundary\n",
    "        if X[i-1]<=x<=X[i]\n",
    "            f = (x-X[i-1])/(X[i]-X[i-1])\n",
    "        else\n",
    "            f=0\n",
    "        end\n",
    "    end\n",
    "    return f\n",
    "end\n"
   ]
  },
  {
   "cell_type": "markdown",
   "metadata": {},
   "source": [
    "The elements node $k_i\\in[0,2]$ with their distance increasing exponentially since it is known that the consuption function is less linear close to 0. We have 15 nodes."
   ]
  },
  {
   "cell_type": "code",
   "execution_count": 3,
   "metadata": {},
   "outputs": [
    {
     "data": {
      "text/plain": [
       "15-element Array{Float64,1}:\n",
       " 0.0                  \n",
       " 0.0005               \n",
       " 0.0013876771423281366\n",
       " 0.0029636185603518304\n",
       " 0.0057614729092074785\n",
       " 0.010728655615292541 \n",
       " 0.019547164715211198 \n",
       " 0.03520314263003213  \n",
       " 0.06299805010159346  \n",
       " 0.11234385817285451  \n",
       " 0.19995014996199395  \n",
       " 0.35548235545269025  \n",
       " 0.6316071228726379   \n",
       " 1.1218264118113592   \n",
       " 1.9921393268498697   "
      ]
     },
     "execution_count": 3,
     "metadata": {},
     "output_type": "execute_result"
    }
   ],
   "source": [
    "#Defining the elements:\n",
    "#In this case, we are putting more elements at low values of k because the function is known to be \"less linear\" in that region.\n",
    "K = zeros(15)\n",
    "for i=2:length(K)\n",
    "    global K\n",
    "    K[i] = K[i-1] +0.0005*exp(0.574*(i-2))\n",
    "end\n",
    "K"
   ]
  },
  {
   "cell_type": "markdown",
   "metadata": {},
   "source": [
    "We will approximate the consumption functio $c(k)$ by:\n",
    "$$ c^n(k;\\alpha) = \\sum_{i=1}^n\\alpha_i\\varphi_i(k)$$"
   ]
  },
  {
   "cell_type": "code",
   "execution_count": 4,
   "metadata": {},
   "outputs": [
    {
     "data": {
      "text/plain": [
       "cn (generic function with 1 method)"
      ]
     },
     "execution_count": 4,
     "metadata": {},
     "output_type": "execute_result"
    }
   ],
   "source": [
    "function cn(k,α;K=K)\n",
    "#This function is piecewise linear approximation for a function with arguments k\n",
    "#To get a good approximations one need to find the parameters α\n",
    "#K are the elements nodes. It is optionally defined here for efficiency. \n",
    "        n = length(K)\n",
    "        c = 0\n",
    "        for i = 1:n\n",
    "            c = c + α[i]*ϕi(k,K,i)\n",
    "        end\n",
    "        return c\n",
    "end"
   ]
  },
  {
   "cell_type": "markdown",
   "metadata": {},
   "source": [
    "The Residual equation is:\n",
    "\n",
    "$$R(k;\\alpha) = F(c^n(k;\\alpha))$$\n",
    "$$ =  1-\\beta \\frac{\\sum_{i=1}^n\\alpha_i\\varphi_i(k)}{\\sum_{i=1}^n\\alpha_i\\varphi_i(Ak^\\theta +(1-\\delta)k-\\sum_{i=1}^n\\alpha_i\\varphi_i(k))}(A\\theta (A\\theta k^\\alpha + (1-\\delta)k - \\sum_{i=1}^n\\alpha_i\\varphi_i(k))^{\\theta-1} + 1-\\delta)  = 0$$"
   ]
  },
  {
   "cell_type": "code",
   "execution_count": 5,
   "metadata": {},
   "outputs": [
    {
     "data": {
      "text/plain": [
       "residual (generic function with 1 method)"
      ]
     },
     "execution_count": 5,
     "metadata": {},
     "output_type": "execute_result"
    }
   ],
   "source": [
    "#capital policy function from Bugdet constraint\n",
    "polk(k,α) = min(max(eps(),A*k.^θ+(1-δ)*k-cn(k,α)),K[end])\n",
    "#min max are needed to avoid NaNs and other numerical instabilities\n",
    "\n",
    "function residual(k,α)\n",
    "    #This function is specific for the deterministic growth model.\n",
    "    #Residual function comes from FOCs\n",
    "    #cn below is an approximation for consumption\n",
    "        R = cn(k,α)/cn(polk(k,α),α) * β * (A*θ*polk(k,α)^(θ-1)+1-δ)- 1\n",
    "    return R\n",
    "end"
   ]
  },
  {
   "cell_type": "markdown",
   "metadata": {},
   "source": [
    "Since the finite element method is a Galerkin method, the base function is the weight we use to minimize the weighted residual:\n",
    "$$ \\min_\\alpha \\int_0^\\bar{k} \\varphi_i(k) R(k;\\alpha) dk $$\n",
    "To calculate the integral, we use Gauss-Legendre method with 3 nodes per element. Also note, that we impose the boundary condition $\\alpha_1 = 0$ since this imply $c(0) = 0$."
   ]
  },
  {
   "cell_type": "code",
   "execution_count": 6,
   "metadata": {},
   "outputs": [
    {
     "data": {
      "text/plain": [
       "mini (generic function with 1 method)"
      ]
     },
     "execution_count": 6,
     "metadata": {},
     "output_type": "execute_result"
    }
   ],
   "source": [
    "function integra(k,α;K=K)\n",
    "#This function calculates the function that will be integrated:\n",
    "#integra(k;α):= ϕi(k)R(k;α), where ϕi are the weights and R is the residual function\n",
    "#In the Finite element methods, the weights are the same as the approximating functions\n",
    "    T=zeros(length(K))\n",
    "    for i=1:length(K)\n",
    "        T[i] = ϕi(k,K,i)*residual(k,α)\n",
    "    end\n",
    "    return T\n",
    "end\n",
    "\n",
    "#This function calculates the integral (the norm of the integrated functions), as a functions of the parameters to minimized\n",
    "#We define that way since this is the format accepted by the solver:\n",
    "#mini(α):= ∫integra(k;α)dk\n",
    "nodes, weights = gausslegendre(3*(length(K)-1)) #Gauss Legendre nodes and weights,this function is just a Quadrature table\n",
    "function mini(α;nodes=nodes,weights=weights,K=K)\n",
    "    if length(α)<length(K)\n",
    "        α = vcat(0,α)\n",
    "    end\n",
    "    #g = quadgk.(integra,K[1],K[end])[1] #Integral\n",
    "    #See Judd's book pg 261 on numerical integration and the gausslegendre formula:\n",
    "    gaussleg = zeros(length(K))\n",
    "    for j=1:length(nodes)\n",
    "        gaussleg .+= (K[end]-K[1])/2 .* weights[j] .* integra((nodes[j] .+1).*\n",
    "        (K[end]-K[1])/2 .+ K[1],α)\n",
    "    end\n",
    "    return norm(gaussleg,1)\n",
    "end"
   ]
  },
  {
   "cell_type": "markdown",
   "metadata": {},
   "source": [
    "Let's start the minimization procedure. We use the BFGS method which is a Quasi-Newton method. It does not calculates the Hessian as a Newton procedure would do, but it approximates the Hessian by a positive definite approximation which is easier to compute and invert (see Judd's book). Note that this minimization step is extremely sensitive to initial conditions. A grid search or another procedure might be needed to determine the initial parameters."
   ]
  },
  {
   "cell_type": "code",
   "execution_count": 7,
   "metadata": {},
   "outputs": [
    {
     "data": {
      "text/plain": [
       "0.6613235916442249"
      ]
     },
     "execution_count": 7,
     "metadata": {},
     "output_type": "execute_result"
    }
   ],
   "source": [
    "#Setting initial conditions\n",
    "initial =  ones(length(K)-1) .* range(0.35, stop = 3.5, length = length(K)-1)\n",
    "\n",
    "#Check if the initial conditions are somewhat close to the true parameters. \n",
    "mini(initial)\n"
   ]
  },
  {
   "cell_type": "code",
   "execution_count": 8,
   "metadata": {},
   "outputs": [
    {
     "data": {
      "text/plain": [
       "15-element Array{Float64,1}:\n",
       " 0.0               \n",
       " 0.3697707000941408\n",
       " 0.6643411617819035\n",
       " 0.8522156275437445\n",
       " 0.9250006884283947\n",
       " 1.1461406514030286\n",
       " 1.2915355064465808\n",
       " 1.496179246145769 \n",
       " 1.7302266421349601\n",
       " 2.007767964955853 \n",
       " 2.3141920910427243\n",
       " 2.671140017694259 \n",
       " 3.0852761608124992\n",
       " 3.565404442468578 \n",
       " 4.116339132643077 "
      ]
     },
     "execution_count": 8,
     "metadata": {},
     "output_type": "execute_result"
    }
   ],
   "source": [
    "#Here we start the minimization procedure we want to find α:= argmin mini(α)\n",
    "\n",
    "#Solver stuff\n",
    "#lower and upper bound of the parameters:\n",
    "lower = zeros(length(initial))\n",
    "upper = Inf*ones(length(initial))\n",
    "#Optimizer method is BFGS, see Judd's book page 114 for an explanation:\n",
    "inner_optimizer = BFGS()\n",
    "\n",
    "#Solver:\n",
    "bla = optimize(mini,lower,upper,initial, Fminbox(inner_optimizer))\n",
    "#Parameters\n",
    "α = vcat(0,bla.minimizer) #we need to concatenate to include the boundary condition"
   ]
  },
  {
   "cell_type": "code",
   "execution_count": 9,
   "metadata": {},
   "outputs": [
    {
     "data": {
      "text/plain": [
       "1.0051920222214697e-5"
      ]
     },
     "execution_count": 9,
     "metadata": {},
     "output_type": "execute_result"
    }
   ],
   "source": [
    "#Checking if the residual is low at the solution\n",
    "mini(α)"
   ]
  },
  {
   "cell_type": "markdown",
   "metadata": {},
   "source": [
    "Below, we plot the approximate consumption function and the true one. As we can see, the approximation is barely indistinguible from the true function."
   ]
  },
  {
   "cell_type": "code",
   "execution_count": 10,
   "metadata": {},
   "outputs": [
    {
     "data": {
      "image/svg+xml": [
       "<?xml version=\"1.0\" encoding=\"utf-8\"?>\n",
       "<svg xmlns=\"http://www.w3.org/2000/svg\" xmlns:xlink=\"http://www.w3.org/1999/xlink\" width=\"600\" height=\"400\" viewBox=\"0 0 2400 1600\">\n",
       "<defs>\n",
       "  <clipPath id=\"clip5600\">\n",
       "    <rect x=\"0\" y=\"0\" width=\"2000\" height=\"2000\"/>\n",
       "  </clipPath>\n",
       "</defs>\n",
       "<defs>\n",
       "  <clipPath id=\"clip5601\">\n",
       "    <rect x=\"0\" y=\"0\" width=\"2400\" height=\"1600\"/>\n",
       "  </clipPath>\n",
       "</defs>\n",
       "<polygon clip-path=\"url(#clip5601)\" points=\"\n",
       "0,1600 2400,1600 2400,0 0,0 \n",
       "  \" fill=\"#ffffff\" fill-rule=\"evenodd\" fill-opacity=\"1\"/>\n",
       "<defs>\n",
       "  <clipPath id=\"clip5602\">\n",
       "    <rect x=\"480\" y=\"0\" width=\"1681\" height=\"1600\"/>\n",
       "  </clipPath>\n",
       "</defs>\n",
       "<polygon clip-path=\"url(#clip5601)\" points=\"\n",
       "121.251,1503.47 2321.26,1503.47 2321.26,47.2441 121.251,47.2441 \n",
       "  \" fill=\"#ffffff\" fill-rule=\"evenodd\" fill-opacity=\"1\"/>\n",
       "<defs>\n",
       "  <clipPath id=\"clip5603\">\n",
       "    <rect x=\"121\" y=\"47\" width=\"2201\" height=\"1457\"/>\n",
       "  </clipPath>\n",
       "</defs>\n",
       "<polyline clip-path=\"url(#clip5603)\" style=\"stroke:#000000; stroke-width:2; stroke-opacity:0.1; fill:none\" points=\"\n",
       "  183.515,1503.47 183.515,47.2441 \n",
       "  \"/>\n",
       "<polyline clip-path=\"url(#clip5603)\" style=\"stroke:#000000; stroke-width:2; stroke-opacity:0.1; fill:none\" points=\"\n",
       "  704.992,1503.47 704.992,47.2441 \n",
       "  \"/>\n",
       "<polyline clip-path=\"url(#clip5603)\" style=\"stroke:#000000; stroke-width:2; stroke-opacity:0.1; fill:none\" points=\"\n",
       "  1226.47,1503.47 1226.47,47.2441 \n",
       "  \"/>\n",
       "<polyline clip-path=\"url(#clip5603)\" style=\"stroke:#000000; stroke-width:2; stroke-opacity:0.1; fill:none\" points=\"\n",
       "  1747.95,1503.47 1747.95,47.2441 \n",
       "  \"/>\n",
       "<polyline clip-path=\"url(#clip5603)\" style=\"stroke:#000000; stroke-width:2; stroke-opacity:0.1; fill:none\" points=\"\n",
       "  2269.42,1503.47 2269.42,47.2441 \n",
       "  \"/>\n",
       "<polyline clip-path=\"url(#clip5603)\" style=\"stroke:#000000; stroke-width:2; stroke-opacity:0.1; fill:none\" points=\"\n",
       "  121.251,1462.26 2321.26,1462.26 \n",
       "  \"/>\n",
       "<polyline clip-path=\"url(#clip5603)\" style=\"stroke:#000000; stroke-width:2; stroke-opacity:0.1; fill:none\" points=\"\n",
       "  121.251,1128.41 2321.26,1128.41 \n",
       "  \"/>\n",
       "<polyline clip-path=\"url(#clip5603)\" style=\"stroke:#000000; stroke-width:2; stroke-opacity:0.1; fill:none\" points=\"\n",
       "  121.251,794.553 2321.26,794.553 \n",
       "  \"/>\n",
       "<polyline clip-path=\"url(#clip5603)\" style=\"stroke:#000000; stroke-width:2; stroke-opacity:0.1; fill:none\" points=\"\n",
       "  121.251,460.7 2321.26,460.7 \n",
       "  \"/>\n",
       "<polyline clip-path=\"url(#clip5603)\" style=\"stroke:#000000; stroke-width:2; stroke-opacity:0.1; fill:none\" points=\"\n",
       "  121.251,126.846 2321.26,126.846 \n",
       "  \"/>\n",
       "<polyline clip-path=\"url(#clip5601)\" style=\"stroke:#000000; stroke-width:4; stroke-opacity:1; fill:none\" points=\"\n",
       "  121.251,1503.47 2321.26,1503.47 \n",
       "  \"/>\n",
       "<polyline clip-path=\"url(#clip5601)\" style=\"stroke:#000000; stroke-width:4; stroke-opacity:1; fill:none\" points=\"\n",
       "  121.251,1503.47 121.251,47.2441 \n",
       "  \"/>\n",
       "<polyline clip-path=\"url(#clip5601)\" style=\"stroke:#000000; stroke-width:4; stroke-opacity:1; fill:none\" points=\"\n",
       "  183.515,1503.47 183.515,1481.63 \n",
       "  \"/>\n",
       "<polyline clip-path=\"url(#clip5601)\" style=\"stroke:#000000; stroke-width:4; stroke-opacity:1; fill:none\" points=\"\n",
       "  704.992,1503.47 704.992,1481.63 \n",
       "  \"/>\n",
       "<polyline clip-path=\"url(#clip5601)\" style=\"stroke:#000000; stroke-width:4; stroke-opacity:1; fill:none\" points=\"\n",
       "  1226.47,1503.47 1226.47,1481.63 \n",
       "  \"/>\n",
       "<polyline clip-path=\"url(#clip5601)\" style=\"stroke:#000000; stroke-width:4; stroke-opacity:1; fill:none\" points=\"\n",
       "  1747.95,1503.47 1747.95,1481.63 \n",
       "  \"/>\n",
       "<polyline clip-path=\"url(#clip5601)\" style=\"stroke:#000000; stroke-width:4; stroke-opacity:1; fill:none\" points=\"\n",
       "  2269.42,1503.47 2269.42,1481.63 \n",
       "  \"/>\n",
       "<polyline clip-path=\"url(#clip5601)\" style=\"stroke:#000000; stroke-width:4; stroke-opacity:1; fill:none\" points=\"\n",
       "  121.251,1462.26 154.251,1462.26 \n",
       "  \"/>\n",
       "<polyline clip-path=\"url(#clip5601)\" style=\"stroke:#000000; stroke-width:4; stroke-opacity:1; fill:none\" points=\"\n",
       "  121.251,1128.41 154.251,1128.41 \n",
       "  \"/>\n",
       "<polyline clip-path=\"url(#clip5601)\" style=\"stroke:#000000; stroke-width:4; stroke-opacity:1; fill:none\" points=\"\n",
       "  121.251,794.553 154.251,794.553 \n",
       "  \"/>\n",
       "<polyline clip-path=\"url(#clip5601)\" style=\"stroke:#000000; stroke-width:4; stroke-opacity:1; fill:none\" points=\"\n",
       "  121.251,460.7 154.251,460.7 \n",
       "  \"/>\n",
       "<polyline clip-path=\"url(#clip5601)\" style=\"stroke:#000000; stroke-width:4; stroke-opacity:1; fill:none\" points=\"\n",
       "  121.251,126.846 154.251,126.846 \n",
       "  \"/>\n",
       "<g clip-path=\"url(#clip5601)\">\n",
       "<text style=\"fill:#000000; fill-opacity:1; font-family:Arial,Helvetica Neue,Helvetica,sans-serif; font-size:48px; text-anchor:middle;\" transform=\"rotate(0, 183.515, 1557.47)\" x=\"183.515\" y=\"1557.47\">0.0</text>\n",
       "</g>\n",
       "<g clip-path=\"url(#clip5601)\">\n",
       "<text style=\"fill:#000000; fill-opacity:1; font-family:Arial,Helvetica Neue,Helvetica,sans-serif; font-size:48px; text-anchor:middle;\" transform=\"rotate(0, 704.992, 1557.47)\" x=\"704.992\" y=\"1557.47\">0.5</text>\n",
       "</g>\n",
       "<g clip-path=\"url(#clip5601)\">\n",
       "<text style=\"fill:#000000; fill-opacity:1; font-family:Arial,Helvetica Neue,Helvetica,sans-serif; font-size:48px; text-anchor:middle;\" transform=\"rotate(0, 1226.47, 1557.47)\" x=\"1226.47\" y=\"1557.47\">1.0</text>\n",
       "</g>\n",
       "<g clip-path=\"url(#clip5601)\">\n",
       "<text style=\"fill:#000000; fill-opacity:1; font-family:Arial,Helvetica Neue,Helvetica,sans-serif; font-size:48px; text-anchor:middle;\" transform=\"rotate(0, 1747.95, 1557.47)\" x=\"1747.95\" y=\"1557.47\">1.5</text>\n",
       "</g>\n",
       "<g clip-path=\"url(#clip5601)\">\n",
       "<text style=\"fill:#000000; fill-opacity:1; font-family:Arial,Helvetica Neue,Helvetica,sans-serif; font-size:48px; text-anchor:middle;\" transform=\"rotate(0, 2269.42, 1557.47)\" x=\"2269.42\" y=\"1557.47\">2.0</text>\n",
       "</g>\n",
       "<g clip-path=\"url(#clip5601)\">\n",
       "<text style=\"fill:#000000; fill-opacity:1; font-family:Arial,Helvetica Neue,Helvetica,sans-serif; font-size:48px; text-anchor:end;\" transform=\"rotate(0, 97.2505, 1479.76)\" x=\"97.2505\" y=\"1479.76\">0</text>\n",
       "</g>\n",
       "<g clip-path=\"url(#clip5601)\">\n",
       "<text style=\"fill:#000000; fill-opacity:1; font-family:Arial,Helvetica Neue,Helvetica,sans-serif; font-size:48px; text-anchor:end;\" transform=\"rotate(0, 97.2505, 1145.91)\" x=\"97.2505\" y=\"1145.91\">1</text>\n",
       "</g>\n",
       "<g clip-path=\"url(#clip5601)\">\n",
       "<text style=\"fill:#000000; fill-opacity:1; font-family:Arial,Helvetica Neue,Helvetica,sans-serif; font-size:48px; text-anchor:end;\" transform=\"rotate(0, 97.2505, 812.053)\" x=\"97.2505\" y=\"812.053\">2</text>\n",
       "</g>\n",
       "<g clip-path=\"url(#clip5601)\">\n",
       "<text style=\"fill:#000000; fill-opacity:1; font-family:Arial,Helvetica Neue,Helvetica,sans-serif; font-size:48px; text-anchor:end;\" transform=\"rotate(0, 97.2505, 478.2)\" x=\"97.2505\" y=\"478.2\">3</text>\n",
       "</g>\n",
       "<g clip-path=\"url(#clip5601)\">\n",
       "<text style=\"fill:#000000; fill-opacity:1; font-family:Arial,Helvetica Neue,Helvetica,sans-serif; font-size:48px; text-anchor:end;\" transform=\"rotate(0, 97.2505, 144.346)\" x=\"97.2505\" y=\"144.346\">4</text>\n",
       "</g>\n",
       "<polyline clip-path=\"url(#clip5603)\" style=\"stroke:#009af9; stroke-width:4; stroke-opacity:1; fill:none\" points=\"\n",
       "  183.515,1462.26 193.944,1090.45 204.374,1029.1 214.804,985.462 225.233,949.271 235.663,921.159 246.092,893.046 256.522,871.47 266.951,852.693 277.381,833.916 \n",
       "  287.81,815.139 298.24,796.361 308.67,783.02 319.099,771.342 329.529,759.665 339.958,747.988 350.388,736.31 360.817,724.633 371.247,712.956 381.676,701.278 \n",
       "  392.106,689.621 402.535,681.959 412.965,674.297 423.395,666.635 433.824,658.973 444.254,651.311 454.683,643.649 465.113,635.987 475.542,628.325 485.972,620.663 \n",
       "  496.401,613.001 506.831,605.339 517.261,597.677 527.69,590.015 538.12,582.353 548.549,574.692 558.979,568.229 569.408,563.222 579.838,558.215 590.267,553.207 \n",
       "  600.697,548.2 611.127,543.193 621.556,538.186 631.986,533.179 642.415,528.171 652.845,523.164 663.274,518.157 673.704,513.15 684.133,508.143 694.563,503.135 \n",
       "  704.992,498.128 715.422,493.121 725.852,488.114 736.281,483.107 746.711,478.1 757.14,473.092 767.57,468.085 777.999,463.078 788.429,458.071 798.858,453.064 \n",
       "  809.288,448.056 819.718,443.049 830.147,438.042 840.577,433.035 851.006,429.486 861.436,426.216 871.865,422.946 882.295,419.676 892.724,416.407 903.154,413.137 \n",
       "  913.583,409.867 924.013,406.597 934.443,403.327 944.872,400.057 955.302,396.788 965.731,393.518 976.161,390.248 986.59,386.978 997.02,383.708 1007.45,380.439 \n",
       "  1017.88,377.169 1028.31,373.899 1038.74,370.629 1049.17,367.359 1059.6,364.09 1070.03,360.82 1080.46,357.55 1090.89,354.28 1101.32,351.01 1111.74,347.74 \n",
       "  1122.17,344.471 1132.6,341.201 1143.03,337.931 1153.46,334.661 1163.89,331.391 1174.32,328.122 1184.75,324.852 1195.18,321.582 1205.61,318.312 1216.04,315.042 \n",
       "  1226.47,311.773 1236.9,308.503 1247.33,305.233 1257.76,301.963 1268.19,298.693 1278.62,295.423 1289.05,292.154 1299.48,288.884 1309.91,285.614 1320.34,282.344 \n",
       "  1330.77,279.074 1341.2,275.805 1351.62,272.535 1362.05,270.21 1372.48,268.097 1382.91,265.983 1393.34,263.87 1403.77,261.757 1414.2,259.643 1424.63,257.53 \n",
       "  1435.06,255.416 1445.49,253.303 1455.92,251.19 1466.35,249.076 1476.78,246.963 1487.21,244.849 1497.64,242.736 1508.07,240.623 1518.5,238.509 1528.93,236.396 \n",
       "  1539.36,234.282 1549.79,232.169 1560.22,230.056 1570.65,227.942 1581.07,225.829 1591.5,223.715 1601.93,221.602 1612.36,219.489 1622.79,217.375 1633.22,215.262 \n",
       "  1643.65,213.148 1654.08,211.035 1664.51,208.922 1674.94,206.808 1685.37,204.695 1695.8,202.582 1706.23,200.468 1716.66,198.355 1727.09,196.241 1737.52,194.128 \n",
       "  1747.95,192.015 1758.38,189.901 1768.81,187.788 1779.24,185.674 1789.67,183.561 1800.1,181.448 1810.52,179.334 1820.95,177.221 1831.38,175.107 1841.81,172.994 \n",
       "  1852.24,170.881 1862.67,168.767 1873.1,166.654 1883.53,164.54 1893.96,162.427 1904.39,160.314 1914.82,158.2 1925.25,156.087 1935.68,153.973 1946.11,151.86 \n",
       "  1956.54,149.747 1966.97,147.633 1977.4,145.52 1987.83,143.406 1998.26,141.293 2008.69,139.18 2019.12,137.066 2029.55,134.953 2039.97,132.839 2050.4,130.726 \n",
       "  2060.83,128.613 2071.26,126.499 2081.69,124.386 2092.12,122.272 2102.55,120.159 2112.98,118.046 2123.41,115.932 2133.84,113.819 2144.27,111.706 2154.7,109.592 \n",
       "  2165.13,107.479 2175.56,105.365 2185.99,103.252 2196.42,101.139 2206.85,99.0251 2217.28,96.9118 2227.71,94.7984 2238.14,92.685 2248.57,90.5716 2259,88.4582 \n",
       "  \n",
       "  \"/>\n",
       "<polyline clip-path=\"url(#clip5603)\" style=\"stroke:#e26f46; stroke-width:4; stroke-opacity:1; fill:none\" points=\"\n",
       "  183.515,1462.26 193.944,1098.62 204.374,1029.81 214.804,983.68 225.233,947.992 235.663,918.488 246.092,893.129 256.522,870.767 266.951,850.688 277.381,832.412 \n",
       "  287.81,815.602 298.24,800.008 308.67,785.445 319.099,771.765 329.529,758.853 339.958,746.615 350.388,734.975 360.817,723.868 371.247,713.241 381.676,703.048 \n",
       "  392.106,693.249 402.535,683.812 412.965,674.706 423.395,665.905 433.824,657.386 444.254,649.13 454.683,641.118 465.113,633.334 475.542,625.763 485.972,618.392 \n",
       "  496.401,611.21 506.831,604.205 517.261,597.367 527.69,590.688 538.12,584.159 548.549,577.772 558.979,571.521 569.408,565.399 579.838,559.399 590.267,553.517 \n",
       "  600.697,547.747 611.127,542.084 621.556,536.524 631.986,531.062 642.415,525.695 652.845,520.418 663.274,515.229 673.704,510.123 684.133,505.098 694.563,500.152 \n",
       "  704.992,495.28 715.422,490.481 725.852,485.752 736.281,481.091 746.711,476.495 757.14,471.963 767.57,467.492 777.999,463.08 788.429,458.726 798.858,454.428 \n",
       "  809.288,450.185 819.718,445.994 830.147,441.854 840.577,437.764 851.006,433.723 861.436,429.729 871.865,425.78 882.295,421.876 892.724,418.016 903.154,414.197 \n",
       "  913.583,410.42 924.013,406.684 934.443,402.987 944.872,399.327 955.302,395.706 965.731,392.121 976.161,388.571 986.59,385.057 997.02,381.576 1007.45,378.129 \n",
       "  1017.88,374.714 1028.31,371.332 1038.74,367.98 1049.17,364.659 1059.6,361.368 1070.03,358.106 1080.46,354.873 1090.89,351.667 1101.32,348.49 1111.74,345.339 \n",
       "  1122.17,342.215 1132.6,339.116 1143.03,336.043 1153.46,332.995 1163.89,329.972 1174.32,326.972 1184.75,323.997 1195.18,321.044 1205.61,318.114 1216.04,315.206 \n",
       "  1226.47,312.321 1236.9,309.456 1247.33,306.613 1257.76,303.791 1268.19,300.99 1278.62,298.208 1289.05,295.446 1299.48,292.704 1309.91,289.981 1320.34,287.277 \n",
       "  1330.77,284.591 1341.2,281.924 1351.62,279.274 1362.05,276.642 1372.48,274.028 1382.91,271.431 1393.34,268.85 1403.77,266.287 1414.2,263.739 1424.63,261.208 \n",
       "  1435.06,258.693 1445.49,256.193 1455.92,253.709 1466.35,251.24 1476.78,248.786 1487.21,246.347 1497.64,243.922 1508.07,241.512 1518.5,239.116 1528.93,236.734 \n",
       "  1539.36,234.366 1549.79,232.012 1560.22,229.67 1570.65,227.343 1581.07,225.028 1591.5,222.726 1601.93,220.437 1612.36,218.16 1622.79,215.896 1633.22,213.645 \n",
       "  1643.65,211.405 1654.08,209.177 1664.51,206.961 1674.94,204.757 1685.37,202.564 1695.8,200.383 1706.23,198.213 1716.66,196.054 1727.09,193.906 1737.52,191.769 \n",
       "  1747.95,189.643 1758.38,187.527 1768.81,185.422 1779.24,183.327 1789.67,181.242 1800.1,179.168 1810.52,177.103 1820.95,175.048 1831.38,173.004 1841.81,170.968 \n",
       "  1852.24,168.943 1862.67,166.927 1873.1,164.92 1883.53,162.923 1893.96,160.934 1904.39,158.955 1914.82,156.985 1925.25,155.024 1935.68,153.071 1946.11,151.127 \n",
       "  1956.54,149.192 1966.97,147.265 1977.4,145.347 1987.83,143.437 1998.26,141.535 2008.69,139.642 2019.12,137.756 2029.55,135.879 2039.97,134.009 2050.4,132.148 \n",
       "  2060.83,130.294 2071.26,128.448 2081.69,126.609 2092.12,124.778 2102.55,122.955 2112.98,121.139 2123.41,119.33 2133.84,117.529 2144.27,115.735 2154.7,113.948 \n",
       "  2165.13,112.168 2175.56,110.395 2185.99,108.629 2196.42,106.87 2206.85,105.117 2217.28,103.372 2227.71,101.633 2238.14,99.9009 2248.57,98.1753 2259,96.4563 \n",
       "  \n",
       "  \"/>\n",
       "<polygon clip-path=\"url(#clip5601)\" points=\"\n",
       "1701.64,1359.47 2249.26,1359.47 2249.26,1178.03 1701.64,1178.03 \n",
       "  \" fill=\"#ffffff\" fill-rule=\"evenodd\" fill-opacity=\"1\"/>\n",
       "<polyline clip-path=\"url(#clip5601)\" style=\"stroke:#000000; stroke-width:4; stroke-opacity:1; fill:none\" points=\"\n",
       "  1701.64,1359.47 2249.26,1359.47 2249.26,1178.03 1701.64,1178.03 1701.64,1359.47 \n",
       "  \"/>\n",
       "<polyline clip-path=\"url(#clip5601)\" style=\"stroke:#009af9; stroke-width:4; stroke-opacity:1; fill:none\" points=\"\n",
       "  1725.64,1238.51 1869.64,1238.51 \n",
       "  \"/>\n",
       "<g clip-path=\"url(#clip5601)\">\n",
       "<text style=\"fill:#000000; fill-opacity:1; font-family:Arial,Helvetica Neue,Helvetica,sans-serif; font-size:48px; text-anchor:start;\" transform=\"rotate(0, 1893.64, 1256.01)\" x=\"1893.64\" y=\"1256.01\">Approximation</text>\n",
       "</g>\n",
       "<polyline clip-path=\"url(#clip5601)\" style=\"stroke:#e26f46; stroke-width:4; stroke-opacity:1; fill:none\" points=\"\n",
       "  1725.64,1298.99 1869.64,1298.99 \n",
       "  \"/>\n",
       "<g clip-path=\"url(#clip5601)\">\n",
       "<text style=\"fill:#000000; fill-opacity:1; font-family:Arial,Helvetica Neue,Helvetica,sans-serif; font-size:48px; text-anchor:start;\" transform=\"rotate(0, 1893.64, 1316.49)\" x=\"1893.64\" y=\"1316.49\">True Function</text>\n",
       "</g>\n",
       "</svg>\n"
      ]
     },
     "execution_count": 10,
     "metadata": {},
     "output_type": "execute_result"
    }
   ],
   "source": [
    "#Plotting\n",
    "k=K[1]:0.01:K[end]\n",
    "\n",
    "c(k) = (1-β*θ)*A*k^θ\n",
    "cnplot(k) = cn(k,α)\n",
    "plot(k,[cnplot.(k),c.(k)],label=[\"Approximation\" \"True Function\"],legend=:bottomright)"
   ]
  },
  {
   "cell_type": "markdown",
   "metadata": {},
   "source": [
    "Now, we do the same procedure for a case with $\\delta =0.05$. Note that now we can't compare to a known formula, but the shape should be similar to the one above."
   ]
  },
  {
   "cell_type": "code",
   "execution_count": 11,
   "metadata": {},
   "outputs": [
    {
     "data": {
      "text/plain": [
       "residual (generic function with 1 method)"
      ]
     },
     "execution_count": 11,
     "metadata": {},
     "output_type": "execute_result"
    }
   ],
   "source": [
    "#New parameters\n",
    "δ = 0.05\n",
    "A = (1-β*(1-δ))/(θ * β) #This will normalize the SS to 1\n",
    "\n",
    "kss = ((1- β*(1-δ))/(β*A*θ))^(1/(θ-1))\n",
    "\n",
    "polk(k,α) = min(max(eps(),A*k.^θ+(1-δ)*k-cn(k,α)),K[end]) #capital policy function from Bugdet constraint\n",
    "\n",
    "function residual(k,α) #Residual function comes from FOCs\n",
    "        R = β * cn(k,α)/cn(polk(k,α),α)  * (A*θ*polk(k,α)^(θ-1)+1-δ)- 1\n",
    "    return R\n",
    "end"
   ]
  },
  {
   "cell_type": "code",
   "execution_count": 12,
   "metadata": {},
   "outputs": [
    {
     "data": {
      "text/plain": [
       "0.560172602119699"
      ]
     },
     "execution_count": 12,
     "metadata": {},
     "output_type": "execute_result"
    }
   ],
   "source": [
    "initial = ones(length(K)-1)*0.0035\n",
    "for i=2:length(initial)\n",
    "    global initial\n",
    "    initial[i] = initial[i-1] +0.000265*exp(0.589*(i-2))\n",
    "end\n",
    "initial\n",
    "#initial = ones(length(K)-1)*0.1.*range(0.03,stop = 8,length = length(K)-1)\n",
    "mini(initial)"
   ]
  },
  {
   "cell_type": "code",
   "execution_count": 13,
   "metadata": {},
   "outputs": [
    {
     "data": {
      "text/plain": [
       "15-element Array{Float64,1}:\n",
       " 0.0                 \n",
       " 0.01239167265675882 \n",
       " 0.09230419026395284 \n",
       " 0.021151728251957085\n",
       " 0.115504132550029   \n",
       " 0.12844822914611462 \n",
       " 0.15135403379323256 \n",
       " 0.17588563782962213 \n",
       " 0.20737801051704224 \n",
       " 0.24777147103586775 \n",
       " 0.3013961059132636  \n",
       " 0.3754319853414289  \n",
       " 0.4808309867565117  \n",
       " 0.6344669728788809  \n",
       " 0.852052586048369   "
      ]
     },
     "execution_count": 13,
     "metadata": {},
     "output_type": "execute_result"
    }
   ],
   "source": [
    "#Solver stuff\n",
    "#lower and upper bound of the parameters:\n",
    "lower = zeros(length(initial))\n",
    "upper = Inf*ones(length(initial))\n",
    "#Optimizer method is BFGS, see Judd's book page 114 for an explanation:\n",
    "inner_optimizer = BFGS()\n",
    "\n",
    "#Solver:\n",
    "bla = optimize(mini,lower,upper,initial, Fminbox(inner_optimizer))\n",
    "#Parameters\n",
    "α = vcat(0,bla.minimizer)"
   ]
  },
  {
   "cell_type": "code",
   "execution_count": 14,
   "metadata": {},
   "outputs": [
    {
     "data": {
      "image/svg+xml": [
       "<?xml version=\"1.0\" encoding=\"utf-8\"?>\n",
       "<svg xmlns=\"http://www.w3.org/2000/svg\" xmlns:xlink=\"http://www.w3.org/1999/xlink\" width=\"600\" height=\"400\" viewBox=\"0 0 2400 1600\">\n",
       "<defs>\n",
       "  <clipPath id=\"clip5800\">\n",
       "    <rect x=\"0\" y=\"0\" width=\"2000\" height=\"2000\"/>\n",
       "  </clipPath>\n",
       "</defs>\n",
       "<defs>\n",
       "  <clipPath id=\"clip5801\">\n",
       "    <rect x=\"0\" y=\"0\" width=\"2400\" height=\"1600\"/>\n",
       "  </clipPath>\n",
       "</defs>\n",
       "<polygon clip-path=\"url(#clip5801)\" points=\"\n",
       "0,1600 2400,1600 2400,0 0,0 \n",
       "  \" fill=\"#ffffff\" fill-rule=\"evenodd\" fill-opacity=\"1\"/>\n",
       "<defs>\n",
       "  <clipPath id=\"clip5802\">\n",
       "    <rect x=\"480\" y=\"0\" width=\"1681\" height=\"1600\"/>\n",
       "  </clipPath>\n",
       "</defs>\n",
       "<polygon clip-path=\"url(#clip5801)\" points=\"\n",
       "161.394,1503.47 2321.26,1503.47 2321.26,47.2441 161.394,47.2441 \n",
       "  \" fill=\"#ffffff\" fill-rule=\"evenodd\" fill-opacity=\"1\"/>\n",
       "<defs>\n",
       "  <clipPath id=\"clip5803\">\n",
       "    <rect x=\"161\" y=\"47\" width=\"2161\" height=\"1457\"/>\n",
       "  </clipPath>\n",
       "</defs>\n",
       "<polyline clip-path=\"url(#clip5803)\" style=\"stroke:#000000; stroke-width:2; stroke-opacity:0.1; fill:none\" points=\"\n",
       "  222.522,1503.47 222.522,47.2441 \n",
       "  \"/>\n",
       "<polyline clip-path=\"url(#clip5803)\" style=\"stroke:#000000; stroke-width:2; stroke-opacity:0.1; fill:none\" points=\"\n",
       "  734.484,1503.47 734.484,47.2441 \n",
       "  \"/>\n",
       "<polyline clip-path=\"url(#clip5803)\" style=\"stroke:#000000; stroke-width:2; stroke-opacity:0.1; fill:none\" points=\"\n",
       "  1246.45,1503.47 1246.45,47.2441 \n",
       "  \"/>\n",
       "<polyline clip-path=\"url(#clip5803)\" style=\"stroke:#000000; stroke-width:2; stroke-opacity:0.1; fill:none\" points=\"\n",
       "  1758.41,1503.47 1758.41,47.2441 \n",
       "  \"/>\n",
       "<polyline clip-path=\"url(#clip5803)\" style=\"stroke:#000000; stroke-width:2; stroke-opacity:0.1; fill:none\" points=\"\n",
       "  2270.37,1503.47 2270.37,47.2441 \n",
       "  \"/>\n",
       "<polyline clip-path=\"url(#clip5803)\" style=\"stroke:#000000; stroke-width:2; stroke-opacity:0.1; fill:none\" points=\"\n",
       "  161.394,1462.26 2321.26,1462.26 \n",
       "  \"/>\n",
       "<polyline clip-path=\"url(#clip5803)\" style=\"stroke:#000000; stroke-width:2; stroke-opacity:0.1; fill:none\" points=\"\n",
       "  161.394,1139.59 2321.26,1139.59 \n",
       "  \"/>\n",
       "<polyline clip-path=\"url(#clip5803)\" style=\"stroke:#000000; stroke-width:2; stroke-opacity:0.1; fill:none\" points=\"\n",
       "  161.394,816.918 2321.26,816.918 \n",
       "  \"/>\n",
       "<polyline clip-path=\"url(#clip5803)\" style=\"stroke:#000000; stroke-width:2; stroke-opacity:0.1; fill:none\" points=\"\n",
       "  161.394,494.246 2321.26,494.246 \n",
       "  \"/>\n",
       "<polyline clip-path=\"url(#clip5803)\" style=\"stroke:#000000; stroke-width:2; stroke-opacity:0.1; fill:none\" points=\"\n",
       "  161.394,171.575 2321.26,171.575 \n",
       "  \"/>\n",
       "<polyline clip-path=\"url(#clip5801)\" style=\"stroke:#000000; stroke-width:4; stroke-opacity:1; fill:none\" points=\"\n",
       "  161.394,1503.47 2321.26,1503.47 \n",
       "  \"/>\n",
       "<polyline clip-path=\"url(#clip5801)\" style=\"stroke:#000000; stroke-width:4; stroke-opacity:1; fill:none\" points=\"\n",
       "  161.394,1503.47 161.394,47.2441 \n",
       "  \"/>\n",
       "<polyline clip-path=\"url(#clip5801)\" style=\"stroke:#000000; stroke-width:4; stroke-opacity:1; fill:none\" points=\"\n",
       "  222.522,1503.47 222.522,1481.63 \n",
       "  \"/>\n",
       "<polyline clip-path=\"url(#clip5801)\" style=\"stroke:#000000; stroke-width:4; stroke-opacity:1; fill:none\" points=\"\n",
       "  734.484,1503.47 734.484,1481.63 \n",
       "  \"/>\n",
       "<polyline clip-path=\"url(#clip5801)\" style=\"stroke:#000000; stroke-width:4; stroke-opacity:1; fill:none\" points=\"\n",
       "  1246.45,1503.47 1246.45,1481.63 \n",
       "  \"/>\n",
       "<polyline clip-path=\"url(#clip5801)\" style=\"stroke:#000000; stroke-width:4; stroke-opacity:1; fill:none\" points=\"\n",
       "  1758.41,1503.47 1758.41,1481.63 \n",
       "  \"/>\n",
       "<polyline clip-path=\"url(#clip5801)\" style=\"stroke:#000000; stroke-width:4; stroke-opacity:1; fill:none\" points=\"\n",
       "  2270.37,1503.47 2270.37,1481.63 \n",
       "  \"/>\n",
       "<polyline clip-path=\"url(#clip5801)\" style=\"stroke:#000000; stroke-width:4; stroke-opacity:1; fill:none\" points=\"\n",
       "  161.394,1462.26 193.792,1462.26 \n",
       "  \"/>\n",
       "<polyline clip-path=\"url(#clip5801)\" style=\"stroke:#000000; stroke-width:4; stroke-opacity:1; fill:none\" points=\"\n",
       "  161.394,1139.59 193.792,1139.59 \n",
       "  \"/>\n",
       "<polyline clip-path=\"url(#clip5801)\" style=\"stroke:#000000; stroke-width:4; stroke-opacity:1; fill:none\" points=\"\n",
       "  161.394,816.918 193.792,816.918 \n",
       "  \"/>\n",
       "<polyline clip-path=\"url(#clip5801)\" style=\"stroke:#000000; stroke-width:4; stroke-opacity:1; fill:none\" points=\"\n",
       "  161.394,494.246 193.792,494.246 \n",
       "  \"/>\n",
       "<polyline clip-path=\"url(#clip5801)\" style=\"stroke:#000000; stroke-width:4; stroke-opacity:1; fill:none\" points=\"\n",
       "  161.394,171.575 193.792,171.575 \n",
       "  \"/>\n",
       "<g clip-path=\"url(#clip5801)\">\n",
       "<text style=\"fill:#000000; fill-opacity:1; font-family:Arial,Helvetica Neue,Helvetica,sans-serif; font-size:48px; text-anchor:middle;\" transform=\"rotate(0, 222.522, 1557.47)\" x=\"222.522\" y=\"1557.47\">0.0</text>\n",
       "</g>\n",
       "<g clip-path=\"url(#clip5801)\">\n",
       "<text style=\"fill:#000000; fill-opacity:1; font-family:Arial,Helvetica Neue,Helvetica,sans-serif; font-size:48px; text-anchor:middle;\" transform=\"rotate(0, 734.484, 1557.47)\" x=\"734.484\" y=\"1557.47\">0.5</text>\n",
       "</g>\n",
       "<g clip-path=\"url(#clip5801)\">\n",
       "<text style=\"fill:#000000; fill-opacity:1; font-family:Arial,Helvetica Neue,Helvetica,sans-serif; font-size:48px; text-anchor:middle;\" transform=\"rotate(0, 1246.45, 1557.47)\" x=\"1246.45\" y=\"1557.47\">1.0</text>\n",
       "</g>\n",
       "<g clip-path=\"url(#clip5801)\">\n",
       "<text style=\"fill:#000000; fill-opacity:1; font-family:Arial,Helvetica Neue,Helvetica,sans-serif; font-size:48px; text-anchor:middle;\" transform=\"rotate(0, 1758.41, 1557.47)\" x=\"1758.41\" y=\"1557.47\">1.5</text>\n",
       "</g>\n",
       "<g clip-path=\"url(#clip5801)\">\n",
       "<text style=\"fill:#000000; fill-opacity:1; font-family:Arial,Helvetica Neue,Helvetica,sans-serif; font-size:48px; text-anchor:middle;\" transform=\"rotate(0, 2270.37, 1557.47)\" x=\"2270.37\" y=\"1557.47\">2.0</text>\n",
       "</g>\n",
       "<g clip-path=\"url(#clip5801)\">\n",
       "<text style=\"fill:#000000; fill-opacity:1; font-family:Arial,Helvetica Neue,Helvetica,sans-serif; font-size:48px; text-anchor:end;\" transform=\"rotate(0, 137.394, 1479.76)\" x=\"137.394\" y=\"1479.76\">0.0</text>\n",
       "</g>\n",
       "<g clip-path=\"url(#clip5801)\">\n",
       "<text style=\"fill:#000000; fill-opacity:1; font-family:Arial,Helvetica Neue,Helvetica,sans-serif; font-size:48px; text-anchor:end;\" transform=\"rotate(0, 137.394, 1157.09)\" x=\"137.394\" y=\"1157.09\">0.2</text>\n",
       "</g>\n",
       "<g clip-path=\"url(#clip5801)\">\n",
       "<text style=\"fill:#000000; fill-opacity:1; font-family:Arial,Helvetica Neue,Helvetica,sans-serif; font-size:48px; text-anchor:end;\" transform=\"rotate(0, 137.394, 834.418)\" x=\"137.394\" y=\"834.418\">0.4</text>\n",
       "</g>\n",
       "<g clip-path=\"url(#clip5801)\">\n",
       "<text style=\"fill:#000000; fill-opacity:1; font-family:Arial,Helvetica Neue,Helvetica,sans-serif; font-size:48px; text-anchor:end;\" transform=\"rotate(0, 137.394, 511.746)\" x=\"137.394\" y=\"511.746\">0.6</text>\n",
       "</g>\n",
       "<g clip-path=\"url(#clip5801)\">\n",
       "<text style=\"fill:#000000; fill-opacity:1; font-family:Arial,Helvetica Neue,Helvetica,sans-serif; font-size:48px; text-anchor:end;\" transform=\"rotate(0, 137.394, 189.075)\" x=\"137.394\" y=\"189.075\">0.8</text>\n",
       "</g>\n",
       "<polyline clip-path=\"url(#clip5803)\" style=\"stroke:#009af9; stroke-width:4; stroke-opacity:1; fill:none\" points=\"\n",
       "  222.522,1462.26 232.762,1258.09 243.001,1216.93 253.24,1191.65 263.479,1169.73 273.719,1151.45 283.958,1133.17 294.197,1118.44 304.436,1105.23 314.675,1092.03 \n",
       "  324.915,1078.82 335.154,1065.61 345.393,1054.96 355.632,1045.08 365.872,1035.2 376.111,1025.33 386.35,1015.45 396.589,1005.58 406.829,995.703 417.068,985.827 \n",
       "  427.307,975.963 437.546,968.283 447.786,960.603 458.025,952.923 468.264,945.243 478.503,937.563 488.743,929.884 498.982,922.204 509.221,914.524 519.46,906.844 \n",
       "  529.7,899.164 539.939,891.484 550.178,883.805 560.417,876.125 570.657,868.445 580.896,860.765 591.135,853.773 601.374,847.614 611.614,841.456 621.853,835.298 \n",
       "  632.092,829.139 642.331,822.981 652.57,816.823 662.81,810.664 673.049,804.506 683.288,798.348 693.527,792.189 703.767,786.031 714.006,779.873 724.245,773.714 \n",
       "  734.484,767.556 744.724,761.398 754.963,755.24 765.202,749.081 775.441,742.923 785.681,736.765 795.92,730.606 806.159,724.448 816.398,718.29 826.638,712.131 \n",
       "  836.877,705.973 847.116,699.815 857.355,693.656 867.595,687.498 877.834,682.265 888.073,677.208 898.312,672.152 908.552,667.096 918.791,662.039 929.03,656.983 \n",
       "  939.269,651.927 949.509,646.871 959.748,641.814 969.987,636.758 980.226,631.702 990.466,626.645 1000.7,621.589 1010.94,616.533 1021.18,611.476 1031.42,606.42 \n",
       "  1041.66,601.364 1051.9,596.308 1062.14,591.251 1072.38,586.195 1082.62,581.139 1092.86,576.082 1103.1,571.026 1113.34,565.97 1123.58,560.913 1133.81,555.857 \n",
       "  1144.05,550.801 1154.29,545.745 1164.53,540.688 1174.77,535.632 1185.01,530.576 1195.25,525.519 1205.49,520.463 1215.73,515.407 1225.97,510.35 1236.21,505.294 \n",
       "  1246.45,500.238 1256.69,495.181 1266.93,490.125 1277.16,485.069 1287.4,480.013 1297.64,474.956 1307.88,469.9 1318.12,464.844 1328.36,459.787 1338.6,454.731 \n",
       "  1348.84,449.675 1359.08,444.618 1369.32,439.562 1379.56,435.342 1389.8,431.308 1400.04,427.275 1410.27,423.241 1420.51,419.208 1430.75,415.174 1440.99,411.141 \n",
       "  1451.23,407.107 1461.47,403.074 1471.71,399.04 1481.95,395.006 1492.19,390.973 1502.43,386.939 1512.67,382.906 1522.91,378.872 1533.15,374.839 1543.38,370.805 \n",
       "  1553.62,366.772 1563.86,362.738 1574.1,358.705 1584.34,354.671 1594.58,350.638 1604.82,346.604 1615.06,342.571 1625.3,338.537 1635.54,334.504 1645.78,330.47 \n",
       "  1656.02,326.436 1666.26,322.403 1676.49,318.369 1686.73,314.336 1696.97,310.302 1707.21,306.269 1717.45,302.235 1727.69,298.202 1737.93,294.168 1748.17,290.135 \n",
       "  1758.41,286.101 1768.65,282.068 1778.89,278.034 1789.13,274.001 1799.37,269.967 1809.6,265.934 1819.84,261.9 1830.08,257.866 1840.32,253.833 1850.56,249.799 \n",
       "  1860.8,245.766 1871.04,241.732 1881.28,237.699 1891.52,233.665 1901.76,229.632 1912,225.598 1922.24,221.565 1932.48,217.531 1942.72,213.498 1952.95,209.464 \n",
       "  1963.19,205.431 1973.43,201.397 1983.67,197.363 1993.91,193.33 2004.15,189.296 2014.39,185.263 2024.63,181.229 2034.87,177.196 2045.11,173.162 2055.35,169.129 \n",
       "  2065.59,165.095 2075.83,161.062 2086.06,157.028 2096.3,152.995 2106.54,148.961 2116.78,144.928 2127.02,140.894 2137.26,136.861 2147.5,132.827 2157.74,128.793 \n",
       "  2167.98,124.76 2178.22,120.726 2188.46,116.693 2198.7,112.659 2208.94,108.626 2219.17,104.592 2229.41,100.559 2239.65,96.5252 2249.89,92.4917 2260.13,88.4582 \n",
       "  \n",
       "  \"/>\n",
       "<polygon clip-path=\"url(#clip5801)\" points=\"\n",
       "1701.64,1359.47 2249.26,1359.47 2249.26,1238.51 1701.64,1238.51 \n",
       "  \" fill=\"#ffffff\" fill-rule=\"evenodd\" fill-opacity=\"1\"/>\n",
       "<polyline clip-path=\"url(#clip5801)\" style=\"stroke:#000000; stroke-width:4; stroke-opacity:1; fill:none\" points=\"\n",
       "  1701.64,1359.47 2249.26,1359.47 2249.26,1238.51 1701.64,1238.51 1701.64,1359.47 \n",
       "  \"/>\n",
       "<polyline clip-path=\"url(#clip5801)\" style=\"stroke:#009af9; stroke-width:4; stroke-opacity:1; fill:none\" points=\"\n",
       "  1725.64,1298.99 1869.64,1298.99 \n",
       "  \"/>\n",
       "<g clip-path=\"url(#clip5801)\">\n",
       "<text style=\"fill:#000000; fill-opacity:1; font-family:Arial,Helvetica Neue,Helvetica,sans-serif; font-size:48px; text-anchor:start;\" transform=\"rotate(0, 1893.64, 1316.49)\" x=\"1893.64\" y=\"1316.49\">Approximation</text>\n",
       "</g>\n",
       "</svg>\n"
      ]
     },
     "execution_count": 14,
     "metadata": {},
     "output_type": "execute_result"
    }
   ],
   "source": [
    "#Plotting\n",
    "k=K[1]:0.01:K[end]\n",
    "cnplot(k) = cn(k,α)\n",
    "plot(k,[cnplot.(k)],label=[\"Approximation\"],legend=:bottomright)"
   ]
  },
  {
   "cell_type": "markdown",
   "metadata": {},
   "source": [
    "This seems a fair approximation to the consumption function."
   ]
  }
 ],
 "metadata": {
  "kernelspec": {
   "display_name": "Julia 1.0.0",
   "language": "julia",
   "name": "julia-1.0"
  },
  "language_info": {
   "file_extension": ".jl",
   "mimetype": "application/julia",
   "name": "julia",
   "version": "1.0.0"
  }
 },
 "nbformat": 4,
 "nbformat_minor": 2
}
