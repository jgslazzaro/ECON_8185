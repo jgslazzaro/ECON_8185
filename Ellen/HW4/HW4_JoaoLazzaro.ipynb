{
 "cells": [
  {
   "cell_type": "markdown",
   "metadata": {},
   "source": [
    "Homework 4 - João Guilherme Santos Lazzaro"
   ]
  },
  {
   "cell_type": "markdown",
   "metadata": {},
   "source": [
    "## Question 1"
   ]
  },
  {
   "cell_type": "markdown",
   "metadata": {},
   "source": [
    "The problem is:\n",
    "$$\\max_{\\{c_t,k_t\\}_{t=0}^\\infty} \\sum_{t=0}^\\infty \\beta^t \\log(c_t)$$\n",
    "s.t.\n",
    "$$ c_t+k_{t+1} = A k_t^\\theta +(1-\\delta)k_t$$\n",
    "The FOCs imply that:\n",
    "$$ \\frac{c_{t+1}}{c_t} = \\beta (A\\theta k_{t+1}^{\\theta-1} + 1-\\delta)$$\n",
    "Hence, $$k_{ss} = \\left(\\frac{1-\\beta(1-\\delta)}{\\beta A \\theta}\\right)^{\\frac{1}{\\theta-1}} $$\n"
   ]
  },
  {
   "cell_type": "markdown",
   "metadata": {},
   "source": [
    "\n",
    "The functional equation is:\n",
    "$$F(c)(k) =  1-\\beta \\frac{c(k)}{c(Ak^\\theta +(1-\\delta)k-c(k))}(A\\theta (A\\theta k^\\alpha + (1-\\delta)k - c(k))^{\\theta-1} + 1-\\delta)  = 0$$\n",
    "\n",
    "And, in the test case $\\delta = 1$, we know the closed form solution:\n",
    "$$c(k) = (1-\\beta \\theta) A k^{\\theta} $$ \n",
    "\n"
   ]
  },
  {
   "cell_type": "markdown",
   "metadata": {},
   "source": [
    "Let us now define some parameters and find the Steady State value of capital:"
   ]
  },
  {
   "cell_type": "code",
   "execution_count": 2,
   "metadata": {},
   "outputs": [
    {
     "name": "stderr",
     "output_type": "stream",
     "text": [
      "┌ Info: Recompiling stale cache file C:\\Users\\jgsla\\.julia\\compiled\\v1.0\\FastGaussQuadrature\\vg51R.ji for FastGaussQuadrature [442a2c76-b920-505d-bb47-c5924d526838]\n",
      "└ @ Base loading.jl:1184\n"
     ]
    },
    {
     "data": {
      "text/plain": [
       "1.0"
      ]
     },
     "execution_count": 2,
     "metadata": {},
     "output_type": "execute_result"
    }
   ],
   "source": [
    "using Plots, Optim, LinearAlgebra, FastGaussQuadrature\n",
    "\n",
    "#Defining parameters\n",
    "θ = 0.25\n",
    "β = 0.9\n",
    "δ = 1\n",
    "A = (1-β*(1-δ))/(θ * β) #This will normalize the SS to 1\n",
    "kss = ((1- β*(1-δ))/(β*A*θ))^(1/(θ-1))"
   ]
  },
  {
   "cell_type": "markdown",
   "metadata": {},
   "source": [
    "We will use the finite element method with the piecewise linear base function $\\varphi_i$ defined below (and in the lecture notes):\n"
   ]
  },
  {
   "cell_type": "code",
   "execution_count": 3,
   "metadata": {},
   "outputs": [
    {
     "data": {
      "text/plain": [
       "ϕi (generic function with 1 method)"
      ]
     },
     "execution_count": 3,
     "metadata": {},
     "output_type": "execute_result"
    }
   ],
   "source": [
    "#Finite elements Piecewise Linear function:\n",
    "function ϕi(x,X,i::Int)\n",
    "    #x: point to evaluate the function\n",
    "    #X: Vector with elements nodes\n",
    "    #i: Which element in the function\n",
    "    if i>1 && i<length(X) #i is not in a boundary\n",
    "        if X[i-1]<=x<=X[i]\n",
    "            f = (x-X[i-1])/(X[i]-X[i-1])\n",
    "        elseif X[i]<=x<=X[i+1]\n",
    "            f = (X[i+1]-x)/(X[i+1]-X[i])\n",
    "        else\n",
    "            f = 0\n",
    "        end\n",
    "    elseif i==1 #i is in the boundary(1)\n",
    "        if X[i]<=x<=X[i+1]\n",
    "            f = (X[i+1]-x)/(X[i+1]-X[i])\n",
    "        else\n",
    "            f = 0\n",
    "        end\n",
    "    elseif i==length(X) #i is in the top boundary\n",
    "        if X[i-1]<=x<=X[i]\n",
    "            f = (x-X[i-1])/(X[i]-X[i-1])\n",
    "        else\n",
    "            f=0\n",
    "        end\n",
    "    end\n",
    "    return f\n",
    "end\n"
   ]
  },
  {
   "cell_type": "markdown",
   "metadata": {},
   "source": [
    "The elements node $k_i\\in[0,2]$ with their distance increasing exponentially since it is known that the consuption function is less linear close to 0. We have 15 nodes."
   ]
  },
  {
   "cell_type": "code",
   "execution_count": 4,
   "metadata": {},
   "outputs": [
    {
     "data": {
      "text/plain": [
       "15-element Array{Float64,1}:\n",
       " 0.0                  \n",
       " 0.0005               \n",
       " 0.0013876771423281366\n",
       " 0.0029636185603518304\n",
       " 0.0057614729092074785\n",
       " 0.010728655615292541 \n",
       " 0.019547164715211198 \n",
       " 0.03520314263003213  \n",
       " 0.06299805010159346  \n",
       " 0.11234385817285451  \n",
       " 0.19995014996199395  \n",
       " 0.35548235545269025  \n",
       " 0.6316071228726379   \n",
       " 1.1218264118113592   \n",
       " 1.9921393268498697   "
      ]
     },
     "execution_count": 4,
     "metadata": {},
     "output_type": "execute_result"
    }
   ],
   "source": [
    "#Defining the elements:\n",
    "#In this case, we are putting more elements at low values of k because the function is known to be \"less linear\" in that region.\n",
    "K = zeros(15)\n",
    "for i=2:length(K)\n",
    "    global K\n",
    "    K[i] = K[i-1] +0.0005*exp(0.574*(i-2))\n",
    "end\n",
    "K"
   ]
  },
  {
   "cell_type": "markdown",
   "metadata": {},
   "source": [
    "We will approximate the consumption functio $c(k)$ by:\n",
    "$$ c^n(k;\\alpha) = \\sum_{i=1}^n\\alpha_i\\varphi_i(k)$$"
   ]
  },
  {
   "cell_type": "code",
   "execution_count": 5,
   "metadata": {},
   "outputs": [
    {
     "data": {
      "text/plain": [
       "cn (generic function with 1 method)"
      ]
     },
     "execution_count": 5,
     "metadata": {},
     "output_type": "execute_result"
    }
   ],
   "source": [
    "function cn(k,α;K=K)\n",
    "#This function is piecewise linear approximation for a function with arguments k\n",
    "#To get a good approximations one need to find the parameters α\n",
    "#K are the elements nodes. It is optionally defined here for efficiency. \n",
    "        n = length(K)\n",
    "        c = 0\n",
    "        for i = 1:n\n",
    "            c = c + α[i]*ϕi(k,K,i)\n",
    "        end\n",
    "        return c\n",
    "end"
   ]
  },
  {
   "cell_type": "markdown",
   "metadata": {},
   "source": [
    "The Residual equation is:\n",
    "\n",
    "$$R(k;\\alpha) = F(c^n(k;\\alpha))$$\n",
    "$$ =  1-\\beta \\frac{\\sum_{i=1}^n\\alpha_i\\varphi_i(k)}{\\sum_{i=1}^n\\alpha_i\\varphi_i(Ak^\\theta +(1-\\delta)k-\\sum_{i=1}^n\\alpha_i\\varphi_i(k))}(A\\theta (A\\theta k^\\alpha + (1-\\delta)k - \\sum_{i=1}^n\\alpha_i\\varphi_i(k))^{\\theta-1} + 1-\\delta)  = 0$$"
   ]
  },
  {
   "cell_type": "code",
   "execution_count": 6,
   "metadata": {},
   "outputs": [
    {
     "data": {
      "text/plain": [
       "residual (generic function with 1 method)"
      ]
     },
     "execution_count": 6,
     "metadata": {},
     "output_type": "execute_result"
    }
   ],
   "source": [
    "#capital policy function from Bugdet constraint\n",
    "polk(k,α) = min(max(eps(),A*k.^θ+(1-δ)*k-cn(k,α)),K[end])\n",
    "#min max are needed to avoid NaNs and other numerical instabilities\n",
    "\n",
    "function residual(k,α)\n",
    "    #This function is specific for the deterministic growth model.\n",
    "    #Residual function comes from FOCs\n",
    "    #cn below is an approximation for consumption\n",
    "        R = cn(k,α)/cn(polk(k,α),α) * β * (A*θ*polk(k,α)^(θ-1)+1-δ)- 1\n",
    "    return R\n",
    "end"
   ]
  },
  {
   "cell_type": "markdown",
   "metadata": {},
   "source": [
    "Since the finite element method is a Galerkin method, the base function is the weight we use to minimize the weighted residual:\n",
    "$$ \\min_\\alpha \\int_0^\\bar{k} \\varphi_i(k) R(k;\\alpha) dk $$\n",
    "To calculate the integral, we use Gauss-Legendre method with 3 nodes per element. Also note, that we impose the boundary condition $\\alpha_1 = 0$ since this imply $c(0) = 0$."
   ]
  },
  {
   "cell_type": "code",
   "execution_count": 7,
   "metadata": {},
   "outputs": [
    {
     "data": {
      "text/plain": [
       "mini (generic function with 1 method)"
      ]
     },
     "execution_count": 7,
     "metadata": {},
     "output_type": "execute_result"
    }
   ],
   "source": [
    "function integra(k,α;K=K)\n",
    "#This function calculates the function that will be integrated:\n",
    "#integra(k;α):= ϕi(k)R(k;α), where ϕi are the weights and R is the residual function\n",
    "#In the Finite element methods, the weights are the same as the approximating functions\n",
    "    T=zeros(length(K))\n",
    "    for i=1:length(K)\n",
    "        T[i] = ϕi(k,K,i)*residual(k,α)\n",
    "    end\n",
    "    return T\n",
    "end\n",
    "\n",
    "#This function calculates the integral (the norm of the integrated functions), as a functions of the parameters to minimized\n",
    "#We define that way since this is the format accepted by the solver:\n",
    "#mini(α):= ∫integra(k;α)dk\n",
    "nodes, weights = gausslegendre(3*(length(K)-1)) #Gauss Legendre nodes and weights,this function is just a Quadrature table\n",
    "function mini(α;nodes=nodes,weights=weights,K=K)\n",
    "    if length(α)<length(K)\n",
    "        α = vcat(0,α)\n",
    "    end\n",
    "    #g = quadgk.(integra,K[1],K[end])[1] #Integral\n",
    "    #See Judd's book pg 261 on numerical integration and the gausslegendre formula:\n",
    "    gaussleg = zeros(length(K))\n",
    "    for j=1:length(nodes)\n",
    "        gaussleg .+= (K[end]-K[1])/2 .* weights[j] .* integra((nodes[j] .+1).*\n",
    "        (K[end]-K[1])/2 .+ K[1],α)\n",
    "    end\n",
    "    return norm(gaussleg,1)\n",
    "end"
   ]
  },
  {
   "cell_type": "markdown",
   "metadata": {},
   "source": [
    "Let's start the minimization procedure. We use the BFGS method which is a Quasi-Newton method. It does not calculates the Hessian as a Newton procedure would do, but it approximates the Hessian by a positive definite approximation which is easier to compute and invert (see Judd's book). Note that this minimization step is extremely sensitive to initial conditions. A grid search or another procedure might be needed to determine the initial parameters."
   ]
  },
  {
   "cell_type": "code",
   "execution_count": 8,
   "metadata": {},
   "outputs": [
    {
     "data": {
      "text/plain": [
       "0.6613235916442249"
      ]
     },
     "execution_count": 8,
     "metadata": {},
     "output_type": "execute_result"
    }
   ],
   "source": [
    "#Setting initial conditions\n",
    "initial =  ones(length(K)-1) .* range(0.35, stop = 3.5, length = length(K)-1)\n",
    "\n",
    "#Check if the initial conditions are somewhat close to the true parameters. \n",
    "mini(initial)\n"
   ]
  },
  {
   "cell_type": "code",
   "execution_count": 9,
   "metadata": {},
   "outputs": [
    {
     "data": {
      "text/plain": [
       "15-element Array{Float64,1}:\n",
       " 0.0                \n",
       " 0.37442113219372514\n",
       " 0.6640748582488243 \n",
       " 0.8539733791826457 \n",
       " 0.9252970761844344 \n",
       " 1.1458792909060764 \n",
       " 1.29154740222145   \n",
       " 1.4961818748748827 \n",
       " 1.730224876203169  \n",
       " 2.0077754086540636 \n",
       " 2.3141705183580985 \n",
       " 2.6711610637841803 \n",
       " 3.085257330000326  \n",
       " 3.565426495237902  \n",
       " 4.116321573422392  "
      ]
     },
     "execution_count": 9,
     "metadata": {},
     "output_type": "execute_result"
    }
   ],
   "source": [
    "#Here we start the minimization procedure we want to find α:= argmin mini(α)\n",
    "\n",
    "#Solver stuff\n",
    "#lower and upper bound of the parameters:\n",
    "lower = zeros(length(initial))\n",
    "upper = Inf*ones(length(initial))\n",
    "#Optimizer method is BFGS, see Judd's book page 114 for an explanation:\n",
    "inner_optimizer = BFGS()\n",
    "\n",
    "#Solver:\n",
    "bla = optimize(mini,lower,upper,initial, Fminbox(inner_optimizer))\n",
    "#Parameters\n",
    "α = vcat(0,bla.minimizer) #we need to concatenate to include the boundary condition"
   ]
  },
  {
   "cell_type": "code",
   "execution_count": 10,
   "metadata": {},
   "outputs": [
    {
     "data": {
      "text/plain": [
       "8.706464890141266e-6"
      ]
     },
     "execution_count": 10,
     "metadata": {},
     "output_type": "execute_result"
    }
   ],
   "source": [
    "#Checking if the residual is low at the solution\n",
    "mini(α)"
   ]
  },
  {
   "cell_type": "markdown",
   "metadata": {},
   "source": [
    "Below, we plot the approximate consumption function and the true one. As we can see, the approximation is barely indistinguible from the true function."
   ]
  },
  {
   "cell_type": "code",
   "execution_count": 11,
   "metadata": {},
   "outputs": [
    {
     "data": {
      "image/svg+xml": [
       "<?xml version=\"1.0\" encoding=\"utf-8\"?>\n",
       "<svg xmlns=\"http://www.w3.org/2000/svg\" xmlns:xlink=\"http://www.w3.org/1999/xlink\" width=\"600\" height=\"400\" viewBox=\"0 0 2400 1600\">\n",
       "<defs>\n",
       "  <clipPath id=\"clip4500\">\n",
       "    <rect x=\"0\" y=\"0\" width=\"2000\" height=\"2000\"/>\n",
       "  </clipPath>\n",
       "</defs>\n",
       "<defs>\n",
       "  <clipPath id=\"clip4501\">\n",
       "    <rect x=\"0\" y=\"0\" width=\"2400\" height=\"1600\"/>\n",
       "  </clipPath>\n",
       "</defs>\n",
       "<polygon clip-path=\"url(#clip4501)\" points=\"\n",
       "0,1600 2400,1600 2400,0 0,0 \n",
       "  \" fill=\"#ffffff\" fill-rule=\"evenodd\" fill-opacity=\"1\"/>\n",
       "<defs>\n",
       "  <clipPath id=\"clip4502\">\n",
       "    <rect x=\"480\" y=\"0\" width=\"1681\" height=\"1600\"/>\n",
       "  </clipPath>\n",
       "</defs>\n",
       "<polygon clip-path=\"url(#clip4501)\" points=\"\n",
       "121.251,1503.47 2321.26,1503.47 2321.26,47.2441 121.251,47.2441 \n",
       "  \" fill=\"#ffffff\" fill-rule=\"evenodd\" fill-opacity=\"1\"/>\n",
       "<defs>\n",
       "  <clipPath id=\"clip4503\">\n",
       "    <rect x=\"121\" y=\"47\" width=\"2201\" height=\"1457\"/>\n",
       "  </clipPath>\n",
       "</defs>\n",
       "<polyline clip-path=\"url(#clip4503)\" style=\"stroke:#000000; stroke-width:2; stroke-opacity:0.1; fill:none\" points=\"\n",
       "  183.515,1503.47 183.515,47.2441 \n",
       "  \"/>\n",
       "<polyline clip-path=\"url(#clip4503)\" style=\"stroke:#000000; stroke-width:2; stroke-opacity:0.1; fill:none\" points=\"\n",
       "  704.992,1503.47 704.992,47.2441 \n",
       "  \"/>\n",
       "<polyline clip-path=\"url(#clip4503)\" style=\"stroke:#000000; stroke-width:2; stroke-opacity:0.1; fill:none\" points=\"\n",
       "  1226.47,1503.47 1226.47,47.2441 \n",
       "  \"/>\n",
       "<polyline clip-path=\"url(#clip4503)\" style=\"stroke:#000000; stroke-width:2; stroke-opacity:0.1; fill:none\" points=\"\n",
       "  1747.95,1503.47 1747.95,47.2441 \n",
       "  \"/>\n",
       "<polyline clip-path=\"url(#clip4503)\" style=\"stroke:#000000; stroke-width:2; stroke-opacity:0.1; fill:none\" points=\"\n",
       "  2269.42,1503.47 2269.42,47.2441 \n",
       "  \"/>\n",
       "<polyline clip-path=\"url(#clip4503)\" style=\"stroke:#000000; stroke-width:2; stroke-opacity:0.1; fill:none\" points=\"\n",
       "  121.251,1462.26 2321.26,1462.26 \n",
       "  \"/>\n",
       "<polyline clip-path=\"url(#clip4503)\" style=\"stroke:#000000; stroke-width:2; stroke-opacity:0.1; fill:none\" points=\"\n",
       "  121.251,1128.41 2321.26,1128.41 \n",
       "  \"/>\n",
       "<polyline clip-path=\"url(#clip4503)\" style=\"stroke:#000000; stroke-width:2; stroke-opacity:0.1; fill:none\" points=\"\n",
       "  121.251,794.551 2321.26,794.551 \n",
       "  \"/>\n",
       "<polyline clip-path=\"url(#clip4503)\" style=\"stroke:#000000; stroke-width:2; stroke-opacity:0.1; fill:none\" points=\"\n",
       "  121.251,460.696 2321.26,460.696 \n",
       "  \"/>\n",
       "<polyline clip-path=\"url(#clip4503)\" style=\"stroke:#000000; stroke-width:2; stroke-opacity:0.1; fill:none\" points=\"\n",
       "  121.251,126.841 2321.26,126.841 \n",
       "  \"/>\n",
       "<polyline clip-path=\"url(#clip4501)\" style=\"stroke:#000000; stroke-width:4; stroke-opacity:1; fill:none\" points=\"\n",
       "  121.251,1503.47 2321.26,1503.47 \n",
       "  \"/>\n",
       "<polyline clip-path=\"url(#clip4501)\" style=\"stroke:#000000; stroke-width:4; stroke-opacity:1; fill:none\" points=\"\n",
       "  121.251,1503.47 121.251,47.2441 \n",
       "  \"/>\n",
       "<polyline clip-path=\"url(#clip4501)\" style=\"stroke:#000000; stroke-width:4; stroke-opacity:1; fill:none\" points=\"\n",
       "  183.515,1503.47 183.515,1481.63 \n",
       "  \"/>\n",
       "<polyline clip-path=\"url(#clip4501)\" style=\"stroke:#000000; stroke-width:4; stroke-opacity:1; fill:none\" points=\"\n",
       "  704.992,1503.47 704.992,1481.63 \n",
       "  \"/>\n",
       "<polyline clip-path=\"url(#clip4501)\" style=\"stroke:#000000; stroke-width:4; stroke-opacity:1; fill:none\" points=\"\n",
       "  1226.47,1503.47 1226.47,1481.63 \n",
       "  \"/>\n",
       "<polyline clip-path=\"url(#clip4501)\" style=\"stroke:#000000; stroke-width:4; stroke-opacity:1; fill:none\" points=\"\n",
       "  1747.95,1503.47 1747.95,1481.63 \n",
       "  \"/>\n",
       "<polyline clip-path=\"url(#clip4501)\" style=\"stroke:#000000; stroke-width:4; stroke-opacity:1; fill:none\" points=\"\n",
       "  2269.42,1503.47 2269.42,1481.63 \n",
       "  \"/>\n",
       "<polyline clip-path=\"url(#clip4501)\" style=\"stroke:#000000; stroke-width:4; stroke-opacity:1; fill:none\" points=\"\n",
       "  121.251,1462.26 154.251,1462.26 \n",
       "  \"/>\n",
       "<polyline clip-path=\"url(#clip4501)\" style=\"stroke:#000000; stroke-width:4; stroke-opacity:1; fill:none\" points=\"\n",
       "  121.251,1128.41 154.251,1128.41 \n",
       "  \"/>\n",
       "<polyline clip-path=\"url(#clip4501)\" style=\"stroke:#000000; stroke-width:4; stroke-opacity:1; fill:none\" points=\"\n",
       "  121.251,794.551 154.251,794.551 \n",
       "  \"/>\n",
       "<polyline clip-path=\"url(#clip4501)\" style=\"stroke:#000000; stroke-width:4; stroke-opacity:1; fill:none\" points=\"\n",
       "  121.251,460.696 154.251,460.696 \n",
       "  \"/>\n",
       "<polyline clip-path=\"url(#clip4501)\" style=\"stroke:#000000; stroke-width:4; stroke-opacity:1; fill:none\" points=\"\n",
       "  121.251,126.841 154.251,126.841 \n",
       "  \"/>\n",
       "<g clip-path=\"url(#clip4501)\">\n",
       "<text style=\"fill:#000000; fill-opacity:1; font-family:Arial,Helvetica Neue,Helvetica,sans-serif; font-size:48px; text-anchor:middle;\" transform=\"rotate(0, 183.515, 1557.47)\" x=\"183.515\" y=\"1557.47\">0.0</text>\n",
       "</g>\n",
       "<g clip-path=\"url(#clip4501)\">\n",
       "<text style=\"fill:#000000; fill-opacity:1; font-family:Arial,Helvetica Neue,Helvetica,sans-serif; font-size:48px; text-anchor:middle;\" transform=\"rotate(0, 704.992, 1557.47)\" x=\"704.992\" y=\"1557.47\">0.5</text>\n",
       "</g>\n",
       "<g clip-path=\"url(#clip4501)\">\n",
       "<text style=\"fill:#000000; fill-opacity:1; font-family:Arial,Helvetica Neue,Helvetica,sans-serif; font-size:48px; text-anchor:middle;\" transform=\"rotate(0, 1226.47, 1557.47)\" x=\"1226.47\" y=\"1557.47\">1.0</text>\n",
       "</g>\n",
       "<g clip-path=\"url(#clip4501)\">\n",
       "<text style=\"fill:#000000; fill-opacity:1; font-family:Arial,Helvetica Neue,Helvetica,sans-serif; font-size:48px; text-anchor:middle;\" transform=\"rotate(0, 1747.95, 1557.47)\" x=\"1747.95\" y=\"1557.47\">1.5</text>\n",
       "</g>\n",
       "<g clip-path=\"url(#clip4501)\">\n",
       "<text style=\"fill:#000000; fill-opacity:1; font-family:Arial,Helvetica Neue,Helvetica,sans-serif; font-size:48px; text-anchor:middle;\" transform=\"rotate(0, 2269.42, 1557.47)\" x=\"2269.42\" y=\"1557.47\">2.0</text>\n",
       "</g>\n",
       "<g clip-path=\"url(#clip4501)\">\n",
       "<text style=\"fill:#000000; fill-opacity:1; font-family:Arial,Helvetica Neue,Helvetica,sans-serif; font-size:48px; text-anchor:end;\" transform=\"rotate(0, 97.2505, 1479.76)\" x=\"97.2505\" y=\"1479.76\">0</text>\n",
       "</g>\n",
       "<g clip-path=\"url(#clip4501)\">\n",
       "<text style=\"fill:#000000; fill-opacity:1; font-family:Arial,Helvetica Neue,Helvetica,sans-serif; font-size:48px; text-anchor:end;\" transform=\"rotate(0, 97.2505, 1145.91)\" x=\"97.2505\" y=\"1145.91\">1</text>\n",
       "</g>\n",
       "<g clip-path=\"url(#clip4501)\">\n",
       "<text style=\"fill:#000000; fill-opacity:1; font-family:Arial,Helvetica Neue,Helvetica,sans-serif; font-size:48px; text-anchor:end;\" transform=\"rotate(0, 97.2505, 812.051)\" x=\"97.2505\" y=\"812.051\">2</text>\n",
       "</g>\n",
       "<g clip-path=\"url(#clip4501)\">\n",
       "<text style=\"fill:#000000; fill-opacity:1; font-family:Arial,Helvetica Neue,Helvetica,sans-serif; font-size:48px; text-anchor:end;\" transform=\"rotate(0, 97.2505, 478.196)\" x=\"97.2505\" y=\"478.196\">3</text>\n",
       "</g>\n",
       "<g clip-path=\"url(#clip4501)\">\n",
       "<text style=\"fill:#000000; fill-opacity:1; font-family:Arial,Helvetica Neue,Helvetica,sans-serif; font-size:48px; text-anchor:end;\" transform=\"rotate(0, 97.2505, 144.341)\" x=\"97.2505\" y=\"144.341\">4</text>\n",
       "</g>\n",
       "<polyline clip-path=\"url(#clip4503)\" style=\"stroke:#009af9; stroke-width:4; stroke-opacity:1; fill:none\" points=\"\n",
       "  183.515,1462.26 193.944,1090.51 204.374,1029.1 214.804,985.458 225.233,949.268 235.663,921.156 246.092,893.044 256.522,871.468 266.951,852.69 277.381,833.912 \n",
       "  287.81,815.134 298.24,796.356 308.67,783.015 319.099,771.339 329.529,759.663 339.958,747.986 350.388,736.31 360.817,724.634 371.247,712.958 381.676,701.281 \n",
       "  392.106,689.625 402.535,681.962 412.965,674.299 423.395,666.636 433.824,658.973 444.254,651.31 454.683,643.648 465.113,635.985 475.542,628.322 485.972,620.659 \n",
       "  496.401,612.996 506.831,605.333 517.261,597.67 527.69,590.007 538.12,582.344 548.549,574.681 558.979,568.218 569.408,563.212 579.838,558.205 590.267,553.198 \n",
       "  600.697,548.191 611.127,543.185 621.556,538.178 631.986,533.171 642.415,528.164 652.845,523.158 663.274,518.151 673.704,513.144 684.133,508.138 694.563,503.131 \n",
       "  704.992,498.124 715.422,493.117 725.852,488.111 736.281,483.104 746.711,478.097 757.14,473.09 767.57,468.084 777.999,463.077 788.429,458.07 798.858,453.064 \n",
       "  809.288,448.057 819.718,443.05 830.147,438.043 840.577,433.037 851.006,429.487 861.436,426.217 871.865,422.947 882.295,419.677 892.724,416.407 903.154,413.137 \n",
       "  913.583,409.867 924.013,406.597 934.443,403.327 944.872,400.057 955.302,396.786 965.731,393.516 976.161,390.246 986.59,386.976 997.02,383.706 1007.45,380.436 \n",
       "  1017.88,377.166 1028.31,373.896 1038.74,370.626 1049.17,367.355 1059.6,364.085 1070.03,360.815 1080.46,357.545 1090.89,354.275 1101.32,351.005 1111.74,347.735 \n",
       "  1122.17,344.465 1132.6,341.195 1143.03,337.925 1153.46,334.654 1163.89,331.384 1174.32,328.114 1184.75,324.844 1195.18,321.574 1205.61,318.304 1216.04,315.034 \n",
       "  1226.47,311.764 1236.9,308.494 1247.33,305.223 1257.76,301.953 1268.19,298.683 1278.62,295.413 1289.05,292.143 1299.48,288.873 1309.91,285.603 1320.34,282.333 \n",
       "  1330.77,279.063 1341.2,275.793 1351.62,272.522 1362.05,270.198 1372.48,268.085 1382.91,265.971 1393.34,263.858 1403.77,261.745 1414.2,259.632 1424.63,257.518 \n",
       "  1435.06,255.405 1445.49,253.292 1455.92,251.179 1466.35,249.065 1476.78,246.952 1487.21,244.839 1497.64,242.726 1508.07,240.612 1518.5,238.499 1528.93,236.386 \n",
       "  1539.36,234.273 1549.79,232.159 1560.22,230.046 1570.65,227.933 1581.07,225.82 1591.5,223.706 1601.93,221.593 1612.36,219.48 1622.79,217.367 1633.22,215.253 \n",
       "  1643.65,213.14 1654.08,211.027 1664.51,208.914 1674.94,206.8 1685.37,204.687 1695.8,202.574 1706.23,200.461 1716.66,198.347 1727.09,196.234 1737.52,194.121 \n",
       "  1747.95,192.008 1758.38,189.894 1768.81,187.781 1779.24,185.668 1789.67,183.555 1800.1,181.441 1810.52,179.328 1820.95,177.215 1831.38,175.102 1841.81,172.988 \n",
       "  1852.24,170.875 1862.67,168.762 1873.1,166.649 1883.53,164.535 1893.96,162.422 1904.39,160.309 1914.82,158.195 1925.25,156.082 1935.68,153.969 1946.11,151.856 \n",
       "  1956.54,149.742 1966.97,147.629 1977.4,145.516 1987.83,143.403 1998.26,141.289 2008.69,139.176 2019.12,137.063 2029.55,134.95 2039.97,132.836 2050.4,130.723 \n",
       "  2060.83,128.61 2071.26,126.497 2081.69,124.383 2092.12,122.27 2102.55,120.157 2112.98,118.044 2123.41,115.93 2133.84,113.817 2144.27,111.704 2154.7,109.591 \n",
       "  2165.13,107.477 2175.56,105.364 2185.99,103.251 2196.42,101.138 2206.85,99.0244 2217.28,96.9112 2227.71,94.7979 2238.14,92.6847 2248.57,90.5714 2259,88.4582 \n",
       "  \n",
       "  \"/>\n",
       "<polyline clip-path=\"url(#clip4503)\" style=\"stroke:#e26f46; stroke-width:4; stroke-opacity:1; fill:none\" points=\"\n",
       "  183.515,1462.26 193.944,1098.62 204.374,1029.81 214.804,983.678 225.233,947.99 235.663,918.485 246.092,893.126 256.522,870.765 266.951,850.686 277.381,832.41 \n",
       "  287.81,815.599 298.24,800.006 308.67,785.442 319.099,771.762 329.529,758.85 339.958,746.612 350.388,734.972 360.817,723.865 371.247,713.238 381.676,703.044 \n",
       "  392.106,693.246 402.535,683.809 412.965,674.702 423.395,665.901 433.824,657.383 444.254,649.127 454.683,641.115 465.113,633.33 475.542,625.759 485.972,618.389 \n",
       "  496.401,611.206 506.831,604.201 517.261,597.363 527.69,590.684 538.12,584.155 548.549,577.768 558.979,571.517 569.408,565.395 579.838,559.395 590.267,553.513 \n",
       "  600.697,547.743 611.127,542.08 621.556,536.52 631.986,531.058 642.415,525.691 652.845,520.414 663.274,515.225 673.704,510.119 684.133,505.094 694.563,500.148 \n",
       "  704.992,495.276 715.422,490.477 725.852,485.748 736.281,481.087 746.711,476.491 757.14,471.958 767.57,467.487 777.999,463.076 788.429,458.722 798.858,454.424 \n",
       "  809.288,450.181 819.718,445.99 830.147,441.85 840.577,437.76 851.006,433.719 861.436,429.724 871.865,425.776 882.295,421.872 892.724,418.011 903.154,414.193 \n",
       "  913.583,410.416 924.013,406.679 934.443,402.982 944.872,399.323 955.302,395.701 965.731,392.116 976.161,388.567 986.59,385.052 997.02,381.572 1007.45,378.124 \n",
       "  1017.88,374.71 1028.31,371.327 1038.74,367.975 1049.17,364.654 1059.6,361.363 1070.03,358.101 1080.46,354.868 1090.89,351.663 1101.32,348.485 1111.74,345.334 \n",
       "  1122.17,342.21 1132.6,339.112 1143.03,336.039 1153.46,332.991 1163.89,329.967 1174.32,326.968 1184.75,323.992 1195.18,321.039 1205.61,318.109 1216.04,315.201 \n",
       "  1226.47,312.316 1236.9,309.451 1247.33,306.609 1257.76,303.786 1268.19,300.985 1278.62,298.203 1289.05,295.442 1299.48,292.699 1309.91,289.976 1320.34,287.272 \n",
       "  1330.77,284.586 1341.2,281.919 1351.62,279.269 1362.05,276.637 1372.48,274.023 1382.91,271.426 1393.34,268.845 1403.77,266.282 1414.2,263.734 1424.63,261.203 \n",
       "  1435.06,258.688 1445.49,256.188 1455.92,253.704 1466.35,251.235 1476.78,248.781 1487.21,246.342 1497.64,243.917 1508.07,241.507 1518.5,239.111 1528.93,236.729 \n",
       "  1539.36,234.361 1549.79,232.006 1560.22,229.665 1570.65,227.337 1581.07,225.023 1591.5,222.721 1601.93,220.432 1612.36,218.155 1622.79,215.891 1633.22,213.639 \n",
       "  1643.65,211.4 1654.08,209.172 1664.51,206.956 1674.94,204.752 1685.37,202.559 1695.8,200.378 1706.23,198.208 1716.66,196.049 1727.09,193.901 1737.52,191.764 \n",
       "  1747.95,189.637 1758.38,187.522 1768.81,185.416 1779.24,183.321 1789.67,181.237 1800.1,179.162 1810.52,177.098 1820.95,175.043 1831.38,172.998 1841.81,170.963 \n",
       "  1852.24,168.937 1862.67,166.921 1873.1,164.915 1883.53,162.917 1893.96,160.929 1904.39,158.95 1914.82,156.979 1925.25,155.018 1935.68,153.065 1946.11,151.122 \n",
       "  1956.54,149.186 1966.97,147.26 1977.4,145.341 1987.83,143.431 1998.26,141.53 2008.69,139.636 2019.12,137.751 2029.55,135.873 2039.97,134.004 2050.4,132.142 \n",
       "  2060.83,130.288 2071.26,128.442 2081.69,126.604 2092.12,124.773 2102.55,122.949 2112.98,121.133 2123.41,119.325 2133.84,117.523 2144.27,115.729 2154.7,113.942 \n",
       "  2165.13,112.162 2175.56,110.389 2185.99,108.623 2196.42,106.864 2206.85,105.112 2217.28,103.366 2227.71,101.627 2238.14,99.8952 2248.57,98.1695 2259,96.4505 \n",
       "  \n",
       "  \"/>\n",
       "<polygon clip-path=\"url(#clip4501)\" points=\"\n",
       "1701.64,1359.47 2249.26,1359.47 2249.26,1178.03 1701.64,1178.03 \n",
       "  \" fill=\"#ffffff\" fill-rule=\"evenodd\" fill-opacity=\"1\"/>\n",
       "<polyline clip-path=\"url(#clip4501)\" style=\"stroke:#000000; stroke-width:4; stroke-opacity:1; fill:none\" points=\"\n",
       "  1701.64,1359.47 2249.26,1359.47 2249.26,1178.03 1701.64,1178.03 1701.64,1359.47 \n",
       "  \"/>\n",
       "<polyline clip-path=\"url(#clip4501)\" style=\"stroke:#009af9; stroke-width:4; stroke-opacity:1; fill:none\" points=\"\n",
       "  1725.64,1238.51 1869.64,1238.51 \n",
       "  \"/>\n",
       "<g clip-path=\"url(#clip4501)\">\n",
       "<text style=\"fill:#000000; fill-opacity:1; font-family:Arial,Helvetica Neue,Helvetica,sans-serif; font-size:48px; text-anchor:start;\" transform=\"rotate(0, 1893.64, 1256.01)\" x=\"1893.64\" y=\"1256.01\">Approximation</text>\n",
       "</g>\n",
       "<polyline clip-path=\"url(#clip4501)\" style=\"stroke:#e26f46; stroke-width:4; stroke-opacity:1; fill:none\" points=\"\n",
       "  1725.64,1298.99 1869.64,1298.99 \n",
       "  \"/>\n",
       "<g clip-path=\"url(#clip4501)\">\n",
       "<text style=\"fill:#000000; fill-opacity:1; font-family:Arial,Helvetica Neue,Helvetica,sans-serif; font-size:48px; text-anchor:start;\" transform=\"rotate(0, 1893.64, 1316.49)\" x=\"1893.64\" y=\"1316.49\">True Function</text>\n",
       "</g>\n",
       "</svg>\n"
      ]
     },
     "execution_count": 11,
     "metadata": {},
     "output_type": "execute_result"
    }
   ],
   "source": [
    "#Plotting\n",
    "k=K[1]:0.01:K[end]\n",
    "\n",
    "c(k) = (1-β*θ)*A*k^θ\n",
    "polkplot(k) = polk(k,α)\n",
    "cnplot(k) = cn(k,α)\n",
    "plot(k,[cnplot.(k),c.(k)],label=[\"Approximation\" \"True Function\"],legend=:bottomright)"
   ]
  },
  {
   "cell_type": "markdown",
   "metadata": {},
   "source": [
    "Now, we do the same procedure for a case with $\\delta =0.05$. Note that now we can't compare to a known formula, but the shape should be similar to the one above."
   ]
  },
  {
   "cell_type": "code",
   "execution_count": 12,
   "metadata": {},
   "outputs": [
    {
     "data": {
      "text/plain": [
       "residual (generic function with 1 method)"
      ]
     },
     "execution_count": 12,
     "metadata": {},
     "output_type": "execute_result"
    }
   ],
   "source": [
    "#New parameters\n",
    "δ = 0.05\n",
    "A = (1-β*(1-δ))/(θ * β) #This will normalize the SS to 1\n",
    "\n",
    "kss = ((1- β*(1-δ))/(β*A*θ))^(1/(θ-1))\n",
    "\n",
    "polk(k,α) = min(max(eps(),A*k.^θ+(1-δ)*k-cn(k,α)),K[end]) #capital policy function from Bugdet constraint\n",
    "\n",
    "function residual(k,α) #Residual function comes from FOCs\n",
    "        R = β * cn(k,α)/cn(polk(k,α),α)  * (A*θ*polk(k,α)^(θ-1)+1-δ)- 1\n",
    "    return R\n",
    "end"
   ]
  },
  {
   "cell_type": "code",
   "execution_count": 13,
   "metadata": {},
   "outputs": [
    {
     "data": {
      "text/plain": [
       "0.560172602119699"
      ]
     },
     "execution_count": 13,
     "metadata": {},
     "output_type": "execute_result"
    }
   ],
   "source": [
    "initial = ones(length(K)-1)*0.0035\n",
    "for i=2:length(initial)\n",
    "    global initial\n",
    "    initial[i] = initial[i-1] +0.000265*exp(0.589*(i-2))\n",
    "end\n",
    "initial\n",
    "#initial = ones(length(K)-1)*0.1.*range(0.03,stop = 8,length = length(K)-1)\n",
    "mini(initial)"
   ]
  },
  {
   "cell_type": "code",
   "execution_count": 14,
   "metadata": {},
   "outputs": [
    {
     "data": {
      "text/plain": [
       "15-element Array{Float64,1}:\n",
       " 0.0                 \n",
       " 0.01239167265675882 \n",
       " 0.09230419026395284 \n",
       " 0.021151728251957085\n",
       " 0.115504132550029   \n",
       " 0.12844822914611462 \n",
       " 0.15135403379323256 \n",
       " 0.17588563782962213 \n",
       " 0.20737801051704224 \n",
       " 0.24777147103586775 \n",
       " 0.3013961059132636  \n",
       " 0.3754319853414289  \n",
       " 0.4808309867565117  \n",
       " 0.6344669728788809  \n",
       " 0.852052586048369   "
      ]
     },
     "execution_count": 14,
     "metadata": {},
     "output_type": "execute_result"
    }
   ],
   "source": [
    "#Solver stuff\n",
    "#lower and upper bound of the parameters:\n",
    "lower = zeros(length(initial))\n",
    "upper = Inf*ones(length(initial))\n",
    "#Optimizer method is BFGS, see Judd's book page 114 for an explanation:\n",
    "inner_optimizer = BFGS()\n",
    "\n",
    "#Solver:\n",
    "bla = optimize(mini,lower,upper,initial, Fminbox(inner_optimizer))\n",
    "#Parameters\n",
    "α = vcat(0,bla.minimizer)"
   ]
  },
  {
   "cell_type": "code",
   "execution_count": 15,
   "metadata": {},
   "outputs": [
    {
     "data": {
      "image/svg+xml": [
       "<?xml version=\"1.0\" encoding=\"utf-8\"?>\n",
       "<svg xmlns=\"http://www.w3.org/2000/svg\" xmlns:xlink=\"http://www.w3.org/1999/xlink\" width=\"600\" height=\"400\" viewBox=\"0 0 2400 1600\">\n",
       "<defs>\n",
       "  <clipPath id=\"clip4700\">\n",
       "    <rect x=\"0\" y=\"0\" width=\"2000\" height=\"2000\"/>\n",
       "  </clipPath>\n",
       "</defs>\n",
       "<defs>\n",
       "  <clipPath id=\"clip4701\">\n",
       "    <rect x=\"0\" y=\"0\" width=\"2400\" height=\"1600\"/>\n",
       "  </clipPath>\n",
       "</defs>\n",
       "<polygon clip-path=\"url(#clip4701)\" points=\"\n",
       "0,1600 2400,1600 2400,0 0,0 \n",
       "  \" fill=\"#ffffff\" fill-rule=\"evenodd\" fill-opacity=\"1\"/>\n",
       "<defs>\n",
       "  <clipPath id=\"clip4702\">\n",
       "    <rect x=\"480\" y=\"0\" width=\"1681\" height=\"1600\"/>\n",
       "  </clipPath>\n",
       "</defs>\n",
       "<polygon clip-path=\"url(#clip4701)\" points=\"\n",
       "161.394,1503.47 2321.26,1503.47 2321.26,47.2441 161.394,47.2441 \n",
       "  \" fill=\"#ffffff\" fill-rule=\"evenodd\" fill-opacity=\"1\"/>\n",
       "<defs>\n",
       "  <clipPath id=\"clip4703\">\n",
       "    <rect x=\"161\" y=\"47\" width=\"2161\" height=\"1457\"/>\n",
       "  </clipPath>\n",
       "</defs>\n",
       "<polyline clip-path=\"url(#clip4703)\" style=\"stroke:#000000; stroke-width:2; stroke-opacity:0.1; fill:none\" points=\"\n",
       "  222.522,1503.47 222.522,47.2441 \n",
       "  \"/>\n",
       "<polyline clip-path=\"url(#clip4703)\" style=\"stroke:#000000; stroke-width:2; stroke-opacity:0.1; fill:none\" points=\"\n",
       "  734.484,1503.47 734.484,47.2441 \n",
       "  \"/>\n",
       "<polyline clip-path=\"url(#clip4703)\" style=\"stroke:#000000; stroke-width:2; stroke-opacity:0.1; fill:none\" points=\"\n",
       "  1246.45,1503.47 1246.45,47.2441 \n",
       "  \"/>\n",
       "<polyline clip-path=\"url(#clip4703)\" style=\"stroke:#000000; stroke-width:2; stroke-opacity:0.1; fill:none\" points=\"\n",
       "  1758.41,1503.47 1758.41,47.2441 \n",
       "  \"/>\n",
       "<polyline clip-path=\"url(#clip4703)\" style=\"stroke:#000000; stroke-width:2; stroke-opacity:0.1; fill:none\" points=\"\n",
       "  2270.37,1503.47 2270.37,47.2441 \n",
       "  \"/>\n",
       "<polyline clip-path=\"url(#clip4703)\" style=\"stroke:#000000; stroke-width:2; stroke-opacity:0.1; fill:none\" points=\"\n",
       "  161.394,1462.26 2321.26,1462.26 \n",
       "  \"/>\n",
       "<polyline clip-path=\"url(#clip4703)\" style=\"stroke:#000000; stroke-width:2; stroke-opacity:0.1; fill:none\" points=\"\n",
       "  161.394,1139.59 2321.26,1139.59 \n",
       "  \"/>\n",
       "<polyline clip-path=\"url(#clip4703)\" style=\"stroke:#000000; stroke-width:2; stroke-opacity:0.1; fill:none\" points=\"\n",
       "  161.394,816.918 2321.26,816.918 \n",
       "  \"/>\n",
       "<polyline clip-path=\"url(#clip4703)\" style=\"stroke:#000000; stroke-width:2; stroke-opacity:0.1; fill:none\" points=\"\n",
       "  161.394,494.246 2321.26,494.246 \n",
       "  \"/>\n",
       "<polyline clip-path=\"url(#clip4703)\" style=\"stroke:#000000; stroke-width:2; stroke-opacity:0.1; fill:none\" points=\"\n",
       "  161.394,171.575 2321.26,171.575 \n",
       "  \"/>\n",
       "<polyline clip-path=\"url(#clip4701)\" style=\"stroke:#000000; stroke-width:4; stroke-opacity:1; fill:none\" points=\"\n",
       "  161.394,1503.47 2321.26,1503.47 \n",
       "  \"/>\n",
       "<polyline clip-path=\"url(#clip4701)\" style=\"stroke:#000000; stroke-width:4; stroke-opacity:1; fill:none\" points=\"\n",
       "  161.394,1503.47 161.394,47.2441 \n",
       "  \"/>\n",
       "<polyline clip-path=\"url(#clip4701)\" style=\"stroke:#000000; stroke-width:4; stroke-opacity:1; fill:none\" points=\"\n",
       "  222.522,1503.47 222.522,1481.63 \n",
       "  \"/>\n",
       "<polyline clip-path=\"url(#clip4701)\" style=\"stroke:#000000; stroke-width:4; stroke-opacity:1; fill:none\" points=\"\n",
       "  734.484,1503.47 734.484,1481.63 \n",
       "  \"/>\n",
       "<polyline clip-path=\"url(#clip4701)\" style=\"stroke:#000000; stroke-width:4; stroke-opacity:1; fill:none\" points=\"\n",
       "  1246.45,1503.47 1246.45,1481.63 \n",
       "  \"/>\n",
       "<polyline clip-path=\"url(#clip4701)\" style=\"stroke:#000000; stroke-width:4; stroke-opacity:1; fill:none\" points=\"\n",
       "  1758.41,1503.47 1758.41,1481.63 \n",
       "  \"/>\n",
       "<polyline clip-path=\"url(#clip4701)\" style=\"stroke:#000000; stroke-width:4; stroke-opacity:1; fill:none\" points=\"\n",
       "  2270.37,1503.47 2270.37,1481.63 \n",
       "  \"/>\n",
       "<polyline clip-path=\"url(#clip4701)\" style=\"stroke:#000000; stroke-width:4; stroke-opacity:1; fill:none\" points=\"\n",
       "  161.394,1462.26 193.792,1462.26 \n",
       "  \"/>\n",
       "<polyline clip-path=\"url(#clip4701)\" style=\"stroke:#000000; stroke-width:4; stroke-opacity:1; fill:none\" points=\"\n",
       "  161.394,1139.59 193.792,1139.59 \n",
       "  \"/>\n",
       "<polyline clip-path=\"url(#clip4701)\" style=\"stroke:#000000; stroke-width:4; stroke-opacity:1; fill:none\" points=\"\n",
       "  161.394,816.918 193.792,816.918 \n",
       "  \"/>\n",
       "<polyline clip-path=\"url(#clip4701)\" style=\"stroke:#000000; stroke-width:4; stroke-opacity:1; fill:none\" points=\"\n",
       "  161.394,494.246 193.792,494.246 \n",
       "  \"/>\n",
       "<polyline clip-path=\"url(#clip4701)\" style=\"stroke:#000000; stroke-width:4; stroke-opacity:1; fill:none\" points=\"\n",
       "  161.394,171.575 193.792,171.575 \n",
       "  \"/>\n",
       "<g clip-path=\"url(#clip4701)\">\n",
       "<text style=\"fill:#000000; fill-opacity:1; font-family:Arial,Helvetica Neue,Helvetica,sans-serif; font-size:48px; text-anchor:middle;\" transform=\"rotate(0, 222.522, 1557.47)\" x=\"222.522\" y=\"1557.47\">0.0</text>\n",
       "</g>\n",
       "<g clip-path=\"url(#clip4701)\">\n",
       "<text style=\"fill:#000000; fill-opacity:1; font-family:Arial,Helvetica Neue,Helvetica,sans-serif; font-size:48px; text-anchor:middle;\" transform=\"rotate(0, 734.484, 1557.47)\" x=\"734.484\" y=\"1557.47\">0.5</text>\n",
       "</g>\n",
       "<g clip-path=\"url(#clip4701)\">\n",
       "<text style=\"fill:#000000; fill-opacity:1; font-family:Arial,Helvetica Neue,Helvetica,sans-serif; font-size:48px; text-anchor:middle;\" transform=\"rotate(0, 1246.45, 1557.47)\" x=\"1246.45\" y=\"1557.47\">1.0</text>\n",
       "</g>\n",
       "<g clip-path=\"url(#clip4701)\">\n",
       "<text style=\"fill:#000000; fill-opacity:1; font-family:Arial,Helvetica Neue,Helvetica,sans-serif; font-size:48px; text-anchor:middle;\" transform=\"rotate(0, 1758.41, 1557.47)\" x=\"1758.41\" y=\"1557.47\">1.5</text>\n",
       "</g>\n",
       "<g clip-path=\"url(#clip4701)\">\n",
       "<text style=\"fill:#000000; fill-opacity:1; font-family:Arial,Helvetica Neue,Helvetica,sans-serif; font-size:48px; text-anchor:middle;\" transform=\"rotate(0, 2270.37, 1557.47)\" x=\"2270.37\" y=\"1557.47\">2.0</text>\n",
       "</g>\n",
       "<g clip-path=\"url(#clip4701)\">\n",
       "<text style=\"fill:#000000; fill-opacity:1; font-family:Arial,Helvetica Neue,Helvetica,sans-serif; font-size:48px; text-anchor:end;\" transform=\"rotate(0, 137.394, 1479.76)\" x=\"137.394\" y=\"1479.76\">0.0</text>\n",
       "</g>\n",
       "<g clip-path=\"url(#clip4701)\">\n",
       "<text style=\"fill:#000000; fill-opacity:1; font-family:Arial,Helvetica Neue,Helvetica,sans-serif; font-size:48px; text-anchor:end;\" transform=\"rotate(0, 137.394, 1157.09)\" x=\"137.394\" y=\"1157.09\">0.2</text>\n",
       "</g>\n",
       "<g clip-path=\"url(#clip4701)\">\n",
       "<text style=\"fill:#000000; fill-opacity:1; font-family:Arial,Helvetica Neue,Helvetica,sans-serif; font-size:48px; text-anchor:end;\" transform=\"rotate(0, 137.394, 834.418)\" x=\"137.394\" y=\"834.418\">0.4</text>\n",
       "</g>\n",
       "<g clip-path=\"url(#clip4701)\">\n",
       "<text style=\"fill:#000000; fill-opacity:1; font-family:Arial,Helvetica Neue,Helvetica,sans-serif; font-size:48px; text-anchor:end;\" transform=\"rotate(0, 137.394, 511.746)\" x=\"137.394\" y=\"511.746\">0.6</text>\n",
       "</g>\n",
       "<g clip-path=\"url(#clip4701)\">\n",
       "<text style=\"fill:#000000; fill-opacity:1; font-family:Arial,Helvetica Neue,Helvetica,sans-serif; font-size:48px; text-anchor:end;\" transform=\"rotate(0, 137.394, 189.075)\" x=\"137.394\" y=\"189.075\">0.8</text>\n",
       "</g>\n",
       "<polyline clip-path=\"url(#clip4703)\" style=\"stroke:#009af9; stroke-width:4; stroke-opacity:1; fill:none\" points=\"\n",
       "  222.522,1462.26 232.762,1258.09 243.001,1216.93 253.24,1191.65 263.479,1169.73 273.719,1151.45 283.958,1133.17 294.197,1118.44 304.436,1105.23 314.675,1092.03 \n",
       "  324.915,1078.82 335.154,1065.61 345.393,1054.96 355.632,1045.08 365.872,1035.2 376.111,1025.33 386.35,1015.45 396.589,1005.58 406.829,995.703 417.068,985.827 \n",
       "  427.307,975.963 437.546,968.283 447.786,960.603 458.025,952.923 468.264,945.243 478.503,937.563 488.743,929.884 498.982,922.204 509.221,914.524 519.46,906.844 \n",
       "  529.7,899.164 539.939,891.484 550.178,883.805 560.417,876.125 570.657,868.445 580.896,860.765 591.135,853.773 601.374,847.614 611.614,841.456 621.853,835.298 \n",
       "  632.092,829.139 642.331,822.981 652.57,816.823 662.81,810.664 673.049,804.506 683.288,798.348 693.527,792.189 703.767,786.031 714.006,779.873 724.245,773.714 \n",
       "  734.484,767.556 744.724,761.398 754.963,755.24 765.202,749.081 775.441,742.923 785.681,736.765 795.92,730.606 806.159,724.448 816.398,718.29 826.638,712.131 \n",
       "  836.877,705.973 847.116,699.815 857.355,693.656 867.595,687.498 877.834,682.265 888.073,677.208 898.312,672.152 908.552,667.096 918.791,662.039 929.03,656.983 \n",
       "  939.269,651.927 949.509,646.871 959.748,641.814 969.987,636.758 980.226,631.702 990.466,626.645 1000.7,621.589 1010.94,616.533 1021.18,611.476 1031.42,606.42 \n",
       "  1041.66,601.364 1051.9,596.308 1062.14,591.251 1072.38,586.195 1082.62,581.139 1092.86,576.082 1103.1,571.026 1113.34,565.97 1123.58,560.913 1133.81,555.857 \n",
       "  1144.05,550.801 1154.29,545.745 1164.53,540.688 1174.77,535.632 1185.01,530.576 1195.25,525.519 1205.49,520.463 1215.73,515.407 1225.97,510.35 1236.21,505.294 \n",
       "  1246.45,500.238 1256.69,495.181 1266.93,490.125 1277.16,485.069 1287.4,480.013 1297.64,474.956 1307.88,469.9 1318.12,464.844 1328.36,459.787 1338.6,454.731 \n",
       "  1348.84,449.675 1359.08,444.618 1369.32,439.562 1379.56,435.342 1389.8,431.308 1400.04,427.275 1410.27,423.241 1420.51,419.208 1430.75,415.174 1440.99,411.141 \n",
       "  1451.23,407.107 1461.47,403.074 1471.71,399.04 1481.95,395.006 1492.19,390.973 1502.43,386.939 1512.67,382.906 1522.91,378.872 1533.15,374.839 1543.38,370.805 \n",
       "  1553.62,366.772 1563.86,362.738 1574.1,358.705 1584.34,354.671 1594.58,350.638 1604.82,346.604 1615.06,342.571 1625.3,338.537 1635.54,334.504 1645.78,330.47 \n",
       "  1656.02,326.436 1666.26,322.403 1676.49,318.369 1686.73,314.336 1696.97,310.302 1707.21,306.269 1717.45,302.235 1727.69,298.202 1737.93,294.168 1748.17,290.135 \n",
       "  1758.41,286.101 1768.65,282.068 1778.89,278.034 1789.13,274.001 1799.37,269.967 1809.6,265.934 1819.84,261.9 1830.08,257.866 1840.32,253.833 1850.56,249.799 \n",
       "  1860.8,245.766 1871.04,241.732 1881.28,237.699 1891.52,233.665 1901.76,229.632 1912,225.598 1922.24,221.565 1932.48,217.531 1942.72,213.498 1952.95,209.464 \n",
       "  1963.19,205.431 1973.43,201.397 1983.67,197.363 1993.91,193.33 2004.15,189.296 2014.39,185.263 2024.63,181.229 2034.87,177.196 2045.11,173.162 2055.35,169.129 \n",
       "  2065.59,165.095 2075.83,161.062 2086.06,157.028 2096.3,152.995 2106.54,148.961 2116.78,144.928 2127.02,140.894 2137.26,136.861 2147.5,132.827 2157.74,128.793 \n",
       "  2167.98,124.76 2178.22,120.726 2188.46,116.693 2198.7,112.659 2208.94,108.626 2219.17,104.592 2229.41,100.559 2239.65,96.5252 2249.89,92.4917 2260.13,88.4582 \n",
       "  \n",
       "  \"/>\n",
       "<polygon clip-path=\"url(#clip4701)\" points=\"\n",
       "1701.64,1359.47 2249.26,1359.47 2249.26,1238.51 1701.64,1238.51 \n",
       "  \" fill=\"#ffffff\" fill-rule=\"evenodd\" fill-opacity=\"1\"/>\n",
       "<polyline clip-path=\"url(#clip4701)\" style=\"stroke:#000000; stroke-width:4; stroke-opacity:1; fill:none\" points=\"\n",
       "  1701.64,1359.47 2249.26,1359.47 2249.26,1238.51 1701.64,1238.51 1701.64,1359.47 \n",
       "  \"/>\n",
       "<polyline clip-path=\"url(#clip4701)\" style=\"stroke:#009af9; stroke-width:4; stroke-opacity:1; fill:none\" points=\"\n",
       "  1725.64,1298.99 1869.64,1298.99 \n",
       "  \"/>\n",
       "<g clip-path=\"url(#clip4701)\">\n",
       "<text style=\"fill:#000000; fill-opacity:1; font-family:Arial,Helvetica Neue,Helvetica,sans-serif; font-size:48px; text-anchor:start;\" transform=\"rotate(0, 1893.64, 1316.49)\" x=\"1893.64\" y=\"1316.49\">Approximation</text>\n",
       "</g>\n",
       "</svg>\n"
      ]
     },
     "execution_count": 15,
     "metadata": {},
     "output_type": "execute_result"
    }
   ],
   "source": [
    "#Plotting\n",
    "k=K[1]:0.01:K[end]\n",
    "\n",
    "cn2plot(k) = cn(k,α)\n",
    "plot(k,[cn2plot.(k)],label=[\"Approximation\"],legend=:bottomright)"
   ]
  },
  {
   "cell_type": "markdown",
   "metadata": {},
   "source": [
    "This seems a fair approximation to the consumption function."
   ]
  },
  {
   "cell_type": "markdown",
   "metadata": {},
   "source": [
    "## Question 2"
   ]
  },
  {
   "cell_type": "markdown",
   "metadata": {},
   "source": [
    "The Problem is:\n",
    "$$ \\max \\int_0^\\infty  e^{-\\rho t} \\log(c)\\, dt$$"
   ]
  },
  {
   "cell_type": "markdown",
   "metadata": {},
   "source": [
    "s.t.\n",
    "$$dk = (Ak^\\theta -\\delta k ) dt -c$$"
   ]
  },
  {
   "cell_type": "markdown",
   "metadata": {},
   "source": [
    "The Bellman's equation for this problem is:\n",
    "$$ \\rho V(k) = \\max \\log(c) + V'(k)(Ak^\\theta - \\delta k) -c) $$"
   ]
  },
  {
   "cell_type": "markdown",
   "metadata": {},
   "source": [
    "The maximization problem FOC is:\n",
    "$$\\frac{1}{c} = V'(k) $$"
   ]
  },
  {
   "cell_type": "markdown",
   "metadata": {},
   "source": [
    "By the envelope theorem:\n",
    "$$\\rho V'(k) = V'(k)(\\theta A k^{\\theta - 1} - \\delta) + V''(k)(Ak^\\theta-\\delta k - c) $$ "
   ]
  },
  {
   "cell_type": "markdown",
   "metadata": {},
   "source": [
    "From the FOC:\n",
    "$$ V''(k) = -\\frac{1}{c(k)^2} c'(k)$$"
   ]
  },
  {
   "cell_type": "markdown",
   "metadata": {},
   "source": [
    "Combining the expressions above, we get the differential equation:\n",
    "  $$c(k)(\\theta A k^{\\theta-1}-(\\delta +\\rho) = (Ak^\\theta - \\delta k -c(k)) c'(k) $$"
   ]
  },
  {
   "cell_type": "markdown",
   "metadata": {},
   "source": [
    "We also have in the Steady State:\n",
    "$$k_{ss} = \\left(\\frac{\\delta+\\rho}{\\theta A}\\right)^{\\frac{1}{\\theta-1}} $$\n",
    "$$c_{ss} = Ak_{ss}^\\theta - \\delta k_{ss} $$\n"
   ]
  },
  {
   "cell_type": "markdown",
   "metadata": {},
   "source": [
    "I don't really see how having $\\delta = 1$ would help me having a test case. Candler's chapter in Marimon & Scott book claims that we do not have closed form solutions for arbitrary parameters, but we do have when utility is CRRA with parameter 0.5, which is not our case here. So, unfortunately I will not have a comparison."
   ]
  },
  {
   "cell_type": "markdown",
   "metadata": {},
   "source": [
    "The functional equation is thus:\n",
    " $$F(c)(k) = c(k)(\\theta A k^{\\theta-1}-(\\delta +\\rho) - (Ak^\\theta - \\delta k -c(k)) c'(k) = 0 $$"
   ]
  },
  {
   "cell_type": "markdown",
   "metadata": {},
   "source": [
    "Let's define some parameters:"
   ]
  },
  {
   "cell_type": "code",
   "execution_count": 16,
   "metadata": {},
   "outputs": [
    {
     "data": {
      "text/plain": [
       "1.0"
      ]
     },
     "execution_count": 16,
     "metadata": {},
     "output_type": "execute_result"
    }
   ],
   "source": [
    "#Defining parameters\n",
    "θ = 0.25\n",
    "ρ = -log(0.9)\n",
    "δ = 1\n",
    "A = (δ + ρ)/θ  #This will normalize the SS to 1\n",
    "kss = ((δ+ρ)/(A*θ))^(1/(θ-1))"
   ]
  },
  {
   "cell_type": "markdown",
   "metadata": {},
   "source": [
    "We'll use the finite element methods, so all functions defined above are useful. We need only first to define the derivative of the piecewise linear function:"
   ]
  },
  {
   "cell_type": "code",
   "execution_count": 17,
   "metadata": {},
   "outputs": [
    {
     "data": {
      "text/plain": [
       "derivϕi (generic function with 1 method)"
      ]
     },
     "execution_count": 17,
     "metadata": {},
     "output_type": "execute_result"
    }
   ],
   "source": [
    "function derivϕi(x,X,i)\n",
    "    if i>1 && i<length(X) #i is not in a boundary\n",
    "        if X[i-1]<=x<=X[i]\n",
    "            f = 1/(X[i]-X[i-1])\n",
    "        elseif X[i]<=x<=X[i+1]\n",
    "            f = -1/(X[i+1]-X[i])\n",
    "        else\n",
    "            f = 0\n",
    "        end\n",
    "    elseif i==1\n",
    "        if X[i]<=x<=X[i+1]\n",
    "            f = -1/(X[i+1]-X[i])\n",
    "        else\n",
    "            f = 0\n",
    "        end\n",
    "    elseif i==length(X)\n",
    "        if X[i-1]<=x<=X[i]\n",
    "            f = 1/(X[i]-X[i-1])\n",
    "        else\n",
    "            f=0\n",
    "        end\n",
    "    end\n",
    "    return f\n",
    "end"
   ]
  },
  {
   "cell_type": "code",
   "execution_count": 18,
   "metadata": {},
   "outputs": [
    {
     "data": {
      "text/plain": [
       "15-element Array{Float64,1}:\n",
       " 0.0                  \n",
       " 0.0005               \n",
       " 0.0013876771423281366\n",
       " 0.0029636185603518304\n",
       " 0.0057614729092074785\n",
       " 0.010728655615292541 \n",
       " 0.019547164715211198 \n",
       " 0.03520314263003213  \n",
       " 0.06299805010159346  \n",
       " 0.11234385817285451  \n",
       " 0.19995014996199395  \n",
       " 0.35548235545269025  \n",
       " 0.6316071228726379   \n",
       " 1.1218264118113592   \n",
       " 1.9921393268498697   "
      ]
     },
     "execution_count": 18,
     "metadata": {},
     "output_type": "execute_result"
    }
   ],
   "source": [
    "#Defining the elements:\n",
    "K = zeros(15)\n",
    "for i=2:length(K)\n",
    "    global K\n",
    "    K[i] = K[i-1] +0.0005*exp(0.574*(i-2))\n",
    "end\n",
    "K"
   ]
  },
  {
   "cell_type": "markdown",
   "metadata": {},
   "source": [
    "In this way, we can define the derivative of the consumption function:\n"
   ]
  },
  {
   "cell_type": "code",
   "execution_count": 19,
   "metadata": {},
   "outputs": [
    {
     "data": {
      "text/plain": [
       "derivcn (generic function with 1 method)"
      ]
     },
     "execution_count": 19,
     "metadata": {},
     "output_type": "execute_result"
    }
   ],
   "source": [
    "function derivcn(k,α;K=K)\n",
    "#This function is piecewise linear approximation for the derivative of a function with arguments k\n",
    "#To get a good approximations one need to find the parameters α\n",
    "#K are the elements nodes. It is optionally defined here for efficiency. \n",
    "        n = length(K)\n",
    "        c = 0\n",
    "        for i = 1:n\n",
    "            c = c + α[i]*derivϕi(k,K,i)\n",
    "        end\n",
    "        return c\n",
    "end"
   ]
  },
  {
   "cell_type": "markdown",
   "metadata": {},
   "source": [
    "Naturally, we'll need to redefine the residual function:"
   ]
  },
  {
   "cell_type": "code",
   "execution_count": 20,
   "metadata": {},
   "outputs": [
    {
     "data": {
      "text/plain": [
       "residual (generic function with 1 method)"
      ]
     },
     "execution_count": 20,
     "metadata": {},
     "output_type": "execute_result"
    }
   ],
   "source": [
    "include(\"finite_elements_functions.jl\")\n",
    "#Defining the residual function from Euler equation:\n",
    "function residual(k,α)\n",
    "    #This function is specific for the deterministic growth model.\n",
    "    #Residual function comes from FOCs\n",
    "    #cn is an approximation for consumption\n",
    "    #derivcn is an approxiamtion for the derivative of consumption.\n",
    "        R = θ*A*k^(θ-1)-(δ+ρ) - derivcn(k,α)/cn(k,α) * (A*k^θ-δ*k-cn(k,α))\n",
    "    return R\n",
    "end"
   ]
  },
  {
   "cell_type": "markdown",
   "metadata": {},
   "source": [
    "We can proceed with the maximization process as before:"
   ]
  },
  {
   "cell_type": "code",
   "execution_count": 21,
   "metadata": {},
   "outputs": [
    {
     "data": {
      "text/plain": [
       "14-element Array{Float64,1}:\n",
       " 0.05               \n",
       " 0.21500000000000002\n",
       " 0.3937423661663682 \n",
       " 0.5873716598800169 \n",
       " 0.7971277696830488 \n",
       " 1.0243538507984817 \n",
       " 1.2705049259092913 \n",
       " 1.5371572022711186 \n",
       " 1.8260181648199754 \n",
       " 2.1389375099052925 \n",
       " 2.477918989661534  \n",
       " 2.845133242862791  \n",
       " 3.2429316944216304 \n",
       " 3.6738616125364447 "
      ]
     },
     "execution_count": 21,
     "metadata": {},
     "output_type": "execute_result"
    }
   ],
   "source": [
    "#Setting initial conditions\n",
    "\n",
    "initial = ones(length(K)-1)*0.05\n",
    "for i=2:length(initial)\n",
    "    global initial\n",
    "    initial[i] = initial[i-1] +0.165*exp(0.08*(i-2))\n",
    "end\n",
    "initial\n",
    "#Check if the initial conditions are somewhat close to the true parameters.\n",
    "#mini(initial)"
   ]
  },
  {
   "cell_type": "code",
   "execution_count": 53,
   "metadata": {},
   "outputs": [
    {
     "data": {
      "text/plain": [
       "15-element Array{Float64,1}:\n",
       " 0.0                \n",
       " 0.19396272687684454\n",
       " 0.42643297440642164\n",
       " 0.659358606555276  \n",
       " 0.5615689980755327 \n",
       " 0.7529694430997189 \n",
       " 0.6153895256123474 \n",
       " 0.7995275668295624 \n",
       " 1.0422042487340248 \n",
       " 1.1889787934266627 \n",
       " 1.617465258477728  \n",
       " 2.0926639905250934 \n",
       " 2.7250222831048774 \n",
       " 3.6847649563027844 \n",
       " 4.906164184156026  "
      ]
     },
     "execution_count": 53,
     "metadata": {},
     "output_type": "execute_result"
    }
   ],
   "source": [
    "#Solver stuff:\n",
    "    #lower and upper bound of the parameters:\n",
    "    lower = zeros(length(initial))\n",
    "    upper = Inf*ones(length(initial))\n",
    "    #Optimizer method is BFGS, see Judd's book page 114 for an explanation:\n",
    "    inner_optimizer = BFGS()\n",
    "\n",
    "\n",
    "#Solver:\n",
    "bla = optimize(mini,lower,upper,initial, Fminbox(inner_optimizer))\n",
    "#Parameters\n",
    "αcont = vcat(0,bla.minimizer)"
   ]
  },
  {
   "cell_type": "code",
   "execution_count": 54,
   "metadata": {},
   "outputs": [
    {
     "data": {
      "image/svg+xml": [
       "<?xml version=\"1.0\" encoding=\"utf-8\"?>\n",
       "<svg xmlns=\"http://www.w3.org/2000/svg\" xmlns:xlink=\"http://www.w3.org/1999/xlink\" width=\"600\" height=\"400\" viewBox=\"0 0 2400 1600\">\n",
       "<defs>\n",
       "  <clipPath id=\"clip7800\">\n",
       "    <rect x=\"0\" y=\"0\" width=\"2000\" height=\"2000\"/>\n",
       "  </clipPath>\n",
       "</defs>\n",
       "<defs>\n",
       "  <clipPath id=\"clip7801\">\n",
       "    <rect x=\"0\" y=\"0\" width=\"2400\" height=\"1600\"/>\n",
       "  </clipPath>\n",
       "</defs>\n",
       "<polygon clip-path=\"url(#clip7801)\" points=\"\n",
       "0,1600 2400,1600 2400,0 0,0 \n",
       "  \" fill=\"#ffffff\" fill-rule=\"evenodd\" fill-opacity=\"1\"/>\n",
       "<defs>\n",
       "  <clipPath id=\"clip7802\">\n",
       "    <rect x=\"480\" y=\"0\" width=\"1681\" height=\"1600\"/>\n",
       "  </clipPath>\n",
       "</defs>\n",
       "<polygon clip-path=\"url(#clip7801)\" points=\"\n",
       "121.251,1503.47 2321.26,1503.47 2321.26,47.2441 121.251,47.2441 \n",
       "  \" fill=\"#ffffff\" fill-rule=\"evenodd\" fill-opacity=\"1\"/>\n",
       "<defs>\n",
       "  <clipPath id=\"clip7803\">\n",
       "    <rect x=\"121\" y=\"47\" width=\"2201\" height=\"1457\"/>\n",
       "  </clipPath>\n",
       "</defs>\n",
       "<polyline clip-path=\"url(#clip7803)\" style=\"stroke:#000000; stroke-width:2; stroke-opacity:0.1; fill:none\" points=\"\n",
       "  183.515,1503.47 183.515,47.2441 \n",
       "  \"/>\n",
       "<polyline clip-path=\"url(#clip7803)\" style=\"stroke:#000000; stroke-width:2; stroke-opacity:0.1; fill:none\" points=\"\n",
       "  704.992,1503.47 704.992,47.2441 \n",
       "  \"/>\n",
       "<polyline clip-path=\"url(#clip7803)\" style=\"stroke:#000000; stroke-width:2; stroke-opacity:0.1; fill:none\" points=\"\n",
       "  1226.47,1503.47 1226.47,47.2441 \n",
       "  \"/>\n",
       "<polyline clip-path=\"url(#clip7803)\" style=\"stroke:#000000; stroke-width:2; stroke-opacity:0.1; fill:none\" points=\"\n",
       "  1747.95,1503.47 1747.95,47.2441 \n",
       "  \"/>\n",
       "<polyline clip-path=\"url(#clip7803)\" style=\"stroke:#000000; stroke-width:2; stroke-opacity:0.1; fill:none\" points=\"\n",
       "  2269.42,1503.47 2269.42,47.2441 \n",
       "  \"/>\n",
       "<polyline clip-path=\"url(#clip7803)\" style=\"stroke:#000000; stroke-width:2; stroke-opacity:0.1; fill:none\" points=\"\n",
       "  121.251,1462.26 2321.26,1462.26 \n",
       "  \"/>\n",
       "<polyline clip-path=\"url(#clip7803)\" style=\"stroke:#000000; stroke-width:2; stroke-opacity:0.1; fill:none\" points=\"\n",
       "  121.251,1182.07 2321.26,1182.07 \n",
       "  \"/>\n",
       "<polyline clip-path=\"url(#clip7803)\" style=\"stroke:#000000; stroke-width:2; stroke-opacity:0.1; fill:none\" points=\"\n",
       "  121.251,901.887 2321.26,901.887 \n",
       "  \"/>\n",
       "<polyline clip-path=\"url(#clip7803)\" style=\"stroke:#000000; stroke-width:2; stroke-opacity:0.1; fill:none\" points=\"\n",
       "  121.251,621.699 2321.26,621.699 \n",
       "  \"/>\n",
       "<polyline clip-path=\"url(#clip7803)\" style=\"stroke:#000000; stroke-width:2; stroke-opacity:0.1; fill:none\" points=\"\n",
       "  121.251,341.512 2321.26,341.512 \n",
       "  \"/>\n",
       "<polyline clip-path=\"url(#clip7803)\" style=\"stroke:#000000; stroke-width:2; stroke-opacity:0.1; fill:none\" points=\"\n",
       "  121.251,61.3254 2321.26,61.3254 \n",
       "  \"/>\n",
       "<polyline clip-path=\"url(#clip7801)\" style=\"stroke:#000000; stroke-width:4; stroke-opacity:1; fill:none\" points=\"\n",
       "  121.251,1503.47 2321.26,1503.47 \n",
       "  \"/>\n",
       "<polyline clip-path=\"url(#clip7801)\" style=\"stroke:#000000; stroke-width:4; stroke-opacity:1; fill:none\" points=\"\n",
       "  121.251,1503.47 121.251,47.2441 \n",
       "  \"/>\n",
       "<polyline clip-path=\"url(#clip7801)\" style=\"stroke:#000000; stroke-width:4; stroke-opacity:1; fill:none\" points=\"\n",
       "  183.515,1503.47 183.515,1481.63 \n",
       "  \"/>\n",
       "<polyline clip-path=\"url(#clip7801)\" style=\"stroke:#000000; stroke-width:4; stroke-opacity:1; fill:none\" points=\"\n",
       "  704.992,1503.47 704.992,1481.63 \n",
       "  \"/>\n",
       "<polyline clip-path=\"url(#clip7801)\" style=\"stroke:#000000; stroke-width:4; stroke-opacity:1; fill:none\" points=\"\n",
       "  1226.47,1503.47 1226.47,1481.63 \n",
       "  \"/>\n",
       "<polyline clip-path=\"url(#clip7801)\" style=\"stroke:#000000; stroke-width:4; stroke-opacity:1; fill:none\" points=\"\n",
       "  1747.95,1503.47 1747.95,1481.63 \n",
       "  \"/>\n",
       "<polyline clip-path=\"url(#clip7801)\" style=\"stroke:#000000; stroke-width:4; stroke-opacity:1; fill:none\" points=\"\n",
       "  2269.42,1503.47 2269.42,1481.63 \n",
       "  \"/>\n",
       "<polyline clip-path=\"url(#clip7801)\" style=\"stroke:#000000; stroke-width:4; stroke-opacity:1; fill:none\" points=\"\n",
       "  121.251,1462.26 154.251,1462.26 \n",
       "  \"/>\n",
       "<polyline clip-path=\"url(#clip7801)\" style=\"stroke:#000000; stroke-width:4; stroke-opacity:1; fill:none\" points=\"\n",
       "  121.251,1182.07 154.251,1182.07 \n",
       "  \"/>\n",
       "<polyline clip-path=\"url(#clip7801)\" style=\"stroke:#000000; stroke-width:4; stroke-opacity:1; fill:none\" points=\"\n",
       "  121.251,901.887 154.251,901.887 \n",
       "  \"/>\n",
       "<polyline clip-path=\"url(#clip7801)\" style=\"stroke:#000000; stroke-width:4; stroke-opacity:1; fill:none\" points=\"\n",
       "  121.251,621.699 154.251,621.699 \n",
       "  \"/>\n",
       "<polyline clip-path=\"url(#clip7801)\" style=\"stroke:#000000; stroke-width:4; stroke-opacity:1; fill:none\" points=\"\n",
       "  121.251,341.512 154.251,341.512 \n",
       "  \"/>\n",
       "<polyline clip-path=\"url(#clip7801)\" style=\"stroke:#000000; stroke-width:4; stroke-opacity:1; fill:none\" points=\"\n",
       "  121.251,61.3254 154.251,61.3254 \n",
       "  \"/>\n",
       "<g clip-path=\"url(#clip7801)\">\n",
       "<text style=\"fill:#000000; fill-opacity:1; font-family:Arial,Helvetica Neue,Helvetica,sans-serif; font-size:48px; text-anchor:middle;\" transform=\"rotate(0, 183.515, 1557.47)\" x=\"183.515\" y=\"1557.47\">0.0</text>\n",
       "</g>\n",
       "<g clip-path=\"url(#clip7801)\">\n",
       "<text style=\"fill:#000000; fill-opacity:1; font-family:Arial,Helvetica Neue,Helvetica,sans-serif; font-size:48px; text-anchor:middle;\" transform=\"rotate(0, 704.992, 1557.47)\" x=\"704.992\" y=\"1557.47\">0.5</text>\n",
       "</g>\n",
       "<g clip-path=\"url(#clip7801)\">\n",
       "<text style=\"fill:#000000; fill-opacity:1; font-family:Arial,Helvetica Neue,Helvetica,sans-serif; font-size:48px; text-anchor:middle;\" transform=\"rotate(0, 1226.47, 1557.47)\" x=\"1226.47\" y=\"1557.47\">1.0</text>\n",
       "</g>\n",
       "<g clip-path=\"url(#clip7801)\">\n",
       "<text style=\"fill:#000000; fill-opacity:1; font-family:Arial,Helvetica Neue,Helvetica,sans-serif; font-size:48px; text-anchor:middle;\" transform=\"rotate(0, 1747.95, 1557.47)\" x=\"1747.95\" y=\"1557.47\">1.5</text>\n",
       "</g>\n",
       "<g clip-path=\"url(#clip7801)\">\n",
       "<text style=\"fill:#000000; fill-opacity:1; font-family:Arial,Helvetica Neue,Helvetica,sans-serif; font-size:48px; text-anchor:middle;\" transform=\"rotate(0, 2269.42, 1557.47)\" x=\"2269.42\" y=\"1557.47\">2.0</text>\n",
       "</g>\n",
       "<g clip-path=\"url(#clip7801)\">\n",
       "<text style=\"fill:#000000; fill-opacity:1; font-family:Arial,Helvetica Neue,Helvetica,sans-serif; font-size:48px; text-anchor:end;\" transform=\"rotate(0, 97.2505, 1479.76)\" x=\"97.2505\" y=\"1479.76\">0</text>\n",
       "</g>\n",
       "<g clip-path=\"url(#clip7801)\">\n",
       "<text style=\"fill:#000000; fill-opacity:1; font-family:Arial,Helvetica Neue,Helvetica,sans-serif; font-size:48px; text-anchor:end;\" transform=\"rotate(0, 97.2505, 1199.57)\" x=\"97.2505\" y=\"1199.57\">1</text>\n",
       "</g>\n",
       "<g clip-path=\"url(#clip7801)\">\n",
       "<text style=\"fill:#000000; fill-opacity:1; font-family:Arial,Helvetica Neue,Helvetica,sans-serif; font-size:48px; text-anchor:end;\" transform=\"rotate(0, 97.2505, 919.387)\" x=\"97.2505\" y=\"919.387\">2</text>\n",
       "</g>\n",
       "<g clip-path=\"url(#clip7801)\">\n",
       "<text style=\"fill:#000000; fill-opacity:1; font-family:Arial,Helvetica Neue,Helvetica,sans-serif; font-size:48px; text-anchor:end;\" transform=\"rotate(0, 97.2505, 639.199)\" x=\"97.2505\" y=\"639.199\">3</text>\n",
       "</g>\n",
       "<g clip-path=\"url(#clip7801)\">\n",
       "<text style=\"fill:#000000; fill-opacity:1; font-family:Arial,Helvetica Neue,Helvetica,sans-serif; font-size:48px; text-anchor:end;\" transform=\"rotate(0, 97.2505, 359.012)\" x=\"97.2505\" y=\"359.012\">4</text>\n",
       "</g>\n",
       "<g clip-path=\"url(#clip7801)\">\n",
       "<text style=\"fill:#000000; fill-opacity:1; font-family:Arial,Helvetica Neue,Helvetica,sans-serif; font-size:48px; text-anchor:end;\" transform=\"rotate(0, 97.2505, 78.8254)\" x=\"97.2505\" y=\"78.8254\">5</text>\n",
       "</g>\n",
       "<polyline clip-path=\"url(#clip7803)\" style=\"stroke:#009af9; stroke-width:4; stroke-opacity:1; fill:none\" points=\"\n",
       "  183.515,1462.26 193.944,1259.16 204.374,1288.34 214.804,1255.39 225.233,1226.51 235.663,1202.05 246.092,1177.58 256.522,1164.41 266.951,1156.08 277.381,1147.75 \n",
       "  287.81,1139.41 298.24,1131.08 308.67,1118.63 319.099,1104.93 329.529,1091.22 339.958,1077.52 350.388,1063.82 360.817,1050.11 371.247,1036.41 381.676,1022.7 \n",
       "  392.106,1009.03 402.535,1000.46 412.965,991.904 423.395,983.343 433.824,974.783 444.254,966.222 454.683,957.662 465.113,949.101 475.542,940.541 485.972,931.98 \n",
       "  496.401,923.419 506.831,914.859 517.261,906.298 527.69,897.738 538.12,889.177 548.549,880.617 558.979,873.024 569.408,866.608 579.838,860.191 590.267,853.775 \n",
       "  600.697,847.358 611.127,840.941 621.556,834.525 631.986,828.108 642.415,821.692 652.845,815.275 663.274,808.858 673.704,802.442 684.133,796.025 694.563,789.609 \n",
       "  704.992,783.192 715.422,776.775 725.852,770.359 736.281,763.942 746.711,757.525 757.14,751.109 767.57,744.692 777.999,738.276 788.429,731.859 798.858,725.442 \n",
       "  809.288,719.026 819.718,712.609 830.147,706.193 840.577,699.776 851.006,694.141 861.436,688.655 871.865,683.17 882.295,677.684 892.724,672.199 903.154,666.714 \n",
       "  913.583,661.228 924.013,655.743 934.443,650.257 944.872,644.772 955.302,639.286 965.731,633.801 976.161,628.315 986.59,622.83 997.02,617.344 1007.45,611.859 \n",
       "  1017.88,606.374 1028.31,600.888 1038.74,595.403 1049.17,589.917 1059.6,584.432 1070.03,578.946 1080.46,573.461 1090.89,567.975 1101.32,562.49 1111.74,557.004 \n",
       "  1122.17,551.519 1132.6,546.034 1143.03,540.548 1153.46,535.063 1163.89,529.577 1174.32,524.092 1184.75,518.606 1195.18,513.121 1205.61,507.635 1216.04,502.15 \n",
       "  1226.47,496.665 1236.9,491.179 1247.33,485.694 1257.76,480.208 1268.19,474.723 1278.62,469.237 1289.05,463.752 1299.48,458.266 1309.91,452.781 1320.34,447.295 \n",
       "  1330.77,441.81 1341.2,436.325 1351.62,430.839 1362.05,426.623 1372.48,422.691 1382.91,418.759 1393.34,414.827 1403.77,410.895 1414.2,406.962 1424.63,403.03 \n",
       "  1435.06,399.098 1445.49,395.166 1455.92,391.234 1466.35,387.302 1476.78,383.37 1487.21,379.437 1497.64,375.505 1508.07,371.573 1518.5,367.641 1528.93,363.709 \n",
       "  1539.36,359.777 1549.79,355.844 1560.22,351.912 1570.65,347.98 1581.07,344.048 1591.5,340.116 1601.93,336.184 1612.36,332.252 1622.79,328.319 1633.22,324.387 \n",
       "  1643.65,320.455 1654.08,316.523 1664.51,312.591 1674.94,308.659 1685.37,304.727 1695.8,300.794 1706.23,296.862 1716.66,292.93 1727.09,288.998 1737.52,285.066 \n",
       "  1747.95,281.134 1758.38,277.201 1768.81,273.269 1779.24,269.337 1789.67,265.405 1800.1,261.473 1810.52,257.541 1820.95,253.609 1831.38,249.676 1841.81,245.744 \n",
       "  1852.24,241.812 1862.67,237.88 1873.1,233.948 1883.53,230.016 1893.96,226.083 1904.39,222.151 1914.82,218.219 1925.25,214.287 1935.68,210.355 1946.11,206.423 \n",
       "  1956.54,202.491 1966.97,198.558 1977.4,194.626 1987.83,190.694 1998.26,186.762 2008.69,182.83 2019.12,178.898 2029.55,174.966 2039.97,171.033 2050.4,167.101 \n",
       "  2060.83,163.169 2071.26,159.237 2081.69,155.305 2092.12,151.373 2102.55,147.44 2112.98,143.508 2123.41,139.576 2133.84,135.644 2144.27,131.712 2154.7,127.78 \n",
       "  2165.13,123.848 2175.56,119.915 2185.99,115.983 2196.42,112.051 2206.85,108.119 2217.28,104.187 2227.71,100.255 2238.14,96.3225 2248.57,92.3903 2259,88.4582 \n",
       "  \n",
       "  \"/>\n",
       "<polygon clip-path=\"url(#clip7801)\" points=\"\n",
       "1340.49,1359.47 2249.26,1359.47 2249.26,1238.51 1340.49,1238.51 \n",
       "  \" fill=\"#ffffff\" fill-rule=\"evenodd\" fill-opacity=\"1\"/>\n",
       "<polyline clip-path=\"url(#clip7801)\" style=\"stroke:#000000; stroke-width:4; stroke-opacity:1; fill:none\" points=\"\n",
       "  1340.49,1359.47 2249.26,1359.47 2249.26,1238.51 1340.49,1238.51 1340.49,1359.47 \n",
       "  \"/>\n",
       "<polyline clip-path=\"url(#clip7801)\" style=\"stroke:#009af9; stroke-width:4; stroke-opacity:1; fill:none\" points=\"\n",
       "  1364.49,1298.99 1508.49,1298.99 \n",
       "  \"/>\n",
       "<g clip-path=\"url(#clip7801)\">\n",
       "<text style=\"fill:#000000; fill-opacity:1; font-family:Arial,Helvetica Neue,Helvetica,sans-serif; font-size:48px; text-anchor:start;\" transform=\"rotate(0, 1532.49, 1316.49)\" x=\"1532.49\" y=\"1316.49\">Continuous time Approximation</text>\n",
       "</g>\n",
       "</svg>\n"
      ]
     },
     "execution_count": 54,
     "metadata": {},
     "output_type": "execute_result"
    }
   ],
   "source": [
    "\n",
    "#Plotting\n",
    "k=K[1]:0.01:K[end]\n",
    "\n",
    "#c(k) = (1-β*θ)*A*k^θ\n",
    "contplot(k) = cn(k,αcont)\n",
    "\n",
    "plot(k,[contplot.(k)],label=[\"Continuous time Approximation\"],legend=:bottomright)"
   ]
  },
  {
   "cell_type": "markdown",
   "metadata": {},
   "source": [
    "This looks like a good consumption function!"
   ]
  },
  {
   "cell_type": "markdown",
   "metadata": {},
   "source": [
    "\n",
    "## Question 3"
   ]
  },
  {
   "cell_type": "markdown",
   "metadata": {},
   "source": [
    "It has been a while since the last time I opened the HW 1 codes. Sometimes a person should not revolve his past, but let's do it!"
   ]
  },
  {
   "cell_type": "code",
   "execution_count": 69,
   "metadata": {},
   "outputs": [
    {
     "data": {
      "text/plain": [
       "([-75.1926; 10.9757; … ; 12.5878; 12.5899], [1; 26; … ; 90; 90], [150; 150; … ; 150; 150], [0.000542535; 1.17705; … ; 4.08135; 4.09023], 2.220446049250313e-16:0.013370062596307849:1.9921393268498697, 0.0:0.006711409395973154:1.0, 7.307295035053245, 1)"
      ]
     },
     "execution_count": 69,
     "metadata": {},
     "output_type": "execute_result"
    }
   ],
   "source": [
    "#Get the VFI objects, see HW1 or the file \"run_VFI.jl\" to adjust parameters.\n",
    "include(\"HW1_stuff\\\\run_VFI.jl\")"
   ]
  },
  {
   "cell_type": "markdown",
   "metadata": {},
   "source": [
    "Below, I plot the consumption policy functions for the discrete and continuous time case above and compare them with the VFI policy function I found when doing HW1."
   ]
  },
  {
   "cell_type": "code",
   "execution_count": 70,
   "metadata": {},
   "outputs": [
    {
     "data": {
      "image/svg+xml": [
       "<?xml version=\"1.0\" encoding=\"utf-8\"?>\n",
       "<svg xmlns=\"http://www.w3.org/2000/svg\" xmlns:xlink=\"http://www.w3.org/1999/xlink\" width=\"600\" height=\"400\" viewBox=\"0 0 2400 1600\">\n",
       "<defs>\n",
       "  <clipPath id=\"clip9000\">\n",
       "    <rect x=\"0\" y=\"0\" width=\"2000\" height=\"2000\"/>\n",
       "  </clipPath>\n",
       "</defs>\n",
       "<defs>\n",
       "  <clipPath id=\"clip9001\">\n",
       "    <rect x=\"0\" y=\"0\" width=\"2400\" height=\"1600\"/>\n",
       "  </clipPath>\n",
       "</defs>\n",
       "<polygon clip-path=\"url(#clip9001)\" points=\"\n",
       "0,1600 2400,1600 2400,0 0,0 \n",
       "  \" fill=\"#ffffff\" fill-rule=\"evenodd\" fill-opacity=\"1\"/>\n",
       "<defs>\n",
       "  <clipPath id=\"clip9002\">\n",
       "    <rect x=\"480\" y=\"0\" width=\"1681\" height=\"1600\"/>\n",
       "  </clipPath>\n",
       "</defs>\n",
       "<polygon clip-path=\"url(#clip9001)\" points=\"\n",
       "121.251,1503.47 2321.26,1503.47 2321.26,47.2441 121.251,47.2441 \n",
       "  \" fill=\"#ffffff\" fill-rule=\"evenodd\" fill-opacity=\"1\"/>\n",
       "<defs>\n",
       "  <clipPath id=\"clip9003\">\n",
       "    <rect x=\"121\" y=\"47\" width=\"2201\" height=\"1457\"/>\n",
       "  </clipPath>\n",
       "</defs>\n",
       "<polyline clip-path=\"url(#clip9003)\" style=\"stroke:#000000; stroke-width:2; stroke-opacity:0.1; fill:none\" points=\"\n",
       "  183.515,1503.47 183.515,47.2441 \n",
       "  \"/>\n",
       "<polyline clip-path=\"url(#clip9003)\" style=\"stroke:#000000; stroke-width:2; stroke-opacity:0.1; fill:none\" points=\"\n",
       "  704.432,1503.47 704.432,47.2441 \n",
       "  \"/>\n",
       "<polyline clip-path=\"url(#clip9003)\" style=\"stroke:#000000; stroke-width:2; stroke-opacity:0.1; fill:none\" points=\"\n",
       "  1225.35,1503.47 1225.35,47.2441 \n",
       "  \"/>\n",
       "<polyline clip-path=\"url(#clip9003)\" style=\"stroke:#000000; stroke-width:2; stroke-opacity:0.1; fill:none\" points=\"\n",
       "  1746.27,1503.47 1746.27,47.2441 \n",
       "  \"/>\n",
       "<polyline clip-path=\"url(#clip9003)\" style=\"stroke:#000000; stroke-width:2; stroke-opacity:0.1; fill:none\" points=\"\n",
       "  2267.18,1503.47 2267.18,47.2441 \n",
       "  \"/>\n",
       "<polyline clip-path=\"url(#clip9003)\" style=\"stroke:#000000; stroke-width:2; stroke-opacity:0.1; fill:none\" points=\"\n",
       "  121.251,1462.26 2321.26,1462.26 \n",
       "  \"/>\n",
       "<polyline clip-path=\"url(#clip9003)\" style=\"stroke:#000000; stroke-width:2; stroke-opacity:0.1; fill:none\" points=\"\n",
       "  121.251,1182.25 2321.26,1182.25 \n",
       "  \"/>\n",
       "<polyline clip-path=\"url(#clip9003)\" style=\"stroke:#000000; stroke-width:2; stroke-opacity:0.1; fill:none\" points=\"\n",
       "  121.251,902.229 2321.26,902.229 \n",
       "  \"/>\n",
       "<polyline clip-path=\"url(#clip9003)\" style=\"stroke:#000000; stroke-width:2; stroke-opacity:0.1; fill:none\" points=\"\n",
       "  121.251,622.214 2321.26,622.214 \n",
       "  \"/>\n",
       "<polyline clip-path=\"url(#clip9003)\" style=\"stroke:#000000; stroke-width:2; stroke-opacity:0.1; fill:none\" points=\"\n",
       "  121.251,342.198 2321.26,342.198 \n",
       "  \"/>\n",
       "<polyline clip-path=\"url(#clip9003)\" style=\"stroke:#000000; stroke-width:2; stroke-opacity:0.1; fill:none\" points=\"\n",
       "  121.251,62.1827 2321.26,62.1827 \n",
       "  \"/>\n",
       "<polyline clip-path=\"url(#clip9001)\" style=\"stroke:#000000; stroke-width:4; stroke-opacity:1; fill:none\" points=\"\n",
       "  121.251,1503.47 2321.26,1503.47 \n",
       "  \"/>\n",
       "<polyline clip-path=\"url(#clip9001)\" style=\"stroke:#000000; stroke-width:4; stroke-opacity:1; fill:none\" points=\"\n",
       "  121.251,1503.47 121.251,47.2441 \n",
       "  \"/>\n",
       "<polyline clip-path=\"url(#clip9001)\" style=\"stroke:#000000; stroke-width:4; stroke-opacity:1; fill:none\" points=\"\n",
       "  183.515,1503.47 183.515,1481.63 \n",
       "  \"/>\n",
       "<polyline clip-path=\"url(#clip9001)\" style=\"stroke:#000000; stroke-width:4; stroke-opacity:1; fill:none\" points=\"\n",
       "  704.432,1503.47 704.432,1481.63 \n",
       "  \"/>\n",
       "<polyline clip-path=\"url(#clip9001)\" style=\"stroke:#000000; stroke-width:4; stroke-opacity:1; fill:none\" points=\"\n",
       "  1225.35,1503.47 1225.35,1481.63 \n",
       "  \"/>\n",
       "<polyline clip-path=\"url(#clip9001)\" style=\"stroke:#000000; stroke-width:4; stroke-opacity:1; fill:none\" points=\"\n",
       "  1746.27,1503.47 1746.27,1481.63 \n",
       "  \"/>\n",
       "<polyline clip-path=\"url(#clip9001)\" style=\"stroke:#000000; stroke-width:4; stroke-opacity:1; fill:none\" points=\"\n",
       "  2267.18,1503.47 2267.18,1481.63 \n",
       "  \"/>\n",
       "<polyline clip-path=\"url(#clip9001)\" style=\"stroke:#000000; stroke-width:4; stroke-opacity:1; fill:none\" points=\"\n",
       "  121.251,1462.26 154.251,1462.26 \n",
       "  \"/>\n",
       "<polyline clip-path=\"url(#clip9001)\" style=\"stroke:#000000; stroke-width:4; stroke-opacity:1; fill:none\" points=\"\n",
       "  121.251,1182.25 154.251,1182.25 \n",
       "  \"/>\n",
       "<polyline clip-path=\"url(#clip9001)\" style=\"stroke:#000000; stroke-width:4; stroke-opacity:1; fill:none\" points=\"\n",
       "  121.251,902.229 154.251,902.229 \n",
       "  \"/>\n",
       "<polyline clip-path=\"url(#clip9001)\" style=\"stroke:#000000; stroke-width:4; stroke-opacity:1; fill:none\" points=\"\n",
       "  121.251,622.214 154.251,622.214 \n",
       "  \"/>\n",
       "<polyline clip-path=\"url(#clip9001)\" style=\"stroke:#000000; stroke-width:4; stroke-opacity:1; fill:none\" points=\"\n",
       "  121.251,342.198 154.251,342.198 \n",
       "  \"/>\n",
       "<polyline clip-path=\"url(#clip9001)\" style=\"stroke:#000000; stroke-width:4; stroke-opacity:1; fill:none\" points=\"\n",
       "  121.251,62.1827 154.251,62.1827 \n",
       "  \"/>\n",
       "<g clip-path=\"url(#clip9001)\">\n",
       "<text style=\"fill:#000000; fill-opacity:1; font-family:Arial,Helvetica Neue,Helvetica,sans-serif; font-size:48px; text-anchor:middle;\" transform=\"rotate(0, 183.515, 1557.47)\" x=\"183.515\" y=\"1557.47\">0.0</text>\n",
       "</g>\n",
       "<g clip-path=\"url(#clip9001)\">\n",
       "<text style=\"fill:#000000; fill-opacity:1; font-family:Arial,Helvetica Neue,Helvetica,sans-serif; font-size:48px; text-anchor:middle;\" transform=\"rotate(0, 704.432, 1557.47)\" x=\"704.432\" y=\"1557.47\">0.5</text>\n",
       "</g>\n",
       "<g clip-path=\"url(#clip9001)\">\n",
       "<text style=\"fill:#000000; fill-opacity:1; font-family:Arial,Helvetica Neue,Helvetica,sans-serif; font-size:48px; text-anchor:middle;\" transform=\"rotate(0, 1225.35, 1557.47)\" x=\"1225.35\" y=\"1557.47\">1.0</text>\n",
       "</g>\n",
       "<g clip-path=\"url(#clip9001)\">\n",
       "<text style=\"fill:#000000; fill-opacity:1; font-family:Arial,Helvetica Neue,Helvetica,sans-serif; font-size:48px; text-anchor:middle;\" transform=\"rotate(0, 1746.27, 1557.47)\" x=\"1746.27\" y=\"1557.47\">1.5</text>\n",
       "</g>\n",
       "<g clip-path=\"url(#clip9001)\">\n",
       "<text style=\"fill:#000000; fill-opacity:1; font-family:Arial,Helvetica Neue,Helvetica,sans-serif; font-size:48px; text-anchor:middle;\" transform=\"rotate(0, 2267.18, 1557.47)\" x=\"2267.18\" y=\"1557.47\">2.0</text>\n",
       "</g>\n",
       "<g clip-path=\"url(#clip9001)\">\n",
       "<text style=\"fill:#000000; fill-opacity:1; font-family:Arial,Helvetica Neue,Helvetica,sans-serif; font-size:48px; text-anchor:end;\" transform=\"rotate(0, 97.2505, 1479.76)\" x=\"97.2505\" y=\"1479.76\">0</text>\n",
       "</g>\n",
       "<g clip-path=\"url(#clip9001)\">\n",
       "<text style=\"fill:#000000; fill-opacity:1; font-family:Arial,Helvetica Neue,Helvetica,sans-serif; font-size:48px; text-anchor:end;\" transform=\"rotate(0, 97.2505, 1199.75)\" x=\"97.2505\" y=\"1199.75\">1</text>\n",
       "</g>\n",
       "<g clip-path=\"url(#clip9001)\">\n",
       "<text style=\"fill:#000000; fill-opacity:1; font-family:Arial,Helvetica Neue,Helvetica,sans-serif; font-size:48px; text-anchor:end;\" transform=\"rotate(0, 97.2505, 919.729)\" x=\"97.2505\" y=\"919.729\">2</text>\n",
       "</g>\n",
       "<g clip-path=\"url(#clip9001)\">\n",
       "<text style=\"fill:#000000; fill-opacity:1; font-family:Arial,Helvetica Neue,Helvetica,sans-serif; font-size:48px; text-anchor:end;\" transform=\"rotate(0, 97.2505, 639.714)\" x=\"97.2505\" y=\"639.714\">3</text>\n",
       "</g>\n",
       "<g clip-path=\"url(#clip9001)\">\n",
       "<text style=\"fill:#000000; fill-opacity:1; font-family:Arial,Helvetica Neue,Helvetica,sans-serif; font-size:48px; text-anchor:end;\" transform=\"rotate(0, 97.2505, 359.698)\" x=\"97.2505\" y=\"359.698\">4</text>\n",
       "</g>\n",
       "<g clip-path=\"url(#clip9001)\">\n",
       "<text style=\"fill:#000000; fill-opacity:1; font-family:Arial,Helvetica Neue,Helvetica,sans-serif; font-size:48px; text-anchor:end;\" transform=\"rotate(0, 97.2505, 79.6827)\" x=\"97.2505\" y=\"79.6827\">5</text>\n",
       "</g>\n",
       "<polyline clip-path=\"url(#clip9003)\" style=\"stroke:#009af9; stroke-width:4; stroke-opacity:1; fill:none\" points=\"\n",
       "  183.515,1462.26 197.444,1129.18 211.374,1074.28 225.303,1031.74 239.233,1000.21 253.162,971.703 267.091,950.646 281.021,929.588 294.95,908.531 308.88,892.231 \n",
       "  322.809,879.137 336.738,866.043 350.668,852.95 364.597,839.856 378.527,826.762 392.456,813.871 406.385,805.278 420.315,796.684 434.244,788.091 448.174,779.498 \n",
       "  462.103,770.905 476.032,762.312 489.962,753.719 503.891,745.126 517.821,736.532 531.75,727.939 545.679,719.346 559.609,711.98 573.538,706.366 587.468,700.751 \n",
       "  601.397,695.137 615.326,689.522 629.256,683.908 643.185,678.293 657.115,672.679 671.044,667.064 684.973,661.45 698.903,655.835 712.832,650.221 726.762,644.606 \n",
       "  740.691,638.992 754.62,633.377 768.55,627.763 782.479,622.148 796.409,616.534 810.338,610.919 824.267,605.305 838.197,599.69 852.126,595.555 866.056,591.888 \n",
       "  879.985,588.221 893.914,584.554 907.844,580.887 921.773,577.22 935.703,573.553 949.632,569.885 963.561,566.218 977.491,562.551 991.42,558.884 1005.35,555.217 \n",
       "  1019.28,551.55 1033.21,547.883 1047.14,544.216 1061.07,540.549 1075,536.882 1088.93,533.215 1102.86,529.548 1116.78,525.881 1130.71,522.214 1144.64,518.546 \n",
       "  1158.57,514.879 1172.5,511.212 1186.43,507.545 1200.36,503.878 1214.29,500.211 1228.22,496.544 1242.15,492.877 1256.08,489.21 1270.01,485.543 1283.94,481.876 \n",
       "  1297.87,478.209 1311.8,474.542 1325.73,470.875 1339.66,467.207 1353.58,463.663 1367.51,461.293 1381.44,458.923 1395.37,456.553 1409.3,454.183 1423.23,451.814 \n",
       "  1437.16,449.444 1451.09,447.074 1465.02,444.704 1478.95,442.334 1492.88,439.965 1506.81,437.595 1520.74,435.225 1534.67,432.855 1548.6,430.486 1562.53,428.116 \n",
       "  1576.45,425.746 1590.38,423.376 1604.31,421.006 1618.24,418.637 1632.17,416.267 1646.1,413.897 1660.03,411.527 1673.96,409.157 1687.89,406.788 1701.82,404.418 \n",
       "  1715.75,402.048 1729.68,399.678 1743.61,397.308 1757.54,394.939 1771.47,392.569 1785.4,390.199 1799.33,387.829 1813.25,385.46 1827.18,383.09 1841.11,380.72 \n",
       "  1855.04,378.35 1868.97,375.98 1882.9,373.611 1896.83,371.241 1910.76,368.871 1924.69,366.501 1938.62,364.131 1952.55,361.762 1966.48,359.392 1980.41,357.022 \n",
       "  1994.34,354.652 2008.27,352.283 2022.2,349.913 2036.13,347.543 2050.05,345.173 2063.98,342.803 2077.91,340.434 2091.84,338.064 2105.77,335.694 2119.7,333.324 \n",
       "  2133.63,330.954 2147.56,328.585 2161.49,326.215 2175.42,323.845 2189.35,321.475 2203.28,319.106 2217.21,316.736 2231.14,314.366 2245.07,311.996 2259,309.626 \n",
       "  \n",
       "  \"/>\n",
       "<polyline clip-path=\"url(#clip9003)\" style=\"stroke:#e26f46; stroke-width:4; stroke-opacity:1; fill:none\" points=\"\n",
       "  183.515,1462.14 197.444,1134.29 211.374,1072.24 225.303,1030.63 239.233,998.44 253.162,971.83 267.091,948.959 281.021,928.792 294.95,910.682 308.88,894.199 \n",
       "  322.809,879.037 336.738,864.974 350.668,851.839 364.597,839.501 378.527,827.855 392.456,816.818 406.385,806.32 420.315,796.302 434.244,786.718 448.174,777.525 \n",
       "  462.103,768.688 476.032,760.176 489.962,751.963 503.891,744.025 517.821,736.343 531.75,728.896 545.679,721.67 559.609,714.65 573.538,707.821 587.468,701.174 \n",
       "  601.397,694.696 615.326,688.378 629.256,682.211 643.185,676.187 657.115,670.298 671.044,664.538 684.973,658.9 698.903,653.379 712.832,647.968 726.762,642.663 \n",
       "  740.691,637.459 754.62,632.351 768.55,627.336 782.479,622.41 796.409,617.57 810.338,612.811 824.267,608.13 838.197,603.526 852.126,598.994 866.056,594.532 \n",
       "  879.985,590.139 893.914,585.81 907.844,581.545 921.773,577.341 935.703,573.196 949.632,569.109 963.561,565.076 977.491,561.097 991.42,557.171 1005.35,553.294 \n",
       "  1019.28,549.467 1033.21,545.687 1047.14,541.954 1061.07,538.265 1075,534.62 1088.93,531.017 1102.86,527.456 1116.78,523.935 1130.71,520.453 1144.64,517.01 \n",
       "  1158.57,513.604 1172.5,510.233 1186.43,506.899 1200.36,503.599 1214.29,500.332 1228.22,497.099 1242.15,493.898 1256.08,490.728 1270.01,487.589 1283.94,484.48 \n",
       "  1297.87,481.4 1311.8,478.349 1325.73,475.326 1339.66,472.331 1353.58,469.363 1367.51,466.421 1381.44,463.505 1395.37,460.614 1409.3,457.748 1423.23,454.906 \n",
       "  1437.16,452.089 1451.09,449.294 1465.02,446.523 1478.95,443.774 1492.88,441.047 1506.81,438.342 1520.74,435.658 1534.67,432.994 1548.6,430.352 1562.53,427.73 \n",
       "  1576.45,425.127 1590.38,422.544 1604.31,419.98 1618.24,417.434 1632.17,414.908 1646.1,412.399 1660.03,409.908 1673.96,407.435 1687.89,404.979 1701.82,402.54 \n",
       "  1715.75,400.118 1729.68,397.712 1743.61,395.322 1757.54,392.949 1771.47,390.591 1785.4,388.248 1799.33,385.921 1813.25,383.609 1827.18,381.311 1841.11,379.029 \n",
       "  1855.04,376.76 1868.97,374.506 1882.9,372.265 1896.83,370.038 1910.76,367.825 1924.69,365.625 1938.62,363.439 1952.55,361.265 1966.48,359.104 1980.41,356.956 \n",
       "  1994.34,354.82 2008.27,352.696 2022.2,350.585 2036.13,348.485 2050.05,346.397 2063.98,344.321 2077.91,342.257 2091.84,340.204 2105.77,338.162 2119.7,336.131 \n",
       "  2133.63,334.111 2147.56,332.102 2161.49,330.103 2175.42,328.115 2189.35,326.138 2203.28,324.17 2217.21,322.213 2231.14,320.266 2245.07,318.329 2259,316.401 \n",
       "  \n",
       "  \"/>\n",
       "<polyline clip-path=\"url(#clip9003)\" style=\"stroke:#3da44d; stroke-width:4; stroke-opacity:1; fill:none\" points=\"\n",
       "  183.515,1462.26 197.444,1262.96 211.374,1266.25 225.303,1226.38 239.233,1193.7 253.162,1167.22 267.091,1156.08 281.021,1144.95 294.95,1133.81 308.88,1118.39 \n",
       "  322.809,1100.08 336.738,1081.77 350.668,1063.46 364.597,1045.14 378.527,1026.83 392.456,1008.83 406.385,997.393 420.315,985.954 434.244,974.516 448.174,963.077 \n",
       "  462.103,951.638 476.032,940.2 489.962,928.761 503.891,917.323 517.821,905.884 531.75,894.446 545.679,883.007 559.609,872.749 573.538,864.175 587.468,855.602 \n",
       "  601.397,847.028 615.326,838.454 629.256,829.88 643.185,821.306 657.115,812.733 671.044,804.159 684.973,795.585 698.903,787.011 712.832,778.437 726.762,769.863 \n",
       "  740.691,761.29 754.62,752.716 768.55,744.142 782.479,735.568 796.409,726.994 810.338,718.421 824.267,709.847 838.197,701.273 852.126,693.644 866.056,686.315 \n",
       "  879.985,678.985 893.914,671.656 907.844,664.326 921.773,656.996 935.703,649.667 949.632,642.337 963.561,635.008 977.491,627.678 991.42,620.348 1005.35,613.019 \n",
       "  1019.28,605.689 1033.21,598.36 1047.14,591.03 1061.07,583.7 1075,576.371 1088.93,569.041 1102.86,561.712 1116.78,554.382 1130.71,547.052 1144.64,539.723 \n",
       "  1158.57,532.393 1172.5,525.064 1186.43,517.734 1200.36,510.404 1214.29,503.075 1228.22,495.745 1242.15,488.416 1256.08,481.086 1270.01,473.756 1283.94,466.427 \n",
       "  1297.87,459.097 1311.8,451.768 1325.73,444.438 1339.66,437.108 1353.58,429.974 1367.51,424.72 1381.44,419.466 1395.37,414.212 1409.3,408.958 1423.23,403.704 \n",
       "  1437.16,398.45 1451.09,393.196 1465.02,387.942 1478.95,382.687 1492.88,377.433 1506.81,372.179 1520.74,366.925 1534.67,361.671 1548.6,356.417 1562.53,351.163 \n",
       "  1576.45,345.909 1590.38,340.655 1604.31,335.401 1618.24,330.147 1632.17,324.892 1646.1,319.638 1660.03,314.384 1673.96,309.13 1687.89,303.876 1701.82,298.622 \n",
       "  1715.75,293.368 1729.68,288.114 1743.61,282.86 1757.54,277.606 1771.47,272.351 1785.4,267.097 1799.33,261.843 1813.25,256.589 1827.18,251.335 1841.11,246.081 \n",
       "  1855.04,240.827 1868.97,235.573 1882.9,230.319 1896.83,225.065 1910.76,219.811 1924.69,214.556 1938.62,209.302 1952.55,204.048 1966.48,198.794 1980.41,193.54 \n",
       "  1994.34,188.286 2008.27,183.032 2022.2,177.778 2036.13,172.524 2050.05,167.27 2063.98,162.015 2077.91,156.761 2091.84,151.507 2105.77,146.253 2119.7,140.999 \n",
       "  2133.63,135.745 2147.56,130.491 2161.49,125.237 2175.42,119.983 2189.35,114.729 2203.28,109.475 2217.21,104.22 2231.14,98.9664 2245.07,93.7123 2259,88.4582 \n",
       "  \n",
       "  \"/>\n",
       "<polyline clip-path=\"url(#clip9003)\" style=\"stroke:#c271d2; stroke-width:4; stroke-opacity:1; fill:none\" points=\"\n",
       "  183.515,1462.11 197.444,1132.67 211.374,1071.32 225.303,1028.86 239.233,998.561 253.162,971.713 267.091,949.689 281.021,927.41 294.95,911.531 308.88,894.006 \n",
       "  322.809,878.187 336.738,863.784 350.668,850.579 364.597,838.403 378.527,827.121 392.456,816.623 406.385,806.82 420.315,797.639 434.244,785.271 448.174,777.153 \n",
       "  462.103,769.494 476.032,758.511 489.962,751.658 503.891,745.16 517.821,735.247 531.75,729.382 545.679,720.058 559.609,714.743 573.538,705.933 587.468,701.099 \n",
       "  601.397,696.484 615.326,688.332 629.256,684.118 643.185,676.345 657.115,668.747 671.044,665.059 684.973,657.784 698.903,654.403 712.832,647.421 726.762,644.32 \n",
       "  740.691,637.605 754.62,631.015 768.55,628.288 782.479,621.932 796.409,615.685 810.338,613.288 824.267,607.249 838.197,605.052 852.126,599.204 866.056,593.448 \n",
       "  879.985,591.522 893.914,585.937 907.844,580.434 921.773,578.753 935.703,573.405 949.632,568.13 963.561,566.671 977.491,561.537 991.42,556.47 1005.35,555.213 \n",
       "  1019.28,550.274 1033.21,545.397 1047.14,540.58 1061.07,539.564 1075,534.86 1088.93,530.212 1102.86,525.617 1116.78,524.818 1130.71,520.325 1144.64,515.882 \n",
       "  1158.57,515.23 1172.5,510.882 1186.43,506.579 1200.36,502.321 1214.29,501.85 1228.22,497.678 1242.15,493.547 1256.08,489.457 1270.01,489.15 1283.94,485.139 \n",
       "  1297.87,481.165 1311.8,477.228 1325.73,473.328 1339.66,473.207 1353.58,469.377 1367.51,465.581 1381.44,461.818 1395.37,461.832 1409.3,458.134 1423.23,454.467 \n",
       "  1437.16,450.831 1451.09,450.969 1465.02,447.393 1478.95,443.846 1492.88,440.328 1506.81,436.837 1520.74,437.118 1534.67,433.681 1548.6,430.272 1562.53,426.888 \n",
       "  1576.45,423.53 1590.38,423.94 1604.31,420.632 1618.24,417.348 1632.17,414.087 1646.1,410.85 1660.03,411.38 1673.96,408.189 1687.89,405.02 1701.82,401.873 \n",
       "  1715.75,398.747 1729.68,399.387 1743.61,396.304 1757.54,393.241 1771.47,390.199 1785.4,387.176 1799.33,384.173 1813.25,384.933 1827.18,381.969 1841.11,379.023 \n",
       "  1855.04,376.096 1868.97,373.187 1882.9,370.296 1896.83,371.167 1910.76,368.311 1924.69,365.472 1938.62,362.651 1952.55,359.846 1966.48,357.058 1980.41,358.03 \n",
       "  1994.34,355.274 2008.27,352.533 2022.2,349.809 2036.13,347.1 2050.05,348.15 2063.98,345.471 2077.91,342.807 2091.84,340.158 2105.77,337.523 2119.7,334.903 \n",
       "  2133.63,336.04 2147.56,333.448 2161.49,330.869 2175.42,328.304 2189.35,325.752 2203.28,323.214 2217.21,320.688 2231.14,321.92 2245.07,319.42 2259,316.933 \n",
       "  \n",
       "  \"/>\n",
       "<polygon clip-path=\"url(#clip9001)\" points=\"\n",
       "1586.6,1359.47 2249.26,1359.47 2249.26,1057.07 1586.6,1057.07 \n",
       "  \" fill=\"#ffffff\" fill-rule=\"evenodd\" fill-opacity=\"1\"/>\n",
       "<polyline clip-path=\"url(#clip9001)\" style=\"stroke:#000000; stroke-width:4; stroke-opacity:1; fill:none\" points=\"\n",
       "  1586.6,1359.47 2249.26,1359.47 2249.26,1057.07 1586.6,1057.07 1586.6,1359.47 \n",
       "  \"/>\n",
       "<polyline clip-path=\"url(#clip9001)\" style=\"stroke:#009af9; stroke-width:4; stroke-opacity:1; fill:none\" points=\"\n",
       "  1610.6,1117.55 1754.6,1117.55 \n",
       "  \"/>\n",
       "<g clip-path=\"url(#clip9001)\">\n",
       "<text style=\"fill:#000000; fill-opacity:1; font-family:Arial,Helvetica Neue,Helvetica,sans-serif; font-size:48px; text-anchor:start;\" transform=\"rotate(0, 1778.6, 1135.05)\" x=\"1778.6\" y=\"1135.05\">Finite Elements</text>\n",
       "</g>\n",
       "<polyline clip-path=\"url(#clip9001)\" style=\"stroke:#e26f46; stroke-width:4; stroke-opacity:1; fill:none\" points=\"\n",
       "  1610.6,1178.03 1754.6,1178.03 \n",
       "  \"/>\n",
       "<g clip-path=\"url(#clip9001)\">\n",
       "<text style=\"fill:#000000; fill-opacity:1; font-family:Arial,Helvetica Neue,Helvetica,sans-serif; font-size:48px; text-anchor:start;\" transform=\"rotate(0, 1778.6, 1195.53)\" x=\"1778.6\" y=\"1195.53\">True Function</text>\n",
       "</g>\n",
       "<polyline clip-path=\"url(#clip9001)\" style=\"stroke:#3da44d; stroke-width:4; stroke-opacity:1; fill:none\" points=\"\n",
       "  1610.6,1238.51 1754.6,1238.51 \n",
       "  \"/>\n",
       "<g clip-path=\"url(#clip9001)\">\n",
       "<text style=\"fill:#000000; fill-opacity:1; font-family:Arial,Helvetica Neue,Helvetica,sans-serif; font-size:48px; text-anchor:start;\" transform=\"rotate(0, 1778.6, 1256.01)\" x=\"1778.6\" y=\"1256.01\">Continuous time</text>\n",
       "</g>\n",
       "<polyline clip-path=\"url(#clip9001)\" style=\"stroke:#c271d2; stroke-width:4; stroke-opacity:1; fill:none\" points=\"\n",
       "  1610.6,1298.99 1754.6,1298.99 \n",
       "  \"/>\n",
       "<g clip-path=\"url(#clip9001)\">\n",
       "<text style=\"fill:#000000; fill-opacity:1; font-family:Arial,Helvetica Neue,Helvetica,sans-serif; font-size:48px; text-anchor:start;\" transform=\"rotate(0, 1778.6, 1316.49)\" x=\"1778.6\" y=\"1316.49\">VFI (150 gridpoints)</text>\n",
       "</g>\n",
       "</svg>\n"
      ]
     },
     "execution_count": 70,
     "metadata": {},
     "output_type": "execute_result"
    }
   ],
   "source": [
    "#Plotting the consumption policies\n",
    "plot(k,[cnplot.(k),c.(k),contplot.(k),policy_c],label=[\"Finite Elements\" \"True Function\" \"Continuous time\" \"VFI (150 gridpoints)\"],legend=:bottomright)"
   ]
  },
  {
   "cell_type": "markdown",
   "metadata": {},
   "source": [
    "As we can see above, all the methods produce good results when compared to the true function (I'm using $\\delta = 1$). I'm not sure if the continuous time case is comparable, since the model is using different assumptions and not only a different solution method. The problem with the VFI method is that I used gridpoints andthe function cannot be evaluated at points outside the grid."
   ]
  },
  {
   "cell_type": "markdown",
   "metadata": {},
   "source": [
    "## Question 4"
   ]
  },
  {
   "cell_type": "markdown",
   "metadata": {},
   "source": [
    "Below a plot of the consumption time series generated by each model starting at $0.5k_{ss}$, given the problems found above, I don't plot the continuous time. As we can se, there very small are differences in the time series when compared to the true function."
   ]
  },
  {
   "cell_type": "code",
   "execution_count": 71,
   "metadata": {},
   "outputs": [
    {
     "data": {
      "image/svg+xml": [
       "<?xml version=\"1.0\" encoding=\"utf-8\"?>\n",
       "<svg xmlns=\"http://www.w3.org/2000/svg\" xmlns:xlink=\"http://www.w3.org/1999/xlink\" width=\"600\" height=\"400\" viewBox=\"0 0 2400 1600\">\n",
       "<defs>\n",
       "  <clipPath id=\"clip9200\">\n",
       "    <rect x=\"0\" y=\"0\" width=\"2000\" height=\"2000\"/>\n",
       "  </clipPath>\n",
       "</defs>\n",
       "<defs>\n",
       "  <clipPath id=\"clip9201\">\n",
       "    <rect x=\"0\" y=\"0\" width=\"2400\" height=\"1600\"/>\n",
       "  </clipPath>\n",
       "</defs>\n",
       "<polygon clip-path=\"url(#clip9201)\" points=\"\n",
       "0,1600 2400,1600 2400,0 0,0 \n",
       "  \" fill=\"#ffffff\" fill-rule=\"evenodd\" fill-opacity=\"1\"/>\n",
       "<defs>\n",
       "  <clipPath id=\"clip9202\">\n",
       "    <rect x=\"480\" y=\"0\" width=\"1681\" height=\"1600\"/>\n",
       "  </clipPath>\n",
       "</defs>\n",
       "<polygon clip-path=\"url(#clip9201)\" points=\"\n",
       "161.394,1503.47 2321.26,1503.47 2321.26,47.2441 161.394,47.2441 \n",
       "  \" fill=\"#ffffff\" fill-rule=\"evenodd\" fill-opacity=\"1\"/>\n",
       "<defs>\n",
       "  <clipPath id=\"clip9203\">\n",
       "    <rect x=\"161\" y=\"47\" width=\"2161\" height=\"1457\"/>\n",
       "  </clipPath>\n",
       "</defs>\n",
       "<polyline clip-path=\"url(#clip9203)\" style=\"stroke:#000000; stroke-width:2; stroke-opacity:0.1; fill:none\" points=\"\n",
       "  448.923,1503.47 448.923,47.2441 \n",
       "  \"/>\n",
       "<polyline clip-path=\"url(#clip9203)\" style=\"stroke:#000000; stroke-width:2; stroke-opacity:0.1; fill:none\" points=\"\n",
       "  901.725,1503.47 901.725,47.2441 \n",
       "  \"/>\n",
       "<polyline clip-path=\"url(#clip9203)\" style=\"stroke:#000000; stroke-width:2; stroke-opacity:0.1; fill:none\" points=\"\n",
       "  1354.53,1503.47 1354.53,47.2441 \n",
       "  \"/>\n",
       "<polyline clip-path=\"url(#clip9203)\" style=\"stroke:#000000; stroke-width:2; stroke-opacity:0.1; fill:none\" points=\"\n",
       "  1807.33,1503.47 1807.33,47.2441 \n",
       "  \"/>\n",
       "<polyline clip-path=\"url(#clip9203)\" style=\"stroke:#000000; stroke-width:2; stroke-opacity:0.1; fill:none\" points=\"\n",
       "  2260.13,1503.47 2260.13,47.2441 \n",
       "  \"/>\n",
       "<polyline clip-path=\"url(#clip9203)\" style=\"stroke:#000000; stroke-width:2; stroke-opacity:0.1; fill:none\" points=\"\n",
       "  161.394,1397.32 2321.26,1397.32 \n",
       "  \"/>\n",
       "<polyline clip-path=\"url(#clip9203)\" style=\"stroke:#000000; stroke-width:2; stroke-opacity:0.1; fill:none\" points=\"\n",
       "  161.394,1157.05 2321.26,1157.05 \n",
       "  \"/>\n",
       "<polyline clip-path=\"url(#clip9203)\" style=\"stroke:#000000; stroke-width:2; stroke-opacity:0.1; fill:none\" points=\"\n",
       "  161.394,916.78 2321.26,916.78 \n",
       "  \"/>\n",
       "<polyline clip-path=\"url(#clip9203)\" style=\"stroke:#000000; stroke-width:2; stroke-opacity:0.1; fill:none\" points=\"\n",
       "  161.394,676.511 2321.26,676.511 \n",
       "  \"/>\n",
       "<polyline clip-path=\"url(#clip9203)\" style=\"stroke:#000000; stroke-width:2; stroke-opacity:0.1; fill:none\" points=\"\n",
       "  161.394,436.242 2321.26,436.242 \n",
       "  \"/>\n",
       "<polyline clip-path=\"url(#clip9203)\" style=\"stroke:#000000; stroke-width:2; stroke-opacity:0.1; fill:none\" points=\"\n",
       "  161.394,195.972 2321.26,195.972 \n",
       "  \"/>\n",
       "<polyline clip-path=\"url(#clip9201)\" style=\"stroke:#000000; stroke-width:4; stroke-opacity:1; fill:none\" points=\"\n",
       "  161.394,1503.47 2321.26,1503.47 \n",
       "  \"/>\n",
       "<polyline clip-path=\"url(#clip9201)\" style=\"stroke:#000000; stroke-width:4; stroke-opacity:1; fill:none\" points=\"\n",
       "  161.394,1503.47 161.394,47.2441 \n",
       "  \"/>\n",
       "<polyline clip-path=\"url(#clip9201)\" style=\"stroke:#000000; stroke-width:4; stroke-opacity:1; fill:none\" points=\"\n",
       "  448.923,1503.47 448.923,1481.63 \n",
       "  \"/>\n",
       "<polyline clip-path=\"url(#clip9201)\" style=\"stroke:#000000; stroke-width:4; stroke-opacity:1; fill:none\" points=\"\n",
       "  901.725,1503.47 901.725,1481.63 \n",
       "  \"/>\n",
       "<polyline clip-path=\"url(#clip9201)\" style=\"stroke:#000000; stroke-width:4; stroke-opacity:1; fill:none\" points=\"\n",
       "  1354.53,1503.47 1354.53,1481.63 \n",
       "  \"/>\n",
       "<polyline clip-path=\"url(#clip9201)\" style=\"stroke:#000000; stroke-width:4; stroke-opacity:1; fill:none\" points=\"\n",
       "  1807.33,1503.47 1807.33,1481.63 \n",
       "  \"/>\n",
       "<polyline clip-path=\"url(#clip9201)\" style=\"stroke:#000000; stroke-width:4; stroke-opacity:1; fill:none\" points=\"\n",
       "  2260.13,1503.47 2260.13,1481.63 \n",
       "  \"/>\n",
       "<polyline clip-path=\"url(#clip9201)\" style=\"stroke:#000000; stroke-width:4; stroke-opacity:1; fill:none\" points=\"\n",
       "  161.394,1397.32 193.792,1397.32 \n",
       "  \"/>\n",
       "<polyline clip-path=\"url(#clip9201)\" style=\"stroke:#000000; stroke-width:4; stroke-opacity:1; fill:none\" points=\"\n",
       "  161.394,1157.05 193.792,1157.05 \n",
       "  \"/>\n",
       "<polyline clip-path=\"url(#clip9201)\" style=\"stroke:#000000; stroke-width:4; stroke-opacity:1; fill:none\" points=\"\n",
       "  161.394,916.78 193.792,916.78 \n",
       "  \"/>\n",
       "<polyline clip-path=\"url(#clip9201)\" style=\"stroke:#000000; stroke-width:4; stroke-opacity:1; fill:none\" points=\"\n",
       "  161.394,676.511 193.792,676.511 \n",
       "  \"/>\n",
       "<polyline clip-path=\"url(#clip9201)\" style=\"stroke:#000000; stroke-width:4; stroke-opacity:1; fill:none\" points=\"\n",
       "  161.394,436.242 193.792,436.242 \n",
       "  \"/>\n",
       "<polyline clip-path=\"url(#clip9201)\" style=\"stroke:#000000; stroke-width:4; stroke-opacity:1; fill:none\" points=\"\n",
       "  161.394,195.972 193.792,195.972 \n",
       "  \"/>\n",
       "<g clip-path=\"url(#clip9201)\">\n",
       "<text style=\"fill:#000000; fill-opacity:1; font-family:Arial,Helvetica Neue,Helvetica,sans-serif; font-size:48px; text-anchor:middle;\" transform=\"rotate(0, 448.923, 1557.47)\" x=\"448.923\" y=\"1557.47\">2</text>\n",
       "</g>\n",
       "<g clip-path=\"url(#clip9201)\">\n",
       "<text style=\"fill:#000000; fill-opacity:1; font-family:Arial,Helvetica Neue,Helvetica,sans-serif; font-size:48px; text-anchor:middle;\" transform=\"rotate(0, 901.725, 1557.47)\" x=\"901.725\" y=\"1557.47\">4</text>\n",
       "</g>\n",
       "<g clip-path=\"url(#clip9201)\">\n",
       "<text style=\"fill:#000000; fill-opacity:1; font-family:Arial,Helvetica Neue,Helvetica,sans-serif; font-size:48px; text-anchor:middle;\" transform=\"rotate(0, 1354.53, 1557.47)\" x=\"1354.53\" y=\"1557.47\">6</text>\n",
       "</g>\n",
       "<g clip-path=\"url(#clip9201)\">\n",
       "<text style=\"fill:#000000; fill-opacity:1; font-family:Arial,Helvetica Neue,Helvetica,sans-serif; font-size:48px; text-anchor:middle;\" transform=\"rotate(0, 1807.33, 1557.47)\" x=\"1807.33\" y=\"1557.47\">8</text>\n",
       "</g>\n",
       "<g clip-path=\"url(#clip9201)\">\n",
       "<text style=\"fill:#000000; fill-opacity:1; font-family:Arial,Helvetica Neue,Helvetica,sans-serif; font-size:48px; text-anchor:middle;\" transform=\"rotate(0, 2260.13, 1557.47)\" x=\"2260.13\" y=\"1557.47\">10</text>\n",
       "</g>\n",
       "<g clip-path=\"url(#clip9201)\">\n",
       "<text style=\"fill:#000000; fill-opacity:1; font-family:Arial,Helvetica Neue,Helvetica,sans-serif; font-size:48px; text-anchor:end;\" transform=\"rotate(0, 137.394, 1414.82)\" x=\"137.394\" y=\"1414.82\">2.9</text>\n",
       "</g>\n",
       "<g clip-path=\"url(#clip9201)\">\n",
       "<text style=\"fill:#000000; fill-opacity:1; font-family:Arial,Helvetica Neue,Helvetica,sans-serif; font-size:48px; text-anchor:end;\" transform=\"rotate(0, 137.394, 1174.55)\" x=\"137.394\" y=\"1174.55\">3.0</text>\n",
       "</g>\n",
       "<g clip-path=\"url(#clip9201)\">\n",
       "<text style=\"fill:#000000; fill-opacity:1; font-family:Arial,Helvetica Neue,Helvetica,sans-serif; font-size:48px; text-anchor:end;\" transform=\"rotate(0, 137.394, 934.28)\" x=\"137.394\" y=\"934.28\">3.1</text>\n",
       "</g>\n",
       "<g clip-path=\"url(#clip9201)\">\n",
       "<text style=\"fill:#000000; fill-opacity:1; font-family:Arial,Helvetica Neue,Helvetica,sans-serif; font-size:48px; text-anchor:end;\" transform=\"rotate(0, 137.394, 694.011)\" x=\"137.394\" y=\"694.011\">3.2</text>\n",
       "</g>\n",
       "<g clip-path=\"url(#clip9201)\">\n",
       "<text style=\"fill:#000000; fill-opacity:1; font-family:Arial,Helvetica Neue,Helvetica,sans-serif; font-size:48px; text-anchor:end;\" transform=\"rotate(0, 137.394, 453.742)\" x=\"137.394\" y=\"453.742\">3.3</text>\n",
       "</g>\n",
       "<g clip-path=\"url(#clip9201)\">\n",
       "<text style=\"fill:#000000; fill-opacity:1; font-family:Arial,Helvetica Neue,Helvetica,sans-serif; font-size:48px; text-anchor:end;\" transform=\"rotate(0, 137.394, 213.472)\" x=\"137.394\" y=\"213.472\">3.4</text>\n",
       "</g>\n",
       "<polyline clip-path=\"url(#clip9203)\" style=\"stroke:#009af9; stroke-width:4; stroke-opacity:1; fill:none\" points=\"\n",
       "  222.522,1426.42 448.923,439.577 675.324,160.156 901.725,99.9811 1128.13,91.0869 1354.53,89.8836 1580.93,89.723 1807.33,89.7016 2033.73,89.6988 2260.13,89.6984 \n",
       "  \n",
       "  \"/>\n",
       "<polyline clip-path=\"url(#clip9203)\" style=\"stroke:#e26f46; stroke-width:4; stroke-opacity:1; fill:none\" points=\"\n",
       "  222.522,1405.92 448.923,440.059 675.324,178.334 901.725,111.564 1128.13,94.7861 1354.53,90.5864 1580.93,89.5361 1807.33,89.2735 2033.73,89.2079 2260.13,89.1915 \n",
       "  \n",
       "  \"/>\n",
       "<polyline clip-path=\"url(#clip9203)\" style=\"stroke:#3da44d; stroke-width:4; stroke-opacity:1; fill:none\" points=\"\n",
       "  222.522,1462.26 448.923,456.58 675.324,201.755 901.725,124.258 1128.13,88.4582 1354.53,88.4582 1580.93,88.4582 1807.33,88.4582 2033.73,88.4582 2260.13,88.4582 \n",
       "  \n",
       "  \"/>\n",
       "<polygon clip-path=\"url(#clip9201)\" points=\"\n",
       "1586.6,1359.47 2249.26,1359.47 2249.26,1117.55 1586.6,1117.55 \n",
       "  \" fill=\"#ffffff\" fill-rule=\"evenodd\" fill-opacity=\"1\"/>\n",
       "<polyline clip-path=\"url(#clip9201)\" style=\"stroke:#000000; stroke-width:4; stroke-opacity:1; fill:none\" points=\"\n",
       "  1586.6,1359.47 2249.26,1359.47 2249.26,1117.55 1586.6,1117.55 1586.6,1359.47 \n",
       "  \"/>\n",
       "<polyline clip-path=\"url(#clip9201)\" style=\"stroke:#009af9; stroke-width:4; stroke-opacity:1; fill:none\" points=\"\n",
       "  1610.6,1178.03 1754.6,1178.03 \n",
       "  \"/>\n",
       "<g clip-path=\"url(#clip9201)\">\n",
       "<text style=\"fill:#000000; fill-opacity:1; font-family:Arial,Helvetica Neue,Helvetica,sans-serif; font-size:48px; text-anchor:start;\" transform=\"rotate(0, 1778.6, 1195.53)\" x=\"1778.6\" y=\"1195.53\">Finite Elements</text>\n",
       "</g>\n",
       "<polyline clip-path=\"url(#clip9201)\" style=\"stroke:#e26f46; stroke-width:4; stroke-opacity:1; fill:none\" points=\"\n",
       "  1610.6,1238.51 1754.6,1238.51 \n",
       "  \"/>\n",
       "<g clip-path=\"url(#clip9201)\">\n",
       "<text style=\"fill:#000000; fill-opacity:1; font-family:Arial,Helvetica Neue,Helvetica,sans-serif; font-size:48px; text-anchor:start;\" transform=\"rotate(0, 1778.6, 1256.01)\" x=\"1778.6\" y=\"1256.01\">True Function</text>\n",
       "</g>\n",
       "<polyline clip-path=\"url(#clip9201)\" style=\"stroke:#3da44d; stroke-width:4; stroke-opacity:1; fill:none\" points=\"\n",
       "  1610.6,1298.99 1754.6,1298.99 \n",
       "  \"/>\n",
       "<g clip-path=\"url(#clip9201)\">\n",
       "<text style=\"fill:#000000; fill-opacity:1; font-family:Arial,Helvetica Neue,Helvetica,sans-serif; font-size:48px; text-anchor:start;\" transform=\"rotate(0, 1778.6, 1316.49)\" x=\"1778.6\" y=\"1316.49\">VFI (150 gridpoints)</text>\n",
       "</g>\n",
       "</svg>\n"
      ]
     },
     "execution_count": 71,
     "metadata": {},
     "output_type": "execute_result"
    }
   ],
   "source": [
    "k_finiteelements=0.5*ones(10)\n",
    "k_VFI_index = Int(floor(KVFI/4))*ones(Int,10)\n",
    "true_k =  0.5*ones(10)\n",
    "\n",
    "for i=2:10\n",
    "    global k_finiteelements, k_VFI_index\n",
    "    k_finiteelements[i] = polkplot(k_finiteelements[i-1])\n",
    "    k_VFI_index[i] = policy_k[k_VFI_index[i-1]]\n",
    "    true_k[i] = β*θ*A*true_k[i-1]^θ\n",
    "end\n",
    "c_VFI = policy_c[k_VFI_index]\n",
    "c_finiteelements = cnplot.(k_finiteelements)\n",
    "true_c = c.(true_k)\n",
    "\n",
    "\n",
    "plot(1:10,[c_finiteelements,true_c,c_VFI],label=[\"Finite Elements\" \"True Function\" \"VFI (150 gridpoints)\"],legend=:bottomright)\n"
   ]
  }
 ],
 "metadata": {
  "kernelspec": {
   "display_name": "Julia 1.0.0",
   "language": "julia",
   "name": "julia-1.0"
  },
  "language_info": {
   "file_extension": ".jl",
   "mimetype": "application/julia",
   "name": "julia",
   "version": "1.0.0"
  }
 },
 "nbformat": 4,
 "nbformat_minor": 2
}
